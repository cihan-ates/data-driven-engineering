{
  "nbformat": 4,
  "nbformat_minor": 0,
  "metadata": {
    "colab": {
      "name": "Lecture_2.ipynb",
      "provenance": [],
      "collapsed_sections": [],
      "toc_visible": true
    },
    "kernelspec": {
      "name": "python3",
      "display_name": "Python 3"
    }
  },
  "cells": [
    {
      "cell_type": "markdown",
      "metadata": {
        "id": "cQxGOeC7ZmUj"
      },
      "source": [
        "#Active Session II: Regression"
      ]
    },
    {
      "cell_type": "markdown",
      "metadata": {
        "id": "VpF0Ype1X_L7"
      },
      "source": [
        "#Important Note\n",
        "\n",
        "Lecture notes and notebooks must not be copied and/or distributed without the express permission of ITS.\n",
        "\n",
        "\n",
        "\n"
      ]
    },
    {
      "cell_type": "markdown",
      "metadata": {
        "id": "rA_3sqmEls1m"
      },
      "source": [
        "#1. Problem Definition: Probe into the Data\n",
        "\n",
        "In this dataset, we will look into the relationship between airfoil design and its relationship with noise generation. \n",
        "\n",
        "This NASA data set was obtained from a series of aerodynamic and acoustic tests of two and three-dimensional airfoil blade sections conducted in an anechoic wind tunnel. It comprises different size NACA 0012 airfoils at various wind tunnel speeds and angles of attack. The span of the airfoil and the observer position were the same in all of the experiments. \n",
        "\n",
        "Attribute Information:\n",
        "\n",
        "This problem has the following inputs:\n",
        "1. Frequency, in Hertz.\n",
        "2. Angle of attack, in degrees.\n",
        "3. Chord length, in meters.\n",
        "4. Free-stream velocity, in meters per second.\n",
        "5. Suction side displacement thickness, in meters.\n",
        "\n",
        "The only output is:\n",
        "6. Scaled sound pressure level, in decibels. "
      ]
    },
    {
      "cell_type": "markdown",
      "metadata": {
        "id": "C9yyayGmmaKy"
      },
      "source": [
        "\n",
        "# 2. Preparing the enviroment\n",
        "\n",
        "Import the Python libraries that we will need to (i) load the data, (ii) analyze it, (iii) create our model, (iv) process the results."
      ]
    },
    {
      "cell_type": "code",
      "metadata": {
        "id": "GSLWuZiyZLHI"
      },
      "source": [
        "#Importing the necessary libraries\n",
        "import math\n",
        "import numpy as np\n",
        "import pandas as pd\n",
        "import os\n",
        "import matplotlib.pyplot as plt\n",
        "import seaborn as sns\n",
        "color = sns.color_palette()\n",
        "import matplotlib as mpl"
      ],
      "execution_count": null,
      "outputs": []
    },
    {
      "cell_type": "code",
      "metadata": {
        "id": "X0pHHUILhbq1"
      },
      "source": [
        "# Data Preparation and Scoring\n",
        "from sklearn import preprocessing as pp\n",
        "from scipy.stats import pearsonr\n",
        "from sklearn.model_selection import train_test_split\n",
        "from sklearn.model_selection import KFold\n",
        "from sklearn.model_selection import GridSearchCV\n",
        "from sklearn.metrics import make_scorer\n",
        "from sklearn.metrics import accuracy_score\n",
        "from sklearn.metrics import mean_absolute_error\n",
        "from sklearn.metrics import r2_score\n",
        "from sklearn.metrics import mean_squared_error\n",
        "from matplotlib.colors import LogNorm"
      ],
      "execution_count": null,
      "outputs": []
    },
    {
      "cell_type": "code",
      "metadata": {
        "id": "LKHNGPIqhe9d"
      },
      "source": [
        "# ML Algorithms to be used\n",
        "from sklearn.linear_model import Lasso\n",
        "from sklearn.linear_model import LassoCV\n",
        "from sklearn.linear_model import ElasticNet\n",
        "from sklearn.linear_model import ElasticNetCV\n",
        "from sklearn.svm import SVR\n",
        "from sklearn.linear_model import BayesianRidge\n",
        "\n"
      ],
      "execution_count": null,
      "outputs": []
    },
    {
      "cell_type": "markdown",
      "metadata": {
        "id": "_4cDs8HWmfhF"
      },
      "source": [
        "# 3. Pre-processing\n"
      ]
    },
    {
      "cell_type": "markdown",
      "metadata": {
        "id": "R2p8AIqRvakC"
      },
      "source": [
        "## Loading the Data\n",
        "\n",
        "We need to upload the dataset to Colab enviroment. Pandas library is a practical way to load and read the data from an url. Since the data is only given as tabulated values, we need to add the name of the features as well. "
      ]
    },
    {
      "cell_type": "code",
      "metadata": {
        "id": "q-j5frJTh5vW",
        "colab": {
          "base_uri": "https://localhost:8080/",
          "height": 206
        },
        "outputId": "9c7dba0d-ceaf-407a-cd2b-7e3809ee9b7b"
      },
      "source": [
        "# Loading the data\n",
        "url = 'https://archive.ics.uci.edu/ml/machine-learning-databases/00291/airfoil_self_noise.dat'\n",
        "new_names = ['frequency','angle_attack','chord_length','Free-stream_velocity','displacement_thickness','sound_pressure']\n",
        "data = pd.read_csv(url, names=new_names, delimiter='\\t')\n",
        "data.head()"
      ],
      "execution_count": null,
      "outputs": [
        {
          "output_type": "execute_result",
          "data": {
            "text/html": [
              "<div>\n",
              "<style scoped>\n",
              "    .dataframe tbody tr th:only-of-type {\n",
              "        vertical-align: middle;\n",
              "    }\n",
              "\n",
              "    .dataframe tbody tr th {\n",
              "        vertical-align: top;\n",
              "    }\n",
              "\n",
              "    .dataframe thead th {\n",
              "        text-align: right;\n",
              "    }\n",
              "</style>\n",
              "<table border=\"1\" class=\"dataframe\">\n",
              "  <thead>\n",
              "    <tr style=\"text-align: right;\">\n",
              "      <th></th>\n",
              "      <th>frequency</th>\n",
              "      <th>angle_attack</th>\n",
              "      <th>chord_length</th>\n",
              "      <th>Free-stream_velocity</th>\n",
              "      <th>displacement_thickness</th>\n",
              "      <th>sound_pressure</th>\n",
              "    </tr>\n",
              "  </thead>\n",
              "  <tbody>\n",
              "    <tr>\n",
              "      <th>0</th>\n",
              "      <td>800</td>\n",
              "      <td>0.0</td>\n",
              "      <td>0.3048</td>\n",
              "      <td>71.3</td>\n",
              "      <td>0.002663</td>\n",
              "      <td>126.201</td>\n",
              "    </tr>\n",
              "    <tr>\n",
              "      <th>1</th>\n",
              "      <td>1000</td>\n",
              "      <td>0.0</td>\n",
              "      <td>0.3048</td>\n",
              "      <td>71.3</td>\n",
              "      <td>0.002663</td>\n",
              "      <td>125.201</td>\n",
              "    </tr>\n",
              "    <tr>\n",
              "      <th>2</th>\n",
              "      <td>1250</td>\n",
              "      <td>0.0</td>\n",
              "      <td>0.3048</td>\n",
              "      <td>71.3</td>\n",
              "      <td>0.002663</td>\n",
              "      <td>125.951</td>\n",
              "    </tr>\n",
              "    <tr>\n",
              "      <th>3</th>\n",
              "      <td>1600</td>\n",
              "      <td>0.0</td>\n",
              "      <td>0.3048</td>\n",
              "      <td>71.3</td>\n",
              "      <td>0.002663</td>\n",
              "      <td>127.591</td>\n",
              "    </tr>\n",
              "    <tr>\n",
              "      <th>4</th>\n",
              "      <td>2000</td>\n",
              "      <td>0.0</td>\n",
              "      <td>0.3048</td>\n",
              "      <td>71.3</td>\n",
              "      <td>0.002663</td>\n",
              "      <td>127.461</td>\n",
              "    </tr>\n",
              "  </tbody>\n",
              "</table>\n",
              "</div>"
            ],
            "text/plain": [
              "   frequency  angle_attack  ...  displacement_thickness  sound_pressure\n",
              "0        800           0.0  ...                0.002663         126.201\n",
              "1       1000           0.0  ...                0.002663         125.201\n",
              "2       1250           0.0  ...                0.002663         125.951\n",
              "3       1600           0.0  ...                0.002663         127.591\n",
              "4       2000           0.0  ...                0.002663         127.461\n",
              "\n",
              "[5 rows x 6 columns]"
            ]
          },
          "metadata": {
            "tags": []
          },
          "execution_count": 5
        }
      ]
    },
    {
      "cell_type": "markdown",
      "metadata": {
        "id": "f-18TOW8jpbL"
      },
      "source": [
        "## Data Exploration\n",
        "Here we will look into the statistics of the data, identify any missing values or categorical features that is needed to be further process.\n",
        "\n",
        "Let’s analyze our dataset first. Use dataset.head(n) to display top n data. You can change dataset.head(n) to dataset.sample(n) to display randomly picked data:"
      ]
    },
    {
      "cell_type": "code",
      "metadata": {
        "id": "c9FBWj1-jeWk",
        "colab": {
          "base_uri": "https://localhost:8080/",
          "height": 206
        },
        "outputId": "844e4e6c-48b0-49a6-8078-5cd5bee6d7d8"
      },
      "source": [
        " data.head(5)"
      ],
      "execution_count": null,
      "outputs": [
        {
          "output_type": "execute_result",
          "data": {
            "text/html": [
              "<div>\n",
              "<style scoped>\n",
              "    .dataframe tbody tr th:only-of-type {\n",
              "        vertical-align: middle;\n",
              "    }\n",
              "\n",
              "    .dataframe tbody tr th {\n",
              "        vertical-align: top;\n",
              "    }\n",
              "\n",
              "    .dataframe thead th {\n",
              "        text-align: right;\n",
              "    }\n",
              "</style>\n",
              "<table border=\"1\" class=\"dataframe\">\n",
              "  <thead>\n",
              "    <tr style=\"text-align: right;\">\n",
              "      <th></th>\n",
              "      <th>frequency</th>\n",
              "      <th>angle_attack</th>\n",
              "      <th>chord_length</th>\n",
              "      <th>Free-stream_velocity</th>\n",
              "      <th>displacement_thickness</th>\n",
              "      <th>sound_pressure</th>\n",
              "    </tr>\n",
              "  </thead>\n",
              "  <tbody>\n",
              "    <tr>\n",
              "      <th>0</th>\n",
              "      <td>800</td>\n",
              "      <td>0.0</td>\n",
              "      <td>0.3048</td>\n",
              "      <td>71.3</td>\n",
              "      <td>0.002663</td>\n",
              "      <td>126.201</td>\n",
              "    </tr>\n",
              "    <tr>\n",
              "      <th>1</th>\n",
              "      <td>1000</td>\n",
              "      <td>0.0</td>\n",
              "      <td>0.3048</td>\n",
              "      <td>71.3</td>\n",
              "      <td>0.002663</td>\n",
              "      <td>125.201</td>\n",
              "    </tr>\n",
              "    <tr>\n",
              "      <th>2</th>\n",
              "      <td>1250</td>\n",
              "      <td>0.0</td>\n",
              "      <td>0.3048</td>\n",
              "      <td>71.3</td>\n",
              "      <td>0.002663</td>\n",
              "      <td>125.951</td>\n",
              "    </tr>\n",
              "    <tr>\n",
              "      <th>3</th>\n",
              "      <td>1600</td>\n",
              "      <td>0.0</td>\n",
              "      <td>0.3048</td>\n",
              "      <td>71.3</td>\n",
              "      <td>0.002663</td>\n",
              "      <td>127.591</td>\n",
              "    </tr>\n",
              "    <tr>\n",
              "      <th>4</th>\n",
              "      <td>2000</td>\n",
              "      <td>0.0</td>\n",
              "      <td>0.3048</td>\n",
              "      <td>71.3</td>\n",
              "      <td>0.002663</td>\n",
              "      <td>127.461</td>\n",
              "    </tr>\n",
              "  </tbody>\n",
              "</table>\n",
              "</div>"
            ],
            "text/plain": [
              "   frequency  angle_attack  ...  displacement_thickness  sound_pressure\n",
              "0        800           0.0  ...                0.002663         126.201\n",
              "1       1000           0.0  ...                0.002663         125.201\n",
              "2       1250           0.0  ...                0.002663         125.951\n",
              "3       1600           0.0  ...                0.002663         127.591\n",
              "4       2000           0.0  ...                0.002663         127.461\n",
              "\n",
              "[5 rows x 6 columns]"
            ]
          },
          "metadata": {
            "tags": []
          },
          "execution_count": 6
        }
      ]
    },
    {
      "cell_type": "code",
      "metadata": {
        "id": "J_U0HovboDnM",
        "colab": {
          "base_uri": "https://localhost:8080/",
          "height": 206
        },
        "outputId": "eebeb446-5735-424e-e018-8f1143f6a201"
      },
      "source": [
        "data.sample(5)"
      ],
      "execution_count": null,
      "outputs": [
        {
          "output_type": "execute_result",
          "data": {
            "text/html": [
              "<div>\n",
              "<style scoped>\n",
              "    .dataframe tbody tr th:only-of-type {\n",
              "        vertical-align: middle;\n",
              "    }\n",
              "\n",
              "    .dataframe tbody tr th {\n",
              "        vertical-align: top;\n",
              "    }\n",
              "\n",
              "    .dataframe thead th {\n",
              "        text-align: right;\n",
              "    }\n",
              "</style>\n",
              "<table border=\"1\" class=\"dataframe\">\n",
              "  <thead>\n",
              "    <tr style=\"text-align: right;\">\n",
              "      <th></th>\n",
              "      <th>frequency</th>\n",
              "      <th>angle_attack</th>\n",
              "      <th>chord_length</th>\n",
              "      <th>Free-stream_velocity</th>\n",
              "      <th>displacement_thickness</th>\n",
              "      <th>sound_pressure</th>\n",
              "    </tr>\n",
              "  </thead>\n",
              "  <tbody>\n",
              "    <tr>\n",
              "      <th>1156</th>\n",
              "      <td>1600</td>\n",
              "      <td>17.4</td>\n",
              "      <td>0.0254</td>\n",
              "      <td>71.3</td>\n",
              "      <td>0.016104</td>\n",
              "      <td>126.406</td>\n",
              "    </tr>\n",
              "    <tr>\n",
              "      <th>176</th>\n",
              "      <td>400</td>\n",
              "      <td>4.0</td>\n",
              "      <td>0.3048</td>\n",
              "      <td>39.6</td>\n",
              "      <td>0.005796</td>\n",
              "      <td>128.633</td>\n",
              "    </tr>\n",
              "    <tr>\n",
              "      <th>1439</th>\n",
              "      <td>5000</td>\n",
              "      <td>12.3</td>\n",
              "      <td>0.1016</td>\n",
              "      <td>55.5</td>\n",
              "      <td>0.036823</td>\n",
              "      <td>112.014</td>\n",
              "    </tr>\n",
              "    <tr>\n",
              "      <th>1300</th>\n",
              "      <td>3150</td>\n",
              "      <td>3.3</td>\n",
              "      <td>0.1016</td>\n",
              "      <td>71.3</td>\n",
              "      <td>0.002028</td>\n",
              "      <td>132.114</td>\n",
              "    </tr>\n",
              "    <tr>\n",
              "      <th>1106</th>\n",
              "      <td>1600</td>\n",
              "      <td>9.5</td>\n",
              "      <td>0.0254</td>\n",
              "      <td>31.7</td>\n",
              "      <td>0.004614</td>\n",
              "      <td>131.036</td>\n",
              "    </tr>\n",
              "  </tbody>\n",
              "</table>\n",
              "</div>"
            ],
            "text/plain": [
              "      frequency  angle_attack  ...  displacement_thickness  sound_pressure\n",
              "1156       1600          17.4  ...                0.016104         126.406\n",
              "176         400           4.0  ...                0.005796         128.633\n",
              "1439       5000          12.3  ...                0.036823         112.014\n",
              "1300       3150           3.3  ...                0.002028         132.114\n",
              "1106       1600           9.5  ...                0.004614         131.036\n",
              "\n",
              "[5 rows x 6 columns]"
            ]
          },
          "metadata": {
            "tags": []
          },
          "execution_count": 7
        }
      ]
    },
    {
      "cell_type": "code",
      "metadata": {
        "id": "xmdwetvvFQj8",
        "colab": {
          "base_uri": "https://localhost:8080/"
        },
        "outputId": "daea5673-207b-4881-ce46-7ef5b825d664"
      },
      "source": [
        "data.info()"
      ],
      "execution_count": null,
      "outputs": [
        {
          "output_type": "stream",
          "text": [
            "<class 'pandas.core.frame.DataFrame'>\n",
            "RangeIndex: 1503 entries, 0 to 1502\n",
            "Data columns (total 6 columns):\n",
            " #   Column                  Non-Null Count  Dtype  \n",
            "---  ------                  --------------  -----  \n",
            " 0   frequency               1503 non-null   int64  \n",
            " 1   angle_attack            1503 non-null   float64\n",
            " 2   chord_length            1503 non-null   float64\n",
            " 3   Free-stream_velocity    1503 non-null   float64\n",
            " 4   displacement_thickness  1503 non-null   float64\n",
            " 5   sound_pressure          1503 non-null   float64\n",
            "dtypes: float64(5), int64(1)\n",
            "memory usage: 70.6 KB\n"
          ],
          "name": "stdout"
        }
      ]
    },
    {
      "cell_type": "markdown",
      "metadata": {
        "id": "qbpWrNnHn45Z"
      },
      "source": [
        "Let's look into the statistics of the data. This is usually a good starting point to have an idea obout the range of the data, its nature, as well as the missing information for different features:"
      ]
    },
    {
      "cell_type": "code",
      "metadata": {
        "id": "-OX494Rskj6k",
        "colab": {
          "base_uri": "https://localhost:8080/",
          "height": 300
        },
        "outputId": "c7cc039a-3622-4136-9ba0-12ff5b2d3317"
      },
      "source": [
        "data.describe()"
      ],
      "execution_count": null,
      "outputs": [
        {
          "output_type": "execute_result",
          "data": {
            "text/html": [
              "<div>\n",
              "<style scoped>\n",
              "    .dataframe tbody tr th:only-of-type {\n",
              "        vertical-align: middle;\n",
              "    }\n",
              "\n",
              "    .dataframe tbody tr th {\n",
              "        vertical-align: top;\n",
              "    }\n",
              "\n",
              "    .dataframe thead th {\n",
              "        text-align: right;\n",
              "    }\n",
              "</style>\n",
              "<table border=\"1\" class=\"dataframe\">\n",
              "  <thead>\n",
              "    <tr style=\"text-align: right;\">\n",
              "      <th></th>\n",
              "      <th>frequency</th>\n",
              "      <th>angle_attack</th>\n",
              "      <th>chord_length</th>\n",
              "      <th>Free-stream_velocity</th>\n",
              "      <th>displacement_thickness</th>\n",
              "      <th>sound_pressure</th>\n",
              "    </tr>\n",
              "  </thead>\n",
              "  <tbody>\n",
              "    <tr>\n",
              "      <th>count</th>\n",
              "      <td>1503.000000</td>\n",
              "      <td>1503.000000</td>\n",
              "      <td>1503.000000</td>\n",
              "      <td>1503.000000</td>\n",
              "      <td>1503.000000</td>\n",
              "      <td>1503.000000</td>\n",
              "    </tr>\n",
              "    <tr>\n",
              "      <th>mean</th>\n",
              "      <td>2886.380572</td>\n",
              "      <td>6.782302</td>\n",
              "      <td>0.136548</td>\n",
              "      <td>50.860745</td>\n",
              "      <td>0.011140</td>\n",
              "      <td>124.835943</td>\n",
              "    </tr>\n",
              "    <tr>\n",
              "      <th>std</th>\n",
              "      <td>3152.573137</td>\n",
              "      <td>5.918128</td>\n",
              "      <td>0.093541</td>\n",
              "      <td>15.572784</td>\n",
              "      <td>0.013150</td>\n",
              "      <td>6.898657</td>\n",
              "    </tr>\n",
              "    <tr>\n",
              "      <th>min</th>\n",
              "      <td>200.000000</td>\n",
              "      <td>0.000000</td>\n",
              "      <td>0.025400</td>\n",
              "      <td>31.700000</td>\n",
              "      <td>0.000401</td>\n",
              "      <td>103.380000</td>\n",
              "    </tr>\n",
              "    <tr>\n",
              "      <th>25%</th>\n",
              "      <td>800.000000</td>\n",
              "      <td>2.000000</td>\n",
              "      <td>0.050800</td>\n",
              "      <td>39.600000</td>\n",
              "      <td>0.002535</td>\n",
              "      <td>120.191000</td>\n",
              "    </tr>\n",
              "    <tr>\n",
              "      <th>50%</th>\n",
              "      <td>1600.000000</td>\n",
              "      <td>5.400000</td>\n",
              "      <td>0.101600</td>\n",
              "      <td>39.600000</td>\n",
              "      <td>0.004957</td>\n",
              "      <td>125.721000</td>\n",
              "    </tr>\n",
              "    <tr>\n",
              "      <th>75%</th>\n",
              "      <td>4000.000000</td>\n",
              "      <td>9.900000</td>\n",
              "      <td>0.228600</td>\n",
              "      <td>71.300000</td>\n",
              "      <td>0.015576</td>\n",
              "      <td>129.995500</td>\n",
              "    </tr>\n",
              "    <tr>\n",
              "      <th>max</th>\n",
              "      <td>20000.000000</td>\n",
              "      <td>22.200000</td>\n",
              "      <td>0.304800</td>\n",
              "      <td>71.300000</td>\n",
              "      <td>0.058411</td>\n",
              "      <td>140.987000</td>\n",
              "    </tr>\n",
              "  </tbody>\n",
              "</table>\n",
              "</div>"
            ],
            "text/plain": [
              "          frequency  angle_attack  ...  displacement_thickness  sound_pressure\n",
              "count   1503.000000   1503.000000  ...             1503.000000     1503.000000\n",
              "mean    2886.380572      6.782302  ...                0.011140      124.835943\n",
              "std     3152.573137      5.918128  ...                0.013150        6.898657\n",
              "min      200.000000      0.000000  ...                0.000401      103.380000\n",
              "25%      800.000000      2.000000  ...                0.002535      120.191000\n",
              "50%     1600.000000      5.400000  ...                0.004957      125.721000\n",
              "75%     4000.000000      9.900000  ...                0.015576      129.995500\n",
              "max    20000.000000     22.200000  ...                0.058411      140.987000\n",
              "\n",
              "[8 rows x 6 columns]"
            ]
          },
          "metadata": {
            "tags": []
          },
          "execution_count": 9
        }
      ]
    },
    {
      "cell_type": "markdown",
      "metadata": {
        "id": "fiA5ExkEotj2"
      },
      "source": [
        "If not defined by the user, you can also explore the features with the following command:"
      ]
    },
    {
      "cell_type": "code",
      "metadata": {
        "id": "9JpHwIlzkleM",
        "colab": {
          "base_uri": "https://localhost:8080/"
        },
        "outputId": "72c31b88-b828-4b0d-c317-eb3701d050e5"
      },
      "source": [
        "data.columns\n"
      ],
      "execution_count": null,
      "outputs": [
        {
          "output_type": "execute_result",
          "data": {
            "text/plain": [
              "Index(['frequency', 'angle_attack', 'chord_length', 'Free-stream_velocity',\n",
              "       'displacement_thickness', 'sound_pressure'],\n",
              "      dtype='object')"
            ]
          },
          "metadata": {
            "tags": []
          },
          "execution_count": 10
        }
      ]
    },
    {
      "cell_type": "markdown",
      "metadata": {
        "id": "edL_bxeepSbD"
      },
      "source": [
        "It is also possible to explore individual features:"
      ]
    },
    {
      "cell_type": "code",
      "metadata": {
        "id": "y2upSWbFo05Q",
        "colab": {
          "base_uri": "https://localhost:8080/"
        },
        "outputId": "45cd7866-d668-4503-8d13-5647d35c8e49"
      },
      "source": [
        "data['sound_pressure'].median()"
      ],
      "execution_count": null,
      "outputs": [
        {
          "output_type": "execute_result",
          "data": {
            "text/plain": [
              "125.721"
            ]
          },
          "metadata": {
            "tags": []
          },
          "execution_count": 11
        }
      ]
    },
    {
      "cell_type": "code",
      "metadata": {
        "id": "V3Gl8aeVpJZr",
        "colab": {
          "base_uri": "https://localhost:8080/"
        },
        "outputId": "12bafb72-2a3a-4e7a-d21c-86960cc3d2fe"
      },
      "source": [
        "data['sound_pressure'].mean()"
      ],
      "execution_count": null,
      "outputs": [
        {
          "output_type": "execute_result",
          "data": {
            "text/plain": [
              "124.83594278110434"
            ]
          },
          "metadata": {
            "tags": []
          },
          "execution_count": 12
        }
      ]
    },
    {
      "cell_type": "markdown",
      "metadata": {
        "id": "QXvnmz2OFs7h"
      },
      "source": [
        "### Data Visualization\n",
        "\n",
        "Another important pre-processing step is the data visualization. Histograms are suitable for a holistic view, where we can probe into the data for each attribute.\n",
        "\n",
        "We can use hist from matplotlib for that purpose:"
      ]
    },
    {
      "cell_type": "code",
      "metadata": {
        "id": "4wq9J6UTF2L8",
        "colab": {
          "base_uri": "https://localhost:8080/",
          "height": 879
        },
        "outputId": "02edc822-e829-428e-a6bc-d2121e5252d6"
      },
      "source": [
        "data.hist(bins=30, figsize=(15,15))\n",
        "plt.show()"
      ],
      "execution_count": null,
      "outputs": [
        {
          "output_type": "display_data",
          "data": {
            "image/png": "[encoded data removed]",
            "text/plain": [
              "<Figure size 1080x1080 with 6 Axes>"
            ]
          },
          "metadata": {
            "tags": [],
            "needs_background": "light"
          }
        }
      ]
    },
    {
      "cell_type": "markdown",
      "metadata": {
        "id": "PE4-pQkhHGQ6"
      },
      "source": [
        "It is always a good exercise to look into the data visually and try to see the distributions of the features. "
      ]
    },
    {
      "cell_type": "markdown",
      "metadata": {
        "id": "rJZYgP6WpdsH"
      },
      "source": [
        "### Identify nonnumerical values\n",
        "Some ML algorithms can not handle non-numerical values (NaN: not a number) so you may need to identify the type of the data for each feature and modify it if necessary. It is also quite common that different feature values are missing for different instances / examples so you may need to decide what to do: (i) omit the instance; (ii) replace them with the mean / median / mode of the feature; (iv) substitute them with a value of your choice.\n",
        "\n",
        "The following line counts the NaNs for each feature for us: "
      ]
    },
    {
      "cell_type": "code",
      "metadata": {
        "id": "o3trngZVq2Ov",
        "colab": {
          "base_uri": "https://localhost:8080/"
        },
        "outputId": "291ec1ea-8a4b-4722-8bd3-d1ed26dd09ed"
      },
      "source": [
        "nanCounter = np.isnan(data).sum()\n",
        "print(nanCounter)"
      ],
      "execution_count": null,
      "outputs": [
        {
          "output_type": "stream",
          "text": [
            "frequency                 0\n",
            "angle_attack              0\n",
            "chord_length              0\n",
            "Free-stream_velocity      0\n",
            "displacement_thickness    0\n",
            "sound_pressure            0\n",
            "dtype: int64\n"
          ],
          "name": "stdout"
        }
      ]
    },
    {
      "cell_type": "markdown",
      "metadata": {
        "id": "uqhBdEIqrIiP"
      },
      "source": [
        "The data was entirely numerical and composed of numbers. We will see in the following sessions how to handle datasets including non-numerical features in a smart way!\n",
        "\n",
        "It is also a good exercise to check the uniqueness of the dataset, that is, whether there exists values repeating at different instances:"
      ]
    },
    {
      "cell_type": "code",
      "metadata": {
        "id": "47CI_H-JrHjl",
        "colab": {
          "base_uri": "https://localhost:8080/"
        },
        "outputId": "70d4a95f-8d78-4cc0-8da6-c7dd425e447f"
      },
      "source": [
        "distinctCounter = data.apply(lambda x: len(x.unique()))\n",
        "print(distinctCounter)"
      ],
      "execution_count": null,
      "outputs": [
        {
          "output_type": "stream",
          "text": [
            "frequency                   21\n",
            "angle_attack                27\n",
            "chord_length                 6\n",
            "Free-stream_velocity         4\n",
            "displacement_thickness     105\n",
            "sound_pressure            1456\n",
            "dtype: int64\n"
          ],
          "name": "stdout"
        }
      ]
    },
    {
      "cell_type": "markdown",
      "metadata": {
        "id": "ZYgAwQiEtEB0"
      },
      "source": [
        "As identified earlier, there are 1503 instances (experimental measurements). Here we realized that these experiments were planned as combinations of 5 input parameters, with unique values of 21x27x6x4x105. "
      ]
    },
    {
      "cell_type": "markdown",
      "metadata": {
        "id": "CYzn33VxvyeK"
      },
      "source": [
        "### Supervised Algorithms: Preparing the Labels\n",
        "\n",
        "Supervised approach requires labelled data for the training. In this dataset, the objective function is the noise levels (classification) or noise prediction (regression), depending on the question. In both cases, we need to create a feature matrix say X and and label vector Y. We will use Y to train and test our model."
      ]
    },
    {
      "cell_type": "markdown",
      "metadata": {
        "id": "4ffDvpy5jsmZ"
      },
      "source": [
        "### Creating the Feature Matrix and Labels"
      ]
    },
    {
      "cell_type": "code",
      "metadata": {
        "id": "D_aujlG1v4Vw"
      },
      "source": [
        "dataX = data.copy().drop(['sound_pressure'],axis=1)\n",
        "dataY = data['sound_pressure'].copy()"
      ],
      "execution_count": null,
      "outputs": []
    },
    {
      "cell_type": "code",
      "metadata": {
        "id": "EcLhFRaET5GT",
        "colab": {
          "base_uri": "https://localhost:8080/"
        },
        "outputId": "69c7c20f-624a-4944-a273-1fe688028a89"
      },
      "source": [
        "dataY.sample(5)"
      ],
      "execution_count": null,
      "outputs": [
        {
          "output_type": "execute_result",
          "data": {
            "text/plain": [
              "1079    128.412\n",
              "235     128.805\n",
              "137     118.922\n",
              "1018    121.474\n",
              "328     117.154\n",
              "Name: sound_pressure, dtype: float64"
            ]
          },
          "metadata": {
            "tags": []
          },
          "execution_count": 17
        }
      ]
    },
    {
      "cell_type": "markdown",
      "metadata": {
        "id": "fTJGf1EYJROM"
      },
      "source": [
        "For more pre-processing options; you may check:\n",
        "\n",
        "https://scikit-learn.org/stable/modules/classes.html#module-sklearn.preprocessing"
      ]
    },
    {
      "cell_type": "markdown",
      "metadata": {
        "id": "f0lqdJOpkEZk"
      },
      "source": [
        "### Correlation matrix\n",
        "Now let's try to visualize how correlated the data is by creating a correlation matrix. "
      ]
    },
    {
      "cell_type": "code",
      "metadata": {
        "id": "3LPIt_hjy2y4",
        "colab": {
          "base_uri": "https://localhost:8080/",
          "height": 542
        },
        "outputId": "be3f6004-0d52-4782-849d-a0585c751423"
      },
      "source": [
        "correlationMatrix = pd.DataFrame(dataX).corr() \n",
        "\n",
        "f = plt.figure(figsize=(12, 6))\n",
        "plt.matshow(correlationMatrix, fignum=f.number)\n",
        "plt.xticks(range(dataX.shape[1]), dataX.columns, fontsize=14, rotation=75)\n",
        "plt.yticks(range(dataX.shape[1]), dataX.columns, fontsize=14)\n",
        "cb = plt.colorbar()\n",
        "cb.ax.tick_params(labelsize=14)\n",
        "plt.show()"
      ],
      "execution_count": null,
      "outputs": [
        {
          "output_type": "display_data",
          "data": {
            "image/png": "[encoded data removed]",
            "text/plain": [
              "<Figure size 864x432 with 2 Axes>"
            ]
          },
          "metadata": {
            "tags": [],
            "needs_background": "light"
          }
        }
      ]
    },
    {
      "cell_type": "code",
      "metadata": {
        "id": "IGUBME7W-sWu",
        "colab": {
          "base_uri": "https://localhost:8080/",
          "height": 147
        },
        "outputId": "3416c532-fd36-429a-c2a1-ce70c0d6f004"
      },
      "source": [
        "#we can also simply look at the table via pandas:\n",
        "correlationMatrix.style.background_gradient(cmap='viridis').set_precision(2)"
      ],
      "execution_count": null,
      "outputs": [
        {
          "output_type": "execute_result",
          "data": {
            "text/html": [
              "<style  type=\"text/css\" >\n",
              "#T_b2193172_2e39_11eb_ae18_0242ac1c0002row0_col0,#T_b2193172_2e39_11eb_ae18_0242ac1c0002row1_col1,#T_b2193172_2e39_11eb_ae18_0242ac1c0002row2_col2,#T_b2193172_2e39_11eb_ae18_0242ac1c0002row3_col3,#T_b2193172_2e39_11eb_ae18_0242ac1c0002row4_col4{\n",
              "            background-color:  #fde725;\n",
              "            color:  #000000;\n",
              "        }#T_b2193172_2e39_11eb_ae18_0242ac1c0002row0_col1{\n",
              "            background-color:  #453581;\n",
              "            color:  #f1f1f1;\n",
              "        }#T_b2193172_2e39_11eb_ae18_0242ac1c0002row0_col2{\n",
              "            background-color:  #31688e;\n",
              "            color:  #f1f1f1;\n",
              "        }#T_b2193172_2e39_11eb_ae18_0242ac1c0002row0_col3{\n",
              "            background-color:  #46307e;\n",
              "            color:  #f1f1f1;\n",
              "        }#T_b2193172_2e39_11eb_ae18_0242ac1c0002row0_col4,#T_b2193172_2e39_11eb_ae18_0242ac1c0002row1_col0,#T_b2193172_2e39_11eb_ae18_0242ac1c0002row1_col2,#T_b2193172_2e39_11eb_ae18_0242ac1c0002row2_col1,#T_b2193172_2e39_11eb_ae18_0242ac1c0002row4_col3{\n",
              "            background-color:  #440154;\n",
              "            color:  #f1f1f1;\n",
              "        }#T_b2193172_2e39_11eb_ae18_0242ac1c0002row1_col3{\n",
              "            background-color:  #481769;\n",
              "            color:  #f1f1f1;\n",
              "        }#T_b2193172_2e39_11eb_ae18_0242ac1c0002row1_col4{\n",
              "            background-color:  #7ad151;\n",
              "            color:  #000000;\n",
              "        }#T_b2193172_2e39_11eb_ae18_0242ac1c0002row2_col0{\n",
              "            background-color:  #3f4788;\n",
              "            color:  #f1f1f1;\n",
              "        }#T_b2193172_2e39_11eb_ae18_0242ac1c0002row2_col3,#T_b2193172_2e39_11eb_ae18_0242ac1c0002row2_col4{\n",
              "            background-color:  #440256;\n",
              "            color:  #f1f1f1;\n",
              "        }#T_b2193172_2e39_11eb_ae18_0242ac1c0002row3_col0{\n",
              "            background-color:  #32648e;\n",
              "            color:  #f1f1f1;\n",
              "        }#T_b2193172_2e39_11eb_ae18_0242ac1c0002row3_col1{\n",
              "            background-color:  #2c718e;\n",
              "            color:  #f1f1f1;\n",
              "        }#T_b2193172_2e39_11eb_ae18_0242ac1c0002row3_col2{\n",
              "            background-color:  #30698e;\n",
              "            color:  #f1f1f1;\n",
              "        }#T_b2193172_2e39_11eb_ae18_0242ac1c0002row3_col4{\n",
              "            background-color:  #423f85;\n",
              "            color:  #f1f1f1;\n",
              "        }#T_b2193172_2e39_11eb_ae18_0242ac1c0002row4_col0{\n",
              "            background-color:  #470d60;\n",
              "            color:  #f1f1f1;\n",
              "        }#T_b2193172_2e39_11eb_ae18_0242ac1c0002row4_col1{\n",
              "            background-color:  #93d741;\n",
              "            color:  #000000;\n",
              "        }#T_b2193172_2e39_11eb_ae18_0242ac1c0002row4_col2{\n",
              "            background-color:  #424086;\n",
              "            color:  #f1f1f1;\n",
              "        }</style><table id=\"T_b2193172_2e39_11eb_ae18_0242ac1c0002\" ><thead>    <tr>        <th class=\"blank level0\" ></th>        <th class=\"col_heading level0 col0\" >frequency</th>        <th class=\"col_heading level0 col1\" >angle_attack</th>        <th class=\"col_heading level0 col2\" >chord_length</th>        <th class=\"col_heading level0 col3\" >Free-stream_velocity</th>        <th class=\"col_heading level0 col4\" >displacement_thickness</th>    </tr></thead><tbody>\n",
              "                <tr>\n",
              "                        <th id=\"T_b2193172_2e39_11eb_ae18_0242ac1c0002level0_row0\" class=\"row_heading level0 row0\" >frequency</th>\n",
              "                        <td id=\"T_b2193172_2e39_11eb_ae18_0242ac1c0002row0_col0\" class=\"data row0 col0\" >1.00</td>\n",
              "                        <td id=\"T_b2193172_2e39_11eb_ae18_0242ac1c0002row0_col1\" class=\"data row0 col1\" >-0.27</td>\n",
              "                        <td id=\"T_b2193172_2e39_11eb_ae18_0242ac1c0002row0_col2\" class=\"data row0 col2\" >-0.00</td>\n",
              "                        <td id=\"T_b2193172_2e39_11eb_ae18_0242ac1c0002row0_col3\" class=\"data row0 col3\" >0.13</td>\n",
              "                        <td id=\"T_b2193172_2e39_11eb_ae18_0242ac1c0002row0_col4\" class=\"data row0 col4\" >-0.23</td>\n",
              "            </tr>\n",
              "            <tr>\n",
              "                        <th id=\"T_b2193172_2e39_11eb_ae18_0242ac1c0002level0_row1\" class=\"row_heading level0 row1\" >angle_attack</th>\n",
              "                        <td id=\"T_b2193172_2e39_11eb_ae18_0242ac1c0002row1_col0\" class=\"data row1 col0\" >-0.27</td>\n",
              "                        <td id=\"T_b2193172_2e39_11eb_ae18_0242ac1c0002row1_col1\" class=\"data row1 col1\" >1.00</td>\n",
              "                        <td id=\"T_b2193172_2e39_11eb_ae18_0242ac1c0002row1_col2\" class=\"data row1 col2\" >-0.50</td>\n",
              "                        <td id=\"T_b2193172_2e39_11eb_ae18_0242ac1c0002row1_col3\" class=\"data row1 col3\" >0.06</td>\n",
              "                        <td id=\"T_b2193172_2e39_11eb_ae18_0242ac1c0002row1_col4\" class=\"data row1 col4\" >0.75</td>\n",
              "            </tr>\n",
              "            <tr>\n",
              "                        <th id=\"T_b2193172_2e39_11eb_ae18_0242ac1c0002level0_row2\" class=\"row_heading level0 row2\" >chord_length</th>\n",
              "                        <td id=\"T_b2193172_2e39_11eb_ae18_0242ac1c0002row2_col0\" class=\"data row2 col0\" >-0.00</td>\n",
              "                        <td id=\"T_b2193172_2e39_11eb_ae18_0242ac1c0002row2_col1\" class=\"data row2 col1\" >-0.50</td>\n",
              "                        <td id=\"T_b2193172_2e39_11eb_ae18_0242ac1c0002row2_col2\" class=\"data row2 col2\" >1.00</td>\n",
              "                        <td id=\"T_b2193172_2e39_11eb_ae18_0242ac1c0002row2_col3\" class=\"data row2 col3\" >0.00</td>\n",
              "                        <td id=\"T_b2193172_2e39_11eb_ae18_0242ac1c0002row2_col4\" class=\"data row2 col4\" >-0.22</td>\n",
              "            </tr>\n",
              "            <tr>\n",
              "                        <th id=\"T_b2193172_2e39_11eb_ae18_0242ac1c0002level0_row3\" class=\"row_heading level0 row3\" >Free-stream_velocity</th>\n",
              "                        <td id=\"T_b2193172_2e39_11eb_ae18_0242ac1c0002row3_col0\" class=\"data row3 col0\" >0.13</td>\n",
              "                        <td id=\"T_b2193172_2e39_11eb_ae18_0242ac1c0002row3_col1\" class=\"data row3 col1\" >0.06</td>\n",
              "                        <td id=\"T_b2193172_2e39_11eb_ae18_0242ac1c0002row3_col2\" class=\"data row3 col2\" >0.00</td>\n",
              "                        <td id=\"T_b2193172_2e39_11eb_ae18_0242ac1c0002row3_col3\" class=\"data row3 col3\" >1.00</td>\n",
              "                        <td id=\"T_b2193172_2e39_11eb_ae18_0242ac1c0002row3_col4\" class=\"data row3 col4\" >-0.00</td>\n",
              "            </tr>\n",
              "            <tr>\n",
              "                        <th id=\"T_b2193172_2e39_11eb_ae18_0242ac1c0002level0_row4\" class=\"row_heading level0 row4\" >displacement_thickness</th>\n",
              "                        <td id=\"T_b2193172_2e39_11eb_ae18_0242ac1c0002row4_col0\" class=\"data row4 col0\" >-0.23</td>\n",
              "                        <td id=\"T_b2193172_2e39_11eb_ae18_0242ac1c0002row4_col1\" class=\"data row4 col1\" >0.75</td>\n",
              "                        <td id=\"T_b2193172_2e39_11eb_ae18_0242ac1c0002row4_col2\" class=\"data row4 col2\" >-0.22</td>\n",
              "                        <td id=\"T_b2193172_2e39_11eb_ae18_0242ac1c0002row4_col3\" class=\"data row4 col3\" >-0.00</td>\n",
              "                        <td id=\"T_b2193172_2e39_11eb_ae18_0242ac1c0002row4_col4\" class=\"data row4 col4\" >1.00</td>\n",
              "            </tr>\n",
              "    </tbody></table>"
            ],
            "text/plain": [
              "<pandas.io.formats.style.Styler at 0x7f58b5169438>"
            ]
          },
          "metadata": {
            "tags": []
          },
          "execution_count": 19
        }
      ]
    },
    {
      "cell_type": "markdown",
      "metadata": {
        "id": "rspAF-SrgD1k"
      },
      "source": [
        "What do these numbers mean? \n",
        "\n",
        "When it is close to 1, it means that there is a strong positive correlation; At the other extreme; –1, it implies that there is a strong negative correlation. For more:\n",
        "\n",
        "https://en.wikipedia.org/wiki/Correlation_and_dependence"
      ]
    },
    {
      "cell_type": "markdown",
      "metadata": {
        "id": "BbQM54yjyv2q"
      },
      "source": [
        "## Preparing the Dataset for Model\n",
        "\n",
        "We need to divide our entire dataset into fractions so that we have a training set\n",
        "from which the machine learning algorithm learns. We also need another set to test the predictions of the ML algorithm. There is no golden rule here: you need to consider the size of your entire dataset. Sometimes 5% is more than enough, sometimes we need to divide 1/3 to have enough test samples. \n",
        "\n",
        "In our current examples, number of cases is quite low for a ML project. Therefore, lets leave sufficient number of test cases:\n",
        "\n",
        "\n",
        "\n"
      ]
    },
    {
      "cell_type": "code",
      "metadata": {
        "id": "O6oPPAZNXcvW"
      },
      "source": [
        "X_train, X_test, y_train, y_test = train_test_split(dataX,\n",
        "dataY, test_size=0.25,\n",
        "random_state=2020)"
      ],
      "execution_count": null,
      "outputs": []
    },
    {
      "cell_type": "markdown",
      "metadata": {
        "id": "wZVi7kzaX3Zg"
      },
      "source": [
        "Here we have frozen the randomness to make the results reproducible. Otherwise, the results would change at every run. Notice that in classification, we divide the data in a way that labels are distributed in an unbiased way."
      ]
    },
    {
      "cell_type": "markdown",
      "metadata": {
        "id": "FHL6zcroZK5E"
      },
      "source": [
        "## Cross-Validation\n",
        "Another rule of thumb is to split\n",
        "the training set into a sub-training sets and a validation set before seeing its true performance on the test set (25% of the dataset reserved above). This policy is called k-fold cross-validation. The training data is divided into k fractions, trained over (k-1) fractions and tested on the k_th. Here the idea is to increase the generalization of the model as much as possible.\n",
        "\n",
        "https://scikit-learn.org/stable/modules/cross_validation.html"
      ]
    },
    {
      "cell_type": "code",
      "metadata": {
        "id": "BYtZgqq6aCV1"
      },
      "source": [
        "k_fold = KFold(n_splits=5, shuffle=True, random_state=2020)"
      ],
      "execution_count": null,
      "outputs": []
    },
    {
      "cell_type": "markdown",
      "metadata": {
        "id": "oTsoPx2HX7MY"
      },
      "source": [
        "## How to calculate the performance?\n",
        "In any supervised approach, we need to select a cost function to compare ML predictions with the true values (labels). The\n",
        "ML algorithm will minimize the cost function by changing its fitting parameters. You should spend some time to define what could be the best cost function for my dataset and my objective. \n",
        "\n",
        "In our case, we are dealing with regression and we can use it with built-in error functions:\n",
        "\n",
        "https://scikit-learn.org/stable/modules/model_evaluation.html#scoring-parameter\n",
        "\n"
      ]
    },
    {
      "cell_type": "markdown",
      "metadata": {
        "id": "as7WlrThQZm0"
      },
      "source": [
        "# Regularized Linear Models: Lasso\n",
        "\n",
        "Overfitting is a common problem in supervised learning. One way to reduce overfitting is to regularize the model by deploying constraints. \n",
        "\n",
        "Least Absolute Shrinkage and Selection Operator Regression -- Lasso Regression -- is a regularized version of the Linear Regression approach. In this model, we  add a regularization term (alpha) to the cost function (i.e. mean square error). It is useful in some contexts due to its tendency to prefer solutions with fewer non-zero coefficients, effectively reducing the number of features upon which the given solution is dependent.  \n",
        "\n",
        "Lets try it on our example!\n",
        "\n",
        "https://scikit-learn.org/stable/modules/generated/sklearn.linear_model.Lasso.html#sklearn.linear_model.Lasso"
      ]
    },
    {
      "cell_type": "code",
      "metadata": {
        "id": "e7hjGEckR8Vb"
      },
      "source": [
        "# Hyperparameters:\n",
        "alpha=1.0 #alpha = 0 is equivalent to an ordinary least square but it is not recommended to put zero here!\n",
        "normalize=False #\n",
        "max_iter=2000\n",
        "tol=0.00001\n",
        "random_state = 2020\n",
        "selection='cyclic' # (setting to ‘random’) often leads to significantly faster convergence especially when tol is higher than 1e-4.\n",
        "\n",
        "lasso = Lasso(alpha=alpha, normalize = normalize, max_iter = max_iter, tol = tol, random_state = random_state, selection = selection)"
      ],
      "execution_count": null,
      "outputs": []
    },
    {
      "cell_type": "code",
      "metadata": {
        "id": "4gibo9DaTgOp",
        "colab": {
          "base_uri": "https://localhost:8080/"
        },
        "outputId": "279576f9-bae7-470c-d4d0-7ef6a83b8665"
      },
      "source": [
        "# Model Training:\n",
        "#-----------------------------------------------------------------------------\n",
        "#Lists for storing scores\n",
        "trainingScores = []\n",
        "cvScores = []\n",
        "\n",
        "#DataFrame is a 2-dimensional labeled data structure. You can think of it like a spreadsheet.\n",
        "#Indexing in pandas means simply selecting particular rows and columns of data from a DataFrame.\n",
        "#It is  also known as Subset Selection.\n",
        "predictionsBasedOnKFolds = pd.DataFrame(data=[],index=y_train.index,columns=[0,1])\n",
        "model = lasso\n",
        "\n",
        "#kfold.split will generate indices to split data into training and test set (cv):\n",
        "for train_index, cv_index in k_fold.split(np.zeros(len(X_train)),y_train.ravel()):\n",
        "\n",
        "  #'iloc' can be used when the user doesn’t know the index label:\n",
        "  #Here we are filtering the data based on indices. Data is divided as 902/225.\n",
        "  X_train_fold, X_cv_fold = X_train.iloc[train_index,:], X_train.iloc[cv_index,:]\n",
        "  y_train_fold, y_cv_fold = y_train.iloc[train_index], y_train.iloc[cv_index]\n",
        "\n",
        "  #Fitting the model according to given data:\n",
        "  #Note that model refers to Lasso.\n",
        "  model.fit(X_train_fold, y_train_fold)\n",
        "\n",
        "  #Lets check how good is the fitting.\n",
        "  #'score' returns the coefficient of determination R^2 of the prediction. It is defined as (1 - u/v), \n",
        "  # where u is the residual sum of squares ((y_true - y_pred) ** 2).sum() and v is the total sum of squares ((y_true - y_true.mean()) ** 2).sum(). \n",
        "  #The best possible score is 1.0 and it can be negative (because the model can be arbitrarily worse). \n",
        "  \n",
        "  # We will first look in the training dataset:\n",
        "  scoreTraining = model.score(X_train_fold, y_train_fold)\n",
        "  #Saving our analysis on the list:\n",
        "  trainingScores.append(scoreTraining)\n",
        "\n",
        "  #Lets see how good it is on CV dataset:\n",
        "  scoreCV = model.score(X_cv_fold, y_cv_fold)\n",
        "  #Saving our analysis on the list:\n",
        "  cvScores.append(scoreCV)\n",
        "\n",
        "  #printing the results:\n",
        "  print('Training Score: ', scoreTraining)\n",
        "  print('CV Score: ', scoreCV)\n",
        "\n",
        "#Lets see the overall score for the entire training set (1127)\n",
        "scoreLasso = model.score(X_train,y_train)\n",
        "print('-----------------------------------')\n",
        "print('Lasso Score: ', scoreLasso)\n",
        "print('-----------------------------------')\n"
      ],
      "execution_count": null,
      "outputs": [
        {
          "output_type": "stream",
          "text": [
            "Training Score:  0.27896987073020585\n",
            "CV Score:  0.2516095744125162\n",
            "Training Score:  0.2857943519624624\n",
            "CV Score:  0.22869888607648006\n",
            "Training Score:  0.26047985457289924\n",
            "CV Score:  0.3515342167330028\n",
            "Training Score:  0.26246559047009854\n",
            "CV Score:  0.3089902492947959\n",
            "Training Score:  0.29831863391170643\n",
            "CV Score:  0.186041163494869\n",
            "-----------------------------------\n",
            "Lasso Score:  0.27671976494323713\n",
            "-----------------------------------\n"
          ],
          "name": "stdout"
        }
      ]
    },
    {
      "cell_type": "code",
      "metadata": {
        "id": "ka7pIXhycxEA",
        "colab": {
          "base_uri": "https://localhost:8080/"
        },
        "outputId": "ba7447ce-742b-4663-9a43-093834b66b23"
      },
      "source": [
        "# parameter vector (w in the cost function formula):\n",
        "print(model.coef_)"
      ],
      "execution_count": null,
      "outputs": [
        {
          "output_type": "stream",
          "text": [
            "[-0.00105991 -0.33121484 -0.          0.10329865 -0.        ]\n"
          ],
          "name": "stdout"
        }
      ]
    },
    {
      "cell_type": "code",
      "metadata": {
        "id": "Z15w6JPovdE4",
        "colab": {
          "base_uri": "https://localhost:8080/",
          "height": 81
        },
        "outputId": "7abb6123-f3f5-40e1-8f94-298ed61628f6"
      },
      "source": [
        "# Test Problem:\n",
        "test_data = data.sample(1,random_state=11).copy()\n",
        "test_data"
      ],
      "execution_count": null,
      "outputs": [
        {
          "output_type": "execute_result",
          "data": {
            "text/html": [
              "<div>\n",
              "<style scoped>\n",
              "    .dataframe tbody tr th:only-of-type {\n",
              "        vertical-align: middle;\n",
              "    }\n",
              "\n",
              "    .dataframe tbody tr th {\n",
              "        vertical-align: top;\n",
              "    }\n",
              "\n",
              "    .dataframe thead th {\n",
              "        text-align: right;\n",
              "    }\n",
              "</style>\n",
              "<table border=\"1\" class=\"dataframe\">\n",
              "  <thead>\n",
              "    <tr style=\"text-align: right;\">\n",
              "      <th></th>\n",
              "      <th>frequency</th>\n",
              "      <th>angle_attack</th>\n",
              "      <th>chord_length</th>\n",
              "      <th>Free-stream_velocity</th>\n",
              "      <th>displacement_thickness</th>\n",
              "      <th>sound_pressure</th>\n",
              "    </tr>\n",
              "  </thead>\n",
              "  <tbody>\n",
              "    <tr>\n",
              "      <th>773</th>\n",
              "      <td>6300</td>\n",
              "      <td>0.0</td>\n",
              "      <td>0.0508</td>\n",
              "      <td>31.7</td>\n",
              "      <td>0.000812</td>\n",
              "      <td>130.34</td>\n",
              "    </tr>\n",
              "  </tbody>\n",
              "</table>\n",
              "</div>"
            ],
            "text/plain": [
              "     frequency  angle_attack  ...  displacement_thickness  sound_pressure\n",
              "773       6300           0.0  ...                0.000812          130.34\n",
              "\n",
              "[1 rows x 6 columns]"
            ]
          },
          "metadata": {
            "tags": []
          },
          "execution_count": 25
        }
      ]
    },
    {
      "cell_type": "code",
      "metadata": {
        "id": "kEhWmqkmwXbO"
      },
      "source": [
        "# Preparing the input data:\n",
        "x_testing = test_data.drop(['sound_pressure'],axis=1)"
      ],
      "execution_count": null,
      "outputs": []
    },
    {
      "cell_type": "code",
      "metadata": {
        "id": "39ay4L3jxOks",
        "colab": {
          "base_uri": "https://localhost:8080/"
        },
        "outputId": "70fcb4e1-7ae8-4867-8114-432ec53b4823"
      },
      "source": [
        "# Calling model for the prediction:\n",
        "lasso.predict(x_testing)"
      ],
      "execution_count": null,
      "outputs": [
        {
          "output_type": "execute_result",
          "data": {
            "text/plain": [
              "array([121.66888533])"
            ]
          },
          "metadata": {
            "tags": []
          },
          "execution_count": 27
        }
      ]
    },
    {
      "cell_type": "markdown",
      "metadata": {
        "id": "wPicLm0Rbu0S"
      },
      "source": [
        "## Tuning Hyperparameters\n",
        "\n",
        "Here you can see that our model fails! So, is it possible to improve the model outcome? We can tune the hyperparameter alpha and use grid search to sweep possible values.\n",
        "\n",
        "For that purpose, we will use GridSearchCV of scikit learn: we will give the list of hyperparameters and it will use CV to test possible combinations. Here we only have one parameter to play with."
      ]
    },
    {
      "cell_type": "code",
      "metadata": {
        "id": "YFNJCi4Te0Zg",
        "colab": {
          "base_uri": "https://localhost:8080/"
        },
        "outputId": "652f59c0-d82a-42db-d456-be82adbd5806"
      },
      "source": [
        "# Looking for the best alpha value:\n",
        "alphas = np.logspace(-4, 0, 50)\n",
        "grid = [{'alpha': alphas}]\n",
        "#Setting the search:\n",
        "# For scoring: https://scikit-learn.org/stable/modules/model_evaluation.html#scoring-parameter\n",
        "gridSearch = GridSearchCV(lasso, grid, scoring='r2', cv=k_fold, refit=True)\n",
        "gridSearch.fit(X_train, y_train)\n",
        "results = gridSearch.cv_results_\n",
        "print('Best R^2 obtained:', gridSearch.best_score_)\n",
        "print('alpha value for the best case:', gridSearch.best_estimator_.alpha)"
      ],
      "execution_count": null,
      "outputs": [
        {
          "output_type": "stream",
          "text": [
            "Best R^2 obtained: 0.5010820279002012\n",
            "alpha value for the best case: 0.0001\n"
          ],
          "name": "stdout"
        }
      ]
    },
    {
      "cell_type": "code",
      "metadata": {
        "id": "S7cBggnjov52",
        "colab": {
          "base_uri": "https://localhost:8080/"
        },
        "outputId": "b6d6b317-2be2-4473-9b81-701cbe1c1c32"
      },
      "source": [
        "#Saving the best parameters back to model:\n",
        "lasso = gridSearch.best_estimator_\n",
        "#Alpha value of the model:\n",
        "lasso.alpha"
      ],
      "execution_count": null,
      "outputs": [
        {
          "output_type": "execute_result",
          "data": {
            "text/plain": [
              "0.0001"
            ]
          },
          "metadata": {
            "tags": []
          },
          "execution_count": 29
        }
      ]
    },
    {
      "cell_type": "code",
      "metadata": {
        "id": "S0uA5yaNoTxj",
        "colab": {
          "base_uri": "https://localhost:8080/"
        },
        "outputId": "3b97e22a-ef5d-4061-9c58-9db4a28a2182"
      },
      "source": [
        "#Lets check the keys to plot them:\n",
        "results.keys()"
      ],
      "execution_count": null,
      "outputs": [
        {
          "output_type": "execute_result",
          "data": {
            "text/plain": [
              "dict_keys(['mean_fit_time', 'std_fit_time', 'mean_score_time', 'std_score_time', 'param_alpha', 'params', 'split0_test_score', 'split1_test_score', 'split2_test_score', 'split3_test_score', 'split4_test_score', 'mean_test_score', 'std_test_score', 'rank_test_score'])"
            ]
          },
          "metadata": {
            "tags": []
          },
          "execution_count": 30
        }
      ]
    },
    {
      "cell_type": "code",
      "metadata": {
        "id": "a9EpYkhGk9F6",
        "colab": {
          "base_uri": "https://localhost:8080/",
          "height": 295
        },
        "outputId": "b3a77222-a69b-46cd-8df2-b8e00198c579"
      },
      "source": [
        "# Plotting the results\n",
        "plt.figure(figsize=(8, 4))\n",
        "plt.title(\"GridSearchCV evaluating using multiple alpha values\",\n",
        "          fontsize=12)\n",
        "plt.xlabel(\"alpha\")\n",
        "plt.ylabel(\"Score\")\n",
        "# Get the regular numpy array from the MaskedArray\n",
        "X_axis = np.array(results['param_alpha'].data, dtype=float)\n",
        "Y_axis = np.array(results['mean_test_score'].data, dtype=float)\n",
        "plt.plot(X_axis,Y_axis)\n",
        "plt.show()"
      ],
      "execution_count": null,
      "outputs": [
        {
          "output_type": "display_data",
          "data": {
            "image/png": "[encoded data removed]",
            "text/plain": [
              "<Figure size 576x288 with 1 Axes>"
            ]
          },
          "metadata": {
            "tags": [],
            "needs_background": "light"
          }
        }
      ]
    },
    {
      "cell_type": "markdown",
      "metadata": {
        "id": "V2YArqs1txG-"
      },
      "source": [
        "It looks like the smallest regularization is better. This is not the usual case though!"
      ]
    },
    {
      "cell_type": "code",
      "metadata": {
        "id": "uLejtAP9xk5b",
        "colab": {
          "base_uri": "https://localhost:8080/",
          "height": 81
        },
        "outputId": "ff02bf7e-e918-46f9-e737-0b7bd9fbae8f"
      },
      "source": [
        "# Test Problem:\n",
        "test_data"
      ],
      "execution_count": null,
      "outputs": [
        {
          "output_type": "execute_result",
          "data": {
            "text/html": [
              "<div>\n",
              "<style scoped>\n",
              "    .dataframe tbody tr th:only-of-type {\n",
              "        vertical-align: middle;\n",
              "    }\n",
              "\n",
              "    .dataframe tbody tr th {\n",
              "        vertical-align: top;\n",
              "    }\n",
              "\n",
              "    .dataframe thead th {\n",
              "        text-align: right;\n",
              "    }\n",
              "</style>\n",
              "<table border=\"1\" class=\"dataframe\">\n",
              "  <thead>\n",
              "    <tr style=\"text-align: right;\">\n",
              "      <th></th>\n",
              "      <th>frequency</th>\n",
              "      <th>angle_attack</th>\n",
              "      <th>chord_length</th>\n",
              "      <th>Free-stream_velocity</th>\n",
              "      <th>displacement_thickness</th>\n",
              "      <th>sound_pressure</th>\n",
              "    </tr>\n",
              "  </thead>\n",
              "  <tbody>\n",
              "    <tr>\n",
              "      <th>773</th>\n",
              "      <td>6300</td>\n",
              "      <td>0.0</td>\n",
              "      <td>0.0508</td>\n",
              "      <td>31.7</td>\n",
              "      <td>0.000812</td>\n",
              "      <td>130.34</td>\n",
              "    </tr>\n",
              "  </tbody>\n",
              "</table>\n",
              "</div>"
            ],
            "text/plain": [
              "     frequency  angle_attack  ...  displacement_thickness  sound_pressure\n",
              "773       6300           0.0  ...                0.000812          130.34\n",
              "\n",
              "[1 rows x 6 columns]"
            ]
          },
          "metadata": {
            "tags": []
          },
          "execution_count": 32
        }
      ]
    },
    {
      "cell_type": "code",
      "metadata": {
        "id": "XURL3yqixk5t",
        "colab": {
          "base_uri": "https://localhost:8080/"
        },
        "outputId": "25f4e1d4-14e3-43dd-a30a-556769652042"
      },
      "source": [
        "lasso.predict(x_testing)"
      ],
      "execution_count": null,
      "outputs": [
        {
          "output_type": "execute_result",
          "data": {
            "text/plain": [
              "array([125.97272689])"
            ]
          },
          "metadata": {
            "tags": []
          },
          "execution_count": 33
        }
      ]
    },
    {
      "cell_type": "markdown",
      "metadata": {
        "id": "yNDyUUcht59L"
      },
      "source": [
        "# Elastic Net\n",
        "\n",
        "Elastic Net is another linear regression model that can be used with regularization. In this case, we have two terms for the job: the model is trained with both\n",
        "l1 and l2-norm regularization of the coefficients. It allows to train a sparse model similar to Lasso, while still maintaining the properties of an older approach called Ridge (see lecture notes). The hyperparameters of the model are the 'alpha' and 'l1_ratio'. "
      ]
    },
    {
      "cell_type": "code",
      "metadata": {
        "id": "HqX9gkPtujEw"
      },
      "source": [
        "# Hyperparameters:\n",
        "#https://scikit-learn.org/stable/modules/generated/sklearn.linear_model.ElasticNet.html\n",
        "alpha=1.0 #alpha = 0 is equivalent to an ordinary least square but it is not recommended to put zero here!\n",
        "l1_ratio=0.5 # This is new!!\n",
        "normalize=False #\n",
        "max_iter=2000\n",
        "tol=0.00001\n",
        "random_state = 2020\n",
        "selection='cyclic' # (setting to ‘random’) often leads to significantly faster convergence especially when tol is higher than 1e-4.\n",
        "\n",
        "elastic_net = ElasticNet(alpha=alpha, l1_ratio = l1_ratio, normalize = normalize, max_iter = max_iter, tol = tol, random_state = random_state, selection = selection)"
      ],
      "execution_count": null,
      "outputs": []
    },
    {
      "cell_type": "code",
      "metadata": {
        "id": "7ZfisH3x9WMQ",
        "colab": {
          "base_uri": "https://localhost:8080/"
        },
        "outputId": "f0b19980-ce17-4f18-ebac-32df5f96be21"
      },
      "source": [
        "# Model Training:\n",
        "#-----------------------------------------------------------------------------\n",
        "#Lists for storing scores\n",
        "trainingScores = []\n",
        "cvScores = []\n",
        "\n",
        "#DataFrame is a 2-dimensional labeled data structure. You can think of it like a spreadsheet.\n",
        "#Indexing in pandas means simply selecting particular rows and columns of data from a DataFrame.\n",
        "#It is  also known as Subset Selection.\n",
        "predictionsBasedOnKFolds = pd.DataFrame(data=[],index=y_train.index,columns=[0,1])\n",
        "\n",
        "####Modified###\n",
        "model = elastic_net\n",
        "\n",
        "#kfold.split will generate indices to split data into training and test set (cv):\n",
        "for train_index, cv_index in k_fold.split(np.zeros(len(X_train)),y_train.ravel()):\n",
        "\n",
        "  #'iloc' can be used when the user doesn’t know the index label:\n",
        "  #Here we are filtering the data based on indices. Data is divided as 902/225.\n",
        "  X_train_fold, X_cv_fold = X_train.iloc[train_index,:], X_train.iloc[cv_index,:]\n",
        "  y_train_fold, y_cv_fold = y_train.iloc[train_index], y_train.iloc[cv_index]\n",
        "\n",
        "  #Fitting the model according to given data:\n",
        "  #Note that model refers to Lasso.\n",
        "  model.fit(X_train_fold, y_train_fold)\n",
        "\n",
        "  #Lets check how good is the fitting.\n",
        "  #'score' returns the coefficient of determination R^2 of the prediction. It is defined as (1 - u/v), \n",
        "  # where u is the residual sum of squares ((y_true - y_pred) ** 2).sum() and v is the total sum of squares ((y_true - y_true.mean()) ** 2).sum(). \n",
        "  #The best possible score is 1.0 and it can be negative (because the model can be arbitrarily worse). \n",
        "  \n",
        "  # We will first look in the training dataset:\n",
        "  scoreTraining = model.score(X_train_fold, y_train_fold)\n",
        "  #Saving our analysis on the list:\n",
        "  trainingScores.append(scoreTraining)\n",
        "\n",
        "  #Lets see how good it is on CV dataset:\n",
        "  scoreCV = model.score(X_cv_fold, y_cv_fold)\n",
        "  #Saving our analysis on the list:\n",
        "  cvScores.append(scoreCV)\n",
        "\n",
        "  #printing the results:\n",
        "  print('Training Score: ', scoreTraining)\n",
        "  print('CV Score: ', scoreCV)\n",
        "\n",
        "#Lets see the overall score for the entire training set (1127)\n",
        "\n",
        "####Modified###\n",
        "scoreElasticNet = model.score(X_train,y_train)\n",
        "print('-----------------------------------')\n",
        "print('Elastic Net Score: ', scoreElasticNet)\n",
        "print('-----------------------------------')\n"
      ],
      "execution_count": null,
      "outputs": [
        {
          "output_type": "stream",
          "text": [
            "Training Score:  0.2794398699828424\n",
            "CV Score:  0.25357889269695333\n",
            "Training Score:  0.28622123379488085\n",
            "CV Score:  0.22900533751460972\n",
            "Training Score:  0.26090804762340025\n",
            "CV Score:  0.35117085887540533\n",
            "Training Score:  0.26292888317361696\n",
            "CV Score:  0.31049180155051226\n",
            "Training Score:  0.2987457563346132\n",
            "CV Score:  0.1847427649804091\n",
            "-----------------------------------\n",
            "Elastic Net Score:  0.2768008416380012\n",
            "-----------------------------------\n"
          ],
          "name": "stdout"
        }
      ]
    },
    {
      "cell_type": "markdown",
      "metadata": {
        "id": "n1I_9KFOAdoI"
      },
      "source": [
        "## Tuning ElasticNet via Grid Search\n",
        "\n",
        "Above you can see that our model is not really good! Is it possible to improve the model outcome? \n",
        "\n",
        "We can tune the hyperparameters by using the use grid search to sweep possible values.\n",
        "\n",
        "For that purpose, we will use `GridSearchCV` of scikit learn: we will give the list of hyperparameters and it will use CV to test possible combinations. Here we have two parameters to play with: $\\alpha$ and its ratio."
      ]
    },
    {
      "cell_type": "code",
      "metadata": {
        "id": "1th65DH-BZd6",
        "colab": {
          "base_uri": "https://localhost:8080/"
        },
        "outputId": "880fff70-d4d3-490a-b6de-aeaf2384babb"
      },
      "source": [
        "# Looking for the best alpha and ratio value:\n",
        "alphas = np.logspace(-4, 0, 10)\n",
        "l1_ratios = np.logspace(-3,0,10)\n",
        "grid = {'alpha': alphas,'l1_ratio':l1_ratios}\n",
        "\n",
        "#Setting the search:\n",
        "# For scoring: https://scikit-learn.org/stable/modules/model_evaluation.html#scoring-parameter\n",
        "gridSearch = GridSearchCV(elastic_net, grid, scoring='r2', cv=k_fold, refit=True)\n",
        "gridSearch.fit(X_train, y_train)\n",
        "\n",
        "#Saving results:\n",
        "results = gridSearch.cv_results_\n",
        "\n",
        "print('Best R^2 obtained:', gridSearch.best_score_)\n",
        "print('alpha value for the best case:', gridSearch.best_estimator_.alpha)\n",
        "print('l1_ratio value for the best case:', gridSearch.best_estimator_.l1_ratio)"
      ],
      "execution_count": null,
      "outputs": [
        {
          "output_type": "stream",
          "text": [
            "Best R^2 obtained: 0.5010820279002012\n",
            "alpha value for the best case: 0.0001\n",
            "l1_ratio value for the best case: 1.0\n"
          ],
          "name": "stdout"
        }
      ]
    },
    {
      "cell_type": "code",
      "metadata": {
        "id": "TxZ9p48NDyYu",
        "colab": {
          "base_uri": "https://localhost:8080/"
        },
        "outputId": "b9030cd6-a6c9-4147-b540-cb393128d521"
      },
      "source": [
        "#Saving the best parameters back to model:\n",
        "elastic_net = gridSearch.best_estimator_\n",
        "\n",
        "#Alpha and l1 values of the model:\n",
        "elastic_net.alpha, elastic_net.l1_ratio"
      ],
      "execution_count": null,
      "outputs": [
        {
          "output_type": "execute_result",
          "data": {
            "text/plain": [
              "(0.0001, 1.0)"
            ]
          },
          "metadata": {
            "tags": []
          },
          "execution_count": 37
        }
      ]
    },
    {
      "cell_type": "code",
      "metadata": {
        "id": "JWsinDb-D9i_",
        "colab": {
          "base_uri": "https://localhost:8080/",
          "height": 81
        },
        "outputId": "c88198f5-047d-47bc-8db5-ff2dba85f793"
      },
      "source": [
        "# Test Problem:\n",
        "test_data"
      ],
      "execution_count": null,
      "outputs": [
        {
          "output_type": "execute_result",
          "data": {
            "text/html": [
              "<div>\n",
              "<style scoped>\n",
              "    .dataframe tbody tr th:only-of-type {\n",
              "        vertical-align: middle;\n",
              "    }\n",
              "\n",
              "    .dataframe tbody tr th {\n",
              "        vertical-align: top;\n",
              "    }\n",
              "\n",
              "    .dataframe thead th {\n",
              "        text-align: right;\n",
              "    }\n",
              "</style>\n",
              "<table border=\"1\" class=\"dataframe\">\n",
              "  <thead>\n",
              "    <tr style=\"text-align: right;\">\n",
              "      <th></th>\n",
              "      <th>frequency</th>\n",
              "      <th>angle_attack</th>\n",
              "      <th>chord_length</th>\n",
              "      <th>Free-stream_velocity</th>\n",
              "      <th>displacement_thickness</th>\n",
              "      <th>sound_pressure</th>\n",
              "    </tr>\n",
              "  </thead>\n",
              "  <tbody>\n",
              "    <tr>\n",
              "      <th>773</th>\n",
              "      <td>6300</td>\n",
              "      <td>0.0</td>\n",
              "      <td>0.0508</td>\n",
              "      <td>31.7</td>\n",
              "      <td>0.000812</td>\n",
              "      <td>130.34</td>\n",
              "    </tr>\n",
              "  </tbody>\n",
              "</table>\n",
              "</div>"
            ],
            "text/plain": [
              "     frequency  angle_attack  ...  displacement_thickness  sound_pressure\n",
              "773       6300           0.0  ...                0.000812          130.34\n",
              "\n",
              "[1 rows x 6 columns]"
            ]
          },
          "metadata": {
            "tags": []
          },
          "execution_count": 38
        }
      ]
    },
    {
      "cell_type": "code",
      "metadata": {
        "id": "gYeDfUSWD9jg",
        "colab": {
          "base_uri": "https://localhost:8080/"
        },
        "outputId": "dc073c78-0b7e-480f-ef0f-af9252f0048c"
      },
      "source": [
        "elastic_net.predict(x_testing)"
      ],
      "execution_count": null,
      "outputs": [
        {
          "output_type": "execute_result",
          "data": {
            "text/plain": [
              "array([125.97272689])"
            ]
          },
          "metadata": {
            "tags": []
          },
          "execution_count": 39
        }
      ]
    },
    {
      "cell_type": "markdown",
      "metadata": {
        "id": "6H906e3LyVRk"
      },
      "source": [
        "## Heat map as a visualisation tool for grid search"
      ]
    },
    {
      "cell_type": "markdown",
      "metadata": {
        "id": "i5WG2XU5xT3T"
      },
      "source": [
        "Now lets look closer to the grid search results and analyze the landscape via a heat map, as now we have 2 hyperparameters to play with."
      ]
    },
    {
      "cell_type": "code",
      "metadata": {
        "id": "2iPq8ou_qyMN",
        "colab": {
          "base_uri": "https://localhost:8080/",
          "height": 365
        },
        "outputId": "b18c7dd2-f3d0-49cf-a89f-c778855e20b7"
      },
      "source": [
        "# It is good practice to check how data is organized.\n",
        "# Lets convert the results into a dataframe first:\n",
        "results_overview = pd.DataFrame(results)\n",
        "# Now we can visualize the data to learn about column names and indices:\n",
        "display(results_overview.head())"
      ],
      "execution_count": null,
      "outputs": [
        {
          "output_type": "display_data",
          "data": {
            "text/html": [
              "<div>\n",
              "<style scoped>\n",
              "    .dataframe tbody tr th:only-of-type {\n",
              "        vertical-align: middle;\n",
              "    }\n",
              "\n",
              "    .dataframe tbody tr th {\n",
              "        vertical-align: top;\n",
              "    }\n",
              "\n",
              "    .dataframe thead th {\n",
              "        text-align: right;\n",
              "    }\n",
              "</style>\n",
              "<table border=\"1\" class=\"dataframe\">\n",
              "  <thead>\n",
              "    <tr style=\"text-align: right;\">\n",
              "      <th></th>\n",
              "      <th>mean_fit_time</th>\n",
              "      <th>std_fit_time</th>\n",
              "      <th>mean_score_time</th>\n",
              "      <th>std_score_time</th>\n",
              "      <th>param_alpha</th>\n",
              "      <th>param_l1_ratio</th>\n",
              "      <th>params</th>\n",
              "      <th>split0_test_score</th>\n",
              "      <th>split1_test_score</th>\n",
              "      <th>split2_test_score</th>\n",
              "      <th>split3_test_score</th>\n",
              "      <th>split4_test_score</th>\n",
              "      <th>mean_test_score</th>\n",
              "      <th>std_test_score</th>\n",
              "      <th>rank_test_score</th>\n",
              "    </tr>\n",
              "  </thead>\n",
              "  <tbody>\n",
              "    <tr>\n",
              "      <th>0</th>\n",
              "      <td>0.003707</td>\n",
              "      <td>0.000705</td>\n",
              "      <td>0.001587</td>\n",
              "      <td>0.000291</td>\n",
              "      <td>0.0001</td>\n",
              "      <td>0.001</td>\n",
              "      <td>{'alpha': 0.0001, 'l1_ratio': 0.001}</td>\n",
              "      <td>0.472069</td>\n",
              "      <td>0.491612</td>\n",
              "      <td>0.515395</td>\n",
              "      <td>0.517570</td>\n",
              "      <td>0.459320</td>\n",
              "      <td>0.491193</td>\n",
              "      <td>0.023079</td>\n",
              "      <td>13</td>\n",
              "    </tr>\n",
              "    <tr>\n",
              "      <th>1</th>\n",
              "      <td>0.002411</td>\n",
              "      <td>0.000105</td>\n",
              "      <td>0.001140</td>\n",
              "      <td>0.000014</td>\n",
              "      <td>0.0001</td>\n",
              "      <td>0.00215443</td>\n",
              "      <td>{'alpha': 0.0001, 'l1_ratio': 0.00215443469003...</td>\n",
              "      <td>0.472068</td>\n",
              "      <td>0.491619</td>\n",
              "      <td>0.515404</td>\n",
              "      <td>0.517587</td>\n",
              "      <td>0.459332</td>\n",
              "      <td>0.491202</td>\n",
              "      <td>0.023082</td>\n",
              "      <td>12</td>\n",
              "    </tr>\n",
              "    <tr>\n",
              "      <th>2</th>\n",
              "      <td>0.002647</td>\n",
              "      <td>0.000329</td>\n",
              "      <td>0.001295</td>\n",
              "      <td>0.000110</td>\n",
              "      <td>0.0001</td>\n",
              "      <td>0.00464159</td>\n",
              "      <td>{'alpha': 0.0001, 'l1_ratio': 0.00464158883361...</td>\n",
              "      <td>0.472066</td>\n",
              "      <td>0.491633</td>\n",
              "      <td>0.515421</td>\n",
              "      <td>0.517626</td>\n",
              "      <td>0.459359</td>\n",
              "      <td>0.491221</td>\n",
              "      <td>0.023087</td>\n",
              "      <td>11</td>\n",
              "    </tr>\n",
              "    <tr>\n",
              "      <th>3</th>\n",
              "      <td>0.002526</td>\n",
              "      <td>0.000220</td>\n",
              "      <td>0.001194</td>\n",
              "      <td>0.000071</td>\n",
              "      <td>0.0001</td>\n",
              "      <td>0.01</td>\n",
              "      <td>{'alpha': 0.0001, 'l1_ratio': 0.01}</td>\n",
              "      <td>0.472062</td>\n",
              "      <td>0.491664</td>\n",
              "      <td>0.515458</td>\n",
              "      <td>0.517708</td>\n",
              "      <td>0.459416</td>\n",
              "      <td>0.491262</td>\n",
              "      <td>0.023099</td>\n",
              "      <td>10</td>\n",
              "    </tr>\n",
              "    <tr>\n",
              "      <th>4</th>\n",
              "      <td>0.002434</td>\n",
              "      <td>0.000043</td>\n",
              "      <td>0.001209</td>\n",
              "      <td>0.000055</td>\n",
              "      <td>0.0001</td>\n",
              "      <td>0.0215443</td>\n",
              "      <td>{'alpha': 0.0001, 'l1_ratio': 0.02154434690031...</td>\n",
              "      <td>0.472051</td>\n",
              "      <td>0.491732</td>\n",
              "      <td>0.515540</td>\n",
              "      <td>0.517888</td>\n",
              "      <td>0.459540</td>\n",
              "      <td>0.491350</td>\n",
              "      <td>0.023125</td>\n",
              "      <td>9</td>\n",
              "    </tr>\n",
              "  </tbody>\n",
              "</table>\n",
              "</div>"
            ],
            "text/plain": [
              "   mean_fit_time  std_fit_time  ...  std_test_score  rank_test_score\n",
              "0       0.003707      0.000705  ...        0.023079               13\n",
              "1       0.002411      0.000105  ...        0.023082               12\n",
              "2       0.002647      0.000329  ...        0.023087               11\n",
              "3       0.002526      0.000220  ...        0.023099               10\n",
              "4       0.002434      0.000043  ...        0.023125                9\n",
              "\n",
              "[5 rows x 15 columns]"
            ]
          },
          "metadata": {
            "tags": []
          }
        }
      ]
    },
    {
      "cell_type": "code",
      "metadata": {
        "id": "pCn7xJ8pqgfh",
        "colab": {
          "base_uri": "https://localhost:8080/",
          "height": 433
        },
        "outputId": "103f65df-2a67-4cd0-cc1a-f4b9af46c19c"
      },
      "source": [
        "# plot the mean cross-validation scores:\n",
        "# Since we know the column names, it is easier to read and further manuplate the data.\n",
        "# Lets create an array 10 x 10, which is the # combinations we tested with hyperparameters.\n",
        "scores = np.array(results_overview.mean_test_score).reshape(10, 10)\n",
        "\n",
        "#Simple Drawing\n",
        "sns.heatmap(scores,cmap='viridis',xticklabels=grid['alpha'],yticklabels=grid['l1_ratio'])\n",
        "\n",
        "#A bit makeup:\n",
        "plt.xlabel(\"alpha\"), plt.ylabel(\"l1_ratio\")\n",
        "plt.title(\"Heat Map of R2 scores as a fucntion of l1_ratio and alpha\")"
      ],
      "execution_count": null,
      "outputs": [
        {
          "output_type": "execute_result",
          "data": {
            "text/plain": [
              "Text(0.5, 1.0, 'Heat Map of R2 scores as a fucntion of l1_ratio and alpha')"
            ]
          },
          "metadata": {
            "tags": []
          },
          "execution_count": 41
        },
        {
          "output_type": "display_data",
          "data": {
            "image/png": "[encoded data removed]",
            "text/plain": [
              "<Figure size 432x288 with 2 Axes>"
            ]
          },
          "metadata": {
            "tags": [],
            "needs_background": "light"
          }
        }
      ]
    },
    {
      "cell_type": "markdown",
      "metadata": {
        "id": "R63MK6R9zWmd"
      },
      "source": [
        "Heat maps are good to see the influence of hyperparameters on the error space. In our case, it is good to focus on top right corner. \n",
        "\n",
        "Note that our problem is nonlinear so these linear models can not describe its behaviour. That is, even if you optimize the hyperparameters, the model seems to underfit the data. \n",
        "\n",
        "Lets check that idea with **learning curves.**"
      ]
    },
    {
      "cell_type": "markdown",
      "metadata": {
        "id": "M9fiM4AVE0hM"
      },
      "source": [
        "## Learning Curve\n",
        "\n",
        "In previous exercises, we have used cross-validation to get an idea about the generalization performance of the model. If the performance is much worse for CV, then it is overfitting. If they are both bad, then it is probably underfitting the data and we need more complex models.\n",
        "\n",
        "We can also visualize how the model is learning via 'Learning Plots'. The idea is simple: you need to train the model with growing size of training data and see its performance. Let's do that by defining a function for us:"
      ]
    },
    {
      "cell_type": "code",
      "metadata": {
        "id": "WC937SxZFuwF",
        "colab": {
          "base_uri": "https://localhost:8080/",
          "height": 409
        },
        "outputId": "06347713-ddb3-4a08-99f9-d73f98cc255a"
      },
      "source": [
        "# Defining our function to run the model and see the evolution of error>\n",
        "def plot_learning_curves(model, X_train, X_test, y_train, y_test):\n",
        "  #Empty lists for data storage:\n",
        "  train_errors, val_errors = [], []\n",
        "  # Remember, we will look at the error as model is trained with more data.\n",
        "  # So we will make predictions with increasing instance sizes for both the training set and test set.\n",
        "  for m in range(1, len(X_train)):\n",
        "    #Model fitting:\n",
        "    model.fit(X_train[:m], y_train[:m])\n",
        "    #Predicting for the training data:\n",
        "    y_train_predict = model.predict(X_train[:m])\n",
        "    #Predicting for the test data:\n",
        "    y_test_predict = model.predict(X_test)\n",
        "    #Saving the errors for the plot for a given data size:\n",
        "    train_errors.append(mean_squared_error(y_train[:m], y_train_predict))\n",
        "    val_errors.append(mean_squared_error(y_test, y_test_predict))\n",
        "  \n",
        "  # Plotting the results:\n",
        "  plt.plot(np.sqrt(train_errors), \"k--\", linewidth=1.5, label=\"train\")\n",
        "  plt.plot(np.sqrt(val_errors), \"b-.\", linewidth=1.5, label=\"test\")\n",
        "  plt.legend()\n",
        "  plt.xlim(0, 50),  plt.ylim(0.01,50)\n",
        "  plt.yscale(\"log\")\n",
        "  plt.xlabel(\"Instances\"),  plt.ylabel(\"MSE\")\n",
        "  \n",
        "# Calling our function to draw the learning curve for elastic net:\n",
        "plot_learning_curves(elastic_net,X_train, X_test, y_train, y_test)"
      ],
      "execution_count": null,
      "outputs": [
        {
          "output_type": "stream",
          "text": [
            "/usr/local/lib/python3.6/dist-packages/sklearn/linear_model/_coordinate_descent.py:476: ConvergenceWarning: Objective did not converge. You might want to increase the number of iterations. Duality gap: 0.0, tolerance: 0.0\n",
            "  positive)\n",
            "/usr/local/lib/python3.6/dist-packages/sklearn/linear_model/_coordinate_descent.py:476: ConvergenceWarning: Objective did not converge. You might want to increase the number of iterations. Duality gap: 0.01210177555345966, tolerance: 0.0013691586475\n",
            "  positive)\n",
            "/usr/local/lib/python3.6/dist-packages/sklearn/linear_model/_coordinate_descent.py:476: ConvergenceWarning: Objective did not converge. You might want to increase the number of iterations. Duality gap: 0.4383943526582352, tolerance: 0.0021703116933333337\n",
            "  positive)\n"
          ],
          "name": "stderr"
        },
        {
          "output_type": "display_data",
          "data": {
            "image/png": "[encoded data removed]",
            "text/plain": [
              "<Figure size 432x288 with 1 Axes>"
            ]
          },
          "metadata": {
            "tags": [],
            "needs_background": "light"
          }
        }
      ]
    },
    {
      "cell_type": "markdown",
      "metadata": {
        "id": "hxovjFV2sHp0"
      },
      "source": [
        "What does this plot tell us? As the # instances increases, the error in the training set increases as the model cannot fit very well to the increasing volume of data. After around 30 instances, we reach a plateau, after which the mean error does not change much. If we look at the blueline, at few examples, model fails to predict the test data as it has little experience to generalize. **As model learns**, the error goes down and eventually reaches the same plateau. Yet the **error** is too **high** and the **model is too simple** to capture the nonlinearity. "
      ]
    },
    {
      "cell_type": "markdown",
      "metadata": {
        "id": "IoaqPNvetnoJ"
      },
      "source": [
        "# Support Vector Machines\n",
        "\n",
        "Lets try a better approach: SVM. It is a popular method and can be used for classification, regression and even outliers detection. Model is versitile: different Kernel functions can be implemented for the decision function. In SVM, we construct a hyperplane via these Kernel functions in a higher dimensional space and we look for the optimal hyperplane that best separates the data with the highest margin. Linear approach is the fastest but performs poorer for nonlinear datasets. \n",
        "\n",
        "In sci-kit learn, we have three options to implement and you can check the details from here:\n",
        "https://scikit-learn.org/stable/modules/generated/sklearn.svm.SVR.html#\n",
        "\n",
        "\n",
        "Lets try SVM for our dataset!"
      ]
    },
    {
      "cell_type": "markdown",
      "metadata": {
        "id": "HNMZKaxmUonS"
      },
      "source": [
        "## Normalizing the data\n",
        "We will normalize the data before feeding it into SVM as it is very critical for this model (see Lecture notes)."
      ]
    },
    {
      "cell_type": "code",
      "metadata": {
        "id": "cqr-ZdhsUyih",
        "colab": {
          "base_uri": "https://localhost:8080/",
          "height": 300
        },
        "outputId": "473406c5-ac0e-42d6-a7fb-c1cb68631f87"
      },
      "source": [
        "#Rescaling the data\n",
        "featuresToScale = dataX.columns\n",
        "sX = pp.StandardScaler(copy=True)\n",
        "dataX.loc[:,featuresToScale] = sX.fit_transform(dataX[featuresToScale])\n",
        "#Looking into the statistics again:\n",
        "dataX.describe()"
      ],
      "execution_count": null,
      "outputs": [
        {
          "output_type": "execute_result",
          "data": {
            "text/html": [
              "<div>\n",
              "<style scoped>\n",
              "    .dataframe tbody tr th:only-of-type {\n",
              "        vertical-align: middle;\n",
              "    }\n",
              "\n",
              "    .dataframe tbody tr th {\n",
              "        vertical-align: top;\n",
              "    }\n",
              "\n",
              "    .dataframe thead th {\n",
              "        text-align: right;\n",
              "    }\n",
              "</style>\n",
              "<table border=\"1\" class=\"dataframe\">\n",
              "  <thead>\n",
              "    <tr style=\"text-align: right;\">\n",
              "      <th></th>\n",
              "      <th>frequency</th>\n",
              "      <th>angle_attack</th>\n",
              "      <th>chord_length</th>\n",
              "      <th>Free-stream_velocity</th>\n",
              "      <th>displacement_thickness</th>\n",
              "    </tr>\n",
              "  </thead>\n",
              "  <tbody>\n",
              "    <tr>\n",
              "      <th>count</th>\n",
              "      <td>1.503000e+03</td>\n",
              "      <td>1.503000e+03</td>\n",
              "      <td>1.503000e+03</td>\n",
              "      <td>1.503000e+03</td>\n",
              "      <td>1.503000e+03</td>\n",
              "    </tr>\n",
              "    <tr>\n",
              "      <th>mean</th>\n",
              "      <td>2.837975e-16</td>\n",
              "      <td>-3.495393e-16</td>\n",
              "      <td>-1.624759e-14</td>\n",
              "      <td>-8.558246e-16</td>\n",
              "      <td>2.866045e-16</td>\n",
              "    </tr>\n",
              "    <tr>\n",
              "      <th>std</th>\n",
              "      <td>1.000333e+00</td>\n",
              "      <td>1.000333e+00</td>\n",
              "      <td>1.000333e+00</td>\n",
              "      <td>1.000333e+00</td>\n",
              "      <td>1.000333e+00</td>\n",
              "    </tr>\n",
              "    <tr>\n",
              "      <th>min</th>\n",
              "      <td>-8.524068e-01</td>\n",
              "      <td>-1.146403e+00</td>\n",
              "      <td>-1.188629e+00</td>\n",
              "      <td>-1.230809e+00</td>\n",
              "      <td>-8.169263e-01</td>\n",
              "    </tr>\n",
              "    <tr>\n",
              "      <th>25%</th>\n",
              "      <td>-6.620227e-01</td>\n",
              "      <td>-8.083458e-01</td>\n",
              "      <td>-9.169992e-01</td>\n",
              "      <td>-7.233448e-01</td>\n",
              "      <td>-6.545613e-01</td>\n",
              "    </tr>\n",
              "    <tr>\n",
              "      <th>50%</th>\n",
              "      <td>-4.081773e-01</td>\n",
              "      <td>-2.336486e-01</td>\n",
              "      <td>-3.737395e-01</td>\n",
              "      <td>-7.233448e-01</td>\n",
              "      <td>-4.702979e-01</td>\n",
              "    </tr>\n",
              "    <tr>\n",
              "      <th>75%</th>\n",
              "      <td>3.533590e-01</td>\n",
              "      <td>5.269801e-01</td>\n",
              "      <td>9.844097e-01</td>\n",
              "      <td>1.312935e+00</td>\n",
              "      <td>3.374462e-01</td>\n",
              "    </tr>\n",
              "    <tr>\n",
              "      <th>max</th>\n",
              "      <td>5.430267e+00</td>\n",
              "      <td>2.606032e+00</td>\n",
              "      <td>1.799299e+00</td>\n",
              "      <td>1.312935e+00</td>\n",
              "      <td>3.595917e+00</td>\n",
              "    </tr>\n",
              "  </tbody>\n",
              "</table>\n",
              "</div>"
            ],
            "text/plain": [
              "          frequency  angle_attack  ...  Free-stream_velocity  displacement_thickness\n",
              "count  1.503000e+03  1.503000e+03  ...          1.503000e+03            1.503000e+03\n",
              "mean   2.837975e-16 -3.495393e-16  ...         -8.558246e-16            2.866045e-16\n",
              "std    1.000333e+00  1.000333e+00  ...          1.000333e+00            1.000333e+00\n",
              "min   -8.524068e-01 -1.146403e+00  ...         -1.230809e+00           -8.169263e-01\n",
              "25%   -6.620227e-01 -8.083458e-01  ...         -7.233448e-01           -6.545613e-01\n",
              "50%   -4.081773e-01 -2.336486e-01  ...         -7.233448e-01           -4.702979e-01\n",
              "75%    3.533590e-01  5.269801e-01  ...          1.312935e+00            3.374462e-01\n",
              "max    5.430267e+00  2.606032e+00  ...          1.312935e+00            3.595917e+00\n",
              "\n",
              "[8 rows x 5 columns]"
            ]
          },
          "metadata": {
            "tags": []
          },
          "execution_count": 43
        }
      ]
    },
    {
      "cell_type": "markdown",
      "metadata": {
        "id": "issz4ZXW14cI"
      },
      "source": [
        "The next step is to divide the data as the training set and the test set. We will use the same ratio of 3 to 1: "
      ]
    },
    {
      "cell_type": "code",
      "metadata": {
        "id": "TU7vTzsaR6aS"
      },
      "source": [
        "#After the normalization, we need to update the splitted arrays again:\n",
        "X_train, X_test, y_train, y_test = train_test_split(dataX, dataY, test_size=0.25, random_state=2020)"
      ],
      "execution_count": null,
      "outputs": []
    },
    {
      "cell_type": "markdown",
      "metadata": {
        "id": "151sdEYPESfg"
      },
      "source": [
        "## Model Training and Predictions\n",
        "\n",
        "As we have seen in the lecture, there are 3 important hyperparameters to decide: C, epsilon and kernel. We also need to feed the tol value as we are solving a convex optimization problem."
      ]
    },
    {
      "cell_type": "code",
      "metadata": {
        "id": "iSHteOJ_SVth"
      },
      "source": [
        "# Hyperparameters:\n",
        "# https://scikit-learn.org/stable/modules/generated/sklearn.svm.SVR.html#\n",
        "\n",
        "#__________________________________________________________________________________________\n",
        "#___Notes__________________________________________________________________________________\n",
        "#Radial Basis Function (RBF) kernel, two parameters must be considered: C and gamma. \n",
        "\n",
        "#The parameter C, common to all SVM kernels, trades off misclassification of training examples \n",
        "#against simplicity of the decision surface. \n",
        "#A low C makes the decision surface smooth, while a high C aims at classifying all training examples correctly. \n",
        "#The strength of the regularization is inversely proportional to C. Large C => little regularization; Low C => higher regularization\n",
        "\n",
        "#gamma defines how much influence a single training example has. The larger gamma is, the closer other examples must be to be affected.\n",
        "#__________________________________________________________________________________________\n",
        "\n",
        "kernel='linear' \n",
        "gamma='scale' #Kernel coefficient for ‘rbf’, ‘poly’ and ‘sigmoid’. When scaled, uses 1 / (n_features * X.var()) as value of gamma.\n",
        "C=1.0\n",
        "epsilon=0.1    # Default\n",
        "shrinking=True # Whether to use the shrinking heuristic. \n",
        "tol=0.00001\n",
        "\n",
        "#Setting the model:\n",
        "svr = SVR(kernel= kernel, gamma=gamma, tol=tol, C=C, epsilon=epsilon, shrinking=shrinking)\n",
        "\n",
        " "
      ],
      "execution_count": null,
      "outputs": []
    },
    {
      "cell_type": "code",
      "metadata": {
        "id": "exJFBJKpEN1C",
        "colab": {
          "base_uri": "https://localhost:8080/"
        },
        "outputId": "87606bb9-e7c3-475f-a34a-d6fd3c992fb6"
      },
      "source": [
        "# Model Training:\n",
        "#-----------------------------------------------------------------------------\n",
        "#Lists for storing scores\n",
        "trainingScores = []\n",
        "cvScores = []\n",
        "\n",
        "#DataFrame is a 2-dimensional labeled data structure. You can think of it like a spreadsheet.\n",
        "#Indexing in pandas means simply selecting particular rows and columns of data from a DataFrame.\n",
        "#It is  also known as Subset Selection.\n",
        "predictionsBasedOnKFolds = pd.DataFrame(data=[],index=y_train.index,columns=[0,1])\n",
        "\n",
        "####Modified###\n",
        "model = svr\n",
        "\n",
        "#kfold.split will generate indices to split data into training and test set (cv):\n",
        "for train_index, cv_index in k_fold.split(np.zeros(len(X_train)),y_train.ravel()):\n",
        "\n",
        "  #'iloc' can be used when the user doesn’t know the index label:\n",
        "  #Here we are filtering the data based on indices. Data is divided as 902/225.\n",
        "  X_train_fold, X_cv_fold = X_train.iloc[train_index,:], X_train.iloc[cv_index,:]\n",
        "  y_train_fold, y_cv_fold = y_train.iloc[train_index], y_train.iloc[cv_index]\n",
        "\n",
        "  #Fitting the model according to given data:\n",
        "  #Note that model refers to Lasso.\n",
        "  model.fit(X_train_fold, y_train_fold)\n",
        "\n",
        "  #Lets check how good is the fitting.\n",
        "  #'score' returns the coefficient of determination R^2 of the prediction. It is defined as (1 - u/v), \n",
        "  # where u is the residual sum of squares ((y_true - y_pred) ** 2).sum() and v is the total sum of squares ((y_true - y_true.mean()) ** 2).sum(). \n",
        "  #The best possible score is 1.0 and it can be negative (because the model can be arbitrarily worse). \n",
        "  \n",
        "  # We will first look in the training dataset:\n",
        "  scoreTraining = model.score(X_train_fold, y_train_fold)\n",
        "  #Saving our analysis on the list:\n",
        "  trainingScores.append(scoreTraining)\n",
        "\n",
        "  #Lets see how good it is on CV dataset:\n",
        "  scoreCV = model.score(X_cv_fold, y_cv_fold)\n",
        "  #Saving our analysis on the list:\n",
        "  cvScores.append(scoreCV)\n",
        "\n",
        "  #printing the results:\n",
        "  print('Training Score: ', scoreTraining)\n",
        "  print('CV Score: ', scoreCV)\n",
        "\n",
        "#Lets see the overall score for the entire training set (1127)\n",
        "\n",
        "####Modified###\n",
        "scoreSVM = model.score(X_train,y_train)\n",
        "print('-----------------------------------')\n",
        "print('SVM Regression Score: ', scoreSVM)\n",
        "print('-----------------------------------')"
      ],
      "execution_count": null,
      "outputs": [
        {
          "output_type": "stream",
          "text": [
            "Training Score:  0.5070411564922929\n",
            "CV Score:  0.44091910713675814\n",
            "Training Score:  0.5014721569064833\n",
            "CV Score:  0.4724269018135753\n",
            "Training Score:  0.49612539211954243\n",
            "CV Score:  0.5155483107356797\n",
            "Training Score:  0.4821381566710744\n",
            "CV Score:  0.5371685456955024\n",
            "Training Score:  0.5007995135448318\n",
            "CV Score:  0.47452472828747555\n",
            "-----------------------------------\n",
            "SVM Regression Score:  0.49616654259904086\n",
            "-----------------------------------\n"
          ],
          "name": "stdout"
        }
      ]
    },
    {
      "cell_type": "markdown",
      "metadata": {
        "id": "_BVLMnE8GJS5"
      },
      "source": [
        "## Tuning SVM Hyperparameters with Grid Search\n",
        "\n"
      ]
    },
    {
      "cell_type": "markdown",
      "metadata": {
        "id": "m7_H-YriFCLo"
      },
      "source": [
        "The model prediction is not good. So we need to play with the hyper parameters! As an example, here we can play with the kernel and C values. \n",
        "\n",
        "Try yourselves with the epsilon and gamma as well."
      ]
    },
    {
      "cell_type": "code",
      "metadata": {
        "id": "4OQGJWLvGKHw",
        "colab": {
          "base_uri": "https://localhost:8080/"
        },
        "outputId": "8fa2d866-3470-4ac1-d0d7-ef358968f303"
      },
      "source": [
        "kernels = ['poly','rbf','sigmoid']\n",
        "Cs = np.logspace(0, 3, 25)\n",
        "#Setting up the grid:\n",
        "grid = {'kernel': kernels,'C':Cs}\n",
        "\n",
        "#Setting the search:\n",
        "# For scoring: https://scikit-learn.org/stable/modules/model_evaluation.html#scoring-parameter\n",
        "\n",
        "gridSearch = GridSearchCV(svr, grid, scoring='r2', cv=k_fold, refit=True)\n",
        "gridSearch.fit(X_train, y_train)\n",
        "results = gridSearch.cv_results_\n",
        "\n",
        "print('Best R^2 obtained:', gridSearch.best_score_)\n",
        "print('gamma value for the best case:', gridSearch.best_estimator_.gamma)\n",
        "print('kernel value for the best case:', gridSearch.best_estimator_.kernel)\n",
        "print('C value for the best case:', gridSearch.best_estimator_.C)"
      ],
      "execution_count": null,
      "outputs": [
        {
          "output_type": "stream",
          "text": [
            "Best R^2 obtained: 0.8290567419308177\n",
            "gamma value for the best case: scale\n",
            "kernel value for the best case: rbf\n",
            "C value for the best case: 1000.0\n"
          ],
          "name": "stdout"
        }
      ]
    },
    {
      "cell_type": "code",
      "metadata": {
        "id": "12sDwi1ZHr3P",
        "colab": {
          "base_uri": "https://localhost:8080/"
        },
        "outputId": "e7121b4f-b130-4102-c20b-454c407493ba"
      },
      "source": [
        "#Saving the best parameters back to model:\n",
        "svr = gridSearch.best_estimator_\n",
        "#Alpha and l1 values of the model:\n",
        "svr.kernel, svr.C, svr.gamma"
      ],
      "execution_count": null,
      "outputs": [
        {
          "output_type": "execute_result",
          "data": {
            "text/plain": [
              "('rbf', 1000.0, 'scale')"
            ]
          },
          "metadata": {
            "tags": []
          },
          "execution_count": 48
        }
      ]
    },
    {
      "cell_type": "code",
      "metadata": {
        "id": "pcUHXO_UHr3u",
        "colab": {
          "base_uri": "https://localhost:8080/",
          "height": 81
        },
        "outputId": "18113a71-0cd8-4f7d-f831-8ce4a0454ee4"
      },
      "source": [
        "# Test Problem:\n",
        "test_data = X_test.sample(1,random_state=11).copy()\n",
        "test_data"
      ],
      "execution_count": null,
      "outputs": [
        {
          "output_type": "execute_result",
          "data": {
            "text/html": [
              "<div>\n",
              "<style scoped>\n",
              "    .dataframe tbody tr th:only-of-type {\n",
              "        vertical-align: middle;\n",
              "    }\n",
              "\n",
              "    .dataframe tbody tr th {\n",
              "        vertical-align: top;\n",
              "    }\n",
              "\n",
              "    .dataframe thead th {\n",
              "        text-align: right;\n",
              "    }\n",
              "</style>\n",
              "<table border=\"1\" class=\"dataframe\">\n",
              "  <thead>\n",
              "    <tr style=\"text-align: right;\">\n",
              "      <th></th>\n",
              "      <th>frequency</th>\n",
              "      <th>angle_attack</th>\n",
              "      <th>chord_length</th>\n",
              "      <th>Free-stream_velocity</th>\n",
              "      <th>displacement_thickness</th>\n",
              "    </tr>\n",
              "  </thead>\n",
              "  <tbody>\n",
              "    <tr>\n",
              "      <th>317</th>\n",
              "      <td>-0.757215</td>\n",
              "      <td>-0.470289</td>\n",
              "      <td>0.98441</td>\n",
              "      <td>0.298007</td>\n",
              "      <td>-0.521357</td>\n",
              "    </tr>\n",
              "  </tbody>\n",
              "</table>\n",
              "</div>"
            ],
            "text/plain": [
              "     frequency  angle_attack  ...  Free-stream_velocity  displacement_thickness\n",
              "317  -0.757215     -0.470289  ...              0.298007               -0.521357\n",
              "\n",
              "[1 rows x 5 columns]"
            ]
          },
          "metadata": {
            "tags": []
          },
          "execution_count": 49
        }
      ]
    },
    {
      "cell_type": "code",
      "metadata": {
        "id": "jViyga_3Hr30",
        "colab": {
          "base_uri": "https://localhost:8080/"
        },
        "outputId": "012336a0-dbd7-44b3-b601-9dd674edc973"
      },
      "source": [
        "#Making a prediction with the model:\n",
        "svr.predict(test_data)"
      ],
      "execution_count": null,
      "outputs": [
        {
          "output_type": "execute_result",
          "data": {
            "text/plain": [
              "array([129.34503709])"
            ]
          },
          "metadata": {
            "tags": []
          },
          "execution_count": 50
        }
      ]
    },
    {
      "cell_type": "code",
      "metadata": {
        "id": "dHOMcEGkQijp",
        "colab": {
          "base_uri": "https://localhost:8080/"
        },
        "outputId": "52927c33-9cd6-49e4-f9aa-b70255e8ed0f"
      },
      "source": [
        "#Checking for the true value:\n",
        "y_test[test_data.index]"
      ],
      "execution_count": null,
      "outputs": [
        {
          "output_type": "execute_result",
          "data": {
            "text/plain": [
              "317    127.314\n",
              "Name: sound_pressure, dtype: float64"
            ]
          },
          "metadata": {
            "tags": []
          },
          "execution_count": 51
        }
      ]
    },
    {
      "cell_type": "code",
      "metadata": {
        "id": "j4B6uKgMaCiA",
        "colab": {
          "base_uri": "https://localhost:8080/"
        },
        "outputId": "a325a049-19cc-4273-bfbb-c025dba2a653"
      },
      "source": [
        "#Lets try a self-defined error for this instance:\n",
        "relative_error = abs(model.predict(test_data)-y_test[test_data.index])/y_test[test_data.index]*100\n",
        "print('Relative percentage error is:',round(relative_error.values[0],2),'%')"
      ],
      "execution_count": null,
      "outputs": [
        {
          "output_type": "stream",
          "text": [
            "Relative percentage error is: 0.21 %\n"
          ],
          "name": "stdout"
        }
      ]
    },
    {
      "cell_type": "markdown",
      "metadata": {
        "id": "lmH6K9yI4IKX"
      },
      "source": [
        "## Visualizing the learning curve for SVM"
      ]
    },
    {
      "cell_type": "code",
      "metadata": {
        "id": "9hzY2pvSdCvw",
        "colab": {
          "base_uri": "https://localhost:8080/",
          "height": 279
        },
        "outputId": "0f029837-84d7-48be-abdb-1b107849b6ee"
      },
      "source": [
        "#Note:\n",
        "# The function is already defined in ElasticNet.\n",
        "#  \n",
        "# Calling our function to draw the learning curve for SVM:\n",
        "plot_learning_curves(svr,X_train, X_test, y_train, y_test)"
      ],
      "execution_count": null,
      "outputs": [
        {
          "output_type": "display_data",
          "data": {
            "image/png": "[encoded data removed]",
            "text/plain": [
              "<Figure size 432x288 with 1 Axes>"
            ]
          },
          "metadata": {
            "tags": [],
            "needs_background": "light"
          }
        }
      ]
    },
    {
      "cell_type": "markdown",
      "metadata": {
        "id": "zJeQHrXCPLe9"
      },
      "source": [
        "# An Alternative Linear Approach: Bayesian Regression\n",
        "\n",
        "This is a self-study exercise for you! Look into the explainations in the scikit learn user guides if needed.\n",
        "\n",
        "https://scikit-learn.org/stable/modules/linear_model.html#bayesian-regression\n",
        "\n",
        "https://scikit-learn.org/stable/modules/generated/sklearn.linear_model.BayesianRidge.html\n",
        "\n",
        "\n",
        "A good exercise would be the implementation of the grid search for this method as well. Follow the above examples and repeat the procedure here!\n",
        "\n",
        "Check also:\n",
        "\n",
        "https://scikit-learn.org/stable/auto_examples/linear_model/plot_bayesian_ridge.html\n",
        "\n",
        "https://scikit-learn.org/stable/auto_examples/linear_model/plot_bayesian_ridge_curvefit.html\n",
        "\n",
        "\n",
        "\n"
      ]
    },
    {
      "cell_type": "code",
      "metadata": {
        "id": "_Vay3yl0PTmr"
      },
      "source": [
        "# Hyperparameters:\n",
        "\n",
        "alpha_1 = 1e-06\n",
        "alpha_2 = 1e-06 \n",
        "lambda_1 = 1e-06\n",
        "lambda_2 = 1e-06\n",
        "normalize = False\n",
        "\n",
        "brr = BayesianRidge(alpha_1=alpha_1,alpha_2=alpha_2, lambda_1=lambda_1, lambda_2=lambda_2)"
      ],
      "execution_count": null,
      "outputs": []
    },
    {
      "cell_type": "code",
      "metadata": {
        "id": "kRJgIGaBUlEI",
        "colab": {
          "base_uri": "https://localhost:8080/"
        },
        "outputId": "666db059-6251-46ac-ee73-ff7b5723702d"
      },
      "source": [
        "# Model Training:\n",
        "#-----------------------------------------------------------------------------\n",
        "#Lists for storing scores\n",
        "trainingScores = []\n",
        "cvScores = []\n",
        "\n",
        "#DataFrame is a 2-dimensional labeled data structure. You can think of it like a spreadsheet.\n",
        "#Indexing in pandas means simply selecting particular rows and columns of data from a DataFrame.\n",
        "#It is  also known as Subset Selection.\n",
        "predictionsBasedOnKFolds = pd.DataFrame(data=[],index=y_train.index,columns=[0,1])\n",
        "\n",
        "####Modified###\n",
        "model = brr\n",
        "\n",
        "#kfold.split will generate indices to split data into training and test set (cv):\n",
        "for train_index, cv_index in k_fold.split(np.zeros(len(X_train)),y_train.ravel()):\n",
        "\n",
        "  #'iloc' can be used when the user doesn’t know the index label:\n",
        "  #Here we are filtering the data based on indices. Data is divided as 902/225.\n",
        "  X_train_fold, X_cv_fold = X_train.iloc[train_index,:], X_train.iloc[cv_index,:]\n",
        "  y_train_fold, y_cv_fold = y_train.iloc[train_index], y_train.iloc[cv_index]\n",
        "\n",
        "  #Fitting the model according to given data:\n",
        "  #Note that model refers to Lasso.\n",
        "  model.fit(X_train_fold, y_train_fold)\n",
        "\n",
        "  #Lets check how good is the fitting.\n",
        "  #'score' returns the coefficient of determination R^2 of the prediction. It is defined as (1 - u/v), \n",
        "  # where u is the residual sum of squares ((y_true - y_pred) ** 2).sum() and v is the total sum of squares ((y_true - y_true.mean()) ** 2).sum(). \n",
        "  #The best possible score is 1.0 and it can be negative (because the model can be arbitrarily worse). \n",
        "  \n",
        "  # We will first look in the training dataset:\n",
        "  scoreTraining = model.score(X_train_fold, y_train_fold)\n",
        "  #Saving our analysis on the list:\n",
        "  trainingScores.append(scoreTraining)\n",
        "\n",
        "  #Lets see how good it is on CV dataset:\n",
        "  scoreCV = model.score(X_cv_fold, y_cv_fold)\n",
        "  #Saving our analysis on the list:\n",
        "  cvScores.append(scoreCV)\n",
        "\n",
        "  #printing the results:\n",
        "  print('Training Score: ', scoreTraining)\n",
        "  print('CV Score: ', scoreCV)\n",
        "\n",
        "#Lets see the overall score for the entire training set (1127)\n",
        "\n",
        "####Modified###\n",
        "scoreBRR = model.score(X_train,y_train)\n",
        "print('-----------------------------------')\n",
        "print('BR Regression Score: ', scoreBRR)\n",
        "print('-----------------------------------')"
      ],
      "execution_count": null,
      "outputs": [
        {
          "output_type": "stream",
          "text": [
            "Training Score:  0.5225467304029023\n",
            "CV Score:  0.4594941689836572\n",
            "Training Score:  0.5138005114174333\n",
            "CV Score:  0.4944081366287578\n",
            "Training Score:  0.506928624890352\n",
            "CV Score:  0.5277908126767137\n",
            "Training Score:  0.4971709795254716\n",
            "CV Score:  0.5481390789891198\n",
            "Training Score:  0.5183418178830451\n",
            "CV Score:  0.47597628705725725\n",
            "-----------------------------------\n",
            "BR Regression Score:  0.5104648562432805\n",
            "-----------------------------------\n"
          ],
          "name": "stdout"
        }
      ]
    },
    {
      "cell_type": "code",
      "metadata": {
        "id": "qbpu6p8zcddP",
        "colab": {
          "base_uri": "https://localhost:8080/",
          "height": 81
        },
        "outputId": "2872ac12-3718-491a-bfe1-9ed254a256bd"
      },
      "source": [
        "# Test Problem:\n",
        "test_data = X_test.sample(1,random_state=121).copy()\n",
        "test_data"
      ],
      "execution_count": null,
      "outputs": [
        {
          "output_type": "execute_result",
          "data": {
            "text/html": [
              "<div>\n",
              "<style scoped>\n",
              "    .dataframe tbody tr th:only-of-type {\n",
              "        vertical-align: middle;\n",
              "    }\n",
              "\n",
              "    .dataframe tbody tr th {\n",
              "        vertical-align: top;\n",
              "    }\n",
              "\n",
              "    .dataframe thead th {\n",
              "        text-align: right;\n",
              "    }\n",
              "</style>\n",
              "<table border=\"1\" class=\"dataframe\">\n",
              "  <thead>\n",
              "    <tr style=\"text-align: right;\">\n",
              "      <th></th>\n",
              "      <th>frequency</th>\n",
              "      <th>angle_attack</th>\n",
              "      <th>chord_length</th>\n",
              "      <th>Free-stream_velocity</th>\n",
              "      <th>displacement_thickness</th>\n",
              "    </tr>\n",
              "  </thead>\n",
              "  <tbody>\n",
              "    <tr>\n",
              "      <th>722</th>\n",
              "      <td>0.353359</td>\n",
              "      <td>0.983357</td>\n",
              "      <td>0.16952</td>\n",
              "      <td>-0.723345</td>\n",
              "      <td>3.595917</td>\n",
              "    </tr>\n",
              "  </tbody>\n",
              "</table>\n",
              "</div>"
            ],
            "text/plain": [
              "     frequency  angle_attack  ...  Free-stream_velocity  displacement_thickness\n",
              "722   0.353359      0.983357  ...             -0.723345                3.595917\n",
              "\n",
              "[1 rows x 5 columns]"
            ]
          },
          "metadata": {
            "tags": []
          },
          "execution_count": 56
        }
      ]
    },
    {
      "cell_type": "code",
      "metadata": {
        "id": "5BdCZRbGb9Hn",
        "colab": {
          "base_uri": "https://localhost:8080/"
        },
        "outputId": "a0f75322-8b47-4d5e-8c23-6ee426f349e4"
      },
      "source": [
        "y_mean, y_std = brr.predict(test_data, return_std=True)\n",
        "print ('Predicted value is  %5.2f' %y_mean[0], ' with a SD of  %5.2f' %y_std)"
      ],
      "execution_count": null,
      "outputs": [
        {
          "output_type": "stream",
          "text": [
            "Predicted value is  112.52  with a SD of   4.91\n"
          ],
          "name": "stdout"
        }
      ]
    },
    {
      "cell_type": "code",
      "metadata": {
        "id": "tLrpuh0HcSQf",
        "colab": {
          "base_uri": "https://localhost:8080/"
        },
        "outputId": "7f0b70c7-1422-46eb-8875-9de96302a62c"
      },
      "source": [
        "print ('Test value is  %5.2f' %y_test._get_value(test_data.index.ravel()[0]))"
      ],
      "execution_count": null,
      "outputs": [
        {
          "output_type": "stream",
          "text": [
            "Test value is  104.50\n"
          ],
          "name": "stdout"
        }
      ]
    },
    {
      "cell_type": "code",
      "metadata": {
        "id": "S2cJDOj3cS1u",
        "colab": {
          "base_uri": "https://localhost:8080/"
        },
        "outputId": "d7b97439-c039-4699-f7b1-b7c8e95064ec"
      },
      "source": [
        "relative_error = abs(model.predict(test_data)-y_test[test_data.index])/y_test[test_data.index]*100\n",
        "print('Relative percentage error is:',round(relative_error.values[0],2),'%')"
      ],
      "execution_count": null,
      "outputs": [
        {
          "output_type": "stream",
          "text": [
            "Relative percentage error is: 7.88 %\n"
          ],
          "name": "stdout"
        }
      ]
    },
    {
      "cell_type": "markdown",
      "metadata": {
        "id": "1yivOgiD7hI9"
      },
      "source": [
        "The prediction is within 2 $\\sigma$ interval!"
      ]
    },
    {
      "cell_type": "markdown",
      "metadata": {
        "id": "gp0chkF-7p7U"
      },
      "source": [
        "## Learning Curve"
      ]
    },
    {
      "cell_type": "code",
      "metadata": {
        "id": "RaVYDHztdR3W",
        "colab": {
          "base_uri": "https://localhost:8080/",
          "height": 285
        },
        "outputId": "bf4327af-8f73-4438-9ca1-a3d861ab6bf5"
      },
      "source": [
        "def plot_learning_curves(model, X_train, X_test, y_train, y_test):\n",
        "  train_errors, val_errors = [], []\n",
        "  for m in range(1, 100):\n",
        "    model.fit(X_train[:m], y_train[:m])\n",
        "    y_train_predict = model.predict(X_train[:m])\n",
        "    y_test_predict = model.predict(X_test)\n",
        "    train_errors.append(mean_squared_error(y_train[:m], y_train_predict))\n",
        "    val_errors.append(mean_squared_error(y_test, y_test_predict))\n",
        "  plt.plot(np.sqrt(train_errors), \"k--\", linewidth=1.5, label=\"train\")\n",
        "  plt.plot(np.sqrt(val_errors), \"b-.\", linewidth=1.5, label=\"test\")\n",
        "  plt.legend()\n",
        "  plt.xlim(0, 100),  plt.ylim(1,10)\n",
        "  plt.yscale(\"log\")\n",
        "  plt.xlabel(\"Instances\"),  plt.ylabel(\"MSE\")\n",
        "  \n",
        "\n",
        "plot_learning_curves(brr,X_train, X_test, y_train, y_test)"
      ],
      "execution_count": null,
      "outputs": [
        {
          "output_type": "display_data",
          "data": {
            "image/png": "[encoded data removed]",
            "text/plain": [
              "<Figure size 432x288 with 1 Axes>"
            ]
          },
          "metadata": {
            "tags": [],
            "needs_background": "light"
          }
        }
      ]
    },
    {
      "cell_type": "markdown",
      "metadata": {
        "id": "2NLjv7MBlkmK"
      },
      "source": [
        "# Reading Material\n",
        "\n",
        "Christopher M. Bishop: Pattern Recognition and Machine Learning, Chapter 3, 7\n",
        "\n",
        "Mehryar Mohri, Foundations of Machine Learning, second edition, Chapter 5, 11\n",
        "\n",
        "https://www.jmlr.org/papers/volume1/tipping01a/tipping01a.pdf"
      ]
    }
  ]
}