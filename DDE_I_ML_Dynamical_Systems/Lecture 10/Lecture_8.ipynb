{
  "nbformat": 4,
  "nbformat_minor": 0,
  "metadata": {
    "colab": {
      "name": "Lecture_8.ipynb",
      "provenance": [],
      "collapsed_sections": [],
      "toc_visible": true
    },
    "kernelspec": {
      "display_name": "Python 3",
      "name": "python3"
    },
    "accelerator": "GPU"
  },
  "cells": [
    {
      "cell_type": "markdown",
      "metadata": {
        "id": "cQxGOeC7ZmUj"
      },
      "source": [
        "# Active Session 8: Autoencoders"
      ]
    },
    {
      "cell_type": "markdown",
      "metadata": {
        "id": "SGDnRis4GSYs"
      },
      "source": [
        "[![Open In Colab](https://colab.research.google.com/assets/colab-badge.svg)](https://colab.research.google.com/github/cihan-ates/data-driven-engineering/blob/master/DDE_I_ML_Dynamical_Systems/Lecture%2010/Lecture_8.ipynb)\n"
      ]
    },

    {
      "cell_type": "markdown",
      "metadata": {
        "id": "VpF0Ype1X_L7"
      },
      "source": [
        "# Important Note\n",
        "\n",
        "Lecture notes and notebooks must not be copied and/or distributed without the express permission of ITS.\n",
        "\n",
        "\n",
        "\n"
      ]
    },
    {
      "cell_type": "markdown",
      "metadata": {
        "id": "Qd9INdBXZKdR"
      },
      "source": [
        "# 1. Problem Definition: Probe into the Data\n",
        "\n",
        "In this dataset, we will be looking into manufacturing error analysis. The dataset includes modified sensory inputs collected on the manufacturing line and we will be using this multi-dimensional input data to predict the defective products via dimensionality reduction. \n",
        "\n",
        "Note that the data set includes over 280,000 instances, where only a small fraction (~500) is defective. \n"
      ]
    },
    {
      "cell_type": "markdown",
      "metadata": {
        "id": "C9yyayGmmaKy"
      },
      "source": [
        "\n",
        "# 2. Preparing the enviroment\n",
        "\n",
        "Import the Python libraries that we will need to (i) load the data, (ii) analyze it, (iii) create our model, (iv) process the results."
      ]
    },
    {
      "cell_type": "code",
      "metadata": {
        "colab": {
          "base_uri": "https://localhost:8080/"
        },
        "id": "wij7xGhSeTJQ",
        "outputId": "0defab6f-9638-4fa5-f10d-3a387b635f22"
      },
      "source": [
        "!pip install ipython-autotime\n",
        "%load_ext autotime"
      ],
      "execution_count": 1,
      "outputs": [
        {
          "output_type": "stream",
          "text": [
            "Requirement already satisfied: ipython-autotime in /usr/local/lib/python3.6/dist-packages (0.3.1)\n",
            "Requirement already satisfied: ipython in /usr/local/lib/python3.6/dist-packages (from ipython-autotime) (5.5.0)\n",
            "Requirement already satisfied: pickleshare in /usr/local/lib/python3.6/dist-packages (from ipython->ipython-autotime) (0.7.5)\n",
            "Requirement already satisfied: simplegeneric>0.8 in /usr/local/lib/python3.6/dist-packages (from ipython->ipython-autotime) (0.8.1)\n",
            "Requirement already satisfied: pexpect; sys_platform != \"win32\" in /usr/local/lib/python3.6/dist-packages (from ipython->ipython-autotime) (4.8.0)\n",
            "Requirement already satisfied: prompt-toolkit<2.0.0,>=1.0.4 in /usr/local/lib/python3.6/dist-packages (from ipython->ipython-autotime) (1.0.18)\n",
            "Requirement already satisfied: traitlets>=4.2 in /usr/local/lib/python3.6/dist-packages (from ipython->ipython-autotime) (4.3.3)\n",
            "Requirement already satisfied: decorator in /usr/local/lib/python3.6/dist-packages (from ipython->ipython-autotime) (4.4.2)\n",
            "Requirement already satisfied: setuptools>=18.5 in /usr/local/lib/python3.6/dist-packages (from ipython->ipython-autotime) (51.1.1)\n",
            "Requirement already satisfied: pygments in /usr/local/lib/python3.6/dist-packages (from ipython->ipython-autotime) (2.6.1)\n",
            "Requirement already satisfied: ptyprocess>=0.5 in /usr/local/lib/python3.6/dist-packages (from pexpect; sys_platform != \"win32\"->ipython->ipython-autotime) (0.7.0)\n",
            "Requirement already satisfied: wcwidth in /usr/local/lib/python3.6/dist-packages (from prompt-toolkit<2.0.0,>=1.0.4->ipython->ipython-autotime) (0.2.5)\n",
            "Requirement already satisfied: six>=1.9.0 in /usr/local/lib/python3.6/dist-packages (from prompt-toolkit<2.0.0,>=1.0.4->ipython->ipython-autotime) (1.15.0)\n",
            "Requirement already satisfied: ipython-genutils in /usr/local/lib/python3.6/dist-packages (from traitlets>=4.2->ipython->ipython-autotime) (0.2.0)\n",
            "time: 1.37 ms (started: 2021-01-18 16:03:04 +00:00)\n"
          ],
          "name": "stdout"
        }
      ]
    },
    {
      "cell_type": "code",
      "metadata": {
        "colab": {
          "base_uri": "https://localhost:8080/"
        },
        "id": "uW8J7tNjnhUA",
        "outputId": "8ad476bc-24ba-4319-d99c-9608bc0af613"
      },
      "source": [
        "#Importing the necessary libraries\n",
        "import numpy as np\n",
        "import pandas as pd\n",
        "import os\n",
        "import io\n",
        "import matplotlib.pyplot as plt\n",
        "from mpl_toolkits.mplot3d import Axes3D\n",
        "import matplotlib.cm as cm\n",
        "import seaborn as sns\n",
        "color = sns.color_palette()\n",
        "import matplotlib as mpl\n",
        "#import altair as alt\n",
        "import plotly.express as px"
      ],
      "execution_count": 2,
      "outputs": [
        {
          "output_type": "stream",
          "text": [
            "time: 586 ms (started: 2021-01-18 16:03:04 +00:00)\n"
          ],
          "name": "stdout"
        }
      ]
    },
    {
      "cell_type": "code",
      "metadata": {
        "colab": {
          "base_uri": "https://localhost:8080/"
        },
        "id": "1y0E6LuJnmo1",
        "outputId": "5d95562c-ceef-4e46-9671-7b474a3bd3cc"
      },
      "source": [
        "# Data Preparation\n",
        "from sklearn import preprocessing as pp\n",
        "from sklearn.model_selection import train_test_split\n",
        "from sklearn.metrics import precision_recall_curve, average_precision_score\n",
        "from sklearn.metrics import confusion_matrix, classification_report\n"
      ],
      "execution_count": 3,
      "outputs": [
        {
          "output_type": "stream",
          "text": [
            "time: 39 ms (started: 2021-01-18 16:03:05 +00:00)\n"
          ],
          "name": "stdout"
        }
      ]
    },
    {
      "cell_type": "code",
      "metadata": {
        "colab": {
          "base_uri": "https://localhost:8080/"
        },
        "id": "bORVNhyTntvS",
        "outputId": "f2cc1b97-218d-4aba-8e4b-67f4e9582f28"
      },
      "source": [
        "# ML Algorithms to be used\n",
        "import tensorflow as tf\n",
        "import keras\n",
        "from keras import backend as K\n",
        "from keras.models import Sequential, Model\n",
        "from keras import optimizers, models, layers, regularizers\n",
        "from keras.layers import Activation, Dense, Dropout\n",
        "from keras.layers import BatchNormalization, Input, Lambda\n",
        "from keras.losses import mse, binary_crossentropy"
      ],
      "execution_count": 4,
      "outputs": [
        {
          "output_type": "stream",
          "text": [
            "time: 1.42 s (started: 2021-01-18 16:03:05 +00:00)\n"
          ],
          "name": "stdout"
        }
      ]
    },
    {
      "cell_type": "markdown",
      "metadata": {
        "id": "_4cDs8HWmfhF"
      },
      "source": [
        "# 3. Pre-processing\n"
      ]
    },
    {
      "cell_type": "markdown",
      "metadata": {
        "id": "R2p8AIqRvakC"
      },
      "source": [
        "## Loading the Data\n",
        "\n",
        "We need to upload the dataset to Colab enviroment. Pandas library is a practical way to load and read the data from an url. \n",
        "\n",
        "The data is on ILIAS so this week you need to upload the data from your local pc / by using Google Drive link. "
      ]
    },
    {
      "cell_type": "code",
      "metadata": {
        "colab": {
          "base_uri": "https://localhost:8080/"
        },
        "id": "q-j5frJTh5vW",
        "outputId": "2f3dd8a7-a73e-4892-bc52-d2a15e4107be"
      },
      "source": [
        "# Loading the data\n",
        "\n",
        "#Local drive:\n",
        "#from google.colab import files\n",
        "#uploaded = files.upload()\n",
        "#data = pd.read_csv('manufacturing.csv')\n",
        "#data.head()"
      ],
      "execution_count": 5,
      "outputs": [
        {
          "output_type": "stream",
          "text": [
            "time: 1.49 ms (started: 2021-01-18 16:03:06 +00:00)\n"
          ],
          "name": "stdout"
        }
      ]
    },
    {
      "cell_type": "code",
      "metadata": {
        "colab": {
          "base_uri": "https://localhost:8080/"
        },
        "id": "PblFr19N6MYw",
        "outputId": "ca0dec0c-854a-4976-fa62-644a9093ed77"
      },
      "source": [
        "# Loading the data\n",
        "!pip install -U -q PyDrive\n",
        "from pydrive.auth import GoogleAuth\n",
        "from pydrive.drive import GoogleDrive\n",
        "from google.colab import auth\n",
        "from oauth2client.client import GoogleCredentials# Authenticate and create the PyDrive client.\n",
        "auth.authenticate_user()\n",
        "gauth = GoogleAuth()\n",
        "gauth.credentials = GoogleCredentials.get_application_default()\n",
        "drive = GoogleDrive(gauth)"
      ],
      "execution_count": 6,
      "outputs": [
        {
          "output_type": "stream",
          "text": [
            "time: 2.22 s (started: 2021-01-18 16:03:06 +00:00)\n"
          ],
          "name": "stdout"
        }
      ]
    },
    {
      "cell_type": "code",
      "metadata": {
        "colab": {
          "base_uri": "https://localhost:8080/",
          "height": 245
        },
        "id": "lP0FCEaz6qJC",
        "outputId": "3d25306f-f0b7-488a-e850-c4abe1b54646"
      },
      "source": [
        "downloaded = drive.CreateFile({'id':'1mQZTB5gEkal_qH0TiivXAJY082Wclfbo'}) \n",
        "downloaded.GetContentFile('manufacturing.csv')\n",
        "data = pd.read_csv('manufacturing.csv')\n",
        "data.head()"
      ],
      "execution_count": 7,
      "outputs": [
        {
          "output_type": "execute_result",
          "data": {
            "text/html": [
              "<div>\n",
              "<style scoped>\n",
              "    .dataframe tbody tr th:only-of-type {\n",
              "        vertical-align: middle;\n",
              "    }\n",
              "\n",
              "    .dataframe tbody tr th {\n",
              "        vertical-align: top;\n",
              "    }\n",
              "\n",
              "    .dataframe thead th {\n",
              "        text-align: right;\n",
              "    }\n",
              "</style>\n",
              "<table border=\"1\" class=\"dataframe\">\n",
              "  <thead>\n",
              "    <tr style=\"text-align: right;\">\n",
              "      <th></th>\n",
              "      <th>Time</th>\n",
              "      <th>S1</th>\n",
              "      <th>S2</th>\n",
              "      <th>S3</th>\n",
              "      <th>S4</th>\n",
              "      <th>S5</th>\n",
              "      <th>S6</th>\n",
              "      <th>S7</th>\n",
              "      <th>S8</th>\n",
              "      <th>S9</th>\n",
              "      <th>S10</th>\n",
              "      <th>S11</th>\n",
              "      <th>S12</th>\n",
              "      <th>S13</th>\n",
              "      <th>S14</th>\n",
              "      <th>S15</th>\n",
              "      <th>S16</th>\n",
              "      <th>S17</th>\n",
              "      <th>S18</th>\n",
              "      <th>S19</th>\n",
              "      <th>S20</th>\n",
              "      <th>S21</th>\n",
              "      <th>S22</th>\n",
              "      <th>S23</th>\n",
              "      <th>S24</th>\n",
              "      <th>S25</th>\n",
              "      <th>S26</th>\n",
              "      <th>S27</th>\n",
              "      <th>S28</th>\n",
              "      <th>Class</th>\n",
              "    </tr>\n",
              "  </thead>\n",
              "  <tbody>\n",
              "    <tr>\n",
              "      <th>0</th>\n",
              "      <td>0.0</td>\n",
              "      <td>-1.359807</td>\n",
              "      <td>-0.072781</td>\n",
              "      <td>2.536347</td>\n",
              "      <td>1.378155</td>\n",
              "      <td>-0.338321</td>\n",
              "      <td>0.462388</td>\n",
              "      <td>0.239599</td>\n",
              "      <td>0.098698</td>\n",
              "      <td>0.363787</td>\n",
              "      <td>0.090794</td>\n",
              "      <td>-0.551600</td>\n",
              "      <td>-0.617801</td>\n",
              "      <td>-0.991390</td>\n",
              "      <td>-0.311169</td>\n",
              "      <td>1.468177</td>\n",
              "      <td>-0.470401</td>\n",
              "      <td>0.207971</td>\n",
              "      <td>0.025791</td>\n",
              "      <td>0.403993</td>\n",
              "      <td>0.251412</td>\n",
              "      <td>-0.018307</td>\n",
              "      <td>0.277838</td>\n",
              "      <td>-0.110474</td>\n",
              "      <td>0.066928</td>\n",
              "      <td>0.128539</td>\n",
              "      <td>-0.189115</td>\n",
              "      <td>0.133558</td>\n",
              "      <td>-0.021053</td>\n",
              "      <td>regular</td>\n",
              "    </tr>\n",
              "    <tr>\n",
              "      <th>1</th>\n",
              "      <td>0.0</td>\n",
              "      <td>1.191857</td>\n",
              "      <td>0.266151</td>\n",
              "      <td>0.166480</td>\n",
              "      <td>0.448154</td>\n",
              "      <td>0.060018</td>\n",
              "      <td>-0.082361</td>\n",
              "      <td>-0.078803</td>\n",
              "      <td>0.085102</td>\n",
              "      <td>-0.255425</td>\n",
              "      <td>-0.166974</td>\n",
              "      <td>1.612727</td>\n",
              "      <td>1.065235</td>\n",
              "      <td>0.489095</td>\n",
              "      <td>-0.143772</td>\n",
              "      <td>0.635558</td>\n",
              "      <td>0.463917</td>\n",
              "      <td>-0.114805</td>\n",
              "      <td>-0.183361</td>\n",
              "      <td>-0.145783</td>\n",
              "      <td>-0.069083</td>\n",
              "      <td>-0.225775</td>\n",
              "      <td>-0.638672</td>\n",
              "      <td>0.101288</td>\n",
              "      <td>-0.339846</td>\n",
              "      <td>0.167170</td>\n",
              "      <td>0.125895</td>\n",
              "      <td>-0.008983</td>\n",
              "      <td>0.014724</td>\n",
              "      <td>regular</td>\n",
              "    </tr>\n",
              "    <tr>\n",
              "      <th>2</th>\n",
              "      <td>1.0</td>\n",
              "      <td>-1.358354</td>\n",
              "      <td>-1.340163</td>\n",
              "      <td>1.773209</td>\n",
              "      <td>0.379780</td>\n",
              "      <td>-0.503198</td>\n",
              "      <td>1.800499</td>\n",
              "      <td>0.791461</td>\n",
              "      <td>0.247676</td>\n",
              "      <td>-1.514654</td>\n",
              "      <td>0.207643</td>\n",
              "      <td>0.624501</td>\n",
              "      <td>0.066084</td>\n",
              "      <td>0.717293</td>\n",
              "      <td>-0.165946</td>\n",
              "      <td>2.345865</td>\n",
              "      <td>-2.890083</td>\n",
              "      <td>1.109969</td>\n",
              "      <td>-0.121359</td>\n",
              "      <td>-2.261857</td>\n",
              "      <td>0.524980</td>\n",
              "      <td>0.247998</td>\n",
              "      <td>0.771679</td>\n",
              "      <td>0.909412</td>\n",
              "      <td>-0.689281</td>\n",
              "      <td>-0.327642</td>\n",
              "      <td>-0.139097</td>\n",
              "      <td>-0.055353</td>\n",
              "      <td>-0.059752</td>\n",
              "      <td>regular</td>\n",
              "    </tr>\n",
              "    <tr>\n",
              "      <th>3</th>\n",
              "      <td>1.0</td>\n",
              "      <td>-0.966272</td>\n",
              "      <td>-0.185226</td>\n",
              "      <td>1.792993</td>\n",
              "      <td>-0.863291</td>\n",
              "      <td>-0.010309</td>\n",
              "      <td>1.247203</td>\n",
              "      <td>0.237609</td>\n",
              "      <td>0.377436</td>\n",
              "      <td>-1.387024</td>\n",
              "      <td>-0.054952</td>\n",
              "      <td>-0.226487</td>\n",
              "      <td>0.178228</td>\n",
              "      <td>0.507757</td>\n",
              "      <td>-0.287924</td>\n",
              "      <td>-0.631418</td>\n",
              "      <td>-1.059647</td>\n",
              "      <td>-0.684093</td>\n",
              "      <td>1.965775</td>\n",
              "      <td>-1.232622</td>\n",
              "      <td>-0.208038</td>\n",
              "      <td>-0.108300</td>\n",
              "      <td>0.005274</td>\n",
              "      <td>-0.190321</td>\n",
              "      <td>-1.175575</td>\n",
              "      <td>0.647376</td>\n",
              "      <td>-0.221929</td>\n",
              "      <td>0.062723</td>\n",
              "      <td>0.061458</td>\n",
              "      <td>regular</td>\n",
              "    </tr>\n",
              "    <tr>\n",
              "      <th>4</th>\n",
              "      <td>2.0</td>\n",
              "      <td>-1.158233</td>\n",
              "      <td>0.877737</td>\n",
              "      <td>1.548718</td>\n",
              "      <td>0.403034</td>\n",
              "      <td>-0.407193</td>\n",
              "      <td>0.095921</td>\n",
              "      <td>0.592941</td>\n",
              "      <td>-0.270533</td>\n",
              "      <td>0.817739</td>\n",
              "      <td>0.753074</td>\n",
              "      <td>-0.822843</td>\n",
              "      <td>0.538196</td>\n",
              "      <td>1.345852</td>\n",
              "      <td>-1.119670</td>\n",
              "      <td>0.175121</td>\n",
              "      <td>-0.451449</td>\n",
              "      <td>-0.237033</td>\n",
              "      <td>-0.038195</td>\n",
              "      <td>0.803487</td>\n",
              "      <td>0.408542</td>\n",
              "      <td>-0.009431</td>\n",
              "      <td>0.798278</td>\n",
              "      <td>-0.137458</td>\n",
              "      <td>0.141267</td>\n",
              "      <td>-0.206010</td>\n",
              "      <td>0.502292</td>\n",
              "      <td>0.219422</td>\n",
              "      <td>0.215153</td>\n",
              "      <td>regular</td>\n",
              "    </tr>\n",
              "  </tbody>\n",
              "</table>\n",
              "</div>"
            ],
            "text/plain": [
              "   Time        S1        S2        S3  ...       S26       S27       S28    Class\n",
              "0   0.0 -1.359807 -0.072781  2.536347  ... -0.189115  0.133558 -0.021053  regular\n",
              "1   0.0  1.191857  0.266151  0.166480  ...  0.125895 -0.008983  0.014724  regular\n",
              "2   1.0 -1.358354 -1.340163  1.773209  ... -0.139097 -0.055353 -0.059752  regular\n",
              "3   1.0 -0.966272 -0.185226  1.792993  ... -0.221929  0.062723  0.061458  regular\n",
              "4   2.0 -1.158233  0.877737  1.548718  ...  0.502292  0.219422  0.215153  regular\n",
              "\n",
              "[5 rows x 30 columns]"
            ]
          },
          "metadata": {
            "tags": []
          },
          "execution_count": 7
        },
        {
          "output_type": "stream",
          "text": [
            "time: 9.51 s (started: 2021-01-18 16:03:08 +00:00)\n"
          ],
          "name": "stdout"
        }
      ]
    },
    {
      "cell_type": "code",
      "metadata": {
        "colab": {
          "base_uri": "https://localhost:8080/"
        },
        "id": "qiEpXuuru_yg",
        "outputId": "eecf88a1-652c-4074-9c2a-e59c8120664b"
      },
      "source": [
        "os.listdir('.')"
      ],
      "execution_count": 8,
      "outputs": [
        {
          "output_type": "execute_result",
          "data": {
            "text/plain": [
              "['.config',\n",
              " 'my_best_model_AE_2.h5',\n",
              " 'my_best_model_AE_reLU.h5',\n",
              " 'manufacturing.csv',\n",
              " 'my_best_model_AE_int.h5',\n",
              " 'adc.json',\n",
              " 'my_best_model_AE.h5',\n",
              " 'my_best_model_noise.h5',\n",
              " 'my_best_model_AE_Sparse.h5',\n",
              " 'my_best_model_AE_Sparse_2.h5',\n",
              " 'sample_data']"
            ]
          },
          "metadata": {
            "tags": []
          },
          "execution_count": 8
        },
        {
          "output_type": "stream",
          "text": [
            "time: 3.48 ms (started: 2021-01-18 16:03:18 +00:00)\n"
          ],
          "name": "stdout"
        }
      ]
    },
    {
      "cell_type": "markdown",
      "metadata": {
        "id": "f-18TOW8jpbL"
      },
      "source": [
        "## Data Exploration\n",
        "Here we will look into the statistics of the data, identify any missing values or categorical features that is needed to be further process.\n",
        "\n",
        "Let’s analyze our dataset first. Use dataset.head(n) to display top n data. You can change dataset.head(n) to dataset.sample(n) to display randomly picked data:"
      ]
    },
    {
      "cell_type": "code",
      "metadata": {
        "colab": {
          "base_uri": "https://localhost:8080/",
          "height": 245
        },
        "id": "W298teURqfi-",
        "outputId": "81bb945a-78e6-4ab2-a9af-0b7f441db09e"
      },
      "source": [
        "data.sample(5)"
      ],
      "execution_count": 9,
      "outputs": [
        {
          "output_type": "execute_result",
          "data": {
            "text/html": [
              "<div>\n",
              "<style scoped>\n",
              "    .dataframe tbody tr th:only-of-type {\n",
              "        vertical-align: middle;\n",
              "    }\n",
              "\n",
              "    .dataframe tbody tr th {\n",
              "        vertical-align: top;\n",
              "    }\n",
              "\n",
              "    .dataframe thead th {\n",
              "        text-align: right;\n",
              "    }\n",
              "</style>\n",
              "<table border=\"1\" class=\"dataframe\">\n",
              "  <thead>\n",
              "    <tr style=\"text-align: right;\">\n",
              "      <th></th>\n",
              "      <th>Time</th>\n",
              "      <th>S1</th>\n",
              "      <th>S2</th>\n",
              "      <th>S3</th>\n",
              "      <th>S4</th>\n",
              "      <th>S5</th>\n",
              "      <th>S6</th>\n",
              "      <th>S7</th>\n",
              "      <th>S8</th>\n",
              "      <th>S9</th>\n",
              "      <th>S10</th>\n",
              "      <th>S11</th>\n",
              "      <th>S12</th>\n",
              "      <th>S13</th>\n",
              "      <th>S14</th>\n",
              "      <th>S15</th>\n",
              "      <th>S16</th>\n",
              "      <th>S17</th>\n",
              "      <th>S18</th>\n",
              "      <th>S19</th>\n",
              "      <th>S20</th>\n",
              "      <th>S21</th>\n",
              "      <th>S22</th>\n",
              "      <th>S23</th>\n",
              "      <th>S24</th>\n",
              "      <th>S25</th>\n",
              "      <th>S26</th>\n",
              "      <th>S27</th>\n",
              "      <th>S28</th>\n",
              "      <th>Class</th>\n",
              "    </tr>\n",
              "  </thead>\n",
              "  <tbody>\n",
              "    <tr>\n",
              "      <th>132851</th>\n",
              "      <td>80143.0</td>\n",
              "      <td>-2.635638</td>\n",
              "      <td>2.371788</td>\n",
              "      <td>-1.057976</td>\n",
              "      <td>-1.699740</td>\n",
              "      <td>-0.595885</td>\n",
              "      <td>-0.025297</td>\n",
              "      <td>-0.913476</td>\n",
              "      <td>1.861117</td>\n",
              "      <td>-0.325056</td>\n",
              "      <td>-0.279705</td>\n",
              "      <td>0.060648</td>\n",
              "      <td>1.510778</td>\n",
              "      <td>1.214124</td>\n",
              "      <td>0.987116</td>\n",
              "      <td>-0.170384</td>\n",
              "      <td>1.092751</td>\n",
              "      <td>-0.449232</td>\n",
              "      <td>-0.042240</td>\n",
              "      <td>-0.446635</td>\n",
              "      <td>-0.027137</td>\n",
              "      <td>0.048252</td>\n",
              "      <td>-0.171165</td>\n",
              "      <td>0.092688</td>\n",
              "      <td>-1.103577</td>\n",
              "      <td>0.108182</td>\n",
              "      <td>0.848057</td>\n",
              "      <td>-0.250755</td>\n",
              "      <td>-0.006164</td>\n",
              "      <td>regular</td>\n",
              "    </tr>\n",
              "    <tr>\n",
              "      <th>118123</th>\n",
              "      <td>74958.0</td>\n",
              "      <td>-1.060513</td>\n",
              "      <td>0.080976</td>\n",
              "      <td>1.786851</td>\n",
              "      <td>-0.608174</td>\n",
              "      <td>0.611665</td>\n",
              "      <td>-0.794440</td>\n",
              "      <td>0.168083</td>\n",
              "      <td>0.120195</td>\n",
              "      <td>-0.688646</td>\n",
              "      <td>-0.476376</td>\n",
              "      <td>0.944446</td>\n",
              "      <td>0.212724</td>\n",
              "      <td>-0.417530</td>\n",
              "      <td>0.417386</td>\n",
              "      <td>0.363860</td>\n",
              "      <td>0.487197</td>\n",
              "      <td>-0.604884</td>\n",
              "      <td>0.366869</td>\n",
              "      <td>0.674630</td>\n",
              "      <td>0.226622</td>\n",
              "      <td>0.012519</td>\n",
              "      <td>-0.292892</td>\n",
              "      <td>-0.132391</td>\n",
              "      <td>0.032214</td>\n",
              "      <td>0.152155</td>\n",
              "      <td>0.939974</td>\n",
              "      <td>-0.075486</td>\n",
              "      <td>0.053509</td>\n",
              "      <td>regular</td>\n",
              "    </tr>\n",
              "    <tr>\n",
              "      <th>132847</th>\n",
              "      <td>80141.0</td>\n",
              "      <td>-1.347806</td>\n",
              "      <td>0.513449</td>\n",
              "      <td>1.066660</td>\n",
              "      <td>-0.049939</td>\n",
              "      <td>-0.124794</td>\n",
              "      <td>0.080693</td>\n",
              "      <td>1.982543</td>\n",
              "      <td>-0.517086</td>\n",
              "      <td>-0.483468</td>\n",
              "      <td>-0.074627</td>\n",
              "      <td>0.921680</td>\n",
              "      <td>0.262428</td>\n",
              "      <td>-0.204474</td>\n",
              "      <td>0.089439</td>\n",
              "      <td>-0.218987</td>\n",
              "      <td>0.487393</td>\n",
              "      <td>-1.191163</td>\n",
              "      <td>0.513584</td>\n",
              "      <td>-0.401848</td>\n",
              "      <td>-0.358240</td>\n",
              "      <td>0.022565</td>\n",
              "      <td>0.364589</td>\n",
              "      <td>-0.327736</td>\n",
              "      <td>0.027687</td>\n",
              "      <td>0.302771</td>\n",
              "      <td>-0.522185</td>\n",
              "      <td>-0.370661</td>\n",
              "      <td>-0.022077</td>\n",
              "      <td>regular</td>\n",
              "    </tr>\n",
              "    <tr>\n",
              "      <th>48752</th>\n",
              "      <td>43773.0</td>\n",
              "      <td>1.015943</td>\n",
              "      <td>-0.013354</td>\n",
              "      <td>0.451386</td>\n",
              "      <td>1.366331</td>\n",
              "      <td>-0.265426</td>\n",
              "      <td>0.037422</td>\n",
              "      <td>0.008893</td>\n",
              "      <td>0.126304</td>\n",
              "      <td>0.063913</td>\n",
              "      <td>0.031960</td>\n",
              "      <td>1.285690</td>\n",
              "      <td>1.103885</td>\n",
              "      <td>-0.587659</td>\n",
              "      <td>0.353851</td>\n",
              "      <td>-0.765485</td>\n",
              "      <td>-0.563523</td>\n",
              "      <td>0.107761</td>\n",
              "      <td>-0.497081</td>\n",
              "      <td>-0.167489</td>\n",
              "      <td>-0.111510</td>\n",
              "      <td>-0.012070</td>\n",
              "      <td>0.040270</td>\n",
              "      <td>-0.086849</td>\n",
              "      <td>0.237919</td>\n",
              "      <td>0.576984</td>\n",
              "      <td>-0.346751</td>\n",
              "      <td>0.025135</td>\n",
              "      <td>0.015417</td>\n",
              "      <td>regular</td>\n",
              "    </tr>\n",
              "    <tr>\n",
              "      <th>17983</th>\n",
              "      <td>29087.0</td>\n",
              "      <td>1.356317</td>\n",
              "      <td>-0.392223</td>\n",
              "      <td>-0.047452</td>\n",
              "      <td>-0.705066</td>\n",
              "      <td>-0.714307</td>\n",
              "      <td>-1.133734</td>\n",
              "      <td>-0.146046</td>\n",
              "      <td>-0.277269</td>\n",
              "      <td>-1.413455</td>\n",
              "      <td>0.834725</td>\n",
              "      <td>1.672328</td>\n",
              "      <td>0.280287</td>\n",
              "      <td>0.282236</td>\n",
              "      <td>0.228909</td>\n",
              "      <td>-0.319016</td>\n",
              "      <td>0.868641</td>\n",
              "      <td>0.208856</td>\n",
              "      <td>-1.130458</td>\n",
              "      <td>0.809757</td>\n",
              "      <td>0.121413</td>\n",
              "      <td>0.315657</td>\n",
              "      <td>0.797778</td>\n",
              "      <td>-0.193380</td>\n",
              "      <td>0.606906</td>\n",
              "      <td>0.759804</td>\n",
              "      <td>-0.072535</td>\n",
              "      <td>-0.030075</td>\n",
              "      <td>-0.002300</td>\n",
              "      <td>regular</td>\n",
              "    </tr>\n",
              "  </tbody>\n",
              "</table>\n",
              "</div>"
            ],
            "text/plain": [
              "           Time        S1        S2  ...       S27       S28    Class\n",
              "132851  80143.0 -2.635638  2.371788  ... -0.250755 -0.006164  regular\n",
              "118123  74958.0 -1.060513  0.080976  ... -0.075486  0.053509  regular\n",
              "132847  80141.0 -1.347806  0.513449  ... -0.370661 -0.022077  regular\n",
              "48752   43773.0  1.015943 -0.013354  ...  0.025135  0.015417  regular\n",
              "17983   29087.0  1.356317 -0.392223  ... -0.030075 -0.002300  regular\n",
              "\n",
              "[5 rows x 30 columns]"
            ]
          },
          "metadata": {
            "tags": []
          },
          "execution_count": 9
        },
        {
          "output_type": "stream",
          "text": [
            "time: 54.6 ms (started: 2021-01-18 16:03:18 +00:00)\n"
          ],
          "name": "stdout"
        }
      ]
    },
    {
      "cell_type": "code",
      "metadata": {
        "colab": {
          "base_uri": "https://localhost:8080/"
        },
        "id": "UccW8xhavHX-",
        "outputId": "fba3fbec-17f9-44a2-e76e-ecd5b86bf007"
      },
      "source": [
        "data.info()"
      ],
      "execution_count": 10,
      "outputs": [
        {
          "output_type": "stream",
          "text": [
            "<class 'pandas.core.frame.DataFrame'>\n",
            "RangeIndex: 284807 entries, 0 to 284806\n",
            "Data columns (total 30 columns):\n",
            " #   Column  Non-Null Count   Dtype  \n",
            "---  ------  --------------   -----  \n",
            " 0   Time    284807 non-null  float64\n",
            " 1   S1      284807 non-null  float64\n",
            " 2   S2      284807 non-null  float64\n",
            " 3   S3      284807 non-null  float64\n",
            " 4   S4      284807 non-null  float64\n",
            " 5   S5      284807 non-null  float64\n",
            " 6   S6      284807 non-null  float64\n",
            " 7   S7      284807 non-null  float64\n",
            " 8   S8      284807 non-null  float64\n",
            " 9   S9      284807 non-null  float64\n",
            " 10  S10     284807 non-null  float64\n",
            " 11  S11     284807 non-null  float64\n",
            " 12  S12     284807 non-null  float64\n",
            " 13  S13     284807 non-null  float64\n",
            " 14  S14     284807 non-null  float64\n",
            " 15  S15     284807 non-null  float64\n",
            " 16  S16     284807 non-null  float64\n",
            " 17  S17     284807 non-null  float64\n",
            " 18  S18     284807 non-null  float64\n",
            " 19  S19     284807 non-null  float64\n",
            " 20  S20     284807 non-null  float64\n",
            " 21  S21     284807 non-null  float64\n",
            " 22  S22     284807 non-null  float64\n",
            " 23  S23     284807 non-null  float64\n",
            " 24  S24     284807 non-null  float64\n",
            " 25  S25     284807 non-null  float64\n",
            " 26  S26     284807 non-null  float64\n",
            " 27  S27     284807 non-null  float64\n",
            " 28  S28     284807 non-null  float64\n",
            " 29  Class   284807 non-null  object \n",
            "dtypes: float64(29), object(1)\n",
            "memory usage: 65.2+ MB\n",
            "time: 45 ms (started: 2021-01-18 16:03:18 +00:00)\n"
          ],
          "name": "stdout"
        }
      ]
    },
    {
      "cell_type": "markdown",
      "metadata": {
        "id": "q4oA0iRfqtZt"
      },
      "source": [
        "##Label Encoding\n",
        "\n",
        "Unlike the previous airfoil example, here we have an object column for the labels (see Class). Lets convert the NaN data into categorical values. Here you can use either pandas dataframe directly or use scikit learn. For scikit implementation, you may check:\n",
        "\n",
        "https://scikit-learn.org/stable/modules/generated/sklearn.preprocessing.LabelEncoder.html\n",
        "\n",
        "For our case, we will directly work on the dataframe and customize the labels as we want:"
      ]
    },
    {
      "cell_type": "code",
      "metadata": {
        "colab": {
          "base_uri": "https://localhost:8080/"
        },
        "id": "c08t_OfEwYss",
        "outputId": "502a1148-ca8d-4fcc-a5b9-32ff4e647ef7"
      },
      "source": [
        "data[\"Class\"].value_counts()"
      ],
      "execution_count": 11,
      "outputs": [
        {
          "output_type": "execute_result",
          "data": {
            "text/plain": [
              "regular      284315\n",
              "defective       492\n",
              "Name: Class, dtype: int64"
            ]
          },
          "metadata": {
            "tags": []
          },
          "execution_count": 11
        },
        {
          "output_type": "stream",
          "text": [
            "time: 31.7 ms (started: 2021-01-18 16:03:18 +00:00)\n"
          ],
          "name": "stdout"
        }
      ]
    },
    {
      "cell_type": "markdown",
      "metadata": {
        "id": "Ud4MnlduwiB0"
      },
      "source": [
        "As you can see, we have two categories; `regular` and `defective`. We want to label them in a way that regulars are '0' and defectives are as '1'. In this case, we can use the `str` accessor plus `np.where` to modify the target column:"
      ]
    },
    {
      "cell_type": "code",
      "metadata": {
        "colab": {
          "base_uri": "https://localhost:8080/"
        },
        "id": "Hwi_DSfIwuVi",
        "outputId": "c8f1bc7c-a1ec-4ef1-ad2e-18d618a47ead"
      },
      "source": [
        "data[\"Class\"] = np.where(data[\"Class\"].str.contains(\"reg\"), 0, 1)\n",
        "data[\"Class\"].value_counts()"
      ],
      "execution_count": 12,
      "outputs": [
        {
          "output_type": "execute_result",
          "data": {
            "text/plain": [
              "0    284315\n",
              "1       492\n",
              "Name: Class, dtype: int64"
            ]
          },
          "metadata": {
            "tags": []
          },
          "execution_count": 12
        },
        {
          "output_type": "stream",
          "text": [
            "time: 115 ms (started: 2021-01-18 16:03:18 +00:00)\n"
          ],
          "name": "stdout"
        }
      ]
    },
    {
      "cell_type": "code",
      "metadata": {
        "colab": {
          "base_uri": "https://localhost:8080/"
        },
        "id": "N6lyUN1axje7",
        "outputId": "718b8e4a-f0fc-4a43-b05a-2cca46b28ef8"
      },
      "source": [
        "data.info()"
      ],
      "execution_count": 13,
      "outputs": [
        {
          "output_type": "stream",
          "text": [
            "<class 'pandas.core.frame.DataFrame'>\n",
            "RangeIndex: 284807 entries, 0 to 284806\n",
            "Data columns (total 30 columns):\n",
            " #   Column  Non-Null Count   Dtype  \n",
            "---  ------  --------------   -----  \n",
            " 0   Time    284807 non-null  float64\n",
            " 1   S1      284807 non-null  float64\n",
            " 2   S2      284807 non-null  float64\n",
            " 3   S3      284807 non-null  float64\n",
            " 4   S4      284807 non-null  float64\n",
            " 5   S5      284807 non-null  float64\n",
            " 6   S6      284807 non-null  float64\n",
            " 7   S7      284807 non-null  float64\n",
            " 8   S8      284807 non-null  float64\n",
            " 9   S9      284807 non-null  float64\n",
            " 10  S10     284807 non-null  float64\n",
            " 11  S11     284807 non-null  float64\n",
            " 12  S12     284807 non-null  float64\n",
            " 13  S13     284807 non-null  float64\n",
            " 14  S14     284807 non-null  float64\n",
            " 15  S15     284807 non-null  float64\n",
            " 16  S16     284807 non-null  float64\n",
            " 17  S17     284807 non-null  float64\n",
            " 18  S18     284807 non-null  float64\n",
            " 19  S19     284807 non-null  float64\n",
            " 20  S20     284807 non-null  float64\n",
            " 21  S21     284807 non-null  float64\n",
            " 22  S22     284807 non-null  float64\n",
            " 23  S23     284807 non-null  float64\n",
            " 24  S24     284807 non-null  float64\n",
            " 25  S25     284807 non-null  float64\n",
            " 26  S26     284807 non-null  float64\n",
            " 27  S27     284807 non-null  float64\n",
            " 28  S28     284807 non-null  float64\n",
            " 29  Class   284807 non-null  int64  \n",
            "dtypes: float64(29), int64(1)\n",
            "memory usage: 65.2 MB\n",
            "time: 30.8 ms (started: 2021-01-18 16:03:18 +00:00)\n"
          ],
          "name": "stdout"
        }
      ]
    },
    {
      "cell_type": "markdown",
      "metadata": {
        "id": "qbpWrNnHn45Z"
      },
      "source": [
        "Let's look into the statistics of the data. This is usually a good starting point to have an idea about the range of the data, its nature, as well as the \n",
        "missing information for different features:"
      ]
    },
    {
      "cell_type": "code",
      "metadata": {
        "colab": {
          "base_uri": "https://localhost:8080/",
          "height": 339
        },
        "id": "-OX494Rskj6k",
        "outputId": "387b022d-5dd6-4111-e99a-26f226cdbb96"
      },
      "source": [
        "data.describe()"
      ],
      "execution_count": 14,
      "outputs": [
        {
          "output_type": "execute_result",
          "data": {
            "text/html": [
              "<div>\n",
              "<style scoped>\n",
              "    .dataframe tbody tr th:only-of-type {\n",
              "        vertical-align: middle;\n",
              "    }\n",
              "\n",
              "    .dataframe tbody tr th {\n",
              "        vertical-align: top;\n",
              "    }\n",
              "\n",
              "    .dataframe thead th {\n",
              "        text-align: right;\n",
              "    }\n",
              "</style>\n",
              "<table border=\"1\" class=\"dataframe\">\n",
              "  <thead>\n",
              "    <tr style=\"text-align: right;\">\n",
              "      <th></th>\n",
              "      <th>Time</th>\n",
              "      <th>S1</th>\n",
              "      <th>S2</th>\n",
              "      <th>S3</th>\n",
              "      <th>S4</th>\n",
              "      <th>S5</th>\n",
              "      <th>S6</th>\n",
              "      <th>S7</th>\n",
              "      <th>S8</th>\n",
              "      <th>S9</th>\n",
              "      <th>S10</th>\n",
              "      <th>S11</th>\n",
              "      <th>S12</th>\n",
              "      <th>S13</th>\n",
              "      <th>S14</th>\n",
              "      <th>S15</th>\n",
              "      <th>S16</th>\n",
              "      <th>S17</th>\n",
              "      <th>S18</th>\n",
              "      <th>S19</th>\n",
              "      <th>S20</th>\n",
              "      <th>S21</th>\n",
              "      <th>S22</th>\n",
              "      <th>S23</th>\n",
              "      <th>S24</th>\n",
              "      <th>S25</th>\n",
              "      <th>S26</th>\n",
              "      <th>S27</th>\n",
              "      <th>S28</th>\n",
              "      <th>Class</th>\n",
              "    </tr>\n",
              "  </thead>\n",
              "  <tbody>\n",
              "    <tr>\n",
              "      <th>count</th>\n",
              "      <td>284807.000000</td>\n",
              "      <td>2.848070e+05</td>\n",
              "      <td>2.848070e+05</td>\n",
              "      <td>2.848070e+05</td>\n",
              "      <td>2.848070e+05</td>\n",
              "      <td>2.848070e+05</td>\n",
              "      <td>2.848070e+05</td>\n",
              "      <td>2.848070e+05</td>\n",
              "      <td>2.848070e+05</td>\n",
              "      <td>2.848070e+05</td>\n",
              "      <td>2.848070e+05</td>\n",
              "      <td>2.848070e+05</td>\n",
              "      <td>2.848070e+05</td>\n",
              "      <td>2.848070e+05</td>\n",
              "      <td>2.848070e+05</td>\n",
              "      <td>2.848070e+05</td>\n",
              "      <td>2.848070e+05</td>\n",
              "      <td>2.848070e+05</td>\n",
              "      <td>2.848070e+05</td>\n",
              "      <td>2.848070e+05</td>\n",
              "      <td>2.848070e+05</td>\n",
              "      <td>2.848070e+05</td>\n",
              "      <td>2.848070e+05</td>\n",
              "      <td>2.848070e+05</td>\n",
              "      <td>2.848070e+05</td>\n",
              "      <td>2.848070e+05</td>\n",
              "      <td>2.848070e+05</td>\n",
              "      <td>2.848070e+05</td>\n",
              "      <td>2.848070e+05</td>\n",
              "      <td>284807.000000</td>\n",
              "    </tr>\n",
              "    <tr>\n",
              "      <th>mean</th>\n",
              "      <td>94813.859575</td>\n",
              "      <td>1.758743e-12</td>\n",
              "      <td>-8.252298e-13</td>\n",
              "      <td>-9.636929e-13</td>\n",
              "      <td>8.316157e-13</td>\n",
              "      <td>1.591952e-13</td>\n",
              "      <td>4.247354e-13</td>\n",
              "      <td>-3.050180e-13</td>\n",
              "      <td>8.693344e-14</td>\n",
              "      <td>-1.179712e-12</td>\n",
              "      <td>7.094854e-13</td>\n",
              "      <td>1.875015e-12</td>\n",
              "      <td>1.053488e-12</td>\n",
              "      <td>7.137527e-13</td>\n",
              "      <td>-1.491363e-13</td>\n",
              "      <td>-5.225914e-13</td>\n",
              "      <td>-2.280712e-13</td>\n",
              "      <td>-6.428517e-13</td>\n",
              "      <td>4.958987e-13</td>\n",
              "      <td>7.060712e-13</td>\n",
              "      <td>1.766038e-12</td>\n",
              "      <td>-3.406543e-13</td>\n",
              "      <td>-5.713163e-13</td>\n",
              "      <td>-9.725303e-13</td>\n",
              "      <td>1.464139e-12</td>\n",
              "      <td>-6.989087e-13</td>\n",
              "      <td>-5.615260e-13</td>\n",
              "      <td>3.332112e-12</td>\n",
              "      <td>-3.518886e-12</td>\n",
              "      <td>0.001727</td>\n",
              "    </tr>\n",
              "    <tr>\n",
              "      <th>std</th>\n",
              "      <td>47488.145955</td>\n",
              "      <td>1.958696e+00</td>\n",
              "      <td>1.651309e+00</td>\n",
              "      <td>1.516255e+00</td>\n",
              "      <td>1.415869e+00</td>\n",
              "      <td>1.380247e+00</td>\n",
              "      <td>1.332271e+00</td>\n",
              "      <td>1.237094e+00</td>\n",
              "      <td>1.194353e+00</td>\n",
              "      <td>1.098632e+00</td>\n",
              "      <td>1.088850e+00</td>\n",
              "      <td>1.020713e+00</td>\n",
              "      <td>9.992014e-01</td>\n",
              "      <td>9.952742e-01</td>\n",
              "      <td>9.585956e-01</td>\n",
              "      <td>9.153160e-01</td>\n",
              "      <td>8.762529e-01</td>\n",
              "      <td>8.493371e-01</td>\n",
              "      <td>8.381762e-01</td>\n",
              "      <td>8.140405e-01</td>\n",
              "      <td>7.709250e-01</td>\n",
              "      <td>7.345240e-01</td>\n",
              "      <td>7.257016e-01</td>\n",
              "      <td>6.244603e-01</td>\n",
              "      <td>6.056471e-01</td>\n",
              "      <td>5.212781e-01</td>\n",
              "      <td>4.822270e-01</td>\n",
              "      <td>4.036325e-01</td>\n",
              "      <td>3.300833e-01</td>\n",
              "      <td>0.041527</td>\n",
              "    </tr>\n",
              "    <tr>\n",
              "      <th>min</th>\n",
              "      <td>0.000000</td>\n",
              "      <td>-5.640751e+01</td>\n",
              "      <td>-7.271573e+01</td>\n",
              "      <td>-4.832559e+01</td>\n",
              "      <td>-5.683171e+00</td>\n",
              "      <td>-1.137433e+02</td>\n",
              "      <td>-2.616051e+01</td>\n",
              "      <td>-4.355724e+01</td>\n",
              "      <td>-7.321672e+01</td>\n",
              "      <td>-1.343407e+01</td>\n",
              "      <td>-2.458826e+01</td>\n",
              "      <td>-4.797473e+00</td>\n",
              "      <td>-1.868371e+01</td>\n",
              "      <td>-5.791881e+00</td>\n",
              "      <td>-1.921433e+01</td>\n",
              "      <td>-4.498945e+00</td>\n",
              "      <td>-1.412985e+01</td>\n",
              "      <td>-2.516280e+01</td>\n",
              "      <td>-9.498746e+00</td>\n",
              "      <td>-7.213527e+00</td>\n",
              "      <td>-5.449772e+01</td>\n",
              "      <td>-3.483038e+01</td>\n",
              "      <td>-1.093314e+01</td>\n",
              "      <td>-4.480774e+01</td>\n",
              "      <td>-2.836627e+00</td>\n",
              "      <td>-1.029540e+01</td>\n",
              "      <td>-2.604551e+00</td>\n",
              "      <td>-2.256568e+01</td>\n",
              "      <td>-1.543008e+01</td>\n",
              "      <td>0.000000</td>\n",
              "    </tr>\n",
              "    <tr>\n",
              "      <th>25%</th>\n",
              "      <td>54201.500000</td>\n",
              "      <td>-9.203734e-01</td>\n",
              "      <td>-5.985499e-01</td>\n",
              "      <td>-8.903648e-01</td>\n",
              "      <td>-8.486401e-01</td>\n",
              "      <td>-6.915971e-01</td>\n",
              "      <td>-7.682956e-01</td>\n",
              "      <td>-5.540759e-01</td>\n",
              "      <td>-2.086297e-01</td>\n",
              "      <td>-6.430976e-01</td>\n",
              "      <td>-5.354257e-01</td>\n",
              "      <td>-7.624942e-01</td>\n",
              "      <td>-4.055715e-01</td>\n",
              "      <td>-6.485393e-01</td>\n",
              "      <td>-4.255740e-01</td>\n",
              "      <td>-5.828843e-01</td>\n",
              "      <td>-4.680368e-01</td>\n",
              "      <td>-4.837483e-01</td>\n",
              "      <td>-4.988498e-01</td>\n",
              "      <td>-4.562989e-01</td>\n",
              "      <td>-2.117214e-01</td>\n",
              "      <td>-2.283949e-01</td>\n",
              "      <td>-5.423504e-01</td>\n",
              "      <td>-1.618463e-01</td>\n",
              "      <td>-3.545861e-01</td>\n",
              "      <td>-3.171451e-01</td>\n",
              "      <td>-3.269839e-01</td>\n",
              "      <td>-7.083953e-02</td>\n",
              "      <td>-5.295979e-02</td>\n",
              "      <td>0.000000</td>\n",
              "    </tr>\n",
              "    <tr>\n",
              "      <th>50%</th>\n",
              "      <td>84692.000000</td>\n",
              "      <td>1.810880e-02</td>\n",
              "      <td>6.548556e-02</td>\n",
              "      <td>1.798463e-01</td>\n",
              "      <td>-1.984653e-02</td>\n",
              "      <td>-5.433583e-02</td>\n",
              "      <td>-2.741871e-01</td>\n",
              "      <td>4.010308e-02</td>\n",
              "      <td>2.235804e-02</td>\n",
              "      <td>-5.142873e-02</td>\n",
              "      <td>-9.291738e-02</td>\n",
              "      <td>-3.275735e-02</td>\n",
              "      <td>1.400326e-01</td>\n",
              "      <td>-1.356806e-02</td>\n",
              "      <td>5.060132e-02</td>\n",
              "      <td>4.807155e-02</td>\n",
              "      <td>6.641332e-02</td>\n",
              "      <td>-6.567575e-02</td>\n",
              "      <td>-3.636312e-03</td>\n",
              "      <td>3.734823e-03</td>\n",
              "      <td>-6.248109e-02</td>\n",
              "      <td>-2.945017e-02</td>\n",
              "      <td>6.781943e-03</td>\n",
              "      <td>-1.119293e-02</td>\n",
              "      <td>4.097606e-02</td>\n",
              "      <td>1.659350e-02</td>\n",
              "      <td>-5.213911e-02</td>\n",
              "      <td>1.342146e-03</td>\n",
              "      <td>1.124383e-02</td>\n",
              "      <td>0.000000</td>\n",
              "    </tr>\n",
              "    <tr>\n",
              "      <th>75%</th>\n",
              "      <td>139320.500000</td>\n",
              "      <td>1.315642e+00</td>\n",
              "      <td>8.037239e-01</td>\n",
              "      <td>1.027196e+00</td>\n",
              "      <td>7.433413e-01</td>\n",
              "      <td>6.119264e-01</td>\n",
              "      <td>3.985649e-01</td>\n",
              "      <td>5.704361e-01</td>\n",
              "      <td>3.273459e-01</td>\n",
              "      <td>5.971390e-01</td>\n",
              "      <td>4.539234e-01</td>\n",
              "      <td>7.395934e-01</td>\n",
              "      <td>6.182380e-01</td>\n",
              "      <td>6.625050e-01</td>\n",
              "      <td>4.931498e-01</td>\n",
              "      <td>6.488208e-01</td>\n",
              "      <td>5.232963e-01</td>\n",
              "      <td>3.996750e-01</td>\n",
              "      <td>5.008067e-01</td>\n",
              "      <td>4.589494e-01</td>\n",
              "      <td>1.330408e-01</td>\n",
              "      <td>1.863772e-01</td>\n",
              "      <td>5.285536e-01</td>\n",
              "      <td>1.476421e-01</td>\n",
              "      <td>4.395266e-01</td>\n",
              "      <td>3.507156e-01</td>\n",
              "      <td>2.409522e-01</td>\n",
              "      <td>9.104512e-02</td>\n",
              "      <td>7.827995e-02</td>\n",
              "      <td>0.000000</td>\n",
              "    </tr>\n",
              "    <tr>\n",
              "      <th>max</th>\n",
              "      <td>172792.000000</td>\n",
              "      <td>2.454930e+00</td>\n",
              "      <td>2.205773e+01</td>\n",
              "      <td>9.382558e+00</td>\n",
              "      <td>1.687534e+01</td>\n",
              "      <td>3.480167e+01</td>\n",
              "      <td>7.330163e+01</td>\n",
              "      <td>1.205895e+02</td>\n",
              "      <td>2.000721e+01</td>\n",
              "      <td>1.559499e+01</td>\n",
              "      <td>2.374514e+01</td>\n",
              "      <td>1.201891e+01</td>\n",
              "      <td>7.848392e+00</td>\n",
              "      <td>7.126883e+00</td>\n",
              "      <td>1.052677e+01</td>\n",
              "      <td>8.877742e+00</td>\n",
              "      <td>1.731511e+01</td>\n",
              "      <td>9.253526e+00</td>\n",
              "      <td>5.041069e+00</td>\n",
              "      <td>5.591971e+00</td>\n",
              "      <td>3.942090e+01</td>\n",
              "      <td>2.720284e+01</td>\n",
              "      <td>1.050309e+01</td>\n",
              "      <td>2.252841e+01</td>\n",
              "      <td>4.584549e+00</td>\n",
              "      <td>7.519589e+00</td>\n",
              "      <td>3.517346e+00</td>\n",
              "      <td>3.161220e+01</td>\n",
              "      <td>3.384781e+01</td>\n",
              "      <td>1.000000</td>\n",
              "    </tr>\n",
              "  </tbody>\n",
              "</table>\n",
              "</div>"
            ],
            "text/plain": [
              "                Time            S1  ...           S28          Class\n",
              "count  284807.000000  2.848070e+05  ...  2.848070e+05  284807.000000\n",
              "mean    94813.859575  1.758743e-12  ... -3.518886e-12       0.001727\n",
              "std     47488.145955  1.958696e+00  ...  3.300833e-01       0.041527\n",
              "min         0.000000 -5.640751e+01  ... -1.543008e+01       0.000000\n",
              "25%     54201.500000 -9.203734e-01  ... -5.295979e-02       0.000000\n",
              "50%     84692.000000  1.810880e-02  ...  1.124383e-02       0.000000\n",
              "75%    139320.500000  1.315642e+00  ...  7.827995e-02       0.000000\n",
              "max    172792.000000  2.454930e+00  ...  3.384781e+01       1.000000\n",
              "\n",
              "[8 rows x 30 columns]"
            ]
          },
          "metadata": {
            "tags": []
          },
          "execution_count": 14
        },
        {
          "output_type": "stream",
          "text": [
            "time: 381 ms (started: 2021-01-18 16:03:18 +00:00)\n"
          ],
          "name": "stdout"
        }
      ]
    },
    {
      "cell_type": "markdown",
      "metadata": {
        "id": "fiA5ExkEotj2"
      },
      "source": [
        "If not defined by the user, you can also explore the features with the following command:"
      ]
    },
    {
      "cell_type": "code",
      "metadata": {
        "colab": {
          "base_uri": "https://localhost:8080/"
        },
        "id": "9JpHwIlzkleM",
        "outputId": "fd249292-c4ce-4d10-d44a-329b431aaae3"
      },
      "source": [
        "data.columns\n"
      ],
      "execution_count": 15,
      "outputs": [
        {
          "output_type": "execute_result",
          "data": {
            "text/plain": [
              "Index(['Time', 'S1', 'S2', 'S3', 'S4', 'S5', 'S6', 'S7', 'S8', 'S9', 'S10',\n",
              "       'S11', 'S12', 'S13', 'S14', 'S15', 'S16', 'S17', 'S18', 'S19', 'S20',\n",
              "       'S21', 'S22', 'S23', 'S24', 'S25', 'S26', 'S27', 'S28', 'Class'],\n",
              "      dtype='object')"
            ]
          },
          "metadata": {
            "tags": []
          },
          "execution_count": 15
        },
        {
          "output_type": "stream",
          "text": [
            "time: 4.93 ms (started: 2021-01-18 16:03:19 +00:00)\n"
          ],
          "name": "stdout"
        }
      ]
    },
    {
      "cell_type": "markdown",
      "metadata": {
        "id": "edL_bxeepSbD"
      },
      "source": [
        "It is also possible to explore individual features:"
      ]
    },
    {
      "cell_type": "code",
      "metadata": {
        "colab": {
          "base_uri": "https://localhost:8080/"
        },
        "id": "y2upSWbFo05Q",
        "outputId": "3099c924-f7de-4db2-c9d8-2d098acad054"
      },
      "source": [
        "data['S12'].median()"
      ],
      "execution_count": 16,
      "outputs": [
        {
          "output_type": "execute_result",
          "data": {
            "text/plain": [
              "0.140032588"
            ]
          },
          "metadata": {
            "tags": []
          },
          "execution_count": 16
        },
        {
          "output_type": "stream",
          "text": [
            "time: 7.77 ms (started: 2021-01-18 16:03:19 +00:00)\n"
          ],
          "name": "stdout"
        }
      ]
    },
    {
      "cell_type": "code",
      "metadata": {
        "colab": {
          "base_uri": "https://localhost:8080/"
        },
        "id": "V3Gl8aeVpJZr",
        "outputId": "f50240b7-64f4-462c-da2e-8e689fbf9a76"
      },
      "source": [
        "data['S12'].mean()"
      ],
      "execution_count": 17,
      "outputs": [
        {
          "output_type": "execute_result",
          "data": {
            "text/plain": [
              "1.0534877568289322e-12"
            ]
          },
          "metadata": {
            "tags": []
          },
          "execution_count": 17
        },
        {
          "output_type": "stream",
          "text": [
            "time: 2.81 ms (started: 2021-01-18 16:03:19 +00:00)\n"
          ],
          "name": "stdout"
        }
      ]
    },
    {
      "cell_type": "markdown",
      "metadata": {
        "id": "rJZYgP6WpdsH"
      },
      "source": [
        "## Identify non-numerical values\n",
        "Some ML algorithms can not handle non-numerical values (NaN: not a number) so you may need to identify the type of the data for each feature and modify it if necessary. It is also quite common that different feature values are missing for different instances / examples so you may need to decide what to do: (i) omit the instance; (ii) replace them with the mean / median / mode of the feature; (iv) substitute them with a value of your choice.\n",
        "\n",
        "The following line counts the NaNs for each feature for us. Note that in previous exercises, we used np for the task; not pandas. Since here we have an integer type in the Dataframe, np.isnan does not work here. This function takes a scalar or array-like object and indicates whether values are missing (NaN in numeric arrays, None or NaN in object arrays, NaT in datetimelike)."
      ]
    },
    {
      "cell_type": "code",
      "metadata": {
        "colab": {
          "base_uri": "https://localhost:8080/"
        },
        "id": "o3trngZVq2Ov",
        "outputId": "c21ebefb-5ef7-4f64-a80f-679c7e83145d"
      },
      "source": [
        "nanCounter = pd.isnull(data).sum()\n",
        "print(nanCounter)"
      ],
      "execution_count": 18,
      "outputs": [
        {
          "output_type": "stream",
          "text": [
            "Time     0\n",
            "S1       0\n",
            "S2       0\n",
            "S3       0\n",
            "S4       0\n",
            "S5       0\n",
            "S6       0\n",
            "S7       0\n",
            "S8       0\n",
            "S9       0\n",
            "S10      0\n",
            "S11      0\n",
            "S12      0\n",
            "S13      0\n",
            "S14      0\n",
            "S15      0\n",
            "S16      0\n",
            "S17      0\n",
            "S18      0\n",
            "S19      0\n",
            "S20      0\n",
            "S21      0\n",
            "S22      0\n",
            "S23      0\n",
            "S24      0\n",
            "S25      0\n",
            "S26      0\n",
            "S27      0\n",
            "S28      0\n",
            "Class    0\n",
            "dtype: int64\n",
            "time: 29.6 ms (started: 2021-01-18 16:03:19 +00:00)\n"
          ],
          "name": "stdout"
        }
      ]
    },
    {
      "cell_type": "markdown",
      "metadata": {
        "id": "uqhBdEIqrIiP"
      },
      "source": [
        "It is also a good exercise to check the uniqueness of the dataset, that is, whether there exists values repeating at different instances:"
      ]
    },
    {
      "cell_type": "code",
      "metadata": {
        "colab": {
          "base_uri": "https://localhost:8080/"
        },
        "id": "47CI_H-JrHjl",
        "outputId": "9a685eba-0ee7-496e-c3a0-c413910588d2"
      },
      "source": [
        "distinctCounter = data.apply(lambda x: len(x.unique()))\n",
        "print(distinctCounter)"
      ],
      "execution_count": 19,
      "outputs": [
        {
          "output_type": "stream",
          "text": [
            "Time     124592\n",
            "S1       275653\n",
            "S2       275655\n",
            "S3       275657\n",
            "S4       275654\n",
            "S5       275657\n",
            "S6       275652\n",
            "S7       275651\n",
            "S8       275643\n",
            "S9       275656\n",
            "S10      275646\n",
            "S11      275648\n",
            "S12      275654\n",
            "S13      275657\n",
            "S14      275653\n",
            "S15      275653\n",
            "S16      275645\n",
            "S17      275646\n",
            "S18      275655\n",
            "S19      275645\n",
            "S20      275632\n",
            "S21      275617\n",
            "S22      275644\n",
            "S23      275611\n",
            "S24      275645\n",
            "S25      275640\n",
            "S26      275647\n",
            "S27      275597\n",
            "S28      275558\n",
            "Class         2\n",
            "dtype: int64\n",
            "time: 216 ms (started: 2021-01-18 16:03:19 +00:00)\n"
          ],
          "name": "stdout"
        }
      ]
    },
    {
      "cell_type": "markdown",
      "metadata": {
        "id": "QXvnmz2OFs7h"
      },
      "source": [
        "## Data Visualization\n",
        "\n",
        "Another important pre-processing step is the data visualization. Histograms are suitable for a holistic view, where we can probe into the data for each attribute.\n",
        "\n",
        "We can use `hist` from matplotlib for that purpose:"
      ]
    },
    {
      "cell_type": "code",
      "metadata": {
        "colab": {
          "base_uri": "https://localhost:8080/",
          "height": 541
        },
        "id": "4wq9J6UTF2L8",
        "outputId": "283a279b-48c5-4be8-a7ec-4ac1ff2d7001"
      },
      "source": [
        "data.hist(bins=50, figsize=(25,15))\n",
        "plt.show()"
      ],
      "execution_count": 20,
      "outputs": [
        {
          "output_type": "display_data",
          "data": {
            "image/png": "[encoded data removed]",
            "text/plain": [
              "<Figure size 1800x1080 with 30 Axes>"
            ]
          },
          "metadata": {
            "tags": [],
            "needs_background": "light"
          }
        },
        {
          "output_type": "stream",
          "text": [
            "time: 5.3 s (started: 2021-01-18 16:03:19 +00:00)\n"
          ],
          "name": "stdout"
        }
      ]
    },
    {
      "cell_type": "markdown",
      "metadata": {
        "id": "CYzn33VxvyeK"
      },
      "source": [
        "## Creating the Feature Matrix and Labels"
      ]
    },
    {
      "cell_type": "code",
      "metadata": {
        "colab": {
          "base_uri": "https://localhost:8080/"
        },
        "id": "D_aujlG1v4Vw",
        "outputId": "abc060c6-9563-4a67-daf9-247b8126c6d5"
      },
      "source": [
        "#Splitting the data\n",
        "dataX = data.copy().drop(['Class'],axis=1)\n",
        "dataY = data['Class'].astype(int).copy()"
      ],
      "execution_count": 21,
      "outputs": [
        {
          "output_type": "stream",
          "text": [
            "time: 58.6 ms (started: 2021-01-18 16:03:24 +00:00)\n"
          ],
          "name": "stdout"
        }
      ]
    },
    {
      "cell_type": "code",
      "metadata": {
        "colab": {
          "base_uri": "https://localhost:8080/"
        },
        "id": "1Qxg_o-a8nWx",
        "outputId": "f3b1509e-ce29-4561-b6d1-147ca52cb19a"
      },
      "source": [
        "#Checking the labels\n",
        "dataY.value_counts()"
      ],
      "execution_count": 22,
      "outputs": [
        {
          "output_type": "execute_result",
          "data": {
            "text/plain": [
              "0    284315\n",
              "1       492\n",
              "Name: Class, dtype: int64"
            ]
          },
          "metadata": {
            "tags": []
          },
          "execution_count": 22
        },
        {
          "output_type": "stream",
          "text": [
            "time: 8.74 ms (started: 2021-01-18 16:03:24 +00:00)\n"
          ],
          "name": "stdout"
        }
      ]
    },
    {
      "cell_type": "markdown",
      "metadata": {
        "id": "y1YkJXl5wfUj"
      },
      "source": [
        "## Feature Standardization: Rescaling the Data\n",
        "\n",
        "Feature engineering is an inseparable aspect of ML models. In many engineering problem, we know from our tradition that combining different features significantly simplifies the problem and help us to focus our experimental / numerical work on the correct data plane. For example, we combine characteristic length, velocity, density and viscosity as Reynolds number and \"classify\" the flow regime in a pipe in a quite straight-forward way. The same is true on ML algorithms. You can combine features, delete the unrelated ones and rescale the data (similar to what we do in non-dimensional analysis in engineering) to help ML algorithms to seek patterns from an unbiased perspective. \n",
        "\n",
        "For the time being, lets just see how much the features are correlated. But first, we will rescale the data. It is  important to remember that most ML algorithms work better if the data is normalized around zero; that it has a mean value of zero with a standard deviation of one. Let's try it ourselves:"
      ]
    },
    {
      "cell_type": "code",
      "metadata": {
        "colab": {
          "base_uri": "https://localhost:8080/",
          "height": 339
        },
        "id": "x_qYt5NC6Ewc",
        "outputId": "4d58a820-cddb-4cf0-a4b8-64cb776d81ba"
      },
      "source": [
        "#Rescaling the data\n",
        "featuresToScale = dataX.columns\n",
        "sX = pp.StandardScaler(copy=True)\n",
        "dataX.loc[:,featuresToScale] = sX.fit_transform(dataX[featuresToScale])\n",
        "#Looking into the statistics again:\n",
        "dataX.describe()"
      ],
      "execution_count": 23,
      "outputs": [
        {
          "output_type": "execute_result",
          "data": {
            "text/html": [
              "<div>\n",
              "<style scoped>\n",
              "    .dataframe tbody tr th:only-of-type {\n",
              "        vertical-align: middle;\n",
              "    }\n",
              "\n",
              "    .dataframe tbody tr th {\n",
              "        vertical-align: top;\n",
              "    }\n",
              "\n",
              "    .dataframe thead th {\n",
              "        text-align: right;\n",
              "    }\n",
              "</style>\n",
              "<table border=\"1\" class=\"dataframe\">\n",
              "  <thead>\n",
              "    <tr style=\"text-align: right;\">\n",
              "      <th></th>\n",
              "      <th>Time</th>\n",
              "      <th>S1</th>\n",
              "      <th>S2</th>\n",
              "      <th>S3</th>\n",
              "      <th>S4</th>\n",
              "      <th>S5</th>\n",
              "      <th>S6</th>\n",
              "      <th>S7</th>\n",
              "      <th>S8</th>\n",
              "      <th>S9</th>\n",
              "      <th>S10</th>\n",
              "      <th>S11</th>\n",
              "      <th>S12</th>\n",
              "      <th>S13</th>\n",
              "      <th>S14</th>\n",
              "      <th>S15</th>\n",
              "      <th>S16</th>\n",
              "      <th>S17</th>\n",
              "      <th>S18</th>\n",
              "      <th>S19</th>\n",
              "      <th>S20</th>\n",
              "      <th>S21</th>\n",
              "      <th>S22</th>\n",
              "      <th>S23</th>\n",
              "      <th>S24</th>\n",
              "      <th>S25</th>\n",
              "      <th>S26</th>\n",
              "      <th>S27</th>\n",
              "      <th>S28</th>\n",
              "    </tr>\n",
              "  </thead>\n",
              "  <tbody>\n",
              "    <tr>\n",
              "      <th>count</th>\n",
              "      <td>2.848070e+05</td>\n",
              "      <td>2.848070e+05</td>\n",
              "      <td>2.848070e+05</td>\n",
              "      <td>2.848070e+05</td>\n",
              "      <td>2.848070e+05</td>\n",
              "      <td>2.848070e+05</td>\n",
              "      <td>2.848070e+05</td>\n",
              "      <td>2.848070e+05</td>\n",
              "      <td>2.848070e+05</td>\n",
              "      <td>2.848070e+05</td>\n",
              "      <td>2.848070e+05</td>\n",
              "      <td>2.848070e+05</td>\n",
              "      <td>2.848070e+05</td>\n",
              "      <td>2.848070e+05</td>\n",
              "      <td>2.848070e+05</td>\n",
              "      <td>2.848070e+05</td>\n",
              "      <td>2.848070e+05</td>\n",
              "      <td>2.848070e+05</td>\n",
              "      <td>2.848070e+05</td>\n",
              "      <td>2.848070e+05</td>\n",
              "      <td>2.848070e+05</td>\n",
              "      <td>2.848070e+05</td>\n",
              "      <td>2.848070e+05</td>\n",
              "      <td>2.848070e+05</td>\n",
              "      <td>2.848070e+05</td>\n",
              "      <td>2.848070e+05</td>\n",
              "      <td>2.848070e+05</td>\n",
              "      <td>2.848070e+05</td>\n",
              "      <td>2.848070e+05</td>\n",
              "    </tr>\n",
              "    <tr>\n",
              "      <th>mean</th>\n",
              "      <td>-1.050379e-14</td>\n",
              "      <td>-1.536091e-15</td>\n",
              "      <td>-3.693350e-16</td>\n",
              "      <td>-2.082561e-15</td>\n",
              "      <td>9.153351e-16</td>\n",
              "      <td>5.854865e-18</td>\n",
              "      <td>2.784804e-16</td>\n",
              "      <td>2.636489e-16</td>\n",
              "      <td>2.820733e-16</td>\n",
              "      <td>1.465833e-16</td>\n",
              "      <td>9.990241e-17</td>\n",
              "      <td>-6.106607e-16</td>\n",
              "      <td>1.408301e-15</td>\n",
              "      <td>4.043764e-16</td>\n",
              "      <td>1.110118e-16</td>\n",
              "      <td>2.075961e-15</td>\n",
              "      <td>-9.586821e-17</td>\n",
              "      <td>3.840856e-16</td>\n",
              "      <td>3.894075e-16</td>\n",
              "      <td>-4.477913e-17</td>\n",
              "      <td>-5.225632e-16</td>\n",
              "      <td>1.308865e-16</td>\n",
              "      <td>-8.043247e-16</td>\n",
              "      <td>-6.657393e-17</td>\n",
              "      <td>1.487786e-16</td>\n",
              "      <td>-4.774076e-16</td>\n",
              "      <td>-3.018009e-16</td>\n",
              "      <td>3.521028e-17</td>\n",
              "      <td>-4.119621e-17</td>\n",
              "    </tr>\n",
              "    <tr>\n",
              "      <th>std</th>\n",
              "      <td>1.000002e+00</td>\n",
              "      <td>1.000002e+00</td>\n",
              "      <td>1.000002e+00</td>\n",
              "      <td>1.000002e+00</td>\n",
              "      <td>1.000002e+00</td>\n",
              "      <td>1.000002e+00</td>\n",
              "      <td>1.000002e+00</td>\n",
              "      <td>1.000002e+00</td>\n",
              "      <td>1.000002e+00</td>\n",
              "      <td>1.000002e+00</td>\n",
              "      <td>1.000002e+00</td>\n",
              "      <td>1.000002e+00</td>\n",
              "      <td>1.000002e+00</td>\n",
              "      <td>1.000002e+00</td>\n",
              "      <td>1.000002e+00</td>\n",
              "      <td>1.000002e+00</td>\n",
              "      <td>1.000002e+00</td>\n",
              "      <td>1.000002e+00</td>\n",
              "      <td>1.000002e+00</td>\n",
              "      <td>1.000002e+00</td>\n",
              "      <td>1.000002e+00</td>\n",
              "      <td>1.000002e+00</td>\n",
              "      <td>1.000002e+00</td>\n",
              "      <td>1.000002e+00</td>\n",
              "      <td>1.000002e+00</td>\n",
              "      <td>1.000002e+00</td>\n",
              "      <td>1.000002e+00</td>\n",
              "      <td>1.000002e+00</td>\n",
              "      <td>1.000002e+00</td>\n",
              "    </tr>\n",
              "    <tr>\n",
              "      <th>min</th>\n",
              "      <td>-1.996583e+00</td>\n",
              "      <td>-2.879855e+01</td>\n",
              "      <td>-4.403529e+01</td>\n",
              "      <td>-3.187173e+01</td>\n",
              "      <td>-4.013919e+00</td>\n",
              "      <td>-8.240810e+01</td>\n",
              "      <td>-1.963606e+01</td>\n",
              "      <td>-3.520940e+01</td>\n",
              "      <td>-6.130252e+01</td>\n",
              "      <td>-1.222802e+01</td>\n",
              "      <td>-2.258191e+01</td>\n",
              "      <td>-4.700128e+00</td>\n",
              "      <td>-1.869868e+01</td>\n",
              "      <td>-5.819392e+00</td>\n",
              "      <td>-2.004428e+01</td>\n",
              "      <td>-4.915191e+00</td>\n",
              "      <td>-1.612534e+01</td>\n",
              "      <td>-2.962645e+01</td>\n",
              "      <td>-1.133266e+01</td>\n",
              "      <td>-8.861402e+00</td>\n",
              "      <td>-7.069146e+01</td>\n",
              "      <td>-4.741907e+01</td>\n",
              "      <td>-1.506565e+01</td>\n",
              "      <td>-7.175446e+01</td>\n",
              "      <td>-4.683638e+00</td>\n",
              "      <td>-1.975033e+01</td>\n",
              "      <td>-5.401098e+00</td>\n",
              "      <td>-5.590660e+01</td>\n",
              "      <td>-4.674612e+01</td>\n",
              "    </tr>\n",
              "    <tr>\n",
              "      <th>25%</th>\n",
              "      <td>-8.552120e-01</td>\n",
              "      <td>-4.698918e-01</td>\n",
              "      <td>-3.624707e-01</td>\n",
              "      <td>-5.872142e-01</td>\n",
              "      <td>-5.993788e-01</td>\n",
              "      <td>-5.010686e-01</td>\n",
              "      <td>-5.766822e-01</td>\n",
              "      <td>-4.478860e-01</td>\n",
              "      <td>-1.746805e-01</td>\n",
              "      <td>-5.853631e-01</td>\n",
              "      <td>-4.917360e-01</td>\n",
              "      <td>-7.470224e-01</td>\n",
              "      <td>-4.058964e-01</td>\n",
              "      <td>-6.516198e-01</td>\n",
              "      <td>-4.439565e-01</td>\n",
              "      <td>-6.368132e-01</td>\n",
              "      <td>-5.341353e-01</td>\n",
              "      <td>-5.695609e-01</td>\n",
              "      <td>-5.951621e-01</td>\n",
              "      <td>-5.605369e-01</td>\n",
              "      <td>-2.746334e-01</td>\n",
              "      <td>-3.109433e-01</td>\n",
              "      <td>-7.473476e-01</td>\n",
              "      <td>-2.591784e-01</td>\n",
              "      <td>-5.854676e-01</td>\n",
              "      <td>-6.084001e-01</td>\n",
              "      <td>-6.780717e-01</td>\n",
              "      <td>-1.755053e-01</td>\n",
              "      <td>-1.604440e-01</td>\n",
              "    </tr>\n",
              "    <tr>\n",
              "      <th>50%</th>\n",
              "      <td>-2.131453e-01</td>\n",
              "      <td>9.245351e-03</td>\n",
              "      <td>3.965683e-02</td>\n",
              "      <td>1.186124e-01</td>\n",
              "      <td>-1.401724e-02</td>\n",
              "      <td>-3.936682e-02</td>\n",
              "      <td>-2.058046e-01</td>\n",
              "      <td>3.241723e-02</td>\n",
              "      <td>1.871982e-02</td>\n",
              "      <td>-4.681169e-02</td>\n",
              "      <td>-8.533551e-02</td>\n",
              "      <td>-3.209268e-02</td>\n",
              "      <td>1.401448e-01</td>\n",
              "      <td>-1.363250e-02</td>\n",
              "      <td>5.278702e-02</td>\n",
              "      <td>5.251917e-02</td>\n",
              "      <td>7.579255e-02</td>\n",
              "      <td>-7.732604e-02</td>\n",
              "      <td>-4.338370e-03</td>\n",
              "      <td>4.588014e-03</td>\n",
              "      <td>-8.104705e-02</td>\n",
              "      <td>-4.009429e-02</td>\n",
              "      <td>9.345377e-03</td>\n",
              "      <td>-1.792420e-02</td>\n",
              "      <td>6.765678e-02</td>\n",
              "      <td>3.183240e-02</td>\n",
              "      <td>-1.081217e-01</td>\n",
              "      <td>3.325174e-03</td>\n",
              "      <td>3.406368e-02</td>\n",
              "    </tr>\n",
              "    <tr>\n",
              "      <th>75%</th>\n",
              "      <td>9.372174e-01</td>\n",
              "      <td>6.716939e-01</td>\n",
              "      <td>4.867202e-01</td>\n",
              "      <td>6.774569e-01</td>\n",
              "      <td>5.250082e-01</td>\n",
              "      <td>4.433465e-01</td>\n",
              "      <td>2.991625e-01</td>\n",
              "      <td>4.611107e-01</td>\n",
              "      <td>2.740785e-01</td>\n",
              "      <td>5.435305e-01</td>\n",
              "      <td>4.168842e-01</td>\n",
              "      <td>7.245863e-01</td>\n",
              "      <td>6.187332e-01</td>\n",
              "      <td>6.656518e-01</td>\n",
              "      <td>5.144513e-01</td>\n",
              "      <td>7.088502e-01</td>\n",
              "      <td>5.971989e-01</td>\n",
              "      <td>4.705737e-01</td>\n",
              "      <td>5.974968e-01</td>\n",
              "      <td>5.637928e-01</td>\n",
              "      <td>1.725733e-01</td>\n",
              "      <td>2.537392e-01</td>\n",
              "      <td>7.283360e-01</td>\n",
              "      <td>2.364319e-01</td>\n",
              "      <td>7.257153e-01</td>\n",
              "      <td>6.728006e-01</td>\n",
              "      <td>4.996663e-01</td>\n",
              "      <td>2.255648e-01</td>\n",
              "      <td>2.371526e-01</td>\n",
              "    </tr>\n",
              "    <tr>\n",
              "      <th>max</th>\n",
              "      <td>1.642058e+00</td>\n",
              "      <td>1.253351e+00</td>\n",
              "      <td>1.335775e+01</td>\n",
              "      <td>6.187993e+00</td>\n",
              "      <td>1.191874e+01</td>\n",
              "      <td>2.521413e+01</td>\n",
              "      <td>5.502015e+01</td>\n",
              "      <td>9.747824e+01</td>\n",
              "      <td>1.675153e+01</td>\n",
              "      <td>1.419494e+01</td>\n",
              "      <td>2.180758e+01</td>\n",
              "      <td>1.177504e+01</td>\n",
              "      <td>7.854679e+00</td>\n",
              "      <td>7.160735e+00</td>\n",
              "      <td>1.098147e+01</td>\n",
              "      <td>9.699117e+00</td>\n",
              "      <td>1.976044e+01</td>\n",
              "      <td>1.089502e+01</td>\n",
              "      <td>6.014342e+00</td>\n",
              "      <td>6.869414e+00</td>\n",
              "      <td>5.113464e+01</td>\n",
              "      <td>3.703471e+01</td>\n",
              "      <td>1.447304e+01</td>\n",
              "      <td>3.607668e+01</td>\n",
              "      <td>7.569684e+00</td>\n",
              "      <td>1.442532e+01</td>\n",
              "      <td>7.293975e+00</td>\n",
              "      <td>7.831940e+01</td>\n",
              "      <td>1.025434e+02</td>\n",
              "    </tr>\n",
              "  </tbody>\n",
              "</table>\n",
              "</div>"
            ],
            "text/plain": [
              "               Time            S1  ...           S27           S28\n",
              "count  2.848070e+05  2.848070e+05  ...  2.848070e+05  2.848070e+05\n",
              "mean  -1.050379e-14 -1.536091e-15  ...  3.521028e-17 -4.119621e-17\n",
              "std    1.000002e+00  1.000002e+00  ...  1.000002e+00  1.000002e+00\n",
              "min   -1.996583e+00 -2.879855e+01  ... -5.590660e+01 -4.674612e+01\n",
              "25%   -8.552120e-01 -4.698918e-01  ... -1.755053e-01 -1.604440e-01\n",
              "50%   -2.131453e-01  9.245351e-03  ...  3.325174e-03  3.406368e-02\n",
              "75%    9.372174e-01  6.716939e-01  ...  2.255648e-01  2.371526e-01\n",
              "max    1.642058e+00  1.253351e+00  ...  7.831940e+01  1.025434e+02\n",
              "\n",
              "[8 rows x 29 columns]"
            ]
          },
          "metadata": {
            "tags": []
          },
          "execution_count": 23
        },
        {
          "output_type": "stream",
          "text": [
            "time: 561 ms (started: 2021-01-18 16:03:24 +00:00)\n"
          ],
          "name": "stdout"
        }
      ]
    },
    {
      "cell_type": "markdown",
      "metadata": {
        "id": "q1_AJiB27Liv"
      },
      "source": [
        "As you can see, mean value is fixed as zero with a standard deviation (std) of 1. Now let's try to visualize how correlated the data is by creating a correlation matrix. "
      ]
    },
    {
      "cell_type": "code",
      "metadata": {
        "colab": {
          "base_uri": "https://localhost:8080/",
          "height": 433
        },
        "id": "3LPIt_hjy2y4",
        "outputId": "2a32f966-1ec2-45bf-e0fc-93732915406a"
      },
      "source": [
        "correlationMatrix = pd.DataFrame(dataX).corr() \n",
        "\n",
        "f = plt.figure(figsize=(12, 6))\n",
        "plt.matshow(correlationMatrix, fignum=f.number)\n",
        "plt.xticks(range(dataX.shape[1]), dataX.columns, fontsize=14, rotation=75)\n",
        "plt.yticks(range(dataX.shape[1]), dataX.columns, fontsize=14)\n",
        "cb = plt.colorbar()\n",
        "cb.ax.tick_params(labelsize=14)\n",
        "plt.show()"
      ],
      "execution_count": 24,
      "outputs": [
        {
          "output_type": "display_data",
          "data": {
            "image/png": "[encoded data removed]",
            "text/plain": [
              "<Figure size 864x432 with 2 Axes>"
            ]
          },
          "metadata": {
            "tags": [],
            "needs_background": "light"
          }
        },
        {
          "output_type": "stream",
          "text": [
            "time: 825 ms (started: 2021-01-18 16:03:25 +00:00)\n"
          ],
          "name": "stdout"
        }
      ]
    },
    {
      "cell_type": "code",
      "metadata": {
        "colab": {
          "base_uri": "https://localhost:8080/",
          "height": 699
        },
        "id": "IGUBME7W-sWu",
        "outputId": "cc58f6a8-77ee-4486-b4dc-e603698905a8"
      },
      "source": [
        "#we can also simply look at the table via pandas:\n",
        "correlationMatrix.style.background_gradient(cmap='viridis').set_precision(2)"
      ],
      "execution_count": 25,
      "outputs": [
        {
          "output_type": "execute_result",
          "data": {
            "text/html": [
              "<style  type=\"text/css\" >\n",
              "#T_b2b33cd4_59a6_11eb_b6e2_0242ac1c0002row0_col0,#T_b2b33cd4_59a6_11eb_b6e2_0242ac1c0002row1_col1,#T_b2b33cd4_59a6_11eb_b6e2_0242ac1c0002row2_col2,#T_b2b33cd4_59a6_11eb_b6e2_0242ac1c0002row3_col3,#T_b2b33cd4_59a6_11eb_b6e2_0242ac1c0002row4_col4,#T_b2b33cd4_59a6_11eb_b6e2_0242ac1c0002row5_col5,#T_b2b33cd4_59a6_11eb_b6e2_0242ac1c0002row6_col6,#T_b2b33cd4_59a6_11eb_b6e2_0242ac1c0002row7_col7,#T_b2b33cd4_59a6_11eb_b6e2_0242ac1c0002row8_col8,#T_b2b33cd4_59a6_11eb_b6e2_0242ac1c0002row9_col9,#T_b2b33cd4_59a6_11eb_b6e2_0242ac1c0002row10_col10,#T_b2b33cd4_59a6_11eb_b6e2_0242ac1c0002row11_col11,#T_b2b33cd4_59a6_11eb_b6e2_0242ac1c0002row12_col12,#T_b2b33cd4_59a6_11eb_b6e2_0242ac1c0002row13_col13,#T_b2b33cd4_59a6_11eb_b6e2_0242ac1c0002row14_col14,#T_b2b33cd4_59a6_11eb_b6e2_0242ac1c0002row15_col15,#T_b2b33cd4_59a6_11eb_b6e2_0242ac1c0002row16_col16,#T_b2b33cd4_59a6_11eb_b6e2_0242ac1c0002row17_col17,#T_b2b33cd4_59a6_11eb_b6e2_0242ac1c0002row18_col18,#T_b2b33cd4_59a6_11eb_b6e2_0242ac1c0002row19_col19,#T_b2b33cd4_59a6_11eb_b6e2_0242ac1c0002row20_col20,#T_b2b33cd4_59a6_11eb_b6e2_0242ac1c0002row21_col21,#T_b2b33cd4_59a6_11eb_b6e2_0242ac1c0002row22_col22,#T_b2b33cd4_59a6_11eb_b6e2_0242ac1c0002row23_col23,#T_b2b33cd4_59a6_11eb_b6e2_0242ac1c0002row24_col24,#T_b2b33cd4_59a6_11eb_b6e2_0242ac1c0002row25_col25,#T_b2b33cd4_59a6_11eb_b6e2_0242ac1c0002row26_col26,#T_b2b33cd4_59a6_11eb_b6e2_0242ac1c0002row27_col27,#T_b2b33cd4_59a6_11eb_b6e2_0242ac1c0002row28_col28{\n",
              "            background-color:  #fde725;\n",
              "            color:  #000000;\n",
              "        }#T_b2b33cd4_59a6_11eb_b6e2_0242ac1c0002row0_col1{\n",
              "            background-color:  #472a7a;\n",
              "            color:  #f1f1f1;\n",
              "        }#T_b2b33cd4_59a6_11eb_b6e2_0242ac1c0002row0_col2,#T_b2b33cd4_59a6_11eb_b6e2_0242ac1c0002row0_col3,#T_b2b33cd4_59a6_11eb_b6e2_0242ac1c0002row0_col4,#T_b2b33cd4_59a6_11eb_b6e2_0242ac1c0002row0_col6,#T_b2b33cd4_59a6_11eb_b6e2_0242ac1c0002row0_col8,#T_b2b33cd4_59a6_11eb_b6e2_0242ac1c0002row0_col9,#T_b2b33cd4_59a6_11eb_b6e2_0242ac1c0002row0_col11,#T_b2b33cd4_59a6_11eb_b6e2_0242ac1c0002row0_col13,#T_b2b33cd4_59a6_11eb_b6e2_0242ac1c0002row0_col14,#T_b2b33cd4_59a6_11eb_b6e2_0242ac1c0002row0_col15,#T_b2b33cd4_59a6_11eb_b6e2_0242ac1c0002row0_col17,#T_b2b33cd4_59a6_11eb_b6e2_0242ac1c0002row0_col20,#T_b2b33cd4_59a6_11eb_b6e2_0242ac1c0002row0_col24,#T_b2b33cd4_59a6_11eb_b6e2_0242ac1c0002row0_col25,#T_b2b33cd4_59a6_11eb_b6e2_0242ac1c0002row0_col26,#T_b2b33cd4_59a6_11eb_b6e2_0242ac1c0002row0_col27,#T_b2b33cd4_59a6_11eb_b6e2_0242ac1c0002row0_col28,#T_b2b33cd4_59a6_11eb_b6e2_0242ac1c0002row1_col5,#T_b2b33cd4_59a6_11eb_b6e2_0242ac1c0002row1_col7,#T_b2b33cd4_59a6_11eb_b6e2_0242ac1c0002row1_col10,#T_b2b33cd4_59a6_11eb_b6e2_0242ac1c0002row1_col12,#T_b2b33cd4_59a6_11eb_b6e2_0242ac1c0002row1_col16,#T_b2b33cd4_59a6_11eb_b6e2_0242ac1c0002row1_col18,#T_b2b33cd4_59a6_11eb_b6e2_0242ac1c0002row1_col19,#T_b2b33cd4_59a6_11eb_b6e2_0242ac1c0002row1_col21,#T_b2b33cd4_59a6_11eb_b6e2_0242ac1c0002row1_col22,#T_b2b33cd4_59a6_11eb_b6e2_0242ac1c0002row1_col23,#T_b2b33cd4_59a6_11eb_b6e2_0242ac1c0002row2_col1,#T_b2b33cd4_59a6_11eb_b6e2_0242ac1c0002row2_col5,#T_b2b33cd4_59a6_11eb_b6e2_0242ac1c0002row2_col7,#T_b2b33cd4_59a6_11eb_b6e2_0242ac1c0002row2_col10,#T_b2b33cd4_59a6_11eb_b6e2_0242ac1c0002row2_col12,#T_b2b33cd4_59a6_11eb_b6e2_0242ac1c0002row2_col16,#T_b2b33cd4_59a6_11eb_b6e2_0242ac1c0002row2_col18,#T_b2b33cd4_59a6_11eb_b6e2_0242ac1c0002row2_col19,#T_b2b33cd4_59a6_11eb_b6e2_0242ac1c0002row2_col21,#T_b2b33cd4_59a6_11eb_b6e2_0242ac1c0002row2_col22,#T_b2b33cd4_59a6_11eb_b6e2_0242ac1c0002row2_col23,#T_b2b33cd4_59a6_11eb_b6e2_0242ac1c0002row3_col0,#T_b2b33cd4_59a6_11eb_b6e2_0242ac1c0002row3_col1,#T_b2b33cd4_59a6_11eb_b6e2_0242ac1c0002row3_col5,#T_b2b33cd4_59a6_11eb_b6e2_0242ac1c0002row3_col7,#T_b2b33cd4_59a6_11eb_b6e2_0242ac1c0002row3_col10,#T_b2b33cd4_59a6_11eb_b6e2_0242ac1c0002row3_col12,#T_b2b33cd4_59a6_11eb_b6e2_0242ac1c0002row3_col16,#T_b2b33cd4_59a6_11eb_b6e2_0242ac1c0002row3_col18,#T_b2b33cd4_59a6_11eb_b6e2_0242ac1c0002row3_col19,#T_b2b33cd4_59a6_11eb_b6e2_0242ac1c0002row3_col21,#T_b2b33cd4_59a6_11eb_b6e2_0242ac1c0002row3_col22,#T_b2b33cd4_59a6_11eb_b6e2_0242ac1c0002row3_col23,#T_b2b33cd4_59a6_11eb_b6e2_0242ac1c0002row4_col1,#T_b2b33cd4_59a6_11eb_b6e2_0242ac1c0002row4_col5,#T_b2b33cd4_59a6_11eb_b6e2_0242ac1c0002row4_col7,#T_b2b33cd4_59a6_11eb_b6e2_0242ac1c0002row4_col10,#T_b2b33cd4_59a6_11eb_b6e2_0242ac1c0002row4_col12,#T_b2b33cd4_59a6_11eb_b6e2_0242ac1c0002row4_col16,#T_b2b33cd4_59a6_11eb_b6e2_0242ac1c0002row4_col18,#T_b2b33cd4_59a6_11eb_b6e2_0242ac1c0002row4_col19,#T_b2b33cd4_59a6_11eb_b6e2_0242ac1c0002row4_col21,#T_b2b33cd4_59a6_11eb_b6e2_0242ac1c0002row4_col22,#T_b2b33cd4_59a6_11eb_b6e2_0242ac1c0002row4_col23,#T_b2b33cd4_59a6_11eb_b6e2_0242ac1c0002row5_col1,#T_b2b33cd4_59a6_11eb_b6e2_0242ac1c0002row5_col7,#T_b2b33cd4_59a6_11eb_b6e2_0242ac1c0002row5_col10,#T_b2b33cd4_59a6_11eb_b6e2_0242ac1c0002row5_col12,#T_b2b33cd4_59a6_11eb_b6e2_0242ac1c0002row5_col16,#T_b2b33cd4_59a6_11eb_b6e2_0242ac1c0002row5_col18,#T_b2b33cd4_59a6_11eb_b6e2_0242ac1c0002row5_col19,#T_b2b33cd4_59a6_11eb_b6e2_0242ac1c0002row5_col21,#T_b2b33cd4_59a6_11eb_b6e2_0242ac1c0002row5_col22,#T_b2b33cd4_59a6_11eb_b6e2_0242ac1c0002row5_col23,#T_b2b33cd4_59a6_11eb_b6e2_0242ac1c0002row6_col1,#T_b2b33cd4_59a6_11eb_b6e2_0242ac1c0002row6_col5,#T_b2b33cd4_59a6_11eb_b6e2_0242ac1c0002row6_col7,#T_b2b33cd4_59a6_11eb_b6e2_0242ac1c0002row6_col10,#T_b2b33cd4_59a6_11eb_b6e2_0242ac1c0002row6_col12,#T_b2b33cd4_59a6_11eb_b6e2_0242ac1c0002row6_col16,#T_b2b33cd4_59a6_11eb_b6e2_0242ac1c0002row6_col18,#T_b2b33cd4_59a6_11eb_b6e2_0242ac1c0002row6_col19,#T_b2b33cd4_59a6_11eb_b6e2_0242ac1c0002row6_col21,#T_b2b33cd4_59a6_11eb_b6e2_0242ac1c0002row6_col22,#T_b2b33cd4_59a6_11eb_b6e2_0242ac1c0002row6_col23,#T_b2b33cd4_59a6_11eb_b6e2_0242ac1c0002row7_col1,#T_b2b33cd4_59a6_11eb_b6e2_0242ac1c0002row7_col5,#T_b2b33cd4_59a6_11eb_b6e2_0242ac1c0002row7_col10,#T_b2b33cd4_59a6_11eb_b6e2_0242ac1c0002row7_col12,#T_b2b33cd4_59a6_11eb_b6e2_0242ac1c0002row7_col16,#T_b2b33cd4_59a6_11eb_b6e2_0242ac1c0002row7_col18,#T_b2b33cd4_59a6_11eb_b6e2_0242ac1c0002row7_col19,#T_b2b33cd4_59a6_11eb_b6e2_0242ac1c0002row7_col21,#T_b2b33cd4_59a6_11eb_b6e2_0242ac1c0002row7_col22,#T_b2b33cd4_59a6_11eb_b6e2_0242ac1c0002row7_col23,#T_b2b33cd4_59a6_11eb_b6e2_0242ac1c0002row8_col1,#T_b2b33cd4_59a6_11eb_b6e2_0242ac1c0002row8_col5,#T_b2b33cd4_59a6_11eb_b6e2_0242ac1c0002row8_col7,#T_b2b33cd4_59a6_11eb_b6e2_0242ac1c0002row8_col10,#T_b2b33cd4_59a6_11eb_b6e2_0242ac1c0002row8_col12,#T_b2b33cd4_59a6_11eb_b6e2_0242ac1c0002row8_col16,#T_b2b33cd4_59a6_11eb_b6e2_0242ac1c0002row8_col18,#T_b2b33cd4_59a6_11eb_b6e2_0242ac1c0002row8_col19,#T_b2b33cd4_59a6_11eb_b6e2_0242ac1c0002row8_col21,#T_b2b33cd4_59a6_11eb_b6e2_0242ac1c0002row8_col22,#T_b2b33cd4_59a6_11eb_b6e2_0242ac1c0002row8_col23,#T_b2b33cd4_59a6_11eb_b6e2_0242ac1c0002row9_col1,#T_b2b33cd4_59a6_11eb_b6e2_0242ac1c0002row9_col5,#T_b2b33cd4_59a6_11eb_b6e2_0242ac1c0002row9_col7,#T_b2b33cd4_59a6_11eb_b6e2_0242ac1c0002row9_col10,#T_b2b33cd4_59a6_11eb_b6e2_0242ac1c0002row9_col12,#T_b2b33cd4_59a6_11eb_b6e2_0242ac1c0002row9_col16,#T_b2b33cd4_59a6_11eb_b6e2_0242ac1c0002row9_col18,#T_b2b33cd4_59a6_11eb_b6e2_0242ac1c0002row9_col19,#T_b2b33cd4_59a6_11eb_b6e2_0242ac1c0002row9_col21,#T_b2b33cd4_59a6_11eb_b6e2_0242ac1c0002row9_col22,#T_b2b33cd4_59a6_11eb_b6e2_0242ac1c0002row9_col23,#T_b2b33cd4_59a6_11eb_b6e2_0242ac1c0002row10_col1,#T_b2b33cd4_59a6_11eb_b6e2_0242ac1c0002row10_col5,#T_b2b33cd4_59a6_11eb_b6e2_0242ac1c0002row10_col7,#T_b2b33cd4_59a6_11eb_b6e2_0242ac1c0002row10_col12,#T_b2b33cd4_59a6_11eb_b6e2_0242ac1c0002row10_col16,#T_b2b33cd4_59a6_11eb_b6e2_0242ac1c0002row10_col18,#T_b2b33cd4_59a6_11eb_b6e2_0242ac1c0002row10_col19,#T_b2b33cd4_59a6_11eb_b6e2_0242ac1c0002row10_col21,#T_b2b33cd4_59a6_11eb_b6e2_0242ac1c0002row10_col22,#T_b2b33cd4_59a6_11eb_b6e2_0242ac1c0002row10_col23,#T_b2b33cd4_59a6_11eb_b6e2_0242ac1c0002row11_col1,#T_b2b33cd4_59a6_11eb_b6e2_0242ac1c0002row11_col5,#T_b2b33cd4_59a6_11eb_b6e2_0242ac1c0002row11_col7,#T_b2b33cd4_59a6_11eb_b6e2_0242ac1c0002row11_col10,#T_b2b33cd4_59a6_11eb_b6e2_0242ac1c0002row11_col12,#T_b2b33cd4_59a6_11eb_b6e2_0242ac1c0002row11_col16,#T_b2b33cd4_59a6_11eb_b6e2_0242ac1c0002row11_col18,#T_b2b33cd4_59a6_11eb_b6e2_0242ac1c0002row11_col19,#T_b2b33cd4_59a6_11eb_b6e2_0242ac1c0002row11_col21,#T_b2b33cd4_59a6_11eb_b6e2_0242ac1c0002row11_col22,#T_b2b33cd4_59a6_11eb_b6e2_0242ac1c0002row11_col23,#T_b2b33cd4_59a6_11eb_b6e2_0242ac1c0002row12_col1,#T_b2b33cd4_59a6_11eb_b6e2_0242ac1c0002row12_col5,#T_b2b33cd4_59a6_11eb_b6e2_0242ac1c0002row12_col7,#T_b2b33cd4_59a6_11eb_b6e2_0242ac1c0002row12_col10,#T_b2b33cd4_59a6_11eb_b6e2_0242ac1c0002row12_col16,#T_b2b33cd4_59a6_11eb_b6e2_0242ac1c0002row12_col18,#T_b2b33cd4_59a6_11eb_b6e2_0242ac1c0002row12_col19,#T_b2b33cd4_59a6_11eb_b6e2_0242ac1c0002row12_col21,#T_b2b33cd4_59a6_11eb_b6e2_0242ac1c0002row12_col22,#T_b2b33cd4_59a6_11eb_b6e2_0242ac1c0002row12_col23,#T_b2b33cd4_59a6_11eb_b6e2_0242ac1c0002row13_col1,#T_b2b33cd4_59a6_11eb_b6e2_0242ac1c0002row13_col5,#T_b2b33cd4_59a6_11eb_b6e2_0242ac1c0002row13_col7,#T_b2b33cd4_59a6_11eb_b6e2_0242ac1c0002row13_col10,#T_b2b33cd4_59a6_11eb_b6e2_0242ac1c0002row13_col12,#T_b2b33cd4_59a6_11eb_b6e2_0242ac1c0002row13_col16,#T_b2b33cd4_59a6_11eb_b6e2_0242ac1c0002row13_col18,#T_b2b33cd4_59a6_11eb_b6e2_0242ac1c0002row13_col19,#T_b2b33cd4_59a6_11eb_b6e2_0242ac1c0002row13_col21,#T_b2b33cd4_59a6_11eb_b6e2_0242ac1c0002row13_col22,#T_b2b33cd4_59a6_11eb_b6e2_0242ac1c0002row13_col23,#T_b2b33cd4_59a6_11eb_b6e2_0242ac1c0002row14_col1,#T_b2b33cd4_59a6_11eb_b6e2_0242ac1c0002row14_col5,#T_b2b33cd4_59a6_11eb_b6e2_0242ac1c0002row14_col7,#T_b2b33cd4_59a6_11eb_b6e2_0242ac1c0002row14_col10,#T_b2b33cd4_59a6_11eb_b6e2_0242ac1c0002row14_col12,#T_b2b33cd4_59a6_11eb_b6e2_0242ac1c0002row14_col16,#T_b2b33cd4_59a6_11eb_b6e2_0242ac1c0002row14_col18,#T_b2b33cd4_59a6_11eb_b6e2_0242ac1c0002row14_col19,#T_b2b33cd4_59a6_11eb_b6e2_0242ac1c0002row14_col21,#T_b2b33cd4_59a6_11eb_b6e2_0242ac1c0002row14_col22,#T_b2b33cd4_59a6_11eb_b6e2_0242ac1c0002row14_col23,#T_b2b33cd4_59a6_11eb_b6e2_0242ac1c0002row15_col1,#T_b2b33cd4_59a6_11eb_b6e2_0242ac1c0002row15_col5,#T_b2b33cd4_59a6_11eb_b6e2_0242ac1c0002row15_col7,#T_b2b33cd4_59a6_11eb_b6e2_0242ac1c0002row15_col10,#T_b2b33cd4_59a6_11eb_b6e2_0242ac1c0002row15_col12,#T_b2b33cd4_59a6_11eb_b6e2_0242ac1c0002row15_col16,#T_b2b33cd4_59a6_11eb_b6e2_0242ac1c0002row15_col18,#T_b2b33cd4_59a6_11eb_b6e2_0242ac1c0002row15_col19,#T_b2b33cd4_59a6_11eb_b6e2_0242ac1c0002row15_col21,#T_b2b33cd4_59a6_11eb_b6e2_0242ac1c0002row15_col22,#T_b2b33cd4_59a6_11eb_b6e2_0242ac1c0002row15_col23,#T_b2b33cd4_59a6_11eb_b6e2_0242ac1c0002row16_col1,#T_b2b33cd4_59a6_11eb_b6e2_0242ac1c0002row16_col5,#T_b2b33cd4_59a6_11eb_b6e2_0242ac1c0002row16_col7,#T_b2b33cd4_59a6_11eb_b6e2_0242ac1c0002row16_col10,#T_b2b33cd4_59a6_11eb_b6e2_0242ac1c0002row16_col12,#T_b2b33cd4_59a6_11eb_b6e2_0242ac1c0002row16_col18,#T_b2b33cd4_59a6_11eb_b6e2_0242ac1c0002row16_col19,#T_b2b33cd4_59a6_11eb_b6e2_0242ac1c0002row16_col21,#T_b2b33cd4_59a6_11eb_b6e2_0242ac1c0002row16_col22,#T_b2b33cd4_59a6_11eb_b6e2_0242ac1c0002row16_col23,#T_b2b33cd4_59a6_11eb_b6e2_0242ac1c0002row17_col1,#T_b2b33cd4_59a6_11eb_b6e2_0242ac1c0002row17_col5,#T_b2b33cd4_59a6_11eb_b6e2_0242ac1c0002row17_col7,#T_b2b33cd4_59a6_11eb_b6e2_0242ac1c0002row17_col10,#T_b2b33cd4_59a6_11eb_b6e2_0242ac1c0002row17_col12,#T_b2b33cd4_59a6_11eb_b6e2_0242ac1c0002row17_col16,#T_b2b33cd4_59a6_11eb_b6e2_0242ac1c0002row17_col18,#T_b2b33cd4_59a6_11eb_b6e2_0242ac1c0002row17_col19,#T_b2b33cd4_59a6_11eb_b6e2_0242ac1c0002row17_col21,#T_b2b33cd4_59a6_11eb_b6e2_0242ac1c0002row17_col22,#T_b2b33cd4_59a6_11eb_b6e2_0242ac1c0002row17_col23,#T_b2b33cd4_59a6_11eb_b6e2_0242ac1c0002row18_col1,#T_b2b33cd4_59a6_11eb_b6e2_0242ac1c0002row18_col5,#T_b2b33cd4_59a6_11eb_b6e2_0242ac1c0002row18_col7,#T_b2b33cd4_59a6_11eb_b6e2_0242ac1c0002row18_col10,#T_b2b33cd4_59a6_11eb_b6e2_0242ac1c0002row18_col12,#T_b2b33cd4_59a6_11eb_b6e2_0242ac1c0002row18_col16,#T_b2b33cd4_59a6_11eb_b6e2_0242ac1c0002row18_col19,#T_b2b33cd4_59a6_11eb_b6e2_0242ac1c0002row18_col21,#T_b2b33cd4_59a6_11eb_b6e2_0242ac1c0002row18_col22,#T_b2b33cd4_59a6_11eb_b6e2_0242ac1c0002row18_col23,#T_b2b33cd4_59a6_11eb_b6e2_0242ac1c0002row19_col1,#T_b2b33cd4_59a6_11eb_b6e2_0242ac1c0002row19_col5,#T_b2b33cd4_59a6_11eb_b6e2_0242ac1c0002row19_col7,#T_b2b33cd4_59a6_11eb_b6e2_0242ac1c0002row19_col10,#T_b2b33cd4_59a6_11eb_b6e2_0242ac1c0002row19_col12,#T_b2b33cd4_59a6_11eb_b6e2_0242ac1c0002row19_col16,#T_b2b33cd4_59a6_11eb_b6e2_0242ac1c0002row19_col18,#T_b2b33cd4_59a6_11eb_b6e2_0242ac1c0002row19_col21,#T_b2b33cd4_59a6_11eb_b6e2_0242ac1c0002row19_col22,#T_b2b33cd4_59a6_11eb_b6e2_0242ac1c0002row19_col23,#T_b2b33cd4_59a6_11eb_b6e2_0242ac1c0002row20_col1,#T_b2b33cd4_59a6_11eb_b6e2_0242ac1c0002row20_col5,#T_b2b33cd4_59a6_11eb_b6e2_0242ac1c0002row20_col7,#T_b2b33cd4_59a6_11eb_b6e2_0242ac1c0002row20_col10,#T_b2b33cd4_59a6_11eb_b6e2_0242ac1c0002row20_col12,#T_b2b33cd4_59a6_11eb_b6e2_0242ac1c0002row20_col16,#T_b2b33cd4_59a6_11eb_b6e2_0242ac1c0002row20_col18,#T_b2b33cd4_59a6_11eb_b6e2_0242ac1c0002row20_col19,#T_b2b33cd4_59a6_11eb_b6e2_0242ac1c0002row20_col21,#T_b2b33cd4_59a6_11eb_b6e2_0242ac1c0002row20_col22,#T_b2b33cd4_59a6_11eb_b6e2_0242ac1c0002row20_col23,#T_b2b33cd4_59a6_11eb_b6e2_0242ac1c0002row21_col1,#T_b2b33cd4_59a6_11eb_b6e2_0242ac1c0002row21_col5,#T_b2b33cd4_59a6_11eb_b6e2_0242ac1c0002row21_col7,#T_b2b33cd4_59a6_11eb_b6e2_0242ac1c0002row21_col10,#T_b2b33cd4_59a6_11eb_b6e2_0242ac1c0002row21_col12,#T_b2b33cd4_59a6_11eb_b6e2_0242ac1c0002row21_col16,#T_b2b33cd4_59a6_11eb_b6e2_0242ac1c0002row21_col18,#T_b2b33cd4_59a6_11eb_b6e2_0242ac1c0002row21_col19,#T_b2b33cd4_59a6_11eb_b6e2_0242ac1c0002row21_col22,#T_b2b33cd4_59a6_11eb_b6e2_0242ac1c0002row21_col23,#T_b2b33cd4_59a6_11eb_b6e2_0242ac1c0002row22_col1,#T_b2b33cd4_59a6_11eb_b6e2_0242ac1c0002row22_col5,#T_b2b33cd4_59a6_11eb_b6e2_0242ac1c0002row22_col7,#T_b2b33cd4_59a6_11eb_b6e2_0242ac1c0002row22_col10,#T_b2b33cd4_59a6_11eb_b6e2_0242ac1c0002row22_col12,#T_b2b33cd4_59a6_11eb_b6e2_0242ac1c0002row22_col16,#T_b2b33cd4_59a6_11eb_b6e2_0242ac1c0002row22_col18,#T_b2b33cd4_59a6_11eb_b6e2_0242ac1c0002row22_col19,#T_b2b33cd4_59a6_11eb_b6e2_0242ac1c0002row22_col21,#T_b2b33cd4_59a6_11eb_b6e2_0242ac1c0002row22_col23,#T_b2b33cd4_59a6_11eb_b6e2_0242ac1c0002row23_col1,#T_b2b33cd4_59a6_11eb_b6e2_0242ac1c0002row23_col5,#T_b2b33cd4_59a6_11eb_b6e2_0242ac1c0002row23_col7,#T_b2b33cd4_59a6_11eb_b6e2_0242ac1c0002row23_col10,#T_b2b33cd4_59a6_11eb_b6e2_0242ac1c0002row23_col12,#T_b2b33cd4_59a6_11eb_b6e2_0242ac1c0002row23_col16,#T_b2b33cd4_59a6_11eb_b6e2_0242ac1c0002row23_col18,#T_b2b33cd4_59a6_11eb_b6e2_0242ac1c0002row23_col19,#T_b2b33cd4_59a6_11eb_b6e2_0242ac1c0002row23_col21,#T_b2b33cd4_59a6_11eb_b6e2_0242ac1c0002row23_col22,#T_b2b33cd4_59a6_11eb_b6e2_0242ac1c0002row24_col1,#T_b2b33cd4_59a6_11eb_b6e2_0242ac1c0002row24_col5,#T_b2b33cd4_59a6_11eb_b6e2_0242ac1c0002row24_col7,#T_b2b33cd4_59a6_11eb_b6e2_0242ac1c0002row24_col10,#T_b2b33cd4_59a6_11eb_b6e2_0242ac1c0002row24_col12,#T_b2b33cd4_59a6_11eb_b6e2_0242ac1c0002row24_col16,#T_b2b33cd4_59a6_11eb_b6e2_0242ac1c0002row24_col18,#T_b2b33cd4_59a6_11eb_b6e2_0242ac1c0002row24_col19,#T_b2b33cd4_59a6_11eb_b6e2_0242ac1c0002row24_col21,#T_b2b33cd4_59a6_11eb_b6e2_0242ac1c0002row24_col22,#T_b2b33cd4_59a6_11eb_b6e2_0242ac1c0002row24_col23,#T_b2b33cd4_59a6_11eb_b6e2_0242ac1c0002row25_col1,#T_b2b33cd4_59a6_11eb_b6e2_0242ac1c0002row25_col5,#T_b2b33cd4_59a6_11eb_b6e2_0242ac1c0002row25_col7,#T_b2b33cd4_59a6_11eb_b6e2_0242ac1c0002row25_col10,#T_b2b33cd4_59a6_11eb_b6e2_0242ac1c0002row25_col12,#T_b2b33cd4_59a6_11eb_b6e2_0242ac1c0002row25_col16,#T_b2b33cd4_59a6_11eb_b6e2_0242ac1c0002row25_col18,#T_b2b33cd4_59a6_11eb_b6e2_0242ac1c0002row25_col19,#T_b2b33cd4_59a6_11eb_b6e2_0242ac1c0002row25_col21,#T_b2b33cd4_59a6_11eb_b6e2_0242ac1c0002row25_col22,#T_b2b33cd4_59a6_11eb_b6e2_0242ac1c0002row25_col23,#T_b2b33cd4_59a6_11eb_b6e2_0242ac1c0002row26_col1,#T_b2b33cd4_59a6_11eb_b6e2_0242ac1c0002row26_col5,#T_b2b33cd4_59a6_11eb_b6e2_0242ac1c0002row26_col7,#T_b2b33cd4_59a6_11eb_b6e2_0242ac1c0002row26_col10,#T_b2b33cd4_59a6_11eb_b6e2_0242ac1c0002row26_col12,#T_b2b33cd4_59a6_11eb_b6e2_0242ac1c0002row26_col16,#T_b2b33cd4_59a6_11eb_b6e2_0242ac1c0002row26_col18,#T_b2b33cd4_59a6_11eb_b6e2_0242ac1c0002row26_col19,#T_b2b33cd4_59a6_11eb_b6e2_0242ac1c0002row26_col21,#T_b2b33cd4_59a6_11eb_b6e2_0242ac1c0002row26_col22,#T_b2b33cd4_59a6_11eb_b6e2_0242ac1c0002row26_col23,#T_b2b33cd4_59a6_11eb_b6e2_0242ac1c0002row27_col1,#T_b2b33cd4_59a6_11eb_b6e2_0242ac1c0002row27_col5,#T_b2b33cd4_59a6_11eb_b6e2_0242ac1c0002row27_col7,#T_b2b33cd4_59a6_11eb_b6e2_0242ac1c0002row27_col10,#T_b2b33cd4_59a6_11eb_b6e2_0242ac1c0002row27_col12,#T_b2b33cd4_59a6_11eb_b6e2_0242ac1c0002row27_col16,#T_b2b33cd4_59a6_11eb_b6e2_0242ac1c0002row27_col18,#T_b2b33cd4_59a6_11eb_b6e2_0242ac1c0002row27_col19,#T_b2b33cd4_59a6_11eb_b6e2_0242ac1c0002row27_col21,#T_b2b33cd4_59a6_11eb_b6e2_0242ac1c0002row27_col22,#T_b2b33cd4_59a6_11eb_b6e2_0242ac1c0002row27_col23,#T_b2b33cd4_59a6_11eb_b6e2_0242ac1c0002row28_col1,#T_b2b33cd4_59a6_11eb_b6e2_0242ac1c0002row28_col5,#T_b2b33cd4_59a6_11eb_b6e2_0242ac1c0002row28_col7,#T_b2b33cd4_59a6_11eb_b6e2_0242ac1c0002row28_col10,#T_b2b33cd4_59a6_11eb_b6e2_0242ac1c0002row28_col12,#T_b2b33cd4_59a6_11eb_b6e2_0242ac1c0002row28_col16,#T_b2b33cd4_59a6_11eb_b6e2_0242ac1c0002row28_col18,#T_b2b33cd4_59a6_11eb_b6e2_0242ac1c0002row28_col19,#T_b2b33cd4_59a6_11eb_b6e2_0242ac1c0002row28_col21,#T_b2b33cd4_59a6_11eb_b6e2_0242ac1c0002row28_col22,#T_b2b33cd4_59a6_11eb_b6e2_0242ac1c0002row28_col23{\n",
              "            background-color:  #440154;\n",
              "            color:  #f1f1f1;\n",
              "        }#T_b2b33cd4_59a6_11eb_b6e2_0242ac1c0002row0_col5{\n",
              "            background-color:  #443b84;\n",
              "            color:  #f1f1f1;\n",
              "        }#T_b2b33cd4_59a6_11eb_b6e2_0242ac1c0002row0_col7{\n",
              "            background-color:  #481f70;\n",
              "            color:  #f1f1f1;\n",
              "        }#T_b2b33cd4_59a6_11eb_b6e2_0242ac1c0002row0_col10,#T_b2b33cd4_59a6_11eb_b6e2_0242ac1c0002row0_col19{\n",
              "            background-color:  #460b5e;\n",
              "            color:  #f1f1f1;\n",
              "        }#T_b2b33cd4_59a6_11eb_b6e2_0242ac1c0002row0_col12,#T_b2b33cd4_59a6_11eb_b6e2_0242ac1c0002row11_col0{\n",
              "            background-color:  #472c7a;\n",
              "            color:  #f1f1f1;\n",
              "        }#T_b2b33cd4_59a6_11eb_b6e2_0242ac1c0002row0_col16{\n",
              "            background-color:  #450559;\n",
              "            color:  #f1f1f1;\n",
              "        }#T_b2b33cd4_59a6_11eb_b6e2_0242ac1c0002row0_col18,#T_b2b33cd4_59a6_11eb_b6e2_0242ac1c0002row1_col14,#T_b2b33cd4_59a6_11eb_b6e2_0242ac1c0002row2_col14,#T_b2b33cd4_59a6_11eb_b6e2_0242ac1c0002row3_col14,#T_b2b33cd4_59a6_11eb_b6e2_0242ac1c0002row4_col14,#T_b2b33cd4_59a6_11eb_b6e2_0242ac1c0002row5_col14,#T_b2b33cd4_59a6_11eb_b6e2_0242ac1c0002row6_col14,#T_b2b33cd4_59a6_11eb_b6e2_0242ac1c0002row7_col14,#T_b2b33cd4_59a6_11eb_b6e2_0242ac1c0002row8_col14,#T_b2b33cd4_59a6_11eb_b6e2_0242ac1c0002row9_col14,#T_b2b33cd4_59a6_11eb_b6e2_0242ac1c0002row10_col14,#T_b2b33cd4_59a6_11eb_b6e2_0242ac1c0002row11_col14,#T_b2b33cd4_59a6_11eb_b6e2_0242ac1c0002row12_col14,#T_b2b33cd4_59a6_11eb_b6e2_0242ac1c0002row13_col14,#T_b2b33cd4_59a6_11eb_b6e2_0242ac1c0002row15_col14,#T_b2b33cd4_59a6_11eb_b6e2_0242ac1c0002row16_col14,#T_b2b33cd4_59a6_11eb_b6e2_0242ac1c0002row17_col14,#T_b2b33cd4_59a6_11eb_b6e2_0242ac1c0002row18_col14,#T_b2b33cd4_59a6_11eb_b6e2_0242ac1c0002row19_col14,#T_b2b33cd4_59a6_11eb_b6e2_0242ac1c0002row20_col14,#T_b2b33cd4_59a6_11eb_b6e2_0242ac1c0002row21_col14,#T_b2b33cd4_59a6_11eb_b6e2_0242ac1c0002row22_col14,#T_b2b33cd4_59a6_11eb_b6e2_0242ac1c0002row23_col14,#T_b2b33cd4_59a6_11eb_b6e2_0242ac1c0002row24_col14,#T_b2b33cd4_59a6_11eb_b6e2_0242ac1c0002row25_col14,#T_b2b33cd4_59a6_11eb_b6e2_0242ac1c0002row26_col14,#T_b2b33cd4_59a6_11eb_b6e2_0242ac1c0002row27_col14,#T_b2b33cd4_59a6_11eb_b6e2_0242ac1c0002row28_col14{\n",
              "            background-color:  #482173;\n",
              "            color:  #f1f1f1;\n",
              "        }#T_b2b33cd4_59a6_11eb_b6e2_0242ac1c0002row0_col21{\n",
              "            background-color:  #471164;\n",
              "            color:  #f1f1f1;\n",
              "        }#T_b2b33cd4_59a6_11eb_b6e2_0242ac1c0002row0_col22{\n",
              "            background-color:  #46327e;\n",
              "            color:  #f1f1f1;\n",
              "        }#T_b2b33cd4_59a6_11eb_b6e2_0242ac1c0002row0_col23{\n",
              "            background-color:  #481467;\n",
              "            color:  #f1f1f1;\n",
              "        }#T_b2b33cd4_59a6_11eb_b6e2_0242ac1c0002row1_col0{\n",
              "            background-color:  #2c728e;\n",
              "            color:  #f1f1f1;\n",
              "        }#T_b2b33cd4_59a6_11eb_b6e2_0242ac1c0002row1_col2,#T_b2b33cd4_59a6_11eb_b6e2_0242ac1c0002row1_col9,#T_b2b33cd4_59a6_11eb_b6e2_0242ac1c0002row1_col28,#T_b2b33cd4_59a6_11eb_b6e2_0242ac1c0002row2_col9,#T_b2b33cd4_59a6_11eb_b6e2_0242ac1c0002row2_col28,#T_b2b33cd4_59a6_11eb_b6e2_0242ac1c0002row3_col2,#T_b2b33cd4_59a6_11eb_b6e2_0242ac1c0002row3_col9,#T_b2b33cd4_59a6_11eb_b6e2_0242ac1c0002row3_col28,#T_b2b33cd4_59a6_11eb_b6e2_0242ac1c0002row4_col2,#T_b2b33cd4_59a6_11eb_b6e2_0242ac1c0002row4_col9,#T_b2b33cd4_59a6_11eb_b6e2_0242ac1c0002row4_col28,#T_b2b33cd4_59a6_11eb_b6e2_0242ac1c0002row5_col2,#T_b2b33cd4_59a6_11eb_b6e2_0242ac1c0002row5_col9,#T_b2b33cd4_59a6_11eb_b6e2_0242ac1c0002row5_col28,#T_b2b33cd4_59a6_11eb_b6e2_0242ac1c0002row6_col2,#T_b2b33cd4_59a6_11eb_b6e2_0242ac1c0002row6_col9,#T_b2b33cd4_59a6_11eb_b6e2_0242ac1c0002row6_col28,#T_b2b33cd4_59a6_11eb_b6e2_0242ac1c0002row7_col2,#T_b2b33cd4_59a6_11eb_b6e2_0242ac1c0002row7_col9,#T_b2b33cd4_59a6_11eb_b6e2_0242ac1c0002row7_col28,#T_b2b33cd4_59a6_11eb_b6e2_0242ac1c0002row8_col2,#T_b2b33cd4_59a6_11eb_b6e2_0242ac1c0002row8_col9,#T_b2b33cd4_59a6_11eb_b6e2_0242ac1c0002row8_col28,#T_b2b33cd4_59a6_11eb_b6e2_0242ac1c0002row9_col2,#T_b2b33cd4_59a6_11eb_b6e2_0242ac1c0002row9_col28,#T_b2b33cd4_59a6_11eb_b6e2_0242ac1c0002row10_col2,#T_b2b33cd4_59a6_11eb_b6e2_0242ac1c0002row10_col9,#T_b2b33cd4_59a6_11eb_b6e2_0242ac1c0002row10_col28,#T_b2b33cd4_59a6_11eb_b6e2_0242ac1c0002row11_col2,#T_b2b33cd4_59a6_11eb_b6e2_0242ac1c0002row11_col9,#T_b2b33cd4_59a6_11eb_b6e2_0242ac1c0002row11_col28,#T_b2b33cd4_59a6_11eb_b6e2_0242ac1c0002row12_col2,#T_b2b33cd4_59a6_11eb_b6e2_0242ac1c0002row12_col9,#T_b2b33cd4_59a6_11eb_b6e2_0242ac1c0002row12_col28,#T_b2b33cd4_59a6_11eb_b6e2_0242ac1c0002row13_col2,#T_b2b33cd4_59a6_11eb_b6e2_0242ac1c0002row13_col9,#T_b2b33cd4_59a6_11eb_b6e2_0242ac1c0002row13_col28,#T_b2b33cd4_59a6_11eb_b6e2_0242ac1c0002row14_col2,#T_b2b33cd4_59a6_11eb_b6e2_0242ac1c0002row14_col9,#T_b2b33cd4_59a6_11eb_b6e2_0242ac1c0002row14_col28,#T_b2b33cd4_59a6_11eb_b6e2_0242ac1c0002row15_col2,#T_b2b33cd4_59a6_11eb_b6e2_0242ac1c0002row15_col9,#T_b2b33cd4_59a6_11eb_b6e2_0242ac1c0002row15_col28,#T_b2b33cd4_59a6_11eb_b6e2_0242ac1c0002row16_col2,#T_b2b33cd4_59a6_11eb_b6e2_0242ac1c0002row16_col9,#T_b2b33cd4_59a6_11eb_b6e2_0242ac1c0002row16_col28,#T_b2b33cd4_59a6_11eb_b6e2_0242ac1c0002row17_col2,#T_b2b33cd4_59a6_11eb_b6e2_0242ac1c0002row17_col9,#T_b2b33cd4_59a6_11eb_b6e2_0242ac1c0002row17_col28,#T_b2b33cd4_59a6_11eb_b6e2_0242ac1c0002row18_col2,#T_b2b33cd4_59a6_11eb_b6e2_0242ac1c0002row18_col9,#T_b2b33cd4_59a6_11eb_b6e2_0242ac1c0002row18_col28,#T_b2b33cd4_59a6_11eb_b6e2_0242ac1c0002row19_col2,#T_b2b33cd4_59a6_11eb_b6e2_0242ac1c0002row19_col9,#T_b2b33cd4_59a6_11eb_b6e2_0242ac1c0002row19_col28,#T_b2b33cd4_59a6_11eb_b6e2_0242ac1c0002row20_col2,#T_b2b33cd4_59a6_11eb_b6e2_0242ac1c0002row20_col9,#T_b2b33cd4_59a6_11eb_b6e2_0242ac1c0002row20_col28,#T_b2b33cd4_59a6_11eb_b6e2_0242ac1c0002row21_col2,#T_b2b33cd4_59a6_11eb_b6e2_0242ac1c0002row21_col9,#T_b2b33cd4_59a6_11eb_b6e2_0242ac1c0002row21_col28,#T_b2b33cd4_59a6_11eb_b6e2_0242ac1c0002row22_col2,#T_b2b33cd4_59a6_11eb_b6e2_0242ac1c0002row22_col9,#T_b2b33cd4_59a6_11eb_b6e2_0242ac1c0002row22_col28,#T_b2b33cd4_59a6_11eb_b6e2_0242ac1c0002row23_col2,#T_b2b33cd4_59a6_11eb_b6e2_0242ac1c0002row23_col9,#T_b2b33cd4_59a6_11eb_b6e2_0242ac1c0002row23_col28,#T_b2b33cd4_59a6_11eb_b6e2_0242ac1c0002row24_col2,#T_b2b33cd4_59a6_11eb_b6e2_0242ac1c0002row24_col9,#T_b2b33cd4_59a6_11eb_b6e2_0242ac1c0002row24_col28,#T_b2b33cd4_59a6_11eb_b6e2_0242ac1c0002row25_col2,#T_b2b33cd4_59a6_11eb_b6e2_0242ac1c0002row25_col9,#T_b2b33cd4_59a6_11eb_b6e2_0242ac1c0002row25_col28,#T_b2b33cd4_59a6_11eb_b6e2_0242ac1c0002row26_col2,#T_b2b33cd4_59a6_11eb_b6e2_0242ac1c0002row26_col9,#T_b2b33cd4_59a6_11eb_b6e2_0242ac1c0002row26_col28,#T_b2b33cd4_59a6_11eb_b6e2_0242ac1c0002row27_col2,#T_b2b33cd4_59a6_11eb_b6e2_0242ac1c0002row27_col9,#T_b2b33cd4_59a6_11eb_b6e2_0242ac1c0002row27_col28,#T_b2b33cd4_59a6_11eb_b6e2_0242ac1c0002row28_col2,#T_b2b33cd4_59a6_11eb_b6e2_0242ac1c0002row28_col9{\n",
              "            background-color:  #450457;\n",
              "            color:  #f1f1f1;\n",
              "        }#T_b2b33cd4_59a6_11eb_b6e2_0242ac1c0002row1_col3,#T_b2b33cd4_59a6_11eb_b6e2_0242ac1c0002row2_col3,#T_b2b33cd4_59a6_11eb_b6e2_0242ac1c0002row4_col3,#T_b2b33cd4_59a6_11eb_b6e2_0242ac1c0002row5_col3,#T_b2b33cd4_59a6_11eb_b6e2_0242ac1c0002row6_col3,#T_b2b33cd4_59a6_11eb_b6e2_0242ac1c0002row7_col3,#T_b2b33cd4_59a6_11eb_b6e2_0242ac1c0002row8_col3,#T_b2b33cd4_59a6_11eb_b6e2_0242ac1c0002row9_col3,#T_b2b33cd4_59a6_11eb_b6e2_0242ac1c0002row10_col3,#T_b2b33cd4_59a6_11eb_b6e2_0242ac1c0002row11_col3,#T_b2b33cd4_59a6_11eb_b6e2_0242ac1c0002row12_col3,#T_b2b33cd4_59a6_11eb_b6e2_0242ac1c0002row13_col3,#T_b2b33cd4_59a6_11eb_b6e2_0242ac1c0002row14_col3,#T_b2b33cd4_59a6_11eb_b6e2_0242ac1c0002row15_col3,#T_b2b33cd4_59a6_11eb_b6e2_0242ac1c0002row16_col3,#T_b2b33cd4_59a6_11eb_b6e2_0242ac1c0002row17_col3,#T_b2b33cd4_59a6_11eb_b6e2_0242ac1c0002row18_col3,#T_b2b33cd4_59a6_11eb_b6e2_0242ac1c0002row19_col3,#T_b2b33cd4_59a6_11eb_b6e2_0242ac1c0002row20_col3,#T_b2b33cd4_59a6_11eb_b6e2_0242ac1c0002row21_col3,#T_b2b33cd4_59a6_11eb_b6e2_0242ac1c0002row22_col3,#T_b2b33cd4_59a6_11eb_b6e2_0242ac1c0002row23_col3,#T_b2b33cd4_59a6_11eb_b6e2_0242ac1c0002row24_col3,#T_b2b33cd4_59a6_11eb_b6e2_0242ac1c0002row25_col3,#T_b2b33cd4_59a6_11eb_b6e2_0242ac1c0002row26_col3,#T_b2b33cd4_59a6_11eb_b6e2_0242ac1c0002row27_col3,#T_b2b33cd4_59a6_11eb_b6e2_0242ac1c0002row28_col3{\n",
              "            background-color:  #355e8d;\n",
              "            color:  #f1f1f1;\n",
              "        }#T_b2b33cd4_59a6_11eb_b6e2_0242ac1c0002row1_col4,#T_b2b33cd4_59a6_11eb_b6e2_0242ac1c0002row2_col4,#T_b2b33cd4_59a6_11eb_b6e2_0242ac1c0002row3_col4,#T_b2b33cd4_59a6_11eb_b6e2_0242ac1c0002row5_col4,#T_b2b33cd4_59a6_11eb_b6e2_0242ac1c0002row6_col4,#T_b2b33cd4_59a6_11eb_b6e2_0242ac1c0002row7_col4,#T_b2b33cd4_59a6_11eb_b6e2_0242ac1c0002row8_col4,#T_b2b33cd4_59a6_11eb_b6e2_0242ac1c0002row9_col4,#T_b2b33cd4_59a6_11eb_b6e2_0242ac1c0002row10_col4,#T_b2b33cd4_59a6_11eb_b6e2_0242ac1c0002row11_col4,#T_b2b33cd4_59a6_11eb_b6e2_0242ac1c0002row12_col4,#T_b2b33cd4_59a6_11eb_b6e2_0242ac1c0002row13_col4,#T_b2b33cd4_59a6_11eb_b6e2_0242ac1c0002row14_col4,#T_b2b33cd4_59a6_11eb_b6e2_0242ac1c0002row15_col4,#T_b2b33cd4_59a6_11eb_b6e2_0242ac1c0002row16_col4,#T_b2b33cd4_59a6_11eb_b6e2_0242ac1c0002row17_col4,#T_b2b33cd4_59a6_11eb_b6e2_0242ac1c0002row18_col4,#T_b2b33cd4_59a6_11eb_b6e2_0242ac1c0002row19_col4,#T_b2b33cd4_59a6_11eb_b6e2_0242ac1c0002row20_col4,#T_b2b33cd4_59a6_11eb_b6e2_0242ac1c0002row21_col4,#T_b2b33cd4_59a6_11eb_b6e2_0242ac1c0002row22_col4,#T_b2b33cd4_59a6_11eb_b6e2_0242ac1c0002row23_col4,#T_b2b33cd4_59a6_11eb_b6e2_0242ac1c0002row24_col4,#T_b2b33cd4_59a6_11eb_b6e2_0242ac1c0002row25_col4,#T_b2b33cd4_59a6_11eb_b6e2_0242ac1c0002row26_col4,#T_b2b33cd4_59a6_11eb_b6e2_0242ac1c0002row27_col4,#T_b2b33cd4_59a6_11eb_b6e2_0242ac1c0002row28_col4{\n",
              "            background-color:  #482374;\n",
              "            color:  #f1f1f1;\n",
              "        }#T_b2b33cd4_59a6_11eb_b6e2_0242ac1c0002row1_col6,#T_b2b33cd4_59a6_11eb_b6e2_0242ac1c0002row1_col13,#T_b2b33cd4_59a6_11eb_b6e2_0242ac1c0002row2_col6,#T_b2b33cd4_59a6_11eb_b6e2_0242ac1c0002row2_col13,#T_b2b33cd4_59a6_11eb_b6e2_0242ac1c0002row3_col6,#T_b2b33cd4_59a6_11eb_b6e2_0242ac1c0002row3_col13,#T_b2b33cd4_59a6_11eb_b6e2_0242ac1c0002row4_col6,#T_b2b33cd4_59a6_11eb_b6e2_0242ac1c0002row4_col13,#T_b2b33cd4_59a6_11eb_b6e2_0242ac1c0002row5_col6,#T_b2b33cd4_59a6_11eb_b6e2_0242ac1c0002row5_col13,#T_b2b33cd4_59a6_11eb_b6e2_0242ac1c0002row6_col13,#T_b2b33cd4_59a6_11eb_b6e2_0242ac1c0002row7_col6,#T_b2b33cd4_59a6_11eb_b6e2_0242ac1c0002row7_col13,#T_b2b33cd4_59a6_11eb_b6e2_0242ac1c0002row8_col6,#T_b2b33cd4_59a6_11eb_b6e2_0242ac1c0002row8_col13,#T_b2b33cd4_59a6_11eb_b6e2_0242ac1c0002row9_col6,#T_b2b33cd4_59a6_11eb_b6e2_0242ac1c0002row9_col13,#T_b2b33cd4_59a6_11eb_b6e2_0242ac1c0002row10_col6,#T_b2b33cd4_59a6_11eb_b6e2_0242ac1c0002row10_col13,#T_b2b33cd4_59a6_11eb_b6e2_0242ac1c0002row11_col6,#T_b2b33cd4_59a6_11eb_b6e2_0242ac1c0002row11_col13,#T_b2b33cd4_59a6_11eb_b6e2_0242ac1c0002row12_col6,#T_b2b33cd4_59a6_11eb_b6e2_0242ac1c0002row12_col13,#T_b2b33cd4_59a6_11eb_b6e2_0242ac1c0002row13_col6,#T_b2b33cd4_59a6_11eb_b6e2_0242ac1c0002row14_col6,#T_b2b33cd4_59a6_11eb_b6e2_0242ac1c0002row14_col13,#T_b2b33cd4_59a6_11eb_b6e2_0242ac1c0002row15_col6,#T_b2b33cd4_59a6_11eb_b6e2_0242ac1c0002row15_col13,#T_b2b33cd4_59a6_11eb_b6e2_0242ac1c0002row16_col6,#T_b2b33cd4_59a6_11eb_b6e2_0242ac1c0002row16_col13,#T_b2b33cd4_59a6_11eb_b6e2_0242ac1c0002row17_col6,#T_b2b33cd4_59a6_11eb_b6e2_0242ac1c0002row17_col13,#T_b2b33cd4_59a6_11eb_b6e2_0242ac1c0002row18_col6,#T_b2b33cd4_59a6_11eb_b6e2_0242ac1c0002row18_col13,#T_b2b33cd4_59a6_11eb_b6e2_0242ac1c0002row19_col6,#T_b2b33cd4_59a6_11eb_b6e2_0242ac1c0002row19_col13,#T_b2b33cd4_59a6_11eb_b6e2_0242ac1c0002row20_col6,#T_b2b33cd4_59a6_11eb_b6e2_0242ac1c0002row20_col13,#T_b2b33cd4_59a6_11eb_b6e2_0242ac1c0002row21_col6,#T_b2b33cd4_59a6_11eb_b6e2_0242ac1c0002row21_col13,#T_b2b33cd4_59a6_11eb_b6e2_0242ac1c0002row22_col6,#T_b2b33cd4_59a6_11eb_b6e2_0242ac1c0002row22_col13,#T_b2b33cd4_59a6_11eb_b6e2_0242ac1c0002row23_col6,#T_b2b33cd4_59a6_11eb_b6e2_0242ac1c0002row23_col13,#T_b2b33cd4_59a6_11eb_b6e2_0242ac1c0002row24_col6,#T_b2b33cd4_59a6_11eb_b6e2_0242ac1c0002row24_col13,#T_b2b33cd4_59a6_11eb_b6e2_0242ac1c0002row25_col6,#T_b2b33cd4_59a6_11eb_b6e2_0242ac1c0002row25_col13,#T_b2b33cd4_59a6_11eb_b6e2_0242ac1c0002row26_col6,#T_b2b33cd4_59a6_11eb_b6e2_0242ac1c0002row26_col13,#T_b2b33cd4_59a6_11eb_b6e2_0242ac1c0002row27_col6,#T_b2b33cd4_59a6_11eb_b6e2_0242ac1c0002row27_col13,#T_b2b33cd4_59a6_11eb_b6e2_0242ac1c0002row28_col6,#T_b2b33cd4_59a6_11eb_b6e2_0242ac1c0002row28_col13{\n",
              "            background-color:  #481769;\n",
              "            color:  #f1f1f1;\n",
              "        }#T_b2b33cd4_59a6_11eb_b6e2_0242ac1c0002row1_col8,#T_b2b33cd4_59a6_11eb_b6e2_0242ac1c0002row2_col8,#T_b2b33cd4_59a6_11eb_b6e2_0242ac1c0002row3_col8,#T_b2b33cd4_59a6_11eb_b6e2_0242ac1c0002row4_col8,#T_b2b33cd4_59a6_11eb_b6e2_0242ac1c0002row5_col8,#T_b2b33cd4_59a6_11eb_b6e2_0242ac1c0002row6_col8,#T_b2b33cd4_59a6_11eb_b6e2_0242ac1c0002row7_col8,#T_b2b33cd4_59a6_11eb_b6e2_0242ac1c0002row9_col8,#T_b2b33cd4_59a6_11eb_b6e2_0242ac1c0002row10_col8,#T_b2b33cd4_59a6_11eb_b6e2_0242ac1c0002row11_col8,#T_b2b33cd4_59a6_11eb_b6e2_0242ac1c0002row12_col8,#T_b2b33cd4_59a6_11eb_b6e2_0242ac1c0002row13_col8,#T_b2b33cd4_59a6_11eb_b6e2_0242ac1c0002row14_col8,#T_b2b33cd4_59a6_11eb_b6e2_0242ac1c0002row15_col8,#T_b2b33cd4_59a6_11eb_b6e2_0242ac1c0002row16_col8,#T_b2b33cd4_59a6_11eb_b6e2_0242ac1c0002row17_col8,#T_b2b33cd4_59a6_11eb_b6e2_0242ac1c0002row18_col8,#T_b2b33cd4_59a6_11eb_b6e2_0242ac1c0002row19_col8,#T_b2b33cd4_59a6_11eb_b6e2_0242ac1c0002row20_col8,#T_b2b33cd4_59a6_11eb_b6e2_0242ac1c0002row21_col8,#T_b2b33cd4_59a6_11eb_b6e2_0242ac1c0002row22_col8,#T_b2b33cd4_59a6_11eb_b6e2_0242ac1c0002row23_col8,#T_b2b33cd4_59a6_11eb_b6e2_0242ac1c0002row24_col8,#T_b2b33cd4_59a6_11eb_b6e2_0242ac1c0002row25_col8,#T_b2b33cd4_59a6_11eb_b6e2_0242ac1c0002row26_col8,#T_b2b33cd4_59a6_11eb_b6e2_0242ac1c0002row27_col8,#T_b2b33cd4_59a6_11eb_b6e2_0242ac1c0002row28_col8{\n",
              "            background-color:  #470e61;\n",
              "            color:  #f1f1f1;\n",
              "        }#T_b2b33cd4_59a6_11eb_b6e2_0242ac1c0002row1_col11,#T_b2b33cd4_59a6_11eb_b6e2_0242ac1c0002row2_col11,#T_b2b33cd4_59a6_11eb_b6e2_0242ac1c0002row3_col11,#T_b2b33cd4_59a6_11eb_b6e2_0242ac1c0002row4_col11,#T_b2b33cd4_59a6_11eb_b6e2_0242ac1c0002row5_col11,#T_b2b33cd4_59a6_11eb_b6e2_0242ac1c0002row6_col11,#T_b2b33cd4_59a6_11eb_b6e2_0242ac1c0002row7_col11,#T_b2b33cd4_59a6_11eb_b6e2_0242ac1c0002row8_col11,#T_b2b33cd4_59a6_11eb_b6e2_0242ac1c0002row9_col11,#T_b2b33cd4_59a6_11eb_b6e2_0242ac1c0002row10_col11,#T_b2b33cd4_59a6_11eb_b6e2_0242ac1c0002row12_col11,#T_b2b33cd4_59a6_11eb_b6e2_0242ac1c0002row13_col11,#T_b2b33cd4_59a6_11eb_b6e2_0242ac1c0002row14_col11,#T_b2b33cd4_59a6_11eb_b6e2_0242ac1c0002row15_col11,#T_b2b33cd4_59a6_11eb_b6e2_0242ac1c0002row16_col11,#T_b2b33cd4_59a6_11eb_b6e2_0242ac1c0002row17_col11,#T_b2b33cd4_59a6_11eb_b6e2_0242ac1c0002row18_col11,#T_b2b33cd4_59a6_11eb_b6e2_0242ac1c0002row19_col11,#T_b2b33cd4_59a6_11eb_b6e2_0242ac1c0002row20_col11,#T_b2b33cd4_59a6_11eb_b6e2_0242ac1c0002row21_col11,#T_b2b33cd4_59a6_11eb_b6e2_0242ac1c0002row22_col11,#T_b2b33cd4_59a6_11eb_b6e2_0242ac1c0002row23_col11,#T_b2b33cd4_59a6_11eb_b6e2_0242ac1c0002row24_col11,#T_b2b33cd4_59a6_11eb_b6e2_0242ac1c0002row25_col11,#T_b2b33cd4_59a6_11eb_b6e2_0242ac1c0002row26_col11,#T_b2b33cd4_59a6_11eb_b6e2_0242ac1c0002row27_col11,#T_b2b33cd4_59a6_11eb_b6e2_0242ac1c0002row28_col11{\n",
              "            background-color:  #414287;\n",
              "            color:  #f1f1f1;\n",
              "        }#T_b2b33cd4_59a6_11eb_b6e2_0242ac1c0002row1_col15,#T_b2b33cd4_59a6_11eb_b6e2_0242ac1c0002row2_col15,#T_b2b33cd4_59a6_11eb_b6e2_0242ac1c0002row3_col15,#T_b2b33cd4_59a6_11eb_b6e2_0242ac1c0002row4_col15,#T_b2b33cd4_59a6_11eb_b6e2_0242ac1c0002row5_col15,#T_b2b33cd4_59a6_11eb_b6e2_0242ac1c0002row6_col15,#T_b2b33cd4_59a6_11eb_b6e2_0242ac1c0002row7_col15,#T_b2b33cd4_59a6_11eb_b6e2_0242ac1c0002row8_col15,#T_b2b33cd4_59a6_11eb_b6e2_0242ac1c0002row9_col15,#T_b2b33cd4_59a6_11eb_b6e2_0242ac1c0002row10_col15,#T_b2b33cd4_59a6_11eb_b6e2_0242ac1c0002row11_col15,#T_b2b33cd4_59a6_11eb_b6e2_0242ac1c0002row12_col15,#T_b2b33cd4_59a6_11eb_b6e2_0242ac1c0002row13_col15,#T_b2b33cd4_59a6_11eb_b6e2_0242ac1c0002row14_col15,#T_b2b33cd4_59a6_11eb_b6e2_0242ac1c0002row16_col15,#T_b2b33cd4_59a6_11eb_b6e2_0242ac1c0002row17_col15,#T_b2b33cd4_59a6_11eb_b6e2_0242ac1c0002row18_col15,#T_b2b33cd4_59a6_11eb_b6e2_0242ac1c0002row19_col15,#T_b2b33cd4_59a6_11eb_b6e2_0242ac1c0002row20_col15,#T_b2b33cd4_59a6_11eb_b6e2_0242ac1c0002row21_col15,#T_b2b33cd4_59a6_11eb_b6e2_0242ac1c0002row22_col15,#T_b2b33cd4_59a6_11eb_b6e2_0242ac1c0002row23_col15,#T_b2b33cd4_59a6_11eb_b6e2_0242ac1c0002row24_col15,#T_b2b33cd4_59a6_11eb_b6e2_0242ac1c0002row25_col15,#T_b2b33cd4_59a6_11eb_b6e2_0242ac1c0002row26_col15,#T_b2b33cd4_59a6_11eb_b6e2_0242ac1c0002row27_col15,#T_b2b33cd4_59a6_11eb_b6e2_0242ac1c0002row28_col15{\n",
              "            background-color:  #453581;\n",
              "            color:  #f1f1f1;\n",
              "        }#T_b2b33cd4_59a6_11eb_b6e2_0242ac1c0002row1_col17,#T_b2b33cd4_59a6_11eb_b6e2_0242ac1c0002row2_col17,#T_b2b33cd4_59a6_11eb_b6e2_0242ac1c0002row3_col17,#T_b2b33cd4_59a6_11eb_b6e2_0242ac1c0002row4_col17,#T_b2b33cd4_59a6_11eb_b6e2_0242ac1c0002row5_col17,#T_b2b33cd4_59a6_11eb_b6e2_0242ac1c0002row6_col17,#T_b2b33cd4_59a6_11eb_b6e2_0242ac1c0002row7_col17,#T_b2b33cd4_59a6_11eb_b6e2_0242ac1c0002row8_col17,#T_b2b33cd4_59a6_11eb_b6e2_0242ac1c0002row9_col17,#T_b2b33cd4_59a6_11eb_b6e2_0242ac1c0002row10_col17,#T_b2b33cd4_59a6_11eb_b6e2_0242ac1c0002row11_col17,#T_b2b33cd4_59a6_11eb_b6e2_0242ac1c0002row12_col17,#T_b2b33cd4_59a6_11eb_b6e2_0242ac1c0002row13_col17,#T_b2b33cd4_59a6_11eb_b6e2_0242ac1c0002row14_col17,#T_b2b33cd4_59a6_11eb_b6e2_0242ac1c0002row15_col17,#T_b2b33cd4_59a6_11eb_b6e2_0242ac1c0002row16_col17,#T_b2b33cd4_59a6_11eb_b6e2_0242ac1c0002row18_col17,#T_b2b33cd4_59a6_11eb_b6e2_0242ac1c0002row19_col17,#T_b2b33cd4_59a6_11eb_b6e2_0242ac1c0002row20_col17,#T_b2b33cd4_59a6_11eb_b6e2_0242ac1c0002row21_col17,#T_b2b33cd4_59a6_11eb_b6e2_0242ac1c0002row22_col17,#T_b2b33cd4_59a6_11eb_b6e2_0242ac1c0002row23_col17,#T_b2b33cd4_59a6_11eb_b6e2_0242ac1c0002row24_col17,#T_b2b33cd4_59a6_11eb_b6e2_0242ac1c0002row25_col17,#T_b2b33cd4_59a6_11eb_b6e2_0242ac1c0002row26_col17,#T_b2b33cd4_59a6_11eb_b6e2_0242ac1c0002row27_col17,#T_b2b33cd4_59a6_11eb_b6e2_0242ac1c0002row28_col17{\n",
              "            background-color:  #481a6c;\n",
              "            color:  #f1f1f1;\n",
              "        }#T_b2b33cd4_59a6_11eb_b6e2_0242ac1c0002row1_col20,#T_b2b33cd4_59a6_11eb_b6e2_0242ac1c0002row2_col20,#T_b2b33cd4_59a6_11eb_b6e2_0242ac1c0002row3_col20,#T_b2b33cd4_59a6_11eb_b6e2_0242ac1c0002row4_col20,#T_b2b33cd4_59a6_11eb_b6e2_0242ac1c0002row5_col20,#T_b2b33cd4_59a6_11eb_b6e2_0242ac1c0002row6_col20,#T_b2b33cd4_59a6_11eb_b6e2_0242ac1c0002row7_col20,#T_b2b33cd4_59a6_11eb_b6e2_0242ac1c0002row8_col20,#T_b2b33cd4_59a6_11eb_b6e2_0242ac1c0002row9_col20,#T_b2b33cd4_59a6_11eb_b6e2_0242ac1c0002row10_col20,#T_b2b33cd4_59a6_11eb_b6e2_0242ac1c0002row11_col20,#T_b2b33cd4_59a6_11eb_b6e2_0242ac1c0002row12_col20,#T_b2b33cd4_59a6_11eb_b6e2_0242ac1c0002row13_col20,#T_b2b33cd4_59a6_11eb_b6e2_0242ac1c0002row14_col20,#T_b2b33cd4_59a6_11eb_b6e2_0242ac1c0002row15_col20,#T_b2b33cd4_59a6_11eb_b6e2_0242ac1c0002row16_col20,#T_b2b33cd4_59a6_11eb_b6e2_0242ac1c0002row17_col20,#T_b2b33cd4_59a6_11eb_b6e2_0242ac1c0002row18_col20,#T_b2b33cd4_59a6_11eb_b6e2_0242ac1c0002row19_col20,#T_b2b33cd4_59a6_11eb_b6e2_0242ac1c0002row21_col20,#T_b2b33cd4_59a6_11eb_b6e2_0242ac1c0002row22_col20,#T_b2b33cd4_59a6_11eb_b6e2_0242ac1c0002row23_col20,#T_b2b33cd4_59a6_11eb_b6e2_0242ac1c0002row24_col20,#T_b2b33cd4_59a6_11eb_b6e2_0242ac1c0002row25_col20,#T_b2b33cd4_59a6_11eb_b6e2_0242ac1c0002row26_col20,#T_b2b33cd4_59a6_11eb_b6e2_0242ac1c0002row27_col20,#T_b2b33cd4_59a6_11eb_b6e2_0242ac1c0002row28_col20{\n",
              "            background-color:  #471365;\n",
              "            color:  #f1f1f1;\n",
              "        }#T_b2b33cd4_59a6_11eb_b6e2_0242ac1c0002row1_col24,#T_b2b33cd4_59a6_11eb_b6e2_0242ac1c0002row2_col24,#T_b2b33cd4_59a6_11eb_b6e2_0242ac1c0002row3_col24,#T_b2b33cd4_59a6_11eb_b6e2_0242ac1c0002row4_col24,#T_b2b33cd4_59a6_11eb_b6e2_0242ac1c0002row5_col24,#T_b2b33cd4_59a6_11eb_b6e2_0242ac1c0002row6_col24,#T_b2b33cd4_59a6_11eb_b6e2_0242ac1c0002row7_col24,#T_b2b33cd4_59a6_11eb_b6e2_0242ac1c0002row8_col24,#T_b2b33cd4_59a6_11eb_b6e2_0242ac1c0002row9_col24,#T_b2b33cd4_59a6_11eb_b6e2_0242ac1c0002row10_col24,#T_b2b33cd4_59a6_11eb_b6e2_0242ac1c0002row11_col24,#T_b2b33cd4_59a6_11eb_b6e2_0242ac1c0002row12_col24,#T_b2b33cd4_59a6_11eb_b6e2_0242ac1c0002row13_col24,#T_b2b33cd4_59a6_11eb_b6e2_0242ac1c0002row14_col24,#T_b2b33cd4_59a6_11eb_b6e2_0242ac1c0002row15_col24,#T_b2b33cd4_59a6_11eb_b6e2_0242ac1c0002row16_col24,#T_b2b33cd4_59a6_11eb_b6e2_0242ac1c0002row17_col24,#T_b2b33cd4_59a6_11eb_b6e2_0242ac1c0002row18_col24,#T_b2b33cd4_59a6_11eb_b6e2_0242ac1c0002row19_col24,#T_b2b33cd4_59a6_11eb_b6e2_0242ac1c0002row20_col24,#T_b2b33cd4_59a6_11eb_b6e2_0242ac1c0002row21_col24,#T_b2b33cd4_59a6_11eb_b6e2_0242ac1c0002row22_col24,#T_b2b33cd4_59a6_11eb_b6e2_0242ac1c0002row23_col24,#T_b2b33cd4_59a6_11eb_b6e2_0242ac1c0002row25_col24,#T_b2b33cd4_59a6_11eb_b6e2_0242ac1c0002row26_col24,#T_b2b33cd4_59a6_11eb_b6e2_0242ac1c0002row27_col24,#T_b2b33cd4_59a6_11eb_b6e2_0242ac1c0002row28_col24{\n",
              "            background-color:  #46075a;\n",
              "            color:  #f1f1f1;\n",
              "        }#T_b2b33cd4_59a6_11eb_b6e2_0242ac1c0002row1_col25,#T_b2b33cd4_59a6_11eb_b6e2_0242ac1c0002row2_col25,#T_b2b33cd4_59a6_11eb_b6e2_0242ac1c0002row3_col25,#T_b2b33cd4_59a6_11eb_b6e2_0242ac1c0002row4_col25,#T_b2b33cd4_59a6_11eb_b6e2_0242ac1c0002row5_col25,#T_b2b33cd4_59a6_11eb_b6e2_0242ac1c0002row6_col25,#T_b2b33cd4_59a6_11eb_b6e2_0242ac1c0002row7_col25,#T_b2b33cd4_59a6_11eb_b6e2_0242ac1c0002row8_col25,#T_b2b33cd4_59a6_11eb_b6e2_0242ac1c0002row9_col25,#T_b2b33cd4_59a6_11eb_b6e2_0242ac1c0002row10_col25,#T_b2b33cd4_59a6_11eb_b6e2_0242ac1c0002row11_col25,#T_b2b33cd4_59a6_11eb_b6e2_0242ac1c0002row12_col25,#T_b2b33cd4_59a6_11eb_b6e2_0242ac1c0002row13_col25,#T_b2b33cd4_59a6_11eb_b6e2_0242ac1c0002row14_col25,#T_b2b33cd4_59a6_11eb_b6e2_0242ac1c0002row15_col25,#T_b2b33cd4_59a6_11eb_b6e2_0242ac1c0002row16_col25,#T_b2b33cd4_59a6_11eb_b6e2_0242ac1c0002row17_col25,#T_b2b33cd4_59a6_11eb_b6e2_0242ac1c0002row18_col25,#T_b2b33cd4_59a6_11eb_b6e2_0242ac1c0002row19_col25,#T_b2b33cd4_59a6_11eb_b6e2_0242ac1c0002row20_col25,#T_b2b33cd4_59a6_11eb_b6e2_0242ac1c0002row21_col25,#T_b2b33cd4_59a6_11eb_b6e2_0242ac1c0002row22_col25,#T_b2b33cd4_59a6_11eb_b6e2_0242ac1c0002row23_col25,#T_b2b33cd4_59a6_11eb_b6e2_0242ac1c0002row24_col25,#T_b2b33cd4_59a6_11eb_b6e2_0242ac1c0002row26_col25,#T_b2b33cd4_59a6_11eb_b6e2_0242ac1c0002row27_col25,#T_b2b33cd4_59a6_11eb_b6e2_0242ac1c0002row28_col25{\n",
              "            background-color:  #424086;\n",
              "            color:  #f1f1f1;\n",
              "        }#T_b2b33cd4_59a6_11eb_b6e2_0242ac1c0002row1_col26,#T_b2b33cd4_59a6_11eb_b6e2_0242ac1c0002row2_col26,#T_b2b33cd4_59a6_11eb_b6e2_0242ac1c0002row3_col26,#T_b2b33cd4_59a6_11eb_b6e2_0242ac1c0002row4_col26,#T_b2b33cd4_59a6_11eb_b6e2_0242ac1c0002row5_col26,#T_b2b33cd4_59a6_11eb_b6e2_0242ac1c0002row6_col26,#T_b2b33cd4_59a6_11eb_b6e2_0242ac1c0002row7_col26,#T_b2b33cd4_59a6_11eb_b6e2_0242ac1c0002row8_col26,#T_b2b33cd4_59a6_11eb_b6e2_0242ac1c0002row9_col26,#T_b2b33cd4_59a6_11eb_b6e2_0242ac1c0002row10_col26,#T_b2b33cd4_59a6_11eb_b6e2_0242ac1c0002row11_col26,#T_b2b33cd4_59a6_11eb_b6e2_0242ac1c0002row12_col26,#T_b2b33cd4_59a6_11eb_b6e2_0242ac1c0002row13_col26,#T_b2b33cd4_59a6_11eb_b6e2_0242ac1c0002row14_col26,#T_b2b33cd4_59a6_11eb_b6e2_0242ac1c0002row15_col26,#T_b2b33cd4_59a6_11eb_b6e2_0242ac1c0002row16_col26,#T_b2b33cd4_59a6_11eb_b6e2_0242ac1c0002row17_col26,#T_b2b33cd4_59a6_11eb_b6e2_0242ac1c0002row18_col26,#T_b2b33cd4_59a6_11eb_b6e2_0242ac1c0002row19_col26,#T_b2b33cd4_59a6_11eb_b6e2_0242ac1c0002row20_col26,#T_b2b33cd4_59a6_11eb_b6e2_0242ac1c0002row21_col26,#T_b2b33cd4_59a6_11eb_b6e2_0242ac1c0002row22_col26,#T_b2b33cd4_59a6_11eb_b6e2_0242ac1c0002row23_col26,#T_b2b33cd4_59a6_11eb_b6e2_0242ac1c0002row24_col26,#T_b2b33cd4_59a6_11eb_b6e2_0242ac1c0002row25_col26,#T_b2b33cd4_59a6_11eb_b6e2_0242ac1c0002row27_col26,#T_b2b33cd4_59a6_11eb_b6e2_0242ac1c0002row28_col26{\n",
              "            background-color:  #471063;\n",
              "            color:  #f1f1f1;\n",
              "        }#T_b2b33cd4_59a6_11eb_b6e2_0242ac1c0002row1_col27,#T_b2b33cd4_59a6_11eb_b6e2_0242ac1c0002row2_col27,#T_b2b33cd4_59a6_11eb_b6e2_0242ac1c0002row3_col27,#T_b2b33cd4_59a6_11eb_b6e2_0242ac1c0002row4_col27,#T_b2b33cd4_59a6_11eb_b6e2_0242ac1c0002row5_col27,#T_b2b33cd4_59a6_11eb_b6e2_0242ac1c0002row6_col27,#T_b2b33cd4_59a6_11eb_b6e2_0242ac1c0002row7_col27,#T_b2b33cd4_59a6_11eb_b6e2_0242ac1c0002row8_col27,#T_b2b33cd4_59a6_11eb_b6e2_0242ac1c0002row9_col27,#T_b2b33cd4_59a6_11eb_b6e2_0242ac1c0002row10_col27,#T_b2b33cd4_59a6_11eb_b6e2_0242ac1c0002row11_col27,#T_b2b33cd4_59a6_11eb_b6e2_0242ac1c0002row12_col27,#T_b2b33cd4_59a6_11eb_b6e2_0242ac1c0002row13_col27,#T_b2b33cd4_59a6_11eb_b6e2_0242ac1c0002row14_col27,#T_b2b33cd4_59a6_11eb_b6e2_0242ac1c0002row15_col27,#T_b2b33cd4_59a6_11eb_b6e2_0242ac1c0002row16_col27,#T_b2b33cd4_59a6_11eb_b6e2_0242ac1c0002row17_col27,#T_b2b33cd4_59a6_11eb_b6e2_0242ac1c0002row18_col27,#T_b2b33cd4_59a6_11eb_b6e2_0242ac1c0002row19_col27,#T_b2b33cd4_59a6_11eb_b6e2_0242ac1c0002row20_col27,#T_b2b33cd4_59a6_11eb_b6e2_0242ac1c0002row21_col27,#T_b2b33cd4_59a6_11eb_b6e2_0242ac1c0002row22_col27,#T_b2b33cd4_59a6_11eb_b6e2_0242ac1c0002row23_col27,#T_b2b33cd4_59a6_11eb_b6e2_0242ac1c0002row24_col27,#T_b2b33cd4_59a6_11eb_b6e2_0242ac1c0002row25_col27,#T_b2b33cd4_59a6_11eb_b6e2_0242ac1c0002row26_col27,#T_b2b33cd4_59a6_11eb_b6e2_0242ac1c0002row28_col27{\n",
              "            background-color:  #440256;\n",
              "            color:  #f1f1f1;\n",
              "        }#T_b2b33cd4_59a6_11eb_b6e2_0242ac1c0002row2_col0,#T_b2b33cd4_59a6_11eb_b6e2_0242ac1c0002row28_col0{\n",
              "            background-color:  #365c8d;\n",
              "            color:  #f1f1f1;\n",
              "        }#T_b2b33cd4_59a6_11eb_b6e2_0242ac1c0002row4_col0{\n",
              "            background-color:  #3e4989;\n",
              "            color:  #f1f1f1;\n",
              "        }#T_b2b33cd4_59a6_11eb_b6e2_0242ac1c0002row5_col0{\n",
              "            background-color:  #287c8e;\n",
              "            color:  #000000;\n",
              "        }#T_b2b33cd4_59a6_11eb_b6e2_0242ac1c0002row6_col0{\n",
              "            background-color:  #3b528b;\n",
              "            color:  #f1f1f1;\n",
              "        }#T_b2b33cd4_59a6_11eb_b6e2_0242ac1c0002row7_col0{\n",
              "            background-color:  #2e6d8e;\n",
              "            color:  #f1f1f1;\n",
              "        }#T_b2b33cd4_59a6_11eb_b6e2_0242ac1c0002row8_col0{\n",
              "            background-color:  #38588c;\n",
              "            color:  #f1f1f1;\n",
              "        }#T_b2b33cd4_59a6_11eb_b6e2_0242ac1c0002row9_col0,#T_b2b33cd4_59a6_11eb_b6e2_0242ac1c0002row27_col0{\n",
              "            background-color:  #365d8d;\n",
              "            color:  #f1f1f1;\n",
              "        }#T_b2b33cd4_59a6_11eb_b6e2_0242ac1c0002row10_col0{\n",
              "            background-color:  #32648e;\n",
              "            color:  #f1f1f1;\n",
              "        }#T_b2b33cd4_59a6_11eb_b6e2_0242ac1c0002row12_col0{\n",
              "            background-color:  #2b748e;\n",
              "            color:  #f1f1f1;\n",
              "        }#T_b2b33cd4_59a6_11eb_b6e2_0242ac1c0002row13_col0{\n",
              "            background-color:  #3b518b;\n",
              "            color:  #f1f1f1;\n",
              "        }#T_b2b33cd4_59a6_11eb_b6e2_0242ac1c0002row14_col0{\n",
              "            background-color:  #3e4a89;\n",
              "            color:  #f1f1f1;\n",
              "        }#T_b2b33cd4_59a6_11eb_b6e2_0242ac1c0002row15_col0{\n",
              "            background-color:  #443983;\n",
              "            color:  #f1f1f1;\n",
              "        }#T_b2b33cd4_59a6_11eb_b6e2_0242ac1c0002row16_col0{\n",
              "            background-color:  #34608d;\n",
              "            color:  #f1f1f1;\n",
              "        }#T_b2b33cd4_59a6_11eb_b6e2_0242ac1c0002row17_col0{\n",
              "            background-color:  #3c508b;\n",
              "            color:  #f1f1f1;\n",
              "        }#T_b2b33cd4_59a6_11eb_b6e2_0242ac1c0002row18_col0{\n",
              "            background-color:  #2e6e8e;\n",
              "            color:  #f1f1f1;\n",
              "        }#T_b2b33cd4_59a6_11eb_b6e2_0242ac1c0002row19_col0{\n",
              "            background-color:  #33638d;\n",
              "            color:  #f1f1f1;\n",
              "        }#T_b2b33cd4_59a6_11eb_b6e2_0242ac1c0002row20_col0{\n",
              "            background-color:  #3a548c;\n",
              "            color:  #f1f1f1;\n",
              "        }#T_b2b33cd4_59a6_11eb_b6e2_0242ac1c0002row21_col0{\n",
              "            background-color:  #31668e;\n",
              "            color:  #f1f1f1;\n",
              "        }#T_b2b33cd4_59a6_11eb_b6e2_0242ac1c0002row22_col0{\n",
              "            background-color:  #2a778e;\n",
              "            color:  #000000;\n",
              "        }#T_b2b33cd4_59a6_11eb_b6e2_0242ac1c0002row23_col0{\n",
              "            background-color:  #31678e;\n",
              "            color:  #f1f1f1;\n",
              "        }#T_b2b33cd4_59a6_11eb_b6e2_0242ac1c0002row24_col0{\n",
              "            background-color:  #375b8d;\n",
              "            color:  #f1f1f1;\n",
              "        }#T_b2b33cd4_59a6_11eb_b6e2_0242ac1c0002row25_col0{\n",
              "            background-color:  #472e7c;\n",
              "            color:  #f1f1f1;\n",
              "        }#T_b2b33cd4_59a6_11eb_b6e2_0242ac1c0002row26_col0{\n",
              "            background-color:  #39568c;\n",
              "            color:  #f1f1f1;\n",
              "        }</style><table id=\"T_b2b33cd4_59a6_11eb_b6e2_0242ac1c0002\" ><thead>    <tr>        <th class=\"blank level0\" ></th>        <th class=\"col_heading level0 col0\" >Time</th>        <th class=\"col_heading level0 col1\" >S1</th>        <th class=\"col_heading level0 col2\" >S2</th>        <th class=\"col_heading level0 col3\" >S3</th>        <th class=\"col_heading level0 col4\" >S4</th>        <th class=\"col_heading level0 col5\" >S5</th>        <th class=\"col_heading level0 col6\" >S6</th>        <th class=\"col_heading level0 col7\" >S7</th>        <th class=\"col_heading level0 col8\" >S8</th>        <th class=\"col_heading level0 col9\" >S9</th>        <th class=\"col_heading level0 col10\" >S10</th>        <th class=\"col_heading level0 col11\" >S11</th>        <th class=\"col_heading level0 col12\" >S12</th>        <th class=\"col_heading level0 col13\" >S13</th>        <th class=\"col_heading level0 col14\" >S14</th>        <th class=\"col_heading level0 col15\" >S15</th>        <th class=\"col_heading level0 col16\" >S16</th>        <th class=\"col_heading level0 col17\" >S17</th>        <th class=\"col_heading level0 col18\" >S18</th>        <th class=\"col_heading level0 col19\" >S19</th>        <th class=\"col_heading level0 col20\" >S20</th>        <th class=\"col_heading level0 col21\" >S21</th>        <th class=\"col_heading level0 col22\" >S22</th>        <th class=\"col_heading level0 col23\" >S23</th>        <th class=\"col_heading level0 col24\" >S24</th>        <th class=\"col_heading level0 col25\" >S25</th>        <th class=\"col_heading level0 col26\" >S26</th>        <th class=\"col_heading level0 col27\" >S27</th>        <th class=\"col_heading level0 col28\" >S28</th>    </tr></thead><tbody>\n",
              "                <tr>\n",
              "                        <th id=\"T_b2b33cd4_59a6_11eb_b6e2_0242ac1c0002level0_row0\" class=\"row_heading level0 row0\" >Time</th>\n",
              "                        <td id=\"T_b2b33cd4_59a6_11eb_b6e2_0242ac1c0002row0_col0\" class=\"data row0 col0\" >1.00</td>\n",
              "                        <td id=\"T_b2b33cd4_59a6_11eb_b6e2_0242ac1c0002row0_col1\" class=\"data row0 col1\" >0.12</td>\n",
              "                        <td id=\"T_b2b33cd4_59a6_11eb_b6e2_0242ac1c0002row0_col2\" class=\"data row0 col2\" >-0.01</td>\n",
              "                        <td id=\"T_b2b33cd4_59a6_11eb_b6e2_0242ac1c0002row0_col3\" class=\"data row0 col3\" >-0.42</td>\n",
              "                        <td id=\"T_b2b33cd4_59a6_11eb_b6e2_0242ac1c0002row0_col4\" class=\"data row0 col4\" >-0.11</td>\n",
              "                        <td id=\"T_b2b33cd4_59a6_11eb_b6e2_0242ac1c0002row0_col5\" class=\"data row0 col5\" >0.17</td>\n",
              "                        <td id=\"T_b2b33cd4_59a6_11eb_b6e2_0242ac1c0002row0_col6\" class=\"data row0 col6\" >-0.06</td>\n",
              "                        <td id=\"T_b2b33cd4_59a6_11eb_b6e2_0242ac1c0002row0_col7\" class=\"data row0 col7\" >0.08</td>\n",
              "                        <td id=\"T_b2b33cd4_59a6_11eb_b6e2_0242ac1c0002row0_col8\" class=\"data row0 col8\" >-0.04</td>\n",
              "                        <td id=\"T_b2b33cd4_59a6_11eb_b6e2_0242ac1c0002row0_col9\" class=\"data row0 col9\" >-0.01</td>\n",
              "                        <td id=\"T_b2b33cd4_59a6_11eb_b6e2_0242ac1c0002row0_col10\" class=\"data row0 col10\" >0.03</td>\n",
              "                        <td id=\"T_b2b33cd4_59a6_11eb_b6e2_0242ac1c0002row0_col11\" class=\"data row0 col11\" >-0.25</td>\n",
              "                        <td id=\"T_b2b33cd4_59a6_11eb_b6e2_0242ac1c0002row0_col12\" class=\"data row0 col12\" >0.12</td>\n",
              "                        <td id=\"T_b2b33cd4_59a6_11eb_b6e2_0242ac1c0002row0_col13\" class=\"data row0 col13\" >-0.07</td>\n",
              "                        <td id=\"T_b2b33cd4_59a6_11eb_b6e2_0242ac1c0002row0_col14\" class=\"data row0 col14\" >-0.10</td>\n",
              "                        <td id=\"T_b2b33cd4_59a6_11eb_b6e2_0242ac1c0002row0_col15\" class=\"data row0 col15\" >-0.18</td>\n",
              "                        <td id=\"T_b2b33cd4_59a6_11eb_b6e2_0242ac1c0002row0_col16\" class=\"data row0 col16\" >0.01</td>\n",
              "                        <td id=\"T_b2b33cd4_59a6_11eb_b6e2_0242ac1c0002row0_col17\" class=\"data row0 col17\" >-0.07</td>\n",
              "                        <td id=\"T_b2b33cd4_59a6_11eb_b6e2_0242ac1c0002row0_col18\" class=\"data row0 col18\" >0.09</td>\n",
              "                        <td id=\"T_b2b33cd4_59a6_11eb_b6e2_0242ac1c0002row0_col19\" class=\"data row0 col19\" >0.03</td>\n",
              "                        <td id=\"T_b2b33cd4_59a6_11eb_b6e2_0242ac1c0002row0_col20\" class=\"data row0 col20\" >-0.05</td>\n",
              "                        <td id=\"T_b2b33cd4_59a6_11eb_b6e2_0242ac1c0002row0_col21\" class=\"data row0 col21\" >0.04</td>\n",
              "                        <td id=\"T_b2b33cd4_59a6_11eb_b6e2_0242ac1c0002row0_col22\" class=\"data row0 col22\" >0.14</td>\n",
              "                        <td id=\"T_b2b33cd4_59a6_11eb_b6e2_0242ac1c0002row0_col23\" class=\"data row0 col23\" >0.05</td>\n",
              "                        <td id=\"T_b2b33cd4_59a6_11eb_b6e2_0242ac1c0002row0_col24\" class=\"data row0 col24\" >-0.02</td>\n",
              "                        <td id=\"T_b2b33cd4_59a6_11eb_b6e2_0242ac1c0002row0_col25\" class=\"data row0 col25\" >-0.23</td>\n",
              "                        <td id=\"T_b2b33cd4_59a6_11eb_b6e2_0242ac1c0002row0_col26\" class=\"data row0 col26\" >-0.04</td>\n",
              "                        <td id=\"T_b2b33cd4_59a6_11eb_b6e2_0242ac1c0002row0_col27\" class=\"data row0 col27\" >-0.01</td>\n",
              "                        <td id=\"T_b2b33cd4_59a6_11eb_b6e2_0242ac1c0002row0_col28\" class=\"data row0 col28\" >-0.01</td>\n",
              "            </tr>\n",
              "            <tr>\n",
              "                        <th id=\"T_b2b33cd4_59a6_11eb_b6e2_0242ac1c0002level0_row1\" class=\"row_heading level0 row1\" >S1</th>\n",
              "                        <td id=\"T_b2b33cd4_59a6_11eb_b6e2_0242ac1c0002row1_col0\" class=\"data row1 col0\" >0.12</td>\n",
              "                        <td id=\"T_b2b33cd4_59a6_11eb_b6e2_0242ac1c0002row1_col1\" class=\"data row1 col1\" >1.00</td>\n",
              "                        <td id=\"T_b2b33cd4_59a6_11eb_b6e2_0242ac1c0002row1_col2\" class=\"data row1 col2\" >0.00</td>\n",
              "                        <td id=\"T_b2b33cd4_59a6_11eb_b6e2_0242ac1c0002row1_col3\" class=\"data row1 col3\" >-0.00</td>\n",
              "                        <td id=\"T_b2b33cd4_59a6_11eb_b6e2_0242ac1c0002row1_col4\" class=\"data row1 col4\" >-0.00</td>\n",
              "                        <td id=\"T_b2b33cd4_59a6_11eb_b6e2_0242ac1c0002row1_col5\" class=\"data row1 col5\" >-0.00</td>\n",
              "                        <td id=\"T_b2b33cd4_59a6_11eb_b6e2_0242ac1c0002row1_col6\" class=\"data row1 col6\" >-0.00</td>\n",
              "                        <td id=\"T_b2b33cd4_59a6_11eb_b6e2_0242ac1c0002row1_col7\" class=\"data row1 col7\" >-0.00</td>\n",
              "                        <td id=\"T_b2b33cd4_59a6_11eb_b6e2_0242ac1c0002row1_col8\" class=\"data row1 col8\" >0.00</td>\n",
              "                        <td id=\"T_b2b33cd4_59a6_11eb_b6e2_0242ac1c0002row1_col9\" class=\"data row1 col9\" >0.00</td>\n",
              "                        <td id=\"T_b2b33cd4_59a6_11eb_b6e2_0242ac1c0002row1_col10\" class=\"data row1 col10\" >-0.00</td>\n",
              "                        <td id=\"T_b2b33cd4_59a6_11eb_b6e2_0242ac1c0002row1_col11\" class=\"data row1 col11\" >0.00</td>\n",
              "                        <td id=\"T_b2b33cd4_59a6_11eb_b6e2_0242ac1c0002row1_col12\" class=\"data row1 col12\" >-0.00</td>\n",
              "                        <td id=\"T_b2b33cd4_59a6_11eb_b6e2_0242ac1c0002row1_col13\" class=\"data row1 col13\" >0.00</td>\n",
              "                        <td id=\"T_b2b33cd4_59a6_11eb_b6e2_0242ac1c0002row1_col14\" class=\"data row1 col14\" >-0.00</td>\n",
              "                        <td id=\"T_b2b33cd4_59a6_11eb_b6e2_0242ac1c0002row1_col15\" class=\"data row1 col15\" >-0.00</td>\n",
              "                        <td id=\"T_b2b33cd4_59a6_11eb_b6e2_0242ac1c0002row1_col16\" class=\"data row1 col16\" >-0.00</td>\n",
              "                        <td id=\"T_b2b33cd4_59a6_11eb_b6e2_0242ac1c0002row1_col17\" class=\"data row1 col17\" >0.00</td>\n",
              "                        <td id=\"T_b2b33cd4_59a6_11eb_b6e2_0242ac1c0002row1_col18\" class=\"data row1 col18\" >-0.00</td>\n",
              "                        <td id=\"T_b2b33cd4_59a6_11eb_b6e2_0242ac1c0002row1_col19\" class=\"data row1 col19\" >-0.00</td>\n",
              "                        <td id=\"T_b2b33cd4_59a6_11eb_b6e2_0242ac1c0002row1_col20\" class=\"data row1 col20\" >0.00</td>\n",
              "                        <td id=\"T_b2b33cd4_59a6_11eb_b6e2_0242ac1c0002row1_col21\" class=\"data row1 col21\" >-0.00</td>\n",
              "                        <td id=\"T_b2b33cd4_59a6_11eb_b6e2_0242ac1c0002row1_col22\" class=\"data row1 col22\" >0.00</td>\n",
              "                        <td id=\"T_b2b33cd4_59a6_11eb_b6e2_0242ac1c0002row1_col23\" class=\"data row1 col23\" >-0.00</td>\n",
              "                        <td id=\"T_b2b33cd4_59a6_11eb_b6e2_0242ac1c0002row1_col24\" class=\"data row1 col24\" >-0.00</td>\n",
              "                        <td id=\"T_b2b33cd4_59a6_11eb_b6e2_0242ac1c0002row1_col25\" class=\"data row1 col25\" >0.00</td>\n",
              "                        <td id=\"T_b2b33cd4_59a6_11eb_b6e2_0242ac1c0002row1_col26\" class=\"data row1 col26\" >0.00</td>\n",
              "                        <td id=\"T_b2b33cd4_59a6_11eb_b6e2_0242ac1c0002row1_col27\" class=\"data row1 col27\" >0.00</td>\n",
              "                        <td id=\"T_b2b33cd4_59a6_11eb_b6e2_0242ac1c0002row1_col28\" class=\"data row1 col28\" >-0.00</td>\n",
              "            </tr>\n",
              "            <tr>\n",
              "                        <th id=\"T_b2b33cd4_59a6_11eb_b6e2_0242ac1c0002level0_row2\" class=\"row_heading level0 row2\" >S2</th>\n",
              "                        <td id=\"T_b2b33cd4_59a6_11eb_b6e2_0242ac1c0002row2_col0\" class=\"data row2 col0\" >-0.01</td>\n",
              "                        <td id=\"T_b2b33cd4_59a6_11eb_b6e2_0242ac1c0002row2_col1\" class=\"data row2 col1\" >0.00</td>\n",
              "                        <td id=\"T_b2b33cd4_59a6_11eb_b6e2_0242ac1c0002row2_col2\" class=\"data row2 col2\" >1.00</td>\n",
              "                        <td id=\"T_b2b33cd4_59a6_11eb_b6e2_0242ac1c0002row2_col3\" class=\"data row2 col3\" >0.00</td>\n",
              "                        <td id=\"T_b2b33cd4_59a6_11eb_b6e2_0242ac1c0002row2_col4\" class=\"data row2 col4\" >-0.00</td>\n",
              "                        <td id=\"T_b2b33cd4_59a6_11eb_b6e2_0242ac1c0002row2_col5\" class=\"data row2 col5\" >-0.00</td>\n",
              "                        <td id=\"T_b2b33cd4_59a6_11eb_b6e2_0242ac1c0002row2_col6\" class=\"data row2 col6\" >0.00</td>\n",
              "                        <td id=\"T_b2b33cd4_59a6_11eb_b6e2_0242ac1c0002row2_col7\" class=\"data row2 col7\" >0.00</td>\n",
              "                        <td id=\"T_b2b33cd4_59a6_11eb_b6e2_0242ac1c0002row2_col8\" class=\"data row2 col8\" >0.00</td>\n",
              "                        <td id=\"T_b2b33cd4_59a6_11eb_b6e2_0242ac1c0002row2_col9\" class=\"data row2 col9\" >0.00</td>\n",
              "                        <td id=\"T_b2b33cd4_59a6_11eb_b6e2_0242ac1c0002row2_col10\" class=\"data row2 col10\" >0.00</td>\n",
              "                        <td id=\"T_b2b33cd4_59a6_11eb_b6e2_0242ac1c0002row2_col11\" class=\"data row2 col11\" >-0.00</td>\n",
              "                        <td id=\"T_b2b33cd4_59a6_11eb_b6e2_0242ac1c0002row2_col12\" class=\"data row2 col12\" >0.00</td>\n",
              "                        <td id=\"T_b2b33cd4_59a6_11eb_b6e2_0242ac1c0002row2_col13\" class=\"data row2 col13\" >-0.00</td>\n",
              "                        <td id=\"T_b2b33cd4_59a6_11eb_b6e2_0242ac1c0002row2_col14\" class=\"data row2 col14\" >-0.00</td>\n",
              "                        <td id=\"T_b2b33cd4_59a6_11eb_b6e2_0242ac1c0002row2_col15\" class=\"data row2 col15\" >0.00</td>\n",
              "                        <td id=\"T_b2b33cd4_59a6_11eb_b6e2_0242ac1c0002row2_col16\" class=\"data row2 col16\" >-0.00</td>\n",
              "                        <td id=\"T_b2b33cd4_59a6_11eb_b6e2_0242ac1c0002row2_col17\" class=\"data row2 col17\" >0.00</td>\n",
              "                        <td id=\"T_b2b33cd4_59a6_11eb_b6e2_0242ac1c0002row2_col18\" class=\"data row2 col18\" >-0.00</td>\n",
              "                        <td id=\"T_b2b33cd4_59a6_11eb_b6e2_0242ac1c0002row2_col19\" class=\"data row2 col19\" >-0.00</td>\n",
              "                        <td id=\"T_b2b33cd4_59a6_11eb_b6e2_0242ac1c0002row2_col20\" class=\"data row2 col20\" >0.00</td>\n",
              "                        <td id=\"T_b2b33cd4_59a6_11eb_b6e2_0242ac1c0002row2_col21\" class=\"data row2 col21\" >0.00</td>\n",
              "                        <td id=\"T_b2b33cd4_59a6_11eb_b6e2_0242ac1c0002row2_col22\" class=\"data row2 col22\" >-0.00</td>\n",
              "                        <td id=\"T_b2b33cd4_59a6_11eb_b6e2_0242ac1c0002row2_col23\" class=\"data row2 col23\" >-0.00</td>\n",
              "                        <td id=\"T_b2b33cd4_59a6_11eb_b6e2_0242ac1c0002row2_col24\" class=\"data row2 col24\" >0.00</td>\n",
              "                        <td id=\"T_b2b33cd4_59a6_11eb_b6e2_0242ac1c0002row2_col25\" class=\"data row2 col25\" >-0.00</td>\n",
              "                        <td id=\"T_b2b33cd4_59a6_11eb_b6e2_0242ac1c0002row2_col26\" class=\"data row2 col26\" >-0.00</td>\n",
              "                        <td id=\"T_b2b33cd4_59a6_11eb_b6e2_0242ac1c0002row2_col27\" class=\"data row2 col27\" >-0.00</td>\n",
              "                        <td id=\"T_b2b33cd4_59a6_11eb_b6e2_0242ac1c0002row2_col28\" class=\"data row2 col28\" >0.00</td>\n",
              "            </tr>\n",
              "            <tr>\n",
              "                        <th id=\"T_b2b33cd4_59a6_11eb_b6e2_0242ac1c0002level0_row3\" class=\"row_heading level0 row3\" >S3</th>\n",
              "                        <td id=\"T_b2b33cd4_59a6_11eb_b6e2_0242ac1c0002row3_col0\" class=\"data row3 col0\" >-0.42</td>\n",
              "                        <td id=\"T_b2b33cd4_59a6_11eb_b6e2_0242ac1c0002row3_col1\" class=\"data row3 col1\" >-0.00</td>\n",
              "                        <td id=\"T_b2b33cd4_59a6_11eb_b6e2_0242ac1c0002row3_col2\" class=\"data row3 col2\" >0.00</td>\n",
              "                        <td id=\"T_b2b33cd4_59a6_11eb_b6e2_0242ac1c0002row3_col3\" class=\"data row3 col3\" >1.00</td>\n",
              "                        <td id=\"T_b2b33cd4_59a6_11eb_b6e2_0242ac1c0002row3_col4\" class=\"data row3 col4\" >0.00</td>\n",
              "                        <td id=\"T_b2b33cd4_59a6_11eb_b6e2_0242ac1c0002row3_col5\" class=\"data row3 col5\" >-0.00</td>\n",
              "                        <td id=\"T_b2b33cd4_59a6_11eb_b6e2_0242ac1c0002row3_col6\" class=\"data row3 col6\" >-0.00</td>\n",
              "                        <td id=\"T_b2b33cd4_59a6_11eb_b6e2_0242ac1c0002row3_col7\" class=\"data row3 col7\" >0.00</td>\n",
              "                        <td id=\"T_b2b33cd4_59a6_11eb_b6e2_0242ac1c0002row3_col8\" class=\"data row3 col8\" >-0.00</td>\n",
              "                        <td id=\"T_b2b33cd4_59a6_11eb_b6e2_0242ac1c0002row3_col9\" class=\"data row3 col9\" >-0.00</td>\n",
              "                        <td id=\"T_b2b33cd4_59a6_11eb_b6e2_0242ac1c0002row3_col10\" class=\"data row3 col10\" >-0.00</td>\n",
              "                        <td id=\"T_b2b33cd4_59a6_11eb_b6e2_0242ac1c0002row3_col11\" class=\"data row3 col11\" >0.00</td>\n",
              "                        <td id=\"T_b2b33cd4_59a6_11eb_b6e2_0242ac1c0002row3_col12\" class=\"data row3 col12\" >-0.00</td>\n",
              "                        <td id=\"T_b2b33cd4_59a6_11eb_b6e2_0242ac1c0002row3_col13\" class=\"data row3 col13\" >-0.00</td>\n",
              "                        <td id=\"T_b2b33cd4_59a6_11eb_b6e2_0242ac1c0002row3_col14\" class=\"data row3 col14\" >-0.00</td>\n",
              "                        <td id=\"T_b2b33cd4_59a6_11eb_b6e2_0242ac1c0002row3_col15\" class=\"data row3 col15\" >0.00</td>\n",
              "                        <td id=\"T_b2b33cd4_59a6_11eb_b6e2_0242ac1c0002row3_col16\" class=\"data row3 col16\" >-0.00</td>\n",
              "                        <td id=\"T_b2b33cd4_59a6_11eb_b6e2_0242ac1c0002row3_col17\" class=\"data row3 col17\" >-0.00</td>\n",
              "                        <td id=\"T_b2b33cd4_59a6_11eb_b6e2_0242ac1c0002row3_col18\" class=\"data row3 col18\" >-0.00</td>\n",
              "                        <td id=\"T_b2b33cd4_59a6_11eb_b6e2_0242ac1c0002row3_col19\" class=\"data row3 col19\" >-0.00</td>\n",
              "                        <td id=\"T_b2b33cd4_59a6_11eb_b6e2_0242ac1c0002row3_col20\" class=\"data row3 col20\" >0.00</td>\n",
              "                        <td id=\"T_b2b33cd4_59a6_11eb_b6e2_0242ac1c0002row3_col21\" class=\"data row3 col21\" >0.00</td>\n",
              "                        <td id=\"T_b2b33cd4_59a6_11eb_b6e2_0242ac1c0002row3_col22\" class=\"data row3 col22\" >-0.00</td>\n",
              "                        <td id=\"T_b2b33cd4_59a6_11eb_b6e2_0242ac1c0002row3_col23\" class=\"data row3 col23\" >0.00</td>\n",
              "                        <td id=\"T_b2b33cd4_59a6_11eb_b6e2_0242ac1c0002row3_col24\" class=\"data row3 col24\" >0.00</td>\n",
              "                        <td id=\"T_b2b33cd4_59a6_11eb_b6e2_0242ac1c0002row3_col25\" class=\"data row3 col25\" >0.00</td>\n",
              "                        <td id=\"T_b2b33cd4_59a6_11eb_b6e2_0242ac1c0002row3_col26\" class=\"data row3 col26\" >-0.00</td>\n",
              "                        <td id=\"T_b2b33cd4_59a6_11eb_b6e2_0242ac1c0002row3_col27\" class=\"data row3 col27\" >-0.00</td>\n",
              "                        <td id=\"T_b2b33cd4_59a6_11eb_b6e2_0242ac1c0002row3_col28\" class=\"data row3 col28\" >0.00</td>\n",
              "            </tr>\n",
              "            <tr>\n",
              "                        <th id=\"T_b2b33cd4_59a6_11eb_b6e2_0242ac1c0002level0_row4\" class=\"row_heading level0 row4\" >S4</th>\n",
              "                        <td id=\"T_b2b33cd4_59a6_11eb_b6e2_0242ac1c0002row4_col0\" class=\"data row4 col0\" >-0.11</td>\n",
              "                        <td id=\"T_b2b33cd4_59a6_11eb_b6e2_0242ac1c0002row4_col1\" class=\"data row4 col1\" >-0.00</td>\n",
              "                        <td id=\"T_b2b33cd4_59a6_11eb_b6e2_0242ac1c0002row4_col2\" class=\"data row4 col2\" >-0.00</td>\n",
              "                        <td id=\"T_b2b33cd4_59a6_11eb_b6e2_0242ac1c0002row4_col3\" class=\"data row4 col3\" >0.00</td>\n",
              "                        <td id=\"T_b2b33cd4_59a6_11eb_b6e2_0242ac1c0002row4_col4\" class=\"data row4 col4\" >1.00</td>\n",
              "                        <td id=\"T_b2b33cd4_59a6_11eb_b6e2_0242ac1c0002row4_col5\" class=\"data row4 col5\" >-0.00</td>\n",
              "                        <td id=\"T_b2b33cd4_59a6_11eb_b6e2_0242ac1c0002row4_col6\" class=\"data row4 col6\" >0.00</td>\n",
              "                        <td id=\"T_b2b33cd4_59a6_11eb_b6e2_0242ac1c0002row4_col7\" class=\"data row4 col7\" >0.00</td>\n",
              "                        <td id=\"T_b2b33cd4_59a6_11eb_b6e2_0242ac1c0002row4_col8\" class=\"data row4 col8\" >0.00</td>\n",
              "                        <td id=\"T_b2b33cd4_59a6_11eb_b6e2_0242ac1c0002row4_col9\" class=\"data row4 col9\" >-0.00</td>\n",
              "                        <td id=\"T_b2b33cd4_59a6_11eb_b6e2_0242ac1c0002row4_col10\" class=\"data row4 col10\" >-0.00</td>\n",
              "                        <td id=\"T_b2b33cd4_59a6_11eb_b6e2_0242ac1c0002row4_col11\" class=\"data row4 col11\" >0.00</td>\n",
              "                        <td id=\"T_b2b33cd4_59a6_11eb_b6e2_0242ac1c0002row4_col12\" class=\"data row4 col12\" >0.00</td>\n",
              "                        <td id=\"T_b2b33cd4_59a6_11eb_b6e2_0242ac1c0002row4_col13\" class=\"data row4 col13\" >0.00</td>\n",
              "                        <td id=\"T_b2b33cd4_59a6_11eb_b6e2_0242ac1c0002row4_col14\" class=\"data row4 col14\" >-0.00</td>\n",
              "                        <td id=\"T_b2b33cd4_59a6_11eb_b6e2_0242ac1c0002row4_col15\" class=\"data row4 col15\" >0.00</td>\n",
              "                        <td id=\"T_b2b33cd4_59a6_11eb_b6e2_0242ac1c0002row4_col16\" class=\"data row4 col16\" >0.00</td>\n",
              "                        <td id=\"T_b2b33cd4_59a6_11eb_b6e2_0242ac1c0002row4_col17\" class=\"data row4 col17\" >0.00</td>\n",
              "                        <td id=\"T_b2b33cd4_59a6_11eb_b6e2_0242ac1c0002row4_col18\" class=\"data row4 col18\" >-0.00</td>\n",
              "                        <td id=\"T_b2b33cd4_59a6_11eb_b6e2_0242ac1c0002row4_col19\" class=\"data row4 col19\" >-0.00</td>\n",
              "                        <td id=\"T_b2b33cd4_59a6_11eb_b6e2_0242ac1c0002row4_col20\" class=\"data row4 col20\" >-0.00</td>\n",
              "                        <td id=\"T_b2b33cd4_59a6_11eb_b6e2_0242ac1c0002row4_col21\" class=\"data row4 col21\" >-0.00</td>\n",
              "                        <td id=\"T_b2b33cd4_59a6_11eb_b6e2_0242ac1c0002row4_col22\" class=\"data row4 col22\" >0.00</td>\n",
              "                        <td id=\"T_b2b33cd4_59a6_11eb_b6e2_0242ac1c0002row4_col23\" class=\"data row4 col23\" >-0.00</td>\n",
              "                        <td id=\"T_b2b33cd4_59a6_11eb_b6e2_0242ac1c0002row4_col24\" class=\"data row4 col24\" >-0.00</td>\n",
              "                        <td id=\"T_b2b33cd4_59a6_11eb_b6e2_0242ac1c0002row4_col25\" class=\"data row4 col25\" >0.00</td>\n",
              "                        <td id=\"T_b2b33cd4_59a6_11eb_b6e2_0242ac1c0002row4_col26\" class=\"data row4 col26\" >-0.00</td>\n",
              "                        <td id=\"T_b2b33cd4_59a6_11eb_b6e2_0242ac1c0002row4_col27\" class=\"data row4 col27\" >-0.00</td>\n",
              "                        <td id=\"T_b2b33cd4_59a6_11eb_b6e2_0242ac1c0002row4_col28\" class=\"data row4 col28\" >-0.00</td>\n",
              "            </tr>\n",
              "            <tr>\n",
              "                        <th id=\"T_b2b33cd4_59a6_11eb_b6e2_0242ac1c0002level0_row5\" class=\"row_heading level0 row5\" >S5</th>\n",
              "                        <td id=\"T_b2b33cd4_59a6_11eb_b6e2_0242ac1c0002row5_col0\" class=\"data row5 col0\" >0.17</td>\n",
              "                        <td id=\"T_b2b33cd4_59a6_11eb_b6e2_0242ac1c0002row5_col1\" class=\"data row5 col1\" >-0.00</td>\n",
              "                        <td id=\"T_b2b33cd4_59a6_11eb_b6e2_0242ac1c0002row5_col2\" class=\"data row5 col2\" >-0.00</td>\n",
              "                        <td id=\"T_b2b33cd4_59a6_11eb_b6e2_0242ac1c0002row5_col3\" class=\"data row5 col3\" >-0.00</td>\n",
              "                        <td id=\"T_b2b33cd4_59a6_11eb_b6e2_0242ac1c0002row5_col4\" class=\"data row5 col4\" >-0.00</td>\n",
              "                        <td id=\"T_b2b33cd4_59a6_11eb_b6e2_0242ac1c0002row5_col5\" class=\"data row5 col5\" >1.00</td>\n",
              "                        <td id=\"T_b2b33cd4_59a6_11eb_b6e2_0242ac1c0002row5_col6\" class=\"data row5 col6\" >-0.00</td>\n",
              "                        <td id=\"T_b2b33cd4_59a6_11eb_b6e2_0242ac1c0002row5_col7\" class=\"data row5 col7\" >0.00</td>\n",
              "                        <td id=\"T_b2b33cd4_59a6_11eb_b6e2_0242ac1c0002row5_col8\" class=\"data row5 col8\" >-0.00</td>\n",
              "                        <td id=\"T_b2b33cd4_59a6_11eb_b6e2_0242ac1c0002row5_col9\" class=\"data row5 col9\" >-0.00</td>\n",
              "                        <td id=\"T_b2b33cd4_59a6_11eb_b6e2_0242ac1c0002row5_col10\" class=\"data row5 col10\" >-0.00</td>\n",
              "                        <td id=\"T_b2b33cd4_59a6_11eb_b6e2_0242ac1c0002row5_col11\" class=\"data row5 col11\" >-0.00</td>\n",
              "                        <td id=\"T_b2b33cd4_59a6_11eb_b6e2_0242ac1c0002row5_col12\" class=\"data row5 col12\" >0.00</td>\n",
              "                        <td id=\"T_b2b33cd4_59a6_11eb_b6e2_0242ac1c0002row5_col13\" class=\"data row5 col13\" >-0.00</td>\n",
              "                        <td id=\"T_b2b33cd4_59a6_11eb_b6e2_0242ac1c0002row5_col14\" class=\"data row5 col14\" >-0.00</td>\n",
              "                        <td id=\"T_b2b33cd4_59a6_11eb_b6e2_0242ac1c0002row5_col15\" class=\"data row5 col15\" >-0.00</td>\n",
              "                        <td id=\"T_b2b33cd4_59a6_11eb_b6e2_0242ac1c0002row5_col16\" class=\"data row5 col16\" >-0.00</td>\n",
              "                        <td id=\"T_b2b33cd4_59a6_11eb_b6e2_0242ac1c0002row5_col17\" class=\"data row5 col17\" >0.00</td>\n",
              "                        <td id=\"T_b2b33cd4_59a6_11eb_b6e2_0242ac1c0002row5_col18\" class=\"data row5 col18\" >0.00</td>\n",
              "                        <td id=\"T_b2b33cd4_59a6_11eb_b6e2_0242ac1c0002row5_col19\" class=\"data row5 col19\" >0.00</td>\n",
              "                        <td id=\"T_b2b33cd4_59a6_11eb_b6e2_0242ac1c0002row5_col20\" class=\"data row5 col20\" >-0.00</td>\n",
              "                        <td id=\"T_b2b33cd4_59a6_11eb_b6e2_0242ac1c0002row5_col21\" class=\"data row5 col21\" >-0.00</td>\n",
              "                        <td id=\"T_b2b33cd4_59a6_11eb_b6e2_0242ac1c0002row5_col22\" class=\"data row5 col22\" >0.00</td>\n",
              "                        <td id=\"T_b2b33cd4_59a6_11eb_b6e2_0242ac1c0002row5_col23\" class=\"data row5 col23\" >0.00</td>\n",
              "                        <td id=\"T_b2b33cd4_59a6_11eb_b6e2_0242ac1c0002row5_col24\" class=\"data row5 col24\" >-0.00</td>\n",
              "                        <td id=\"T_b2b33cd4_59a6_11eb_b6e2_0242ac1c0002row5_col25\" class=\"data row5 col25\" >0.00</td>\n",
              "                        <td id=\"T_b2b33cd4_59a6_11eb_b6e2_0242ac1c0002row5_col26\" class=\"data row5 col26\" >-0.00</td>\n",
              "                        <td id=\"T_b2b33cd4_59a6_11eb_b6e2_0242ac1c0002row5_col27\" class=\"data row5 col27\" >-0.00</td>\n",
              "                        <td id=\"T_b2b33cd4_59a6_11eb_b6e2_0242ac1c0002row5_col28\" class=\"data row5 col28\" >0.00</td>\n",
              "            </tr>\n",
              "            <tr>\n",
              "                        <th id=\"T_b2b33cd4_59a6_11eb_b6e2_0242ac1c0002level0_row6\" class=\"row_heading level0 row6\" >S6</th>\n",
              "                        <td id=\"T_b2b33cd4_59a6_11eb_b6e2_0242ac1c0002row6_col0\" class=\"data row6 col0\" >-0.06</td>\n",
              "                        <td id=\"T_b2b33cd4_59a6_11eb_b6e2_0242ac1c0002row6_col1\" class=\"data row6 col1\" >-0.00</td>\n",
              "                        <td id=\"T_b2b33cd4_59a6_11eb_b6e2_0242ac1c0002row6_col2\" class=\"data row6 col2\" >0.00</td>\n",
              "                        <td id=\"T_b2b33cd4_59a6_11eb_b6e2_0242ac1c0002row6_col3\" class=\"data row6 col3\" >-0.00</td>\n",
              "                        <td id=\"T_b2b33cd4_59a6_11eb_b6e2_0242ac1c0002row6_col4\" class=\"data row6 col4\" >0.00</td>\n",
              "                        <td id=\"T_b2b33cd4_59a6_11eb_b6e2_0242ac1c0002row6_col5\" class=\"data row6 col5\" >-0.00</td>\n",
              "                        <td id=\"T_b2b33cd4_59a6_11eb_b6e2_0242ac1c0002row6_col6\" class=\"data row6 col6\" >1.00</td>\n",
              "                        <td id=\"T_b2b33cd4_59a6_11eb_b6e2_0242ac1c0002row6_col7\" class=\"data row6 col7\" >-0.00</td>\n",
              "                        <td id=\"T_b2b33cd4_59a6_11eb_b6e2_0242ac1c0002row6_col8\" class=\"data row6 col8\" >-0.00</td>\n",
              "                        <td id=\"T_b2b33cd4_59a6_11eb_b6e2_0242ac1c0002row6_col9\" class=\"data row6 col9\" >0.00</td>\n",
              "                        <td id=\"T_b2b33cd4_59a6_11eb_b6e2_0242ac1c0002row6_col10\" class=\"data row6 col10\" >0.00</td>\n",
              "                        <td id=\"T_b2b33cd4_59a6_11eb_b6e2_0242ac1c0002row6_col11\" class=\"data row6 col11\" >0.00</td>\n",
              "                        <td id=\"T_b2b33cd4_59a6_11eb_b6e2_0242ac1c0002row6_col12\" class=\"data row6 col12\" >-0.00</td>\n",
              "                        <td id=\"T_b2b33cd4_59a6_11eb_b6e2_0242ac1c0002row6_col13\" class=\"data row6 col13\" >0.00</td>\n",
              "                        <td id=\"T_b2b33cd4_59a6_11eb_b6e2_0242ac1c0002row6_col14\" class=\"data row6 col14\" >-0.00</td>\n",
              "                        <td id=\"T_b2b33cd4_59a6_11eb_b6e2_0242ac1c0002row6_col15\" class=\"data row6 col15\" >-0.00</td>\n",
              "                        <td id=\"T_b2b33cd4_59a6_11eb_b6e2_0242ac1c0002row6_col16\" class=\"data row6 col16\" >0.00</td>\n",
              "                        <td id=\"T_b2b33cd4_59a6_11eb_b6e2_0242ac1c0002row6_col17\" class=\"data row6 col17\" >0.00</td>\n",
              "                        <td id=\"T_b2b33cd4_59a6_11eb_b6e2_0242ac1c0002row6_col18\" class=\"data row6 col18\" >0.00</td>\n",
              "                        <td id=\"T_b2b33cd4_59a6_11eb_b6e2_0242ac1c0002row6_col19\" class=\"data row6 col19\" >0.00</td>\n",
              "                        <td id=\"T_b2b33cd4_59a6_11eb_b6e2_0242ac1c0002row6_col20\" class=\"data row6 col20\" >-0.00</td>\n",
              "                        <td id=\"T_b2b33cd4_59a6_11eb_b6e2_0242ac1c0002row6_col21\" class=\"data row6 col21\" >0.00</td>\n",
              "                        <td id=\"T_b2b33cd4_59a6_11eb_b6e2_0242ac1c0002row6_col22\" class=\"data row6 col22\" >-0.00</td>\n",
              "                        <td id=\"T_b2b33cd4_59a6_11eb_b6e2_0242ac1c0002row6_col23\" class=\"data row6 col23\" >-0.00</td>\n",
              "                        <td id=\"T_b2b33cd4_59a6_11eb_b6e2_0242ac1c0002row6_col24\" class=\"data row6 col24\" >0.00</td>\n",
              "                        <td id=\"T_b2b33cd4_59a6_11eb_b6e2_0242ac1c0002row6_col25\" class=\"data row6 col25\" >-0.00</td>\n",
              "                        <td id=\"T_b2b33cd4_59a6_11eb_b6e2_0242ac1c0002row6_col26\" class=\"data row6 col26\" >0.00</td>\n",
              "                        <td id=\"T_b2b33cd4_59a6_11eb_b6e2_0242ac1c0002row6_col27\" class=\"data row6 col27\" >0.00</td>\n",
              "                        <td id=\"T_b2b33cd4_59a6_11eb_b6e2_0242ac1c0002row6_col28\" class=\"data row6 col28\" >-0.00</td>\n",
              "            </tr>\n",
              "            <tr>\n",
              "                        <th id=\"T_b2b33cd4_59a6_11eb_b6e2_0242ac1c0002level0_row7\" class=\"row_heading level0 row7\" >S7</th>\n",
              "                        <td id=\"T_b2b33cd4_59a6_11eb_b6e2_0242ac1c0002row7_col0\" class=\"data row7 col0\" >0.08</td>\n",
              "                        <td id=\"T_b2b33cd4_59a6_11eb_b6e2_0242ac1c0002row7_col1\" class=\"data row7 col1\" >-0.00</td>\n",
              "                        <td id=\"T_b2b33cd4_59a6_11eb_b6e2_0242ac1c0002row7_col2\" class=\"data row7 col2\" >0.00</td>\n",
              "                        <td id=\"T_b2b33cd4_59a6_11eb_b6e2_0242ac1c0002row7_col3\" class=\"data row7 col3\" >0.00</td>\n",
              "                        <td id=\"T_b2b33cd4_59a6_11eb_b6e2_0242ac1c0002row7_col4\" class=\"data row7 col4\" >0.00</td>\n",
              "                        <td id=\"T_b2b33cd4_59a6_11eb_b6e2_0242ac1c0002row7_col5\" class=\"data row7 col5\" >0.00</td>\n",
              "                        <td id=\"T_b2b33cd4_59a6_11eb_b6e2_0242ac1c0002row7_col6\" class=\"data row7 col6\" >-0.00</td>\n",
              "                        <td id=\"T_b2b33cd4_59a6_11eb_b6e2_0242ac1c0002row7_col7\" class=\"data row7 col7\" >1.00</td>\n",
              "                        <td id=\"T_b2b33cd4_59a6_11eb_b6e2_0242ac1c0002row7_col8\" class=\"data row7 col8\" >0.00</td>\n",
              "                        <td id=\"T_b2b33cd4_59a6_11eb_b6e2_0242ac1c0002row7_col9\" class=\"data row7 col9\" >0.00</td>\n",
              "                        <td id=\"T_b2b33cd4_59a6_11eb_b6e2_0242ac1c0002row7_col10\" class=\"data row7 col10\" >0.00</td>\n",
              "                        <td id=\"T_b2b33cd4_59a6_11eb_b6e2_0242ac1c0002row7_col11\" class=\"data row7 col11\" >-0.00</td>\n",
              "                        <td id=\"T_b2b33cd4_59a6_11eb_b6e2_0242ac1c0002row7_col12\" class=\"data row7 col12\" >-0.00</td>\n",
              "                        <td id=\"T_b2b33cd4_59a6_11eb_b6e2_0242ac1c0002row7_col13\" class=\"data row7 col13\" >-0.00</td>\n",
              "                        <td id=\"T_b2b33cd4_59a6_11eb_b6e2_0242ac1c0002row7_col14\" class=\"data row7 col14\" >0.00</td>\n",
              "                        <td id=\"T_b2b33cd4_59a6_11eb_b6e2_0242ac1c0002row7_col15\" class=\"data row7 col15\" >0.00</td>\n",
              "                        <td id=\"T_b2b33cd4_59a6_11eb_b6e2_0242ac1c0002row7_col16\" class=\"data row7 col16\" >-0.00</td>\n",
              "                        <td id=\"T_b2b33cd4_59a6_11eb_b6e2_0242ac1c0002row7_col17\" class=\"data row7 col17\" >-0.00</td>\n",
              "                        <td id=\"T_b2b33cd4_59a6_11eb_b6e2_0242ac1c0002row7_col18\" class=\"data row7 col18\" >-0.00</td>\n",
              "                        <td id=\"T_b2b33cd4_59a6_11eb_b6e2_0242ac1c0002row7_col19\" class=\"data row7 col19\" >-0.00</td>\n",
              "                        <td id=\"T_b2b33cd4_59a6_11eb_b6e2_0242ac1c0002row7_col20\" class=\"data row7 col20\" >0.00</td>\n",
              "                        <td id=\"T_b2b33cd4_59a6_11eb_b6e2_0242ac1c0002row7_col21\" class=\"data row7 col21\" >0.00</td>\n",
              "                        <td id=\"T_b2b33cd4_59a6_11eb_b6e2_0242ac1c0002row7_col22\" class=\"data row7 col22\" >-0.00</td>\n",
              "                        <td id=\"T_b2b33cd4_59a6_11eb_b6e2_0242ac1c0002row7_col23\" class=\"data row7 col23\" >-0.00</td>\n",
              "                        <td id=\"T_b2b33cd4_59a6_11eb_b6e2_0242ac1c0002row7_col24\" class=\"data row7 col24\" >-0.00</td>\n",
              "                        <td id=\"T_b2b33cd4_59a6_11eb_b6e2_0242ac1c0002row7_col25\" class=\"data row7 col25\" >-0.00</td>\n",
              "                        <td id=\"T_b2b33cd4_59a6_11eb_b6e2_0242ac1c0002row7_col26\" class=\"data row7 col26\" >-0.00</td>\n",
              "                        <td id=\"T_b2b33cd4_59a6_11eb_b6e2_0242ac1c0002row7_col27\" class=\"data row7 col27\" >-0.00</td>\n",
              "                        <td id=\"T_b2b33cd4_59a6_11eb_b6e2_0242ac1c0002row7_col28\" class=\"data row7 col28\" >0.00</td>\n",
              "            </tr>\n",
              "            <tr>\n",
              "                        <th id=\"T_b2b33cd4_59a6_11eb_b6e2_0242ac1c0002level0_row8\" class=\"row_heading level0 row8\" >S8</th>\n",
              "                        <td id=\"T_b2b33cd4_59a6_11eb_b6e2_0242ac1c0002row8_col0\" class=\"data row8 col0\" >-0.04</td>\n",
              "                        <td id=\"T_b2b33cd4_59a6_11eb_b6e2_0242ac1c0002row8_col1\" class=\"data row8 col1\" >0.00</td>\n",
              "                        <td id=\"T_b2b33cd4_59a6_11eb_b6e2_0242ac1c0002row8_col2\" class=\"data row8 col2\" >0.00</td>\n",
              "                        <td id=\"T_b2b33cd4_59a6_11eb_b6e2_0242ac1c0002row8_col3\" class=\"data row8 col3\" >-0.00</td>\n",
              "                        <td id=\"T_b2b33cd4_59a6_11eb_b6e2_0242ac1c0002row8_col4\" class=\"data row8 col4\" >0.00</td>\n",
              "                        <td id=\"T_b2b33cd4_59a6_11eb_b6e2_0242ac1c0002row8_col5\" class=\"data row8 col5\" >-0.00</td>\n",
              "                        <td id=\"T_b2b33cd4_59a6_11eb_b6e2_0242ac1c0002row8_col6\" class=\"data row8 col6\" >-0.00</td>\n",
              "                        <td id=\"T_b2b33cd4_59a6_11eb_b6e2_0242ac1c0002row8_col7\" class=\"data row8 col7\" >0.00</td>\n",
              "                        <td id=\"T_b2b33cd4_59a6_11eb_b6e2_0242ac1c0002row8_col8\" class=\"data row8 col8\" >1.00</td>\n",
              "                        <td id=\"T_b2b33cd4_59a6_11eb_b6e2_0242ac1c0002row8_col9\" class=\"data row8 col9\" >-0.00</td>\n",
              "                        <td id=\"T_b2b33cd4_59a6_11eb_b6e2_0242ac1c0002row8_col10\" class=\"data row8 col10\" >-0.00</td>\n",
              "                        <td id=\"T_b2b33cd4_59a6_11eb_b6e2_0242ac1c0002row8_col11\" class=\"data row8 col11\" >0.00</td>\n",
              "                        <td id=\"T_b2b33cd4_59a6_11eb_b6e2_0242ac1c0002row8_col12\" class=\"data row8 col12\" >-0.00</td>\n",
              "                        <td id=\"T_b2b33cd4_59a6_11eb_b6e2_0242ac1c0002row8_col13\" class=\"data row8 col13\" >0.00</td>\n",
              "                        <td id=\"T_b2b33cd4_59a6_11eb_b6e2_0242ac1c0002row8_col14\" class=\"data row8 col14\" >-0.00</td>\n",
              "                        <td id=\"T_b2b33cd4_59a6_11eb_b6e2_0242ac1c0002row8_col15\" class=\"data row8 col15\" >0.00</td>\n",
              "                        <td id=\"T_b2b33cd4_59a6_11eb_b6e2_0242ac1c0002row8_col16\" class=\"data row8 col16\" >-0.00</td>\n",
              "                        <td id=\"T_b2b33cd4_59a6_11eb_b6e2_0242ac1c0002row8_col17\" class=\"data row8 col17\" >0.00</td>\n",
              "                        <td id=\"T_b2b33cd4_59a6_11eb_b6e2_0242ac1c0002row8_col18\" class=\"data row8 col18\" >0.00</td>\n",
              "                        <td id=\"T_b2b33cd4_59a6_11eb_b6e2_0242ac1c0002row8_col19\" class=\"data row8 col19\" >0.00</td>\n",
              "                        <td id=\"T_b2b33cd4_59a6_11eb_b6e2_0242ac1c0002row8_col20\" class=\"data row8 col20\" >-0.00</td>\n",
              "                        <td id=\"T_b2b33cd4_59a6_11eb_b6e2_0242ac1c0002row8_col21\" class=\"data row8 col21\" >-0.00</td>\n",
              "                        <td id=\"T_b2b33cd4_59a6_11eb_b6e2_0242ac1c0002row8_col22\" class=\"data row8 col22\" >-0.00</td>\n",
              "                        <td id=\"T_b2b33cd4_59a6_11eb_b6e2_0242ac1c0002row8_col23\" class=\"data row8 col23\" >0.00</td>\n",
              "                        <td id=\"T_b2b33cd4_59a6_11eb_b6e2_0242ac1c0002row8_col24\" class=\"data row8 col24\" >-0.00</td>\n",
              "                        <td id=\"T_b2b33cd4_59a6_11eb_b6e2_0242ac1c0002row8_col25\" class=\"data row8 col25\" >-0.00</td>\n",
              "                        <td id=\"T_b2b33cd4_59a6_11eb_b6e2_0242ac1c0002row8_col26\" class=\"data row8 col26\" >0.00</td>\n",
              "                        <td id=\"T_b2b33cd4_59a6_11eb_b6e2_0242ac1c0002row8_col27\" class=\"data row8 col27\" >-0.00</td>\n",
              "                        <td id=\"T_b2b33cd4_59a6_11eb_b6e2_0242ac1c0002row8_col28\" class=\"data row8 col28\" >0.00</td>\n",
              "            </tr>\n",
              "            <tr>\n",
              "                        <th id=\"T_b2b33cd4_59a6_11eb_b6e2_0242ac1c0002level0_row9\" class=\"row_heading level0 row9\" >S9</th>\n",
              "                        <td id=\"T_b2b33cd4_59a6_11eb_b6e2_0242ac1c0002row9_col0\" class=\"data row9 col0\" >-0.01</td>\n",
              "                        <td id=\"T_b2b33cd4_59a6_11eb_b6e2_0242ac1c0002row9_col1\" class=\"data row9 col1\" >0.00</td>\n",
              "                        <td id=\"T_b2b33cd4_59a6_11eb_b6e2_0242ac1c0002row9_col2\" class=\"data row9 col2\" >0.00</td>\n",
              "                        <td id=\"T_b2b33cd4_59a6_11eb_b6e2_0242ac1c0002row9_col3\" class=\"data row9 col3\" >-0.00</td>\n",
              "                        <td id=\"T_b2b33cd4_59a6_11eb_b6e2_0242ac1c0002row9_col4\" class=\"data row9 col4\" >-0.00</td>\n",
              "                        <td id=\"T_b2b33cd4_59a6_11eb_b6e2_0242ac1c0002row9_col5\" class=\"data row9 col5\" >-0.00</td>\n",
              "                        <td id=\"T_b2b33cd4_59a6_11eb_b6e2_0242ac1c0002row9_col6\" class=\"data row9 col6\" >0.00</td>\n",
              "                        <td id=\"T_b2b33cd4_59a6_11eb_b6e2_0242ac1c0002row9_col7\" class=\"data row9 col7\" >0.00</td>\n",
              "                        <td id=\"T_b2b33cd4_59a6_11eb_b6e2_0242ac1c0002row9_col8\" class=\"data row9 col8\" >-0.00</td>\n",
              "                        <td id=\"T_b2b33cd4_59a6_11eb_b6e2_0242ac1c0002row9_col9\" class=\"data row9 col9\" >1.00</td>\n",
              "                        <td id=\"T_b2b33cd4_59a6_11eb_b6e2_0242ac1c0002row9_col10\" class=\"data row9 col10\" >0.00</td>\n",
              "                        <td id=\"T_b2b33cd4_59a6_11eb_b6e2_0242ac1c0002row9_col11\" class=\"data row9 col11\" >-0.00</td>\n",
              "                        <td id=\"T_b2b33cd4_59a6_11eb_b6e2_0242ac1c0002row9_col12\" class=\"data row9 col12\" >-0.00</td>\n",
              "                        <td id=\"T_b2b33cd4_59a6_11eb_b6e2_0242ac1c0002row9_col13\" class=\"data row9 col13\" >0.00</td>\n",
              "                        <td id=\"T_b2b33cd4_59a6_11eb_b6e2_0242ac1c0002row9_col14\" class=\"data row9 col14\" >-0.00</td>\n",
              "                        <td id=\"T_b2b33cd4_59a6_11eb_b6e2_0242ac1c0002row9_col15\" class=\"data row9 col15\" >0.00</td>\n",
              "                        <td id=\"T_b2b33cd4_59a6_11eb_b6e2_0242ac1c0002row9_col16\" class=\"data row9 col16\" >0.00</td>\n",
              "                        <td id=\"T_b2b33cd4_59a6_11eb_b6e2_0242ac1c0002row9_col17\" class=\"data row9 col17\" >-0.00</td>\n",
              "                        <td id=\"T_b2b33cd4_59a6_11eb_b6e2_0242ac1c0002row9_col18\" class=\"data row9 col18\" >0.00</td>\n",
              "                        <td id=\"T_b2b33cd4_59a6_11eb_b6e2_0242ac1c0002row9_col19\" class=\"data row9 col19\" >-0.00</td>\n",
              "                        <td id=\"T_b2b33cd4_59a6_11eb_b6e2_0242ac1c0002row9_col20\" class=\"data row9 col20\" >0.00</td>\n",
              "                        <td id=\"T_b2b33cd4_59a6_11eb_b6e2_0242ac1c0002row9_col21\" class=\"data row9 col21\" >0.00</td>\n",
              "                        <td id=\"T_b2b33cd4_59a6_11eb_b6e2_0242ac1c0002row9_col22\" class=\"data row9 col22\" >-0.00</td>\n",
              "                        <td id=\"T_b2b33cd4_59a6_11eb_b6e2_0242ac1c0002row9_col23\" class=\"data row9 col23\" >-0.00</td>\n",
              "                        <td id=\"T_b2b33cd4_59a6_11eb_b6e2_0242ac1c0002row9_col24\" class=\"data row9 col24\" >0.00</td>\n",
              "                        <td id=\"T_b2b33cd4_59a6_11eb_b6e2_0242ac1c0002row9_col25\" class=\"data row9 col25\" >-0.00</td>\n",
              "                        <td id=\"T_b2b33cd4_59a6_11eb_b6e2_0242ac1c0002row9_col26\" class=\"data row9 col26\" >-0.00</td>\n",
              "                        <td id=\"T_b2b33cd4_59a6_11eb_b6e2_0242ac1c0002row9_col27\" class=\"data row9 col27\" >0.00</td>\n",
              "                        <td id=\"T_b2b33cd4_59a6_11eb_b6e2_0242ac1c0002row9_col28\" class=\"data row9 col28\" >-0.00</td>\n",
              "            </tr>\n",
              "            <tr>\n",
              "                        <th id=\"T_b2b33cd4_59a6_11eb_b6e2_0242ac1c0002level0_row10\" class=\"row_heading level0 row10\" >S10</th>\n",
              "                        <td id=\"T_b2b33cd4_59a6_11eb_b6e2_0242ac1c0002row10_col0\" class=\"data row10 col0\" >0.03</td>\n",
              "                        <td id=\"T_b2b33cd4_59a6_11eb_b6e2_0242ac1c0002row10_col1\" class=\"data row10 col1\" >-0.00</td>\n",
              "                        <td id=\"T_b2b33cd4_59a6_11eb_b6e2_0242ac1c0002row10_col2\" class=\"data row10 col2\" >0.00</td>\n",
              "                        <td id=\"T_b2b33cd4_59a6_11eb_b6e2_0242ac1c0002row10_col3\" class=\"data row10 col3\" >-0.00</td>\n",
              "                        <td id=\"T_b2b33cd4_59a6_11eb_b6e2_0242ac1c0002row10_col4\" class=\"data row10 col4\" >-0.00</td>\n",
              "                        <td id=\"T_b2b33cd4_59a6_11eb_b6e2_0242ac1c0002row10_col5\" class=\"data row10 col5\" >-0.00</td>\n",
              "                        <td id=\"T_b2b33cd4_59a6_11eb_b6e2_0242ac1c0002row10_col6\" class=\"data row10 col6\" >0.00</td>\n",
              "                        <td id=\"T_b2b33cd4_59a6_11eb_b6e2_0242ac1c0002row10_col7\" class=\"data row10 col7\" >0.00</td>\n",
              "                        <td id=\"T_b2b33cd4_59a6_11eb_b6e2_0242ac1c0002row10_col8\" class=\"data row10 col8\" >-0.00</td>\n",
              "                        <td id=\"T_b2b33cd4_59a6_11eb_b6e2_0242ac1c0002row10_col9\" class=\"data row10 col9\" >0.00</td>\n",
              "                        <td id=\"T_b2b33cd4_59a6_11eb_b6e2_0242ac1c0002row10_col10\" class=\"data row10 col10\" >1.00</td>\n",
              "                        <td id=\"T_b2b33cd4_59a6_11eb_b6e2_0242ac1c0002row10_col11\" class=\"data row10 col11\" >0.00</td>\n",
              "                        <td id=\"T_b2b33cd4_59a6_11eb_b6e2_0242ac1c0002row10_col12\" class=\"data row10 col12\" >0.00</td>\n",
              "                        <td id=\"T_b2b33cd4_59a6_11eb_b6e2_0242ac1c0002row10_col13\" class=\"data row10 col13\" >-0.00</td>\n",
              "                        <td id=\"T_b2b33cd4_59a6_11eb_b6e2_0242ac1c0002row10_col14\" class=\"data row10 col14\" >0.00</td>\n",
              "                        <td id=\"T_b2b33cd4_59a6_11eb_b6e2_0242ac1c0002row10_col15\" class=\"data row10 col15\" >0.00</td>\n",
              "                        <td id=\"T_b2b33cd4_59a6_11eb_b6e2_0242ac1c0002row10_col16\" class=\"data row10 col16\" >0.00</td>\n",
              "                        <td id=\"T_b2b33cd4_59a6_11eb_b6e2_0242ac1c0002row10_col17\" class=\"data row10 col17\" >-0.00</td>\n",
              "                        <td id=\"T_b2b33cd4_59a6_11eb_b6e2_0242ac1c0002row10_col18\" class=\"data row10 col18\" >-0.00</td>\n",
              "                        <td id=\"T_b2b33cd4_59a6_11eb_b6e2_0242ac1c0002row10_col19\" class=\"data row10 col19\" >-0.00</td>\n",
              "                        <td id=\"T_b2b33cd4_59a6_11eb_b6e2_0242ac1c0002row10_col20\" class=\"data row10 col20\" >0.00</td>\n",
              "                        <td id=\"T_b2b33cd4_59a6_11eb_b6e2_0242ac1c0002row10_col21\" class=\"data row10 col21\" >-0.00</td>\n",
              "                        <td id=\"T_b2b33cd4_59a6_11eb_b6e2_0242ac1c0002row10_col22\" class=\"data row10 col22\" >-0.00</td>\n",
              "                        <td id=\"T_b2b33cd4_59a6_11eb_b6e2_0242ac1c0002row10_col23\" class=\"data row10 col23\" >0.00</td>\n",
              "                        <td id=\"T_b2b33cd4_59a6_11eb_b6e2_0242ac1c0002row10_col24\" class=\"data row10 col24\" >0.00</td>\n",
              "                        <td id=\"T_b2b33cd4_59a6_11eb_b6e2_0242ac1c0002row10_col25\" class=\"data row10 col25\" >0.00</td>\n",
              "                        <td id=\"T_b2b33cd4_59a6_11eb_b6e2_0242ac1c0002row10_col26\" class=\"data row10 col26\" >-0.00</td>\n",
              "                        <td id=\"T_b2b33cd4_59a6_11eb_b6e2_0242ac1c0002row10_col27\" class=\"data row10 col27\" >0.00</td>\n",
              "                        <td id=\"T_b2b33cd4_59a6_11eb_b6e2_0242ac1c0002row10_col28\" class=\"data row10 col28\" >0.00</td>\n",
              "            </tr>\n",
              "            <tr>\n",
              "                        <th id=\"T_b2b33cd4_59a6_11eb_b6e2_0242ac1c0002level0_row11\" class=\"row_heading level0 row11\" >S11</th>\n",
              "                        <td id=\"T_b2b33cd4_59a6_11eb_b6e2_0242ac1c0002row11_col0\" class=\"data row11 col0\" >-0.25</td>\n",
              "                        <td id=\"T_b2b33cd4_59a6_11eb_b6e2_0242ac1c0002row11_col1\" class=\"data row11 col1\" >0.00</td>\n",
              "                        <td id=\"T_b2b33cd4_59a6_11eb_b6e2_0242ac1c0002row11_col2\" class=\"data row11 col2\" >-0.00</td>\n",
              "                        <td id=\"T_b2b33cd4_59a6_11eb_b6e2_0242ac1c0002row11_col3\" class=\"data row11 col3\" >0.00</td>\n",
              "                        <td id=\"T_b2b33cd4_59a6_11eb_b6e2_0242ac1c0002row11_col4\" class=\"data row11 col4\" >0.00</td>\n",
              "                        <td id=\"T_b2b33cd4_59a6_11eb_b6e2_0242ac1c0002row11_col5\" class=\"data row11 col5\" >-0.00</td>\n",
              "                        <td id=\"T_b2b33cd4_59a6_11eb_b6e2_0242ac1c0002row11_col6\" class=\"data row11 col6\" >0.00</td>\n",
              "                        <td id=\"T_b2b33cd4_59a6_11eb_b6e2_0242ac1c0002row11_col7\" class=\"data row11 col7\" >-0.00</td>\n",
              "                        <td id=\"T_b2b33cd4_59a6_11eb_b6e2_0242ac1c0002row11_col8\" class=\"data row11 col8\" >0.00</td>\n",
              "                        <td id=\"T_b2b33cd4_59a6_11eb_b6e2_0242ac1c0002row11_col9\" class=\"data row11 col9\" >-0.00</td>\n",
              "                        <td id=\"T_b2b33cd4_59a6_11eb_b6e2_0242ac1c0002row11_col10\" class=\"data row11 col10\" >0.00</td>\n",
              "                        <td id=\"T_b2b33cd4_59a6_11eb_b6e2_0242ac1c0002row11_col11\" class=\"data row11 col11\" >1.00</td>\n",
              "                        <td id=\"T_b2b33cd4_59a6_11eb_b6e2_0242ac1c0002row11_col12\" class=\"data row11 col12\" >0.00</td>\n",
              "                        <td id=\"T_b2b33cd4_59a6_11eb_b6e2_0242ac1c0002row11_col13\" class=\"data row11 col13\" >-0.00</td>\n",
              "                        <td id=\"T_b2b33cd4_59a6_11eb_b6e2_0242ac1c0002row11_col14\" class=\"data row11 col14\" >-0.00</td>\n",
              "                        <td id=\"T_b2b33cd4_59a6_11eb_b6e2_0242ac1c0002row11_col15\" class=\"data row11 col15\" >-0.00</td>\n",
              "                        <td id=\"T_b2b33cd4_59a6_11eb_b6e2_0242ac1c0002row11_col16\" class=\"data row11 col16\" >0.00</td>\n",
              "                        <td id=\"T_b2b33cd4_59a6_11eb_b6e2_0242ac1c0002row11_col17\" class=\"data row11 col17\" >0.00</td>\n",
              "                        <td id=\"T_b2b33cd4_59a6_11eb_b6e2_0242ac1c0002row11_col18\" class=\"data row11 col18\" >-0.00</td>\n",
              "                        <td id=\"T_b2b33cd4_59a6_11eb_b6e2_0242ac1c0002row11_col19\" class=\"data row11 col19\" >-0.00</td>\n",
              "                        <td id=\"T_b2b33cd4_59a6_11eb_b6e2_0242ac1c0002row11_col20\" class=\"data row11 col20\" >0.00</td>\n",
              "                        <td id=\"T_b2b33cd4_59a6_11eb_b6e2_0242ac1c0002row11_col21\" class=\"data row11 col21\" >0.00</td>\n",
              "                        <td id=\"T_b2b33cd4_59a6_11eb_b6e2_0242ac1c0002row11_col22\" class=\"data row11 col22\" >-0.00</td>\n",
              "                        <td id=\"T_b2b33cd4_59a6_11eb_b6e2_0242ac1c0002row11_col23\" class=\"data row11 col23\" >0.00</td>\n",
              "                        <td id=\"T_b2b33cd4_59a6_11eb_b6e2_0242ac1c0002row11_col24\" class=\"data row11 col24\" >-0.00</td>\n",
              "                        <td id=\"T_b2b33cd4_59a6_11eb_b6e2_0242ac1c0002row11_col25\" class=\"data row11 col25\" >-0.00</td>\n",
              "                        <td id=\"T_b2b33cd4_59a6_11eb_b6e2_0242ac1c0002row11_col26\" class=\"data row11 col26\" >0.00</td>\n",
              "                        <td id=\"T_b2b33cd4_59a6_11eb_b6e2_0242ac1c0002row11_col27\" class=\"data row11 col27\" >-0.00</td>\n",
              "                        <td id=\"T_b2b33cd4_59a6_11eb_b6e2_0242ac1c0002row11_col28\" class=\"data row11 col28\" >-0.00</td>\n",
              "            </tr>\n",
              "            <tr>\n",
              "                        <th id=\"T_b2b33cd4_59a6_11eb_b6e2_0242ac1c0002level0_row12\" class=\"row_heading level0 row12\" >S12</th>\n",
              "                        <td id=\"T_b2b33cd4_59a6_11eb_b6e2_0242ac1c0002row12_col0\" class=\"data row12 col0\" >0.12</td>\n",
              "                        <td id=\"T_b2b33cd4_59a6_11eb_b6e2_0242ac1c0002row12_col1\" class=\"data row12 col1\" >-0.00</td>\n",
              "                        <td id=\"T_b2b33cd4_59a6_11eb_b6e2_0242ac1c0002row12_col2\" class=\"data row12 col2\" >0.00</td>\n",
              "                        <td id=\"T_b2b33cd4_59a6_11eb_b6e2_0242ac1c0002row12_col3\" class=\"data row12 col3\" >-0.00</td>\n",
              "                        <td id=\"T_b2b33cd4_59a6_11eb_b6e2_0242ac1c0002row12_col4\" class=\"data row12 col4\" >0.00</td>\n",
              "                        <td id=\"T_b2b33cd4_59a6_11eb_b6e2_0242ac1c0002row12_col5\" class=\"data row12 col5\" >0.00</td>\n",
              "                        <td id=\"T_b2b33cd4_59a6_11eb_b6e2_0242ac1c0002row12_col6\" class=\"data row12 col6\" >-0.00</td>\n",
              "                        <td id=\"T_b2b33cd4_59a6_11eb_b6e2_0242ac1c0002row12_col7\" class=\"data row12 col7\" >-0.00</td>\n",
              "                        <td id=\"T_b2b33cd4_59a6_11eb_b6e2_0242ac1c0002row12_col8\" class=\"data row12 col8\" >-0.00</td>\n",
              "                        <td id=\"T_b2b33cd4_59a6_11eb_b6e2_0242ac1c0002row12_col9\" class=\"data row12 col9\" >-0.00</td>\n",
              "                        <td id=\"T_b2b33cd4_59a6_11eb_b6e2_0242ac1c0002row12_col10\" class=\"data row12 col10\" >0.00</td>\n",
              "                        <td id=\"T_b2b33cd4_59a6_11eb_b6e2_0242ac1c0002row12_col11\" class=\"data row12 col11\" >0.00</td>\n",
              "                        <td id=\"T_b2b33cd4_59a6_11eb_b6e2_0242ac1c0002row12_col12\" class=\"data row12 col12\" >1.00</td>\n",
              "                        <td id=\"T_b2b33cd4_59a6_11eb_b6e2_0242ac1c0002row12_col13\" class=\"data row12 col13\" >0.00</td>\n",
              "                        <td id=\"T_b2b33cd4_59a6_11eb_b6e2_0242ac1c0002row12_col14\" class=\"data row12 col14\" >-0.00</td>\n",
              "                        <td id=\"T_b2b33cd4_59a6_11eb_b6e2_0242ac1c0002row12_col15\" class=\"data row12 col15\" >0.00</td>\n",
              "                        <td id=\"T_b2b33cd4_59a6_11eb_b6e2_0242ac1c0002row12_col16\" class=\"data row12 col16\" >-0.00</td>\n",
              "                        <td id=\"T_b2b33cd4_59a6_11eb_b6e2_0242ac1c0002row12_col17\" class=\"data row12 col17\" >-0.00</td>\n",
              "                        <td id=\"T_b2b33cd4_59a6_11eb_b6e2_0242ac1c0002row12_col18\" class=\"data row12 col18\" >-0.00</td>\n",
              "                        <td id=\"T_b2b33cd4_59a6_11eb_b6e2_0242ac1c0002row12_col19\" class=\"data row12 col19\" >-0.00</td>\n",
              "                        <td id=\"T_b2b33cd4_59a6_11eb_b6e2_0242ac1c0002row12_col20\" class=\"data row12 col20\" >0.00</td>\n",
              "                        <td id=\"T_b2b33cd4_59a6_11eb_b6e2_0242ac1c0002row12_col21\" class=\"data row12 col21\" >0.00</td>\n",
              "                        <td id=\"T_b2b33cd4_59a6_11eb_b6e2_0242ac1c0002row12_col22\" class=\"data row12 col22\" >-0.00</td>\n",
              "                        <td id=\"T_b2b33cd4_59a6_11eb_b6e2_0242ac1c0002row12_col23\" class=\"data row12 col23\" >-0.00</td>\n",
              "                        <td id=\"T_b2b33cd4_59a6_11eb_b6e2_0242ac1c0002row12_col24\" class=\"data row12 col24\" >-0.00</td>\n",
              "                        <td id=\"T_b2b33cd4_59a6_11eb_b6e2_0242ac1c0002row12_col25\" class=\"data row12 col25\" >0.00</td>\n",
              "                        <td id=\"T_b2b33cd4_59a6_11eb_b6e2_0242ac1c0002row12_col26\" class=\"data row12 col26\" >0.00</td>\n",
              "                        <td id=\"T_b2b33cd4_59a6_11eb_b6e2_0242ac1c0002row12_col27\" class=\"data row12 col27\" >0.00</td>\n",
              "                        <td id=\"T_b2b33cd4_59a6_11eb_b6e2_0242ac1c0002row12_col28\" class=\"data row12 col28\" >-0.00</td>\n",
              "            </tr>\n",
              "            <tr>\n",
              "                        <th id=\"T_b2b33cd4_59a6_11eb_b6e2_0242ac1c0002level0_row13\" class=\"row_heading level0 row13\" >S13</th>\n",
              "                        <td id=\"T_b2b33cd4_59a6_11eb_b6e2_0242ac1c0002row13_col0\" class=\"data row13 col0\" >-0.07</td>\n",
              "                        <td id=\"T_b2b33cd4_59a6_11eb_b6e2_0242ac1c0002row13_col1\" class=\"data row13 col1\" >0.00</td>\n",
              "                        <td id=\"T_b2b33cd4_59a6_11eb_b6e2_0242ac1c0002row13_col2\" class=\"data row13 col2\" >-0.00</td>\n",
              "                        <td id=\"T_b2b33cd4_59a6_11eb_b6e2_0242ac1c0002row13_col3\" class=\"data row13 col3\" >-0.00</td>\n",
              "                        <td id=\"T_b2b33cd4_59a6_11eb_b6e2_0242ac1c0002row13_col4\" class=\"data row13 col4\" >0.00</td>\n",
              "                        <td id=\"T_b2b33cd4_59a6_11eb_b6e2_0242ac1c0002row13_col5\" class=\"data row13 col5\" >-0.00</td>\n",
              "                        <td id=\"T_b2b33cd4_59a6_11eb_b6e2_0242ac1c0002row13_col6\" class=\"data row13 col6\" >0.00</td>\n",
              "                        <td id=\"T_b2b33cd4_59a6_11eb_b6e2_0242ac1c0002row13_col7\" class=\"data row13 col7\" >-0.00</td>\n",
              "                        <td id=\"T_b2b33cd4_59a6_11eb_b6e2_0242ac1c0002row13_col8\" class=\"data row13 col8\" >0.00</td>\n",
              "                        <td id=\"T_b2b33cd4_59a6_11eb_b6e2_0242ac1c0002row13_col9\" class=\"data row13 col9\" >0.00</td>\n",
              "                        <td id=\"T_b2b33cd4_59a6_11eb_b6e2_0242ac1c0002row13_col10\" class=\"data row13 col10\" >-0.00</td>\n",
              "                        <td id=\"T_b2b33cd4_59a6_11eb_b6e2_0242ac1c0002row13_col11\" class=\"data row13 col11\" >-0.00</td>\n",
              "                        <td id=\"T_b2b33cd4_59a6_11eb_b6e2_0242ac1c0002row13_col12\" class=\"data row13 col12\" >0.00</td>\n",
              "                        <td id=\"T_b2b33cd4_59a6_11eb_b6e2_0242ac1c0002row13_col13\" class=\"data row13 col13\" >1.00</td>\n",
              "                        <td id=\"T_b2b33cd4_59a6_11eb_b6e2_0242ac1c0002row13_col14\" class=\"data row13 col14\" >-0.00</td>\n",
              "                        <td id=\"T_b2b33cd4_59a6_11eb_b6e2_0242ac1c0002row13_col15\" class=\"data row13 col15\" >0.00</td>\n",
              "                        <td id=\"T_b2b33cd4_59a6_11eb_b6e2_0242ac1c0002row13_col16\" class=\"data row13 col16\" >0.00</td>\n",
              "                        <td id=\"T_b2b33cd4_59a6_11eb_b6e2_0242ac1c0002row13_col17\" class=\"data row13 col17\" >0.00</td>\n",
              "                        <td id=\"T_b2b33cd4_59a6_11eb_b6e2_0242ac1c0002row13_col18\" class=\"data row13 col18\" >-0.00</td>\n",
              "                        <td id=\"T_b2b33cd4_59a6_11eb_b6e2_0242ac1c0002row13_col19\" class=\"data row13 col19\" >0.00</td>\n",
              "                        <td id=\"T_b2b33cd4_59a6_11eb_b6e2_0242ac1c0002row13_col20\" class=\"data row13 col20\" >0.00</td>\n",
              "                        <td id=\"T_b2b33cd4_59a6_11eb_b6e2_0242ac1c0002row13_col21\" class=\"data row13 col21\" >-0.00</td>\n",
              "                        <td id=\"T_b2b33cd4_59a6_11eb_b6e2_0242ac1c0002row13_col22\" class=\"data row13 col22\" >-0.00</td>\n",
              "                        <td id=\"T_b2b33cd4_59a6_11eb_b6e2_0242ac1c0002row13_col23\" class=\"data row13 col23\" >0.00</td>\n",
              "                        <td id=\"T_b2b33cd4_59a6_11eb_b6e2_0242ac1c0002row13_col24\" class=\"data row13 col24\" >0.00</td>\n",
              "                        <td id=\"T_b2b33cd4_59a6_11eb_b6e2_0242ac1c0002row13_col25\" class=\"data row13 col25\" >-0.00</td>\n",
              "                        <td id=\"T_b2b33cd4_59a6_11eb_b6e2_0242ac1c0002row13_col26\" class=\"data row13 col26\" >-0.00</td>\n",
              "                        <td id=\"T_b2b33cd4_59a6_11eb_b6e2_0242ac1c0002row13_col27\" class=\"data row13 col27\" >0.00</td>\n",
              "                        <td id=\"T_b2b33cd4_59a6_11eb_b6e2_0242ac1c0002row13_col28\" class=\"data row13 col28\" >-0.00</td>\n",
              "            </tr>\n",
              "            <tr>\n",
              "                        <th id=\"T_b2b33cd4_59a6_11eb_b6e2_0242ac1c0002level0_row14\" class=\"row_heading level0 row14\" >S14</th>\n",
              "                        <td id=\"T_b2b33cd4_59a6_11eb_b6e2_0242ac1c0002row14_col0\" class=\"data row14 col0\" >-0.10</td>\n",
              "                        <td id=\"T_b2b33cd4_59a6_11eb_b6e2_0242ac1c0002row14_col1\" class=\"data row14 col1\" >-0.00</td>\n",
              "                        <td id=\"T_b2b33cd4_59a6_11eb_b6e2_0242ac1c0002row14_col2\" class=\"data row14 col2\" >-0.00</td>\n",
              "                        <td id=\"T_b2b33cd4_59a6_11eb_b6e2_0242ac1c0002row14_col3\" class=\"data row14 col3\" >-0.00</td>\n",
              "                        <td id=\"T_b2b33cd4_59a6_11eb_b6e2_0242ac1c0002row14_col4\" class=\"data row14 col4\" >-0.00</td>\n",
              "                        <td id=\"T_b2b33cd4_59a6_11eb_b6e2_0242ac1c0002row14_col5\" class=\"data row14 col5\" >-0.00</td>\n",
              "                        <td id=\"T_b2b33cd4_59a6_11eb_b6e2_0242ac1c0002row14_col6\" class=\"data row14 col6\" >-0.00</td>\n",
              "                        <td id=\"T_b2b33cd4_59a6_11eb_b6e2_0242ac1c0002row14_col7\" class=\"data row14 col7\" >0.00</td>\n",
              "                        <td id=\"T_b2b33cd4_59a6_11eb_b6e2_0242ac1c0002row14_col8\" class=\"data row14 col8\" >-0.00</td>\n",
              "                        <td id=\"T_b2b33cd4_59a6_11eb_b6e2_0242ac1c0002row14_col9\" class=\"data row14 col9\" >-0.00</td>\n",
              "                        <td id=\"T_b2b33cd4_59a6_11eb_b6e2_0242ac1c0002row14_col10\" class=\"data row14 col10\" >0.00</td>\n",
              "                        <td id=\"T_b2b33cd4_59a6_11eb_b6e2_0242ac1c0002row14_col11\" class=\"data row14 col11\" >-0.00</td>\n",
              "                        <td id=\"T_b2b33cd4_59a6_11eb_b6e2_0242ac1c0002row14_col12\" class=\"data row14 col12\" >-0.00</td>\n",
              "                        <td id=\"T_b2b33cd4_59a6_11eb_b6e2_0242ac1c0002row14_col13\" class=\"data row14 col13\" >-0.00</td>\n",
              "                        <td id=\"T_b2b33cd4_59a6_11eb_b6e2_0242ac1c0002row14_col14\" class=\"data row14 col14\" >1.00</td>\n",
              "                        <td id=\"T_b2b33cd4_59a6_11eb_b6e2_0242ac1c0002row14_col15\" class=\"data row14 col15\" >0.00</td>\n",
              "                        <td id=\"T_b2b33cd4_59a6_11eb_b6e2_0242ac1c0002row14_col16\" class=\"data row14 col16\" >0.00</td>\n",
              "                        <td id=\"T_b2b33cd4_59a6_11eb_b6e2_0242ac1c0002row14_col17\" class=\"data row14 col17\" >-0.00</td>\n",
              "                        <td id=\"T_b2b33cd4_59a6_11eb_b6e2_0242ac1c0002row14_col18\" class=\"data row14 col18\" >-0.00</td>\n",
              "                        <td id=\"T_b2b33cd4_59a6_11eb_b6e2_0242ac1c0002row14_col19\" class=\"data row14 col19\" >0.00</td>\n",
              "                        <td id=\"T_b2b33cd4_59a6_11eb_b6e2_0242ac1c0002row14_col20\" class=\"data row14 col20\" >-0.00</td>\n",
              "                        <td id=\"T_b2b33cd4_59a6_11eb_b6e2_0242ac1c0002row14_col21\" class=\"data row14 col21\" >-0.00</td>\n",
              "                        <td id=\"T_b2b33cd4_59a6_11eb_b6e2_0242ac1c0002row14_col22\" class=\"data row14 col22\" >0.00</td>\n",
              "                        <td id=\"T_b2b33cd4_59a6_11eb_b6e2_0242ac1c0002row14_col23\" class=\"data row14 col23\" >0.00</td>\n",
              "                        <td id=\"T_b2b33cd4_59a6_11eb_b6e2_0242ac1c0002row14_col24\" class=\"data row14 col24\" >-0.00</td>\n",
              "                        <td id=\"T_b2b33cd4_59a6_11eb_b6e2_0242ac1c0002row14_col25\" class=\"data row14 col25\" >0.00</td>\n",
              "                        <td id=\"T_b2b33cd4_59a6_11eb_b6e2_0242ac1c0002row14_col26\" class=\"data row14 col26\" >-0.00</td>\n",
              "                        <td id=\"T_b2b33cd4_59a6_11eb_b6e2_0242ac1c0002row14_col27\" class=\"data row14 col27\" >-0.00</td>\n",
              "                        <td id=\"T_b2b33cd4_59a6_11eb_b6e2_0242ac1c0002row14_col28\" class=\"data row14 col28\" >-0.00</td>\n",
              "            </tr>\n",
              "            <tr>\n",
              "                        <th id=\"T_b2b33cd4_59a6_11eb_b6e2_0242ac1c0002level0_row15\" class=\"row_heading level0 row15\" >S15</th>\n",
              "                        <td id=\"T_b2b33cd4_59a6_11eb_b6e2_0242ac1c0002row15_col0\" class=\"data row15 col0\" >-0.18</td>\n",
              "                        <td id=\"T_b2b33cd4_59a6_11eb_b6e2_0242ac1c0002row15_col1\" class=\"data row15 col1\" >-0.00</td>\n",
              "                        <td id=\"T_b2b33cd4_59a6_11eb_b6e2_0242ac1c0002row15_col2\" class=\"data row15 col2\" >0.00</td>\n",
              "                        <td id=\"T_b2b33cd4_59a6_11eb_b6e2_0242ac1c0002row15_col3\" class=\"data row15 col3\" >0.00</td>\n",
              "                        <td id=\"T_b2b33cd4_59a6_11eb_b6e2_0242ac1c0002row15_col4\" class=\"data row15 col4\" >0.00</td>\n",
              "                        <td id=\"T_b2b33cd4_59a6_11eb_b6e2_0242ac1c0002row15_col5\" class=\"data row15 col5\" >-0.00</td>\n",
              "                        <td id=\"T_b2b33cd4_59a6_11eb_b6e2_0242ac1c0002row15_col6\" class=\"data row15 col6\" >-0.00</td>\n",
              "                        <td id=\"T_b2b33cd4_59a6_11eb_b6e2_0242ac1c0002row15_col7\" class=\"data row15 col7\" >0.00</td>\n",
              "                        <td id=\"T_b2b33cd4_59a6_11eb_b6e2_0242ac1c0002row15_col8\" class=\"data row15 col8\" >0.00</td>\n",
              "                        <td id=\"T_b2b33cd4_59a6_11eb_b6e2_0242ac1c0002row15_col9\" class=\"data row15 col9\" >0.00</td>\n",
              "                        <td id=\"T_b2b33cd4_59a6_11eb_b6e2_0242ac1c0002row15_col10\" class=\"data row15 col10\" >0.00</td>\n",
              "                        <td id=\"T_b2b33cd4_59a6_11eb_b6e2_0242ac1c0002row15_col11\" class=\"data row15 col11\" >-0.00</td>\n",
              "                        <td id=\"T_b2b33cd4_59a6_11eb_b6e2_0242ac1c0002row15_col12\" class=\"data row15 col12\" >0.00</td>\n",
              "                        <td id=\"T_b2b33cd4_59a6_11eb_b6e2_0242ac1c0002row15_col13\" class=\"data row15 col13\" >0.00</td>\n",
              "                        <td id=\"T_b2b33cd4_59a6_11eb_b6e2_0242ac1c0002row15_col14\" class=\"data row15 col14\" >0.00</td>\n",
              "                        <td id=\"T_b2b33cd4_59a6_11eb_b6e2_0242ac1c0002row15_col15\" class=\"data row15 col15\" >1.00</td>\n",
              "                        <td id=\"T_b2b33cd4_59a6_11eb_b6e2_0242ac1c0002row15_col16\" class=\"data row15 col16\" >0.00</td>\n",
              "                        <td id=\"T_b2b33cd4_59a6_11eb_b6e2_0242ac1c0002row15_col17\" class=\"data row15 col17\" >-0.00</td>\n",
              "                        <td id=\"T_b2b33cd4_59a6_11eb_b6e2_0242ac1c0002row15_col18\" class=\"data row15 col18\" >0.00</td>\n",
              "                        <td id=\"T_b2b33cd4_59a6_11eb_b6e2_0242ac1c0002row15_col19\" class=\"data row15 col19\" >-0.00</td>\n",
              "                        <td id=\"T_b2b33cd4_59a6_11eb_b6e2_0242ac1c0002row15_col20\" class=\"data row15 col20\" >0.00</td>\n",
              "                        <td id=\"T_b2b33cd4_59a6_11eb_b6e2_0242ac1c0002row15_col21\" class=\"data row15 col21\" >0.00</td>\n",
              "                        <td id=\"T_b2b33cd4_59a6_11eb_b6e2_0242ac1c0002row15_col22\" class=\"data row15 col22\" >-0.00</td>\n",
              "                        <td id=\"T_b2b33cd4_59a6_11eb_b6e2_0242ac1c0002row15_col23\" class=\"data row15 col23\" >-0.00</td>\n",
              "                        <td id=\"T_b2b33cd4_59a6_11eb_b6e2_0242ac1c0002row15_col24\" class=\"data row15 col24\" >-0.00</td>\n",
              "                        <td id=\"T_b2b33cd4_59a6_11eb_b6e2_0242ac1c0002row15_col25\" class=\"data row15 col25\" >-0.00</td>\n",
              "                        <td id=\"T_b2b33cd4_59a6_11eb_b6e2_0242ac1c0002row15_col26\" class=\"data row15 col26\" >0.00</td>\n",
              "                        <td id=\"T_b2b33cd4_59a6_11eb_b6e2_0242ac1c0002row15_col27\" class=\"data row15 col27\" >-0.00</td>\n",
              "                        <td id=\"T_b2b33cd4_59a6_11eb_b6e2_0242ac1c0002row15_col28\" class=\"data row15 col28\" >-0.00</td>\n",
              "            </tr>\n",
              "            <tr>\n",
              "                        <th id=\"T_b2b33cd4_59a6_11eb_b6e2_0242ac1c0002level0_row16\" class=\"row_heading level0 row16\" >S16</th>\n",
              "                        <td id=\"T_b2b33cd4_59a6_11eb_b6e2_0242ac1c0002row16_col0\" class=\"data row16 col0\" >0.01</td>\n",
              "                        <td id=\"T_b2b33cd4_59a6_11eb_b6e2_0242ac1c0002row16_col1\" class=\"data row16 col1\" >-0.00</td>\n",
              "                        <td id=\"T_b2b33cd4_59a6_11eb_b6e2_0242ac1c0002row16_col2\" class=\"data row16 col2\" >-0.00</td>\n",
              "                        <td id=\"T_b2b33cd4_59a6_11eb_b6e2_0242ac1c0002row16_col3\" class=\"data row16 col3\" >-0.00</td>\n",
              "                        <td id=\"T_b2b33cd4_59a6_11eb_b6e2_0242ac1c0002row16_col4\" class=\"data row16 col4\" >0.00</td>\n",
              "                        <td id=\"T_b2b33cd4_59a6_11eb_b6e2_0242ac1c0002row16_col5\" class=\"data row16 col5\" >-0.00</td>\n",
              "                        <td id=\"T_b2b33cd4_59a6_11eb_b6e2_0242ac1c0002row16_col6\" class=\"data row16 col6\" >0.00</td>\n",
              "                        <td id=\"T_b2b33cd4_59a6_11eb_b6e2_0242ac1c0002row16_col7\" class=\"data row16 col7\" >-0.00</td>\n",
              "                        <td id=\"T_b2b33cd4_59a6_11eb_b6e2_0242ac1c0002row16_col8\" class=\"data row16 col8\" >-0.00</td>\n",
              "                        <td id=\"T_b2b33cd4_59a6_11eb_b6e2_0242ac1c0002row16_col9\" class=\"data row16 col9\" >0.00</td>\n",
              "                        <td id=\"T_b2b33cd4_59a6_11eb_b6e2_0242ac1c0002row16_col10\" class=\"data row16 col10\" >0.00</td>\n",
              "                        <td id=\"T_b2b33cd4_59a6_11eb_b6e2_0242ac1c0002row16_col11\" class=\"data row16 col11\" >0.00</td>\n",
              "                        <td id=\"T_b2b33cd4_59a6_11eb_b6e2_0242ac1c0002row16_col12\" class=\"data row16 col12\" >-0.00</td>\n",
              "                        <td id=\"T_b2b33cd4_59a6_11eb_b6e2_0242ac1c0002row16_col13\" class=\"data row16 col13\" >0.00</td>\n",
              "                        <td id=\"T_b2b33cd4_59a6_11eb_b6e2_0242ac1c0002row16_col14\" class=\"data row16 col14\" >0.00</td>\n",
              "                        <td id=\"T_b2b33cd4_59a6_11eb_b6e2_0242ac1c0002row16_col15\" class=\"data row16 col15\" >0.00</td>\n",
              "                        <td id=\"T_b2b33cd4_59a6_11eb_b6e2_0242ac1c0002row16_col16\" class=\"data row16 col16\" >1.00</td>\n",
              "                        <td id=\"T_b2b33cd4_59a6_11eb_b6e2_0242ac1c0002row16_col17\" class=\"data row16 col17\" >-0.00</td>\n",
              "                        <td id=\"T_b2b33cd4_59a6_11eb_b6e2_0242ac1c0002row16_col18\" class=\"data row16 col18\" >-0.00</td>\n",
              "                        <td id=\"T_b2b33cd4_59a6_11eb_b6e2_0242ac1c0002row16_col19\" class=\"data row16 col19\" >0.00</td>\n",
              "                        <td id=\"T_b2b33cd4_59a6_11eb_b6e2_0242ac1c0002row16_col20\" class=\"data row16 col20\" >0.00</td>\n",
              "                        <td id=\"T_b2b33cd4_59a6_11eb_b6e2_0242ac1c0002row16_col21\" class=\"data row16 col21\" >-0.00</td>\n",
              "                        <td id=\"T_b2b33cd4_59a6_11eb_b6e2_0242ac1c0002row16_col22\" class=\"data row16 col22\" >0.00</td>\n",
              "                        <td id=\"T_b2b33cd4_59a6_11eb_b6e2_0242ac1c0002row16_col23\" class=\"data row16 col23\" >0.00</td>\n",
              "                        <td id=\"T_b2b33cd4_59a6_11eb_b6e2_0242ac1c0002row16_col24\" class=\"data row16 col24\" >-0.00</td>\n",
              "                        <td id=\"T_b2b33cd4_59a6_11eb_b6e2_0242ac1c0002row16_col25\" class=\"data row16 col25\" >0.00</td>\n",
              "                        <td id=\"T_b2b33cd4_59a6_11eb_b6e2_0242ac1c0002row16_col26\" class=\"data row16 col26\" >-0.00</td>\n",
              "                        <td id=\"T_b2b33cd4_59a6_11eb_b6e2_0242ac1c0002row16_col27\" class=\"data row16 col27\" >0.00</td>\n",
              "                        <td id=\"T_b2b33cd4_59a6_11eb_b6e2_0242ac1c0002row16_col28\" class=\"data row16 col28\" >0.00</td>\n",
              "            </tr>\n",
              "            <tr>\n",
              "                        <th id=\"T_b2b33cd4_59a6_11eb_b6e2_0242ac1c0002level0_row17\" class=\"row_heading level0 row17\" >S17</th>\n",
              "                        <td id=\"T_b2b33cd4_59a6_11eb_b6e2_0242ac1c0002row17_col0\" class=\"data row17 col0\" >-0.07</td>\n",
              "                        <td id=\"T_b2b33cd4_59a6_11eb_b6e2_0242ac1c0002row17_col1\" class=\"data row17 col1\" >0.00</td>\n",
              "                        <td id=\"T_b2b33cd4_59a6_11eb_b6e2_0242ac1c0002row17_col2\" class=\"data row17 col2\" >0.00</td>\n",
              "                        <td id=\"T_b2b33cd4_59a6_11eb_b6e2_0242ac1c0002row17_col3\" class=\"data row17 col3\" >-0.00</td>\n",
              "                        <td id=\"T_b2b33cd4_59a6_11eb_b6e2_0242ac1c0002row17_col4\" class=\"data row17 col4\" >0.00</td>\n",
              "                        <td id=\"T_b2b33cd4_59a6_11eb_b6e2_0242ac1c0002row17_col5\" class=\"data row17 col5\" >0.00</td>\n",
              "                        <td id=\"T_b2b33cd4_59a6_11eb_b6e2_0242ac1c0002row17_col6\" class=\"data row17 col6\" >0.00</td>\n",
              "                        <td id=\"T_b2b33cd4_59a6_11eb_b6e2_0242ac1c0002row17_col7\" class=\"data row17 col7\" >-0.00</td>\n",
              "                        <td id=\"T_b2b33cd4_59a6_11eb_b6e2_0242ac1c0002row17_col8\" class=\"data row17 col8\" >0.00</td>\n",
              "                        <td id=\"T_b2b33cd4_59a6_11eb_b6e2_0242ac1c0002row17_col9\" class=\"data row17 col9\" >-0.00</td>\n",
              "                        <td id=\"T_b2b33cd4_59a6_11eb_b6e2_0242ac1c0002row17_col10\" class=\"data row17 col10\" >-0.00</td>\n",
              "                        <td id=\"T_b2b33cd4_59a6_11eb_b6e2_0242ac1c0002row17_col11\" class=\"data row17 col11\" >0.00</td>\n",
              "                        <td id=\"T_b2b33cd4_59a6_11eb_b6e2_0242ac1c0002row17_col12\" class=\"data row17 col12\" >-0.00</td>\n",
              "                        <td id=\"T_b2b33cd4_59a6_11eb_b6e2_0242ac1c0002row17_col13\" class=\"data row17 col13\" >0.00</td>\n",
              "                        <td id=\"T_b2b33cd4_59a6_11eb_b6e2_0242ac1c0002row17_col14\" class=\"data row17 col14\" >-0.00</td>\n",
              "                        <td id=\"T_b2b33cd4_59a6_11eb_b6e2_0242ac1c0002row17_col15\" class=\"data row17 col15\" >-0.00</td>\n",
              "                        <td id=\"T_b2b33cd4_59a6_11eb_b6e2_0242ac1c0002row17_col16\" class=\"data row17 col16\" >-0.00</td>\n",
              "                        <td id=\"T_b2b33cd4_59a6_11eb_b6e2_0242ac1c0002row17_col17\" class=\"data row17 col17\" >1.00</td>\n",
              "                        <td id=\"T_b2b33cd4_59a6_11eb_b6e2_0242ac1c0002row17_col18\" class=\"data row17 col18\" >-0.00</td>\n",
              "                        <td id=\"T_b2b33cd4_59a6_11eb_b6e2_0242ac1c0002row17_col19\" class=\"data row17 col19\" >0.00</td>\n",
              "                        <td id=\"T_b2b33cd4_59a6_11eb_b6e2_0242ac1c0002row17_col20\" class=\"data row17 col20\" >-0.00</td>\n",
              "                        <td id=\"T_b2b33cd4_59a6_11eb_b6e2_0242ac1c0002row17_col21\" class=\"data row17 col21\" >0.00</td>\n",
              "                        <td id=\"T_b2b33cd4_59a6_11eb_b6e2_0242ac1c0002row17_col22\" class=\"data row17 col22\" >0.00</td>\n",
              "                        <td id=\"T_b2b33cd4_59a6_11eb_b6e2_0242ac1c0002row17_col23\" class=\"data row17 col23\" >-0.00</td>\n",
              "                        <td id=\"T_b2b33cd4_59a6_11eb_b6e2_0242ac1c0002row17_col24\" class=\"data row17 col24\" >-0.00</td>\n",
              "                        <td id=\"T_b2b33cd4_59a6_11eb_b6e2_0242ac1c0002row17_col25\" class=\"data row17 col25\" >0.00</td>\n",
              "                        <td id=\"T_b2b33cd4_59a6_11eb_b6e2_0242ac1c0002row17_col26\" class=\"data row17 col26\" >0.00</td>\n",
              "                        <td id=\"T_b2b33cd4_59a6_11eb_b6e2_0242ac1c0002row17_col27\" class=\"data row17 col27\" >-0.00</td>\n",
              "                        <td id=\"T_b2b33cd4_59a6_11eb_b6e2_0242ac1c0002row17_col28\" class=\"data row17 col28\" >0.00</td>\n",
              "            </tr>\n",
              "            <tr>\n",
              "                        <th id=\"T_b2b33cd4_59a6_11eb_b6e2_0242ac1c0002level0_row18\" class=\"row_heading level0 row18\" >S18</th>\n",
              "                        <td id=\"T_b2b33cd4_59a6_11eb_b6e2_0242ac1c0002row18_col0\" class=\"data row18 col0\" >0.09</td>\n",
              "                        <td id=\"T_b2b33cd4_59a6_11eb_b6e2_0242ac1c0002row18_col1\" class=\"data row18 col1\" >-0.00</td>\n",
              "                        <td id=\"T_b2b33cd4_59a6_11eb_b6e2_0242ac1c0002row18_col2\" class=\"data row18 col2\" >-0.00</td>\n",
              "                        <td id=\"T_b2b33cd4_59a6_11eb_b6e2_0242ac1c0002row18_col3\" class=\"data row18 col3\" >-0.00</td>\n",
              "                        <td id=\"T_b2b33cd4_59a6_11eb_b6e2_0242ac1c0002row18_col4\" class=\"data row18 col4\" >-0.00</td>\n",
              "                        <td id=\"T_b2b33cd4_59a6_11eb_b6e2_0242ac1c0002row18_col5\" class=\"data row18 col5\" >0.00</td>\n",
              "                        <td id=\"T_b2b33cd4_59a6_11eb_b6e2_0242ac1c0002row18_col6\" class=\"data row18 col6\" >0.00</td>\n",
              "                        <td id=\"T_b2b33cd4_59a6_11eb_b6e2_0242ac1c0002row18_col7\" class=\"data row18 col7\" >-0.00</td>\n",
              "                        <td id=\"T_b2b33cd4_59a6_11eb_b6e2_0242ac1c0002row18_col8\" class=\"data row18 col8\" >0.00</td>\n",
              "                        <td id=\"T_b2b33cd4_59a6_11eb_b6e2_0242ac1c0002row18_col9\" class=\"data row18 col9\" >0.00</td>\n",
              "                        <td id=\"T_b2b33cd4_59a6_11eb_b6e2_0242ac1c0002row18_col10\" class=\"data row18 col10\" >-0.00</td>\n",
              "                        <td id=\"T_b2b33cd4_59a6_11eb_b6e2_0242ac1c0002row18_col11\" class=\"data row18 col11\" >-0.00</td>\n",
              "                        <td id=\"T_b2b33cd4_59a6_11eb_b6e2_0242ac1c0002row18_col12\" class=\"data row18 col12\" >-0.00</td>\n",
              "                        <td id=\"T_b2b33cd4_59a6_11eb_b6e2_0242ac1c0002row18_col13\" class=\"data row18 col13\" >-0.00</td>\n",
              "                        <td id=\"T_b2b33cd4_59a6_11eb_b6e2_0242ac1c0002row18_col14\" class=\"data row18 col14\" >-0.00</td>\n",
              "                        <td id=\"T_b2b33cd4_59a6_11eb_b6e2_0242ac1c0002row18_col15\" class=\"data row18 col15\" >0.00</td>\n",
              "                        <td id=\"T_b2b33cd4_59a6_11eb_b6e2_0242ac1c0002row18_col16\" class=\"data row18 col16\" >-0.00</td>\n",
              "                        <td id=\"T_b2b33cd4_59a6_11eb_b6e2_0242ac1c0002row18_col17\" class=\"data row18 col17\" >-0.00</td>\n",
              "                        <td id=\"T_b2b33cd4_59a6_11eb_b6e2_0242ac1c0002row18_col18\" class=\"data row18 col18\" >1.00</td>\n",
              "                        <td id=\"T_b2b33cd4_59a6_11eb_b6e2_0242ac1c0002row18_col19\" class=\"data row18 col19\" >0.00</td>\n",
              "                        <td id=\"T_b2b33cd4_59a6_11eb_b6e2_0242ac1c0002row18_col20\" class=\"data row18 col20\" >0.00</td>\n",
              "                        <td id=\"T_b2b33cd4_59a6_11eb_b6e2_0242ac1c0002row18_col21\" class=\"data row18 col21\" >-0.00</td>\n",
              "                        <td id=\"T_b2b33cd4_59a6_11eb_b6e2_0242ac1c0002row18_col22\" class=\"data row18 col22\" >0.00</td>\n",
              "                        <td id=\"T_b2b33cd4_59a6_11eb_b6e2_0242ac1c0002row18_col23\" class=\"data row18 col23\" >-0.00</td>\n",
              "                        <td id=\"T_b2b33cd4_59a6_11eb_b6e2_0242ac1c0002row18_col24\" class=\"data row18 col24\" >0.00</td>\n",
              "                        <td id=\"T_b2b33cd4_59a6_11eb_b6e2_0242ac1c0002row18_col25\" class=\"data row18 col25\" >0.00</td>\n",
              "                        <td id=\"T_b2b33cd4_59a6_11eb_b6e2_0242ac1c0002row18_col26\" class=\"data row18 col26\" >-0.00</td>\n",
              "                        <td id=\"T_b2b33cd4_59a6_11eb_b6e2_0242ac1c0002row18_col27\" class=\"data row18 col27\" >-0.00</td>\n",
              "                        <td id=\"T_b2b33cd4_59a6_11eb_b6e2_0242ac1c0002row18_col28\" class=\"data row18 col28\" >0.00</td>\n",
              "            </tr>\n",
              "            <tr>\n",
              "                        <th id=\"T_b2b33cd4_59a6_11eb_b6e2_0242ac1c0002level0_row19\" class=\"row_heading level0 row19\" >S19</th>\n",
              "                        <td id=\"T_b2b33cd4_59a6_11eb_b6e2_0242ac1c0002row19_col0\" class=\"data row19 col0\" >0.03</td>\n",
              "                        <td id=\"T_b2b33cd4_59a6_11eb_b6e2_0242ac1c0002row19_col1\" class=\"data row19 col1\" >-0.00</td>\n",
              "                        <td id=\"T_b2b33cd4_59a6_11eb_b6e2_0242ac1c0002row19_col2\" class=\"data row19 col2\" >-0.00</td>\n",
              "                        <td id=\"T_b2b33cd4_59a6_11eb_b6e2_0242ac1c0002row19_col3\" class=\"data row19 col3\" >-0.00</td>\n",
              "                        <td id=\"T_b2b33cd4_59a6_11eb_b6e2_0242ac1c0002row19_col4\" class=\"data row19 col4\" >-0.00</td>\n",
              "                        <td id=\"T_b2b33cd4_59a6_11eb_b6e2_0242ac1c0002row19_col5\" class=\"data row19 col5\" >0.00</td>\n",
              "                        <td id=\"T_b2b33cd4_59a6_11eb_b6e2_0242ac1c0002row19_col6\" class=\"data row19 col6\" >0.00</td>\n",
              "                        <td id=\"T_b2b33cd4_59a6_11eb_b6e2_0242ac1c0002row19_col7\" class=\"data row19 col7\" >-0.00</td>\n",
              "                        <td id=\"T_b2b33cd4_59a6_11eb_b6e2_0242ac1c0002row19_col8\" class=\"data row19 col8\" >0.00</td>\n",
              "                        <td id=\"T_b2b33cd4_59a6_11eb_b6e2_0242ac1c0002row19_col9\" class=\"data row19 col9\" >-0.00</td>\n",
              "                        <td id=\"T_b2b33cd4_59a6_11eb_b6e2_0242ac1c0002row19_col10\" class=\"data row19 col10\" >-0.00</td>\n",
              "                        <td id=\"T_b2b33cd4_59a6_11eb_b6e2_0242ac1c0002row19_col11\" class=\"data row19 col11\" >-0.00</td>\n",
              "                        <td id=\"T_b2b33cd4_59a6_11eb_b6e2_0242ac1c0002row19_col12\" class=\"data row19 col12\" >-0.00</td>\n",
              "                        <td id=\"T_b2b33cd4_59a6_11eb_b6e2_0242ac1c0002row19_col13\" class=\"data row19 col13\" >0.00</td>\n",
              "                        <td id=\"T_b2b33cd4_59a6_11eb_b6e2_0242ac1c0002row19_col14\" class=\"data row19 col14\" >0.00</td>\n",
              "                        <td id=\"T_b2b33cd4_59a6_11eb_b6e2_0242ac1c0002row19_col15\" class=\"data row19 col15\" >-0.00</td>\n",
              "                        <td id=\"T_b2b33cd4_59a6_11eb_b6e2_0242ac1c0002row19_col16\" class=\"data row19 col16\" >0.00</td>\n",
              "                        <td id=\"T_b2b33cd4_59a6_11eb_b6e2_0242ac1c0002row19_col17\" class=\"data row19 col17\" >0.00</td>\n",
              "                        <td id=\"T_b2b33cd4_59a6_11eb_b6e2_0242ac1c0002row19_col18\" class=\"data row19 col18\" >0.00</td>\n",
              "                        <td id=\"T_b2b33cd4_59a6_11eb_b6e2_0242ac1c0002row19_col19\" class=\"data row19 col19\" >1.00</td>\n",
              "                        <td id=\"T_b2b33cd4_59a6_11eb_b6e2_0242ac1c0002row19_col20\" class=\"data row19 col20\" >0.00</td>\n",
              "                        <td id=\"T_b2b33cd4_59a6_11eb_b6e2_0242ac1c0002row19_col21\" class=\"data row19 col21\" >-0.00</td>\n",
              "                        <td id=\"T_b2b33cd4_59a6_11eb_b6e2_0242ac1c0002row19_col22\" class=\"data row19 col22\" >0.00</td>\n",
              "                        <td id=\"T_b2b33cd4_59a6_11eb_b6e2_0242ac1c0002row19_col23\" class=\"data row19 col23\" >-0.00</td>\n",
              "                        <td id=\"T_b2b33cd4_59a6_11eb_b6e2_0242ac1c0002row19_col24\" class=\"data row19 col24\" >0.00</td>\n",
              "                        <td id=\"T_b2b33cd4_59a6_11eb_b6e2_0242ac1c0002row19_col25\" class=\"data row19 col25\" >0.00</td>\n",
              "                        <td id=\"T_b2b33cd4_59a6_11eb_b6e2_0242ac1c0002row19_col26\" class=\"data row19 col26\" >0.00</td>\n",
              "                        <td id=\"T_b2b33cd4_59a6_11eb_b6e2_0242ac1c0002row19_col27\" class=\"data row19 col27\" >-0.00</td>\n",
              "                        <td id=\"T_b2b33cd4_59a6_11eb_b6e2_0242ac1c0002row19_col28\" class=\"data row19 col28\" >0.00</td>\n",
              "            </tr>\n",
              "            <tr>\n",
              "                        <th id=\"T_b2b33cd4_59a6_11eb_b6e2_0242ac1c0002level0_row20\" class=\"row_heading level0 row20\" >S20</th>\n",
              "                        <td id=\"T_b2b33cd4_59a6_11eb_b6e2_0242ac1c0002row20_col0\" class=\"data row20 col0\" >-0.05</td>\n",
              "                        <td id=\"T_b2b33cd4_59a6_11eb_b6e2_0242ac1c0002row20_col1\" class=\"data row20 col1\" >0.00</td>\n",
              "                        <td id=\"T_b2b33cd4_59a6_11eb_b6e2_0242ac1c0002row20_col2\" class=\"data row20 col2\" >0.00</td>\n",
              "                        <td id=\"T_b2b33cd4_59a6_11eb_b6e2_0242ac1c0002row20_col3\" class=\"data row20 col3\" >0.00</td>\n",
              "                        <td id=\"T_b2b33cd4_59a6_11eb_b6e2_0242ac1c0002row20_col4\" class=\"data row20 col4\" >-0.00</td>\n",
              "                        <td id=\"T_b2b33cd4_59a6_11eb_b6e2_0242ac1c0002row20_col5\" class=\"data row20 col5\" >-0.00</td>\n",
              "                        <td id=\"T_b2b33cd4_59a6_11eb_b6e2_0242ac1c0002row20_col6\" class=\"data row20 col6\" >-0.00</td>\n",
              "                        <td id=\"T_b2b33cd4_59a6_11eb_b6e2_0242ac1c0002row20_col7\" class=\"data row20 col7\" >0.00</td>\n",
              "                        <td id=\"T_b2b33cd4_59a6_11eb_b6e2_0242ac1c0002row20_col8\" class=\"data row20 col8\" >-0.00</td>\n",
              "                        <td id=\"T_b2b33cd4_59a6_11eb_b6e2_0242ac1c0002row20_col9\" class=\"data row20 col9\" >0.00</td>\n",
              "                        <td id=\"T_b2b33cd4_59a6_11eb_b6e2_0242ac1c0002row20_col10\" class=\"data row20 col10\" >0.00</td>\n",
              "                        <td id=\"T_b2b33cd4_59a6_11eb_b6e2_0242ac1c0002row20_col11\" class=\"data row20 col11\" >0.00</td>\n",
              "                        <td id=\"T_b2b33cd4_59a6_11eb_b6e2_0242ac1c0002row20_col12\" class=\"data row20 col12\" >0.00</td>\n",
              "                        <td id=\"T_b2b33cd4_59a6_11eb_b6e2_0242ac1c0002row20_col13\" class=\"data row20 col13\" >0.00</td>\n",
              "                        <td id=\"T_b2b33cd4_59a6_11eb_b6e2_0242ac1c0002row20_col14\" class=\"data row20 col14\" >-0.00</td>\n",
              "                        <td id=\"T_b2b33cd4_59a6_11eb_b6e2_0242ac1c0002row20_col15\" class=\"data row20 col15\" >0.00</td>\n",
              "                        <td id=\"T_b2b33cd4_59a6_11eb_b6e2_0242ac1c0002row20_col16\" class=\"data row20 col16\" >0.00</td>\n",
              "                        <td id=\"T_b2b33cd4_59a6_11eb_b6e2_0242ac1c0002row20_col17\" class=\"data row20 col17\" >-0.00</td>\n",
              "                        <td id=\"T_b2b33cd4_59a6_11eb_b6e2_0242ac1c0002row20_col18\" class=\"data row20 col18\" >0.00</td>\n",
              "                        <td id=\"T_b2b33cd4_59a6_11eb_b6e2_0242ac1c0002row20_col19\" class=\"data row20 col19\" >0.00</td>\n",
              "                        <td id=\"T_b2b33cd4_59a6_11eb_b6e2_0242ac1c0002row20_col20\" class=\"data row20 col20\" >1.00</td>\n",
              "                        <td id=\"T_b2b33cd4_59a6_11eb_b6e2_0242ac1c0002row20_col21\" class=\"data row20 col21\" >-0.00</td>\n",
              "                        <td id=\"T_b2b33cd4_59a6_11eb_b6e2_0242ac1c0002row20_col22\" class=\"data row20 col22\" >0.00</td>\n",
              "                        <td id=\"T_b2b33cd4_59a6_11eb_b6e2_0242ac1c0002row20_col23\" class=\"data row20 col23\" >-0.00</td>\n",
              "                        <td id=\"T_b2b33cd4_59a6_11eb_b6e2_0242ac1c0002row20_col24\" class=\"data row20 col24\" >0.00</td>\n",
              "                        <td id=\"T_b2b33cd4_59a6_11eb_b6e2_0242ac1c0002row20_col25\" class=\"data row20 col25\" >-0.00</td>\n",
              "                        <td id=\"T_b2b33cd4_59a6_11eb_b6e2_0242ac1c0002row20_col26\" class=\"data row20 col26\" >0.00</td>\n",
              "                        <td id=\"T_b2b33cd4_59a6_11eb_b6e2_0242ac1c0002row20_col27\" class=\"data row20 col27\" >-0.00</td>\n",
              "                        <td id=\"T_b2b33cd4_59a6_11eb_b6e2_0242ac1c0002row20_col28\" class=\"data row20 col28\" >0.00</td>\n",
              "            </tr>\n",
              "            <tr>\n",
              "                        <th id=\"T_b2b33cd4_59a6_11eb_b6e2_0242ac1c0002level0_row21\" class=\"row_heading level0 row21\" >S21</th>\n",
              "                        <td id=\"T_b2b33cd4_59a6_11eb_b6e2_0242ac1c0002row21_col0\" class=\"data row21 col0\" >0.04</td>\n",
              "                        <td id=\"T_b2b33cd4_59a6_11eb_b6e2_0242ac1c0002row21_col1\" class=\"data row21 col1\" >-0.00</td>\n",
              "                        <td id=\"T_b2b33cd4_59a6_11eb_b6e2_0242ac1c0002row21_col2\" class=\"data row21 col2\" >0.00</td>\n",
              "                        <td id=\"T_b2b33cd4_59a6_11eb_b6e2_0242ac1c0002row21_col3\" class=\"data row21 col3\" >0.00</td>\n",
              "                        <td id=\"T_b2b33cd4_59a6_11eb_b6e2_0242ac1c0002row21_col4\" class=\"data row21 col4\" >-0.00</td>\n",
              "                        <td id=\"T_b2b33cd4_59a6_11eb_b6e2_0242ac1c0002row21_col5\" class=\"data row21 col5\" >-0.00</td>\n",
              "                        <td id=\"T_b2b33cd4_59a6_11eb_b6e2_0242ac1c0002row21_col6\" class=\"data row21 col6\" >0.00</td>\n",
              "                        <td id=\"T_b2b33cd4_59a6_11eb_b6e2_0242ac1c0002row21_col7\" class=\"data row21 col7\" >0.00</td>\n",
              "                        <td id=\"T_b2b33cd4_59a6_11eb_b6e2_0242ac1c0002row21_col8\" class=\"data row21 col8\" >-0.00</td>\n",
              "                        <td id=\"T_b2b33cd4_59a6_11eb_b6e2_0242ac1c0002row21_col9\" class=\"data row21 col9\" >0.00</td>\n",
              "                        <td id=\"T_b2b33cd4_59a6_11eb_b6e2_0242ac1c0002row21_col10\" class=\"data row21 col10\" >-0.00</td>\n",
              "                        <td id=\"T_b2b33cd4_59a6_11eb_b6e2_0242ac1c0002row21_col11\" class=\"data row21 col11\" >0.00</td>\n",
              "                        <td id=\"T_b2b33cd4_59a6_11eb_b6e2_0242ac1c0002row21_col12\" class=\"data row21 col12\" >0.00</td>\n",
              "                        <td id=\"T_b2b33cd4_59a6_11eb_b6e2_0242ac1c0002row21_col13\" class=\"data row21 col13\" >-0.00</td>\n",
              "                        <td id=\"T_b2b33cd4_59a6_11eb_b6e2_0242ac1c0002row21_col14\" class=\"data row21 col14\" >-0.00</td>\n",
              "                        <td id=\"T_b2b33cd4_59a6_11eb_b6e2_0242ac1c0002row21_col15\" class=\"data row21 col15\" >0.00</td>\n",
              "                        <td id=\"T_b2b33cd4_59a6_11eb_b6e2_0242ac1c0002row21_col16\" class=\"data row21 col16\" >-0.00</td>\n",
              "                        <td id=\"T_b2b33cd4_59a6_11eb_b6e2_0242ac1c0002row21_col17\" class=\"data row21 col17\" >0.00</td>\n",
              "                        <td id=\"T_b2b33cd4_59a6_11eb_b6e2_0242ac1c0002row21_col18\" class=\"data row21 col18\" >-0.00</td>\n",
              "                        <td id=\"T_b2b33cd4_59a6_11eb_b6e2_0242ac1c0002row21_col19\" class=\"data row21 col19\" >-0.00</td>\n",
              "                        <td id=\"T_b2b33cd4_59a6_11eb_b6e2_0242ac1c0002row21_col20\" class=\"data row21 col20\" >-0.00</td>\n",
              "                        <td id=\"T_b2b33cd4_59a6_11eb_b6e2_0242ac1c0002row21_col21\" class=\"data row21 col21\" >1.00</td>\n",
              "                        <td id=\"T_b2b33cd4_59a6_11eb_b6e2_0242ac1c0002row21_col22\" class=\"data row21 col22\" >-0.00</td>\n",
              "                        <td id=\"T_b2b33cd4_59a6_11eb_b6e2_0242ac1c0002row21_col23\" class=\"data row21 col23\" >0.00</td>\n",
              "                        <td id=\"T_b2b33cd4_59a6_11eb_b6e2_0242ac1c0002row21_col24\" class=\"data row21 col24\" >0.00</td>\n",
              "                        <td id=\"T_b2b33cd4_59a6_11eb_b6e2_0242ac1c0002row21_col25\" class=\"data row21 col25\" >-0.00</td>\n",
              "                        <td id=\"T_b2b33cd4_59a6_11eb_b6e2_0242ac1c0002row21_col26\" class=\"data row21 col26\" >0.00</td>\n",
              "                        <td id=\"T_b2b33cd4_59a6_11eb_b6e2_0242ac1c0002row21_col27\" class=\"data row21 col27\" >-0.00</td>\n",
              "                        <td id=\"T_b2b33cd4_59a6_11eb_b6e2_0242ac1c0002row21_col28\" class=\"data row21 col28\" >0.00</td>\n",
              "            </tr>\n",
              "            <tr>\n",
              "                        <th id=\"T_b2b33cd4_59a6_11eb_b6e2_0242ac1c0002level0_row22\" class=\"row_heading level0 row22\" >S22</th>\n",
              "                        <td id=\"T_b2b33cd4_59a6_11eb_b6e2_0242ac1c0002row22_col0\" class=\"data row22 col0\" >0.14</td>\n",
              "                        <td id=\"T_b2b33cd4_59a6_11eb_b6e2_0242ac1c0002row22_col1\" class=\"data row22 col1\" >0.00</td>\n",
              "                        <td id=\"T_b2b33cd4_59a6_11eb_b6e2_0242ac1c0002row22_col2\" class=\"data row22 col2\" >-0.00</td>\n",
              "                        <td id=\"T_b2b33cd4_59a6_11eb_b6e2_0242ac1c0002row22_col3\" class=\"data row22 col3\" >-0.00</td>\n",
              "                        <td id=\"T_b2b33cd4_59a6_11eb_b6e2_0242ac1c0002row22_col4\" class=\"data row22 col4\" >0.00</td>\n",
              "                        <td id=\"T_b2b33cd4_59a6_11eb_b6e2_0242ac1c0002row22_col5\" class=\"data row22 col5\" >0.00</td>\n",
              "                        <td id=\"T_b2b33cd4_59a6_11eb_b6e2_0242ac1c0002row22_col6\" class=\"data row22 col6\" >-0.00</td>\n",
              "                        <td id=\"T_b2b33cd4_59a6_11eb_b6e2_0242ac1c0002row22_col7\" class=\"data row22 col7\" >-0.00</td>\n",
              "                        <td id=\"T_b2b33cd4_59a6_11eb_b6e2_0242ac1c0002row22_col8\" class=\"data row22 col8\" >-0.00</td>\n",
              "                        <td id=\"T_b2b33cd4_59a6_11eb_b6e2_0242ac1c0002row22_col9\" class=\"data row22 col9\" >-0.00</td>\n",
              "                        <td id=\"T_b2b33cd4_59a6_11eb_b6e2_0242ac1c0002row22_col10\" class=\"data row22 col10\" >-0.00</td>\n",
              "                        <td id=\"T_b2b33cd4_59a6_11eb_b6e2_0242ac1c0002row22_col11\" class=\"data row22 col11\" >-0.00</td>\n",
              "                        <td id=\"T_b2b33cd4_59a6_11eb_b6e2_0242ac1c0002row22_col12\" class=\"data row22 col12\" >-0.00</td>\n",
              "                        <td id=\"T_b2b33cd4_59a6_11eb_b6e2_0242ac1c0002row22_col13\" class=\"data row22 col13\" >-0.00</td>\n",
              "                        <td id=\"T_b2b33cd4_59a6_11eb_b6e2_0242ac1c0002row22_col14\" class=\"data row22 col14\" >0.00</td>\n",
              "                        <td id=\"T_b2b33cd4_59a6_11eb_b6e2_0242ac1c0002row22_col15\" class=\"data row22 col15\" >-0.00</td>\n",
              "                        <td id=\"T_b2b33cd4_59a6_11eb_b6e2_0242ac1c0002row22_col16\" class=\"data row22 col16\" >0.00</td>\n",
              "                        <td id=\"T_b2b33cd4_59a6_11eb_b6e2_0242ac1c0002row22_col17\" class=\"data row22 col17\" >0.00</td>\n",
              "                        <td id=\"T_b2b33cd4_59a6_11eb_b6e2_0242ac1c0002row22_col18\" class=\"data row22 col18\" >0.00</td>\n",
              "                        <td id=\"T_b2b33cd4_59a6_11eb_b6e2_0242ac1c0002row22_col19\" class=\"data row22 col19\" >0.00</td>\n",
              "                        <td id=\"T_b2b33cd4_59a6_11eb_b6e2_0242ac1c0002row22_col20\" class=\"data row22 col20\" >0.00</td>\n",
              "                        <td id=\"T_b2b33cd4_59a6_11eb_b6e2_0242ac1c0002row22_col21\" class=\"data row22 col21\" >-0.00</td>\n",
              "                        <td id=\"T_b2b33cd4_59a6_11eb_b6e2_0242ac1c0002row22_col22\" class=\"data row22 col22\" >1.00</td>\n",
              "                        <td id=\"T_b2b33cd4_59a6_11eb_b6e2_0242ac1c0002row22_col23\" class=\"data row22 col23\" >-0.00</td>\n",
              "                        <td id=\"T_b2b33cd4_59a6_11eb_b6e2_0242ac1c0002row22_col24\" class=\"data row22 col24\" >-0.00</td>\n",
              "                        <td id=\"T_b2b33cd4_59a6_11eb_b6e2_0242ac1c0002row22_col25\" class=\"data row22 col25\" >0.00</td>\n",
              "                        <td id=\"T_b2b33cd4_59a6_11eb_b6e2_0242ac1c0002row22_col26\" class=\"data row22 col26\" >-0.00</td>\n",
              "                        <td id=\"T_b2b33cd4_59a6_11eb_b6e2_0242ac1c0002row22_col27\" class=\"data row22 col27\" >-0.00</td>\n",
              "                        <td id=\"T_b2b33cd4_59a6_11eb_b6e2_0242ac1c0002row22_col28\" class=\"data row22 col28\" >0.00</td>\n",
              "            </tr>\n",
              "            <tr>\n",
              "                        <th id=\"T_b2b33cd4_59a6_11eb_b6e2_0242ac1c0002level0_row23\" class=\"row_heading level0 row23\" >S23</th>\n",
              "                        <td id=\"T_b2b33cd4_59a6_11eb_b6e2_0242ac1c0002row23_col0\" class=\"data row23 col0\" >0.05</td>\n",
              "                        <td id=\"T_b2b33cd4_59a6_11eb_b6e2_0242ac1c0002row23_col1\" class=\"data row23 col1\" >-0.00</td>\n",
              "                        <td id=\"T_b2b33cd4_59a6_11eb_b6e2_0242ac1c0002row23_col2\" class=\"data row23 col2\" >-0.00</td>\n",
              "                        <td id=\"T_b2b33cd4_59a6_11eb_b6e2_0242ac1c0002row23_col3\" class=\"data row23 col3\" >0.00</td>\n",
              "                        <td id=\"T_b2b33cd4_59a6_11eb_b6e2_0242ac1c0002row23_col4\" class=\"data row23 col4\" >-0.00</td>\n",
              "                        <td id=\"T_b2b33cd4_59a6_11eb_b6e2_0242ac1c0002row23_col5\" class=\"data row23 col5\" >0.00</td>\n",
              "                        <td id=\"T_b2b33cd4_59a6_11eb_b6e2_0242ac1c0002row23_col6\" class=\"data row23 col6\" >-0.00</td>\n",
              "                        <td id=\"T_b2b33cd4_59a6_11eb_b6e2_0242ac1c0002row23_col7\" class=\"data row23 col7\" >-0.00</td>\n",
              "                        <td id=\"T_b2b33cd4_59a6_11eb_b6e2_0242ac1c0002row23_col8\" class=\"data row23 col8\" >0.00</td>\n",
              "                        <td id=\"T_b2b33cd4_59a6_11eb_b6e2_0242ac1c0002row23_col9\" class=\"data row23 col9\" >-0.00</td>\n",
              "                        <td id=\"T_b2b33cd4_59a6_11eb_b6e2_0242ac1c0002row23_col10\" class=\"data row23 col10\" >0.00</td>\n",
              "                        <td id=\"T_b2b33cd4_59a6_11eb_b6e2_0242ac1c0002row23_col11\" class=\"data row23 col11\" >0.00</td>\n",
              "                        <td id=\"T_b2b33cd4_59a6_11eb_b6e2_0242ac1c0002row23_col12\" class=\"data row23 col12\" >-0.00</td>\n",
              "                        <td id=\"T_b2b33cd4_59a6_11eb_b6e2_0242ac1c0002row23_col13\" class=\"data row23 col13\" >0.00</td>\n",
              "                        <td id=\"T_b2b33cd4_59a6_11eb_b6e2_0242ac1c0002row23_col14\" class=\"data row23 col14\" >0.00</td>\n",
              "                        <td id=\"T_b2b33cd4_59a6_11eb_b6e2_0242ac1c0002row23_col15\" class=\"data row23 col15\" >-0.00</td>\n",
              "                        <td id=\"T_b2b33cd4_59a6_11eb_b6e2_0242ac1c0002row23_col16\" class=\"data row23 col16\" >0.00</td>\n",
              "                        <td id=\"T_b2b33cd4_59a6_11eb_b6e2_0242ac1c0002row23_col17\" class=\"data row23 col17\" >-0.00</td>\n",
              "                        <td id=\"T_b2b33cd4_59a6_11eb_b6e2_0242ac1c0002row23_col18\" class=\"data row23 col18\" >-0.00</td>\n",
              "                        <td id=\"T_b2b33cd4_59a6_11eb_b6e2_0242ac1c0002row23_col19\" class=\"data row23 col19\" >-0.00</td>\n",
              "                        <td id=\"T_b2b33cd4_59a6_11eb_b6e2_0242ac1c0002row23_col20\" class=\"data row23 col20\" >-0.00</td>\n",
              "                        <td id=\"T_b2b33cd4_59a6_11eb_b6e2_0242ac1c0002row23_col21\" class=\"data row23 col21\" >0.00</td>\n",
              "                        <td id=\"T_b2b33cd4_59a6_11eb_b6e2_0242ac1c0002row23_col22\" class=\"data row23 col22\" >-0.00</td>\n",
              "                        <td id=\"T_b2b33cd4_59a6_11eb_b6e2_0242ac1c0002row23_col23\" class=\"data row23 col23\" >1.00</td>\n",
              "                        <td id=\"T_b2b33cd4_59a6_11eb_b6e2_0242ac1c0002row23_col24\" class=\"data row23 col24\" >0.00</td>\n",
              "                        <td id=\"T_b2b33cd4_59a6_11eb_b6e2_0242ac1c0002row23_col25\" class=\"data row23 col25\" >-0.00</td>\n",
              "                        <td id=\"T_b2b33cd4_59a6_11eb_b6e2_0242ac1c0002row23_col26\" class=\"data row23 col26\" >-0.00</td>\n",
              "                        <td id=\"T_b2b33cd4_59a6_11eb_b6e2_0242ac1c0002row23_col27\" class=\"data row23 col27\" >0.00</td>\n",
              "                        <td id=\"T_b2b33cd4_59a6_11eb_b6e2_0242ac1c0002row23_col28\" class=\"data row23 col28\" >0.00</td>\n",
              "            </tr>\n",
              "            <tr>\n",
              "                        <th id=\"T_b2b33cd4_59a6_11eb_b6e2_0242ac1c0002level0_row24\" class=\"row_heading level0 row24\" >S24</th>\n",
              "                        <td id=\"T_b2b33cd4_59a6_11eb_b6e2_0242ac1c0002row24_col0\" class=\"data row24 col0\" >-0.02</td>\n",
              "                        <td id=\"T_b2b33cd4_59a6_11eb_b6e2_0242ac1c0002row24_col1\" class=\"data row24 col1\" >-0.00</td>\n",
              "                        <td id=\"T_b2b33cd4_59a6_11eb_b6e2_0242ac1c0002row24_col2\" class=\"data row24 col2\" >0.00</td>\n",
              "                        <td id=\"T_b2b33cd4_59a6_11eb_b6e2_0242ac1c0002row24_col3\" class=\"data row24 col3\" >0.00</td>\n",
              "                        <td id=\"T_b2b33cd4_59a6_11eb_b6e2_0242ac1c0002row24_col4\" class=\"data row24 col4\" >-0.00</td>\n",
              "                        <td id=\"T_b2b33cd4_59a6_11eb_b6e2_0242ac1c0002row24_col5\" class=\"data row24 col5\" >-0.00</td>\n",
              "                        <td id=\"T_b2b33cd4_59a6_11eb_b6e2_0242ac1c0002row24_col6\" class=\"data row24 col6\" >0.00</td>\n",
              "                        <td id=\"T_b2b33cd4_59a6_11eb_b6e2_0242ac1c0002row24_col7\" class=\"data row24 col7\" >-0.00</td>\n",
              "                        <td id=\"T_b2b33cd4_59a6_11eb_b6e2_0242ac1c0002row24_col8\" class=\"data row24 col8\" >-0.00</td>\n",
              "                        <td id=\"T_b2b33cd4_59a6_11eb_b6e2_0242ac1c0002row24_col9\" class=\"data row24 col9\" >0.00</td>\n",
              "                        <td id=\"T_b2b33cd4_59a6_11eb_b6e2_0242ac1c0002row24_col10\" class=\"data row24 col10\" >0.00</td>\n",
              "                        <td id=\"T_b2b33cd4_59a6_11eb_b6e2_0242ac1c0002row24_col11\" class=\"data row24 col11\" >-0.00</td>\n",
              "                        <td id=\"T_b2b33cd4_59a6_11eb_b6e2_0242ac1c0002row24_col12\" class=\"data row24 col12\" >-0.00</td>\n",
              "                        <td id=\"T_b2b33cd4_59a6_11eb_b6e2_0242ac1c0002row24_col13\" class=\"data row24 col13\" >0.00</td>\n",
              "                        <td id=\"T_b2b33cd4_59a6_11eb_b6e2_0242ac1c0002row24_col14\" class=\"data row24 col14\" >-0.00</td>\n",
              "                        <td id=\"T_b2b33cd4_59a6_11eb_b6e2_0242ac1c0002row24_col15\" class=\"data row24 col15\" >-0.00</td>\n",
              "                        <td id=\"T_b2b33cd4_59a6_11eb_b6e2_0242ac1c0002row24_col16\" class=\"data row24 col16\" >-0.00</td>\n",
              "                        <td id=\"T_b2b33cd4_59a6_11eb_b6e2_0242ac1c0002row24_col17\" class=\"data row24 col17\" >-0.00</td>\n",
              "                        <td id=\"T_b2b33cd4_59a6_11eb_b6e2_0242ac1c0002row24_col18\" class=\"data row24 col18\" >0.00</td>\n",
              "                        <td id=\"T_b2b33cd4_59a6_11eb_b6e2_0242ac1c0002row24_col19\" class=\"data row24 col19\" >0.00</td>\n",
              "                        <td id=\"T_b2b33cd4_59a6_11eb_b6e2_0242ac1c0002row24_col20\" class=\"data row24 col20\" >0.00</td>\n",
              "                        <td id=\"T_b2b33cd4_59a6_11eb_b6e2_0242ac1c0002row24_col21\" class=\"data row24 col21\" >0.00</td>\n",
              "                        <td id=\"T_b2b33cd4_59a6_11eb_b6e2_0242ac1c0002row24_col22\" class=\"data row24 col22\" >-0.00</td>\n",
              "                        <td id=\"T_b2b33cd4_59a6_11eb_b6e2_0242ac1c0002row24_col23\" class=\"data row24 col23\" >0.00</td>\n",
              "                        <td id=\"T_b2b33cd4_59a6_11eb_b6e2_0242ac1c0002row24_col24\" class=\"data row24 col24\" >1.00</td>\n",
              "                        <td id=\"T_b2b33cd4_59a6_11eb_b6e2_0242ac1c0002row24_col25\" class=\"data row24 col25\" >-0.00</td>\n",
              "                        <td id=\"T_b2b33cd4_59a6_11eb_b6e2_0242ac1c0002row24_col26\" class=\"data row24 col26\" >0.00</td>\n",
              "                        <td id=\"T_b2b33cd4_59a6_11eb_b6e2_0242ac1c0002row24_col27\" class=\"data row24 col27\" >0.00</td>\n",
              "                        <td id=\"T_b2b33cd4_59a6_11eb_b6e2_0242ac1c0002row24_col28\" class=\"data row24 col28\" >0.00</td>\n",
              "            </tr>\n",
              "            <tr>\n",
              "                        <th id=\"T_b2b33cd4_59a6_11eb_b6e2_0242ac1c0002level0_row25\" class=\"row_heading level0 row25\" >S25</th>\n",
              "                        <td id=\"T_b2b33cd4_59a6_11eb_b6e2_0242ac1c0002row25_col0\" class=\"data row25 col0\" >-0.23</td>\n",
              "                        <td id=\"T_b2b33cd4_59a6_11eb_b6e2_0242ac1c0002row25_col1\" class=\"data row25 col1\" >0.00</td>\n",
              "                        <td id=\"T_b2b33cd4_59a6_11eb_b6e2_0242ac1c0002row25_col2\" class=\"data row25 col2\" >-0.00</td>\n",
              "                        <td id=\"T_b2b33cd4_59a6_11eb_b6e2_0242ac1c0002row25_col3\" class=\"data row25 col3\" >0.00</td>\n",
              "                        <td id=\"T_b2b33cd4_59a6_11eb_b6e2_0242ac1c0002row25_col4\" class=\"data row25 col4\" >0.00</td>\n",
              "                        <td id=\"T_b2b33cd4_59a6_11eb_b6e2_0242ac1c0002row25_col5\" class=\"data row25 col5\" >0.00</td>\n",
              "                        <td id=\"T_b2b33cd4_59a6_11eb_b6e2_0242ac1c0002row25_col6\" class=\"data row25 col6\" >-0.00</td>\n",
              "                        <td id=\"T_b2b33cd4_59a6_11eb_b6e2_0242ac1c0002row25_col7\" class=\"data row25 col7\" >-0.00</td>\n",
              "                        <td id=\"T_b2b33cd4_59a6_11eb_b6e2_0242ac1c0002row25_col8\" class=\"data row25 col8\" >-0.00</td>\n",
              "                        <td id=\"T_b2b33cd4_59a6_11eb_b6e2_0242ac1c0002row25_col9\" class=\"data row25 col9\" >-0.00</td>\n",
              "                        <td id=\"T_b2b33cd4_59a6_11eb_b6e2_0242ac1c0002row25_col10\" class=\"data row25 col10\" >0.00</td>\n",
              "                        <td id=\"T_b2b33cd4_59a6_11eb_b6e2_0242ac1c0002row25_col11\" class=\"data row25 col11\" >-0.00</td>\n",
              "                        <td id=\"T_b2b33cd4_59a6_11eb_b6e2_0242ac1c0002row25_col12\" class=\"data row25 col12\" >0.00</td>\n",
              "                        <td id=\"T_b2b33cd4_59a6_11eb_b6e2_0242ac1c0002row25_col13\" class=\"data row25 col13\" >-0.00</td>\n",
              "                        <td id=\"T_b2b33cd4_59a6_11eb_b6e2_0242ac1c0002row25_col14\" class=\"data row25 col14\" >0.00</td>\n",
              "                        <td id=\"T_b2b33cd4_59a6_11eb_b6e2_0242ac1c0002row25_col15\" class=\"data row25 col15\" >-0.00</td>\n",
              "                        <td id=\"T_b2b33cd4_59a6_11eb_b6e2_0242ac1c0002row25_col16\" class=\"data row25 col16\" >0.00</td>\n",
              "                        <td id=\"T_b2b33cd4_59a6_11eb_b6e2_0242ac1c0002row25_col17\" class=\"data row25 col17\" >0.00</td>\n",
              "                        <td id=\"T_b2b33cd4_59a6_11eb_b6e2_0242ac1c0002row25_col18\" class=\"data row25 col18\" >0.00</td>\n",
              "                        <td id=\"T_b2b33cd4_59a6_11eb_b6e2_0242ac1c0002row25_col19\" class=\"data row25 col19\" >0.00</td>\n",
              "                        <td id=\"T_b2b33cd4_59a6_11eb_b6e2_0242ac1c0002row25_col20\" class=\"data row25 col20\" >-0.00</td>\n",
              "                        <td id=\"T_b2b33cd4_59a6_11eb_b6e2_0242ac1c0002row25_col21\" class=\"data row25 col21\" >-0.00</td>\n",
              "                        <td id=\"T_b2b33cd4_59a6_11eb_b6e2_0242ac1c0002row25_col22\" class=\"data row25 col22\" >0.00</td>\n",
              "                        <td id=\"T_b2b33cd4_59a6_11eb_b6e2_0242ac1c0002row25_col23\" class=\"data row25 col23\" >-0.00</td>\n",
              "                        <td id=\"T_b2b33cd4_59a6_11eb_b6e2_0242ac1c0002row25_col24\" class=\"data row25 col24\" >-0.00</td>\n",
              "                        <td id=\"T_b2b33cd4_59a6_11eb_b6e2_0242ac1c0002row25_col25\" class=\"data row25 col25\" >1.00</td>\n",
              "                        <td id=\"T_b2b33cd4_59a6_11eb_b6e2_0242ac1c0002row25_col26\" class=\"data row25 col26\" >0.00</td>\n",
              "                        <td id=\"T_b2b33cd4_59a6_11eb_b6e2_0242ac1c0002row25_col27\" class=\"data row25 col27\" >-0.00</td>\n",
              "                        <td id=\"T_b2b33cd4_59a6_11eb_b6e2_0242ac1c0002row25_col28\" class=\"data row25 col28\" >-0.00</td>\n",
              "            </tr>\n",
              "            <tr>\n",
              "                        <th id=\"T_b2b33cd4_59a6_11eb_b6e2_0242ac1c0002level0_row26\" class=\"row_heading level0 row26\" >S26</th>\n",
              "                        <td id=\"T_b2b33cd4_59a6_11eb_b6e2_0242ac1c0002row26_col0\" class=\"data row26 col0\" >-0.04</td>\n",
              "                        <td id=\"T_b2b33cd4_59a6_11eb_b6e2_0242ac1c0002row26_col1\" class=\"data row26 col1\" >0.00</td>\n",
              "                        <td id=\"T_b2b33cd4_59a6_11eb_b6e2_0242ac1c0002row26_col2\" class=\"data row26 col2\" >-0.00</td>\n",
              "                        <td id=\"T_b2b33cd4_59a6_11eb_b6e2_0242ac1c0002row26_col3\" class=\"data row26 col3\" >-0.00</td>\n",
              "                        <td id=\"T_b2b33cd4_59a6_11eb_b6e2_0242ac1c0002row26_col4\" class=\"data row26 col4\" >-0.00</td>\n",
              "                        <td id=\"T_b2b33cd4_59a6_11eb_b6e2_0242ac1c0002row26_col5\" class=\"data row26 col5\" >-0.00</td>\n",
              "                        <td id=\"T_b2b33cd4_59a6_11eb_b6e2_0242ac1c0002row26_col6\" class=\"data row26 col6\" >0.00</td>\n",
              "                        <td id=\"T_b2b33cd4_59a6_11eb_b6e2_0242ac1c0002row26_col7\" class=\"data row26 col7\" >-0.00</td>\n",
              "                        <td id=\"T_b2b33cd4_59a6_11eb_b6e2_0242ac1c0002row26_col8\" class=\"data row26 col8\" >0.00</td>\n",
              "                        <td id=\"T_b2b33cd4_59a6_11eb_b6e2_0242ac1c0002row26_col9\" class=\"data row26 col9\" >-0.00</td>\n",
              "                        <td id=\"T_b2b33cd4_59a6_11eb_b6e2_0242ac1c0002row26_col10\" class=\"data row26 col10\" >-0.00</td>\n",
              "                        <td id=\"T_b2b33cd4_59a6_11eb_b6e2_0242ac1c0002row26_col11\" class=\"data row26 col11\" >0.00</td>\n",
              "                        <td id=\"T_b2b33cd4_59a6_11eb_b6e2_0242ac1c0002row26_col12\" class=\"data row26 col12\" >0.00</td>\n",
              "                        <td id=\"T_b2b33cd4_59a6_11eb_b6e2_0242ac1c0002row26_col13\" class=\"data row26 col13\" >-0.00</td>\n",
              "                        <td id=\"T_b2b33cd4_59a6_11eb_b6e2_0242ac1c0002row26_col14\" class=\"data row26 col14\" >-0.00</td>\n",
              "                        <td id=\"T_b2b33cd4_59a6_11eb_b6e2_0242ac1c0002row26_col15\" class=\"data row26 col15\" >0.00</td>\n",
              "                        <td id=\"T_b2b33cd4_59a6_11eb_b6e2_0242ac1c0002row26_col16\" class=\"data row26 col16\" >-0.00</td>\n",
              "                        <td id=\"T_b2b33cd4_59a6_11eb_b6e2_0242ac1c0002row26_col17\" class=\"data row26 col17\" >0.00</td>\n",
              "                        <td id=\"T_b2b33cd4_59a6_11eb_b6e2_0242ac1c0002row26_col18\" class=\"data row26 col18\" >-0.00</td>\n",
              "                        <td id=\"T_b2b33cd4_59a6_11eb_b6e2_0242ac1c0002row26_col19\" class=\"data row26 col19\" >0.00</td>\n",
              "                        <td id=\"T_b2b33cd4_59a6_11eb_b6e2_0242ac1c0002row26_col20\" class=\"data row26 col20\" >0.00</td>\n",
              "                        <td id=\"T_b2b33cd4_59a6_11eb_b6e2_0242ac1c0002row26_col21\" class=\"data row26 col21\" >0.00</td>\n",
              "                        <td id=\"T_b2b33cd4_59a6_11eb_b6e2_0242ac1c0002row26_col22\" class=\"data row26 col22\" >-0.00</td>\n",
              "                        <td id=\"T_b2b33cd4_59a6_11eb_b6e2_0242ac1c0002row26_col23\" class=\"data row26 col23\" >-0.00</td>\n",
              "                        <td id=\"T_b2b33cd4_59a6_11eb_b6e2_0242ac1c0002row26_col24\" class=\"data row26 col24\" >0.00</td>\n",
              "                        <td id=\"T_b2b33cd4_59a6_11eb_b6e2_0242ac1c0002row26_col25\" class=\"data row26 col25\" >0.00</td>\n",
              "                        <td id=\"T_b2b33cd4_59a6_11eb_b6e2_0242ac1c0002row26_col26\" class=\"data row26 col26\" >1.00</td>\n",
              "                        <td id=\"T_b2b33cd4_59a6_11eb_b6e2_0242ac1c0002row26_col27\" class=\"data row26 col27\" >0.00</td>\n",
              "                        <td id=\"T_b2b33cd4_59a6_11eb_b6e2_0242ac1c0002row26_col28\" class=\"data row26 col28\" >-0.00</td>\n",
              "            </tr>\n",
              "            <tr>\n",
              "                        <th id=\"T_b2b33cd4_59a6_11eb_b6e2_0242ac1c0002level0_row27\" class=\"row_heading level0 row27\" >S27</th>\n",
              "                        <td id=\"T_b2b33cd4_59a6_11eb_b6e2_0242ac1c0002row27_col0\" class=\"data row27 col0\" >-0.01</td>\n",
              "                        <td id=\"T_b2b33cd4_59a6_11eb_b6e2_0242ac1c0002row27_col1\" class=\"data row27 col1\" >0.00</td>\n",
              "                        <td id=\"T_b2b33cd4_59a6_11eb_b6e2_0242ac1c0002row27_col2\" class=\"data row27 col2\" >-0.00</td>\n",
              "                        <td id=\"T_b2b33cd4_59a6_11eb_b6e2_0242ac1c0002row27_col3\" class=\"data row27 col3\" >-0.00</td>\n",
              "                        <td id=\"T_b2b33cd4_59a6_11eb_b6e2_0242ac1c0002row27_col4\" class=\"data row27 col4\" >-0.00</td>\n",
              "                        <td id=\"T_b2b33cd4_59a6_11eb_b6e2_0242ac1c0002row27_col5\" class=\"data row27 col5\" >-0.00</td>\n",
              "                        <td id=\"T_b2b33cd4_59a6_11eb_b6e2_0242ac1c0002row27_col6\" class=\"data row27 col6\" >0.00</td>\n",
              "                        <td id=\"T_b2b33cd4_59a6_11eb_b6e2_0242ac1c0002row27_col7\" class=\"data row27 col7\" >-0.00</td>\n",
              "                        <td id=\"T_b2b33cd4_59a6_11eb_b6e2_0242ac1c0002row27_col8\" class=\"data row27 col8\" >-0.00</td>\n",
              "                        <td id=\"T_b2b33cd4_59a6_11eb_b6e2_0242ac1c0002row27_col9\" class=\"data row27 col9\" >0.00</td>\n",
              "                        <td id=\"T_b2b33cd4_59a6_11eb_b6e2_0242ac1c0002row27_col10\" class=\"data row27 col10\" >0.00</td>\n",
              "                        <td id=\"T_b2b33cd4_59a6_11eb_b6e2_0242ac1c0002row27_col11\" class=\"data row27 col11\" >-0.00</td>\n",
              "                        <td id=\"T_b2b33cd4_59a6_11eb_b6e2_0242ac1c0002row27_col12\" class=\"data row27 col12\" >0.00</td>\n",
              "                        <td id=\"T_b2b33cd4_59a6_11eb_b6e2_0242ac1c0002row27_col13\" class=\"data row27 col13\" >0.00</td>\n",
              "                        <td id=\"T_b2b33cd4_59a6_11eb_b6e2_0242ac1c0002row27_col14\" class=\"data row27 col14\" >-0.00</td>\n",
              "                        <td id=\"T_b2b33cd4_59a6_11eb_b6e2_0242ac1c0002row27_col15\" class=\"data row27 col15\" >-0.00</td>\n",
              "                        <td id=\"T_b2b33cd4_59a6_11eb_b6e2_0242ac1c0002row27_col16\" class=\"data row27 col16\" >0.00</td>\n",
              "                        <td id=\"T_b2b33cd4_59a6_11eb_b6e2_0242ac1c0002row27_col17\" class=\"data row27 col17\" >-0.00</td>\n",
              "                        <td id=\"T_b2b33cd4_59a6_11eb_b6e2_0242ac1c0002row27_col18\" class=\"data row27 col18\" >-0.00</td>\n",
              "                        <td id=\"T_b2b33cd4_59a6_11eb_b6e2_0242ac1c0002row27_col19\" class=\"data row27 col19\" >-0.00</td>\n",
              "                        <td id=\"T_b2b33cd4_59a6_11eb_b6e2_0242ac1c0002row27_col20\" class=\"data row27 col20\" >-0.00</td>\n",
              "                        <td id=\"T_b2b33cd4_59a6_11eb_b6e2_0242ac1c0002row27_col21\" class=\"data row27 col21\" >-0.00</td>\n",
              "                        <td id=\"T_b2b33cd4_59a6_11eb_b6e2_0242ac1c0002row27_col22\" class=\"data row27 col22\" >-0.00</td>\n",
              "                        <td id=\"T_b2b33cd4_59a6_11eb_b6e2_0242ac1c0002row27_col23\" class=\"data row27 col23\" >0.00</td>\n",
              "                        <td id=\"T_b2b33cd4_59a6_11eb_b6e2_0242ac1c0002row27_col24\" class=\"data row27 col24\" >0.00</td>\n",
              "                        <td id=\"T_b2b33cd4_59a6_11eb_b6e2_0242ac1c0002row27_col25\" class=\"data row27 col25\" >-0.00</td>\n",
              "                        <td id=\"T_b2b33cd4_59a6_11eb_b6e2_0242ac1c0002row27_col26\" class=\"data row27 col26\" >0.00</td>\n",
              "                        <td id=\"T_b2b33cd4_59a6_11eb_b6e2_0242ac1c0002row27_col27\" class=\"data row27 col27\" >1.00</td>\n",
              "                        <td id=\"T_b2b33cd4_59a6_11eb_b6e2_0242ac1c0002row27_col28\" class=\"data row27 col28\" >-0.00</td>\n",
              "            </tr>\n",
              "            <tr>\n",
              "                        <th id=\"T_b2b33cd4_59a6_11eb_b6e2_0242ac1c0002level0_row28\" class=\"row_heading level0 row28\" >S28</th>\n",
              "                        <td id=\"T_b2b33cd4_59a6_11eb_b6e2_0242ac1c0002row28_col0\" class=\"data row28 col0\" >-0.01</td>\n",
              "                        <td id=\"T_b2b33cd4_59a6_11eb_b6e2_0242ac1c0002row28_col1\" class=\"data row28 col1\" >-0.00</td>\n",
              "                        <td id=\"T_b2b33cd4_59a6_11eb_b6e2_0242ac1c0002row28_col2\" class=\"data row28 col2\" >0.00</td>\n",
              "                        <td id=\"T_b2b33cd4_59a6_11eb_b6e2_0242ac1c0002row28_col3\" class=\"data row28 col3\" >0.00</td>\n",
              "                        <td id=\"T_b2b33cd4_59a6_11eb_b6e2_0242ac1c0002row28_col4\" class=\"data row28 col4\" >-0.00</td>\n",
              "                        <td id=\"T_b2b33cd4_59a6_11eb_b6e2_0242ac1c0002row28_col5\" class=\"data row28 col5\" >0.00</td>\n",
              "                        <td id=\"T_b2b33cd4_59a6_11eb_b6e2_0242ac1c0002row28_col6\" class=\"data row28 col6\" >-0.00</td>\n",
              "                        <td id=\"T_b2b33cd4_59a6_11eb_b6e2_0242ac1c0002row28_col7\" class=\"data row28 col7\" >0.00</td>\n",
              "                        <td id=\"T_b2b33cd4_59a6_11eb_b6e2_0242ac1c0002row28_col8\" class=\"data row28 col8\" >0.00</td>\n",
              "                        <td id=\"T_b2b33cd4_59a6_11eb_b6e2_0242ac1c0002row28_col9\" class=\"data row28 col9\" >-0.00</td>\n",
              "                        <td id=\"T_b2b33cd4_59a6_11eb_b6e2_0242ac1c0002row28_col10\" class=\"data row28 col10\" >0.00</td>\n",
              "                        <td id=\"T_b2b33cd4_59a6_11eb_b6e2_0242ac1c0002row28_col11\" class=\"data row28 col11\" >-0.00</td>\n",
              "                        <td id=\"T_b2b33cd4_59a6_11eb_b6e2_0242ac1c0002row28_col12\" class=\"data row28 col12\" >-0.00</td>\n",
              "                        <td id=\"T_b2b33cd4_59a6_11eb_b6e2_0242ac1c0002row28_col13\" class=\"data row28 col13\" >-0.00</td>\n",
              "                        <td id=\"T_b2b33cd4_59a6_11eb_b6e2_0242ac1c0002row28_col14\" class=\"data row28 col14\" >-0.00</td>\n",
              "                        <td id=\"T_b2b33cd4_59a6_11eb_b6e2_0242ac1c0002row28_col15\" class=\"data row28 col15\" >-0.00</td>\n",
              "                        <td id=\"T_b2b33cd4_59a6_11eb_b6e2_0242ac1c0002row28_col16\" class=\"data row28 col16\" >0.00</td>\n",
              "                        <td id=\"T_b2b33cd4_59a6_11eb_b6e2_0242ac1c0002row28_col17\" class=\"data row28 col17\" >0.00</td>\n",
              "                        <td id=\"T_b2b33cd4_59a6_11eb_b6e2_0242ac1c0002row28_col18\" class=\"data row28 col18\" >0.00</td>\n",
              "                        <td id=\"T_b2b33cd4_59a6_11eb_b6e2_0242ac1c0002row28_col19\" class=\"data row28 col19\" >0.00</td>\n",
              "                        <td id=\"T_b2b33cd4_59a6_11eb_b6e2_0242ac1c0002row28_col20\" class=\"data row28 col20\" >0.00</td>\n",
              "                        <td id=\"T_b2b33cd4_59a6_11eb_b6e2_0242ac1c0002row28_col21\" class=\"data row28 col21\" >0.00</td>\n",
              "                        <td id=\"T_b2b33cd4_59a6_11eb_b6e2_0242ac1c0002row28_col22\" class=\"data row28 col22\" >0.00</td>\n",
              "                        <td id=\"T_b2b33cd4_59a6_11eb_b6e2_0242ac1c0002row28_col23\" class=\"data row28 col23\" >0.00</td>\n",
              "                        <td id=\"T_b2b33cd4_59a6_11eb_b6e2_0242ac1c0002row28_col24\" class=\"data row28 col24\" >0.00</td>\n",
              "                        <td id=\"T_b2b33cd4_59a6_11eb_b6e2_0242ac1c0002row28_col25\" class=\"data row28 col25\" >-0.00</td>\n",
              "                        <td id=\"T_b2b33cd4_59a6_11eb_b6e2_0242ac1c0002row28_col26\" class=\"data row28 col26\" >-0.00</td>\n",
              "                        <td id=\"T_b2b33cd4_59a6_11eb_b6e2_0242ac1c0002row28_col27\" class=\"data row28 col27\" >-0.00</td>\n",
              "                        <td id=\"T_b2b33cd4_59a6_11eb_b6e2_0242ac1c0002row28_col28\" class=\"data row28 col28\" >1.00</td>\n",
              "            </tr>\n",
              "    </tbody></table>"
            ],
            "text/plain": [
              "<pandas.io.formats.style.Styler at 0x7fef91145e80>"
            ]
          },
          "metadata": {
            "tags": []
          },
          "execution_count": 25
        },
        {
          "output_type": "stream",
          "text": [
            "time: 149 ms (started: 2021-01-18 16:03:26 +00:00)\n"
          ],
          "name": "stdout"
        }
      ]
    },
    {
      "cell_type": "markdown",
      "metadata": {
        "id": "rspAF-SrgD1k"
      },
      "source": [
        "*It looks like there is not a correlation in the dataset at all! Why do you think that is the case?*\n",
        "\n",
        "\n",
        "**What do these numbers mean?**\n",
        "\n",
        "When it is close to 1, it means that there is a strong positive correlation; At the other extreme; –1, it implies that there is a strong negative correlation. For more:\n",
        "\n",
        "https://en.wikipedia.org/wiki/Correlation_and_dependence"
      ]
    },
    {
      "cell_type": "markdown",
      "metadata": {
        "id": "BbQM54yjyv2q"
      },
      "source": [
        "## Preparing the Dataset for Model\n",
        "\n",
        "We need to divide our entire dataset into fractions so that we have a training set\n",
        "from which the machine learning algorithm learns. We also need another set to test the predictions of the ML algorithm. There is no golden rule here: you need to consider the size of your entire dataset. Sometimes 5% is more than enough, sometimes we need to divide 1/3 to have enough test samples. \n",
        "\n",
        "\n",
        "\n"
      ]
    },
    {
      "cell_type": "code",
      "metadata": {
        "colab": {
          "base_uri": "https://localhost:8080/"
        },
        "id": "O6oPPAZNXcvW",
        "outputId": "e4354770-7566-4bbf-d399-b632cabe0faf"
      },
      "source": [
        "X_train, X_test, y_train, y_test = train_test_split(dataX, dataY, test_size=0.33,random_state=2018, stratify=dataY)"
      ],
      "execution_count": 26,
      "outputs": [
        {
          "output_type": "stream",
          "text": [
            "time: 175 ms (started: 2021-01-18 16:03:26 +00:00)\n"
          ],
          "name": "stdout"
        }
      ]
    },
    {
      "cell_type": "markdown",
      "metadata": {
        "id": "wZVi7kzaX3Zg"
      },
      "source": [
        "Here we have frozen the randomness to make the results reproducible. Otherwise, the results would change at every run.\n",
        "\n",
        "Note that we will use dataY only to validate the results, not to train with the algorithm as we did in supervised machine\n",
        "learning problems. "
      ]
    },
    {
      "cell_type": "markdown",
      "metadata": {
        "id": "gRtgYS4MlkY8"
      },
      "source": [
        "# Evaluation Tools"
      ]
    },
    {
      "cell_type": "markdown",
      "metadata": {
        "id": "SsnQ_GzpfeT-"
      },
      "source": [
        "## Anomaly Score\n",
        "\n",
        "In principle, dimensionality reduction algorithms\n",
        "reduce the dimensionality of data while attempting to minimize the reconstruction error; that is, the algorithm will extract pattern with the data and use them to recover its original form. If there is anomaly in the data, such as manufacturing errors, they will be the hardest to recover. We can use this idea to build up a score for anomaly detection.\n",
        "\n",
        "We can consider it as the **approximation or reconstruction error**. \n",
        "\n",
        "It can be expressed as the sum of the squared differences between the original feature matrix and the reconstructed matrix using the dimensionality reduction algorithm. We will define such a function **in two steps**:"
      ]
    },
    {
      "cell_type": "code",
      "metadata": {
        "colab": {
          "base_uri": "https://localhost:8080/"
        },
        "id": "NGk_CMKHhZ3_",
        "outputId": "5fbbdf8b-fe38-4b99-a851-d60992ada785"
      },
      "source": [
        "def anomalyScore (originalDF, reducedDF):\n",
        "  #Calculating the sum of the square of residuals:\n",
        "  loss = np.sum((np.array(originalDF)-np.array(reducedDF))**2, axis=1)\n",
        "  # If you are confused about the summation axis, check the following link:\n",
        "  # https://www.sharpsightlabs.com/blog/numpy-axes-explained/\n",
        "  loss = pd.Series(data=loss,index=originalDF.index)\n",
        "  #Normalizing the results: The idea is to mimic the labels (the best ones will be zero, the worst case will be 1)\n",
        "  loss = (loss-np.min(loss))/(np.max(loss)-np.min(loss))\n",
        "  return loss"
      ],
      "execution_count": 27,
      "outputs": [
        {
          "output_type": "stream",
          "text": [
            "time: 5.63 ms (started: 2021-01-18 16:03:26 +00:00)\n"
          ],
          "name": "stdout"
        }
      ]
    },
    {
      "cell_type": "markdown",
      "metadata": {
        "id": "7UOsYmaQh9mE"
      },
      "source": [
        "After obtaining the anomaly score, we can use it to construct a precision-recall curve by comparing its predictions to the labels of the dataset."
      ]
    },
    {
      "cell_type": "code",
      "metadata": {
        "colab": {
          "base_uri": "https://localhost:8080/"
        },
        "id": "SqHFwdqgjN8x",
        "outputId": "25db669a-47dc-4fae-ea0a-247ac5d33391"
      },
      "source": [
        "def plotResults(trueLabels, anomalyScore, returnPreds = False, plotting = True):\n",
        "  #preparing the dataframe:\n",
        "  preds = pd.concat([trueLabels, anomalyScore], axis=1)\n",
        "  preds.columns = ['trueLabel', 'anomalyScore']\n",
        "  \n",
        "  #Calculate the precision, recall, thresholds:\n",
        "  precision, recall, thresholds = \\\n",
        "  precision_recall_curve(preds['trueLabel'],preds['anomalyScore'])\n",
        "  \n",
        "  #Calculate the average precision:\n",
        "  average_precision = average_precision_score(preds['trueLabel'],preds['anomalyScore'])\n",
        "  if plotting:\n",
        "    #Plotting the results:\n",
        "    plt.step(recall, precision, color='b', alpha=0.7, where='post')\n",
        "    plt.fill_between(recall, precision, step='post', alpha=0.3, color='b')\n",
        "    plt.xlabel('Recall')\n",
        "    plt.ylabel('Precision')\n",
        "    plt.ylim([0.0, 1.1])\n",
        "    plt.xlim([0.0, 1.0])\n",
        "    plt.title('Average Precision = {0:0.2f}'.format(average_precision))\n",
        "\n",
        "  #Do you need the preds?\n",
        "  if returnPreds==True:\n",
        "    return preds, average_precision"
      ],
      "execution_count": 28,
      "outputs": [
        {
          "output_type": "stream",
          "text": [
            "time: 10.1 ms (started: 2021-01-18 16:03:26 +00:00)\n"
          ],
          "name": "stdout"
        }
      ]
    },
    {
      "cell_type": "markdown",
      "metadata": {
        "id": "wrn9YVcGlJBJ"
      },
      "source": [
        "## Data Visualization\n",
        "\n",
        "In order to see the segragation between the cases, we will use a scatter plot in 2D and 3D (after dimensionality reduction) for the visualization purposes."
      ]
    },
    {
      "cell_type": "code",
      "metadata": {
        "colab": {
          "base_uri": "https://localhost:8080/"
        },
        "id": "VKJtgfSflpqL",
        "outputId": "121e24e6-da09-4e0a-ef1c-b8c9e787e42d"
      },
      "source": [
        "def scatterPlot(x_DF, y_DF, methodName):\n",
        "  #Filtering the first two columns (first two dimensions):\n",
        "  df = pd.DataFrame(data=x_DF.loc[:,0:1], index=x_DF.index)\n",
        "  #Adding the labels:\n",
        "  df = pd.concat((df,y_DF), axis=1, join=\"inner\")\n",
        "  #Labeling the columns\n",
        "  df.columns = [\"First Dimension\", \"Second Dimension\", \"Label\"]\n",
        "  sns.lmplot(x=\"First Dimension\", y=\"Second Dimension\", hue=\"Label\", data=df, fit_reg=False)\n",
        "  ax = plt.gca()\n",
        "  ax.set_title(\"Visualization of the data segragation using \"+methodName)"
      ],
      "execution_count": 29,
      "outputs": [
        {
          "output_type": "stream",
          "text": [
            "time: 6.68 ms (started: 2021-01-18 16:03:26 +00:00)\n"
          ],
          "name": "stdout"
        }
      ]
    },
    {
      "cell_type": "code",
      "metadata": {
        "colab": {
          "base_uri": "https://localhost:8080/"
        },
        "id": "brhxsQk0xdqn",
        "outputId": "9f0d70d7-fd6f-4c1a-8826-39d133b47ed8"
      },
      "source": [
        "def scatterPlot3D(x_DF, y_DF, methodName):\n",
        "  #Filtering the first two columns (first three dimensions):\n",
        "  df = pd.DataFrame(data=x_DF.loc[:,0:2], index=x_DF.index)\n",
        "  #Adding the labels:\n",
        "  df = pd.concat((df,y_DF), axis=1, join=\"inner\")\n",
        "  #Labeling the columns\n",
        "  df.columns = [\"First Dimension\", \"Second Dimension\",\"Third Dimension\", \"Label\"]\n",
        "\n",
        "  # Plotting the figure:\n",
        "  fig = px.scatter_3d(df, x='First Dimension', y='Second Dimension', z='Third Dimension',\\\n",
        "                      color='Label', symbol='Label', opacity=0.7, \\\n",
        "                      color_continuous_scale=px.colors.sequential.Viridis,\n",
        "                      width = 600,\n",
        "                      height = 500) \n",
        "\n",
        "  #https://plotly.com/python/reference/layout/#layout-transition\n",
        "  title = \"Visualization of the data segragation using \"+methodName\n",
        "  fig.update_layout(title_text=title, showlegend = True, hovermode = False)\n",
        "  fig.update_layout(margin=dict(l=0, r=0, b=0, t=0))\n",
        "  fig.update_layout(legend=dict(\n",
        "    yanchor=\"top\",\n",
        "    y=0.99,\n",
        "    xanchor=\"left\",\n",
        "    x=0.01))\n",
        "\n",
        "  fig.show() "
      ],
      "execution_count": 30,
      "outputs": [
        {
          "output_type": "stream",
          "text": [
            "time: 15.4 ms (started: 2021-01-18 16:03:26 +00:00)\n"
          ],
          "name": "stdout"
        }
      ]
    },
    {
      "cell_type": "markdown",
      "metadata": {
        "id": "-zN1b-hwYTJ0"
      },
      "source": [
        "# Autoencoders\r\n",
        "\r\n",
        "Lets build our first autoencoder. Remember that AE consists of two sections: encoder and decoder.\r\n",
        "\r\n",
        "Lets start simple. We will use one hidden layer as the encoder and one output layer as the decoder. We will linear activation functions for both. \r\n",
        "\r\n",
        "As in previous weeks, we will use Keras and TF to build up our graph. The number of nodes in this simple (E) will be equal to the number of input nodes; `X_train.shape[1]`."
      ]
    },
    {
      "cell_type": "code",
      "metadata": {
        "id": "lkWh8QsN5V0C",
        "colab": {
          "base_uri": "https://localhost:8080/"
        },
        "outputId": "5802644c-eecc-4fc3-c5af-726af203d3f5"
      },
      "source": [
        "def build_model_AE_Simple():\r\n",
        "  #Here we will use Sequential API\r\n",
        "  n_features, n_outputs = X_train.shape[1],X_train.shape[1] \r\n",
        "  model = models.Sequential([\r\n",
        "  # define the encoder:\r\n",
        "  layers.Dense(n_features, activation='linear', input_shape=(n_features,)),\r\n",
        "  # define decoder:\r\n",
        "  layers.Dense(n_outputs,activation='linear')                     \r\n",
        "  ])\r\n",
        "  model.compile(optimizer='Adam',loss='mse',metrics='accuracy') \r\n",
        "  return model\r\n"
      ],
      "execution_count": 31,
      "outputs": [
        {
          "output_type": "stream",
          "text": [
            "time: 4.67 ms (started: 2021-01-18 16:03:26 +00:00)\n"
          ],
          "name": "stdout"
        }
      ]
    },
    {
      "cell_type": "code",
      "metadata": {
        "colab": {
          "base_uri": "https://localhost:8080/"
        },
        "id": "uEPt7xOcdlLv",
        "outputId": "560033cd-928b-40f4-be8d-26ca5811ebec"
      },
      "source": [
        "#Looking at the graph:\r\n",
        "build_model_AE_Simple().summary()"
      ],
      "execution_count": 32,
      "outputs": [
        {
          "output_type": "stream",
          "text": [
            "Model: \"sequential\"\n",
            "_________________________________________________________________\n",
            "Layer (type)                 Output Shape              Param #   \n",
            "=================================================================\n",
            "dense (Dense)                (None, 29)                870       \n",
            "_________________________________________________________________\n",
            "dense_1 (Dense)              (None, 29)                870       \n",
            "=================================================================\n",
            "Total params: 1,740\n",
            "Trainable params: 1,740\n",
            "Non-trainable params: 0\n",
            "_________________________________________________________________\n",
            "time: 825 ms (started: 2021-01-18 16:03:26 +00:00)\n"
          ],
          "name": "stdout"
        }
      ]
    },
    {
      "cell_type": "code",
      "metadata": {
        "colab": {
          "base_uri": "https://localhost:8080/"
        },
        "id": "Qc1d7Uvhb6UC",
        "outputId": "5503f20b-7368-414e-d4d6-298f69eeb884"
      },
      "source": [
        "#We will first create the object to feed fit() method:\r\n",
        "myCheckpoint= keras.callbacks.ModelCheckpoint(\"my_best_model_AE.h5\", save_best_only=True)"
      ],
      "execution_count": 33,
      "outputs": [
        {
          "output_type": "stream",
          "text": [
            "time: 1.99 ms (started: 2021-01-18 16:03:27 +00:00)\n"
          ],
          "name": "stdout"
        }
      ]
    },
    {
      "cell_type": "code",
      "metadata": {
        "colab": {
          "base_uri": "https://localhost:8080/"
        },
        "id": "-9mzhq54guX-",
        "outputId": "9db42e1e-e906-4ebd-c191-54bf63928c0d"
      },
      "source": [
        "#For its implementation:\r\n",
        "#https://keras.io/api/callbacks/early_stopping/\r\n",
        "# Here patience refers to the number of epochs with no improvement after which training will be stopped.\r\n",
        "myEarly_stopping = keras.callbacks.EarlyStopping(patience=10,restore_best_weights=True)"
      ],
      "execution_count": 34,
      "outputs": [
        {
          "output_type": "stream",
          "text": [
            "time: 1.61 ms (started: 2021-01-18 16:03:27 +00:00)\n"
          ],
          "name": "stdout"
        }
      ]
    },
    {
      "cell_type": "markdown",
      "metadata": {
        "id": "NqZGjKlZHI7Z"
      },
      "source": [
        "## Model Training\r\n",
        "\r\n",
        "I would advise to look FAQ section of Keras (TF) if you encounter an issue during the training.\r\n",
        "\r\n",
        "https://keras.io/getting_started/faq/\r\n",
        "\r\n",
        "Here one distinct difference that **we will not use labels during the training. ** In AE, we will reconstruct the X matrix, hence the goal of the output layer is the X matrix, not the y values. Here I will pass the training data as the validation set as well to see how it will perform."
      ]
    },
    {
      "cell_type": "code",
      "metadata": {
        "colab": {
          "base_uri": "https://localhost:8080/"
        },
        "id": "honQXXI1dCB5",
        "outputId": "e8b5c362-615c-4740-918b-0f692f6af87d"
      },
      "source": [
        "#Model Training\r\n",
        "#--------------------------------------------------------------------------\r\n",
        "#Hyperparameters\r\n",
        "num_epochs = 100\r\n",
        "batch_size = 128"
      ],
      "execution_count": 35,
      "outputs": [
        {
          "output_type": "stream",
          "text": [
            "time: 1.47 ms (started: 2021-01-18 16:03:27 +00:00)\n"
          ],
          "name": "stdout"
        }
      ]
    },
    {
      "cell_type": "code",
      "metadata": {
        "colab": {
          "base_uri": "https://localhost:8080/"
        },
        "id": "rzOuZYSBdCB7",
        "outputId": "de4b0dcc-c622-4856-981c-f6df82e008ec"
      },
      "source": [
        "# Model Training:\r\n",
        "#-----------------------------------------------------------------------------\r\n",
        "#Building the Keras models:\r\n",
        "model_base = build_model_AE_Simple()\r\n",
        "\r\n",
        "#Training step: Trains the model in silent mode (verbose = 0)\r\n",
        "history_base = model_base.fit(X_train, X_train, epochs=num_epochs, batch_size=batch_size, validation_data=(X_train, X_train) , \r\n",
        "                                callbacks=[myCheckpoint,myEarly_stopping])#, verbose=0)\r\n",
        "#Calling back the best model:\r\n",
        "model_best = keras.models.load_model(\"my_best_model_AE.h5\")\r\n"
      ],
      "execution_count": 36,
      "outputs": [
        {
          "output_type": "stream",
          "text": [
            "Epoch 1/100\n",
            "1491/1491 [==============================] - 6s 4ms/step - loss: 0.6089 - accuracy: 0.4792 - val_loss: 0.0048 - val_accuracy: 0.9562\n",
            "Epoch 2/100\n",
            "1491/1491 [==============================] - 5s 3ms/step - loss: 0.0011 - accuracy: 0.9842 - val_loss: 3.5538e-10 - val_accuracy: 1.0000\n",
            "Epoch 3/100\n",
            "1491/1491 [==============================] - 5s 3ms/step - loss: 6.0062e-11 - accuracy: 1.0000 - val_loss: 8.5619e-13 - val_accuracy: 1.0000\n",
            "Epoch 4/100\n",
            "1491/1491 [==============================] - 5s 3ms/step - loss: 1.8505e-13 - accuracy: 1.0000 - val_loss: 3.1839e-14 - val_accuracy: 1.0000\n",
            "Epoch 5/100\n",
            "1491/1491 [==============================] - 5s 3ms/step - loss: 6.5567e-07 - accuracy: 0.9999 - val_loss: 0.0014 - val_accuracy: 0.9837\n",
            "Epoch 6/100\n",
            "1491/1491 [==============================] - 5s 3ms/step - loss: 4.7464e-04 - accuracy: 0.9942 - val_loss: 2.5730e-05 - val_accuracy: 0.9967\n",
            "Epoch 7/100\n",
            "1491/1491 [==============================] - 5s 3ms/step - loss: 1.0973e-05 - accuracy: 0.9997 - val_loss: 4.2189e-04 - val_accuracy: 0.9880\n",
            "Epoch 8/100\n",
            "1491/1491 [==============================] - 5s 3ms/step - loss: 4.8375e-05 - accuracy: 0.9980 - val_loss: 6.9530e-06 - val_accuracy: 0.9987\n",
            "Epoch 9/100\n",
            "1491/1491 [==============================] - 5s 3ms/step - loss: 8.9279e-05 - accuracy: 0.9973 - val_loss: 7.8546e-05 - val_accuracy: 0.9958\n",
            "Epoch 10/100\n",
            "1491/1491 [==============================] - 5s 3ms/step - loss: 1.5029e-04 - accuracy: 0.9967 - val_loss: 5.9826e-06 - val_accuracy: 0.9986\n",
            "Epoch 11/100\n",
            "1491/1491 [==============================] - 5s 3ms/step - loss: 4.3251e-04 - accuracy: 0.9957 - val_loss: 1.6131e-14 - val_accuracy: 1.0000\n",
            "Epoch 12/100\n",
            "1491/1491 [==============================] - 5s 3ms/step - loss: 4.0291e-05 - accuracy: 0.9990 - val_loss: 2.9917e-05 - val_accuracy: 0.9964\n",
            "Epoch 13/100\n",
            "1491/1491 [==============================] - 5s 3ms/step - loss: 5.8165e-05 - accuracy: 0.9979 - val_loss: 7.7756e-07 - val_accuracy: 0.9998\n",
            "Epoch 14/100\n",
            "1491/1491 [==============================] - 5s 3ms/step - loss: 8.5102e-05 - accuracy: 0.9986 - val_loss: 1.0760e-04 - val_accuracy: 0.9941\n",
            "Epoch 15/100\n",
            "1491/1491 [==============================] - 5s 3ms/step - loss: 1.1462e-04 - accuracy: 0.9964 - val_loss: 5.2646e-08 - val_accuracy: 0.9999\n",
            "Epoch 16/100\n",
            "1491/1491 [==============================] - 5s 3ms/step - loss: 5.0506e-06 - accuracy: 0.9997 - val_loss: 6.7231e-07 - val_accuracy: 0.9998\n",
            "Epoch 17/100\n",
            "1491/1491 [==============================] - 5s 3ms/step - loss: 1.1133e-04 - accuracy: 0.9976 - val_loss: 1.3683e-05 - val_accuracy: 0.9981\n",
            "Epoch 18/100\n",
            "1491/1491 [==============================] - 5s 3ms/step - loss: 9.7951e-05 - accuracy: 0.9970 - val_loss: 1.5419e-05 - val_accuracy: 0.9981\n",
            "Epoch 19/100\n",
            "1491/1491 [==============================] - 5s 3ms/step - loss: 2.2377e-04 - accuracy: 0.9964 - val_loss: 8.9724e-05 - val_accuracy: 0.9955\n",
            "Epoch 20/100\n",
            "1491/1491 [==============================] - 5s 3ms/step - loss: 4.5509e-05 - accuracy: 0.9988 - val_loss: 9.9174e-04 - val_accuracy: 0.9857\n",
            "Epoch 21/100\n",
            "1491/1491 [==============================] - 5s 3ms/step - loss: 7.6341e-05 - accuracy: 0.9968 - val_loss: 2.8602e-05 - val_accuracy: 0.9982\n",
            "time: 1min 43s (started: 2021-01-18 16:03:27 +00:00)\n"
          ],
          "name": "stdout"
        }
      ]
    },
    {
      "cell_type": "code",
      "metadata": {
        "colab": {
          "base_uri": "https://localhost:8080/"
        },
        "id": "Lq9p3ZVpcLc2",
        "outputId": "66e7eae5-e8a3-46a2-c08b-4a3522de7e61"
      },
      "source": [
        "#Lets look into the history recorded:\r\n",
        "hist = pd.DataFrame(history_base.history)"
      ],
      "execution_count": 37,
      "outputs": [
        {
          "output_type": "stream",
          "text": [
            "time: 2.6 ms (started: 2021-01-18 16:05:11 +00:00)\n"
          ],
          "name": "stdout"
        }
      ]
    },
    {
      "cell_type": "code",
      "metadata": {
        "colab": {
          "base_uri": "https://localhost:8080/"
        },
        "id": "m2wbpzv8gPh0",
        "outputId": "d4384c12-ca20-4c3e-ca2b-4c4c875da995"
      },
      "source": [
        "#Adding epoch column:\r\n",
        "hist['epoch'] = history_base.epoch"
      ],
      "execution_count": 38,
      "outputs": [
        {
          "output_type": "stream",
          "text": [
            "time: 1.96 ms (started: 2021-01-18 16:05:11 +00:00)\n"
          ],
          "name": "stdout"
        }
      ]
    },
    {
      "cell_type": "code",
      "metadata": {
        "colab": {
          "base_uri": "https://localhost:8080/"
        },
        "id": "qW7yDuQldiKd",
        "outputId": "0e1375df-050c-4797-8256-2e1a97567e40"
      },
      "source": [
        "# Defining our function to see the evolution of error:\r\n",
        "def plot_learning_curves(history):\r\n",
        "  #We will omit the first 10 points for a better visualization:\r\n",
        "  plt.plot(history['epoch'],history['loss'], \"k--\", linewidth=1.5, label=\"Training\")\r\n",
        "  plt.plot(history['epoch'],history['val_loss'], \"b-.\", linewidth=1.5, label=\"Validation\")\r\n",
        "  plt.legend()\r\n",
        "  plt.yscale(\"log\")\r\n",
        "  plt.xlabel(\"Epochs\"),  plt.ylabel(\"Loss (MSE)\")"
      ],
      "execution_count": 39,
      "outputs": [
        {
          "output_type": "stream",
          "text": [
            "time: 3.78 ms (started: 2021-01-18 16:05:11 +00:00)\n"
          ],
          "name": "stdout"
        }
      ]
    },
    {
      "cell_type": "code",
      "metadata": {
        "colab": {
          "base_uri": "https://localhost:8080/",
          "height": 298
        },
        "id": "2VoMpChceA-8",
        "outputId": "b8d9d6e9-985d-474f-e944-92dc4f204483"
      },
      "source": [
        "# Plotting the results:\r\n",
        "# Remember that we defined our loss as MSE in the model.\r\n",
        "plot_learning_curves(hist)"
      ],
      "execution_count": 40,
      "outputs": [
        {
          "output_type": "display_data",
          "data": {
            "image/png": "[encoded data removed]",
            "text/plain": [
              "<Figure size 432x288 with 1 Axes>"
            ]
          },
          "metadata": {
            "tags": [],
            "needs_background": "light"
          }
        },
        {
          "output_type": "stream",
          "text": [
            "time: 358 ms (started: 2021-01-18 16:05:11 +00:00)\n"
          ],
          "name": "stdout"
        }
      ]
    },
    {
      "cell_type": "code",
      "metadata": {
        "colab": {
          "base_uri": "https://localhost:8080/"
        },
        "id": "VSw-6pvcm-J5",
        "outputId": "f8dc494b-3e93-4d89-8229-e189d53937b7"
      },
      "source": [
        "#Making predictions:\r\n",
        "X_test_predictions = pd.DataFrame(model_best.predict(X_test),index=X_test.index)"
      ],
      "execution_count": 41,
      "outputs": [
        {
          "output_type": "stream",
          "text": [
            "time: 1.83 s (started: 2021-01-18 16:05:11 +00:00)\n"
          ],
          "name": "stdout"
        }
      ]
    },
    {
      "cell_type": "code",
      "metadata": {
        "colab": {
          "base_uri": "https://localhost:8080/",
          "height": 314
        },
        "id": "DE6ug0-0mT3i",
        "outputId": "b54a22c9-da06-4064-e265-c2b95bf68648"
      },
      "source": [
        "#Using our own evaluation score for anomaly detection:\r\n",
        "anomalyScoresAE = anomalyScore(X_test,X_test_predictions)\r\n",
        "preds = plotResults(y_test, anomalyScoresAE,False, True)"
      ],
      "execution_count": 42,
      "outputs": [
        {
          "output_type": "display_data",
          "data": {
            "image/png": "[encoded data removed]",
            "text/plain": [
              "<Figure size 432x288 with 1 Axes>"
            ]
          },
          "metadata": {
            "tags": [],
            "needs_background": "light"
          }
        },
        {
          "output_type": "stream",
          "text": [
            "time: 319 ms (started: 2021-01-18 16:05:13 +00:00)\n"
          ],
          "name": "stdout"
        }
      ]
    },
    {
      "cell_type": "markdown",
      "metadata": {
        "id": "oqHWUgYpp7-y"
      },
      "source": [
        "## Model Stability\r\n",
        "\r\n",
        "Lets train the model couple of times to see the stability of our predictions. We will build a for loop for that purpose, while keeping the average precision as a performance criteria. "
      ]
    },
    {
      "cell_type": "code",
      "metadata": {
        "colab": {
          "base_uri": "https://localhost:8080/"
        },
        "id": "TZNUZCvWpyMp",
        "outputId": "f8ad9e8c-1d2a-4ff3-e0d5-f9ceb70fd551"
      },
      "source": [
        "#Hyperparameters:\r\n",
        "num_epochs = 10\r\n",
        "batch_size = 32\r\n",
        "#Listing test scores\r\n",
        "test_scores = []\r\n",
        "#We will train the model 5 times and see how performance fluctuates...\r\n",
        "for i in range(0,5):\r\n",
        "  #Building the Keras models:\r\n",
        "  model_base = build_model_AE_Simple()\r\n",
        "\r\n",
        "  #Training step: Trains the model in silent mode (verbose = 0)\r\n",
        "  history_loop = model_base.fit(X_train, X_train, epochs=num_epochs, batch_size=batch_size, validation_data=(X_train, X_train),\r\n",
        "                                verbose=0)\r\n",
        "\r\n",
        "  #Model evaluation:\r\n",
        "  X_test_predictions = pd.DataFrame(model_base.predict(X_test),index=X_test.index)\r\n",
        "  anomalyScoresAE = anomalyScore(X_test,X_test_predictions)\r\n",
        "  preds, meanPrecision = plotResults(y_test, anomalyScoresAE,True, False)\r\n",
        "  test_scores.append(meanPrecision)\r\n",
        "  print('In progress: ',i,'/4 ...')\r\n"
      ],
      "execution_count": null,
      "outputs": [
        {
          "output_type": "stream",
          "text": [
            "In progress:  0 /4 ...\n"
          ],
          "name": "stdout"
        }
      ]
    },
    {
      "cell_type": "code",
      "metadata": {
        "id": "o48tjN-0uR4H"
      },
      "source": [
        "test_scores"
      ],
      "execution_count": null,
      "outputs": []
    },
    {
      "cell_type": "code",
      "metadata": {
        "id": "elX5uwpBreom"
      },
      "source": [
        "#Lets see how stable our model is:\r\n",
        "print('The mean score is ',np.mean(test_scores) ,'with SD of ', np.std(test_scores))"
      ],
      "execution_count": null,
      "outputs": []
    },
    {
      "cell_type": "markdown",
      "metadata": {
        "id": "nOFSh6owoqTD"
      },
      "source": [
        "**Why did AE fail this much?**\r\n",
        "\r\n",
        "In this simple example, we used a **complete** AE, where the NN simple memorizes to reproduce input as the output. Therefore, it is expected to fail for cases it has never seen before. Lets do better this time!\r\n"
      ]
    },
    {
      "cell_type": "markdown",
      "metadata": {
        "id": "V7etVlv2pS2p"
      },
      "source": [
        "# Undercomplete - AE: four layers\r\n",
        " \r\n",
        " This time, lets use the same number of layers but with less computational nodes; so that the AE is forced to extract some patterns from the data.\r\n",
        "\r\n",
        " Note that if you don't specify anything for the activation function, no activation is applied (ie. \"linear\" activation: a(x) = x). Here it is written just to remind us what is being done."
      ]
    },
    {
      "cell_type": "code",
      "metadata": {
        "id": "coexlvagplHv"
      },
      "source": [
        "def build_model_AE_Simple_2():\r\n",
        "  #Here we will use Sequential API\r\n",
        "  n_features, n_outputs = X_train.shape[1],X_train.shape[1] \r\n",
        "  model = models.Sequential([\r\n",
        "  # define the encoder with decreasing # of nodes\r\n",
        "  layers.Dense(25, activation='linear', input_shape=(n_features,)),\r\n",
        "  layers.Dense(20,activation='linear'),\r\n",
        "  layers.Dense(15,activation='linear'),\r\n",
        "  # define decoder:\r\n",
        "  layers.Dense(20,activation='linear'),\r\n",
        "  layers.Dense(25,activation='linear'),\r\n",
        "  layers.Dense(n_outputs)                     \r\n",
        "  ])\r\n",
        "  model.compile(optimizer='Adam',loss='mse',metrics='accuracy') \r\n",
        "  return model\r\n"
      ],
      "execution_count": null,
      "outputs": []
    },
    {
      "cell_type": "code",
      "metadata": {
        "id": "q5JLOgPxplH0"
      },
      "source": [
        "#Looking at the graph:\r\n",
        "build_model_AE_Simple_2().summary()"
      ],
      "execution_count": null,
      "outputs": []
    },
    {
      "cell_type": "code",
      "metadata": {
        "id": "J0bvm45EplH2"
      },
      "source": [
        "#We will first create the object to feed fit() method:\r\n",
        "myCheckpoint_2= keras.callbacks.ModelCheckpoint(\"my_best_model_AE_2.h5\", save_best_only=True)"
      ],
      "execution_count": null,
      "outputs": []
    },
    {
      "cell_type": "code",
      "metadata": {
        "id": "bJK1AzfOplH4"
      },
      "source": [
        "#For its implementation:\r\n",
        "#https://keras.io/api/callbacks/early_stopping/\r\n",
        "# Here patience refers to the number of epochs with no improvement after which training will be stopped.\r\n",
        "myEarly_stopping_2 = keras.callbacks.EarlyStopping(patience=10,restore_best_weights=True)"
      ],
      "execution_count": null,
      "outputs": []
    },
    {
      "cell_type": "markdown",
      "metadata": {
        "id": "lCnYHlCXwhqs"
      },
      "source": [
        "## Model Training"
      ]
    },
    {
      "cell_type": "code",
      "metadata": {
        "id": "U2A4ZaBfplH6"
      },
      "source": [
        "#Model Training\r\n",
        "#--------------------------------------------------------------------------\r\n",
        "#Hyperparameters\r\n",
        "num_epochs = 100\r\n",
        "batch_size = 128"
      ],
      "execution_count": null,
      "outputs": []
    },
    {
      "cell_type": "code",
      "metadata": {
        "id": "hP5N7j0yplH7"
      },
      "source": [
        "# Model Training:\r\n",
        "#-----------------------------------------------------------------------------\r\n",
        "#Building the Keras models:\r\n",
        "model_base = build_model_AE_Simple_2()\r\n",
        "\r\n",
        "#Training step: Trains the model in silent mode (verbose = 0)\r\n",
        "history_base_2 = model_base.fit(X_train, X_train, epochs=num_epochs, batch_size=batch_size, validation_data=(X_train, X_train) , \r\n",
        "                                callbacks=[myCheckpoint_2,myEarly_stopping_2])#, verbose=0)\r\n",
        "#Calling back the best model:\r\n",
        "model_best_2 = keras.models.load_model(\"my_best_model_AE_2.h5\")\r\n"
      ],
      "execution_count": null,
      "outputs": []
    },
    {
      "cell_type": "code",
      "metadata": {
        "id": "T8gW3IN2plH8"
      },
      "source": [
        "#Making predictions:\r\n",
        "X_test_predictions = pd.DataFrame(model_best_2.predict(X_test),index=X_test.index)"
      ],
      "execution_count": null,
      "outputs": []
    },
    {
      "cell_type": "code",
      "metadata": {
        "id": "hHbWPggDplH-"
      },
      "source": [
        "#Using our own evaluation score for anomaly detection:\r\n",
        "anomalyScoresAE = anomalyScore(X_test,X_test_predictions)\r\n",
        "preds = plotResults(y_test, anomalyScoresAE,False, True)"
      ],
      "execution_count": null,
      "outputs": []
    },
    {
      "cell_type": "markdown",
      "metadata": {
        "id": "jf71vm_5weg4"
      },
      "source": [
        "## Model Stability"
      ]
    },
    {
      "cell_type": "code",
      "metadata": {
        "id": "GCSSTU_TpfAO"
      },
      "source": [
        "#Hyperparameters:\r\n",
        "num_epochs = 10\r\n",
        "batch_size = 32\r\n",
        "#Listing test scores\r\n",
        "test_scores = []\r\n",
        "#We will train the model 6 times and see how performance fluctuates...\r\n",
        "for i in range(0,6):\r\n",
        "  #Building the Keras models:\r\n",
        "  model_base = build_model_AE_Simple_2()\r\n",
        "\r\n",
        "  #Training step: Trains the model in silent mode (verbose = 0)\r\n",
        "  history_loop = model_base.fit(X_train, X_train, epochs=num_epochs, batch_size=batch_size, validation_data=(X_train, X_train), verbose=0)\r\n",
        "\r\n",
        "  #Model evaluation:\r\n",
        "  X_test_predictions = pd.DataFrame(model_base.predict(X_test),index=X_test.index)\r\n",
        "  anomalyScoresAE = anomalyScore(X_test,X_test_predictions)\r\n",
        "  preds, meanPrecision = plotResults(y_test, anomalyScoresAE,True, False)\r\n",
        "  test_scores.append(meanPrecision)\r\n",
        "  print('In progress: ',i,'/6 ...')"
      ],
      "execution_count": null,
      "outputs": []
    },
    {
      "cell_type": "code",
      "metadata": {
        "id": "VgOd1r0_wxTK"
      },
      "source": [
        "test_scores"
      ],
      "execution_count": null,
      "outputs": []
    },
    {
      "cell_type": "code",
      "metadata": {
        "id": "FPW0t1g8wxTN"
      },
      "source": [
        "#Lets see how stable our model is:\r\n",
        "print('The mean score is ',np.mean(test_scores) ,'with SD of ', np.std(test_scores))"
      ],
      "execution_count": null,
      "outputs": []
    },
    {
      "cell_type": "markdown",
      "metadata": {
        "id": "LXUA3bkexME-"
      },
      "source": [
        "# Nonlinear AE: Using different activation functions\r\n",
        "\r\n",
        "One option here is to use alternative activation functions to extract nonlinear patterns in the data. From our previous experience on the dataset, we know that linear models seems to be better here (as the X shows little correlations between features). Nevertheless, lets see how it can be implemented. "
      ]
    },
    {
      "cell_type": "code",
      "metadata": {
        "id": "o1uNHU55yoBO"
      },
      "source": [
        "def build_model_AE_reLU():\r\n",
        "  #Here we will use Sequential API\r\n",
        "  n_features, n_outputs = X_train.shape[1],X_train.shape[1] \r\n",
        "  model = models.Sequential([\r\n",
        "  # define the encoder:\r\n",
        "  layers.Dense(25, kernel_initializer=\"he_normal\", input_shape=(n_features,)),keras.layers.LeakyReLU(alpha=0.1),                           \r\n",
        "  layers.BatchNormalization(),\r\n",
        "  layers.Dense(20, kernel_initializer=\"he_normal\"),keras.layers.LeakyReLU(alpha=0.1),\r\n",
        "  layers.BatchNormalization(),\r\n",
        "  layers.Dense(15, kernel_initializer=\"he_normal\"),keras.layers.LeakyReLU(alpha=0.1),\r\n",
        "  layers.BatchNormalization(),\r\n",
        "  # define decoder:\r\n",
        "  layers.Dense(20, kernel_initializer=\"he_normal\"),keras.layers.LeakyReLU(alpha=0.1),\r\n",
        "  layers.BatchNormalization(),\r\n",
        "  layers.Dense(25, kernel_initializer=\"he_normal\"),keras.layers.LeakyReLU(alpha=0.1),\r\n",
        "  layers.BatchNormalization(),\r\n",
        "  layers.Dense(n_outputs, kernel_initializer=\"he_normal\"),keras.layers.LeakyReLU(alpha=0.1),                  \r\n",
        "  ])\r\n",
        "  model.compile(optimizer='Adam',loss='mse',metrics='accuracy') \r\n",
        "  return model\r\n"
      ],
      "execution_count": null,
      "outputs": []
    },
    {
      "cell_type": "code",
      "metadata": {
        "id": "nSHRT7HGyoBR"
      },
      "source": [
        "#Looking at the graph:\r\n",
        "build_model_AE_reLU().summary()"
      ],
      "execution_count": null,
      "outputs": []
    },
    {
      "cell_type": "code",
      "metadata": {
        "id": "bXEdC6Y-yoBS"
      },
      "source": [
        "#We will first create the object to feed fit() method:\r\n",
        "myCheckpoint_reLU= keras.callbacks.ModelCheckpoint(\"my_best_model_AE_reLU.h5\", save_best_only=True)"
      ],
      "execution_count": null,
      "outputs": []
    },
    {
      "cell_type": "code",
      "metadata": {
        "id": "tALuoVnuyoBU"
      },
      "source": [
        "#For its implementation:\r\n",
        "#https://keras.io/api/callbacks/early_stopping/\r\n",
        "# Here patience refers to the number of epochs with no improvement after which training will be stopped.\r\n",
        "myEarly_stopping_reLU = keras.callbacks.EarlyStopping(patience=10,restore_best_weights=True)"
      ],
      "execution_count": null,
      "outputs": []
    },
    {
      "cell_type": "markdown",
      "metadata": {
        "id": "BgzVYot6yd3l"
      },
      "source": [
        "## Model Training "
      ]
    },
    {
      "cell_type": "code",
      "metadata": {
        "id": "BrGGGXWJyoBV"
      },
      "source": [
        "#Model Training\r\n",
        "#--------------------------------------------------------------------------\r\n",
        "#Hyperparameters\r\n",
        "num_epochs = 100\r\n",
        "batch_size = 128"
      ],
      "execution_count": null,
      "outputs": []
    },
    {
      "cell_type": "code",
      "metadata": {
        "id": "nBI8WyrlyoBW"
      },
      "source": [
        "# Model Training:\r\n",
        "#-----------------------------------------------------------------------------\r\n",
        "#Building the Keras models:\r\n",
        "model_reLU = build_model_AE_reLU()\r\n",
        "\r\n",
        "#Training step: Trains the model in silent mode (verbose = 0)\r\n",
        "history_reLU = model_reLU.fit(X_train, X_train, epochs=num_epochs, batch_size=batch_size, validation_data=(X_train, X_train) , \r\n",
        "                                callbacks=[myCheckpoint_reLU,myEarly_stopping_reLU])#, verbose=0)\r\n",
        "#Calling back the best model:\r\n",
        "model_best_reLU = keras.models.load_model(\"my_best_model_AE_reLU.h5\")\r\n"
      ],
      "execution_count": null,
      "outputs": []
    },
    {
      "cell_type": "code",
      "metadata": {
        "id": "axk04Ir3yoBZ"
      },
      "source": [
        "#Making predictions:\r\n",
        "X_test_predictions = pd.DataFrame(model_best_reLU.predict(X_test),index=X_test.index)"
      ],
      "execution_count": null,
      "outputs": []
    },
    {
      "cell_type": "code",
      "metadata": {
        "id": "1lUlYgf6yoBb"
      },
      "source": [
        "#Using our own evaluation score for anomaly detection:\r\n",
        "anomalyScoresAE = anomalyScore(X_test,X_test_predictions)\r\n",
        "preds = plotResults(y_test, anomalyScoresAE,False, True)"
      ],
      "execution_count": null,
      "outputs": []
    },
    {
      "cell_type": "markdown",
      "metadata": {
        "id": "4ZwNlWlU6RSo"
      },
      "source": [
        "# Sparse AE: Simple Tools\r\n",
        "\r\n",
        "One way to enforce sparse, overcomplete AE is to use readily available simple tricks:\r\n",
        "\r\n",
        "+ l1 regularization\r\n",
        "+ sigmoid activation functions\r\n",
        "\r\n",
        "For that purpose, we first need to go into higher dimensions in the first dense layer; then decrease the number of dimensions. "
      ]
    },
    {
      "cell_type": "code",
      "metadata": {
        "id": "zK3VL04E9XmA"
      },
      "source": [
        "def build_model_AE_Sparse():\r\n",
        "  #Here we will use Sequential API\r\n",
        "  n_features, n_outputs = X_train.shape[1],X_train.shape[1] \r\n",
        "  model = models.Sequential([\r\n",
        "  # define the encoder with decreasing # of nodes\r\n",
        "  layers.Dense(60, kernel_initializer=\"he_normal\", input_shape=(n_features,)),keras.layers.LeakyReLU(alpha=0.1),                           \r\n",
        "  layers.BatchNormalization(),\r\n",
        "  layers.Dense(120,activation='sigmoid', activity_regularizer=keras.regularizers.l1(1e-5)),\r\n",
        "  layers.BatchNormalization(),\r\n",
        "  layers.Dense(180,activation='sigmoid', activity_regularizer=keras.regularizers.l1(1e-5)),\r\n",
        "  layers.BatchNormalization(),\r\n",
        "  # define decoder:\r\n",
        "  layers.Dense(120,activation='sigmoid', activity_regularizer=keras.regularizers.l1(1e-5)),\r\n",
        "  layers.BatchNormalization(),\r\n",
        "  layers.Dense(60,activation='sigmoid', activity_regularizer=keras.regularizers.l1(1e-5)),\r\n",
        "  layers.BatchNormalization(),\r\n",
        "  layers.Dense(n_outputs)                     \r\n",
        "  ])\r\n",
        "  model.compile(optimizer='Adam',loss='mse',metrics='accuracy') \r\n",
        "  return model\r\n"
      ],
      "execution_count": null,
      "outputs": []
    },
    {
      "cell_type": "code",
      "metadata": {
        "id": "X6QxR5269XmD"
      },
      "source": [
        "#Looking at the graph:\r\n",
        "build_model_AE_Sparse().summary()"
      ],
      "execution_count": null,
      "outputs": []
    },
    {
      "cell_type": "code",
      "metadata": {
        "id": "yrKyNb5r_l0L"
      },
      "source": [
        "#We will first create the object to feed fit() method:\r\n",
        "myCheckpoint_Sparse= keras.callbacks.ModelCheckpoint(\"my_best_model_AE_Sparse.h5\", save_best_only=True)"
      ],
      "execution_count": null,
      "outputs": []
    },
    {
      "cell_type": "code",
      "metadata": {
        "id": "lNmVygjR_l0P"
      },
      "source": [
        "#For its implementation:\r\n",
        "#https://keras.io/api/callbacks/early_stopping/\r\n",
        "# Here patience refers to the number of epochs with no improvement after which training will be stopped.\r\n",
        "myEarly_stopping_Sparse = keras.callbacks.EarlyStopping(patience=20,restore_best_weights=True)"
      ],
      "execution_count": null,
      "outputs": []
    },
    {
      "cell_type": "markdown",
      "metadata": {
        "id": "N4b5CtK0_l0S"
      },
      "source": [
        "## Model Training "
      ]
    },
    {
      "cell_type": "code",
      "metadata": {
        "id": "SHTrEewo_l0U"
      },
      "source": [
        "#Model Training\r\n",
        "#--------------------------------------------------------------------------\r\n",
        "#Hyperparameters\r\n",
        "num_epochs = 100\r\n",
        "batch_size = 128"
      ],
      "execution_count": null,
      "outputs": []
    },
    {
      "cell_type": "code",
      "metadata": {
        "id": "u9LNWt97_l0X"
      },
      "source": [
        "# Model Training:\r\n",
        "#-----------------------------------------------------------------------------\r\n",
        "#Building the Keras models:\r\n",
        "model_Sparse = build_model_AE_Sparse()\r\n",
        "\r\n",
        "#Training step: Trains the model in silent mode (verbose = 0)\r\n",
        "history_Sparse = model_Sparse.fit(X_train, X_train, epochs=num_epochs, batch_size=batch_size, validation_data=(X_train, X_train) , \r\n",
        "                                callbacks=[myCheckpoint_Sparse,myEarly_stopping_Sparse])#, verbose=0)\r\n",
        "#Calling back the best model:\r\n",
        "model_best_Sparse = keras.models.load_model(\"my_best_model_AE_Sparse.h5\")\r\n"
      ],
      "execution_count": null,
      "outputs": []
    },
    {
      "cell_type": "code",
      "metadata": {
        "id": "bUGZrogpI2gk"
      },
      "source": [
        "#Lets look into the history recorded:\r\n",
        "hist = pd.DataFrame(history_Sparse.history)"
      ],
      "execution_count": null,
      "outputs": []
    },
    {
      "cell_type": "code",
      "metadata": {
        "id": "25C-Vz19I2gq"
      },
      "source": [
        "#Adding epoch column:\r\n",
        "hist['epoch'] = history_Sparse.epoch"
      ],
      "execution_count": null,
      "outputs": []
    },
    {
      "cell_type": "code",
      "metadata": {
        "id": "t2QrUVNOI2gs"
      },
      "source": [
        "# Defining our function to see the evolution of error:\r\n",
        "def plot_learning_curves(history):\r\n",
        "  #We will omit the first 10 points for a better visualization:\r\n",
        "  plt.plot(history['epoch'],history['loss'], \"k--\", linewidth=1.5, label=\"Training\")\r\n",
        "  plt.plot(history['epoch'],history['val_loss'], \"b-.\", linewidth=1.5, label=\"Validation\")\r\n",
        "  plt.legend()\r\n",
        "  plt.yscale(\"log\")\r\n",
        "  plt.xlabel(\"Epochs\"),  plt.ylabel(\"Loss (MSE)\")"
      ],
      "execution_count": null,
      "outputs": []
    },
    {
      "cell_type": "code",
      "metadata": {
        "id": "Mh14ZCMOI2gu"
      },
      "source": [
        "# Plotting the results:\r\n",
        "# Remember that we defined our loss as MSE in the model.\r\n",
        "plot_learning_curves(hist)"
      ],
      "execution_count": null,
      "outputs": []
    },
    {
      "cell_type": "code",
      "metadata": {
        "id": "Ndn5Iex0_l0a"
      },
      "source": [
        "#Making predictions:\r\n",
        "X_test_predictions = pd.DataFrame(model_best_Sparse.predict(X_test),index=X_test.index)"
      ],
      "execution_count": null,
      "outputs": []
    },
    {
      "cell_type": "code",
      "metadata": {
        "id": "Q3bCagoM_l0d"
      },
      "source": [
        "#Using our own evaluation score for anomaly detection:\r\n",
        "anomalyScoresAE = anomalyScore(X_test,X_test_predictions)\r\n",
        "preds = plotResults(y_test, anomalyScoresAE,False, True)"
      ],
      "execution_count": null,
      "outputs": []
    },
    {
      "cell_type": "markdown",
      "metadata": {
        "id": "Fwo196iO_9uF"
      },
      "source": [
        "# Sparse AE: Alternative Approach\r\n",
        "\r\n",
        "It is also possible to monitor the sparsity of the network. We can manipulate the network by penalizing the neurons that are either over-active, or under-active via enforcing a sparsity loss.\r\n",
        "\r\n",
        "For that purpose, we need to add a custom regularizer function by using KL divergence. It is an important concept in ML. Here I leave some references to explore:\r\n",
        "\r\n",
        "https://en.wikipedia.org/wiki/Kullback%E2%80%93Leibler_divergence\r\n",
        "\r\n",
        "https://machinelearningmastery.com/divergence-between-probability-distributions/\r\n",
        "\r\n",
        "https://towardsdatascience.com/light-on-math-machine-learning-intuitive-guide-to-understanding-kl-divergence-2b382ca2b2a8\r\n",
        "\r\n",
        "https://dibyaghosh.com/blog/probability/kldivergence.html\r\n",
        "\r\n",
        "https://www.sciencedirect.com/science/article/pii/S1877050918317939\r\n",
        "\r\n",
        "https://medium.com/@syoya/what-happens-in-sparse-autencoder-b9a5a69da5c6\r\n",
        "\r\n",
        "If you want learn more about the implementation:\r\n",
        "\r\n",
        "https://keras.io/api/layers/regularizers/\r\n",
        "\r\n",
        "https://www.tensorflow.org/api_docs/python/tf/keras/regularizers/Regularizer\r\n",
        "\r\n",
        "https://www.tensorflow.org/probability/api_docs/python/tfp/layers/KLDivergenceRegularizer\r\n",
        "\r\n",
        "https://ieeexplore.ieee.org/document/7280364\r\n",
        "\r\n",
        "https://web.stanford.edu/class/cs294a/sparseAutoencoder.pdf"
      ]
    },
    {
      "cell_type": "code",
      "metadata": {
        "id": "2Osn218xJg-Q"
      },
      "source": [
        "#We will impose the additional cost on activity regularizer \r\n",
        "# to apply a penalty on the layer's output (like l1 in previous section).\r\n",
        "# Developing new regularizer described here with an example:\r\n",
        "#https://www.tensorflow.org/api_docs/python/tf/keras/regularizers/Regularizer\r\n",
        "#\r\n",
        "#Lets do it for kl_divergence:\r\n",
        "#https://keras.io/api/utils/backend_utils/\r\n",
        "K = keras.backend\r\n",
        "#Calling the additional cost fucntion:\r\n",
        "kl_divergence = keras.losses.kullback_leibler_divergence\r\n",
        "#\r\n",
        "class KLDivergenceRegularizer(keras.regularizers.Regularizer):\r\n",
        "  def __init__(self, weight, target=0.1):\r\n",
        "    self.weight = weight\r\n",
        "    self.target = target\r\n",
        "  def get_config(self):\r\n",
        "    return {'weight': float(self.weight), 'target':float(self.target)}\r\n",
        "  def __call__(self, inputs):\r\n",
        "    mean_activities = K.mean(inputs, axis=0)\r\n",
        "    return self.weight *(kl_divergence(self.target, mean_activities) + kl_divergence(1. - self.target, 1. - mean_activities))"
      ],
      "execution_count": null,
      "outputs": []
    },
    {
      "cell_type": "code",
      "metadata": {
        "id": "bllTcr_NFYPg"
      },
      "source": [
        "def build_model_AE_Sparse_2():\r\n",
        "  #Here we will use Sequential API\r\n",
        "  n_features, n_outputs = X_train.shape[1],X_train.shape[1] \r\n",
        "  #Here we will define its impact as well as the target sparsity:\r\n",
        "  kld_reg = KLDivergenceRegularizer(weight=0.03, target=0.1)\r\n",
        "  model = models.Sequential([\r\n",
        "  # define the encoder with decreasing # of nodes\r\n",
        "  layers.Dense(60, kernel_initializer=\"he_normal\", input_shape=(n_features,)),keras.layers.LeakyReLU(alpha=0.1),                           \r\n",
        "  layers.BatchNormalization(),\r\n",
        "  layers.Dense(120,kernel_initializer=\"he_normal\", activity_regularizer=kld_reg),keras.layers.LeakyReLU(alpha=0.1),\r\n",
        "  layers.BatchNormalization(),\r\n",
        "  layers.Dense(180,kernel_initializer=\"he_normal\", activity_regularizer=kld_reg),keras.layers.LeakyReLU(alpha=0.1),\r\n",
        "  layers.BatchNormalization(),\r\n",
        "  # define decoder:\r\n",
        "  layers.Dense(120,kernel_initializer=\"he_normal\", activity_regularizer=kld_reg),keras.layers.LeakyReLU(alpha=0.1),\r\n",
        "  layers.BatchNormalization(),\r\n",
        "  layers.Dense(60,kernel_initializer=\"he_normal\", activity_regularizer=kld_reg),keras.layers.LeakyReLU(alpha=0.1),\r\n",
        "  layers.BatchNormalization(),\r\n",
        "  layers.Dense(n_outputs)                     \r\n",
        "  ])\r\n",
        "  model.compile(optimizer='Adam',loss='mse',metrics='accuracy') \r\n",
        "  return model\r\n"
      ],
      "execution_count": null,
      "outputs": []
    },
    {
      "cell_type": "code",
      "metadata": {
        "id": "szcaLpUXFYPl"
      },
      "source": [
        "#Looking at the graph:\r\n",
        "build_model_AE_Sparse_2().summary()"
      ],
      "execution_count": null,
      "outputs": []
    },
    {
      "cell_type": "code",
      "metadata": {
        "id": "I9xGc2qqFYPm"
      },
      "source": [
        "#We will first create the object to feed fit() method:\r\n",
        "myCheckpoint_Sparse_2= keras.callbacks.ModelCheckpoint(\"my_best_model_AE_Sparse_2.h5\", save_best_only=True)"
      ],
      "execution_count": null,
      "outputs": []
    },
    {
      "cell_type": "code",
      "metadata": {
        "id": "2Daah8yxFYPo"
      },
      "source": [
        "#For its implementation:\r\n",
        "#https://keras.io/api/callbacks/early_stopping/\r\n",
        "# Here patience refers to the number of epochs with no improvement after which training will be stopped.\r\n",
        "myEarly_stopping_Sparse_2 = keras.callbacks.EarlyStopping(patience=25,restore_best_weights=True)"
      ],
      "execution_count": null,
      "outputs": []
    },
    {
      "cell_type": "markdown",
      "metadata": {
        "id": "R_hOSrV2MVa0"
      },
      "source": [
        "## Model Training "
      ]
    },
    {
      "cell_type": "code",
      "metadata": {
        "id": "6VOw4tWGMVa2"
      },
      "source": [
        "#Model Training\r\n",
        "#--------------------------------------------------------------------------\r\n",
        "#Hyperparameters\r\n",
        "num_epochs = 100\r\n",
        "batch_size = 128"
      ],
      "execution_count": null,
      "outputs": []
    },
    {
      "cell_type": "code",
      "metadata": {
        "id": "UBTaw4WjMVa7"
      },
      "source": [
        "# Model Training:\r\n",
        "#-----------------------------------------------------------------------------\r\n",
        "#Building the Keras models:\r\n",
        "model_Sparse_2 = build_model_AE_Sparse_2()\r\n",
        "\r\n",
        "#Training step: Trains the model in silent mode (verbose = 0)\r\n",
        "history_Sparse_2 = model_Sparse_2.fit(X_train, X_train, epochs=num_epochs, batch_size=batch_size, validation_data=(X_train, X_train) , \r\n",
        "                                callbacks=[myCheckpoint_Sparse_2,myEarly_stopping_Sparse_2])#, verbose=0)\r\n",
        "\r\n"
      ],
      "execution_count": null,
      "outputs": []
    },
    {
      "cell_type": "code",
      "metadata": {
        "id": "ZoOvNR4_WIt1"
      },
      "source": [
        "#Calling back the best model:\r\n",
        "#here you need to inform TF about your custom object (https://github.com/keras-team/keras/issues/9377)\r\n",
        "model_best_Sparse_2 = keras.models.load_model(\"my_best_model_AE_Sparse_2.h5\",custom_objects={'KLDivergenceRegularizer': KLDivergenceRegularizer})"
      ],
      "execution_count": null,
      "outputs": []
    },
    {
      "cell_type": "code",
      "metadata": {
        "id": "5MyFsWS0MVa-"
      },
      "source": [
        "#Lets look into the history recorded:\r\n",
        "hist = pd.DataFrame(history_Sparse_2.history)"
      ],
      "execution_count": null,
      "outputs": []
    },
    {
      "cell_type": "code",
      "metadata": {
        "id": "FSom2t4OMVa-"
      },
      "source": [
        "#Adding epoch column:\r\n",
        "hist['epoch'] = history_Sparse_2.epoch\r\n",
        "hist.head(1)"
      ],
      "execution_count": null,
      "outputs": []
    },
    {
      "cell_type": "code",
      "metadata": {
        "id": "XiXgpqpDMVbA"
      },
      "source": [
        "# Defining our function to see the evolution of error:\r\n",
        "def plot_learning_curves(history):\r\n",
        "  #We will omit the first 10 points for a better visualization:\r\n",
        "  plt.plot(history['epoch'],history['loss'], \"k--\", linewidth=1.5, label=\"Training\")\r\n",
        "  plt.plot(history['epoch'],history['val_loss'], \"b-.\", linewidth=1.5, label=\"Validation\")\r\n",
        "  plt.legend()\r\n",
        "  plt.yscale(\"log\")\r\n",
        "  plt.xlabel(\"Epochs\"),  plt.ylabel(\"Loss (MSE)\")"
      ],
      "execution_count": null,
      "outputs": []
    },
    {
      "cell_type": "code",
      "metadata": {
        "id": "vAj6xgPEMVbC"
      },
      "source": [
        "# Plotting the results:\r\n",
        "# Remember that we defined our loss as MSE in the model.\r\n",
        "plot_learning_curves(hist)"
      ],
      "execution_count": null,
      "outputs": []
    },
    {
      "cell_type": "code",
      "metadata": {
        "id": "ttG8RatUMVbD"
      },
      "source": [
        "#Making predictions:\r\n",
        "X_test_predictions = pd.DataFrame(model_best_Sparse_2.predict(X_test),index=X_test.index)"
      ],
      "execution_count": null,
      "outputs": []
    },
    {
      "cell_type": "code",
      "metadata": {
        "id": "qpIQ-UlNMVbF"
      },
      "source": [
        "#Using our own evaluation score for anomaly detection:\r\n",
        "anomalyScoresAE = anomalyScore(X_test,X_test_predictions)\r\n",
        "preds = plotResults(y_test, anomalyScoresAE,False, True)"
      ],
      "execution_count": null,
      "outputs": []
    },
    {
      "cell_type": "markdown",
      "metadata": {
        "id": "wl0MHSJaX878"
      },
      "source": [
        "# De-noising the data with AEs\r\n",
        "\r\n",
        "Another use case for AEs is the elimination of noise in the input matrix X. This could be due to the measurement setup, the sensory device itself or some numerical dissipation. \r\n",
        "\r\n",
        "Lets see how it works. Here I will add additional noise in the data to mimick the possible noises I would expect. Note that **here we assume you have some less noisy data for training.**"
      ]
    },
    {
      "cell_type": "code",
      "metadata": {
        "id": "TG3TP3aae8pv"
      },
      "source": [
        "#Adding artificial noise to X:\r\n",
        "noise_factor = 0.10\r\n",
        "X_train_noisy = X_train.copy() + noise_factor*np.random.normal(loc=0.0, scale=1.0, size=X_train.shape)\r\n",
        "X_test_noisy = X_test.copy() + noise_factor*np.random.normal(loc=0.0, scale=1.0, size=X_test.shape)"
      ],
      "execution_count": null,
      "outputs": []
    },
    {
      "cell_type": "code",
      "metadata": {
        "id": "VyxpWOVefltP"
      },
      "source": [
        "def build_model_AE_noise():\r\n",
        "  #Here we will use Sequential API\r\n",
        "  n_features, n_outputs = X_train_noisy.shape[1],X_train_noisy.shape[1] \r\n",
        "  model = models.Sequential([\r\n",
        "  # define the encoder with decreasing # of nodes\r\n",
        "  layers.Dense(25, activation='linear', input_shape=(n_features,)),\r\n",
        "  layers.Dense(20,activation='linear'),\r\n",
        "  layers.Dense(15,activation='linear'),\r\n",
        "  # define decoder:\r\n",
        "  layers.Dense(20,activation='linear'),\r\n",
        "  layers.Dense(25,activation='linear'),\r\n",
        "  layers.Dense(n_outputs)                     \r\n",
        "  ])\r\n",
        "  model.compile(optimizer='Adam',loss='mse',metrics='accuracy') \r\n",
        "  return model\r\n"
      ],
      "execution_count": null,
      "outputs": []
    },
    {
      "cell_type": "code",
      "metadata": {
        "id": "FgxFWnSKfltR"
      },
      "source": [
        "#Looking at the graph:\r\n",
        "build_model_AE_noise().summary()"
      ],
      "execution_count": null,
      "outputs": []
    },
    {
      "cell_type": "code",
      "metadata": {
        "id": "2uOz1MpOfltT"
      },
      "source": [
        "#We will first create the object to feed fit() method:\r\n",
        "myCheckpoint_noise= keras.callbacks.ModelCheckpoint(\"my_best_model_noise.h5\", save_best_only=True)"
      ],
      "execution_count": null,
      "outputs": []
    },
    {
      "cell_type": "code",
      "metadata": {
        "id": "gbNtwxb7fltT"
      },
      "source": [
        "#For its implementation:\r\n",
        "#https://keras.io/api/callbacks/early_stopping/\r\n",
        "# Here patience refers to the number of epochs with no improvement after which training will be stopped.\r\n",
        "myEarly_stopping_noise = keras.callbacks.EarlyStopping(patience=10,restore_best_weights=True)"
      ],
      "execution_count": null,
      "outputs": []
    },
    {
      "cell_type": "markdown",
      "metadata": {
        "id": "MDIW7JO41n0p"
      },
      "source": [
        "## Model Training"
      ]
    },
    {
      "cell_type": "code",
      "metadata": {
        "id": "XHKd30vUfltT"
      },
      "source": [
        "#Model Training\r\n",
        "#--------------------------------------------------------------------------\r\n",
        "#Hyperparameters\r\n",
        "num_epochs = 100\r\n",
        "batch_size = 128"
      ],
      "execution_count": null,
      "outputs": []
    },
    {
      "cell_type": "code",
      "metadata": {
        "id": "S3hGDTH_fltU"
      },
      "source": [
        "# Model Training:\r\n",
        "#-----------------------------------------------------------------------------\r\n",
        "#Building the Keras models:\r\n",
        "model_noise = build_model_AE_noise()\r\n",
        "\r\n",
        "#Training step: Trains the model in silent mode (verbose = 0)\r\n",
        "history_base_noise = model_noise.fit(X_train_noisy, X_train_noisy, epochs=num_epochs, batch_size=batch_size, validation_data=(X_train_noisy, X_train_noisy) , \r\n",
        "                                callbacks=[myCheckpoint_noise,myEarly_stopping_noise])#, verbose=0)\r\n",
        "#Calling back the best model:\r\n",
        "model_best_noise = keras.models.load_model(\"my_best_model_noise.h5\")\r\n"
      ],
      "execution_count": null,
      "outputs": []
    },
    {
      "cell_type": "code",
      "metadata": {
        "id": "6s0LfB5GfltU"
      },
      "source": [
        "#Making predictions:\r\n",
        "X_test_predictions = pd.DataFrame(model_best_noise.predict(X_test_noisy),index=X_test_noisy.index)"
      ],
      "execution_count": null,
      "outputs": []
    },
    {
      "cell_type": "code",
      "metadata": {
        "id": "ttcf0LE_fltV"
      },
      "source": [
        "#Using our own evaluation score for anomaly detection:\r\n",
        "anomalyScoresAE = anomalyScore(X_test_noisy,X_test_predictions)\r\n",
        "preds = plotResults(y_test, anomalyScoresAE,False, True)"
      ],
      "execution_count": null,
      "outputs": []
    },
    {
      "cell_type": "markdown",
      "metadata": {
        "id": "OLAobMArgqDZ"
      },
      "source": [
        "In general, it usually perfoms better when nonlinear activation functions are used for denoising. You may experiment yourself whether that will also be the case in this outlier detection problem. "
      ]
    },
    {
      "cell_type": "markdown",
      "metadata": {
        "id": "Osp3P3hwhf93"
      },
      "source": [
        "# AEs as an Interpolator \r\n",
        "\r\n",
        "A similar trick is used to process input data that is partially missing. In the architecture, it is mimicked as a dropout layer at the first layer. "
      ]
    },
    {
      "cell_type": "code",
      "metadata": {
        "id": "OHBKpa7hiD3d"
      },
      "source": [
        "def build_model_int():\r\n",
        "  #Here we will use Sequential API\r\n",
        "  n_features, n_outputs = X_train.shape[1],X_train.shape[1] \r\n",
        "  #Here we will define its impact as well as the target sparsity:\r\n",
        "  kld_reg = KLDivergenceRegularizer(weight=0.03, target=0.1)\r\n",
        "  model = models.Sequential([\r\n",
        "  # define the encoder with decreasing # of nodes\r\n",
        "  layers.Dense(60, kernel_initializer=\"he_normal\", input_shape=(n_features,)),keras.layers.LeakyReLU(alpha=0.1),                           \r\n",
        "  layers.Dropout(0.20),\r\n",
        "  layers.BatchNormalization(),\r\n",
        "  layers.Dense(120,kernel_initializer=\"he_normal\", activity_regularizer=kld_reg),keras.layers.LeakyReLU(alpha=0.1),\r\n",
        "  layers.BatchNormalization(),\r\n",
        "  layers.Dense(180,kernel_initializer=\"he_normal\", activity_regularizer=kld_reg),keras.layers.LeakyReLU(alpha=0.1),\r\n",
        "  layers.BatchNormalization(),\r\n",
        "  # define decoder:\r\n",
        "  layers.Dense(120,kernel_initializer=\"he_normal\", activity_regularizer=kld_reg),keras.layers.LeakyReLU(alpha=0.1),\r\n",
        "  layers.BatchNormalization(),\r\n",
        "  layers.Dense(60,kernel_initializer=\"he_normal\", activity_regularizer=kld_reg),keras.layers.LeakyReLU(alpha=0.1),\r\n",
        "  layers.BatchNormalization(),\r\n",
        "  layers.Dense(n_outputs)                     \r\n",
        "  ])\r\n",
        "  model.compile(optimizer='Adam',loss='mse',metrics='accuracy') \r\n",
        "  return model\r\n"
      ],
      "execution_count": null,
      "outputs": []
    },
    {
      "cell_type": "code",
      "metadata": {
        "id": "fFV5CIX5iD3e"
      },
      "source": [
        "#Looking at the graph:\r\n",
        "build_model_int().summary()"
      ],
      "execution_count": null,
      "outputs": []
    },
    {
      "cell_type": "code",
      "metadata": {
        "id": "hsX5XaRZiD3g"
      },
      "source": [
        "#We will first create the object to feed fit() method:\r\n",
        "myCheckpoint_int= keras.callbacks.ModelCheckpoint(\"my_best_model_AE_int.h5\", save_best_only=True)"
      ],
      "execution_count": null,
      "outputs": []
    },
    {
      "cell_type": "code",
      "metadata": {
        "id": "Le8DfFzZiD3g"
      },
      "source": [
        "#For its implementation:\r\n",
        "#https://keras.io/api/callbacks/early_stopping/\r\n",
        "# Here patience refers to the number of epochs with no improvement after which training will be stopped.\r\n",
        "myEarly_stopping_int = keras.callbacks.EarlyStopping(patience=25,restore_best_weights=True)"
      ],
      "execution_count": null,
      "outputs": []
    },
    {
      "cell_type": "markdown",
      "metadata": {
        "id": "Zws6BdKY1sZ3"
      },
      "source": [
        "## Model Training"
      ]
    },
    {
      "cell_type": "code",
      "metadata": {
        "id": "_Ynm5vcviD3g"
      },
      "source": [
        "#Model Training\r\n",
        "#--------------------------------------------------------------------------\r\n",
        "#Hyperparameters\r\n",
        "num_epochs = 100\r\n",
        "batch_size = 128"
      ],
      "execution_count": null,
      "outputs": []
    },
    {
      "cell_type": "code",
      "metadata": {
        "id": "tpQzNRVpiD3i"
      },
      "source": [
        "# Model Training:\r\n",
        "#-----------------------------------------------------------------------------\r\n",
        "#Building the Keras models:\r\n",
        "model_int = build_model_int()\r\n",
        "\r\n",
        "#Training step: Trains the model in silent mode (verbose = 0)\r\n",
        "history_int = model_int.fit(X_train, X_train, epochs=num_epochs, batch_size=batch_size, validation_data=(X_train, X_train) , \r\n",
        "                                callbacks=[myCheckpoint_int,myEarly_stopping_int])#, verbose=0)\r\n",
        "\r\n"
      ],
      "execution_count": null,
      "outputs": []
    },
    {
      "cell_type": "code",
      "metadata": {
        "id": "zpDOehUXiD3j"
      },
      "source": [
        "#Calling back the best model:\r\n",
        "#here you need to inform TF about your custom object (https://github.com/keras-team/keras/issues/9377)\r\n",
        "model_best_int = keras.models.load_model(\"my_best_model_AE_int.h5\",custom_objects={'KLDivergenceRegularizer': KLDivergenceRegularizer})"
      ],
      "execution_count": null,
      "outputs": []
    },
    {
      "cell_type": "code",
      "metadata": {
        "id": "BMv8YaMBiD3j"
      },
      "source": [
        "#Making predictions:\r\n",
        "X_test_predictions = pd.DataFrame(model_best_int.predict(X_test),index=X_test.index)"
      ],
      "execution_count": null,
      "outputs": []
    },
    {
      "cell_type": "code",
      "metadata": {
        "id": "oGGE2--ziD3k"
      },
      "source": [
        "#Using our own evaluation score for anomaly detection:\r\n",
        "anomalyScoresAE = anomalyScore(X_test,X_test_predictions)\r\n",
        "preds = plotResults(y_test, anomalyScoresAE,False, True)"
      ],
      "execution_count": null,
      "outputs": []
    },
    {
      "cell_type": "markdown",
      "metadata": {
        "id": "wRBAc7i7mmZq"
      },
      "source": [
        "# Transfer Learning with AEs\r\n",
        "\r\n",
        "It is a common practice now to use latent space variables in a second ML / probabilistic based models to exploit sparse, reduced order representations of dynamical systems. One recent example is the integration of SINDy with Autoencoders:\r\n",
        "\r\n",
        "https://www.youtube.com/watch?v=WHhDgxkiR9c\r\n",
        "\r\n",
        "Here you can do one-way coupling or two-way coupling. \r\n",
        "\r\n",
        "In the one-way version, we do a sequential analysis. The idea is simple: you train the AE to generate the latent space variables. Then, you pass this information to a second model having a different task like regression, classification etc. \r\n",
        "\r\n",
        "In two-way coupling, you train your AE together with the second model by enforcing a joint error function so that you look for the optimum solution in a coupled way. \r\n",
        "\r\n",
        "In this exercise, we will see how we can pass weights to another network in TF. We will explore dynamical systems in more depth during DDE-2. \r\n",
        "\r\n",
        "You may also see below link for Keras implementation:\r\n",
        "\r\n",
        "https://keras.io/guides/transfer_learning/"
      ]
    },
    {
      "cell_type": "code",
      "metadata": {
        "id": "EpJSpc6MoT7k"
      },
      "source": [
        "# Copying the base model:\r\n",
        "base_model_x = keras.models.load_model(\"my_best_model_AE_int.h5\",custom_objects={'KLDivergenceRegularizer': KLDivergenceRegularizer})"
      ],
      "execution_count": null,
      "outputs": []
    },
    {
      "cell_type": "code",
      "metadata": {
        "id": "_Dq4-hJgq4Aj"
      },
      "source": [
        "#Lets see the layers:\r\n",
        "base_model_x.summary()"
      ],
      "execution_count": null,
      "outputs": []
    },
    {
      "cell_type": "markdown",
      "metadata": {
        "id": "gTKI8CK1r9RT"
      },
      "source": [
        "Lets say that we are interested in passing the weights of the encoders. In this case, we can cut the pretrained NN at the desired location:"
      ]
    },
    {
      "cell_type": "code",
      "metadata": {
        "id": "ipbc7yc5sqlN"
      },
      "source": [
        "model_new = Sequential()\r\n",
        "for layer in base_model_x.layers[:10]: # get the encoder\r\n",
        "    model_new.add(layer)\r\n",
        "#Here I will freeze the weights so that they will not be changed during the training:\r\n",
        "for layer in model_new.layers[:]:\r\n",
        "  layer.trainable = False\r\n",
        "#Say we will add a dense layer for classification:\r\n",
        "model_new.add(Dense(3, activation='softmax'))\r\n",
        "#Lets see:\r\n",
        "model_new.summary()"
      ],
      "execution_count": null,
      "outputs": []
    },
    {
      "cell_type": "markdown",
      "metadata": {
        "id": "2JD3sVAzvEWX"
      },
      "source": [
        "Here you can see that only trainable parameters are from the last layer.\r\n",
        "\r\n",
        "You can also call specific layer weights and copy them on a new NN. If you give names to each layer, you can also use these names during the data transfer. "
      ]
    },
    {
      "cell_type": "code",
      "metadata": {
        "id": "WZyyc6jlvU6e"
      },
      "source": [
        "#For descriptions:\r\n",
        "#https://keras.io/api/layers/base_layer/#set_weights-method\r\n",
        "#https://keras.io/api/layers/base_layer/#get_weights-method\r\n",
        "weights_passing = base_model_x.layers[6].get_weights()\r\n",
        "model_new.layers[6].set_weights(weights_passing)"
      ],
      "execution_count": null,
      "outputs": []
    },
    {
      "cell_type": "code",
      "metadata": {
        "id": "fhBZ6ut2uW6p"
      },
      "source": [
        "#Model is compiled similarly:\r\n",
        "model_new.compile(optimizer='adam', loss='categorical_crossentropy')"
      ],
      "execution_count": null,
      "outputs": []
    },
    {
      "cell_type": "markdown",
      "metadata": {
        "id": "3_gtU7QCXkh3"
      },
      "source": [
        "# Reading Material\n",
        "\n",
        "https://scikit-learn.org/stable/modules/decomposition.html\n",
        "\n",
        "https://ocw.mit.edu/courses/mathematics/18-650-statistics-for-applications-fall-2016/lecture-slides/MIT18_650F16_PCA.pdf\n",
        "\n",
        "https://www.knime.com/blog/seven-techniques-for-data-dimensionality-reduction\n",
        "\n",
        "http://cs229.stanford.edu/notes2020spring/cs229-notes10.pdf\n",
        "\n",
        "\n"
      ]
    }
  ]
}