{
  "nbformat": 4,
  "nbformat_minor": 0,
  "metadata": {
    "colab": {
      "name": "Time_Series_I.ipynb",
      "provenance": [],
      "collapsed_sections": [],
      "toc_visible": true
    },
    "kernelspec": {
      "name": "python3",
      "display_name": "Python 3"
    }
  },
  "cells": [
    {
      "cell_type": "markdown",
      "metadata": {
        "id": "cQxGOeC7ZmUj"
      },
      "source": [
        "#Active Session 6: Time Series Analysis for Dynamical Systems I"
      ]
    },
    {
      "cell_type": "markdown",
      "metadata": {
        "id": "VpF0Ype1X_L7"
      },
      "source": [
        "#Important Note\n",
        "\n",
        "Lecture notes and notebooks must not be copied and/or distributed without the express permission of ITS.\n",
        "\n",
        "\n",
        "\n"
      ]
    },
    {
      "cell_type": "markdown",
      "metadata": {
        "id": "rA_3sqmEls1m"
      },
      "source": [
        "#1. Problem Definition: Short Term Load Forecasting\n",
        "\n",
        "Energy landscape is changing with the increase in the share of renewables and change in user behaviour. There are important challenges waiting to be solved within the energy sector and the demand forecasting can help solving critical business problems. Feel free to explore the additional content at the end from GE.\n",
        "\n",
        "In this dataset, we will perform load forecasting within the context of energy demand. It is an open-access data published as the appendix Hong et al. (2016). The data consists of three years of hourly electricity load and temperatures. The temperature data will serve as a typical additional feature for load forecasting -- depending on how you formulate your solution, you may need to predict the temperature as well!"
      ]
    },
    {
      "cell_type": "markdown",
      "metadata": {
        "id": "C9yyayGmmaKy"
      },
      "source": [
        "\n",
        "# 2. Preparing the enviroment\n",
        "\n",
        "Import the Python libraries that we will need to (i) load the data, (ii) analyze it, (iii) create our model, (iv) process the results."
      ]
    },
    {
      "cell_type": "code",
      "metadata": {
        "colab": {
          "base_uri": "https://localhost:8080/"
        },
        "id": "yWFatBGPPinR",
        "outputId": "e224cca0-0f7e-4c05-cf91-ed416a812de8"
      },
      "source": [
        "!pip install ipython-autotime\r\n",
        "%load_ext autotime"
      ],
      "execution_count": null,
      "outputs": [
        {
          "output_type": "stream",
          "text": [
            "Requirement already satisfied: ipython-autotime in /usr/local/lib/python3.6/dist-packages (0.3.0)\n",
            "Requirement already satisfied: ipython in /usr/local/lib/python3.6/dist-packages (from ipython-autotime) (5.5.0)\n",
            "Requirement already satisfied: pygments in /usr/local/lib/python3.6/dist-packages (from ipython->ipython-autotime) (2.6.1)\n",
            "Requirement already satisfied: decorator in /usr/local/lib/python3.6/dist-packages (from ipython->ipython-autotime) (4.4.2)\n",
            "Requirement already satisfied: prompt-toolkit<2.0.0,>=1.0.4 in /usr/local/lib/python3.6/dist-packages (from ipython->ipython-autotime) (1.0.18)\n",
            "Requirement already satisfied: pickleshare in /usr/local/lib/python3.6/dist-packages (from ipython->ipython-autotime) (0.7.5)\n",
            "Requirement already satisfied: setuptools>=18.5 in /usr/local/lib/python3.6/dist-packages (from ipython->ipython-autotime) (51.1.1)\n",
            "Requirement already satisfied: simplegeneric>0.8 in /usr/local/lib/python3.6/dist-packages (from ipython->ipython-autotime) (0.8.1)\n",
            "Requirement already satisfied: traitlets>=4.2 in /usr/local/lib/python3.6/dist-packages (from ipython->ipython-autotime) (4.3.3)\n",
            "Requirement already satisfied: pexpect; sys_platform != \"win32\" in /usr/local/lib/python3.6/dist-packages (from ipython->ipython-autotime) (4.8.0)\n",
            "Requirement already satisfied: wcwidth in /usr/local/lib/python3.6/dist-packages (from prompt-toolkit<2.0.0,>=1.0.4->ipython->ipython-autotime) (0.2.5)\n",
            "Requirement already satisfied: six>=1.9.0 in /usr/local/lib/python3.6/dist-packages (from prompt-toolkit<2.0.0,>=1.0.4->ipython->ipython-autotime) (1.15.0)\n",
            "Requirement already satisfied: ipython-genutils in /usr/local/lib/python3.6/dist-packages (from traitlets>=4.2->ipython->ipython-autotime) (0.2.0)\n",
            "Requirement already satisfied: ptyprocess>=0.5 in /usr/local/lib/python3.6/dist-packages (from pexpect; sys_platform != \"win32\"->ipython->ipython-autotime) (0.7.0)\n",
            "The autotime extension is already loaded. To reload it, use:\n",
            "  %reload_ext autotime\n",
            "time: 2.88 s (started: 2021-01-14 20:39:22 +00:00)\n"
          ],
          "name": "stdout"
        }
      ]
    },
    {
      "cell_type": "markdown",
      "metadata": {
        "id": "OYJUVWg9-HxL"
      },
      "source": [
        "## Libraries"
      ]
    },
    {
      "cell_type": "code",
      "metadata": {
        "colab": {
          "base_uri": "https://localhost:8080/"
        },
        "id": "8i9z1Kao-kQT",
        "outputId": "b852ae5d-4773-43a2-c53e-6d6ed6621f97"
      },
      "source": [
        "#Local Installations\r\n",
        "!pip install statsmodels"
      ],
      "execution_count": null,
      "outputs": [
        {
          "output_type": "stream",
          "text": [
            "Requirement already satisfied: statsmodels in /usr/local/lib/python3.6/dist-packages (0.10.2)\n",
            "Requirement already satisfied: pandas>=0.19 in /usr/local/lib/python3.6/dist-packages (from statsmodels) (1.1.5)\n",
            "Requirement already satisfied: scipy>=0.18 in /usr/local/lib/python3.6/dist-packages (from statsmodels) (1.4.1)\n",
            "Requirement already satisfied: patsy>=0.4.0 in /usr/local/lib/python3.6/dist-packages (from statsmodels) (0.5.1)\n",
            "Requirement already satisfied: numpy>=1.11 in /usr/local/lib/python3.6/dist-packages (from statsmodels) (1.19.5)\n",
            "Requirement already satisfied: python-dateutil>=2.7.3 in /usr/local/lib/python3.6/dist-packages (from pandas>=0.19->statsmodels) (2.8.1)\n",
            "Requirement already satisfied: pytz>=2017.2 in /usr/local/lib/python3.6/dist-packages (from pandas>=0.19->statsmodels) (2018.9)\n",
            "Requirement already satisfied: six in /usr/local/lib/python3.6/dist-packages (from patsy>=0.4.0->statsmodels) (1.15.0)\n",
            "time: 2.77 s (started: 2021-01-14 20:39:25 +00:00)\n"
          ],
          "name": "stdout"
        }
      ]
    },
    {
      "cell_type": "code",
      "metadata": {
        "colab": {
          "base_uri": "https://localhost:8080/"
        },
        "id": "qQAx5I7N-GQ0",
        "outputId": "dc9669b3-5de2-4c42-ce08-1bc627c2bebb"
      },
      "source": [
        "#Importing the necessary libraries\r\n",
        "import math\r\n",
        "import numpy as np\r\n",
        "import pandas as pd\r\n",
        "import datetime as dt\r\n",
        "import os\r\n",
        "import itertools\r\n",
        "import matplotlib.pyplot as plt\r\n",
        "import seaborn as sns\r\n",
        "color = sns.color_palette()\r\n",
        "import matplotlib as mpl\r\n",
        "from matplotlib import colors as mcolors\r\n",
        "colors = dict(mcolors.BASE_COLORS, **mcolors.CSS4_COLORS)\r\n",
        "import statsmodels.api as sm\r\n",
        "import warnings\r\n",
        "import matplotlib.dates as mdates\r\n",
        "from pandas.plotting import lag_plot, autocorrelation_plot\r\n",
        "from statsmodels.graphics.tsaplots import plot_acf, plot_pacf "
      ],
      "execution_count": null,
      "outputs": [
        {
          "output_type": "stream",
          "text": [
            "time: 5.94 ms (started: 2021-01-14 20:39:28 +00:00)\n"
          ],
          "name": "stdout"
        }
      ]
    },
    {
      "cell_type": "code",
      "metadata": {
        "colab": {
          "base_uri": "https://localhost:8080/"
        },
        "id": "Bde603-P-KSz",
        "outputId": "fdb9cbf0-3865-455d-d4d7-7ef448102c2e"
      },
      "source": [
        "# Data Preparation and Scoring\r\n",
        "from sklearn import preprocessing as pp\r\n",
        "from scipy import stats\r\n",
        "from sklearn.model_selection import train_test_split\r\n",
        "from sklearn.model_selection import KFold\r\n",
        "from sklearn.model_selection import GridSearchCV\r\n",
        "from scipy.stats import reciprocal\r\n",
        "from sklearn.model_selection import RandomizedSearchCV\r\n",
        "from sklearn.metrics import make_scorer\r\n",
        "from sklearn.metrics import accuracy_score\r\n",
        "from sklearn.metrics import mean_absolute_error\r\n",
        "from sklearn.metrics import r2_score\r\n",
        "from sklearn.metrics import mean_squared_error\r\n",
        "from matplotlib.colors import LogNorm"
      ],
      "execution_count": null,
      "outputs": [
        {
          "output_type": "stream",
          "text": [
            "time: 8.55 ms (started: 2021-01-14 20:39:28 +00:00)\n"
          ],
          "name": "stdout"
        }
      ]
    },
    {
      "cell_type": "code",
      "metadata": {
        "colab": {
          "base_uri": "https://localhost:8080/"
        },
        "id": "Pdh6vaiE-PVi",
        "outputId": "2c7c494f-7b78-4cc7-e5ef-668f025353fa"
      },
      "source": [
        "# ML Algorithms to be used\r\n",
        "\r\n",
        "from statsmodels.tsa.statespace.sarimax import SARIMAX\r\n",
        "from sklearn.svm import SVR"
      ],
      "execution_count": null,
      "outputs": [
        {
          "output_type": "stream",
          "text": [
            "time: 2.89 ms (started: 2021-01-14 20:39:28 +00:00)\n"
          ],
          "name": "stdout"
        }
      ]
    },
    {
      "cell_type": "markdown",
      "metadata": {
        "id": "_4cDs8HWmfhF"
      },
      "source": [
        "# 3. Pre-processing\n"
      ]
    },
    {
      "cell_type": "markdown",
      "metadata": {
        "id": "R2p8AIqRvakC"
      },
      "source": [
        "## Loading the Data\n",
        "\n",
        "We need to upload the dataset to Colab enviroment. Pandas library is a practical way to load and read the data from an url. \n",
        "\n",
        "The data is on ILIAS so this week you need to upload the data from your local pc / by using Google Drive link. "
      ]
    },
    {
      "cell_type": "code",
      "metadata": {
        "colab": {
          "base_uri": "https://localhost:8080/"
        },
        "id": "PblFr19N6MYw",
        "outputId": "70b21e85-92ae-4dad-ac37-d072d4fd0399"
      },
      "source": [
        "# Loading the data\n",
        "!pip install -U -q PyDrive\n",
        "from pydrive.auth import GoogleAuth\n",
        "from pydrive.drive import GoogleDrive\n",
        "from google.colab import auth\n",
        "from oauth2client.client import GoogleCredentials# Authenticate and create the PyDrive client.\n",
        "auth.authenticate_user()\n",
        "gauth = GoogleAuth()\n",
        "gauth.credentials = GoogleCredentials.get_application_default()\n",
        "drive = GoogleDrive(gauth)"
      ],
      "execution_count": null,
      "outputs": [
        {
          "output_type": "stream",
          "text": [
            "time: 2.92 s (started: 2021-01-14 20:39:28 +00:00)\n"
          ],
          "name": "stdout"
        }
      ]
    },
    {
      "cell_type": "code",
      "metadata": {
        "colab": {
          "base_uri": "https://localhost:8080/",
          "height": 225
        },
        "id": "lP0FCEaz6qJC",
        "outputId": "dd705bb2-ae3f-4a7a-95f1-42b9ffa9d79d"
      },
      "source": [
        "downloaded = drive.CreateFile({'id':'1cqX7sRtu_J0Q8nMRuwb0YbMjb6jN7lyb'}) \n",
        "downloaded.GetContentFile('energy.csv')\n",
        "data = pd.read_csv('energy.csv')  #,parse_dates=[['Date', 'Hour']]) if date and hour to be merged here.\n",
        "data.head()"
      ],
      "execution_count": null,
      "outputs": [
        {
          "output_type": "execute_result",
          "data": {
            "text/html": [
              "<div>\n",
              "<style scoped>\n",
              "    .dataframe tbody tr th:only-of-type {\n",
              "        vertical-align: middle;\n",
              "    }\n",
              "\n",
              "    .dataframe tbody tr th {\n",
              "        vertical-align: top;\n",
              "    }\n",
              "\n",
              "    .dataframe thead th {\n",
              "        text-align: right;\n",
              "    }\n",
              "</style>\n",
              "<table border=\"1\" class=\"dataframe\">\n",
              "  <thead>\n",
              "    <tr style=\"text-align: right;\">\n",
              "      <th></th>\n",
              "      <th>Date</th>\n",
              "      <th>Hour</th>\n",
              "      <th>load</th>\n",
              "      <th>T</th>\n",
              "    </tr>\n",
              "  </thead>\n",
              "  <tbody>\n",
              "    <tr>\n",
              "      <th>0</th>\n",
              "      <td>01/01/2004</td>\n",
              "      <td>1</td>\n",
              "      <td>NaN</td>\n",
              "      <td>37.33</td>\n",
              "    </tr>\n",
              "    <tr>\n",
              "      <th>1</th>\n",
              "      <td>01/01/2004</td>\n",
              "      <td>2</td>\n",
              "      <td>NaN</td>\n",
              "      <td>37.67</td>\n",
              "    </tr>\n",
              "    <tr>\n",
              "      <th>2</th>\n",
              "      <td>01/01/2004</td>\n",
              "      <td>3</td>\n",
              "      <td>NaN</td>\n",
              "      <td>37.00</td>\n",
              "    </tr>\n",
              "    <tr>\n",
              "      <th>3</th>\n",
              "      <td>01/01/2004</td>\n",
              "      <td>4</td>\n",
              "      <td>NaN</td>\n",
              "      <td>36.33</td>\n",
              "    </tr>\n",
              "    <tr>\n",
              "      <th>4</th>\n",
              "      <td>01/01/2004</td>\n",
              "      <td>5</td>\n",
              "      <td>NaN</td>\n",
              "      <td>36.00</td>\n",
              "    </tr>\n",
              "  </tbody>\n",
              "</table>\n",
              "</div>"
            ],
            "text/plain": [
              "         Date  Hour  load      T\n",
              "0  01/01/2004     1   NaN  37.33\n",
              "1  01/01/2004     2   NaN  37.67\n",
              "2  01/01/2004     3   NaN  37.00\n",
              "3  01/01/2004     4   NaN  36.33\n",
              "4  01/01/2004     5   NaN  36.00"
            ]
          },
          "metadata": {
            "tags": []
          },
          "execution_count": 3290
        },
        {
          "output_type": "stream",
          "text": [
            "time: 1.85 s (started: 2021-01-14 20:39:31 +00:00)\n"
          ],
          "name": "stdout"
        }
      ]
    },
    {
      "cell_type": "code",
      "metadata": {
        "colab": {
          "base_uri": "https://localhost:8080/"
        },
        "id": "qiEpXuuru_yg",
        "outputId": "1187bdc6-7322-4fb4-f1ca-5d31cdea44d9"
      },
      "source": [
        "data.info()"
      ],
      "execution_count": null,
      "outputs": [
        {
          "output_type": "stream",
          "text": [
            "<class 'pandas.core.frame.DataFrame'>\n",
            "RangeIndex: 96432 entries, 0 to 96431\n",
            "Data columns (total 4 columns):\n",
            " #   Column  Non-Null Count  Dtype  \n",
            "---  ------  --------------  -----  \n",
            " 0   Date    96432 non-null  object \n",
            " 1   Hour    96432 non-null  int64  \n",
            " 2   load    78888 non-null  float64\n",
            " 3   T       96432 non-null  float64\n",
            "dtypes: float64(2), int64(1), object(1)\n",
            "memory usage: 2.9+ MB\n",
            "time: 24.9 ms (started: 2021-01-14 20:39:33 +00:00)\n"
          ],
          "name": "stdout"
        }
      ]
    },
    {
      "cell_type": "code",
      "metadata": {
        "colab": {
          "base_uri": "https://localhost:8080/"
        },
        "id": "cDuCWV7kVKC_",
        "outputId": "4acec7f3-bbca-4cf9-87ae-626de4155ffe"
      },
      "source": [
        "#If you look at the the data, you will see that we do not have any load data for the first two years.\r\n",
        "#We need to drop the NaN values to remove these rows:\r\n",
        "data = data.dropna() "
      ],
      "execution_count": null,
      "outputs": [
        {
          "output_type": "stream",
          "text": [
            "time: 18.6 ms (started: 2021-01-14 20:39:33 +00:00)\n"
          ],
          "name": "stdout"
        }
      ]
    },
    {
      "cell_type": "code",
      "metadata": {
        "colab": {
          "base_uri": "https://localhost:8080/"
        },
        "id": "jeb19nhdVj0W",
        "outputId": "6b746f62-34ef-436f-9067-91af740997be"
      },
      "source": [
        "#Lets see:\r\n",
        "data.info()"
      ],
      "execution_count": null,
      "outputs": [
        {
          "output_type": "stream",
          "text": [
            "<class 'pandas.core.frame.DataFrame'>\n",
            "Int64Index: 78888 entries, 17544 to 96431\n",
            "Data columns (total 4 columns):\n",
            " #   Column  Non-Null Count  Dtype  \n",
            "---  ------  --------------  -----  \n",
            " 0   Date    78888 non-null  object \n",
            " 1   Hour    78888 non-null  int64  \n",
            " 2   load    78888 non-null  float64\n",
            " 3   T       78888 non-null  float64\n",
            "dtypes: float64(2), int64(1), object(1)\n",
            "memory usage: 3.0+ MB\n",
            "time: 17.1 ms (started: 2021-01-14 20:39:33 +00:00)\n"
          ],
          "name": "stdout"
        }
      ]
    },
    {
      "cell_type": "code",
      "metadata": {
        "colab": {
          "base_uri": "https://localhost:8080/",
          "height": 193
        },
        "id": "m9g8sTbyV_z3",
        "outputId": "839d10b1-ba19-45a2-e569-758bd8812eeb"
      },
      "source": [
        "#But the time information is currently a string (see also above). We need to change it.\r\n",
        "#Lets see what pandas offers for that purpose!\r\n",
        "data.sample(4)"
      ],
      "execution_count": null,
      "outputs": [
        {
          "output_type": "execute_result",
          "data": {
            "text/html": [
              "<div>\n",
              "<style scoped>\n",
              "    .dataframe tbody tr th:only-of-type {\n",
              "        vertical-align: middle;\n",
              "    }\n",
              "\n",
              "    .dataframe tbody tr th {\n",
              "        vertical-align: top;\n",
              "    }\n",
              "\n",
              "    .dataframe thead th {\n",
              "        text-align: right;\n",
              "    }\n",
              "</style>\n",
              "<table border=\"1\" class=\"dataframe\">\n",
              "  <thead>\n",
              "    <tr style=\"text-align: right;\">\n",
              "      <th></th>\n",
              "      <th>Date</th>\n",
              "      <th>Hour</th>\n",
              "      <th>load</th>\n",
              "      <th>T</th>\n",
              "    </tr>\n",
              "  </thead>\n",
              "  <tbody>\n",
              "    <tr>\n",
              "      <th>52970</th>\n",
              "      <td>16/01/2010</td>\n",
              "      <td>3</td>\n",
              "      <td>2531.0</td>\n",
              "      <td>32.00</td>\n",
              "    </tr>\n",
              "    <tr>\n",
              "      <th>30333</th>\n",
              "      <td>17/06/2007</td>\n",
              "      <td>22</td>\n",
              "      <td>3577.0</td>\n",
              "      <td>70.33</td>\n",
              "    </tr>\n",
              "    <tr>\n",
              "      <th>85420</th>\n",
              "      <td>29/09/2013</td>\n",
              "      <td>5</td>\n",
              "      <td>2181.0</td>\n",
              "      <td>47.33</td>\n",
              "    </tr>\n",
              "    <tr>\n",
              "      <th>19252</th>\n",
              "      <td>13/03/2006</td>\n",
              "      <td>5</td>\n",
              "      <td>2496.0</td>\n",
              "      <td>33.67</td>\n",
              "    </tr>\n",
              "  </tbody>\n",
              "</table>\n",
              "</div>"
            ],
            "text/plain": [
              "             Date  Hour    load      T\n",
              "52970  16/01/2010     3  2531.0  32.00\n",
              "30333  17/06/2007    22  3577.0  70.33\n",
              "85420  29/09/2013     5  2181.0  47.33\n",
              "19252  13/03/2006     5  2496.0  33.67"
            ]
          },
          "metadata": {
            "tags": []
          },
          "execution_count": 3294
        },
        {
          "output_type": "stream",
          "text": [
            "time: 19.5 ms (started: 2021-01-14 20:39:33 +00:00)\n"
          ],
          "name": "stdout"
        }
      ]
    },
    {
      "cell_type": "markdown",
      "metadata": {
        "id": "IVHW_XpQB3EN"
      },
      "source": [
        "## Handling the Time Series with Pandas\r\n",
        "The pandas library includes built-in support for time series data. Let’s first look at the concept of **time stamped data**, which is the most essential type of time series data and helps you combine values with specific points in time.\r\n",
        "\r\n"
      ]
    },
    {
      "cell_type": "markdown",
      "metadata": {
        "id": "SRpiXQNdIclO"
      },
      "source": [
        "### Basics of Managing Time Data"
      ]
    },
    {
      "cell_type": "code",
      "metadata": {
        "colab": {
          "base_uri": "https://localhost:8080/"
        },
        "id": "Y-hpM0wBCWb9",
        "outputId": "62eddc5e-f81c-4170-e6b6-2aa8c5df43b8"
      },
      "source": [
        "# How to define time stamps:\r\n",
        "pd.Timestamp(dt.datetime(2020, 12, 26))"
      ],
      "execution_count": null,
      "outputs": [
        {
          "output_type": "execute_result",
          "data": {
            "text/plain": [
              "Timestamp('2020-12-26 00:00:00')"
            ]
          },
          "metadata": {
            "tags": []
          },
          "execution_count": 3295
        },
        {
          "output_type": "stream",
          "text": [
            "time: 3.61 ms (started: 2021-01-14 20:39:33 +00:00)\n"
          ],
          "name": "stdout"
        }
      ]
    },
    {
      "cell_type": "code",
      "metadata": {
        "colab": {
          "base_uri": "https://localhost:8080/"
        },
        "id": "gtSfCWQPDDsU",
        "outputId": "7b213228-a2f5-4c8e-80c4-8676beec2c80"
      },
      "source": [
        "# Alternatively:\r\n",
        "pd.Timestamp('2020-12-26')"
      ],
      "execution_count": null,
      "outputs": [
        {
          "output_type": "execute_result",
          "data": {
            "text/plain": [
              "Timestamp('2020-12-26 00:00:00')"
            ]
          },
          "metadata": {
            "tags": []
          },
          "execution_count": 3296
        },
        {
          "output_type": "stream",
          "text": [
            "time: 4.07 ms (started: 2021-01-14 20:39:33 +00:00)\n"
          ],
          "name": "stdout"
        }
      ]
    },
    {
      "cell_type": "code",
      "metadata": {
        "colab": {
          "base_uri": "https://localhost:8080/"
        },
        "id": "0KyWCGv2DDa0",
        "outputId": "211db24b-502c-4260-94f6-e1c8e99714fd"
      },
      "source": [
        "# Alternatively:\r\n",
        "pd.Timestamp(2020, 12, 26)"
      ],
      "execution_count": null,
      "outputs": [
        {
          "output_type": "execute_result",
          "data": {
            "text/plain": [
              "Timestamp('2020-12-26 00:00:00')"
            ]
          },
          "metadata": {
            "tags": []
          },
          "execution_count": 3297
        },
        {
          "output_type": "stream",
          "text": [
            "time: 4.08 ms (started: 2021-01-14 20:39:33 +00:00)\n"
          ],
          "name": "stdout"
        }
      ]
    },
    {
      "cell_type": "markdown",
      "metadata": {
        "id": "UakPj9C0C4ob"
      },
      "source": [
        " it is also useful to define the data points in your\r\n",
        "data set with a time interval. The time interval represented by `Period` is inferred from datetime string format:"
      ]
    },
    {
      "cell_type": "code",
      "metadata": {
        "colab": {
          "base_uri": "https://localhost:8080/"
        },
        "id": "8MYF44S1DNKT",
        "outputId": "ae58ce3f-f638-44f7-b066-0bb9db1a6c15"
      },
      "source": [
        "pd.Period('2020-12')"
      ],
      "execution_count": null,
      "outputs": [
        {
          "output_type": "execute_result",
          "data": {
            "text/plain": [
              "Period('2020-12', 'M')"
            ]
          },
          "metadata": {
            "tags": []
          },
          "execution_count": 3298
        },
        {
          "output_type": "stream",
          "text": [
            "time: 4.35 ms (started: 2021-01-14 20:39:33 +00:00)\n"
          ],
          "name": "stdout"
        }
      ]
    },
    {
      "cell_type": "code",
      "metadata": {
        "colab": {
          "base_uri": "https://localhost:8080/"
        },
        "id": "AxQuunSMDT9M",
        "outputId": "0fc26626-6cba-42b1-8b9d-8a3337df9971"
      },
      "source": [
        "# or you can define the period explicitly (D is used for day):\r\n",
        "pd.Period('2020-12', freq='D')"
      ],
      "execution_count": null,
      "outputs": [
        {
          "output_type": "execute_result",
          "data": {
            "text/plain": [
              "Period('2020-12-01', 'D')"
            ]
          },
          "metadata": {
            "tags": []
          },
          "execution_count": 3299
        },
        {
          "output_type": "stream",
          "text": [
            "time: 4.31 ms (started: 2021-01-14 20:39:33 +00:00)\n"
          ],
          "name": "stdout"
        }
      ]
    },
    {
      "cell_type": "markdown",
      "metadata": {
        "id": "Fipwh94nDx0U"
      },
      "source": [
        "`Timestamp` and `Period` can also be used as an index: in\r\n",
        "this case, lists of `Timestamp` and `Period` are automatically coerced to `DatetimeIndex`\r\n",
        "and `PeriodIndex`, respectively. This is very useful when you manage your data as Series or DataFrames. Lets look at a simple example here:"
      ]
    },
    {
      "cell_type": "code",
      "metadata": {
        "colab": {
          "base_uri": "https://localhost:8080/"
        },
        "id": "pQqF1MkfEFt8",
        "outputId": "bf2b7d58-9b65-4915-9ee4-e83a051063c3"
      },
      "source": [
        "dates = [pd.Timestamp('2020-12-01'),pd.Timestamp('2020-12-02'),pd.Timestamp('2020-12-03')]\r\n",
        "data_series = pd.Series(np.random.randn(3), dates)\r\n",
        "data_series"
      ],
      "execution_count": null,
      "outputs": [
        {
          "output_type": "execute_result",
          "data": {
            "text/plain": [
              "2020-12-01    0.261772\n",
              "2020-12-02    1.481164\n",
              "2020-12-03    1.732324\n",
              "dtype: float64"
            ]
          },
          "metadata": {
            "tags": []
          },
          "execution_count": 3300
        },
        {
          "output_type": "stream",
          "text": [
            "time: 9.8 ms (started: 2021-01-14 20:39:33 +00:00)\n"
          ],
          "name": "stdout"
        }
      ]
    },
    {
      "cell_type": "code",
      "metadata": {
        "colab": {
          "base_uri": "https://localhost:8080/"
        },
        "id": "aNe6ri_dEj8k",
        "outputId": "ed9084a3-e692-40bc-9068-23cc92530b6f"
      },
      "source": [
        "# Lets see how it looks like if you use period:\r\n",
        "dates = [pd.Period('2020-12-01'),pd.Period('2020-12-02'),pd.Period('2020-12-03')]\r\n",
        "data_series = pd.Series(np.random.randn(3), dates)\r\n",
        "data_series"
      ],
      "execution_count": null,
      "outputs": [
        {
          "output_type": "execute_result",
          "data": {
            "text/plain": [
              "2020-12-01   -1.000450\n",
              "2020-12-02    0.270262\n",
              "2020-12-03   -0.040378\n",
              "Freq: D, dtype: float64"
            ]
          },
          "metadata": {
            "tags": []
          },
          "execution_count": 3301
        },
        {
          "output_type": "stream",
          "text": [
            "time: 11.9 ms (started: 2021-01-14 20:39:33 +00:00)\n"
          ],
          "name": "stdout"
        }
      ]
    },
    {
      "cell_type": "markdown",
      "metadata": {
        "id": "FqxLVD05FUJ2"
      },
      "source": [
        "As you can see above, it infers the period automatically.\r\n",
        "\r\n",
        "It is a good practice to represent the time component or the columns with dates in the data sets as the index of a Series or DataFrame. You can achieve that with `to_datetime` method:"
      ]
    },
    {
      "cell_type": "code",
      "metadata": {
        "colab": {
          "base_uri": "https://localhost:8080/"
        },
        "id": "z1SfGnXNFjkc",
        "outputId": "4610c4d8-b183-4aaa-ec4b-ac6fc3a34d24"
      },
      "source": [
        "example_series = pd.Series(['Dec 1, 2020', '2020-12-02', None])\r\n",
        "example_series"
      ],
      "execution_count": null,
      "outputs": [
        {
          "output_type": "execute_result",
          "data": {
            "text/plain": [
              "0    Dec 1, 2020\n",
              "1     2020-12-02\n",
              "2           None\n",
              "dtype: object"
            ]
          },
          "metadata": {
            "tags": []
          },
          "execution_count": 3302
        },
        {
          "output_type": "stream",
          "text": [
            "time: 7.51 ms (started: 2021-01-14 20:39:33 +00:00)\n"
          ],
          "name": "stdout"
        }
      ]
    },
    {
      "cell_type": "code",
      "metadata": {
        "colab": {
          "base_uri": "https://localhost:8080/"
        },
        "id": "U7KNXhs2GQ2F",
        "outputId": "3838da6f-1933-4d52-9d15-e7454070e5a1"
      },
      "source": [
        "# It returns a Series when passed a Series with the same index (compare above and below):\r\n",
        "pd.to_datetime(example_series)"
      ],
      "execution_count": null,
      "outputs": [
        {
          "output_type": "execute_result",
          "data": {
            "text/plain": [
              "0   2020-12-01\n",
              "1   2020-12-02\n",
              "2          NaT\n",
              "dtype: datetime64[ns]"
            ]
          },
          "metadata": {
            "tags": []
          },
          "execution_count": 3303
        },
        {
          "output_type": "stream",
          "text": [
            "time: 9.29 ms (started: 2021-01-14 20:39:33 +00:00)\n"
          ],
          "name": "stdout"
        }
      ]
    },
    {
      "cell_type": "code",
      "metadata": {
        "colab": {
          "base_uri": "https://localhost:8080/"
        },
        "id": "NRON71jIGj9k",
        "outputId": "68cedebb-2e5b-46b1-db93-75d3fb50d2a0"
      },
      "source": [
        "#when you passed the data a list-like, then it is converted to a DatetimeIndex:\r\n",
        "pd.to_datetime(['2020/12/23', '2020.12.24'])"
      ],
      "execution_count": null,
      "outputs": [
        {
          "output_type": "execute_result",
          "data": {
            "text/plain": [
              "DatetimeIndex(['2020-12-23', '2020-12-24'], dtype='datetime64[ns]', freq=None)"
            ]
          },
          "metadata": {
            "tags": []
          },
          "execution_count": 3304
        },
        {
          "output_type": "stream",
          "text": [
            "time: 8.2 ms (started: 2021-01-14 20:39:33 +00:00)\n"
          ],
          "name": "stdout"
        }
      ]
    },
    {
      "cell_type": "code",
      "metadata": {
        "colab": {
          "base_uri": "https://localhost:8080/"
        },
        "id": "OlGQ3iLOG-aT",
        "outputId": "30dd780b-5a7a-4d5c-c9eb-d2600882be9e"
      },
      "source": [
        "# You may also format the time data:\r\n",
        "pd.to_datetime('1-12-2020 01:23',format='%d-%m-%Y %H:%M')"
      ],
      "execution_count": null,
      "outputs": [
        {
          "output_type": "execute_result",
          "data": {
            "text/plain": [
              "Timestamp('2020-12-01 01:23:00')"
            ]
          },
          "metadata": {
            "tags": []
          },
          "execution_count": 3305
        },
        {
          "output_type": "stream",
          "text": [
            "time: 6.2 ms (started: 2021-01-14 20:39:33 +00:00)\n"
          ],
          "name": "stdout"
        }
      ]
    },
    {
      "cell_type": "markdown",
      "metadata": {
        "id": "qpveNzeXIknN"
      },
      "source": [
        "### Modifying the time information in our data\r\n",
        "\r\n",
        "Here we will use the string column Data and Hour to create timestamp indices. "
      ]
    },
    {
      "cell_type": "code",
      "metadata": {
        "colab": {
          "base_uri": "https://localhost:8080/"
        },
        "id": "Ojtoe1cEKwks",
        "outputId": "8348a83b-4062-44c0-c530-a387cdd43423"
      },
      "source": [
        "#Lets see the data indices:\r\n",
        "data.iloc[23]"
      ],
      "execution_count": null,
      "outputs": [
        {
          "output_type": "execute_result",
          "data": {
            "text/plain": [
              "Date    01/01/2006\n",
              "Hour            24\n",
              "load          2985\n",
              "T            24.33\n",
              "Name: 17567, dtype: object"
            ]
          },
          "metadata": {
            "tags": []
          },
          "execution_count": 3306
        },
        {
          "output_type": "stream",
          "text": [
            "time: 8.07 ms (started: 2021-01-14 20:39:33 +00:00)\n"
          ],
          "name": "stdout"
        }
      ]
    },
    {
      "cell_type": "code",
      "metadata": {
        "colab": {
          "base_uri": "https://localhost:8080/"
        },
        "id": "pIISiJPGZbg7",
        "outputId": "bea0bb71-beb8-43ea-f5db-17a338ba70ce"
      },
      "source": [
        "#Here we have a problem! The hours are written as 24 instead of 00, which is the format\r\n",
        "#used in python:\r\n",
        "# https://docs.python.org/3/library/datetime.html#strftime-and-strptime-behavior\r\n",
        "#Therefore we need to convert the hours!"
      ],
      "execution_count": null,
      "outputs": [
        {
          "output_type": "stream",
          "text": [
            "time: 2.33 ms (started: 2021-01-14 20:39:33 +00:00)\n"
          ],
          "name": "stdout"
        }
      ]
    },
    {
      "cell_type": "code",
      "metadata": {
        "colab": {
          "base_uri": "https://localhost:8080/"
        },
        "id": "4H-lLwqdaFXH",
        "outputId": "0e51e86c-d751-430b-c2fc-712bf9674c76"
      },
      "source": [
        "data.loc[data.Hour == 24, \"Hour\"] = 0\r\n",
        "data.iloc[23]"
      ],
      "execution_count": null,
      "outputs": [
        {
          "output_type": "execute_result",
          "data": {
            "text/plain": [
              "Date    01/01/2006\n",
              "Hour             0\n",
              "load          2985\n",
              "T            24.33\n",
              "Name: 17567, dtype: object"
            ]
          },
          "metadata": {
            "tags": []
          },
          "execution_count": 3308
        },
        {
          "output_type": "stream",
          "text": [
            "time: 11.2 ms (started: 2021-01-14 20:39:33 +00:00)\n"
          ],
          "name": "stdout"
        }
      ]
    },
    {
      "cell_type": "code",
      "metadata": {
        "colab": {
          "base_uri": "https://localhost:8080/"
        },
        "id": "JRi55MQGbkl5",
        "outputId": "5dbf1f7f-a79b-4884-e207-adcd96813fd4"
      },
      "source": [
        "#Converting time hour into string:\r\n",
        "data['Hour']= data['Hour'].apply(str)\r\n",
        "data.info()\r\n"
      ],
      "execution_count": null,
      "outputs": [
        {
          "output_type": "stream",
          "text": [
            "<class 'pandas.core.frame.DataFrame'>\n",
            "Int64Index: 78888 entries, 17544 to 96431\n",
            "Data columns (total 4 columns):\n",
            " #   Column  Non-Null Count  Dtype  \n",
            "---  ------  --------------  -----  \n",
            " 0   Date    78888 non-null  object \n",
            " 1   Hour    78888 non-null  object \n",
            " 2   load    78888 non-null  float64\n",
            " 3   T       78888 non-null  float64\n",
            "dtypes: float64(2), object(2)\n",
            "memory usage: 3.0+ MB\n",
            "time: 55.8 ms (started: 2021-01-14 20:39:33 +00:00)\n"
          ],
          "name": "stdout"
        }
      ]
    },
    {
      "cell_type": "code",
      "metadata": {
        "colab": {
          "base_uri": "https://localhost:8080/",
          "height": 225
        },
        "id": "gjRBEtuDfQ-3",
        "outputId": "01506042-78c5-40b8-92ff-0693351ca32a"
      },
      "source": [
        "data.head()"
      ],
      "execution_count": null,
      "outputs": [
        {
          "output_type": "execute_result",
          "data": {
            "text/html": [
              "<div>\n",
              "<style scoped>\n",
              "    .dataframe tbody tr th:only-of-type {\n",
              "        vertical-align: middle;\n",
              "    }\n",
              "\n",
              "    .dataframe tbody tr th {\n",
              "        vertical-align: top;\n",
              "    }\n",
              "\n",
              "    .dataframe thead th {\n",
              "        text-align: right;\n",
              "    }\n",
              "</style>\n",
              "<table border=\"1\" class=\"dataframe\">\n",
              "  <thead>\n",
              "    <tr style=\"text-align: right;\">\n",
              "      <th></th>\n",
              "      <th>Date</th>\n",
              "      <th>Hour</th>\n",
              "      <th>load</th>\n",
              "      <th>T</th>\n",
              "    </tr>\n",
              "  </thead>\n",
              "  <tbody>\n",
              "    <tr>\n",
              "      <th>17544</th>\n",
              "      <td>01/01/2006</td>\n",
              "      <td>1</td>\n",
              "      <td>3010.0</td>\n",
              "      <td>22.67</td>\n",
              "    </tr>\n",
              "    <tr>\n",
              "      <th>17545</th>\n",
              "      <td>01/01/2006</td>\n",
              "      <td>2</td>\n",
              "      <td>2853.0</td>\n",
              "      <td>20.67</td>\n",
              "    </tr>\n",
              "    <tr>\n",
              "      <th>17546</th>\n",
              "      <td>01/01/2006</td>\n",
              "      <td>3</td>\n",
              "      <td>2758.0</td>\n",
              "      <td>21.33</td>\n",
              "    </tr>\n",
              "    <tr>\n",
              "      <th>17547</th>\n",
              "      <td>01/01/2006</td>\n",
              "      <td>4</td>\n",
              "      <td>2705.0</td>\n",
              "      <td>19.00</td>\n",
              "    </tr>\n",
              "    <tr>\n",
              "      <th>17548</th>\n",
              "      <td>01/01/2006</td>\n",
              "      <td>5</td>\n",
              "      <td>2709.0</td>\n",
              "      <td>19.33</td>\n",
              "    </tr>\n",
              "  </tbody>\n",
              "</table>\n",
              "</div>"
            ],
            "text/plain": [
              "             Date Hour    load      T\n",
              "17544  01/01/2006    1  3010.0  22.67\n",
              "17545  01/01/2006    2  2853.0  20.67\n",
              "17546  01/01/2006    3  2758.0  21.33\n",
              "17547  01/01/2006    4  2705.0  19.00\n",
              "17548  01/01/2006    5  2709.0  19.33"
            ]
          },
          "metadata": {
            "tags": []
          },
          "execution_count": 3310
        },
        {
          "output_type": "stream",
          "text": [
            "time: 21.7 ms (started: 2021-01-14 20:39:33 +00:00)\n"
          ],
          "name": "stdout"
        }
      ]
    },
    {
      "cell_type": "code",
      "metadata": {
        "colab": {
          "base_uri": "https://localhost:8080/",
          "height": 130
        },
        "id": "GCZqadELeOln",
        "outputId": "91915d21-76f9-4243-b4d3-f8a0366c5520"
      },
      "source": [
        "#Merging Columns:\r\n",
        "data['Date']= data['Date']+' '+ data['Hour']\r\n",
        "data = data.drop(['Hour'],axis=1)\r\n",
        "data.head(2)"
      ],
      "execution_count": null,
      "outputs": [
        {
          "output_type": "execute_result",
          "data": {
            "text/html": [
              "<div>\n",
              "<style scoped>\n",
              "    .dataframe tbody tr th:only-of-type {\n",
              "        vertical-align: middle;\n",
              "    }\n",
              "\n",
              "    .dataframe tbody tr th {\n",
              "        vertical-align: top;\n",
              "    }\n",
              "\n",
              "    .dataframe thead th {\n",
              "        text-align: right;\n",
              "    }\n",
              "</style>\n",
              "<table border=\"1\" class=\"dataframe\">\n",
              "  <thead>\n",
              "    <tr style=\"text-align: right;\">\n",
              "      <th></th>\n",
              "      <th>Date</th>\n",
              "      <th>load</th>\n",
              "      <th>T</th>\n",
              "    </tr>\n",
              "  </thead>\n",
              "  <tbody>\n",
              "    <tr>\n",
              "      <th>17544</th>\n",
              "      <td>01/01/2006 1</td>\n",
              "      <td>3010.0</td>\n",
              "      <td>22.67</td>\n",
              "    </tr>\n",
              "    <tr>\n",
              "      <th>17545</th>\n",
              "      <td>01/01/2006 2</td>\n",
              "      <td>2853.0</td>\n",
              "      <td>20.67</td>\n",
              "    </tr>\n",
              "  </tbody>\n",
              "</table>\n",
              "</div>"
            ],
            "text/plain": [
              "               Date    load      T\n",
              "17544  01/01/2006 1  3010.0  22.67\n",
              "17545  01/01/2006 2  2853.0  20.67"
            ]
          },
          "metadata": {
            "tags": []
          },
          "execution_count": 3311
        },
        {
          "output_type": "stream",
          "text": [
            "time: 47.3 ms (started: 2021-01-14 20:39:33 +00:00)\n"
          ],
          "name": "stdout"
        }
      ]
    },
    {
      "cell_type": "code",
      "metadata": {
        "colab": {
          "base_uri": "https://localhost:8080/"
        },
        "id": "J2kanfmSWqoG",
        "outputId": "69fa78a3-c79b-4beb-ad81-630c01975587"
      },
      "source": [
        "# convert the column to datetime type:\r\n",
        "datetime_series = pd.to_datetime(data['Date'],format='%d/%m/%Y %H')\r\n",
        "datetime_series.head()"
      ],
      "execution_count": null,
      "outputs": [
        {
          "output_type": "execute_result",
          "data": {
            "text/plain": [
              "17544   2006-01-01 01:00:00\n",
              "17545   2006-01-01 02:00:00\n",
              "17546   2006-01-01 03:00:00\n",
              "17547   2006-01-01 04:00:00\n",
              "17548   2006-01-01 05:00:00\n",
              "Name: Date, dtype: datetime64[ns]"
            ]
          },
          "metadata": {
            "tags": []
          },
          "execution_count": 3312
        },
        {
          "output_type": "stream",
          "text": [
            "time: 200 ms (started: 2021-01-14 20:39:33 +00:00)\n"
          ],
          "name": "stdout"
        }
      ]
    },
    {
      "cell_type": "code",
      "metadata": {
        "colab": {
          "base_uri": "https://localhost:8080/",
          "height": 162
        },
        "id": "SaqgYTuUgbcA",
        "outputId": "5badce18-c642-4e6c-c808-99d389c9d2d1"
      },
      "source": [
        "#Create datetime index and pass it:\r\n",
        "datetime_index = pd.DatetimeIndex(datetime_series.values)\r\n",
        "#Updating the indices:\r\n",
        "data=(data.set_index(datetime_index)).drop(['Date'],axis=1)\r\n",
        "data.head(3)"
      ],
      "execution_count": null,
      "outputs": [
        {
          "output_type": "execute_result",
          "data": {
            "text/html": [
              "<div>\n",
              "<style scoped>\n",
              "    .dataframe tbody tr th:only-of-type {\n",
              "        vertical-align: middle;\n",
              "    }\n",
              "\n",
              "    .dataframe tbody tr th {\n",
              "        vertical-align: top;\n",
              "    }\n",
              "\n",
              "    .dataframe thead th {\n",
              "        text-align: right;\n",
              "    }\n",
              "</style>\n",
              "<table border=\"1\" class=\"dataframe\">\n",
              "  <thead>\n",
              "    <tr style=\"text-align: right;\">\n",
              "      <th></th>\n",
              "      <th>load</th>\n",
              "      <th>T</th>\n",
              "    </tr>\n",
              "  </thead>\n",
              "  <tbody>\n",
              "    <tr>\n",
              "      <th>2006-01-01 01:00:00</th>\n",
              "      <td>3010.0</td>\n",
              "      <td>22.67</td>\n",
              "    </tr>\n",
              "    <tr>\n",
              "      <th>2006-01-01 02:00:00</th>\n",
              "      <td>2853.0</td>\n",
              "      <td>20.67</td>\n",
              "    </tr>\n",
              "    <tr>\n",
              "      <th>2006-01-01 03:00:00</th>\n",
              "      <td>2758.0</td>\n",
              "      <td>21.33</td>\n",
              "    </tr>\n",
              "  </tbody>\n",
              "</table>\n",
              "</div>"
            ],
            "text/plain": [
              "                       load      T\n",
              "2006-01-01 01:00:00  3010.0  22.67\n",
              "2006-01-01 02:00:00  2853.0  20.67\n",
              "2006-01-01 03:00:00  2758.0  21.33"
            ]
          },
          "metadata": {
            "tags": []
          },
          "execution_count": 3313
        },
        {
          "output_type": "stream",
          "text": [
            "time: 21 ms (started: 2021-01-14 20:39:33 +00:00)\n"
          ],
          "name": "stdout"
        }
      ]
    },
    {
      "cell_type": "markdown",
      "metadata": {
        "id": "k4WIUmcqicTx"
      },
      "source": [
        "But there is still an issue in the data, that is '00' comes after '23'. We need to sort indices. "
      ]
    },
    {
      "cell_type": "code",
      "metadata": {
        "colab": {
          "base_uri": "https://localhost:8080/",
          "height": 852
        },
        "id": "Pr0OsH_Mi3dR",
        "outputId": "0124d888-126e-42d6-d60a-f785f8024a4d"
      },
      "source": [
        "data = data.sort_index()\r\n",
        "data.head(25)"
      ],
      "execution_count": null,
      "outputs": [
        {
          "output_type": "execute_result",
          "data": {
            "text/html": [
              "<div>\n",
              "<style scoped>\n",
              "    .dataframe tbody tr th:only-of-type {\n",
              "        vertical-align: middle;\n",
              "    }\n",
              "\n",
              "    .dataframe tbody tr th {\n",
              "        vertical-align: top;\n",
              "    }\n",
              "\n",
              "    .dataframe thead th {\n",
              "        text-align: right;\n",
              "    }\n",
              "</style>\n",
              "<table border=\"1\" class=\"dataframe\">\n",
              "  <thead>\n",
              "    <tr style=\"text-align: right;\">\n",
              "      <th></th>\n",
              "      <th>load</th>\n",
              "      <th>T</th>\n",
              "    </tr>\n",
              "  </thead>\n",
              "  <tbody>\n",
              "    <tr>\n",
              "      <th>2006-01-01 00:00:00</th>\n",
              "      <td>2985.0</td>\n",
              "      <td>24.33</td>\n",
              "    </tr>\n",
              "    <tr>\n",
              "      <th>2006-01-01 01:00:00</th>\n",
              "      <td>3010.0</td>\n",
              "      <td>22.67</td>\n",
              "    </tr>\n",
              "    <tr>\n",
              "      <th>2006-01-01 02:00:00</th>\n",
              "      <td>2853.0</td>\n",
              "      <td>20.67</td>\n",
              "    </tr>\n",
              "    <tr>\n",
              "      <th>2006-01-01 03:00:00</th>\n",
              "      <td>2758.0</td>\n",
              "      <td>21.33</td>\n",
              "    </tr>\n",
              "    <tr>\n",
              "      <th>2006-01-01 04:00:00</th>\n",
              "      <td>2705.0</td>\n",
              "      <td>19.00</td>\n",
              "    </tr>\n",
              "    <tr>\n",
              "      <th>2006-01-01 05:00:00</th>\n",
              "      <td>2709.0</td>\n",
              "      <td>19.33</td>\n",
              "    </tr>\n",
              "    <tr>\n",
              "      <th>2006-01-01 06:00:00</th>\n",
              "      <td>2753.0</td>\n",
              "      <td>18.67</td>\n",
              "    </tr>\n",
              "    <tr>\n",
              "      <th>2006-01-01 07:00:00</th>\n",
              "      <td>2849.0</td>\n",
              "      <td>18.00</td>\n",
              "    </tr>\n",
              "    <tr>\n",
              "      <th>2006-01-01 08:00:00</th>\n",
              "      <td>3008.0</td>\n",
              "      <td>17.67</td>\n",
              "    </tr>\n",
              "    <tr>\n",
              "      <th>2006-01-01 09:00:00</th>\n",
              "      <td>3243.0</td>\n",
              "      <td>19.00</td>\n",
              "    </tr>\n",
              "    <tr>\n",
              "      <th>2006-01-01 10:00:00</th>\n",
              "      <td>3468.0</td>\n",
              "      <td>19.67</td>\n",
              "    </tr>\n",
              "    <tr>\n",
              "      <th>2006-01-01 11:00:00</th>\n",
              "      <td>3598.0</td>\n",
              "      <td>19.33</td>\n",
              "    </tr>\n",
              "    <tr>\n",
              "      <th>2006-01-01 12:00:00</th>\n",
              "      <td>3673.0</td>\n",
              "      <td>20.33</td>\n",
              "    </tr>\n",
              "    <tr>\n",
              "      <th>2006-01-01 13:00:00</th>\n",
              "      <td>3695.0</td>\n",
              "      <td>21.00</td>\n",
              "    </tr>\n",
              "    <tr>\n",
              "      <th>2006-01-01 14:00:00</th>\n",
              "      <td>3640.0</td>\n",
              "      <td>22.00</td>\n",
              "    </tr>\n",
              "    <tr>\n",
              "      <th>2006-01-01 15:00:00</th>\n",
              "      <td>3592.0</td>\n",
              "      <td>22.67</td>\n",
              "    </tr>\n",
              "    <tr>\n",
              "      <th>2006-01-01 16:00:00</th>\n",
              "      <td>3626.0</td>\n",
              "      <td>23.00</td>\n",
              "    </tr>\n",
              "    <tr>\n",
              "      <th>2006-01-01 17:00:00</th>\n",
              "      <td>3924.0</td>\n",
              "      <td>23.33</td>\n",
              "    </tr>\n",
              "    <tr>\n",
              "      <th>2006-01-01 18:00:00</th>\n",
              "      <td>4159.0</td>\n",
              "      <td>23.67</td>\n",
              "    </tr>\n",
              "    <tr>\n",
              "      <th>2006-01-01 19:00:00</th>\n",
              "      <td>4095.0</td>\n",
              "      <td>23.67</td>\n",
              "    </tr>\n",
              "    <tr>\n",
              "      <th>2006-01-01 20:00:00</th>\n",
              "      <td>3967.0</td>\n",
              "      <td>23.67</td>\n",
              "    </tr>\n",
              "    <tr>\n",
              "      <th>2006-01-01 21:00:00</th>\n",
              "      <td>3817.0</td>\n",
              "      <td>23.33</td>\n",
              "    </tr>\n",
              "    <tr>\n",
              "      <th>2006-01-01 22:00:00</th>\n",
              "      <td>3556.0</td>\n",
              "      <td>24.00</td>\n",
              "    </tr>\n",
              "    <tr>\n",
              "      <th>2006-01-01 23:00:00</th>\n",
              "      <td>3255.0</td>\n",
              "      <td>24.33</td>\n",
              "    </tr>\n",
              "    <tr>\n",
              "      <th>2006-01-02 00:00:00</th>\n",
              "      <td>2913.0</td>\n",
              "      <td>29.00</td>\n",
              "    </tr>\n",
              "  </tbody>\n",
              "</table>\n",
              "</div>"
            ],
            "text/plain": [
              "                       load      T\n",
              "2006-01-01 00:00:00  2985.0  24.33\n",
              "2006-01-01 01:00:00  3010.0  22.67\n",
              "2006-01-01 02:00:00  2853.0  20.67\n",
              "2006-01-01 03:00:00  2758.0  21.33\n",
              "2006-01-01 04:00:00  2705.0  19.00\n",
              "2006-01-01 05:00:00  2709.0  19.33\n",
              "2006-01-01 06:00:00  2753.0  18.67\n",
              "2006-01-01 07:00:00  2849.0  18.00\n",
              "2006-01-01 08:00:00  3008.0  17.67\n",
              "2006-01-01 09:00:00  3243.0  19.00\n",
              "2006-01-01 10:00:00  3468.0  19.67\n",
              "2006-01-01 11:00:00  3598.0  19.33\n",
              "2006-01-01 12:00:00  3673.0  20.33\n",
              "2006-01-01 13:00:00  3695.0  21.00\n",
              "2006-01-01 14:00:00  3640.0  22.00\n",
              "2006-01-01 15:00:00  3592.0  22.67\n",
              "2006-01-01 16:00:00  3626.0  23.00\n",
              "2006-01-01 17:00:00  3924.0  23.33\n",
              "2006-01-01 18:00:00  4159.0  23.67\n",
              "2006-01-01 19:00:00  4095.0  23.67\n",
              "2006-01-01 20:00:00  3967.0  23.67\n",
              "2006-01-01 21:00:00  3817.0  23.33\n",
              "2006-01-01 22:00:00  3556.0  24.00\n",
              "2006-01-01 23:00:00  3255.0  24.33\n",
              "2006-01-02 00:00:00  2913.0  29.00"
            ]
          },
          "metadata": {
            "tags": []
          },
          "execution_count": 3314
        },
        {
          "output_type": "stream",
          "text": [
            "time: 31.8 ms (started: 2021-01-14 20:39:33 +00:00)\n"
          ],
          "name": "stdout"
        }
      ]
    },
    {
      "cell_type": "markdown",
      "metadata": {
        "id": "ugSfscfEg-iZ"
      },
      "source": [
        "Now we are ready! You can do these steps with fewer lines in your own work. Here I wanted to show you how the dataframe changes with each action."
      ]
    },
    {
      "cell_type": "markdown",
      "metadata": {
        "id": "Jb0bFiyphSAq"
      },
      "source": [
        "## Exploring the Data\r\n",
        "\r\n",
        "Now we have the time as indices, we can filter the time zones of interest and analyze the data as we wish. "
      ]
    },
    {
      "cell_type": "code",
      "metadata": {
        "colab": {
          "base_uri": "https://localhost:8080/",
          "height": 821
        },
        "id": "QyKK1570hjra",
        "outputId": "b867015e-81f3-41db-979b-5c7061f312ba"
      },
      "source": [
        "# Passing a year to filter data:\r\n",
        "data['2012-1-5']"
      ],
      "execution_count": null,
      "outputs": [
        {
          "output_type": "execute_result",
          "data": {
            "text/html": [
              "<div>\n",
              "<style scoped>\n",
              "    .dataframe tbody tr th:only-of-type {\n",
              "        vertical-align: middle;\n",
              "    }\n",
              "\n",
              "    .dataframe tbody tr th {\n",
              "        vertical-align: top;\n",
              "    }\n",
              "\n",
              "    .dataframe thead th {\n",
              "        text-align: right;\n",
              "    }\n",
              "</style>\n",
              "<table border=\"1\" class=\"dataframe\">\n",
              "  <thead>\n",
              "    <tr style=\"text-align: right;\">\n",
              "      <th></th>\n",
              "      <th>load</th>\n",
              "      <th>T</th>\n",
              "    </tr>\n",
              "  </thead>\n",
              "  <tbody>\n",
              "    <tr>\n",
              "      <th>2012-01-05 00:00:00</th>\n",
              "      <td>3167.0</td>\n",
              "      <td>19.00</td>\n",
              "    </tr>\n",
              "    <tr>\n",
              "      <th>2012-01-05 01:00:00</th>\n",
              "      <td>3014.0</td>\n",
              "      <td>22.33</td>\n",
              "    </tr>\n",
              "    <tr>\n",
              "      <th>2012-01-05 02:00:00</th>\n",
              "      <td>2921.0</td>\n",
              "      <td>22.33</td>\n",
              "    </tr>\n",
              "    <tr>\n",
              "      <th>2012-01-05 03:00:00</th>\n",
              "      <td>2874.0</td>\n",
              "      <td>22.00</td>\n",
              "    </tr>\n",
              "    <tr>\n",
              "      <th>2012-01-05 04:00:00</th>\n",
              "      <td>2876.0</td>\n",
              "      <td>21.67</td>\n",
              "    </tr>\n",
              "    <tr>\n",
              "      <th>2012-01-05 05:00:00</th>\n",
              "      <td>2962.0</td>\n",
              "      <td>21.33</td>\n",
              "    </tr>\n",
              "    <tr>\n",
              "      <th>2012-01-05 06:00:00</th>\n",
              "      <td>3239.0</td>\n",
              "      <td>21.33</td>\n",
              "    </tr>\n",
              "    <tr>\n",
              "      <th>2012-01-05 07:00:00</th>\n",
              "      <td>3719.0</td>\n",
              "      <td>21.67</td>\n",
              "    </tr>\n",
              "    <tr>\n",
              "      <th>2012-01-05 08:00:00</th>\n",
              "      <td>3940.0</td>\n",
              "      <td>22.67</td>\n",
              "    </tr>\n",
              "    <tr>\n",
              "      <th>2012-01-05 09:00:00</th>\n",
              "      <td>3933.0</td>\n",
              "      <td>23.00</td>\n",
              "    </tr>\n",
              "    <tr>\n",
              "      <th>2012-01-05 10:00:00</th>\n",
              "      <td>3948.0</td>\n",
              "      <td>24.00</td>\n",
              "    </tr>\n",
              "    <tr>\n",
              "      <th>2012-01-05 11:00:00</th>\n",
              "      <td>3945.0</td>\n",
              "      <td>25.67</td>\n",
              "    </tr>\n",
              "    <tr>\n",
              "      <th>2012-01-05 12:00:00</th>\n",
              "      <td>3933.0</td>\n",
              "      <td>28.00</td>\n",
              "    </tr>\n",
              "    <tr>\n",
              "      <th>2012-01-05 13:00:00</th>\n",
              "      <td>3894.0</td>\n",
              "      <td>29.33</td>\n",
              "    </tr>\n",
              "    <tr>\n",
              "      <th>2012-01-05 14:00:00</th>\n",
              "      <td>3873.0</td>\n",
              "      <td>30.67</td>\n",
              "    </tr>\n",
              "    <tr>\n",
              "      <th>2012-01-05 15:00:00</th>\n",
              "      <td>3838.0</td>\n",
              "      <td>32.00</td>\n",
              "    </tr>\n",
              "    <tr>\n",
              "      <th>2012-01-05 16:00:00</th>\n",
              "      <td>3855.0</td>\n",
              "      <td>32.00</td>\n",
              "    </tr>\n",
              "    <tr>\n",
              "      <th>2012-01-05 17:00:00</th>\n",
              "      <td>4112.0</td>\n",
              "      <td>30.67</td>\n",
              "    </tr>\n",
              "    <tr>\n",
              "      <th>2012-01-05 18:00:00</th>\n",
              "      <td>4326.0</td>\n",
              "      <td>29.00</td>\n",
              "    </tr>\n",
              "    <tr>\n",
              "      <th>2012-01-05 19:00:00</th>\n",
              "      <td>4317.0</td>\n",
              "      <td>27.00</td>\n",
              "    </tr>\n",
              "    <tr>\n",
              "      <th>2012-01-05 20:00:00</th>\n",
              "      <td>4213.0</td>\n",
              "      <td>25.00</td>\n",
              "    </tr>\n",
              "    <tr>\n",
              "      <th>2012-01-05 21:00:00</th>\n",
              "      <td>4031.0</td>\n",
              "      <td>24.00</td>\n",
              "    </tr>\n",
              "    <tr>\n",
              "      <th>2012-01-05 22:00:00</th>\n",
              "      <td>3749.0</td>\n",
              "      <td>22.33</td>\n",
              "    </tr>\n",
              "    <tr>\n",
              "      <th>2012-01-05 23:00:00</th>\n",
              "      <td>3417.0</td>\n",
              "      <td>20.00</td>\n",
              "    </tr>\n",
              "  </tbody>\n",
              "</table>\n",
              "</div>"
            ],
            "text/plain": [
              "                       load      T\n",
              "2012-01-05 00:00:00  3167.0  19.00\n",
              "2012-01-05 01:00:00  3014.0  22.33\n",
              "2012-01-05 02:00:00  2921.0  22.33\n",
              "2012-01-05 03:00:00  2874.0  22.00\n",
              "2012-01-05 04:00:00  2876.0  21.67\n",
              "2012-01-05 05:00:00  2962.0  21.33\n",
              "2012-01-05 06:00:00  3239.0  21.33\n",
              "2012-01-05 07:00:00  3719.0  21.67\n",
              "2012-01-05 08:00:00  3940.0  22.67\n",
              "2012-01-05 09:00:00  3933.0  23.00\n",
              "2012-01-05 10:00:00  3948.0  24.00\n",
              "2012-01-05 11:00:00  3945.0  25.67\n",
              "2012-01-05 12:00:00  3933.0  28.00\n",
              "2012-01-05 13:00:00  3894.0  29.33\n",
              "2012-01-05 14:00:00  3873.0  30.67\n",
              "2012-01-05 15:00:00  3838.0  32.00\n",
              "2012-01-05 16:00:00  3855.0  32.00\n",
              "2012-01-05 17:00:00  4112.0  30.67\n",
              "2012-01-05 18:00:00  4326.0  29.00\n",
              "2012-01-05 19:00:00  4317.0  27.00\n",
              "2012-01-05 20:00:00  4213.0  25.00\n",
              "2012-01-05 21:00:00  4031.0  24.00\n",
              "2012-01-05 22:00:00  3749.0  22.33\n",
              "2012-01-05 23:00:00  3417.0  20.00"
            ]
          },
          "metadata": {
            "tags": []
          },
          "execution_count": 3315
        },
        {
          "output_type": "stream",
          "text": [
            "time: 32.7 ms (started: 2021-01-14 20:39:33 +00:00)\n"
          ],
          "name": "stdout"
        }
      ]
    },
    {
      "cell_type": "markdown",
      "metadata": {
        "id": "8oXTJhfqiH3I"
      },
      "source": [
        "There is also another function that you can use with time series data sets called `truncate()`."
      ]
    },
    {
      "cell_type": "code",
      "metadata": {
        "colab": {
          "base_uri": "https://localhost:8080/",
          "height": 852
        },
        "id": "CCTlEw1OiPO4",
        "outputId": "d96ef532-4b7b-44a7-a551-1847cb7dbdf0"
      },
      "source": [
        "data.truncate(before='2012-11-01', after='2012-11-02')"
      ],
      "execution_count": null,
      "outputs": [
        {
          "output_type": "execute_result",
          "data": {
            "text/html": [
              "<div>\n",
              "<style scoped>\n",
              "    .dataframe tbody tr th:only-of-type {\n",
              "        vertical-align: middle;\n",
              "    }\n",
              "\n",
              "    .dataframe tbody tr th {\n",
              "        vertical-align: top;\n",
              "    }\n",
              "\n",
              "    .dataframe thead th {\n",
              "        text-align: right;\n",
              "    }\n",
              "</style>\n",
              "<table border=\"1\" class=\"dataframe\">\n",
              "  <thead>\n",
              "    <tr style=\"text-align: right;\">\n",
              "      <th></th>\n",
              "      <th>load</th>\n",
              "      <th>T</th>\n",
              "    </tr>\n",
              "  </thead>\n",
              "  <tbody>\n",
              "    <tr>\n",
              "      <th>2012-11-01 00:00:00</th>\n",
              "      <td>2607.0</td>\n",
              "      <td>46.00</td>\n",
              "    </tr>\n",
              "    <tr>\n",
              "      <th>2012-11-01 01:00:00</th>\n",
              "      <td>2386.0</td>\n",
              "      <td>48.00</td>\n",
              "    </tr>\n",
              "    <tr>\n",
              "      <th>2012-11-01 02:00:00</th>\n",
              "      <td>2311.0</td>\n",
              "      <td>47.67</td>\n",
              "    </tr>\n",
              "    <tr>\n",
              "      <th>2012-11-01 03:00:00</th>\n",
              "      <td>2264.0</td>\n",
              "      <td>47.00</td>\n",
              "    </tr>\n",
              "    <tr>\n",
              "      <th>2012-11-01 04:00:00</th>\n",
              "      <td>2267.0</td>\n",
              "      <td>46.00</td>\n",
              "    </tr>\n",
              "    <tr>\n",
              "      <th>2012-11-01 05:00:00</th>\n",
              "      <td>2352.0</td>\n",
              "      <td>45.67</td>\n",
              "    </tr>\n",
              "    <tr>\n",
              "      <th>2012-11-01 06:00:00</th>\n",
              "      <td>2622.0</td>\n",
              "      <td>45.33</td>\n",
              "    </tr>\n",
              "    <tr>\n",
              "      <th>2012-11-01 07:00:00</th>\n",
              "      <td>3108.0</td>\n",
              "      <td>44.67</td>\n",
              "    </tr>\n",
              "    <tr>\n",
              "      <th>2012-11-01 08:00:00</th>\n",
              "      <td>3371.0</td>\n",
              "      <td>45.67</td>\n",
              "    </tr>\n",
              "    <tr>\n",
              "      <th>2012-11-01 09:00:00</th>\n",
              "      <td>3405.0</td>\n",
              "      <td>46.00</td>\n",
              "    </tr>\n",
              "    <tr>\n",
              "      <th>2012-11-01 10:00:00</th>\n",
              "      <td>3426.0</td>\n",
              "      <td>46.33</td>\n",
              "    </tr>\n",
              "    <tr>\n",
              "      <th>2012-11-01 11:00:00</th>\n",
              "      <td>3436.0</td>\n",
              "      <td>47.00</td>\n",
              "    </tr>\n",
              "    <tr>\n",
              "      <th>2012-11-01 12:00:00</th>\n",
              "      <td>3417.0</td>\n",
              "      <td>48.67</td>\n",
              "    </tr>\n",
              "    <tr>\n",
              "      <th>2012-11-01 13:00:00</th>\n",
              "      <td>3391.0</td>\n",
              "      <td>49.67</td>\n",
              "    </tr>\n",
              "    <tr>\n",
              "      <th>2012-11-01 14:00:00</th>\n",
              "      <td>3355.0</td>\n",
              "      <td>49.67</td>\n",
              "    </tr>\n",
              "    <tr>\n",
              "      <th>2012-11-01 15:00:00</th>\n",
              "      <td>3291.0</td>\n",
              "      <td>50.67</td>\n",
              "    </tr>\n",
              "    <tr>\n",
              "      <th>2012-11-01 16:00:00</th>\n",
              "      <td>3274.0</td>\n",
              "      <td>50.00</td>\n",
              "    </tr>\n",
              "    <tr>\n",
              "      <th>2012-11-01 17:00:00</th>\n",
              "      <td>3334.0</td>\n",
              "      <td>50.00</td>\n",
              "    </tr>\n",
              "    <tr>\n",
              "      <th>2012-11-01 18:00:00</th>\n",
              "      <td>3568.0</td>\n",
              "      <td>49.33</td>\n",
              "    </tr>\n",
              "    <tr>\n",
              "      <th>2012-11-01 19:00:00</th>\n",
              "      <td>3724.0</td>\n",
              "      <td>48.67</td>\n",
              "    </tr>\n",
              "    <tr>\n",
              "      <th>2012-11-01 20:00:00</th>\n",
              "      <td>3634.0</td>\n",
              "      <td>47.00</td>\n",
              "    </tr>\n",
              "    <tr>\n",
              "      <th>2012-11-01 21:00:00</th>\n",
              "      <td>3477.0</td>\n",
              "      <td>46.33</td>\n",
              "    </tr>\n",
              "    <tr>\n",
              "      <th>2012-11-01 22:00:00</th>\n",
              "      <td>3214.0</td>\n",
              "      <td>45.67</td>\n",
              "    </tr>\n",
              "    <tr>\n",
              "      <th>2012-11-01 23:00:00</th>\n",
              "      <td>2878.0</td>\n",
              "      <td>46.00</td>\n",
              "    </tr>\n",
              "    <tr>\n",
              "      <th>2012-11-02 00:00:00</th>\n",
              "      <td>2606.0</td>\n",
              "      <td>44.00</td>\n",
              "    </tr>\n",
              "  </tbody>\n",
              "</table>\n",
              "</div>"
            ],
            "text/plain": [
              "                       load      T\n",
              "2012-11-01 00:00:00  2607.0  46.00\n",
              "2012-11-01 01:00:00  2386.0  48.00\n",
              "2012-11-01 02:00:00  2311.0  47.67\n",
              "2012-11-01 03:00:00  2264.0  47.00\n",
              "2012-11-01 04:00:00  2267.0  46.00\n",
              "2012-11-01 05:00:00  2352.0  45.67\n",
              "2012-11-01 06:00:00  2622.0  45.33\n",
              "2012-11-01 07:00:00  3108.0  44.67\n",
              "2012-11-01 08:00:00  3371.0  45.67\n",
              "2012-11-01 09:00:00  3405.0  46.00\n",
              "2012-11-01 10:00:00  3426.0  46.33\n",
              "2012-11-01 11:00:00  3436.0  47.00\n",
              "2012-11-01 12:00:00  3417.0  48.67\n",
              "2012-11-01 13:00:00  3391.0  49.67\n",
              "2012-11-01 14:00:00  3355.0  49.67\n",
              "2012-11-01 15:00:00  3291.0  50.67\n",
              "2012-11-01 16:00:00  3274.0  50.00\n",
              "2012-11-01 17:00:00  3334.0  50.00\n",
              "2012-11-01 18:00:00  3568.0  49.33\n",
              "2012-11-01 19:00:00  3724.0  48.67\n",
              "2012-11-01 20:00:00  3634.0  47.00\n",
              "2012-11-01 21:00:00  3477.0  46.33\n",
              "2012-11-01 22:00:00  3214.0  45.67\n",
              "2012-11-01 23:00:00  2878.0  46.00\n",
              "2012-11-02 00:00:00  2606.0  44.00"
            ]
          },
          "metadata": {
            "tags": []
          },
          "execution_count": 3316
        },
        {
          "output_type": "stream",
          "text": [
            "time: 31 ms (started: 2021-01-14 20:39:33 +00:00)\n"
          ],
          "name": "stdout"
        }
      ]
    },
    {
      "cell_type": "markdown",
      "metadata": {
        "id": "KFCzbO9MlP-B"
      },
      "source": [
        "You can also access information given in `timeStamp` or `DatetimeIndex`. See below for details:\r\n",
        "\r\n",
        "https://pandas.pydata.org/docs/reference/api/pandas.DatetimeIndex.html\r\n",
        "\r\n",
        "https://pandas.pydata.org/pandas-docs/stable/user_guide/timeseries.html\r\n",
        "\r\n"
      ]
    },
    {
      "cell_type": "markdown",
      "metadata": {
        "id": "diXFz7WZmQ4J"
      },
      "source": [
        "### Checking for NaN values and Types\r\n",
        "\r\n",
        "You should check for NaN values after playing with data:"
      ]
    },
    {
      "cell_type": "code",
      "metadata": {
        "colab": {
          "base_uri": "https://localhost:8080/"
        },
        "id": "MIwwd3_DmT6B",
        "outputId": "7bedf25a-c98f-4f84-ff60-000bc1b66e76"
      },
      "source": [
        "data.isna().sum()"
      ],
      "execution_count": null,
      "outputs": [
        {
          "output_type": "execute_result",
          "data": {
            "text/plain": [
              "load    0\n",
              "T       0\n",
              "dtype: int64"
            ]
          },
          "metadata": {
            "tags": []
          },
          "execution_count": 3317
        },
        {
          "output_type": "stream",
          "text": [
            "time: 7.25 ms (started: 2021-01-14 20:39:33 +00:00)\n"
          ],
          "name": "stdout"
        }
      ]
    },
    {
      "cell_type": "code",
      "metadata": {
        "colab": {
          "base_uri": "https://localhost:8080/"
        },
        "id": "tI0H2ifNmfxB",
        "outputId": "31416b8f-d782-47fb-ca19-14a298aa56ea"
      },
      "source": [
        "data.dtypes"
      ],
      "execution_count": null,
      "outputs": [
        {
          "output_type": "execute_result",
          "data": {
            "text/plain": [
              "load    float64\n",
              "T       float64\n",
              "dtype: object"
            ]
          },
          "metadata": {
            "tags": []
          },
          "execution_count": 3318
        },
        {
          "output_type": "stream",
          "text": [
            "time: 6.13 ms (started: 2021-01-14 20:39:33 +00:00)\n"
          ],
          "name": "stdout"
        }
      ]
    },
    {
      "cell_type": "markdown",
      "metadata": {
        "id": "49RVdrJtmkt6"
      },
      "source": [
        "### Statistics\r\n",
        "Lets look at some simple statistics:"
      ]
    },
    {
      "cell_type": "code",
      "metadata": {
        "colab": {
          "base_uri": "https://localhost:8080/",
          "height": 319
        },
        "id": "NV6YG-XVmqox",
        "outputId": "0061e591-1aac-49d2-b116-b25e9dee402a"
      },
      "source": [
        "data.describe()"
      ],
      "execution_count": null,
      "outputs": [
        {
          "output_type": "execute_result",
          "data": {
            "text/html": [
              "<div>\n",
              "<style scoped>\n",
              "    .dataframe tbody tr th:only-of-type {\n",
              "        vertical-align: middle;\n",
              "    }\n",
              "\n",
              "    .dataframe tbody tr th {\n",
              "        vertical-align: top;\n",
              "    }\n",
              "\n",
              "    .dataframe thead th {\n",
              "        text-align: right;\n",
              "    }\n",
              "</style>\n",
              "<table border=\"1\" class=\"dataframe\">\n",
              "  <thead>\n",
              "    <tr style=\"text-align: right;\">\n",
              "      <th></th>\n",
              "      <th>load</th>\n",
              "      <th>T</th>\n",
              "    </tr>\n",
              "  </thead>\n",
              "  <tbody>\n",
              "    <tr>\n",
              "      <th>count</th>\n",
              "      <td>78888.000000</td>\n",
              "      <td>78888.000000</td>\n",
              "    </tr>\n",
              "    <tr>\n",
              "      <th>mean</th>\n",
              "      <td>3308.000837</td>\n",
              "      <td>47.573934</td>\n",
              "    </tr>\n",
              "    <tr>\n",
              "      <th>std</th>\n",
              "      <td>579.803021</td>\n",
              "      <td>19.201314</td>\n",
              "    </tr>\n",
              "    <tr>\n",
              "      <th>min</th>\n",
              "      <td>1811.000000</td>\n",
              "      <td>-18.000000</td>\n",
              "    </tr>\n",
              "    <tr>\n",
              "      <th>25%</th>\n",
              "      <td>2845.000000</td>\n",
              "      <td>32.670000</td>\n",
              "    </tr>\n",
              "    <tr>\n",
              "      <th>50%</th>\n",
              "      <td>3382.000000</td>\n",
              "      <td>48.670000</td>\n",
              "    </tr>\n",
              "    <tr>\n",
              "      <th>75%</th>\n",
              "      <td>3709.000000</td>\n",
              "      <td>63.000000</td>\n",
              "    </tr>\n",
              "    <tr>\n",
              "      <th>max</th>\n",
              "      <td>5506.000000</td>\n",
              "      <td>97.000000</td>\n",
              "    </tr>\n",
              "  </tbody>\n",
              "</table>\n",
              "</div>"
            ],
            "text/plain": [
              "               load             T\n",
              "count  78888.000000  78888.000000\n",
              "mean    3308.000837     47.573934\n",
              "std      579.803021     19.201314\n",
              "min     1811.000000    -18.000000\n",
              "25%     2845.000000     32.670000\n",
              "50%     3382.000000     48.670000\n",
              "75%     3709.000000     63.000000\n",
              "max     5506.000000     97.000000"
            ]
          },
          "metadata": {
            "tags": []
          },
          "execution_count": 3319
        },
        {
          "output_type": "stream",
          "text": [
            "time: 41.7 ms (started: 2021-01-14 20:39:34 +00:00)\n"
          ],
          "name": "stdout"
        }
      ]
    },
    {
      "cell_type": "markdown",
      "metadata": {
        "id": "yej0eIRSpgPU"
      },
      "source": [
        "### Data Analysis with Custom Frequency\r\n",
        "\r\n",
        "In some cases, you may want to sample from the entire data at a given frequency, for instance you may be interested in only business days. It is easy to generate such data in python.\r\n",
        "\r\n",
        "`asfreq()` method converts a time series to specified frequency and optionally provides a filling method for the missing values. "
      ]
    },
    {
      "cell_type": "code",
      "metadata": {
        "colab": {
          "base_uri": "https://localhost:8080/",
          "height": 287
        },
        "id": "Q28nMBFap0qS",
        "outputId": "944a23d2-a5fd-442f-da7a-560aba67109b"
      },
      "source": [
        "#https://pandas.pydata.org/pandas-docs/stable/reference/api/pandas.tseries.offsets.DateOffset.html\r\n",
        "#https://pandas.pydata.org/pandas-docs/stable/reference/api/pandas.DataFrame.asfreq.html\r\n",
        "# For business days only:\r\n",
        "data_custom = data.asfreq(pd.offsets.BDay(), method='pad') #Method to use for filling holes in reindexed Series \r\n",
        "data_custom.head(7)"
      ],
      "execution_count": null,
      "outputs": [
        {
          "output_type": "execute_result",
          "data": {
            "text/html": [
              "<div>\n",
              "<style scoped>\n",
              "    .dataframe tbody tr th:only-of-type {\n",
              "        vertical-align: middle;\n",
              "    }\n",
              "\n",
              "    .dataframe tbody tr th {\n",
              "        vertical-align: top;\n",
              "    }\n",
              "\n",
              "    .dataframe thead th {\n",
              "        text-align: right;\n",
              "    }\n",
              "</style>\n",
              "<table border=\"1\" class=\"dataframe\">\n",
              "  <thead>\n",
              "    <tr style=\"text-align: right;\">\n",
              "      <th></th>\n",
              "      <th>load</th>\n",
              "      <th>T</th>\n",
              "    </tr>\n",
              "  </thead>\n",
              "  <tbody>\n",
              "    <tr>\n",
              "      <th>2006-01-02</th>\n",
              "      <td>2913.0</td>\n",
              "      <td>29.00</td>\n",
              "    </tr>\n",
              "    <tr>\n",
              "      <th>2006-01-03</th>\n",
              "      <td>3121.0</td>\n",
              "      <td>17.67</td>\n",
              "    </tr>\n",
              "    <tr>\n",
              "      <th>2006-01-04</th>\n",
              "      <td>3053.0</td>\n",
              "      <td>27.33</td>\n",
              "    </tr>\n",
              "    <tr>\n",
              "      <th>2006-01-05</th>\n",
              "      <td>3012.0</td>\n",
              "      <td>29.00</td>\n",
              "    </tr>\n",
              "    <tr>\n",
              "      <th>2006-01-06</th>\n",
              "      <td>3098.0</td>\n",
              "      <td>23.33</td>\n",
              "    </tr>\n",
              "    <tr>\n",
              "      <th>2006-01-09</th>\n",
              "      <td>2964.0</td>\n",
              "      <td>33.00</td>\n",
              "    </tr>\n",
              "    <tr>\n",
              "      <th>2006-01-10</th>\n",
              "      <td>2986.0</td>\n",
              "      <td>27.00</td>\n",
              "    </tr>\n",
              "  </tbody>\n",
              "</table>\n",
              "</div>"
            ],
            "text/plain": [
              "              load      T\n",
              "2006-01-02  2913.0  29.00\n",
              "2006-01-03  3121.0  17.67\n",
              "2006-01-04  3053.0  27.33\n",
              "2006-01-05  3012.0  29.00\n",
              "2006-01-06  3098.0  23.33\n",
              "2006-01-09  2964.0  33.00\n",
              "2006-01-10  2986.0  27.00"
            ]
          },
          "metadata": {
            "tags": []
          },
          "execution_count": 3320
        },
        {
          "output_type": "stream",
          "text": [
            "time: 57.6 ms (started: 2021-01-14 20:39:34 +00:00)\n"
          ],
          "name": "stdout"
        }
      ]
    },
    {
      "cell_type": "markdown",
      "metadata": {
        "id": "pTHwu_9orY0h"
      },
      "source": [
        "### Exploring time-related information\r\n",
        "\r\n",
        "We can look at the trend, seasonality and the noise in the data by using the `statsmodels` Python module, which has a `tsa` (time series analysis) package as well as the `seasonal _ decompose()` function. \r\n",
        "\r\n",
        "The `statsmodels.tsa` package also contains descriptive statistics for time series, such as, autocorrelation, partial autocorrelation function, and periodogram:\r\n",
        "https://www.statsmodels.org/devel/tsa.html\r\n",
        "\r\n",
        "Here, we will look at only the `statsmodels` and `seasonal _ decompose()` functions for the load variable."
      ]
    },
    {
      "cell_type": "code",
      "metadata": {
        "colab": {
          "base_uri": "https://localhost:8080/",
          "height": 458
        },
        "id": "aO9xGtaJsClV",
        "outputId": "b95ff289-7235-4b75-bf8e-3301689c6386"
      },
      "source": [
        "#taking load column:\r\n",
        "data_load = data['load']\r\n",
        "#Calling our function:\r\n",
        "decomposition = sm.tsa.seasonal_decompose(data_load['2014-06-01':'2014-12-31'], model = 'additive')\r\n",
        "#Plotting:\r\n",
        "fig = decomposition.plot()\r\n",
        "mpl.rcParams['figure.figsize'] = [8.0, 8.0]"
      ],
      "execution_count": null,
      "outputs": [
        {
          "output_type": "display_data",
          "data": {
            "image/png": "[encoded data removed]",
            "text/plain": [
              "<Figure size 864x432 with 4 Axes>"
            ]
          },
          "metadata": {
            "tags": [],
            "needs_background": "light"
          }
        },
        {
          "output_type": "stream",
          "text": [
            "time: 2.23 s (started: 2021-01-14 20:39:34 +00:00)\n"
          ],
          "name": "stdout"
        }
      ]
    },
    {
      "cell_type": "markdown",
      "metadata": {
        "id": "3tk6LSv0tYr8"
      },
      "source": [
        "we can see that the seasonality is following a consistent pattern while the trend is following an irregular\r\n",
        "behaviour for the second half of year 2014. \r\n",
        "\r\n",
        "We can also plot the trend alongside the observed load variations together:"
      ]
    },
    {
      "cell_type": "code",
      "metadata": {
        "colab": {
          "base_uri": "https://localhost:8080/",
          "height": 502
        },
        "id": "9caHcP1rtqs6",
        "outputId": "a9d8dace-115d-40da-ceae-3e5c23ef49aa"
      },
      "source": [
        "#Calling function:\r\n",
        "decomposition = sm.tsa.seasonal_decompose(data_load, model = 'additive')\r\n",
        "#Plotting:\r\n",
        "fig, ax = plt.subplots()\r\n",
        "ax.grid(True)\r\n",
        "#Matplotlib’s YearLocator() makes ticks on a given day of each year that is a multiple of base:\r\n",
        "year = mdates.YearLocator(month=1)\r\n",
        "month = mdates.MonthLocator(interval=1)\r\n",
        "year_format = mdates.DateFormatter('%Y')\r\n",
        "month_format = mdates.DateFormatter('%m')\r\n",
        "ax.xaxis.set_minor_locator(month)\r\n",
        "ax.xaxis.grid(True, which = 'minor')\r\n",
        "ax.xaxis.set_major_locator(year)\r\n",
        "ax.xaxis.set_major_formatter(year_format)\r\n",
        "plt.plot(data_load.index, data_load, c=colors['lightskyblue'])\r\n",
        "plt.plot(decomposition.trend.index, decomposition.trend, c=colors['midnightblue'])\r\n",
        "mpl.rcParams['figure.figsize'] = [18.0, 6.0]"
      ],
      "execution_count": null,
      "outputs": [
        {
          "output_type": "display_data",
          "data": {
            "image/png": "[encoded data removed]",
            "text/plain": [
              "<Figure size 576x576 with 1 Axes>"
            ]
          },
          "metadata": {
            "tags": [],
            "needs_background": "light"
          }
        },
        {
          "output_type": "stream",
          "text": [
            "time: 1.25 s (started: 2021-01-14 20:39:36 +00:00)\n"
          ],
          "name": "stdout"
        }
      ]
    },
    {
      "cell_type": "markdown",
      "metadata": {
        "id": "CnC0LoIanb4x"
      },
      "source": [
        "### Handling Missing Data\r\n",
        "\r\n",
        "We have checked that the data has no missing elements, in neither load nor temperature. \r\n",
        "\r\n",
        "In general, missing values are represented in the time series by a sequence gap in the time stamp variable or in other values. If you have such a problem in your data, you\r\n",
        "can fill missing values by interpolating between the two closest non-missing values via `dataframe.interpolate()`. However, you should note that only `method = 'linear'` is supported for DataFrames and series with a MultiIndex:\r\n",
        "\r\n",
        "```\r\n",
        "#you can interpolate linearly as follows:\r\n",
        "data.interpolate(limit = 8, method ='linear', limit_direction ='both')\r\n",
        "```\r\n",
        "\r\n",
        "Note that if there is more than 8 missing data in both direction in time consecutively, the missing\r\n",
        "values are not interpolated and they remain missing. This is set via `limit`. This is a precaution to limit the spurious interpolation.\r\n",
        "\r\n",
        "You can also use `scipy.stats` package for more advanced options:\r\n",
        "\r\n",
        "https://docs.scipy.org/doc/scipy/reference/tutorial/stats.html"
      ]
    },
    {
      "cell_type": "markdown",
      "metadata": {
        "id": "-HCR-et-3yOM"
      },
      "source": [
        "### Normalization / Standardization in Time Series\r\n",
        "\r\n",
        "Normalization rescales the data such that all values are within the range of 0 and 1. Standardization, on the other hand, rerescales the distribution of values so that\r\n",
        "the mean values are 0 with a SD of 1. Similar to the previous exercises, we can use scikit learn for that purpose."
      ]
    },
    {
      "cell_type": "code",
      "metadata": {
        "colab": {
          "base_uri": "https://localhost:8080/",
          "height": 319
        },
        "id": "8GCXSc-wPcXC",
        "outputId": "7c001f0b-9ddb-45de-c274-f68404a81d0e"
      },
      "source": [
        "#Looking into the statistics:\r\n",
        "data.describe()"
      ],
      "execution_count": null,
      "outputs": [
        {
          "output_type": "execute_result",
          "data": {
            "text/html": [
              "<div>\n",
              "<style scoped>\n",
              "    .dataframe tbody tr th:only-of-type {\n",
              "        vertical-align: middle;\n",
              "    }\n",
              "\n",
              "    .dataframe tbody tr th {\n",
              "        vertical-align: top;\n",
              "    }\n",
              "\n",
              "    .dataframe thead th {\n",
              "        text-align: right;\n",
              "    }\n",
              "</style>\n",
              "<table border=\"1\" class=\"dataframe\">\n",
              "  <thead>\n",
              "    <tr style=\"text-align: right;\">\n",
              "      <th></th>\n",
              "      <th>load</th>\n",
              "      <th>T</th>\n",
              "    </tr>\n",
              "  </thead>\n",
              "  <tbody>\n",
              "    <tr>\n",
              "      <th>count</th>\n",
              "      <td>78888.000000</td>\n",
              "      <td>78888.000000</td>\n",
              "    </tr>\n",
              "    <tr>\n",
              "      <th>mean</th>\n",
              "      <td>3308.000837</td>\n",
              "      <td>47.573934</td>\n",
              "    </tr>\n",
              "    <tr>\n",
              "      <th>std</th>\n",
              "      <td>579.803021</td>\n",
              "      <td>19.201314</td>\n",
              "    </tr>\n",
              "    <tr>\n",
              "      <th>min</th>\n",
              "      <td>1811.000000</td>\n",
              "      <td>-18.000000</td>\n",
              "    </tr>\n",
              "    <tr>\n",
              "      <th>25%</th>\n",
              "      <td>2845.000000</td>\n",
              "      <td>32.670000</td>\n",
              "    </tr>\n",
              "    <tr>\n",
              "      <th>50%</th>\n",
              "      <td>3382.000000</td>\n",
              "      <td>48.670000</td>\n",
              "    </tr>\n",
              "    <tr>\n",
              "      <th>75%</th>\n",
              "      <td>3709.000000</td>\n",
              "      <td>63.000000</td>\n",
              "    </tr>\n",
              "    <tr>\n",
              "      <th>max</th>\n",
              "      <td>5506.000000</td>\n",
              "      <td>97.000000</td>\n",
              "    </tr>\n",
              "  </tbody>\n",
              "</table>\n",
              "</div>"
            ],
            "text/plain": [
              "               load             T\n",
              "count  78888.000000  78888.000000\n",
              "mean    3308.000837     47.573934\n",
              "std      579.803021     19.201314\n",
              "min     1811.000000    -18.000000\n",
              "25%     2845.000000     32.670000\n",
              "50%     3382.000000     48.670000\n",
              "75%     3709.000000     63.000000\n",
              "max     5506.000000     97.000000"
            ]
          },
          "metadata": {
            "tags": []
          },
          "execution_count": 3323
        },
        {
          "output_type": "stream",
          "text": [
            "time: 32.8 ms (started: 2021-01-14 20:39:37 +00:00)\n"
          ],
          "name": "stdout"
        }
      ]
    },
    {
      "cell_type": "code",
      "metadata": {
        "colab": {
          "base_uri": "https://localhost:8080/",
          "height": 319
        },
        "id": "Ye5yeiCCNues",
        "outputId": "a314f70e-f1b0-44c8-9104-252b27760dec"
      },
      "source": [
        "#Rescaling the data\r\n",
        "featuresToScale = data.columns\r\n",
        "sX = pp.StandardScaler(copy=True)\r\n",
        "data.loc[:,featuresToScale] = sX.fit_transform(data[featuresToScale])\r\n",
        "#Looking into the statistics again:\r\n",
        "data.describe()"
      ],
      "execution_count": null,
      "outputs": [
        {
          "output_type": "execute_result",
          "data": {
            "text/html": [
              "<div>\n",
              "<style scoped>\n",
              "    .dataframe tbody tr th:only-of-type {\n",
              "        vertical-align: middle;\n",
              "    }\n",
              "\n",
              "    .dataframe tbody tr th {\n",
              "        vertical-align: top;\n",
              "    }\n",
              "\n",
              "    .dataframe thead th {\n",
              "        text-align: right;\n",
              "    }\n",
              "</style>\n",
              "<table border=\"1\" class=\"dataframe\">\n",
              "  <thead>\n",
              "    <tr style=\"text-align: right;\">\n",
              "      <th></th>\n",
              "      <th>load</th>\n",
              "      <th>T</th>\n",
              "    </tr>\n",
              "  </thead>\n",
              "  <tbody>\n",
              "    <tr>\n",
              "      <th>count</th>\n",
              "      <td>7.888800e+04</td>\n",
              "      <td>7.888800e+04</td>\n",
              "    </tr>\n",
              "    <tr>\n",
              "      <th>mean</th>\n",
              "      <td>-1.527668e-18</td>\n",
              "      <td>7.586890e-16</td>\n",
              "    </tr>\n",
              "    <tr>\n",
              "      <th>std</th>\n",
              "      <td>1.000006e+00</td>\n",
              "      <td>1.000006e+00</td>\n",
              "    </tr>\n",
              "    <tr>\n",
              "      <th>min</th>\n",
              "      <td>-2.581929e+00</td>\n",
              "      <td>-3.415097e+00</td>\n",
              "    </tr>\n",
              "    <tr>\n",
              "      <th>25%</th>\n",
              "      <td>-7.985536e-01</td>\n",
              "      <td>-7.761984e-01</td>\n",
              "    </tr>\n",
              "    <tr>\n",
              "      <th>50%</th>\n",
              "      <td>1.276289e-01</td>\n",
              "      <td>5.708323e-02</td>\n",
              "    </tr>\n",
              "    <tr>\n",
              "      <th>75%</th>\n",
              "      <td>6.916171e-01</td>\n",
              "      <td>8.033911e-01</td>\n",
              "    </tr>\n",
              "    <tr>\n",
              "      <th>max</th>\n",
              "      <td>3.790965e+00</td>\n",
              "      <td>2.574114e+00</td>\n",
              "    </tr>\n",
              "  </tbody>\n",
              "</table>\n",
              "</div>"
            ],
            "text/plain": [
              "               load             T\n",
              "count  7.888800e+04  7.888800e+04\n",
              "mean  -1.527668e-18  7.586890e-16\n",
              "std    1.000006e+00  1.000006e+00\n",
              "min   -2.581929e+00 -3.415097e+00\n",
              "25%   -7.985536e-01 -7.761984e-01\n",
              "50%    1.276289e-01  5.708323e-02\n",
              "75%    6.916171e-01  8.033911e-01\n",
              "max    3.790965e+00  2.574114e+00"
            ]
          },
          "metadata": {
            "tags": []
          },
          "execution_count": 3324
        },
        {
          "output_type": "stream",
          "text": [
            "time: 36.3 ms (started: 2021-01-14 20:39:37 +00:00)\n"
          ],
          "name": "stdout"
        }
      ]
    },
    {
      "cell_type": "code",
      "metadata": {
        "colab": {
          "base_uri": "https://localhost:8080/",
          "height": 319
        },
        "id": "HFQTwyTDOke8",
        "outputId": "929b750c-eef7-4769-fe64-262f1a44455b"
      },
      "source": [
        "data.loc[:,featuresToScale] = sX.inverse_transform(data[featuresToScale])\r\n",
        "#Looking into the statistics again:\r\n",
        "data.describe()"
      ],
      "execution_count": null,
      "outputs": [
        {
          "output_type": "execute_result",
          "data": {
            "text/html": [
              "<div>\n",
              "<style scoped>\n",
              "    .dataframe tbody tr th:only-of-type {\n",
              "        vertical-align: middle;\n",
              "    }\n",
              "\n",
              "    .dataframe tbody tr th {\n",
              "        vertical-align: top;\n",
              "    }\n",
              "\n",
              "    .dataframe thead th {\n",
              "        text-align: right;\n",
              "    }\n",
              "</style>\n",
              "<table border=\"1\" class=\"dataframe\">\n",
              "  <thead>\n",
              "    <tr style=\"text-align: right;\">\n",
              "      <th></th>\n",
              "      <th>load</th>\n",
              "      <th>T</th>\n",
              "    </tr>\n",
              "  </thead>\n",
              "  <tbody>\n",
              "    <tr>\n",
              "      <th>count</th>\n",
              "      <td>78888.000000</td>\n",
              "      <td>78888.000000</td>\n",
              "    </tr>\n",
              "    <tr>\n",
              "      <th>mean</th>\n",
              "      <td>3308.000837</td>\n",
              "      <td>47.573934</td>\n",
              "    </tr>\n",
              "    <tr>\n",
              "      <th>std</th>\n",
              "      <td>579.803021</td>\n",
              "      <td>19.201314</td>\n",
              "    </tr>\n",
              "    <tr>\n",
              "      <th>min</th>\n",
              "      <td>1811.000000</td>\n",
              "      <td>-18.000000</td>\n",
              "    </tr>\n",
              "    <tr>\n",
              "      <th>25%</th>\n",
              "      <td>2845.000000</td>\n",
              "      <td>32.670000</td>\n",
              "    </tr>\n",
              "    <tr>\n",
              "      <th>50%</th>\n",
              "      <td>3382.000000</td>\n",
              "      <td>48.670000</td>\n",
              "    </tr>\n",
              "    <tr>\n",
              "      <th>75%</th>\n",
              "      <td>3709.000000</td>\n",
              "      <td>63.000000</td>\n",
              "    </tr>\n",
              "    <tr>\n",
              "      <th>max</th>\n",
              "      <td>5506.000000</td>\n",
              "      <td>97.000000</td>\n",
              "    </tr>\n",
              "  </tbody>\n",
              "</table>\n",
              "</div>"
            ],
            "text/plain": [
              "               load             T\n",
              "count  78888.000000  78888.000000\n",
              "mean    3308.000837     47.573934\n",
              "std      579.803021     19.201314\n",
              "min     1811.000000    -18.000000\n",
              "25%     2845.000000     32.670000\n",
              "50%     3382.000000     48.670000\n",
              "75%     3709.000000     63.000000\n",
              "max     5506.000000     97.000000"
            ]
          },
          "metadata": {
            "tags": []
          },
          "execution_count": 3325
        },
        {
          "output_type": "stream",
          "text": [
            "time: 34.2 ms (started: 2021-01-14 20:39:37 +00:00)\n"
          ],
          "name": "stdout"
        }
      ]
    },
    {
      "cell_type": "markdown",
      "metadata": {
        "id": "tV9j0xKp4N2d"
      },
      "source": [
        "## Feature Engineering in Time Series\r\n",
        "\r\n",
        "Feature engineering enables you to optimize the data fed into the ML algorithms so that the predictive accuracy of the model increased. In time series, there are some well-known tricks which helps to improve the model outcomes. Below you will find some illustrative examples for you to explore."
      ]
    },
    {
      "cell_type": "markdown",
      "metadata": {
        "id": "hAdi_ftXQRqC"
      },
      "source": [
        "### Date - Time Features\r\n",
        "\r\n",
        "Depending on the problem, you might see some patterns on sub-time items present in the time stamps; such as the hour, day, month etc. Imagine that you would like to capture the rush hour effects on utility consumption. In this case, it would be better to add this time information as an additional feature (column in dataframe). For that purpose, you can use `pandas` to add new columns (hour, month, and day of week columns) to your original dataset. In the ML algorithm, this new column will be taken into account as a new factor. \r\n",
        "\r\n",
        "Other important features might be:\r\n",
        "+ Weekend or not\r\n",
        "+ Business day or not\r\n",
        "+ Public holiday or not\r\n",
        "+ Quarter of the year\r\n",
        "+ Before or after business hours\r\n",
        "+ Season of the year\r\n",
        "\r\n",
        "You can craft different filters according to your problem and your objective. "
      ]
    },
    {
      "cell_type": "code",
      "metadata": {
        "colab": {
          "base_uri": "https://localhost:8080/",
          "height": 225
        },
        "id": "L0PgA_TfSLQY",
        "outputId": "822f5cea-7f01-40f0-bc57-ba98686dc7c6"
      },
      "source": [
        "data.head()"
      ],
      "execution_count": null,
      "outputs": [
        {
          "output_type": "execute_result",
          "data": {
            "text/html": [
              "<div>\n",
              "<style scoped>\n",
              "    .dataframe tbody tr th:only-of-type {\n",
              "        vertical-align: middle;\n",
              "    }\n",
              "\n",
              "    .dataframe tbody tr th {\n",
              "        vertical-align: top;\n",
              "    }\n",
              "\n",
              "    .dataframe thead th {\n",
              "        text-align: right;\n",
              "    }\n",
              "</style>\n",
              "<table border=\"1\" class=\"dataframe\">\n",
              "  <thead>\n",
              "    <tr style=\"text-align: right;\">\n",
              "      <th></th>\n",
              "      <th>load</th>\n",
              "      <th>T</th>\n",
              "    </tr>\n",
              "  </thead>\n",
              "  <tbody>\n",
              "    <tr>\n",
              "      <th>2006-01-01 00:00:00</th>\n",
              "      <td>2985.0</td>\n",
              "      <td>24.33</td>\n",
              "    </tr>\n",
              "    <tr>\n",
              "      <th>2006-01-01 01:00:00</th>\n",
              "      <td>3010.0</td>\n",
              "      <td>22.67</td>\n",
              "    </tr>\n",
              "    <tr>\n",
              "      <th>2006-01-01 02:00:00</th>\n",
              "      <td>2853.0</td>\n",
              "      <td>20.67</td>\n",
              "    </tr>\n",
              "    <tr>\n",
              "      <th>2006-01-01 03:00:00</th>\n",
              "      <td>2758.0</td>\n",
              "      <td>21.33</td>\n",
              "    </tr>\n",
              "    <tr>\n",
              "      <th>2006-01-01 04:00:00</th>\n",
              "      <td>2705.0</td>\n",
              "      <td>19.00</td>\n",
              "    </tr>\n",
              "  </tbody>\n",
              "</table>\n",
              "</div>"
            ],
            "text/plain": [
              "                       load      T\n",
              "2006-01-01 00:00:00  2985.0  24.33\n",
              "2006-01-01 01:00:00  3010.0  22.67\n",
              "2006-01-01 02:00:00  2853.0  20.67\n",
              "2006-01-01 03:00:00  2758.0  21.33\n",
              "2006-01-01 04:00:00  2705.0  19.00"
            ]
          },
          "metadata": {
            "tags": []
          },
          "execution_count": 3326
        },
        {
          "output_type": "stream",
          "text": [
            "time: 16.1 ms (started: 2021-01-14 20:39:37 +00:00)\n"
          ],
          "name": "stdout"
        }
      ]
    },
    {
      "cell_type": "code",
      "metadata": {
        "colab": {
          "base_uri": "https://localhost:8080/"
        },
        "id": "r2UF-vAKROgS",
        "outputId": "19db64db-d773-433f-fb48-c5d4e55e9260"
      },
      "source": [
        "#A simple example:\r\n",
        "data['hour'] = [data.index[i].hour for i in range(len(data))]\r\n",
        "data['month'] = [data.index[i].month for i in range(len(data))]\r\n",
        "data['dayofWeek'] = [data.index[i].day for i in range(len(data))]\r\n",
        "print(data.head(5))"
      ],
      "execution_count": null,
      "outputs": [
        {
          "output_type": "stream",
          "text": [
            "                       load      T  hour  month  dayofWeek\n",
            "2006-01-01 00:00:00  2985.0  24.33     0      1          1\n",
            "2006-01-01 01:00:00  3010.0  22.67     1      1          1\n",
            "2006-01-01 02:00:00  2853.0  20.67     2      1          1\n",
            "2006-01-01 03:00:00  2758.0  21.33     3      1          1\n",
            "2006-01-01 04:00:00  2705.0  19.00     4      1          1\n",
            "time: 2.79 s (started: 2021-01-14 20:39:37 +00:00)\n"
          ],
          "name": "stdout"
        }
      ]
    },
    {
      "cell_type": "markdown",
      "metadata": {
        "id": "mSbQfKTrTWAi"
      },
      "source": [
        "### Window Statistics as Feature\r\n",
        "\r\n",
        "Another common trick is to introduce windows statistics as an additional feature. \r\n",
        "\r\n",
        "Sliding window method are a summary of values over a fixed window of prior timesteps. Here the basic idea is that you assume the past contain a sort of intrinsic information about the future that can be captured if you oberve the past in \"windows\".  A window of specified length is moved over the data, sample by sample, and the statistic of interest (mean, median etc) is computed over the data in these windows. For more, you may refer to:\r\n",
        "\r\n",
        "https://www.geeksforgeeks.org/window-sliding-technique/\r\n",
        "\r\n",
        "https://de.mathworks.com/help/dsp/ug/sliding-window-method-and-exponential-weighting-method.html\r\n",
        "\r\n",
        "Here I will show you how to add \"Rolling Window Statistics\" as an additional feature to your data. \r\n",
        "\r\n",
        "In this method, you first define a rolling window of observations. Then, you use observations falling under this window to compute statistics of interest. Next, you roll over the next time step and repeat the same computation. You may consider it as an integral action over a given time interval.\r\n",
        "\r\n",
        "`pandas` offers a `rolling()` function for that purpose, where it creates a new data structure with the window of values at each timestep:\r\n",
        "\r\n",
        "https://pandas.pydata.org/pandas-docs/stable/reference/api/pandas.DataFrame.rolling.html\r\n",
        "\r\n",
        "Here we will also a need the shifting in the time stamps. The shift method\r\n",
        "uses a freq argument which can be a DateOffset class or a timedelta-like object or also an offset alias. \r\n",
        "\r\n",
        "https://pandas.pydata.org/pandas-docs/stable/reference/api/pandas.DataFrame.shift.html\r\n",
        "\r\n",
        "String aliases that are useful for common time series frequencies are listed here:\r\n",
        "\r\n",
        "https://pandas.pydata.org/pandas-docs/stable/user_guide/timeseries.html#offset-aliases"
      ]
    },
    {
      "cell_type": "code",
      "metadata": {
        "colab": {
          "base_uri": "https://localhost:8080/"
        },
        "id": "8O4fg_fHcBUR",
        "outputId": "d30643c5-0af7-451c-9c45-96873ffa248f"
      },
      "source": [
        "#How to add statistics features in dataframes:\r\n",
        "#------------------------------------------------\r\n",
        "#Lets use only the load data;\r\n",
        "load_data = data[['load']]\r\n",
        "#Defining the window width:\r\n",
        "width = 4\r\n",
        "#Shifting:if needed, use shifted with .rolling.\r\n",
        "#shifted = load_data.shift(2)\r\n",
        "#Calling Rolling:\r\n",
        "window = load_data.rolling(window=width)\r\n",
        "#Lets save as a new DF. We will add min, mean and max to the load column:\r\n",
        "new_dataframe = pd.concat([window.min(),window.median(), window.max(), load_data], axis=1)\r\n",
        "new_dataframe.columns = ['min', 'median', 'max', 'load']\r\n",
        "print(new_dataframe.head(10))"
      ],
      "execution_count": null,
      "outputs": [
        {
          "output_type": "stream",
          "text": [
            "                        min  median     max    load\n",
            "2006-01-01 00:00:00     NaN     NaN     NaN  2985.0\n",
            "2006-01-01 01:00:00     NaN     NaN     NaN  3010.0\n",
            "2006-01-01 02:00:00     NaN     NaN     NaN  2853.0\n",
            "2006-01-01 03:00:00  2758.0  2919.0  3010.0  2758.0\n",
            "2006-01-01 04:00:00  2705.0  2805.5  3010.0  2705.0\n",
            "2006-01-01 05:00:00  2705.0  2733.5  2853.0  2709.0\n",
            "2006-01-01 06:00:00  2705.0  2731.0  2758.0  2753.0\n",
            "2006-01-01 07:00:00  2705.0  2731.0  2849.0  2849.0\n",
            "2006-01-01 08:00:00  2709.0  2801.0  3008.0  3008.0\n",
            "2006-01-01 09:00:00  2753.0  2928.5  3243.0  3243.0\n",
            "time: 64.6 ms (started: 2021-01-14 20:39:40 +00:00)\n"
          ],
          "name": "stdout"
        }
      ]
    },
    {
      "cell_type": "markdown",
      "metadata": {
        "id": "rvMDj9trefR3"
      },
      "source": [
        "It is also possible to use Expanding Window Statistics in `pandas`, where all past is taken into account. It is done via `expanding() `function. Its use is very similar to rolling:\r\n",
        "\r\n",
        "https://pandas.pydata.org/pandas-docs/stable/reference/api/pandas.DataFrame.expanding.html\r\n",
        "\r\n",
        "Feel free to test it by yourself!"
      ]
    },
    {
      "cell_type": "markdown",
      "metadata": {
        "id": "y4NSgbOlHDUG"
      },
      "source": [
        "# Some Basic Solutions for Time Series\r\n",
        "\r\n",
        "This section is for you to explore. It is always to be aware of simple solutions, before jumping into more complex models. Speaking of which, I recommend to watch the following lecture on model simplicity:\r\n",
        "[Winning with Simple, even Linear, Models](https://www.youtube.com/watch?v=68ABAU_V8qI). \r\n",
        "\r\n",
        "Linear statistical models (Autoregressive (AR) models, moving average (MA) models, and autoregressive integrated moving average (ARIMA) models) for time series have traditionally been the workhorses of time series forecasting, and they continue to be applied in a wide range of cases, from academic research to industry. This section will help you to have an idea on the subject. Note that these models are not built to handle nonlinear dynamics and will do a poor job describing data where nonlinear relationships are dominant."
      ]
    },
    {
      "cell_type": "markdown",
      "metadata": {
        "id": "hDu4JOY9jORS"
      },
      "source": [
        "## Autoregression\r\n",
        "\r\n",
        "This is the simplest method: you assume that future depends on past linearly. \r\n",
        "\r\n",
        "In this model, one parameter is the \"order\", which defines the the number of previous input values in the time series that are used to predict the next step. Therefore, this is a hyperparameter to figure out for your data. \r\n",
        "\r\n",
        "\r\n"
      ]
    },
    {
      "cell_type": "markdown",
      "metadata": {
        "id": "yjig5nPm6tDB"
      },
      "source": [
        "### Autocorrelation\r\n",
        "\r\n",
        "Because of this assumed linearity, autocorrelation becomes of significant importance here. It is a statistical property that occurs when a time series is linearly related to a previous time. \r\n",
        "\r\n",
        "In order to check whether there is a presence of autocorrelation in your data, you can use two different built-in plots of `pandas`: `lag_plot` and  `autocorrelation_plot`.  These functions can be imported from pandas.plotting:\r\n",
        "\r\n",
        "https://pandas.pydata.org/docs/reference/api/pandas.plotting.lag_plot.html\r\n",
        "\r\n",
        "https://pandas.pydata.org/docs/reference/api/pandas.plotting.autocorrelation_plot.html"
      ]
    },
    {
      "cell_type": "markdown",
      "metadata": {
        "id": "9067SFmooAgN"
      },
      "source": [
        "Lag plots are most commonly used to look for patterns in time series data. For example, random data should not exhibit any patterns in the lag plot. Lets see our load data:"
      ]
    },
    {
      "cell_type": "code",
      "metadata": {
        "colab": {
          "base_uri": "https://localhost:8080/",
          "height": 225
        },
        "id": "b7bMHU6g3fOw",
        "outputId": "7bd00d13-9fcf-42ed-c6c0-0eb6dfcb218b"
      },
      "source": [
        "data.head()"
      ],
      "execution_count": null,
      "outputs": [
        {
          "output_type": "execute_result",
          "data": {
            "text/html": [
              "<div>\n",
              "<style scoped>\n",
              "    .dataframe tbody tr th:only-of-type {\n",
              "        vertical-align: middle;\n",
              "    }\n",
              "\n",
              "    .dataframe tbody tr th {\n",
              "        vertical-align: top;\n",
              "    }\n",
              "\n",
              "    .dataframe thead th {\n",
              "        text-align: right;\n",
              "    }\n",
              "</style>\n",
              "<table border=\"1\" class=\"dataframe\">\n",
              "  <thead>\n",
              "    <tr style=\"text-align: right;\">\n",
              "      <th></th>\n",
              "      <th>load</th>\n",
              "      <th>T</th>\n",
              "      <th>hour</th>\n",
              "      <th>month</th>\n",
              "      <th>dayofWeek</th>\n",
              "    </tr>\n",
              "  </thead>\n",
              "  <tbody>\n",
              "    <tr>\n",
              "      <th>2006-01-01 00:00:00</th>\n",
              "      <td>2985.0</td>\n",
              "      <td>24.33</td>\n",
              "      <td>0</td>\n",
              "      <td>1</td>\n",
              "      <td>1</td>\n",
              "    </tr>\n",
              "    <tr>\n",
              "      <th>2006-01-01 01:00:00</th>\n",
              "      <td>3010.0</td>\n",
              "      <td>22.67</td>\n",
              "      <td>1</td>\n",
              "      <td>1</td>\n",
              "      <td>1</td>\n",
              "    </tr>\n",
              "    <tr>\n",
              "      <th>2006-01-01 02:00:00</th>\n",
              "      <td>2853.0</td>\n",
              "      <td>20.67</td>\n",
              "      <td>2</td>\n",
              "      <td>1</td>\n",
              "      <td>1</td>\n",
              "    </tr>\n",
              "    <tr>\n",
              "      <th>2006-01-01 03:00:00</th>\n",
              "      <td>2758.0</td>\n",
              "      <td>21.33</td>\n",
              "      <td>3</td>\n",
              "      <td>1</td>\n",
              "      <td>1</td>\n",
              "    </tr>\n",
              "    <tr>\n",
              "      <th>2006-01-01 04:00:00</th>\n",
              "      <td>2705.0</td>\n",
              "      <td>19.00</td>\n",
              "      <td>4</td>\n",
              "      <td>1</td>\n",
              "      <td>1</td>\n",
              "    </tr>\n",
              "  </tbody>\n",
              "</table>\n",
              "</div>"
            ],
            "text/plain": [
              "                       load      T  hour  month  dayofWeek\n",
              "2006-01-01 00:00:00  2985.0  24.33     0      1          1\n",
              "2006-01-01 01:00:00  3010.0  22.67     1      1          1\n",
              "2006-01-01 02:00:00  2853.0  20.67     2      1          1\n",
              "2006-01-01 03:00:00  2758.0  21.33     3      1          1\n",
              "2006-01-01 04:00:00  2705.0  19.00     4      1          1"
            ]
          },
          "metadata": {
            "tags": []
          },
          "execution_count": 3329
        },
        {
          "output_type": "stream",
          "text": [
            "time: 21.5 ms (started: 2021-01-14 20:39:40 +00:00)\n"
          ],
          "name": "stdout"
        }
      ]
    },
    {
      "cell_type": "code",
      "metadata": {
        "colab": {
          "base_uri": "https://localhost:8080/"
        },
        "id": "rYnYw8Xkmk0p",
        "outputId": "72ca007c-5845-4b09-fba2-d7be3fa42adc"
      },
      "source": [
        "# Returning back to the original DF:\r\n",
        "data = data.drop(['hour','month','dayofWeek'],axis=1)\r\n",
        "data.info()"
      ],
      "execution_count": null,
      "outputs": [
        {
          "output_type": "stream",
          "text": [
            "<class 'pandas.core.frame.DataFrame'>\n",
            "DatetimeIndex: 78888 entries, 2006-01-01 00:00:00 to 2014-12-31 23:00:00\n",
            "Data columns (total 2 columns):\n",
            " #   Column  Non-Null Count  Dtype  \n",
            "---  ------  --------------  -----  \n",
            " 0   load    78888 non-null  float64\n",
            " 1   T       78888 non-null  float64\n",
            "dtypes: float64(2)\n",
            "memory usage: 4.3 MB\n",
            "time: 16.8 ms (started: 2021-01-14 20:39:40 +00:00)\n"
          ],
          "name": "stdout"
        }
      ]
    },
    {
      "cell_type": "code",
      "metadata": {
        "colab": {
          "base_uri": "https://localhost:8080/",
          "height": 333
        },
        "id": "nd3p1zJXnlH5",
        "outputId": "c6a52a60-fe60-4925-ece8-2d82ce3adf5f"
      },
      "source": [
        "# Plotting the figure:\r\n",
        "plt.figure()\r\n",
        "lag_plot(data['load'])\r\n",
        "mpl.rcParams['figure.figsize'] = [8.0, 8.0]"
      ],
      "execution_count": null,
      "outputs": [
        {
          "output_type": "display_data",
          "data": {
            "image/png": "[encoded data removed]",
            "text/plain": [
              "<Figure size 1296x432 with 1 Axes>"
            ]
          },
          "metadata": {
            "tags": [],
            "needs_background": "light"
          }
        },
        {
          "output_type": "stream",
          "text": [
            "time: 543 ms (started: 2021-01-14 20:39:40 +00:00)\n"
          ],
          "name": "stdout"
        }
      ]
    },
    {
      "cell_type": "markdown",
      "metadata": {
        "id": "EEzR4-jNoJaz"
      },
      "source": [
        "Here we see a clear relationship between the time steps t and t+1. \r\n",
        "\r\n",
        "Autocorrelation plots are also useful to check the randomness in time series. If time series is random, autocorrelation values should be near zero all the time. Otherwise, the autocorrelations will be significantly non-zero. "
      ]
    },
    {
      "cell_type": "code",
      "metadata": {
        "colab": {
          "base_uri": "https://localhost:8080/",
          "height": 520
        },
        "id": "ad3aV2rU2ibu",
        "outputId": "24064ae6-644e-444b-e5ec-3f2c6dc9a69f"
      },
      "source": [
        "#Checking autocorrelations:\r\n",
        "plt.figure()\r\n",
        "autocorrelation_plot(data['load'])\r\n",
        "mpl.rcParams['figure.figsize'] = [8.0, 8.0]"
      ],
      "execution_count": null,
      "outputs": [
        {
          "output_type": "display_data",
          "data": {
            "image/png": "[encoded data removed]",
            "text/plain": [
              "<Figure size 576x576 with 1 Axes>"
            ]
          },
          "metadata": {
            "tags": [],
            "needs_background": "light"
          }
        },
        {
          "output_type": "stream",
          "text": [
            "time: 12.1 s (started: 2021-01-14 20:39:41 +00:00)\n"
          ],
          "name": "stdout"
        }
      ]
    },
    {
      "cell_type": "markdown",
      "metadata": {
        "id": "vg1iwRRX2xB-"
      },
      "source": [
        "Lets zoom in into a fraction of the data:"
      ]
    },
    {
      "cell_type": "code",
      "metadata": {
        "colab": {
          "base_uri": "https://localhost:8080/",
          "height": 520
        },
        "id": "1x0wdu1X3sXV",
        "outputId": "23715927-db4d-4c9a-ff18-c07b79ae831a"
      },
      "source": [
        "data_subset = data['load']['2014-01-01':'2014-01-07']\r\n",
        "autocorrelation_plot(data_subset)\r\n",
        "mpl.rcParams['figure.figsize'] = [12.0, 6.0]"
      ],
      "execution_count": null,
      "outputs": [
        {
          "output_type": "display_data",
          "data": {
            "image/png": "[encoded data removed]",
            "text/plain": [
              "<Figure size 576x576 with 1 Axes>"
            ]
          },
          "metadata": {
            "tags": [],
            "needs_background": "light"
          }
        },
        {
          "output_type": "stream",
          "text": [
            "time: 296 ms (started: 2021-01-14 20:39:53 +00:00)\n"
          ],
          "name": "stdout"
        }
      ]
    },
    {
      "cell_type": "markdown",
      "metadata": {
        "id": "B8mMyB9X4MBO"
      },
      "source": [
        "Autocorrelation function ranges from –1 to 1. By default, the horizontal lines correspond to 95 percent  and the dashed line is 99 percent confidence band. Correlation values outside of this window are very likely a correlation. \r\n",
        "\r\n",
        "Plot tells us whether the data is positively correlated, negatively correlated, or independent of each other."
      ]
    },
    {
      "cell_type": "code",
      "metadata": {
        "colab": {
          "base_uri": "https://localhost:8080/",
          "height": 427
        },
        "id": "aPJaXJNQ5K1Z",
        "outputId": "c773175b-5936-4f36-c1cf-5733cda84524"
      },
      "source": [
        "#Another Library.\r\n",
        "#Here confidence intervals are drawn as a cone:\r\n",
        "plt.figure()\r\n",
        "plot_acf(data['load']);"
      ],
      "execution_count": null,
      "outputs": [
        {
          "output_type": "display_data",
          "data": {
            "text/plain": [
              "<Figure size 864x432 with 0 Axes>"
            ]
          },
          "metadata": {
            "tags": []
          }
        },
        {
          "output_type": "display_data",
          "data": {
            "image/png": "[encoded data removed]",
            "text/plain": [
              "<Figure size 864x432 with 1 Axes>"
            ]
          },
          "metadata": {
            "tags": [],
            "needs_background": "light"
          }
        },
        {
          "output_type": "stream",
          "text": [
            "time: 2.1 s (started: 2021-01-14 20:39:53 +00:00)\n"
          ],
          "name": "stdout"
        }
      ]
    },
    {
      "cell_type": "markdown",
      "metadata": {
        "id": "Bw5Fo9Ix7wrg"
      },
      "source": [
        "Another important concept to consider is partial correlation function (`pacf`). It is a function that measures the incremental benefit of adding another lag. Let's use it on our data:"
      ]
    },
    {
      "cell_type": "code",
      "metadata": {
        "colab": {
          "base_uri": "https://localhost:8080/",
          "height": 409
        },
        "id": "Sb8Qj3Mk8ZQh",
        "outputId": "009bc4d2-5a25-459e-ade5-c7a4eca7d448"
      },
      "source": [
        "plot_pacf(data['load'], lags=30)\r\n",
        "mpl.rcParams['figure.figsize'] = [12.0, 6.0]"
      ],
      "execution_count": null,
      "outputs": [
        {
          "output_type": "display_data",
          "data": {
            "image/png": "[encoded data removed]",
            "text/plain": [
              "<Figure size 864x432 with 1 Axes>"
            ]
          },
          "metadata": {
            "tags": [],
            "needs_background": "light"
          }
        },
        {
          "output_type": "stream",
          "text": [
            "time: 374 ms (started: 2021-01-14 20:39:55 +00:00)\n"
          ],
          "name": "stdout"
        }
      ]
    },
    {
      "cell_type": "markdown",
      "metadata": {
        "id": "8LVhoDXn6XAe"
      },
      "source": [
        "Why do we need `acf` or `pacf`? We will use it to determine the\r\n",
        "order of autoregressive and moving average time series methods. "
      ]
    },
    {
      "cell_type": "markdown",
      "metadata": {
        "id": "cR1-uaz96k4v"
      },
      "source": [
        "### Implementing the Model\r\n",
        "If you examine the `acf` plot above, you will see that we have good positive correlation with the lags up to lag number 7 (until we hit the upper confidence threshold). However, if you check `pacf` plot,you would see that there is little benefit after the 4th lag (see multicollinearity problem for details). This will be the order of our autoregression model. In principle, the more lag variables you include in your model, the better the model will fit the data. Yet this will bring the risk of overfitting (memorizing the data). \r\n",
        "\r\n",
        "In this section, we will use an extended version of classic ARIMA. \r\n",
        "\r\n",
        "As a side note, ARIMA indicates three steps: \r\n",
        "+ autoregression (AR)\r\n",
        "+ integration (I)\r\n",
        "+ moving average (MA)\r\n",
        "\r\n",
        "In this exercise we will use SARIMAX: \r\n",
        "+ seasonal (S)\r\n",
        "+ autoregressive (AR)\r\n",
        "+ integrated (I)\r\n",
        "+ moving average (MA)\r\n",
        "+ with exogenous factors (X).\r\n",
        "\r\n",
        "This model is useful when you have to deal with time series that have seasonal cycles (which we suspect to have based on above analysis). The model postulates that the seasonal behavior itself can be thought of as an ARIMA\r\n",
        "process:\r\n",
        "\r\n",
        "https://www.statsmodels.org/stable/generated/statsmodels.tsa.statespace.sarimax.SARIMAX.html?highlight=sarimax#statsmodels.tsa.statespace.sarimax.SARIMAX"
      ]
    },
    {
      "cell_type": "code",
      "metadata": {
        "colab": {
          "base_uri": "https://localhost:8080/"
        },
        "id": "u1nNMTP5CKoz",
        "outputId": "96a17a5d-5f69-47d8-a84c-33f6841a559d"
      },
      "source": [
        "# Train-Test Split:\r\n",
        "# We will split the data as training and test. No need for validation here. \r\n",
        "train_start_dt = '2012-09-01'\r\n",
        "test_start_dt = '2014-11-01'\r\n",
        "test_end_dt = '2014-11-04'\r\n",
        "# trainin data: filtered copy\r\n",
        "train = data.copy()[(data.index >= train_start_dt)& (data.index < test_start_dt)][['load']]\r\n",
        "# test data: filtered copy\r\n",
        "test = data.copy()[(data.index >= test_start_dt) & (data.index < test_end_dt)][['load']]\r\n",
        "#lets see how it looks like:\r\n",
        "print('Train data shape: ', train.shape)\r\n",
        "print('Test data shape: ', test.shape)"
      ],
      "execution_count": null,
      "outputs": [
        {
          "output_type": "stream",
          "text": [
            "Train data shape:  (18984, 1)\n",
            "Test data shape:  (72, 1)\n",
            "time: 15 ms (started: 2021-01-14 20:39:56 +00:00)\n"
          ],
          "name": "stdout"
        }
      ]
    },
    {
      "cell_type": "code",
      "metadata": {
        "colab": {
          "base_uri": "https://localhost:8080/"
        },
        "id": "cj6371DNFwyF",
        "outputId": "1e860d0d-2153-460c-a4bd-bc85200982e0"
      },
      "source": [
        "#Rescaling the data [0,1]\r\n",
        "scaler = pp.MinMaxScaler()\r\n",
        "train['load'] = scaler.fit_transform(train)\r\n",
        "test['load'] = scaler.transform(test)"
      ],
      "execution_count": null,
      "outputs": [
        {
          "output_type": "stream",
          "text": [
            "time: 10.1 ms (started: 2021-01-14 20:39:56 +00:00)\n"
          ],
          "name": "stdout"
        }
      ]
    },
    {
      "cell_type": "code",
      "metadata": {
        "colab": {
          "base_uri": "https://localhost:8080/"
        },
        "id": "YfwZKd25G1mM",
        "outputId": "72ee1624-f993-4569-8673-1cbe0828cc98"
      },
      "source": [
        "#-----------------------------------------------------------\r\n",
        "#Hyperparameters\r\n",
        "#-----------------------------------------------------------\r\n",
        "horizon = 6\r\n",
        "#The (p,d,q) order of the model for the number of AR parameters, differences, and MA parameters. \r\n",
        "# d must be an integer indicating the integration order of the process, while p and q may either \r\n",
        "# be an integers indicating the AR and MA orders (so that all lags up to those orders are included)\r\n",
        "# or else iterables giving specific AR and / or MA lags to include. Default is an AR(1) model: (1,0,0).\r\n",
        "order = (3, 1, 6)\r\n",
        "#The (P,D,Q,s) order of the seasonal component of the model for:\r\n",
        "# the AR parameters,  differences, MA parameters, and periodicity.\r\n",
        "seasonal_order = (1, 1, 1, 24)"
      ],
      "execution_count": null,
      "outputs": [
        {
          "output_type": "stream",
          "text": [
            "time: 4.38 ms (started: 2021-01-14 20:39:56 +00:00)\n"
          ],
          "name": "stdout"
        }
      ]
    },
    {
      "cell_type": "code",
      "metadata": {
        "colab": {
          "base_uri": "https://localhost:8080/"
        },
        "id": "UHzWyj-SHBgB",
        "outputId": "357f22ca-6242-4582-8235-e1df416a63ac"
      },
      "source": [
        "#Model implementation\r\n",
        "#here endog is the observed time-series process y:\r\n",
        "model = SARIMAX(endog=train, order=order, seasonal_order=seasonal_order)"
      ],
      "execution_count": null,
      "outputs": [
        {
          "output_type": "stream",
          "text": [
            "time: 8.67 ms (started: 2021-01-14 20:39:56 +00:00)\n"
          ],
          "name": "stdout"
        },
        {
          "output_type": "stream",
          "text": [
            "/usr/local/lib/python3.6/dist-packages/statsmodels/tsa/base/tsa_model.py:165: ValueWarning: No frequency information was provided, so inferred frequency H will be used.\n",
            "  % freq, ValueWarning)\n"
          ],
          "name": "stderr"
        }
      ]
    },
    {
      "cell_type": "markdown",
      "metadata": {
        "id": "rlhSwjOpIUvb"
      },
      "source": [
        "We will now perform the walk forward validation:\r\n",
        "\r\n",
        "+ Step 1: at the beginning,  train the model on the train\r\n",
        "data set\r\n",
        "\r\n",
        "+ Step 2: make a prediction on the next time step. \r\n",
        "\r\n",
        "+ Step 3: the training set is  expanded to include the new known value, and the process is repeated. \r\n",
        "\r\n",
        "To keep the training set window fixed, every time we add\r\n",
        "a new observation to the training set, we remove the observation from the beginning of the set."
      ]
    },
    {
      "cell_type": "code",
      "metadata": {
        "colab": {
          "base_uri": "https://localhost:8080/",
          "height": 442
        },
        "id": "uO-lzEizI9Ti",
        "outputId": "8bfbab46-9512-4f96-e464-12a604337f79"
      },
      "source": [
        "#Copying the test DF:\r\n",
        "test_shifted = test.copy()\r\n",
        "#preparing the shifted test data:\r\n",
        "for t in range(1, horizon):\r\n",
        "  test_shifted['load+'+str(t)] = test_shifted['load'].shift(-t, freq='H')\r\n",
        "test_shifted = test_shifted.dropna()\r\n",
        "test_shifted"
      ],
      "execution_count": null,
      "outputs": [
        {
          "output_type": "execute_result",
          "data": {
            "text/html": [
              "<div>\n",
              "<style scoped>\n",
              "    .dataframe tbody tr th:only-of-type {\n",
              "        vertical-align: middle;\n",
              "    }\n",
              "\n",
              "    .dataframe tbody tr th {\n",
              "        vertical-align: top;\n",
              "    }\n",
              "\n",
              "    .dataframe thead th {\n",
              "        text-align: right;\n",
              "    }\n",
              "</style>\n",
              "<table border=\"1\" class=\"dataframe\">\n",
              "  <thead>\n",
              "    <tr style=\"text-align: right;\">\n",
              "      <th></th>\n",
              "      <th>load</th>\n",
              "      <th>load+1</th>\n",
              "      <th>load+2</th>\n",
              "      <th>load+3</th>\n",
              "      <th>load+4</th>\n",
              "      <th>load+5</th>\n",
              "    </tr>\n",
              "  </thead>\n",
              "  <tbody>\n",
              "    <tr>\n",
              "      <th>2014-11-01 00:00:00</th>\n",
              "      <td>0.223112</td>\n",
              "      <td>0.164869</td>\n",
              "      <td>0.140216</td>\n",
              "      <td>0.126656</td>\n",
              "      <td>0.124191</td>\n",
              "      <td>0.135593</td>\n",
              "    </tr>\n",
              "    <tr>\n",
              "      <th>2014-11-01 01:00:00</th>\n",
              "      <td>0.164869</td>\n",
              "      <td>0.140216</td>\n",
              "      <td>0.126656</td>\n",
              "      <td>0.124191</td>\n",
              "      <td>0.135593</td>\n",
              "      <td>0.166718</td>\n",
              "    </tr>\n",
              "    <tr>\n",
              "      <th>2014-11-01 02:00:00</th>\n",
              "      <td>0.140216</td>\n",
              "      <td>0.126656</td>\n",
              "      <td>0.124191</td>\n",
              "      <td>0.135593</td>\n",
              "      <td>0.166718</td>\n",
              "      <td>0.226502</td>\n",
              "    </tr>\n",
              "    <tr>\n",
              "      <th>2014-11-01 03:00:00</th>\n",
              "      <td>0.126656</td>\n",
              "      <td>0.124191</td>\n",
              "      <td>0.135593</td>\n",
              "      <td>0.166718</td>\n",
              "      <td>0.226502</td>\n",
              "      <td>0.305393</td>\n",
              "    </tr>\n",
              "    <tr>\n",
              "      <th>2014-11-01 04:00:00</th>\n",
              "      <td>0.124191</td>\n",
              "      <td>0.135593</td>\n",
              "      <td>0.166718</td>\n",
              "      <td>0.226502</td>\n",
              "      <td>0.305393</td>\n",
              "      <td>0.372881</td>\n",
              "    </tr>\n",
              "    <tr>\n",
              "      <th>...</th>\n",
              "      <td>...</td>\n",
              "      <td>...</td>\n",
              "      <td>...</td>\n",
              "      <td>...</td>\n",
              "      <td>...</td>\n",
              "      <td>...</td>\n",
              "    </tr>\n",
              "    <tr>\n",
              "      <th>2014-11-03 14:00:00</th>\n",
              "      <td>0.430817</td>\n",
              "      <td>0.427427</td>\n",
              "      <td>0.448382</td>\n",
              "      <td>0.502311</td>\n",
              "      <td>0.585824</td>\n",
              "      <td>0.575655</td>\n",
              "    </tr>\n",
              "    <tr>\n",
              "      <th>2014-11-03 15:00:00</th>\n",
              "      <td>0.427427</td>\n",
              "      <td>0.448382</td>\n",
              "      <td>0.502311</td>\n",
              "      <td>0.585824</td>\n",
              "      <td>0.575655</td>\n",
              "      <td>0.539599</td>\n",
              "    </tr>\n",
              "    <tr>\n",
              "      <th>2014-11-03 16:00:00</th>\n",
              "      <td>0.448382</td>\n",
              "      <td>0.502311</td>\n",
              "      <td>0.585824</td>\n",
              "      <td>0.575655</td>\n",
              "      <td>0.539599</td>\n",
              "      <td>0.490601</td>\n",
              "    </tr>\n",
              "    <tr>\n",
              "      <th>2014-11-03 17:00:00</th>\n",
              "      <td>0.502311</td>\n",
              "      <td>0.585824</td>\n",
              "      <td>0.575655</td>\n",
              "      <td>0.539599</td>\n",
              "      <td>0.490601</td>\n",
              "      <td>0.396302</td>\n",
              "    </tr>\n",
              "    <tr>\n",
              "      <th>2014-11-03 18:00:00</th>\n",
              "      <td>0.585824</td>\n",
              "      <td>0.575655</td>\n",
              "      <td>0.539599</td>\n",
              "      <td>0.490601</td>\n",
              "      <td>0.396302</td>\n",
              "      <td>0.302311</td>\n",
              "    </tr>\n",
              "  </tbody>\n",
              "</table>\n",
              "<p>67 rows × 6 columns</p>\n",
              "</div>"
            ],
            "text/plain": [
              "                         load    load+1    load+2    load+3    load+4    load+5\n",
              "2014-11-01 00:00:00  0.223112  0.164869  0.140216  0.126656  0.124191  0.135593\n",
              "2014-11-01 01:00:00  0.164869  0.140216  0.126656  0.124191  0.135593  0.166718\n",
              "2014-11-01 02:00:00  0.140216  0.126656  0.124191  0.135593  0.166718  0.226502\n",
              "2014-11-01 03:00:00  0.126656  0.124191  0.135593  0.166718  0.226502  0.305393\n",
              "2014-11-01 04:00:00  0.124191  0.135593  0.166718  0.226502  0.305393  0.372881\n",
              "...                       ...       ...       ...       ...       ...       ...\n",
              "2014-11-03 14:00:00  0.430817  0.427427  0.448382  0.502311  0.585824  0.575655\n",
              "2014-11-03 15:00:00  0.427427  0.448382  0.502311  0.585824  0.575655  0.539599\n",
              "2014-11-03 16:00:00  0.448382  0.502311  0.585824  0.575655  0.539599  0.490601\n",
              "2014-11-03 17:00:00  0.502311  0.585824  0.575655  0.539599  0.490601  0.396302\n",
              "2014-11-03 18:00:00  0.585824  0.575655  0.539599  0.490601  0.396302  0.302311\n",
              "\n",
              "[67 rows x 6 columns]"
            ]
          },
          "metadata": {
            "tags": []
          },
          "execution_count": 3340
        },
        {
          "output_type": "stream",
          "text": [
            "time: 54.6 ms (started: 2021-01-14 20:39:56 +00:00)\n"
          ],
          "name": "stdout"
        }
      ]
    },
    {
      "cell_type": "code",
      "metadata": {
        "colab": {
          "base_uri": "https://localhost:8080/"
        },
        "id": "mp_9FTMD0MD5",
        "outputId": "b3e2fecc-128c-4449-a567-0a807fa89cf5"
      },
      "source": [
        "#Warning update:\r\n",
        "#----------------\r\n",
        "#each optimization inside the profile likelihood generates a warning, \r\n",
        "#we turn off the warnings here to make the output clean in the below cell:\r\n",
        "import warnings\r\n",
        "from statsmodels.tools.sm_exceptions import ConvergenceWarning\r\n",
        "warnings.simplefilter('ignore', ConvergenceWarning)\r\n",
        "#You can check the source code from here:\r\n",
        "#https://www.statsmodels.org/0.8.0/_modules/statsmodels/base/model.html"
      ],
      "execution_count": null,
      "outputs": [
        {
          "output_type": "stream",
          "text": [
            "time: 2.78 ms (started: 2021-01-14 20:39:56 +00:00)\n"
          ],
          "name": "stdout"
        }
      ]
    },
    {
      "cell_type": "code",
      "metadata": {
        "colab": {
          "base_uri": "https://localhost:8080/"
        },
        "id": "pBBpAGGVJhmP",
        "outputId": "69b367f3-16eb-40ea-baef-142f8bafc281"
      },
      "source": [
        "# Predictions on test data:\r\n",
        "training_window = 720\r\n",
        "train_ts = train['load']\r\n",
        "test_ts = test_shifted\r\n",
        "#Creating the history\r\n",
        "history = [x for x in train_ts]\r\n",
        "#Filtering the training window: Uncomment the below line if you want.\r\n",
        "history = history[(-training_window):]\r\n",
        "#Creating predictions to store the model outcomes:\r\n",
        "predictions = list()\r\n",
        "#Calling model: \r\n",
        "#Horizon calculation list:\r\n",
        "for t in range(0,test_ts.shape[0],horizon):\r\n",
        "  model = SARIMAX(endog=history, order=order, seasonal_order=seasonal_order)\r\n",
        "  #Model fitting:\r\n",
        "  model_fit = model.fit()\r\n",
        "  #Model predictions:\r\n",
        "  y_p = model_fit.forecast(steps = horizon)\r\n",
        "  obs = list(test_ts.iloc[t])\r\n",
        "# moving the training window: here I add the prediction as in real life we would \r\n",
        "# not know the true value! Here we will also save the predictions.\r\n",
        "  for j in range(horizon):\r\n",
        "    predictions.append(y_p[j])\r\n",
        "    history.append(y_p[j])\r\n",
        "  #Dropping the first horizon elements:\r\n",
        "  for j in range(horizon):\r\n",
        "    history.pop(0)\r\n",
        "  print(test_ts.index[t])\r\n",
        "  print(t+1, ': predicted =', y_p, 'true value =', obs)"
      ],
      "execution_count": null,
      "outputs": [
        {
          "output_type": "stream",
          "text": [
            "2014-11-01 00:00:00\n",
            "1 : predicted = [0.20679222 0.16570788 0.13009962 0.10552657 0.10309502 0.12921983] true value = [0.22311248073959933, 0.16486902927580893, 0.1402157164869029, 0.12665639445300458, 0.12419106317411399, 0.13559322033898302]\n",
            "2014-11-01 06:00:00\n",
            "7 : predicted = [0.20607364 0.33809304 0.41051234 0.43043288 0.43972795 0.43925143] true value = [0.1667180277349769, 0.22650231124807396, 0.30539291217257314, 0.3728813559322034, 0.42434514637904464, 0.4489984591679508]\n",
            "2014-11-01 12:00:00\n",
            "13 : predicted = [0.43182839 0.41916002 0.41166113 0.3970407  0.39571562 0.41375236] true value = [0.4576271186440677, 0.4499229583975346, 0.44006163328197223, 0.4345146379044684, 0.43852080123266557, 0.4656394453004622]\n",
            "2014-11-01 18:00:00\n",
            "19 : predicted = [0.44998026 0.48286766 0.46033266 0.42190286 0.35225527 0.26454459] true value = [0.5044684129429893, 0.5109399075500771, 0.46995377503852076, 0.43050847457627106, 0.3679506933744222, 0.2933744221879815]\n",
            "2014-11-02 00:00:00\n",
            "25 : predicted = [0.18689364 0.1395745  0.11151238 0.0943561  0.09335369 0.11684279] true value = [0.19414483821263484, 0.18089368258859784, 0.14483821263482277, 0.13312788906009243, 0.13343605546995374, 0.1482280431432974]\n",
            "2014-11-02 06:00:00\n",
            "31 : predicted = [0.18800367 0.31362378 0.38704868 0.41300679 0.42738263 0.43166643] true value = [0.1852080123266564, 0.2542372881355932, 0.3389830508474576, 0.41941448382126345, 0.4628659476117103, 0.48228043143297383]\n",
            "2014-11-02 12:00:00\n",
            "37 : predicted = [0.42648919 0.41472277 0.40631732 0.39096539 0.38910663 0.4078529 ] true value = [0.4899845916795069, 0.47519260400616337, 0.4551617873651772, 0.438828967642527, 0.4449922958397534, 0.48536209553158693]\n",
            "2014-11-02 18:00:00\n",
            "43 : predicted = [0.44901761 0.48646636 0.46302382 0.42043562 0.34668352 0.25621468] true value = [0.5318952234206471, 0.5072419106317412, 0.45423728813559316, 0.4101694915254237, 0.3334360554699538, 0.25053929121725727]\n",
            "2014-11-03 00:00:00\n",
            "49 : predicted = [0.17835891 0.13033441 0.10344569 0.0877619  0.0872406  0.11082867] true value = [0.22989214175654848, 0.16086286594761168, 0.14422187981510015, 0.13682588597842837, 0.1432973805855161, 0.1799691833590138]\n",
            "2014-11-03 06:00:00\n",
            "55 : predicted = [0.18259262 0.31081557 0.38510185 0.40886337 0.42262059 0.42623929] true value = [0.273035439137134, 0.4073959938366718, 0.4530046224961479, 0.4579352850539291, 0.45824345146379053, 0.4576271186440677]\n",
            "2014-11-03 12:00:00\n",
            "61 : predicted = [0.42122768 0.41017516 0.40343463 0.3903847  0.38792188 0.40545723] true value = [0.45392912172573197, 0.4332819722650232, 0.4308166409861325, 0.42742681047765796, 0.44838212634822794, 0.50231124807396]\n",
            "2014-11-03 18:00:00\n",
            "67 : predicted = [0.4466932  0.48783969 0.46607565 0.42059478 0.3450527  0.25349765] true value = [0.5858243451463789, 0.5756548536209554, 0.5395993836671802, 0.49060092449922954, 0.3963020030816642, 0.3023112480739599]\n",
            "time: 16min 51s (started: 2021-01-14 20:39:56 +00:00)\n"
          ],
          "name": "stdout"
        }
      ]
    },
    {
      "cell_type": "code",
      "metadata": {
        "colab": {
          "base_uri": "https://localhost:8080/"
        },
        "id": "7NvsflkTKuk8",
        "outputId": "4abb1564-a446-4dbf-e1b6-46b35f001936"
      },
      "source": [
        "# Evaluation of results:\r\n",
        "# We will combine the predictions with the actual load values in a DF. \r\n",
        "eval_df = pd.DataFrame(predictions)\r\n",
        "eval_df.columns = ['prediction']\r\n",
        "#Updating the indices:\r\n",
        "eval_df=(eval_df.set_index(test.index)) #\r\n",
        "#Adding true values:\r\n",
        "eval_df['actual'] = test['load']\r\n",
        "#Lets check:\r\n",
        "eval_df.info()"
      ],
      "execution_count": null,
      "outputs": [
        {
          "output_type": "stream",
          "text": [
            "<class 'pandas.core.frame.DataFrame'>\n",
            "DatetimeIndex: 72 entries, 2014-11-01 00:00:00 to 2014-11-03 23:00:00\n",
            "Data columns (total 2 columns):\n",
            " #   Column      Non-Null Count  Dtype  \n",
            "---  ------      --------------  -----  \n",
            " 0   prediction  72 non-null     float64\n",
            " 1   actual      72 non-null     float64\n",
            "dtypes: float64(2)\n",
            "memory usage: 1.7 KB\n",
            "time: 33.1 ms (started: 2021-01-14 20:56:47 +00:00)\n"
          ],
          "name": "stdout"
        }
      ]
    },
    {
      "cell_type": "code",
      "metadata": {
        "colab": {
          "base_uri": "https://localhost:8080/"
        },
        "id": "tR8RH0g49xbU",
        "outputId": "4bb3122a-ee46-4274-9fe6-30c8485d866e"
      },
      "source": [
        "#Back-transforming:\r\n",
        "eval_df[['prediction', 'actual']] = scaler.inverse_transform(eval_df[['prediction', 'actual']])"
      ],
      "execution_count": null,
      "outputs": [
        {
          "output_type": "stream",
          "text": [
            "time: 10.3 ms (started: 2021-01-14 20:56:47 +00:00)\n"
          ],
          "name": "stdout"
        }
      ]
    },
    {
      "cell_type": "code",
      "metadata": {
        "id": "fMvtDN04m4M1",
        "colab": {
          "base_uri": "https://localhost:8080/",
          "height": 423
        },
        "outputId": "608a5473-cd87-4b09-c291-29e305a0565e"
      },
      "source": [
        "#Plotting predictions: \r\n",
        "plt.figure();\r\n",
        "plt.plot(eval_df['actual'], 'k.-');\r\n",
        "plt.plot(eval_df['prediction'], 'x', alpha=0.70);\r\n",
        "#plt.plot(np.arange(0, 69),eval_df['prediction'].iloc[69:138], 'o', alpha=0.70);\r\n",
        "#plt.plot(np.arange(0, 69),eval_df['prediction'].iloc[-69:], '+', alpha=0.70);\r\n",
        "plt.legend(['Actual',\r\n",
        "            ('Predicted with ' + str (horizon) + ' hr horizon')])\r\n",
        "plt.ylabel('Load');\r\n",
        "plt.xlabel('Time Index');\r\n",
        "plt.title('SARIMAX');\r\n"
      ],
      "execution_count": null,
      "outputs": [
        {
          "output_type": "display_data",
          "data": {
            "image/png": "[encoded data removed]",
            "text/plain": [
              "<Figure size 864x432 with 1 Axes>"
            ]
          },
          "metadata": {
            "tags": [],
            "needs_background": "light"
          }
        },
        {
          "output_type": "stream",
          "text": [
            "time: 279 ms (started: 2021-01-14 20:56:47 +00:00)\n"
          ],
          "name": "stdout"
        }
      ]
    },
    {
      "cell_type": "code",
      "metadata": {
        "id": "LzODQKuHMENx",
        "colab": {
          "base_uri": "https://localhost:8080/",
          "height": 506
        },
        "outputId": "fa387c05-9913-417d-ef0c-2dda0f3e1b9a"
      },
      "source": [
        "#Visual comparisons of the predictions:\r\n",
        "#---------------------------------------\r\n",
        "#Visualization of the accuracy\r\n",
        "a = plt.axes(aspect='equal')\r\n",
        "plt.scatter(eval_df['actual'], eval_df['prediction'],marker='*',alpha=0.80)\r\n",
        "#plt.scatter(eval_df['actual'].iloc[0:69], eval_df['prediction'].iloc[69:138],marker='o',alpha=0.60)\r\n",
        "#plt.scatter(eval_df['actual'].iloc[0:69], eval_df['prediction'].iloc[138:207],marker='+',alpha=0.50)\r\n",
        "plt.xlabel('True Load Values')\r\n",
        "plt.ylabel('Predicted Load Values')\r\n",
        "lims = [2000, 4500]\r\n",
        "plt.xlim(lims), plt.ylim(lims)\r\n",
        "plt.plot(lims, lims)"
      ],
      "execution_count": null,
      "outputs": [
        {
          "output_type": "stream",
          "text": [
            "/usr/local/lib/python3.6/dist-packages/IPython/core/displayhook.py:260: UserWarning: Output cache limit (currently 1000 entries) hit.\n",
            "Flushing oldest 200 entries.\n",
            "  'Flushing oldest {cull_count} entries.'.format(sz=sz, cull_count=cull_count))\n"
          ],
          "name": "stderr"
        },
        {
          "output_type": "execute_result",
          "data": {
            "text/plain": [
              "[<matplotlib.lines.Line2D at 0x7f5cec262eb8>]"
            ]
          },
          "metadata": {
            "tags": []
          },
          "execution_count": 3346
        },
        {
          "output_type": "display_data",
          "data": {
            "image/png": "[encoded data removed]",
            "text/plain": [
              "<Figure size 864x432 with 1 Axes>"
            ]
          },
          "metadata": {
            "tags": [],
            "needs_background": "light"
          }
        },
        {
          "output_type": "stream",
          "text": [
            "time: 220 ms (started: 2021-01-14 20:56:47 +00:00)\n"
          ],
          "name": "stdout"
        }
      ]
    },
    {
      "cell_type": "code",
      "metadata": {
        "id": "uqiNQiPMk9oL",
        "colab": {
          "base_uri": "https://localhost:8080/",
          "height": 425
        },
        "outputId": "e410bd2b-3261-49e3-e864-516ae167ae88"
      },
      "source": [
        "# Calculating the error variations:\r\n",
        "error_nn1 = (eval_df['prediction'] - eval_df['actual'])/eval_df['actual']*100\r\n",
        "\r\n",
        "plt.hist(error_nn1, bins=30,alpha=0.9)\r\n",
        "plt.xlabel('Predicted Relative % Error')\r\n",
        "plt.ylabel('Count')"
      ],
      "execution_count": null,
      "outputs": [
        {
          "output_type": "execute_result",
          "data": {
            "text/plain": [
              "Text(0, 0.5, 'Count')"
            ]
          },
          "metadata": {
            "tags": []
          },
          "execution_count": 3347
        },
        {
          "output_type": "display_data",
          "data": {
            "image/png": "[encoded data removed]",
            "text/plain": [
              "<Figure size 864x432 with 1 Axes>"
            ]
          },
          "metadata": {
            "tags": [],
            "needs_background": "light"
          }
        },
        {
          "output_type": "stream",
          "text": [
            "time: 282 ms (started: 2021-01-14 20:56:47 +00:00)\n"
          ],
          "name": "stdout"
        }
      ]
    },
    {
      "cell_type": "code",
      "metadata": {
        "colab": {
          "base_uri": "https://localhost:8080/"
        },
        "id": "ybGg5AFQ5mOD",
        "outputId": "2c5d9d6f-15c0-4224-8c0f-0d2d7e695333"
      },
      "source": [
        "#Calculating R^2: r2_score(y_true, y_pred)\r\n",
        "Score_sarimax = r2_score(eval_df['actual'],eval_df['prediction'])\r\n",
        "print('R^2 score is  %3.2f' %np.mean(Score_sarimax))"
      ],
      "execution_count": null,
      "outputs": [
        {
          "output_type": "stream",
          "text": [
            "R^2 score is  0.86\n",
            "time: 3.12 ms (started: 2021-01-14 20:56:48 +00:00)\n"
          ],
          "name": "stdout"
        }
      ]
    },
    {
      "cell_type": "markdown",
      "metadata": {
        "id": "3znw1epxG-CZ"
      },
      "source": [
        "# ML Algorithms for Forecasting: SVM"
      ]
    },
    {
      "cell_type": "markdown",
      "metadata": {
        "id": "xaApZSY0Awlt"
      },
      "source": [
        "## Organizing the Feature Matrix"
      ]
    },
    {
      "cell_type": "code",
      "metadata": {
        "id": "lOZblMjrAm3Z",
        "colab": {
          "base_uri": "https://localhost:8080/",
          "height": 162
        },
        "outputId": "96c81ec4-cc3d-4552-dcf4-8e1815460377"
      },
      "source": [
        "#Checking Data:\r\n",
        "data.sample(3)"
      ],
      "execution_count": null,
      "outputs": [
        {
          "output_type": "execute_result",
          "data": {
            "text/html": [
              "<div>\n",
              "<style scoped>\n",
              "    .dataframe tbody tr th:only-of-type {\n",
              "        vertical-align: middle;\n",
              "    }\n",
              "\n",
              "    .dataframe tbody tr th {\n",
              "        vertical-align: top;\n",
              "    }\n",
              "\n",
              "    .dataframe thead th {\n",
              "        text-align: right;\n",
              "    }\n",
              "</style>\n",
              "<table border=\"1\" class=\"dataframe\">\n",
              "  <thead>\n",
              "    <tr style=\"text-align: right;\">\n",
              "      <th></th>\n",
              "      <th>load</th>\n",
              "      <th>T</th>\n",
              "    </tr>\n",
              "  </thead>\n",
              "  <tbody>\n",
              "    <tr>\n",
              "      <th>2013-10-14 14:00:00</th>\n",
              "      <td>3425.0</td>\n",
              "      <td>57.67</td>\n",
              "    </tr>\n",
              "    <tr>\n",
              "      <th>2008-08-14 19:00:00</th>\n",
              "      <td>3983.0</td>\n",
              "      <td>73.33</td>\n",
              "    </tr>\n",
              "    <tr>\n",
              "      <th>2010-03-02 08:00:00</th>\n",
              "      <td>3529.0</td>\n",
              "      <td>33.00</td>\n",
              "    </tr>\n",
              "  </tbody>\n",
              "</table>\n",
              "</div>"
            ],
            "text/plain": [
              "                       load      T\n",
              "2013-10-14 14:00:00  3425.0  57.67\n",
              "2008-08-14 19:00:00  3983.0  73.33\n",
              "2010-03-02 08:00:00  3529.0  33.00"
            ]
          },
          "metadata": {
            "tags": []
          },
          "execution_count": 3349
        },
        {
          "output_type": "stream",
          "text": [
            "time: 26.2 ms (started: 2021-01-14 20:56:48 +00:00)\n"
          ],
          "name": "stdout"
        }
      ]
    },
    {
      "cell_type": "code",
      "metadata": {
        "id": "mAqLnJ4FCDIt",
        "colab": {
          "base_uri": "https://localhost:8080/"
        },
        "outputId": "8904eea4-b557-4927-8c6c-e8e4cf10a0f8"
      },
      "source": [
        "#Adding statistics features in dataframes:\r\n",
        "#------------------------------------------------\r\n",
        "#Lets use only the load data;\r\n",
        "load_data = data[['load']]\r\n",
        "#Defining the window width:\r\n",
        "width = 24\r\n",
        "#Calling Rolling:\r\n",
        "window = load_data.rolling(window=width)\r\n",
        "#Lets save as a new DF. We will add min, mean and max to the load column:\r\n",
        "new_dataframe = pd.concat([window.median(), window.std(),data['T'], data['load']], axis=1)\r\n",
        "new_dataframe.columns = ['median', 'std','T', 'load']\r\n",
        "new_dataframe = new_dataframe.dropna() \r\n",
        "new_dataframe.info()"
      ],
      "execution_count": null,
      "outputs": [
        {
          "output_type": "stream",
          "text": [
            "<class 'pandas.core.frame.DataFrame'>\n",
            "DatetimeIndex: 78865 entries, 2006-01-01 23:00:00 to 2014-12-31 23:00:00\n",
            "Data columns (total 4 columns):\n",
            " #   Column  Non-Null Count  Dtype  \n",
            "---  ------  --------------  -----  \n",
            " 0   median  78865 non-null  float64\n",
            " 1   std     78865 non-null  float64\n",
            " 2   T       78865 non-null  float64\n",
            " 3   load    78865 non-null  float64\n",
            "dtypes: float64(4)\n",
            "memory usage: 3.0 MB\n",
            "time: 79 ms (started: 2021-01-14 20:56:48 +00:00)\n"
          ],
          "name": "stdout"
        }
      ]
    },
    {
      "cell_type": "code",
      "metadata": {
        "id": "231KKWkSUUqx",
        "colab": {
          "base_uri": "https://localhost:8080/",
          "height": 99
        },
        "outputId": "d0843ee7-0c7c-4f92-f7c4-b89e152eea94"
      },
      "source": [
        "new_dataframe.head(1)"
      ],
      "execution_count": null,
      "outputs": [
        {
          "output_type": "execute_result",
          "data": {
            "text/html": [
              "<div>\n",
              "<style scoped>\n",
              "    .dataframe tbody tr th:only-of-type {\n",
              "        vertical-align: middle;\n",
              "    }\n",
              "\n",
              "    .dataframe tbody tr th {\n",
              "        vertical-align: top;\n",
              "    }\n",
              "\n",
              "    .dataframe thead th {\n",
              "        text-align: right;\n",
              "    }\n",
              "</style>\n",
              "<table border=\"1\" class=\"dataframe\">\n",
              "  <thead>\n",
              "    <tr style=\"text-align: right;\">\n",
              "      <th></th>\n",
              "      <th>median</th>\n",
              "      <th>std</th>\n",
              "      <th>T</th>\n",
              "      <th>load</th>\n",
              "    </tr>\n",
              "  </thead>\n",
              "  <tbody>\n",
              "    <tr>\n",
              "      <th>2006-01-01 23:00:00</th>\n",
              "      <td>3512.0</td>\n",
              "      <td>471.067697</td>\n",
              "      <td>24.33</td>\n",
              "      <td>3255.0</td>\n",
              "    </tr>\n",
              "  </tbody>\n",
              "</table>\n",
              "</div>"
            ],
            "text/plain": [
              "                     median         std      T    load\n",
              "2006-01-01 23:00:00  3512.0  471.067697  24.33  3255.0"
            ]
          },
          "metadata": {
            "tags": []
          },
          "execution_count": 3351
        },
        {
          "output_type": "stream",
          "text": [
            "time: 17.1 ms (started: 2021-01-14 20:56:48 +00:00)\n"
          ],
          "name": "stdout"
        }
      ]
    },
    {
      "cell_type": "markdown",
      "metadata": {
        "id": "hqTUNuPrGbRU"
      },
      "source": [
        "## Building the X Matrix and Labels\r\n",
        "\r\n",
        "Here we will add the temporal data with sliding intervals in time. Lets first look with an illustration:"
      ]
    },
    {
      "cell_type": "code",
      "metadata": {
        "id": "Rd1KueOfGa52",
        "colab": {
          "base_uri": "https://localhost:8080/",
          "height": 393
        },
        "outputId": "7428795c-e5d1-496a-cebd-5ecf1e82c362"
      },
      "source": [
        "#finding the indices as integers for time substraction below:\r\n",
        "start = np.where(new_dataframe.index == '2014-03-01 00:00:00')[0][0]\r\n",
        "middle = np.where(new_dataframe.index == '2014-03-01 12:00:00')[0][0]\r\n",
        "end = np.where(new_dataframe.index == '2014-03-02 00:00:00')[0][0]\r\n",
        "#sliding window width:\r\n",
        "window = 4\r\n",
        "#Plotting a sliding interval sample:\r\n",
        "fig, ax = plt.subplots(nrows=4,sharex=True);\r\n",
        "for i in range(4): \r\n",
        "    full = new_dataframe.iloc[start:end]['load']\r\n",
        "    train = new_dataframe.iloc[middle - i - window:middle - i ]['load']\r\n",
        "    predict = new_dataframe.iloc[middle - i:middle - i + 1]['load']\r\n",
        "\r\n",
        "    ax[3-i].plot((full + 2*i),c='grey', alpha=0.5);\r\n",
        "    ax[3-i].plot((train + 2*i),c=colors['lightskyblue'], markersize=4,marker='o')\r\n",
        "    ax[3-i].plot((predict + 2*i),c=colors['midnightblue'], markersize=8,marker='o', linestyle='')\r\n",
        "\r\n",
        "ax[0].get_yaxis().set_ticks([]);\r\n",
        "ax[0].legend(['full time series','$\\mathbf{X}$','$y$'],bbox_to_anchor=(1, 1));\r\n"
      ],
      "execution_count": null,
      "outputs": [
        {
          "output_type": "display_data",
          "data": {
            "image/png": "[encoded data removed]",
            "text/plain": [
              "<Figure size 864x432 with 4 Axes>"
            ]
          },
          "metadata": {
            "tags": [],
            "needs_background": "light"
          }
        },
        {
          "output_type": "stream",
          "text": [
            "time: 836 ms (started: 2021-01-14 20:56:48 +00:00)\n"
          ],
          "name": "stdout"
        }
      ]
    },
    {
      "cell_type": "markdown",
      "metadata": {
        "id": "yfQBOa4CPJq_"
      },
      "source": [
        "Lets follow the same logic and create our feature matrix A in this way."
      ]
    },
    {
      "cell_type": "code",
      "metadata": {
        "id": "R4_yJO5jQEn6",
        "colab": {
          "base_uri": "https://localhost:8080/"
        },
        "outputId": "2e9571e7-5088-4b59-f4d7-3c339684b7e2"
      },
      "source": [
        "#finding the indices as integers for time substraction below:\r\n",
        "start = np.where(new_dataframe.index == '2012-09-01 00:00:00')[0][0]\r\n",
        "end = np.where(new_dataframe.index == '2014-11-04 00:00:00')[0][0]\r\n",
        "#setting windows width:\r\n",
        "window = 48\r\n",
        "#emply datalist\r\n",
        "dataX = []\r\n",
        "dataY = []\r\n",
        "column_names = []\r\n",
        "for i in range(start,end-window):\r\n",
        "\r\n",
        "    # Slice a window of features\r\n",
        "    dataX.append((new_dataframe.iloc[i:i+window].to_numpy()).ravel())\r\n",
        "    dataY.append(new_dataframe['load'].iloc[i+window] )\r\n",
        "\r\n",
        "for j in range (1,window+1):\r\n",
        "      column_names.append(['median_t_'+str(j),'std_t_'+str(j),'T_t_'+str(j),'load_t_'+str(j)])\r\n",
        "\r\n",
        "column_names = itertools.chain(*column_names)\r\n",
        "dataX = pd.DataFrame(np.vstack(dataX),index=new_dataframe.iloc[start+window:end].index)\r\n",
        "dataX.columns = column_names\r\n",
        "dataY =pd.Series(dataY,index=new_dataframe.iloc[start+window:end].index)\r\n",
        "dataY.column = ['true_load']"
      ],
      "execution_count": null,
      "outputs": [
        {
          "output_type": "stream",
          "text": [
            "time: 2.39 s (started: 2021-01-14 20:56:49 +00:00)\n"
          ],
          "name": "stdout"
        }
      ]
    },
    {
      "cell_type": "code",
      "metadata": {
        "id": "5D0XvtAriCm7",
        "colab": {
          "base_uri": "https://localhost:8080/",
          "height": 256
        },
        "outputId": "cd5338b2-e243-4a15-bff6-dc7a0339ca27"
      },
      "source": [
        "#Original DF:\r\n",
        "new_dataframe.loc['2012-09-01 00:00:00':'2012-09-04 00:00:00'].head(6)"
      ],
      "execution_count": null,
      "outputs": [
        {
          "output_type": "execute_result",
          "data": {
            "text/html": [
              "<div>\n",
              "<style scoped>\n",
              "    .dataframe tbody tr th:only-of-type {\n",
              "        vertical-align: middle;\n",
              "    }\n",
              "\n",
              "    .dataframe tbody tr th {\n",
              "        vertical-align: top;\n",
              "    }\n",
              "\n",
              "    .dataframe thead th {\n",
              "        text-align: right;\n",
              "    }\n",
              "</style>\n",
              "<table border=\"1\" class=\"dataframe\">\n",
              "  <thead>\n",
              "    <tr style=\"text-align: right;\">\n",
              "      <th></th>\n",
              "      <th>median</th>\n",
              "      <th>std</th>\n",
              "      <th>T</th>\n",
              "      <th>load</th>\n",
              "    </tr>\n",
              "  </thead>\n",
              "  <tbody>\n",
              "    <tr>\n",
              "      <th>2012-09-01 00:00:00</th>\n",
              "      <td>3750.5</td>\n",
              "      <td>593.535976</td>\n",
              "      <td>59.33</td>\n",
              "      <td>2719.0</td>\n",
              "    </tr>\n",
              "    <tr>\n",
              "      <th>2012-09-01 01:00:00</th>\n",
              "      <td>3750.5</td>\n",
              "      <td>588.651369</td>\n",
              "      <td>69.67</td>\n",
              "      <td>2817.0</td>\n",
              "    </tr>\n",
              "    <tr>\n",
              "      <th>2012-09-01 02:00:00</th>\n",
              "      <td>3750.5</td>\n",
              "      <td>584.145753</td>\n",
              "      <td>67.33</td>\n",
              "      <td>2664.0</td>\n",
              "    </tr>\n",
              "    <tr>\n",
              "      <th>2012-09-01 03:00:00</th>\n",
              "      <td>3750.5</td>\n",
              "      <td>580.500794</td>\n",
              "      <td>69.33</td>\n",
              "      <td>2580.0</td>\n",
              "    </tr>\n",
              "    <tr>\n",
              "      <th>2012-09-01 04:00:00</th>\n",
              "      <td>3750.5</td>\n",
              "      <td>577.913412</td>\n",
              "      <td>67.67</td>\n",
              "      <td>2537.0</td>\n",
              "    </tr>\n",
              "    <tr>\n",
              "      <th>2012-09-01 05:00:00</th>\n",
              "      <td>3750.5</td>\n",
              "      <td>581.252095</td>\n",
              "      <td>65.00</td>\n",
              "      <td>2525.0</td>\n",
              "    </tr>\n",
              "  </tbody>\n",
              "</table>\n",
              "</div>"
            ],
            "text/plain": [
              "                     median         std      T    load\n",
              "2012-09-01 00:00:00  3750.5  593.535976  59.33  2719.0\n",
              "2012-09-01 01:00:00  3750.5  588.651369  69.67  2817.0\n",
              "2012-09-01 02:00:00  3750.5  584.145753  67.33  2664.0\n",
              "2012-09-01 03:00:00  3750.5  580.500794  69.33  2580.0\n",
              "2012-09-01 04:00:00  3750.5  577.913412  67.67  2537.0\n",
              "2012-09-01 05:00:00  3750.5  581.252095  65.00  2525.0"
            ]
          },
          "metadata": {
            "tags": []
          },
          "execution_count": 3354
        },
        {
          "output_type": "stream",
          "text": [
            "time: 25.3 ms (started: 2021-01-14 20:56:51 +00:00)\n"
          ],
          "name": "stdout"
        }
      ]
    },
    {
      "cell_type": "code",
      "metadata": {
        "id": "-29jygVriUO-",
        "colab": {
          "base_uri": "https://localhost:8080/",
          "height": 215
        },
        "outputId": "b9c03829-c8c0-4e5a-d38e-a16f9fa49d58"
      },
      "source": [
        "dataX.head(2)"
      ],
      "execution_count": null,
      "outputs": [
        {
          "output_type": "execute_result",
          "data": {
            "text/html": [
              "<div>\n",
              "<style scoped>\n",
              "    .dataframe tbody tr th:only-of-type {\n",
              "        vertical-align: middle;\n",
              "    }\n",
              "\n",
              "    .dataframe tbody tr th {\n",
              "        vertical-align: top;\n",
              "    }\n",
              "\n",
              "    .dataframe thead th {\n",
              "        text-align: right;\n",
              "    }\n",
              "</style>\n",
              "<table border=\"1\" class=\"dataframe\">\n",
              "  <thead>\n",
              "    <tr style=\"text-align: right;\">\n",
              "      <th></th>\n",
              "      <th>median_t_1</th>\n",
              "      <th>std_t_1</th>\n",
              "      <th>T_t_1</th>\n",
              "      <th>load_t_1</th>\n",
              "      <th>median_t_2</th>\n",
              "      <th>std_t_2</th>\n",
              "      <th>T_t_2</th>\n",
              "      <th>load_t_2</th>\n",
              "      <th>median_t_3</th>\n",
              "      <th>std_t_3</th>\n",
              "      <th>T_t_3</th>\n",
              "      <th>load_t_3</th>\n",
              "      <th>median_t_4</th>\n",
              "      <th>std_t_4</th>\n",
              "      <th>T_t_4</th>\n",
              "      <th>load_t_4</th>\n",
              "      <th>median_t_5</th>\n",
              "      <th>std_t_5</th>\n",
              "      <th>T_t_5</th>\n",
              "      <th>load_t_5</th>\n",
              "      <th>median_t_6</th>\n",
              "      <th>std_t_6</th>\n",
              "      <th>T_t_6</th>\n",
              "      <th>load_t_6</th>\n",
              "      <th>median_t_7</th>\n",
              "      <th>std_t_7</th>\n",
              "      <th>T_t_7</th>\n",
              "      <th>load_t_7</th>\n",
              "      <th>median_t_8</th>\n",
              "      <th>std_t_8</th>\n",
              "      <th>T_t_8</th>\n",
              "      <th>load_t_8</th>\n",
              "      <th>median_t_9</th>\n",
              "      <th>std_t_9</th>\n",
              "      <th>T_t_9</th>\n",
              "      <th>load_t_9</th>\n",
              "      <th>median_t_10</th>\n",
              "      <th>std_t_10</th>\n",
              "      <th>T_t_10</th>\n",
              "      <th>load_t_10</th>\n",
              "      <th>...</th>\n",
              "      <th>median_t_39</th>\n",
              "      <th>std_t_39</th>\n",
              "      <th>T_t_39</th>\n",
              "      <th>load_t_39</th>\n",
              "      <th>median_t_40</th>\n",
              "      <th>std_t_40</th>\n",
              "      <th>T_t_40</th>\n",
              "      <th>load_t_40</th>\n",
              "      <th>median_t_41</th>\n",
              "      <th>std_t_41</th>\n",
              "      <th>T_t_41</th>\n",
              "      <th>load_t_41</th>\n",
              "      <th>median_t_42</th>\n",
              "      <th>std_t_42</th>\n",
              "      <th>T_t_42</th>\n",
              "      <th>load_t_42</th>\n",
              "      <th>median_t_43</th>\n",
              "      <th>std_t_43</th>\n",
              "      <th>T_t_43</th>\n",
              "      <th>load_t_43</th>\n",
              "      <th>median_t_44</th>\n",
              "      <th>std_t_44</th>\n",
              "      <th>T_t_44</th>\n",
              "      <th>load_t_44</th>\n",
              "      <th>median_t_45</th>\n",
              "      <th>std_t_45</th>\n",
              "      <th>T_t_45</th>\n",
              "      <th>load_t_45</th>\n",
              "      <th>median_t_46</th>\n",
              "      <th>std_t_46</th>\n",
              "      <th>T_t_46</th>\n",
              "      <th>load_t_46</th>\n",
              "      <th>median_t_47</th>\n",
              "      <th>std_t_47</th>\n",
              "      <th>T_t_47</th>\n",
              "      <th>load_t_47</th>\n",
              "      <th>median_t_48</th>\n",
              "      <th>std_t_48</th>\n",
              "      <th>T_t_48</th>\n",
              "      <th>load_t_48</th>\n",
              "    </tr>\n",
              "  </thead>\n",
              "  <tbody>\n",
              "    <tr>\n",
              "      <th>2012-09-03 00:00:00</th>\n",
              "      <td>3750.5</td>\n",
              "      <td>593.535976</td>\n",
              "      <td>59.33</td>\n",
              "      <td>2719.0</td>\n",
              "      <td>3750.5</td>\n",
              "      <td>588.651369</td>\n",
              "      <td>69.67</td>\n",
              "      <td>2817.0</td>\n",
              "      <td>3750.5</td>\n",
              "      <td>584.145753</td>\n",
              "      <td>67.33</td>\n",
              "      <td>2664.0</td>\n",
              "      <td>3750.5</td>\n",
              "      <td>580.500794</td>\n",
              "      <td>69.33</td>\n",
              "      <td>2580.0</td>\n",
              "      <td>3750.5</td>\n",
              "      <td>577.913412</td>\n",
              "      <td>67.67</td>\n",
              "      <td>2537.0</td>\n",
              "      <td>3750.5</td>\n",
              "      <td>581.252095</td>\n",
              "      <td>65.0</td>\n",
              "      <td>2525.0</td>\n",
              "      <td>3750.5</td>\n",
              "      <td>593.236955</td>\n",
              "      <td>64.0</td>\n",
              "      <td>2595.0</td>\n",
              "      <td>3750.5</td>\n",
              "      <td>609.822420</td>\n",
              "      <td>63.0</td>\n",
              "      <td>2699.0</td>\n",
              "      <td>3750.5</td>\n",
              "      <td>618.163794</td>\n",
              "      <td>63.00</td>\n",
              "      <td>2953.0</td>\n",
              "      <td>3750.5</td>\n",
              "      <td>617.881578</td>\n",
              "      <td>66.33</td>\n",
              "      <td>3238.0</td>\n",
              "      <td>...</td>\n",
              "      <td>3187.0</td>\n",
              "      <td>469.920944</td>\n",
              "      <td>70.0</td>\n",
              "      <td>3246.0</td>\n",
              "      <td>3180.0</td>\n",
              "      <td>459.830496</td>\n",
              "      <td>71.0</td>\n",
              "      <td>3215.0</td>\n",
              "      <td>3175.5</td>\n",
              "      <td>449.490017</td>\n",
              "      <td>72.0</td>\n",
              "      <td>3206.0</td>\n",
              "      <td>3175.5</td>\n",
              "      <td>438.563928</td>\n",
              "      <td>73.0</td>\n",
              "      <td>3241.0</td>\n",
              "      <td>3175.5</td>\n",
              "      <td>428.455312</td>\n",
              "      <td>72.0</td>\n",
              "      <td>3291.0</td>\n",
              "      <td>3175.5</td>\n",
              "      <td>420.724427</td>\n",
              "      <td>70.00</td>\n",
              "      <td>3282.0</td>\n",
              "      <td>3175.5</td>\n",
              "      <td>413.409016</td>\n",
              "      <td>67.33</td>\n",
              "      <td>3311.0</td>\n",
              "      <td>3175.5</td>\n",
              "      <td>405.249179</td>\n",
              "      <td>64.67</td>\n",
              "      <td>3270.0</td>\n",
              "      <td>3107.5</td>\n",
              "      <td>400.451258</td>\n",
              "      <td>62.0</td>\n",
              "      <td>3070.0</td>\n",
              "      <td>3107.5</td>\n",
              "      <td>400.479656</td>\n",
              "      <td>60.00</td>\n",
              "      <td>2825.0</td>\n",
              "    </tr>\n",
              "    <tr>\n",
              "      <th>2012-09-03 01:00:00</th>\n",
              "      <td>3750.5</td>\n",
              "      <td>588.651369</td>\n",
              "      <td>69.67</td>\n",
              "      <td>2817.0</td>\n",
              "      <td>3750.5</td>\n",
              "      <td>584.145753</td>\n",
              "      <td>67.33</td>\n",
              "      <td>2664.0</td>\n",
              "      <td>3750.5</td>\n",
              "      <td>580.500794</td>\n",
              "      <td>69.33</td>\n",
              "      <td>2580.0</td>\n",
              "      <td>3750.5</td>\n",
              "      <td>577.913412</td>\n",
              "      <td>67.67</td>\n",
              "      <td>2537.0</td>\n",
              "      <td>3750.5</td>\n",
              "      <td>581.252095</td>\n",
              "      <td>65.00</td>\n",
              "      <td>2525.0</td>\n",
              "      <td>3750.5</td>\n",
              "      <td>593.236955</td>\n",
              "      <td>64.0</td>\n",
              "      <td>2595.0</td>\n",
              "      <td>3750.5</td>\n",
              "      <td>609.822420</td>\n",
              "      <td>63.0</td>\n",
              "      <td>2699.0</td>\n",
              "      <td>3750.5</td>\n",
              "      <td>618.163794</td>\n",
              "      <td>63.0</td>\n",
              "      <td>2953.0</td>\n",
              "      <td>3750.5</td>\n",
              "      <td>617.881578</td>\n",
              "      <td>66.33</td>\n",
              "      <td>3238.0</td>\n",
              "      <td>3559.0</td>\n",
              "      <td>612.212262</td>\n",
              "      <td>68.67</td>\n",
              "      <td>3424.0</td>\n",
              "      <td>...</td>\n",
              "      <td>3180.0</td>\n",
              "      <td>459.830496</td>\n",
              "      <td>71.0</td>\n",
              "      <td>3215.0</td>\n",
              "      <td>3175.5</td>\n",
              "      <td>449.490017</td>\n",
              "      <td>72.0</td>\n",
              "      <td>3206.0</td>\n",
              "      <td>3175.5</td>\n",
              "      <td>438.563928</td>\n",
              "      <td>73.0</td>\n",
              "      <td>3241.0</td>\n",
              "      <td>3175.5</td>\n",
              "      <td>428.455312</td>\n",
              "      <td>72.0</td>\n",
              "      <td>3291.0</td>\n",
              "      <td>3175.5</td>\n",
              "      <td>420.724427</td>\n",
              "      <td>70.0</td>\n",
              "      <td>3282.0</td>\n",
              "      <td>3175.5</td>\n",
              "      <td>413.409016</td>\n",
              "      <td>67.33</td>\n",
              "      <td>3311.0</td>\n",
              "      <td>3175.5</td>\n",
              "      <td>405.249179</td>\n",
              "      <td>64.67</td>\n",
              "      <td>3270.0</td>\n",
              "      <td>3107.5</td>\n",
              "      <td>400.451258</td>\n",
              "      <td>62.00</td>\n",
              "      <td>3070.0</td>\n",
              "      <td>3107.5</td>\n",
              "      <td>400.479656</td>\n",
              "      <td>60.0</td>\n",
              "      <td>2825.0</td>\n",
              "      <td>3107.5</td>\n",
              "      <td>398.969315</td>\n",
              "      <td>64.67</td>\n",
              "      <td>2630.0</td>\n",
              "    </tr>\n",
              "  </tbody>\n",
              "</table>\n",
              "<p>2 rows × 192 columns</p>\n",
              "</div>"
            ],
            "text/plain": [
              "                     median_t_1     std_t_1  ...  T_t_48  load_t_48\n",
              "2012-09-03 00:00:00      3750.5  593.535976  ...   60.00     2825.0\n",
              "2012-09-03 01:00:00      3750.5  588.651369  ...   64.67     2630.0\n",
              "\n",
              "[2 rows x 192 columns]"
            ]
          },
          "metadata": {
            "tags": []
          },
          "execution_count": 3355
        },
        {
          "output_type": "stream",
          "text": [
            "time: 155 ms (started: 2021-01-14 20:56:51 +00:00)\n"
          ],
          "name": "stdout"
        }
      ]
    },
    {
      "cell_type": "code",
      "metadata": {
        "id": "jSfEBmI-jJz3",
        "colab": {
          "base_uri": "https://localhost:8080/"
        },
        "outputId": "d2b425f2-64f0-4489-c63a-ad5b032c27b5"
      },
      "source": [
        "dataY.head(2)"
      ],
      "execution_count": null,
      "outputs": [
        {
          "output_type": "execute_result",
          "data": {
            "text/plain": [
              "2012-09-03 00:00:00    2630.0\n",
              "2012-09-03 01:00:00    2403.0\n",
              "dtype: float64"
            ]
          },
          "metadata": {
            "tags": []
          },
          "execution_count": 3356
        },
        {
          "output_type": "stream",
          "text": [
            "time: 6.24 ms (started: 2021-01-14 20:56:51 +00:00)\n"
          ],
          "name": "stdout"
        }
      ]
    },
    {
      "cell_type": "code",
      "metadata": {
        "id": "v2ql4QbypFl-",
        "colab": {
          "base_uri": "https://localhost:8080/"
        },
        "outputId": "26abf14a-2799-4939-f5b7-a8b5b9c894cb"
      },
      "source": [
        "#Correlation Matrix\r\n",
        "#correlationMatrix = pd.DataFrame(dataX).corr() \r\n",
        "\r\n",
        "#f = plt.figure(figsize=(12, 6))\r\n",
        "#plt.matshow(correlationMatrix, fignum=f.number)\r\n",
        "#plt.xticks(range(dataX.shape[1]), dataX.columns, fontsize=14, rotation=75)\r\n",
        "#plt.yticks(range(dataX.shape[1]), dataX.columns, fontsize=14)\r\n",
        "#cb = plt.colorbar()\r\n",
        "#cb.ax.tick_params(labelsize=14)\r\n",
        "#plt.show()"
      ],
      "execution_count": null,
      "outputs": [
        {
          "output_type": "stream",
          "text": [
            "time: 2.18 ms (started: 2021-01-14 20:56:51 +00:00)\n"
          ],
          "name": "stdout"
        }
      ]
    },
    {
      "cell_type": "code",
      "metadata": {
        "id": "dyMZoulHRwOB",
        "colab": {
          "base_uri": "https://localhost:8080/",
          "height": 368
        },
        "outputId": "977a602c-21fe-4f1c-804b-f8b573ddf989"
      },
      "source": [
        "#Rescaling the data\r\n",
        "featuresToScale = dataX.columns\r\n",
        "sX = pp.StandardScaler(copy=True)\r\n",
        "dataX.loc[:,featuresToScale] = sX.fit_transform(dataX[featuresToScale])\r\n",
        "#Looking into the statistics again:\r\n",
        "dataX.describe()"
      ],
      "execution_count": null,
      "outputs": [
        {
          "output_type": "execute_result",
          "data": {
            "text/html": [
              "<div>\n",
              "<style scoped>\n",
              "    .dataframe tbody tr th:only-of-type {\n",
              "        vertical-align: middle;\n",
              "    }\n",
              "\n",
              "    .dataframe tbody tr th {\n",
              "        vertical-align: top;\n",
              "    }\n",
              "\n",
              "    .dataframe thead th {\n",
              "        text-align: right;\n",
              "    }\n",
              "</style>\n",
              "<table border=\"1\" class=\"dataframe\">\n",
              "  <thead>\n",
              "    <tr style=\"text-align: right;\">\n",
              "      <th></th>\n",
              "      <th>median_t_1</th>\n",
              "      <th>std_t_1</th>\n",
              "      <th>T_t_1</th>\n",
              "      <th>load_t_1</th>\n",
              "      <th>median_t_2</th>\n",
              "      <th>std_t_2</th>\n",
              "      <th>T_t_2</th>\n",
              "      <th>load_t_2</th>\n",
              "      <th>median_t_3</th>\n",
              "      <th>std_t_3</th>\n",
              "      <th>T_t_3</th>\n",
              "      <th>load_t_3</th>\n",
              "      <th>median_t_4</th>\n",
              "      <th>std_t_4</th>\n",
              "      <th>T_t_4</th>\n",
              "      <th>load_t_4</th>\n",
              "      <th>median_t_5</th>\n",
              "      <th>std_t_5</th>\n",
              "      <th>T_t_5</th>\n",
              "      <th>load_t_5</th>\n",
              "      <th>median_t_6</th>\n",
              "      <th>std_t_6</th>\n",
              "      <th>T_t_6</th>\n",
              "      <th>load_t_6</th>\n",
              "      <th>median_t_7</th>\n",
              "      <th>std_t_7</th>\n",
              "      <th>T_t_7</th>\n",
              "      <th>load_t_7</th>\n",
              "      <th>median_t_8</th>\n",
              "      <th>std_t_8</th>\n",
              "      <th>T_t_8</th>\n",
              "      <th>load_t_8</th>\n",
              "      <th>median_t_9</th>\n",
              "      <th>std_t_9</th>\n",
              "      <th>T_t_9</th>\n",
              "      <th>load_t_9</th>\n",
              "      <th>median_t_10</th>\n",
              "      <th>std_t_10</th>\n",
              "      <th>T_t_10</th>\n",
              "      <th>load_t_10</th>\n",
              "      <th>...</th>\n",
              "      <th>median_t_39</th>\n",
              "      <th>std_t_39</th>\n",
              "      <th>T_t_39</th>\n",
              "      <th>load_t_39</th>\n",
              "      <th>median_t_40</th>\n",
              "      <th>std_t_40</th>\n",
              "      <th>T_t_40</th>\n",
              "      <th>load_t_40</th>\n",
              "      <th>median_t_41</th>\n",
              "      <th>std_t_41</th>\n",
              "      <th>T_t_41</th>\n",
              "      <th>load_t_41</th>\n",
              "      <th>median_t_42</th>\n",
              "      <th>std_t_42</th>\n",
              "      <th>T_t_42</th>\n",
              "      <th>load_t_42</th>\n",
              "      <th>median_t_43</th>\n",
              "      <th>std_t_43</th>\n",
              "      <th>T_t_43</th>\n",
              "      <th>load_t_43</th>\n",
              "      <th>median_t_44</th>\n",
              "      <th>std_t_44</th>\n",
              "      <th>T_t_44</th>\n",
              "      <th>load_t_44</th>\n",
              "      <th>median_t_45</th>\n",
              "      <th>std_t_45</th>\n",
              "      <th>T_t_45</th>\n",
              "      <th>load_t_45</th>\n",
              "      <th>median_t_46</th>\n",
              "      <th>std_t_46</th>\n",
              "      <th>T_t_46</th>\n",
              "      <th>load_t_46</th>\n",
              "      <th>median_t_47</th>\n",
              "      <th>std_t_47</th>\n",
              "      <th>T_t_47</th>\n",
              "      <th>load_t_47</th>\n",
              "      <th>median_t_48</th>\n",
              "      <th>std_t_48</th>\n",
              "      <th>T_t_48</th>\n",
              "      <th>load_t_48</th>\n",
              "    </tr>\n",
              "  </thead>\n",
              "  <tbody>\n",
              "    <tr>\n",
              "      <th>count</th>\n",
              "      <td>1.900800e+04</td>\n",
              "      <td>1.900800e+04</td>\n",
              "      <td>1.900800e+04</td>\n",
              "      <td>1.900800e+04</td>\n",
              "      <td>1.900800e+04</td>\n",
              "      <td>1.900800e+04</td>\n",
              "      <td>1.900800e+04</td>\n",
              "      <td>1.900800e+04</td>\n",
              "      <td>1.900800e+04</td>\n",
              "      <td>1.900800e+04</td>\n",
              "      <td>1.900800e+04</td>\n",
              "      <td>1.900800e+04</td>\n",
              "      <td>1.900800e+04</td>\n",
              "      <td>1.900800e+04</td>\n",
              "      <td>1.900800e+04</td>\n",
              "      <td>1.900800e+04</td>\n",
              "      <td>1.900800e+04</td>\n",
              "      <td>1.900800e+04</td>\n",
              "      <td>1.900800e+04</td>\n",
              "      <td>1.900800e+04</td>\n",
              "      <td>1.900800e+04</td>\n",
              "      <td>1.900800e+04</td>\n",
              "      <td>1.900800e+04</td>\n",
              "      <td>1.900800e+04</td>\n",
              "      <td>1.900800e+04</td>\n",
              "      <td>1.900800e+04</td>\n",
              "      <td>1.900800e+04</td>\n",
              "      <td>1.900800e+04</td>\n",
              "      <td>1.900800e+04</td>\n",
              "      <td>1.900800e+04</td>\n",
              "      <td>1.900800e+04</td>\n",
              "      <td>1.900800e+04</td>\n",
              "      <td>1.900800e+04</td>\n",
              "      <td>1.900800e+04</td>\n",
              "      <td>1.900800e+04</td>\n",
              "      <td>1.900800e+04</td>\n",
              "      <td>1.900800e+04</td>\n",
              "      <td>1.900800e+04</td>\n",
              "      <td>1.900800e+04</td>\n",
              "      <td>1.900800e+04</td>\n",
              "      <td>...</td>\n",
              "      <td>1.900800e+04</td>\n",
              "      <td>1.900800e+04</td>\n",
              "      <td>1.900800e+04</td>\n",
              "      <td>1.900800e+04</td>\n",
              "      <td>1.900800e+04</td>\n",
              "      <td>1.900800e+04</td>\n",
              "      <td>1.900800e+04</td>\n",
              "      <td>1.900800e+04</td>\n",
              "      <td>1.900800e+04</td>\n",
              "      <td>1.900800e+04</td>\n",
              "      <td>1.900800e+04</td>\n",
              "      <td>1.900800e+04</td>\n",
              "      <td>1.900800e+04</td>\n",
              "      <td>1.900800e+04</td>\n",
              "      <td>1.900800e+04</td>\n",
              "      <td>1.900800e+04</td>\n",
              "      <td>1.900800e+04</td>\n",
              "      <td>1.900800e+04</td>\n",
              "      <td>1.900800e+04</td>\n",
              "      <td>1.900800e+04</td>\n",
              "      <td>1.900800e+04</td>\n",
              "      <td>1.900800e+04</td>\n",
              "      <td>1.900800e+04</td>\n",
              "      <td>1.900800e+04</td>\n",
              "      <td>1.900800e+04</td>\n",
              "      <td>1.900800e+04</td>\n",
              "      <td>1.900800e+04</td>\n",
              "      <td>1.900800e+04</td>\n",
              "      <td>1.900800e+04</td>\n",
              "      <td>1.900800e+04</td>\n",
              "      <td>1.900800e+04</td>\n",
              "      <td>1.900800e+04</td>\n",
              "      <td>1.900800e+04</td>\n",
              "      <td>1.900800e+04</td>\n",
              "      <td>1.900800e+04</td>\n",
              "      <td>1.900800e+04</td>\n",
              "      <td>1.900800e+04</td>\n",
              "      <td>1.900800e+04</td>\n",
              "      <td>1.900800e+04</td>\n",
              "      <td>1.900800e+04</td>\n",
              "    </tr>\n",
              "    <tr>\n",
              "      <th>mean</th>\n",
              "      <td>1.041827e-15</td>\n",
              "      <td>1.936995e-14</td>\n",
              "      <td>-3.209758e-15</td>\n",
              "      <td>2.188205e-16</td>\n",
              "      <td>-2.927653e-15</td>\n",
              "      <td>1.910535e-14</td>\n",
              "      <td>-2.503480e-15</td>\n",
              "      <td>-2.298947e-16</td>\n",
              "      <td>-3.493394e-16</td>\n",
              "      <td>2.035559e-14</td>\n",
              "      <td>-3.849860e-15</td>\n",
              "      <td>-1.398876e-16</td>\n",
              "      <td>-3.134067e-16</td>\n",
              "      <td>1.929705e-14</td>\n",
              "      <td>-2.256367e-15</td>\n",
              "      <td>-4.840871e-17</td>\n",
              "      <td>-3.324595e-16</td>\n",
              "      <td>2.061117e-14</td>\n",
              "      <td>-8.608960e-16</td>\n",
              "      <td>5.013877e-16</td>\n",
              "      <td>2.551737e-16</td>\n",
              "      <td>1.917782e-14</td>\n",
              "      <td>-3.608604e-15</td>\n",
              "      <td>1.791964e-16</td>\n",
              "      <td>4.940049e-16</td>\n",
              "      <td>1.916953e-14</td>\n",
              "      <td>-2.181394e-15</td>\n",
              "      <td>1.762292e-16</td>\n",
              "      <td>3.368634e-16</td>\n",
              "      <td>1.916078e-14</td>\n",
              "      <td>-1.373737e-15</td>\n",
              "      <td>2.939217e-16</td>\n",
              "      <td>-9.889326e-16</td>\n",
              "      <td>1.838872e-14</td>\n",
              "      <td>-1.298146e-15</td>\n",
              "      <td>-1.743485e-16</td>\n",
              "      <td>-1.378188e-15</td>\n",
              "      <td>1.756730e-14</td>\n",
              "      <td>-3.205798e-15</td>\n",
              "      <td>2.546889e-16</td>\n",
              "      <td>...</td>\n",
              "      <td>-3.995296e-16</td>\n",
              "      <td>1.877159e-14</td>\n",
              "      <td>-1.893605e-15</td>\n",
              "      <td>-1.878320e-16</td>\n",
              "      <td>7.083308e-16</td>\n",
              "      <td>1.910504e-14</td>\n",
              "      <td>-1.716747e-15</td>\n",
              "      <td>1.247453e-17</td>\n",
              "      <td>-1.952957e-15</td>\n",
              "      <td>1.859735e-14</td>\n",
              "      <td>-3.151965e-15</td>\n",
              "      <td>-4.560147e-17</td>\n",
              "      <td>2.476706e-15</td>\n",
              "      <td>1.946987e-14</td>\n",
              "      <td>-2.580042e-15</td>\n",
              "      <td>-4.578867e-16</td>\n",
              "      <td>1.138592e-15</td>\n",
              "      <td>1.943354e-14</td>\n",
              "      <td>-2.389336e-15</td>\n",
              "      <td>-4.280211e-16</td>\n",
              "      <td>1.837055e-16</td>\n",
              "      <td>2.044107e-14</td>\n",
              "      <td>-3.620924e-15</td>\n",
              "      <td>-5.820961e-17</td>\n",
              "      <td>-4.261462e-16</td>\n",
              "      <td>1.951333e-14</td>\n",
              "      <td>-1.610498e-15</td>\n",
              "      <td>2.825321e-16</td>\n",
              "      <td>1.140087e-15</td>\n",
              "      <td>2.005102e-14</td>\n",
              "      <td>-1.340161e-15</td>\n",
              "      <td>-2.808383e-16</td>\n",
              "      <td>5.592468e-16</td>\n",
              "      <td>1.981385e-14</td>\n",
              "      <td>-1.071322e-14</td>\n",
              "      <td>-2.031992e-16</td>\n",
              "      <td>-3.208362e-16</td>\n",
              "      <td>2.019724e-14</td>\n",
              "      <td>-9.588296e-15</td>\n",
              "      <td>-1.215767e-16</td>\n",
              "    </tr>\n",
              "    <tr>\n",
              "      <th>std</th>\n",
              "      <td>1.000026e+00</td>\n",
              "      <td>1.000026e+00</td>\n",
              "      <td>1.000026e+00</td>\n",
              "      <td>1.000026e+00</td>\n",
              "      <td>1.000026e+00</td>\n",
              "      <td>1.000026e+00</td>\n",
              "      <td>1.000026e+00</td>\n",
              "      <td>1.000026e+00</td>\n",
              "      <td>1.000026e+00</td>\n",
              "      <td>1.000026e+00</td>\n",
              "      <td>1.000026e+00</td>\n",
              "      <td>1.000026e+00</td>\n",
              "      <td>1.000026e+00</td>\n",
              "      <td>1.000026e+00</td>\n",
              "      <td>1.000026e+00</td>\n",
              "      <td>1.000026e+00</td>\n",
              "      <td>1.000026e+00</td>\n",
              "      <td>1.000026e+00</td>\n",
              "      <td>1.000026e+00</td>\n",
              "      <td>1.000026e+00</td>\n",
              "      <td>1.000026e+00</td>\n",
              "      <td>1.000026e+00</td>\n",
              "      <td>1.000026e+00</td>\n",
              "      <td>1.000026e+00</td>\n",
              "      <td>1.000026e+00</td>\n",
              "      <td>1.000026e+00</td>\n",
              "      <td>1.000026e+00</td>\n",
              "      <td>1.000026e+00</td>\n",
              "      <td>1.000026e+00</td>\n",
              "      <td>1.000026e+00</td>\n",
              "      <td>1.000026e+00</td>\n",
              "      <td>1.000026e+00</td>\n",
              "      <td>1.000026e+00</td>\n",
              "      <td>1.000026e+00</td>\n",
              "      <td>1.000026e+00</td>\n",
              "      <td>1.000026e+00</td>\n",
              "      <td>1.000026e+00</td>\n",
              "      <td>1.000026e+00</td>\n",
              "      <td>1.000026e+00</td>\n",
              "      <td>1.000026e+00</td>\n",
              "      <td>...</td>\n",
              "      <td>1.000026e+00</td>\n",
              "      <td>1.000026e+00</td>\n",
              "      <td>1.000026e+00</td>\n",
              "      <td>1.000026e+00</td>\n",
              "      <td>1.000026e+00</td>\n",
              "      <td>1.000026e+00</td>\n",
              "      <td>1.000026e+00</td>\n",
              "      <td>1.000026e+00</td>\n",
              "      <td>1.000026e+00</td>\n",
              "      <td>1.000026e+00</td>\n",
              "      <td>1.000026e+00</td>\n",
              "      <td>1.000026e+00</td>\n",
              "      <td>1.000026e+00</td>\n",
              "      <td>1.000026e+00</td>\n",
              "      <td>1.000026e+00</td>\n",
              "      <td>1.000026e+00</td>\n",
              "      <td>1.000026e+00</td>\n",
              "      <td>1.000026e+00</td>\n",
              "      <td>1.000026e+00</td>\n",
              "      <td>1.000026e+00</td>\n",
              "      <td>1.000026e+00</td>\n",
              "      <td>1.000026e+00</td>\n",
              "      <td>1.000026e+00</td>\n",
              "      <td>1.000026e+00</td>\n",
              "      <td>1.000026e+00</td>\n",
              "      <td>1.000026e+00</td>\n",
              "      <td>1.000026e+00</td>\n",
              "      <td>1.000026e+00</td>\n",
              "      <td>1.000026e+00</td>\n",
              "      <td>1.000026e+00</td>\n",
              "      <td>1.000026e+00</td>\n",
              "      <td>1.000026e+00</td>\n",
              "      <td>1.000026e+00</td>\n",
              "      <td>1.000026e+00</td>\n",
              "      <td>1.000026e+00</td>\n",
              "      <td>1.000026e+00</td>\n",
              "      <td>1.000026e+00</td>\n",
              "      <td>1.000026e+00</td>\n",
              "      <td>1.000026e+00</td>\n",
              "      <td>1.000026e+00</td>\n",
              "    </tr>\n",
              "    <tr>\n",
              "      <th>min</th>\n",
              "      <td>-2.311026e+00</td>\n",
              "      <td>-2.568864e+00</td>\n",
              "      <td>-3.149160e+00</td>\n",
              "      <td>-2.364007e+00</td>\n",
              "      <td>-2.310945e+00</td>\n",
              "      <td>-2.568901e+00</td>\n",
              "      <td>-3.149111e+00</td>\n",
              "      <td>-2.363968e+00</td>\n",
              "      <td>-2.310863e+00</td>\n",
              "      <td>-2.568927e+00</td>\n",
              "      <td>-3.149115e+00</td>\n",
              "      <td>-2.363884e+00</td>\n",
              "      <td>-2.310782e+00</td>\n",
              "      <td>-2.568945e+00</td>\n",
              "      <td>-3.149104e+00</td>\n",
              "      <td>-2.363800e+00</td>\n",
              "      <td>-2.310701e+00</td>\n",
              "      <td>-2.568956e+00</td>\n",
              "      <td>-3.149102e+00</td>\n",
              "      <td>-2.363730e+00</td>\n",
              "      <td>-2.310619e+00</td>\n",
              "      <td>-2.568960e+00</td>\n",
              "      <td>-3.149086e+00</td>\n",
              "      <td>-2.363678e+00</td>\n",
              "      <td>-2.310538e+00</td>\n",
              "      <td>-2.568966e+00</td>\n",
              "      <td>-3.149053e+00</td>\n",
              "      <td>-2.363651e+00</td>\n",
              "      <td>-2.310457e+00</td>\n",
              "      <td>-2.568986e+00</td>\n",
              "      <td>-3.149015e+00</td>\n",
              "      <td>-2.363645e+00</td>\n",
              "      <td>-2.310376e+00</td>\n",
              "      <td>-2.569033e+00</td>\n",
              "      <td>-3.148973e+00</td>\n",
              "      <td>-2.363678e+00</td>\n",
              "      <td>-2.310294e+00</td>\n",
              "      <td>-2.569097e+00</td>\n",
              "      <td>-3.148929e+00</td>\n",
              "      <td>-2.363704e+00</td>\n",
              "      <td>...</td>\n",
              "      <td>-2.310218e+00</td>\n",
              "      <td>-2.569275e+00</td>\n",
              "      <td>-3.148514e+00</td>\n",
              "      <td>-2.364650e+00</td>\n",
              "      <td>-2.310308e+00</td>\n",
              "      <td>-2.569226e+00</td>\n",
              "      <td>-3.148569e+00</td>\n",
              "      <td>-2.364662e+00</td>\n",
              "      <td>-2.310399e+00</td>\n",
              "      <td>-2.569184e+00</td>\n",
              "      <td>-3.148632e+00</td>\n",
              "      <td>-2.364677e+00</td>\n",
              "      <td>-2.310493e+00</td>\n",
              "      <td>-2.569155e+00</td>\n",
              "      <td>-3.148704e+00</td>\n",
              "      <td>-2.364697e+00</td>\n",
              "      <td>-2.310586e+00</td>\n",
              "      <td>-2.569144e+00</td>\n",
              "      <td>-3.148781e+00</td>\n",
              "      <td>-2.364714e+00</td>\n",
              "      <td>-2.310680e+00</td>\n",
              "      <td>-2.569166e+00</td>\n",
              "      <td>-3.148841e+00</td>\n",
              "      <td>-2.364705e+00</td>\n",
              "      <td>-2.310774e+00</td>\n",
              "      <td>-2.569215e+00</td>\n",
              "      <td>-3.148884e+00</td>\n",
              "      <td>-2.364700e+00</td>\n",
              "      <td>-2.310868e+00</td>\n",
              "      <td>-2.569290e+00</td>\n",
              "      <td>-3.148892e+00</td>\n",
              "      <td>-2.364704e+00</td>\n",
              "      <td>-2.310965e+00</td>\n",
              "      <td>-2.569386e+00</td>\n",
              "      <td>-3.148870e+00</td>\n",
              "      <td>-2.364718e+00</td>\n",
              "      <td>-2.311106e+00</td>\n",
              "      <td>-2.569493e+00</td>\n",
              "      <td>-3.148836e+00</td>\n",
              "      <td>-2.364747e+00</td>\n",
              "    </tr>\n",
              "    <tr>\n",
              "      <th>25%</th>\n",
              "      <td>-6.392120e-01</td>\n",
              "      <td>-6.328903e-01</td>\n",
              "      <td>-7.643083e-01</td>\n",
              "      <td>-7.708135e-01</td>\n",
              "      <td>-6.391302e-01</td>\n",
              "      <td>-6.328301e-01</td>\n",
              "      <td>-7.642519e-01</td>\n",
              "      <td>-7.707941e-01</td>\n",
              "      <td>-6.390483e-01</td>\n",
              "      <td>-6.327681e-01</td>\n",
              "      <td>-7.641887e-01</td>\n",
              "      <td>-7.707507e-01</td>\n",
              "      <td>-6.389664e-01</td>\n",
              "      <td>-6.327058e-01</td>\n",
              "      <td>-7.641266e-01</td>\n",
              "      <td>-7.707098e-01</td>\n",
              "      <td>-6.392926e-01</td>\n",
              "      <td>-6.326429e-01</td>\n",
              "      <td>-7.640610e-01</td>\n",
              "      <td>-7.706763e-01</td>\n",
              "      <td>-6.404352e-01</td>\n",
              "      <td>-6.325787e-01</td>\n",
              "      <td>-7.639950e-01</td>\n",
              "      <td>-7.706512e-01</td>\n",
              "      <td>-6.403534e-01</td>\n",
              "      <td>-6.325119e-01</td>\n",
              "      <td>-7.639296e-01</td>\n",
              "      <td>-7.706384e-01</td>\n",
              "      <td>-6.402715e-01</td>\n",
              "      <td>-6.324414e-01</td>\n",
              "      <td>-7.638650e-01</td>\n",
              "      <td>-7.706356e-01</td>\n",
              "      <td>-6.401896e-01</td>\n",
              "      <td>-6.323679e-01</td>\n",
              "      <td>-7.638015e-01</td>\n",
              "      <td>-7.706529e-01</td>\n",
              "      <td>-6.405159e-01</td>\n",
              "      <td>-6.322942e-01</td>\n",
              "      <td>-7.637368e-01</td>\n",
              "      <td>-7.706694e-01</td>\n",
              "      <td>...</td>\n",
              "      <td>-6.399746e-01</td>\n",
              "      <td>-6.312403e-01</td>\n",
              "      <td>-7.619690e-01</td>\n",
              "      <td>-7.712425e-01</td>\n",
              "      <td>-6.387991e-01</td>\n",
              "      <td>-6.312085e-01</td>\n",
              "      <td>-7.619398e-01</td>\n",
              "      <td>-7.712547e-01</td>\n",
              "      <td>-6.384399e-01</td>\n",
              "      <td>-6.311832e-01</td>\n",
              "      <td>-7.619120e-01</td>\n",
              "      <td>-7.712692e-01</td>\n",
              "      <td>-6.384902e-01</td>\n",
              "      <td>-6.311660e-01</td>\n",
              "      <td>-7.618849e-01</td>\n",
              "      <td>-7.712901e-01</td>\n",
              "      <td>-6.385405e-01</td>\n",
              "      <td>-6.311599e-01</td>\n",
              "      <td>-7.618536e-01</td>\n",
              "      <td>-7.713190e-01</td>\n",
              "      <td>-6.385908e-01</td>\n",
              "      <td>-6.311720e-01</td>\n",
              "      <td>-7.618141e-01</td>\n",
              "      <td>-7.713530e-01</td>\n",
              "      <td>-6.374163e-01</td>\n",
              "      <td>-6.311668e-01</td>\n",
              "      <td>-7.617730e-01</td>\n",
              "      <td>-7.713871e-01</td>\n",
              "      <td>-6.370583e-01</td>\n",
              "      <td>-6.310986e-01</td>\n",
              "      <td>-7.617216e-01</td>\n",
              "      <td>-7.714148e-01</td>\n",
              "      <td>-6.371107e-01</td>\n",
              "      <td>-6.309856e-01</td>\n",
              "      <td>-7.616627e-01</td>\n",
              "      <td>-7.714386e-01</td>\n",
              "      <td>-6.371837e-01</td>\n",
              "      <td>-6.308675e-01</td>\n",
              "      <td>-7.616067e-01</td>\n",
              "      <td>-7.714603e-01</td>\n",
              "    </tr>\n",
              "    <tr>\n",
              "      <th>50%</th>\n",
              "      <td>-1.347291e-01</td>\n",
              "      <td>-1.008269e-01</td>\n",
              "      <td>9.308555e-02</td>\n",
              "      <td>1.184520e-01</td>\n",
              "      <td>-1.354634e-01</td>\n",
              "      <td>-1.008014e-01</td>\n",
              "      <td>9.314447e-02</td>\n",
              "      <td>1.184610e-01</td>\n",
              "      <td>-1.361976e-01</td>\n",
              "      <td>-1.007916e-01</td>\n",
              "      <td>9.323196e-02</td>\n",
              "      <td>1.184814e-01</td>\n",
              "      <td>-1.361156e-01</td>\n",
              "      <td>-1.007795e-01</td>\n",
              "      <td>9.331249e-02</td>\n",
              "      <td>1.184984e-01</td>\n",
              "      <td>-1.360335e-01</td>\n",
              "      <td>-1.007352e-01</td>\n",
              "      <td>9.340068e-02</td>\n",
              "      <td>1.185115e-01</td>\n",
              "      <td>-1.359514e-01</td>\n",
              "      <td>-1.007120e-01</td>\n",
              "      <td>9.348480e-02</td>\n",
              "      <td>1.185212e-01</td>\n",
              "      <td>-1.358694e-01</td>\n",
              "      <td>-1.007482e-01</td>\n",
              "      <td>9.356189e-02</td>\n",
              "      <td>1.185263e-01</td>\n",
              "      <td>-1.357873e-01</td>\n",
              "      <td>-1.007596e-01</td>\n",
              "      <td>9.363605e-02</td>\n",
              "      <td>1.185275e-01</td>\n",
              "      <td>-1.357053e-01</td>\n",
              "      <td>-1.007916e-01</td>\n",
              "      <td>9.370730e-02</td>\n",
              "      <td>1.185188e-01</td>\n",
              "      <td>-1.356232e-01</td>\n",
              "      <td>-1.008895e-01</td>\n",
              "      <td>9.377940e-02</td>\n",
              "      <td>1.185077e-01</td>\n",
              "      <td>...</td>\n",
              "      <td>-1.354730e-01</td>\n",
              "      <td>-1.022873e-01</td>\n",
              "      <td>7.903827e-02</td>\n",
              "      <td>1.190339e-01</td>\n",
              "      <td>-1.355097e-01</td>\n",
              "      <td>-1.025111e-01</td>\n",
              "      <td>7.909705e-02</td>\n",
              "      <td>1.199128e-01</td>\n",
              "      <td>-1.355460e-01</td>\n",
              "      <td>-1.024902e-01</td>\n",
              "      <td>7.915698e-02</td>\n",
              "      <td>1.198986e-01</td>\n",
              "      <td>-1.355832e-01</td>\n",
              "      <td>-1.024763e-01</td>\n",
              "      <td>7.921898e-02</td>\n",
              "      <td>1.198772e-01</td>\n",
              "      <td>-1.356204e-01</td>\n",
              "      <td>-1.024715e-01</td>\n",
              "      <td>7.928851e-02</td>\n",
              "      <td>1.198418e-01</td>\n",
              "      <td>-1.356576e-01</td>\n",
              "      <td>-1.024811e-01</td>\n",
              "      <td>7.936318e-02</td>\n",
              "      <td>1.197833e-01</td>\n",
              "      <td>-1.356948e-01</td>\n",
              "      <td>-1.025042e-01</td>\n",
              "      <td>7.943371e-02</td>\n",
              "      <td>1.197274e-01</td>\n",
              "      <td>-1.357320e-01</td>\n",
              "      <td>-1.025397e-01</td>\n",
              "      <td>7.950615e-02</td>\n",
              "      <td>1.196863e-01</td>\n",
              "      <td>-1.357709e-01</td>\n",
              "      <td>-1.023340e-01</td>\n",
              "      <td>7.957783e-02</td>\n",
              "      <td>1.196574e-01</td>\n",
              "      <td>-1.358235e-01</td>\n",
              "      <td>-1.022454e-01</td>\n",
              "      <td>7.964181e-02</td>\n",
              "      <td>1.196396e-01</td>\n",
              "    </tr>\n",
              "    <tr>\n",
              "      <th>75%</th>\n",
              "      <td>6.215871e-01</td>\n",
              "      <td>4.280362e-01</td>\n",
              "      <td>7.966014e-01</td>\n",
              "      <td>6.798121e-01</td>\n",
              "      <td>6.212612e-01</td>\n",
              "      <td>4.280328e-01</td>\n",
              "      <td>7.966624e-01</td>\n",
              "      <td>6.798144e-01</td>\n",
              "      <td>6.213435e-01</td>\n",
              "      <td>4.278247e-01</td>\n",
              "      <td>7.967698e-01</td>\n",
              "      <td>6.798204e-01</td>\n",
              "      <td>6.214259e-01</td>\n",
              "      <td>4.277051e-01</td>\n",
              "      <td>7.968654e-01</td>\n",
              "      <td>6.798222e-01</td>\n",
              "      <td>6.215082e-01</td>\n",
              "      <td>4.275829e-01</td>\n",
              "      <td>7.969722e-01</td>\n",
              "      <td>6.798225e-01</td>\n",
              "      <td>6.215905e-01</td>\n",
              "      <td>4.275051e-01</td>\n",
              "      <td>7.970712e-01</td>\n",
              "      <td>6.798225e-01</td>\n",
              "      <td>6.216729e-01</td>\n",
              "      <td>4.274726e-01</td>\n",
              "      <td>7.971578e-01</td>\n",
              "      <td>6.798226e-01</td>\n",
              "      <td>6.217552e-01</td>\n",
              "      <td>4.274488e-01</td>\n",
              "      <td>7.972399e-01</td>\n",
              "      <td>6.798227e-01</td>\n",
              "      <td>6.218376e-01</td>\n",
              "      <td>4.275492e-01</td>\n",
              "      <td>7.973175e-01</td>\n",
              "      <td>6.798195e-01</td>\n",
              "      <td>6.219199e-01</td>\n",
              "      <td>4.276792e-01</td>\n",
              "      <td>7.973956e-01</td>\n",
              "      <td>6.798118e-01</td>\n",
              "      <td>...</td>\n",
              "      <td>6.220957e-01</td>\n",
              "      <td>4.269518e-01</td>\n",
              "      <td>8.000488e-01</td>\n",
              "      <td>6.795783e-01</td>\n",
              "      <td>6.220777e-01</td>\n",
              "      <td>4.269741e-01</td>\n",
              "      <td>8.001330e-01</td>\n",
              "      <td>6.795659e-01</td>\n",
              "      <td>6.220605e-01</td>\n",
              "      <td>4.269907e-01</td>\n",
              "      <td>8.002204e-01</td>\n",
              "      <td>6.795520e-01</td>\n",
              "      <td>6.220430e-01</td>\n",
              "      <td>4.270012e-01</td>\n",
              "      <td>8.003123e-01</td>\n",
              "      <td>6.795303e-01</td>\n",
              "      <td>6.220255e-01</td>\n",
              "      <td>4.270048e-01</td>\n",
              "      <td>8.004146e-01</td>\n",
              "      <td>6.794908e-01</td>\n",
              "      <td>6.220080e-01</td>\n",
              "      <td>4.269977e-01</td>\n",
              "      <td>8.005194e-01</td>\n",
              "      <td>6.794168e-01</td>\n",
              "      <td>6.219905e-01</td>\n",
              "      <td>4.269803e-01</td>\n",
              "      <td>8.006152e-01</td>\n",
              "      <td>6.793473e-01</td>\n",
              "      <td>6.219730e-01</td>\n",
              "      <td>4.269532e-01</td>\n",
              "      <td>8.007057e-01</td>\n",
              "      <td>6.792978e-01</td>\n",
              "      <td>6.219543e-01</td>\n",
              "      <td>4.269190e-01</td>\n",
              "      <td>8.007884e-01</td>\n",
              "      <td>6.792656e-01</td>\n",
              "      <td>6.219327e-01</td>\n",
              "      <td>4.268832e-01</td>\n",
              "      <td>8.008591e-01</td>\n",
              "      <td>6.792504e-01</td>\n",
              "    </tr>\n",
              "    <tr>\n",
              "      <th>max</th>\n",
              "      <td>4.123172e+00</td>\n",
              "      <td>4.490247e+00</td>\n",
              "      <td>2.443456e+00</td>\n",
              "      <td>3.418892e+00</td>\n",
              "      <td>4.123255e+00</td>\n",
              "      <td>4.490566e+00</td>\n",
              "      <td>2.443522e+00</td>\n",
              "      <td>3.418862e+00</td>\n",
              "      <td>4.123339e+00</td>\n",
              "      <td>4.490861e+00</td>\n",
              "      <td>2.443676e+00</td>\n",
              "      <td>3.418798e+00</td>\n",
              "      <td>4.123422e+00</td>\n",
              "      <td>4.491135e+00</td>\n",
              "      <td>2.443807e+00</td>\n",
              "      <td>3.418726e+00</td>\n",
              "      <td>4.123506e+00</td>\n",
              "      <td>4.491392e+00</td>\n",
              "      <td>2.443957e+00</td>\n",
              "      <td>3.418664e+00</td>\n",
              "      <td>4.123590e+00</td>\n",
              "      <td>4.491638e+00</td>\n",
              "      <td>2.444091e+00</td>\n",
              "      <td>3.418616e+00</td>\n",
              "      <td>4.123673e+00</td>\n",
              "      <td>4.491897e+00</td>\n",
              "      <td>2.444200e+00</td>\n",
              "      <td>3.418592e+00</td>\n",
              "      <td>4.123757e+00</td>\n",
              "      <td>4.492208e+00</td>\n",
              "      <td>2.444301e+00</td>\n",
              "      <td>3.418587e+00</td>\n",
              "      <td>4.123841e+00</td>\n",
              "      <td>4.492601e+00</td>\n",
              "      <td>2.444393e+00</td>\n",
              "      <td>3.418611e+00</td>\n",
              "      <td>4.123924e+00</td>\n",
              "      <td>4.493039e+00</td>\n",
              "      <td>2.444485e+00</td>\n",
              "      <td>3.418620e+00</td>\n",
              "      <td>...</td>\n",
              "      <td>4.124219e+00</td>\n",
              "      <td>4.495723e+00</td>\n",
              "      <td>2.448073e+00</td>\n",
              "      <td>3.419027e+00</td>\n",
              "      <td>4.124287e+00</td>\n",
              "      <td>4.495709e+00</td>\n",
              "      <td>2.448215e+00</td>\n",
              "      <td>3.419015e+00</td>\n",
              "      <td>4.124358e+00</td>\n",
              "      <td>4.495692e+00</td>\n",
              "      <td>2.448365e+00</td>\n",
              "      <td>3.419002e+00</td>\n",
              "      <td>4.124431e+00</td>\n",
              "      <td>4.495677e+00</td>\n",
              "      <td>2.448526e+00</td>\n",
              "      <td>3.418979e+00</td>\n",
              "      <td>4.124505e+00</td>\n",
              "      <td>4.495670e+00</td>\n",
              "      <td>2.448703e+00</td>\n",
              "      <td>3.418919e+00</td>\n",
              "      <td>4.124578e+00</td>\n",
              "      <td>4.495683e+00</td>\n",
              "      <td>2.448877e+00</td>\n",
              "      <td>3.418770e+00</td>\n",
              "      <td>4.124652e+00</td>\n",
              "      <td>4.495709e+00</td>\n",
              "      <td>2.449030e+00</td>\n",
              "      <td>3.418633e+00</td>\n",
              "      <td>4.124726e+00</td>\n",
              "      <td>4.495747e+00</td>\n",
              "      <td>2.449162e+00</td>\n",
              "      <td>3.418543e+00</td>\n",
              "      <td>4.124801e+00</td>\n",
              "      <td>4.495797e+00</td>\n",
              "      <td>2.449270e+00</td>\n",
              "      <td>3.418495e+00</td>\n",
              "      <td>4.124922e+00</td>\n",
              "      <td>4.495857e+00</td>\n",
              "      <td>2.449356e+00</td>\n",
              "      <td>3.418492e+00</td>\n",
              "    </tr>\n",
              "  </tbody>\n",
              "</table>\n",
              "<p>8 rows × 192 columns</p>\n",
              "</div>"
            ],
            "text/plain": [
              "         median_t_1       std_t_1  ...        T_t_48     load_t_48\n",
              "count  1.900800e+04  1.900800e+04  ...  1.900800e+04  1.900800e+04\n",
              "mean   1.041827e-15  1.936995e-14  ... -9.588296e-15 -1.215767e-16\n",
              "std    1.000026e+00  1.000026e+00  ...  1.000026e+00  1.000026e+00\n",
              "min   -2.311026e+00 -2.568864e+00  ... -3.148836e+00 -2.364747e+00\n",
              "25%   -6.392120e-01 -6.328903e-01  ... -7.616067e-01 -7.714603e-01\n",
              "50%   -1.347291e-01 -1.008269e-01  ...  7.964181e-02  1.196396e-01\n",
              "75%    6.215871e-01  4.280362e-01  ...  8.008591e-01  6.792504e-01\n",
              "max    4.123172e+00  4.490247e+00  ...  2.449356e+00  3.418492e+00\n",
              "\n",
              "[8 rows x 192 columns]"
            ]
          },
          "metadata": {
            "tags": []
          },
          "execution_count": 3358
        },
        {
          "output_type": "stream",
          "text": [
            "time: 871 ms (started: 2021-01-14 20:56:51 +00:00)\n"
          ],
          "name": "stdout"
        }
      ]
    },
    {
      "cell_type": "code",
      "metadata": {
        "id": "5UEO_T9VQgV0",
        "colab": {
          "base_uri": "https://localhost:8080/"
        },
        "outputId": "245dbf68-19d1-4de9-9a83-8451175949cc"
      },
      "source": [
        "# Train-Test Split:\r\n",
        "# We will split the data as training and test. No need for validation here. \r\n",
        "train_start_dt = '2014-10-01'\r\n",
        "test_start_dt = '2014-11-01'\r\n",
        "test_end_dt = '2014-11-04'\r\n",
        "#Lets use the same notation: X_train, X_test, y_train, y_test\r\n",
        "X_train = dataX.copy()[(dataX.index >= train_start_dt)& (dataX.index < test_start_dt)]\r\n",
        "y_train = dataY.copy()[(dataY.index >= train_start_dt)& (dataY.index < test_start_dt)]\r\n",
        "\r\n",
        "X_test =  dataX.copy()[(dataX.index >= test_start_dt) & (dataX.index < test_end_dt)]\r\n",
        "y_test =  dataY.copy()[(dataY.index >= test_start_dt) & (dataY.index < test_end_dt)]\r\n",
        "\r\n",
        "\r\n",
        "print('Train data shape: ', X_train.shape, y_train.shape)\r\n",
        "print('Test data shape: ', X_test.shape, y_test.shape)"
      ],
      "execution_count": null,
      "outputs": [
        {
          "output_type": "stream",
          "text": [
            "Train data shape:  (744, 192) (744,)\n",
            "Test data shape:  (72, 192) (72,)\n",
            "time: 101 ms (started: 2021-01-14 20:56:52 +00:00)\n"
          ],
          "name": "stdout"
        }
      ]
    },
    {
      "cell_type": "markdown",
      "metadata": {
        "id": "151sdEYPESfg"
      },
      "source": [
        "## Model Training and Predictions\n",
        "\n",
        "As we have seen in the lecture, there are 3 important hyperparameters to decide: C, epsilon and kernel. We also need to feed the tol value as we are solving a convex optimization problem."
      ]
    },
    {
      "cell_type": "code",
      "metadata": {
        "id": "iSHteOJ_SVth",
        "colab": {
          "base_uri": "https://localhost:8080/"
        },
        "outputId": "c49b55bc-a9c7-481b-9d3b-14e8fa7161db"
      },
      "source": [
        "# Hyperparameters:\n",
        "# https://scikit-learn.org/stable/modules/generated/sklearn.svm.SVR.html#\n",
        "\n",
        "#__________________________________________________________________________________________\n",
        "#___Notes__________________________________________________________________________________\n",
        "#Radial Basis Function (RBF) kernel, two parameters must be considered: C and gamma. \n",
        "\n",
        "#The parameter C, common to all SVM kernels, trades off misclassification of training examples \n",
        "#against simplicity of the decision surface. \n",
        "#A low C makes the decision surface smooth, while a high C aims at classifying all training examples correctly. \n",
        "#The strength of the regularization is inversely proportional to C. Large C => little regularization; Low C => higher regularization\n",
        "\n",
        "#gamma defines how much influence a single training example has. The larger gamma is, the closer other examples must be to be affected.\n",
        "#__________________________________________________________________________________________\n",
        "\n",
        "kernel='linear' \n",
        "gamma='scale' #Kernel coefficient for ‘rbf’, ‘poly’ and ‘sigmoid’. When scaled, uses 1 / (n_features * X.var()) as value of gamma.\n",
        "C=1.0\n",
        "epsilon=0.1    # Default\n",
        "shrinking=True # Whether to use the shrinking heuristic. \n",
        "tol=0.00001\n",
        "\n",
        "#Setting the model:\n",
        "svr = SVR(kernel= kernel, gamma=gamma, tol=tol, C=C, epsilon=epsilon, shrinking=shrinking)\n",
        " "
      ],
      "execution_count": null,
      "outputs": [
        {
          "output_type": "stream",
          "text": [
            "time: 8.9 ms (started: 2021-01-14 20:56:52 +00:00)\n"
          ],
          "name": "stdout"
        }
      ]
    },
    {
      "cell_type": "code",
      "metadata": {
        "id": "Vxwh0-ECrCuj",
        "colab": {
          "base_uri": "https://localhost:8080/"
        },
        "outputId": "0ec65835-b935-4808-fd25-8663a6aa8c66"
      },
      "source": [
        "# Model Training:\r\n",
        "model = svr\r\n",
        "#Fitting the model according to given data:\r\n",
        "model.fit(X_train, y_train)"
      ],
      "execution_count": null,
      "outputs": [
        {
          "output_type": "execute_result",
          "data": {
            "text/plain": [
              "SVR(C=1.0, cache_size=200, coef0=0.0, degree=3, epsilon=0.1, gamma='scale',\n",
              "    kernel='linear', max_iter=-1, shrinking=True, tol=1e-05, verbose=False)"
            ]
          },
          "metadata": {
            "tags": []
          },
          "execution_count": 3361
        },
        {
          "output_type": "stream",
          "text": [
            "time: 206 ms (started: 2021-01-14 20:56:52 +00:00)\n"
          ],
          "name": "stdout"
        }
      ]
    },
    {
      "cell_type": "code",
      "metadata": {
        "id": "2H8-Dsm5rThs",
        "colab": {
          "base_uri": "https://localhost:8080/"
        },
        "outputId": "034c154b-2269-4d86-dfbe-0f29a5066046"
      },
      "source": [
        "#Model Predictions:\r\n",
        "#------------------\r\n",
        "#scoreTraining = model.score(X_train, y_train)\r\n",
        "#print('-----------------------------------')\r\n",
        "#print('SVM Regression Training R^2 Score: ', scoreTraining)\r\n",
        "#print('-----------------------------------')\r\n",
        "scoreValidation = model.score(X_test, y_test)\r\n",
        "print('-----------------------------------')\r\n",
        "print('SVM Regression Validation R^2 Score: ', scoreValidation)\r\n",
        "print('-----------------------------------')"
      ],
      "execution_count": null,
      "outputs": [
        {
          "output_type": "stream",
          "text": [
            "-----------------------------------\n",
            "SVM Regression Validation R^2 Score:  0.9235792821874925\n",
            "-----------------------------------\n",
            "time: 24 ms (started: 2021-01-14 20:56:53 +00:00)\n"
          ],
          "name": "stdout"
        }
      ]
    },
    {
      "cell_type": "code",
      "metadata": {
        "id": "nurBQX3UsAvV",
        "colab": {
          "base_uri": "https://localhost:8080/"
        },
        "outputId": "10c5a2aa-d420-47a8-ee25-0a3670380f78"
      },
      "source": [
        "#Visual Comparisons\r\n",
        "#------------------\r\n",
        "# Lets get the predictions first:\r\n",
        "y_predict = pd.Series(svr.predict(X_test),index=y_test.index)"
      ],
      "execution_count": null,
      "outputs": [
        {
          "output_type": "stream",
          "text": [
            "time: 21.7 ms (started: 2021-01-14 20:56:53 +00:00)\n"
          ],
          "name": "stdout"
        }
      ]
    },
    {
      "cell_type": "code",
      "metadata": {
        "id": "Yn7i3C8zvM1o",
        "colab": {
          "base_uri": "https://localhost:8080/",
          "height": 423
        },
        "outputId": "69c0bde0-1d20-4d90-be20-9ad7b1765b92"
      },
      "source": [
        "#Plotting the Figure:\r\n",
        "plt.figure();\r\n",
        "plt.plot(y_test, 'k.-');\r\n",
        "plt.plot(y_predict, 'x', alpha=0.70);\r\n",
        "\r\n",
        "plt.legend(['Actual',\r\n",
        "            'Predicted 1 hr ahead'\r\n",
        "            ]);\r\n",
        "plt.ylabel('Load');\r\n",
        "plt.xlabel('Time Index');\r\n",
        "plt.title('SVM');"
      ],
      "execution_count": null,
      "outputs": [
        {
          "output_type": "display_data",
          "data": {
            "image/png": "[encoded data removed]",
            "text/plain": [
              "<Figure size 864x432 with 1 Axes>"
            ]
          },
          "metadata": {
            "tags": [],
            "needs_background": "light"
          }
        },
        {
          "output_type": "stream",
          "text": [
            "time: 250 ms (started: 2021-01-14 20:56:53 +00:00)\n"
          ],
          "name": "stdout"
        }
      ]
    },
    {
      "cell_type": "markdown",
      "metadata": {
        "id": "gkszZC5_7zRW"
      },
      "source": [
        "### Forecasting further in time...\r\n",
        "\r\n",
        "Lets use the SVM to predict further horizons by just using the training wisdom. Here we will follow a similar anology. We need to update the passed information about the past as we progress. Here, it is a bit more difficult as we need to update the created features as well. Lets see how it can be implemented."
      ]
    },
    {
      "cell_type": "code",
      "metadata": {
        "colab": {
          "base_uri": "https://localhost:8080/",
          "height": 162
        },
        "id": "FVxHoPDCLlQu",
        "outputId": "64e3586b-ddc7-4ae2-b4b2-1cc08b179d65"
      },
      "source": [
        "#Checking Data:\r\n",
        "data.sample(3)"
      ],
      "execution_count": null,
      "outputs": [
        {
          "output_type": "execute_result",
          "data": {
            "text/html": [
              "<div>\n",
              "<style scoped>\n",
              "    .dataframe tbody tr th:only-of-type {\n",
              "        vertical-align: middle;\n",
              "    }\n",
              "\n",
              "    .dataframe tbody tr th {\n",
              "        vertical-align: top;\n",
              "    }\n",
              "\n",
              "    .dataframe thead th {\n",
              "        text-align: right;\n",
              "    }\n",
              "</style>\n",
              "<table border=\"1\" class=\"dataframe\">\n",
              "  <thead>\n",
              "    <tr style=\"text-align: right;\">\n",
              "      <th></th>\n",
              "      <th>load</th>\n",
              "      <th>T</th>\n",
              "    </tr>\n",
              "  </thead>\n",
              "  <tbody>\n",
              "    <tr>\n",
              "      <th>2014-05-25 15:00:00</th>\n",
              "      <td>2949.0</td>\n",
              "      <td>69.00</td>\n",
              "    </tr>\n",
              "    <tr>\n",
              "      <th>2014-08-09 07:00:00</th>\n",
              "      <td>2680.0</td>\n",
              "      <td>57.00</td>\n",
              "    </tr>\n",
              "    <tr>\n",
              "      <th>2013-05-13 23:00:00</th>\n",
              "      <td>2871.0</td>\n",
              "      <td>45.67</td>\n",
              "    </tr>\n",
              "  </tbody>\n",
              "</table>\n",
              "</div>"
            ],
            "text/plain": [
              "                       load      T\n",
              "2014-05-25 15:00:00  2949.0  69.00\n",
              "2014-08-09 07:00:00  2680.0  57.00\n",
              "2013-05-13 23:00:00  2871.0  45.67"
            ]
          },
          "metadata": {
            "tags": []
          },
          "execution_count": 3365
        },
        {
          "output_type": "stream",
          "text": [
            "time: 23.7 ms (started: 2021-01-14 20:56:53 +00:00)\n"
          ],
          "name": "stdout"
        }
      ]
    },
    {
      "cell_type": "code",
      "metadata": {
        "colab": {
          "base_uri": "https://localhost:8080/"
        },
        "id": "k5oV65n1LlQw",
        "outputId": "45f99d40-09a3-4e15-aa65-69df0a917d7e"
      },
      "source": [
        "#Adding statistics features in dataframes:\r\n",
        "#------------------------------------------------\r\n",
        "#Lets use only the load data;\r\n",
        "load_data = data[['load']]\r\n",
        "#Defining the window width:\r\n",
        "width = 24\r\n",
        "#Calling Rolling:\r\n",
        "window = load_data.rolling(window=width)\r\n",
        "#Lets save as a new DF. We will add min, mean and max to the load column:\r\n",
        "new_dataframe = pd.concat([window.median(), window.std(),data['T'], data['load']], axis=1)\r\n",
        "new_dataframe.columns = ['median', 'std','T', 'load']\r\n",
        "new_dataframe = new_dataframe.dropna() \r\n",
        "new_dataframe.info()"
      ],
      "execution_count": null,
      "outputs": [
        {
          "output_type": "stream",
          "text": [
            "<class 'pandas.core.frame.DataFrame'>\n",
            "DatetimeIndex: 78865 entries, 2006-01-01 23:00:00 to 2014-12-31 23:00:00\n",
            "Data columns (total 4 columns):\n",
            " #   Column  Non-Null Count  Dtype  \n",
            "---  ------  --------------  -----  \n",
            " 0   median  78865 non-null  float64\n",
            " 1   std     78865 non-null  float64\n",
            " 2   T       78865 non-null  float64\n",
            " 3   load    78865 non-null  float64\n",
            "dtypes: float64(4)\n",
            "memory usage: 3.0 MB\n",
            "time: 75.1 ms (started: 2021-01-14 20:56:53 +00:00)\n"
          ],
          "name": "stdout"
        }
      ]
    },
    {
      "cell_type": "code",
      "metadata": {
        "colab": {
          "base_uri": "https://localhost:8080/",
          "height": 99
        },
        "id": "sCVbE3QlLlQx",
        "outputId": "08b7e6bb-e178-4045-8aa6-892ad911c8eb"
      },
      "source": [
        "new_dataframe.head(1)"
      ],
      "execution_count": null,
      "outputs": [
        {
          "output_type": "execute_result",
          "data": {
            "text/html": [
              "<div>\n",
              "<style scoped>\n",
              "    .dataframe tbody tr th:only-of-type {\n",
              "        vertical-align: middle;\n",
              "    }\n",
              "\n",
              "    .dataframe tbody tr th {\n",
              "        vertical-align: top;\n",
              "    }\n",
              "\n",
              "    .dataframe thead th {\n",
              "        text-align: right;\n",
              "    }\n",
              "</style>\n",
              "<table border=\"1\" class=\"dataframe\">\n",
              "  <thead>\n",
              "    <tr style=\"text-align: right;\">\n",
              "      <th></th>\n",
              "      <th>median</th>\n",
              "      <th>std</th>\n",
              "      <th>T</th>\n",
              "      <th>load</th>\n",
              "    </tr>\n",
              "  </thead>\n",
              "  <tbody>\n",
              "    <tr>\n",
              "      <th>2006-01-01 23:00:00</th>\n",
              "      <td>3512.0</td>\n",
              "      <td>471.067697</td>\n",
              "      <td>24.33</td>\n",
              "      <td>3255.0</td>\n",
              "    </tr>\n",
              "  </tbody>\n",
              "</table>\n",
              "</div>"
            ],
            "text/plain": [
              "                     median         std      T    load\n",
              "2006-01-01 23:00:00  3512.0  471.067697  24.33  3255.0"
            ]
          },
          "metadata": {
            "tags": []
          },
          "execution_count": 3367
        },
        {
          "output_type": "stream",
          "text": [
            "time: 17.8 ms (started: 2021-01-14 20:56:53 +00:00)\n"
          ],
          "name": "stdout"
        }
      ]
    },
    {
      "cell_type": "code",
      "metadata": {
        "colab": {
          "base_uri": "https://localhost:8080/"
        },
        "id": "ZZfbMS8KLlQx",
        "outputId": "485636cf-6e7a-430c-abd5-6b6385e63576"
      },
      "source": [
        "#finding the indices as integers for time substraction below:\r\n",
        "start = np.where(new_dataframe.index == '2012-09-01 00:00:00')[0][0]\r\n",
        "end = np.where(new_dataframe.index == '2014-12-31 00:00:00')[0][0]\r\n",
        "#setting windows width:\r\n",
        "window = 48\r\n",
        "#emply datalist\r\n",
        "dataX = []\r\n",
        "dataY = []\r\n",
        "column_names = []\r\n",
        "for i in range(start,end-window):\r\n",
        "\r\n",
        "    # Slice a window of features\r\n",
        "    dataX.append((new_dataframe.iloc[i:i+window].to_numpy()).ravel())\r\n",
        "    dataY.append(new_dataframe['load'].iloc[i+window] )\r\n",
        "\r\n",
        "for j in range (1,window+1):\r\n",
        "      column_names.append(['median_t_'+str(j),'std_t_'+str(j),'T_t_'+str(j),'load_t_'+str(j)])\r\n",
        "\r\n",
        "column_names = itertools.chain(*column_names)\r\n",
        "dataX = pd.DataFrame(np.vstack(dataX),index=new_dataframe.iloc[start+window:end].index)\r\n",
        "dataX.columns = column_names\r\n",
        "dataY =pd.Series(dataY,index=new_dataframe.iloc[start+window:end].index)\r\n",
        "dataY.column = ['true_load']"
      ],
      "execution_count": null,
      "outputs": [
        {
          "output_type": "stream",
          "text": [
            "time: 2.46 s (started: 2021-01-14 20:56:53 +00:00)\n"
          ],
          "name": "stdout"
        }
      ]
    },
    {
      "cell_type": "code",
      "metadata": {
        "colab": {
          "base_uri": "https://localhost:8080/",
          "height": 256
        },
        "id": "ONMxRdV_LlQx",
        "outputId": "7a72222a-f003-412a-ba62-2ab62f979947"
      },
      "source": [
        "#Original DF:\r\n",
        "new_dataframe.loc['2012-09-01 00:00:00':'2012-09-04 00:00:00'].head(6)"
      ],
      "execution_count": null,
      "outputs": [
        {
          "output_type": "execute_result",
          "data": {
            "text/html": [
              "<div>\n",
              "<style scoped>\n",
              "    .dataframe tbody tr th:only-of-type {\n",
              "        vertical-align: middle;\n",
              "    }\n",
              "\n",
              "    .dataframe tbody tr th {\n",
              "        vertical-align: top;\n",
              "    }\n",
              "\n",
              "    .dataframe thead th {\n",
              "        text-align: right;\n",
              "    }\n",
              "</style>\n",
              "<table border=\"1\" class=\"dataframe\">\n",
              "  <thead>\n",
              "    <tr style=\"text-align: right;\">\n",
              "      <th></th>\n",
              "      <th>median</th>\n",
              "      <th>std</th>\n",
              "      <th>T</th>\n",
              "      <th>load</th>\n",
              "    </tr>\n",
              "  </thead>\n",
              "  <tbody>\n",
              "    <tr>\n",
              "      <th>2012-09-01 00:00:00</th>\n",
              "      <td>3750.5</td>\n",
              "      <td>593.535976</td>\n",
              "      <td>59.33</td>\n",
              "      <td>2719.0</td>\n",
              "    </tr>\n",
              "    <tr>\n",
              "      <th>2012-09-01 01:00:00</th>\n",
              "      <td>3750.5</td>\n",
              "      <td>588.651369</td>\n",
              "      <td>69.67</td>\n",
              "      <td>2817.0</td>\n",
              "    </tr>\n",
              "    <tr>\n",
              "      <th>2012-09-01 02:00:00</th>\n",
              "      <td>3750.5</td>\n",
              "      <td>584.145753</td>\n",
              "      <td>67.33</td>\n",
              "      <td>2664.0</td>\n",
              "    </tr>\n",
              "    <tr>\n",
              "      <th>2012-09-01 03:00:00</th>\n",
              "      <td>3750.5</td>\n",
              "      <td>580.500794</td>\n",
              "      <td>69.33</td>\n",
              "      <td>2580.0</td>\n",
              "    </tr>\n",
              "    <tr>\n",
              "      <th>2012-09-01 04:00:00</th>\n",
              "      <td>3750.5</td>\n",
              "      <td>577.913412</td>\n",
              "      <td>67.67</td>\n",
              "      <td>2537.0</td>\n",
              "    </tr>\n",
              "    <tr>\n",
              "      <th>2012-09-01 05:00:00</th>\n",
              "      <td>3750.5</td>\n",
              "      <td>581.252095</td>\n",
              "      <td>65.00</td>\n",
              "      <td>2525.0</td>\n",
              "    </tr>\n",
              "  </tbody>\n",
              "</table>\n",
              "</div>"
            ],
            "text/plain": [
              "                     median         std      T    load\n",
              "2012-09-01 00:00:00  3750.5  593.535976  59.33  2719.0\n",
              "2012-09-01 01:00:00  3750.5  588.651369  69.67  2817.0\n",
              "2012-09-01 02:00:00  3750.5  584.145753  67.33  2664.0\n",
              "2012-09-01 03:00:00  3750.5  580.500794  69.33  2580.0\n",
              "2012-09-01 04:00:00  3750.5  577.913412  67.67  2537.0\n",
              "2012-09-01 05:00:00  3750.5  581.252095  65.00  2525.0"
            ]
          },
          "metadata": {
            "tags": []
          },
          "execution_count": 3369
        },
        {
          "output_type": "stream",
          "text": [
            "time: 24.4 ms (started: 2021-01-14 20:56:56 +00:00)\n"
          ],
          "name": "stdout"
        }
      ]
    },
    {
      "cell_type": "code",
      "metadata": {
        "colab": {
          "base_uri": "https://localhost:8080/",
          "height": 215
        },
        "id": "KPJaDYEjLlQy",
        "outputId": "a23760cd-8cd7-4665-ebe3-8a6ec428f084"
      },
      "source": [
        "dataX.head(2)"
      ],
      "execution_count": null,
      "outputs": [
        {
          "output_type": "execute_result",
          "data": {
            "text/html": [
              "<div>\n",
              "<style scoped>\n",
              "    .dataframe tbody tr th:only-of-type {\n",
              "        vertical-align: middle;\n",
              "    }\n",
              "\n",
              "    .dataframe tbody tr th {\n",
              "        vertical-align: top;\n",
              "    }\n",
              "\n",
              "    .dataframe thead th {\n",
              "        text-align: right;\n",
              "    }\n",
              "</style>\n",
              "<table border=\"1\" class=\"dataframe\">\n",
              "  <thead>\n",
              "    <tr style=\"text-align: right;\">\n",
              "      <th></th>\n",
              "      <th>median_t_1</th>\n",
              "      <th>std_t_1</th>\n",
              "      <th>T_t_1</th>\n",
              "      <th>load_t_1</th>\n",
              "      <th>median_t_2</th>\n",
              "      <th>std_t_2</th>\n",
              "      <th>T_t_2</th>\n",
              "      <th>load_t_2</th>\n",
              "      <th>median_t_3</th>\n",
              "      <th>std_t_3</th>\n",
              "      <th>T_t_3</th>\n",
              "      <th>load_t_3</th>\n",
              "      <th>median_t_4</th>\n",
              "      <th>std_t_4</th>\n",
              "      <th>T_t_4</th>\n",
              "      <th>load_t_4</th>\n",
              "      <th>median_t_5</th>\n",
              "      <th>std_t_5</th>\n",
              "      <th>T_t_5</th>\n",
              "      <th>load_t_5</th>\n",
              "      <th>median_t_6</th>\n",
              "      <th>std_t_6</th>\n",
              "      <th>T_t_6</th>\n",
              "      <th>load_t_6</th>\n",
              "      <th>median_t_7</th>\n",
              "      <th>std_t_7</th>\n",
              "      <th>T_t_7</th>\n",
              "      <th>load_t_7</th>\n",
              "      <th>median_t_8</th>\n",
              "      <th>std_t_8</th>\n",
              "      <th>T_t_8</th>\n",
              "      <th>load_t_8</th>\n",
              "      <th>median_t_9</th>\n",
              "      <th>std_t_9</th>\n",
              "      <th>T_t_9</th>\n",
              "      <th>load_t_9</th>\n",
              "      <th>median_t_10</th>\n",
              "      <th>std_t_10</th>\n",
              "      <th>T_t_10</th>\n",
              "      <th>load_t_10</th>\n",
              "      <th>...</th>\n",
              "      <th>median_t_39</th>\n",
              "      <th>std_t_39</th>\n",
              "      <th>T_t_39</th>\n",
              "      <th>load_t_39</th>\n",
              "      <th>median_t_40</th>\n",
              "      <th>std_t_40</th>\n",
              "      <th>T_t_40</th>\n",
              "      <th>load_t_40</th>\n",
              "      <th>median_t_41</th>\n",
              "      <th>std_t_41</th>\n",
              "      <th>T_t_41</th>\n",
              "      <th>load_t_41</th>\n",
              "      <th>median_t_42</th>\n",
              "      <th>std_t_42</th>\n",
              "      <th>T_t_42</th>\n",
              "      <th>load_t_42</th>\n",
              "      <th>median_t_43</th>\n",
              "      <th>std_t_43</th>\n",
              "      <th>T_t_43</th>\n",
              "      <th>load_t_43</th>\n",
              "      <th>median_t_44</th>\n",
              "      <th>std_t_44</th>\n",
              "      <th>T_t_44</th>\n",
              "      <th>load_t_44</th>\n",
              "      <th>median_t_45</th>\n",
              "      <th>std_t_45</th>\n",
              "      <th>T_t_45</th>\n",
              "      <th>load_t_45</th>\n",
              "      <th>median_t_46</th>\n",
              "      <th>std_t_46</th>\n",
              "      <th>T_t_46</th>\n",
              "      <th>load_t_46</th>\n",
              "      <th>median_t_47</th>\n",
              "      <th>std_t_47</th>\n",
              "      <th>T_t_47</th>\n",
              "      <th>load_t_47</th>\n",
              "      <th>median_t_48</th>\n",
              "      <th>std_t_48</th>\n",
              "      <th>T_t_48</th>\n",
              "      <th>load_t_48</th>\n",
              "    </tr>\n",
              "  </thead>\n",
              "  <tbody>\n",
              "    <tr>\n",
              "      <th>2012-09-03 00:00:00</th>\n",
              "      <td>3750.5</td>\n",
              "      <td>593.535976</td>\n",
              "      <td>59.33</td>\n",
              "      <td>2719.0</td>\n",
              "      <td>3750.5</td>\n",
              "      <td>588.651369</td>\n",
              "      <td>69.67</td>\n",
              "      <td>2817.0</td>\n",
              "      <td>3750.5</td>\n",
              "      <td>584.145753</td>\n",
              "      <td>67.33</td>\n",
              "      <td>2664.0</td>\n",
              "      <td>3750.5</td>\n",
              "      <td>580.500794</td>\n",
              "      <td>69.33</td>\n",
              "      <td>2580.0</td>\n",
              "      <td>3750.5</td>\n",
              "      <td>577.913412</td>\n",
              "      <td>67.67</td>\n",
              "      <td>2537.0</td>\n",
              "      <td>3750.5</td>\n",
              "      <td>581.252095</td>\n",
              "      <td>65.0</td>\n",
              "      <td>2525.0</td>\n",
              "      <td>3750.5</td>\n",
              "      <td>593.236955</td>\n",
              "      <td>64.0</td>\n",
              "      <td>2595.0</td>\n",
              "      <td>3750.5</td>\n",
              "      <td>609.822420</td>\n",
              "      <td>63.0</td>\n",
              "      <td>2699.0</td>\n",
              "      <td>3750.5</td>\n",
              "      <td>618.163794</td>\n",
              "      <td>63.00</td>\n",
              "      <td>2953.0</td>\n",
              "      <td>3750.5</td>\n",
              "      <td>617.881578</td>\n",
              "      <td>66.33</td>\n",
              "      <td>3238.0</td>\n",
              "      <td>...</td>\n",
              "      <td>3187.0</td>\n",
              "      <td>469.920944</td>\n",
              "      <td>70.0</td>\n",
              "      <td>3246.0</td>\n",
              "      <td>3180.0</td>\n",
              "      <td>459.830496</td>\n",
              "      <td>71.0</td>\n",
              "      <td>3215.0</td>\n",
              "      <td>3175.5</td>\n",
              "      <td>449.490017</td>\n",
              "      <td>72.0</td>\n",
              "      <td>3206.0</td>\n",
              "      <td>3175.5</td>\n",
              "      <td>438.563928</td>\n",
              "      <td>73.0</td>\n",
              "      <td>3241.0</td>\n",
              "      <td>3175.5</td>\n",
              "      <td>428.455312</td>\n",
              "      <td>72.0</td>\n",
              "      <td>3291.0</td>\n",
              "      <td>3175.5</td>\n",
              "      <td>420.724427</td>\n",
              "      <td>70.00</td>\n",
              "      <td>3282.0</td>\n",
              "      <td>3175.5</td>\n",
              "      <td>413.409016</td>\n",
              "      <td>67.33</td>\n",
              "      <td>3311.0</td>\n",
              "      <td>3175.5</td>\n",
              "      <td>405.249179</td>\n",
              "      <td>64.67</td>\n",
              "      <td>3270.0</td>\n",
              "      <td>3107.5</td>\n",
              "      <td>400.451258</td>\n",
              "      <td>62.0</td>\n",
              "      <td>3070.0</td>\n",
              "      <td>3107.5</td>\n",
              "      <td>400.479656</td>\n",
              "      <td>60.00</td>\n",
              "      <td>2825.0</td>\n",
              "    </tr>\n",
              "    <tr>\n",
              "      <th>2012-09-03 01:00:00</th>\n",
              "      <td>3750.5</td>\n",
              "      <td>588.651369</td>\n",
              "      <td>69.67</td>\n",
              "      <td>2817.0</td>\n",
              "      <td>3750.5</td>\n",
              "      <td>584.145753</td>\n",
              "      <td>67.33</td>\n",
              "      <td>2664.0</td>\n",
              "      <td>3750.5</td>\n",
              "      <td>580.500794</td>\n",
              "      <td>69.33</td>\n",
              "      <td>2580.0</td>\n",
              "      <td>3750.5</td>\n",
              "      <td>577.913412</td>\n",
              "      <td>67.67</td>\n",
              "      <td>2537.0</td>\n",
              "      <td>3750.5</td>\n",
              "      <td>581.252095</td>\n",
              "      <td>65.00</td>\n",
              "      <td>2525.0</td>\n",
              "      <td>3750.5</td>\n",
              "      <td>593.236955</td>\n",
              "      <td>64.0</td>\n",
              "      <td>2595.0</td>\n",
              "      <td>3750.5</td>\n",
              "      <td>609.822420</td>\n",
              "      <td>63.0</td>\n",
              "      <td>2699.0</td>\n",
              "      <td>3750.5</td>\n",
              "      <td>618.163794</td>\n",
              "      <td>63.0</td>\n",
              "      <td>2953.0</td>\n",
              "      <td>3750.5</td>\n",
              "      <td>617.881578</td>\n",
              "      <td>66.33</td>\n",
              "      <td>3238.0</td>\n",
              "      <td>3559.0</td>\n",
              "      <td>612.212262</td>\n",
              "      <td>68.67</td>\n",
              "      <td>3424.0</td>\n",
              "      <td>...</td>\n",
              "      <td>3180.0</td>\n",
              "      <td>459.830496</td>\n",
              "      <td>71.0</td>\n",
              "      <td>3215.0</td>\n",
              "      <td>3175.5</td>\n",
              "      <td>449.490017</td>\n",
              "      <td>72.0</td>\n",
              "      <td>3206.0</td>\n",
              "      <td>3175.5</td>\n",
              "      <td>438.563928</td>\n",
              "      <td>73.0</td>\n",
              "      <td>3241.0</td>\n",
              "      <td>3175.5</td>\n",
              "      <td>428.455312</td>\n",
              "      <td>72.0</td>\n",
              "      <td>3291.0</td>\n",
              "      <td>3175.5</td>\n",
              "      <td>420.724427</td>\n",
              "      <td>70.0</td>\n",
              "      <td>3282.0</td>\n",
              "      <td>3175.5</td>\n",
              "      <td>413.409016</td>\n",
              "      <td>67.33</td>\n",
              "      <td>3311.0</td>\n",
              "      <td>3175.5</td>\n",
              "      <td>405.249179</td>\n",
              "      <td>64.67</td>\n",
              "      <td>3270.0</td>\n",
              "      <td>3107.5</td>\n",
              "      <td>400.451258</td>\n",
              "      <td>62.00</td>\n",
              "      <td>3070.0</td>\n",
              "      <td>3107.5</td>\n",
              "      <td>400.479656</td>\n",
              "      <td>60.0</td>\n",
              "      <td>2825.0</td>\n",
              "      <td>3107.5</td>\n",
              "      <td>398.969315</td>\n",
              "      <td>64.67</td>\n",
              "      <td>2630.0</td>\n",
              "    </tr>\n",
              "  </tbody>\n",
              "</table>\n",
              "<p>2 rows × 192 columns</p>\n",
              "</div>"
            ],
            "text/plain": [
              "                     median_t_1     std_t_1  ...  T_t_48  load_t_48\n",
              "2012-09-03 00:00:00      3750.5  593.535976  ...   60.00     2825.0\n",
              "2012-09-03 01:00:00      3750.5  588.651369  ...   64.67     2630.0\n",
              "\n",
              "[2 rows x 192 columns]"
            ]
          },
          "metadata": {
            "tags": []
          },
          "execution_count": 3370
        },
        {
          "output_type": "stream",
          "text": [
            "time: 122 ms (started: 2021-01-14 20:56:56 +00:00)\n"
          ],
          "name": "stdout"
        }
      ]
    },
    {
      "cell_type": "code",
      "metadata": {
        "colab": {
          "base_uri": "https://localhost:8080/"
        },
        "id": "BG9oqMvpLlQz",
        "outputId": "94d6b004-52ea-43cb-cec7-fbea62f771fc"
      },
      "source": [
        "dataY.head(2)"
      ],
      "execution_count": null,
      "outputs": [
        {
          "output_type": "execute_result",
          "data": {
            "text/plain": [
              "2012-09-03 00:00:00    2630.0\n",
              "2012-09-03 01:00:00    2403.0\n",
              "dtype: float64"
            ]
          },
          "metadata": {
            "tags": []
          },
          "execution_count": 3371
        },
        {
          "output_type": "stream",
          "text": [
            "time: 6.45 ms (started: 2021-01-14 20:56:56 +00:00)\n"
          ],
          "name": "stdout"
        }
      ]
    },
    {
      "cell_type": "code",
      "metadata": {
        "colab": {
          "base_uri": "https://localhost:8080/",
          "height": 368
        },
        "id": "0W6M7BAULlQz",
        "outputId": "cf5458b0-e045-4ab9-c147-6755ea95567f"
      },
      "source": [
        "#Rescaling the data\r\n",
        "featuresToScale = dataX.columns\r\n",
        "sX = pp.StandardScaler(copy=True)\r\n",
        "dataX.loc[:,featuresToScale] = sX.fit_transform(dataX[featuresToScale])\r\n",
        "#Looking into the statistics again:\r\n",
        "dataX.describe()"
      ],
      "execution_count": null,
      "outputs": [
        {
          "output_type": "execute_result",
          "data": {
            "text/html": [
              "<div>\n",
              "<style scoped>\n",
              "    .dataframe tbody tr th:only-of-type {\n",
              "        vertical-align: middle;\n",
              "    }\n",
              "\n",
              "    .dataframe tbody tr th {\n",
              "        vertical-align: top;\n",
              "    }\n",
              "\n",
              "    .dataframe thead th {\n",
              "        text-align: right;\n",
              "    }\n",
              "</style>\n",
              "<table border=\"1\" class=\"dataframe\">\n",
              "  <thead>\n",
              "    <tr style=\"text-align: right;\">\n",
              "      <th></th>\n",
              "      <th>median_t_1</th>\n",
              "      <th>std_t_1</th>\n",
              "      <th>T_t_1</th>\n",
              "      <th>load_t_1</th>\n",
              "      <th>median_t_2</th>\n",
              "      <th>std_t_2</th>\n",
              "      <th>T_t_2</th>\n",
              "      <th>load_t_2</th>\n",
              "      <th>median_t_3</th>\n",
              "      <th>std_t_3</th>\n",
              "      <th>T_t_3</th>\n",
              "      <th>load_t_3</th>\n",
              "      <th>median_t_4</th>\n",
              "      <th>std_t_4</th>\n",
              "      <th>T_t_4</th>\n",
              "      <th>load_t_4</th>\n",
              "      <th>median_t_5</th>\n",
              "      <th>std_t_5</th>\n",
              "      <th>T_t_5</th>\n",
              "      <th>load_t_5</th>\n",
              "      <th>median_t_6</th>\n",
              "      <th>std_t_6</th>\n",
              "      <th>T_t_6</th>\n",
              "      <th>load_t_6</th>\n",
              "      <th>median_t_7</th>\n",
              "      <th>std_t_7</th>\n",
              "      <th>T_t_7</th>\n",
              "      <th>load_t_7</th>\n",
              "      <th>median_t_8</th>\n",
              "      <th>std_t_8</th>\n",
              "      <th>T_t_8</th>\n",
              "      <th>load_t_8</th>\n",
              "      <th>median_t_9</th>\n",
              "      <th>std_t_9</th>\n",
              "      <th>T_t_9</th>\n",
              "      <th>load_t_9</th>\n",
              "      <th>median_t_10</th>\n",
              "      <th>std_t_10</th>\n",
              "      <th>T_t_10</th>\n",
              "      <th>load_t_10</th>\n",
              "      <th>...</th>\n",
              "      <th>median_t_39</th>\n",
              "      <th>std_t_39</th>\n",
              "      <th>T_t_39</th>\n",
              "      <th>load_t_39</th>\n",
              "      <th>median_t_40</th>\n",
              "      <th>std_t_40</th>\n",
              "      <th>T_t_40</th>\n",
              "      <th>load_t_40</th>\n",
              "      <th>median_t_41</th>\n",
              "      <th>std_t_41</th>\n",
              "      <th>T_t_41</th>\n",
              "      <th>load_t_41</th>\n",
              "      <th>median_t_42</th>\n",
              "      <th>std_t_42</th>\n",
              "      <th>T_t_42</th>\n",
              "      <th>load_t_42</th>\n",
              "      <th>median_t_43</th>\n",
              "      <th>std_t_43</th>\n",
              "      <th>T_t_43</th>\n",
              "      <th>load_t_43</th>\n",
              "      <th>median_t_44</th>\n",
              "      <th>std_t_44</th>\n",
              "      <th>T_t_44</th>\n",
              "      <th>load_t_44</th>\n",
              "      <th>median_t_45</th>\n",
              "      <th>std_t_45</th>\n",
              "      <th>T_t_45</th>\n",
              "      <th>load_t_45</th>\n",
              "      <th>median_t_46</th>\n",
              "      <th>std_t_46</th>\n",
              "      <th>T_t_46</th>\n",
              "      <th>load_t_46</th>\n",
              "      <th>median_t_47</th>\n",
              "      <th>std_t_47</th>\n",
              "      <th>T_t_47</th>\n",
              "      <th>load_t_47</th>\n",
              "      <th>median_t_48</th>\n",
              "      <th>std_t_48</th>\n",
              "      <th>T_t_48</th>\n",
              "      <th>load_t_48</th>\n",
              "    </tr>\n",
              "  </thead>\n",
              "  <tbody>\n",
              "    <tr>\n",
              "      <th>count</th>\n",
              "      <td>2.037600e+04</td>\n",
              "      <td>2.037600e+04</td>\n",
              "      <td>2.037600e+04</td>\n",
              "      <td>2.037600e+04</td>\n",
              "      <td>2.037600e+04</td>\n",
              "      <td>2.037600e+04</td>\n",
              "      <td>2.037600e+04</td>\n",
              "      <td>2.037600e+04</td>\n",
              "      <td>2.037600e+04</td>\n",
              "      <td>2.037600e+04</td>\n",
              "      <td>2.037600e+04</td>\n",
              "      <td>2.037600e+04</td>\n",
              "      <td>2.037600e+04</td>\n",
              "      <td>2.037600e+04</td>\n",
              "      <td>2.037600e+04</td>\n",
              "      <td>2.037600e+04</td>\n",
              "      <td>2.037600e+04</td>\n",
              "      <td>2.037600e+04</td>\n",
              "      <td>2.037600e+04</td>\n",
              "      <td>2.037600e+04</td>\n",
              "      <td>2.037600e+04</td>\n",
              "      <td>2.037600e+04</td>\n",
              "      <td>2.037600e+04</td>\n",
              "      <td>2.037600e+04</td>\n",
              "      <td>2.037600e+04</td>\n",
              "      <td>2.037600e+04</td>\n",
              "      <td>2.037600e+04</td>\n",
              "      <td>2.037600e+04</td>\n",
              "      <td>2.037600e+04</td>\n",
              "      <td>2.037600e+04</td>\n",
              "      <td>2.037600e+04</td>\n",
              "      <td>2.037600e+04</td>\n",
              "      <td>2.037600e+04</td>\n",
              "      <td>2.037600e+04</td>\n",
              "      <td>2.037600e+04</td>\n",
              "      <td>2.037600e+04</td>\n",
              "      <td>2.037600e+04</td>\n",
              "      <td>2.037600e+04</td>\n",
              "      <td>2.037600e+04</td>\n",
              "      <td>2.037600e+04</td>\n",
              "      <td>...</td>\n",
              "      <td>2.037600e+04</td>\n",
              "      <td>2.037600e+04</td>\n",
              "      <td>2.037600e+04</td>\n",
              "      <td>2.037600e+04</td>\n",
              "      <td>2.037600e+04</td>\n",
              "      <td>2.037600e+04</td>\n",
              "      <td>2.037600e+04</td>\n",
              "      <td>2.037600e+04</td>\n",
              "      <td>2.037600e+04</td>\n",
              "      <td>2.037600e+04</td>\n",
              "      <td>2.037600e+04</td>\n",
              "      <td>2.037600e+04</td>\n",
              "      <td>2.037600e+04</td>\n",
              "      <td>2.037600e+04</td>\n",
              "      <td>2.037600e+04</td>\n",
              "      <td>2.037600e+04</td>\n",
              "      <td>2.037600e+04</td>\n",
              "      <td>2.037600e+04</td>\n",
              "      <td>2.037600e+04</td>\n",
              "      <td>2.037600e+04</td>\n",
              "      <td>2.037600e+04</td>\n",
              "      <td>2.037600e+04</td>\n",
              "      <td>2.037600e+04</td>\n",
              "      <td>2.037600e+04</td>\n",
              "      <td>2.037600e+04</td>\n",
              "      <td>2.037600e+04</td>\n",
              "      <td>2.037600e+04</td>\n",
              "      <td>2.037600e+04</td>\n",
              "      <td>2.037600e+04</td>\n",
              "      <td>2.037600e+04</td>\n",
              "      <td>2.037600e+04</td>\n",
              "      <td>2.037600e+04</td>\n",
              "      <td>2.037600e+04</td>\n",
              "      <td>2.037600e+04</td>\n",
              "      <td>2.037600e+04</td>\n",
              "      <td>2.037600e+04</td>\n",
              "      <td>2.037600e+04</td>\n",
              "      <td>2.037600e+04</td>\n",
              "      <td>2.037600e+04</td>\n",
              "      <td>2.037600e+04</td>\n",
              "    </tr>\n",
              "    <tr>\n",
              "      <th>mean</th>\n",
              "      <td>1.500872e-15</td>\n",
              "      <td>-2.050306e-15</td>\n",
              "      <td>-3.450191e-15</td>\n",
              "      <td>-5.498263e-17</td>\n",
              "      <td>-1.227075e-15</td>\n",
              "      <td>-2.007215e-15</td>\n",
              "      <td>-3.118018e-15</td>\n",
              "      <td>1.122769e-16</td>\n",
              "      <td>-6.544518e-16</td>\n",
              "      <td>-1.073744e-15</td>\n",
              "      <td>-3.743445e-15</td>\n",
              "      <td>-1.440522e-16</td>\n",
              "      <td>-4.446559e-16</td>\n",
              "      <td>-1.999599e-15</td>\n",
              "      <td>-2.628361e-15</td>\n",
              "      <td>-6.185995e-16</td>\n",
              "      <td>1.692327e-15</td>\n",
              "      <td>-1.015365e-15</td>\n",
              "      <td>-1.785151e-15</td>\n",
              "      <td>3.081337e-16</td>\n",
              "      <td>4.637480e-16</td>\n",
              "      <td>-1.319722e-15</td>\n",
              "      <td>-2.258113e-15</td>\n",
              "      <td>-3.916184e-16</td>\n",
              "      <td>-5.138105e-17</td>\n",
              "      <td>-6.193978e-16</td>\n",
              "      <td>-5.176044e-15</td>\n",
              "      <td>-3.507751e-16</td>\n",
              "      <td>1.589271e-16</td>\n",
              "      <td>-1.212157e-15</td>\n",
              "      <td>-4.603268e-15</td>\n",
              "      <td>9.497049e-17</td>\n",
              "      <td>-6.148018e-16</td>\n",
              "      <td>-2.285656e-15</td>\n",
              "      <td>-4.540499e-15</td>\n",
              "      <td>-2.224267e-16</td>\n",
              "      <td>-2.443352e-16</td>\n",
              "      <td>-1.845904e-15</td>\n",
              "      <td>-2.800611e-15</td>\n",
              "      <td>-1.108044e-16</td>\n",
              "      <td>...</td>\n",
              "      <td>1.836483e-15</td>\n",
              "      <td>-3.036893e-15</td>\n",
              "      <td>-2.618483e-15</td>\n",
              "      <td>-3.135606e-16</td>\n",
              "      <td>-1.165451e-15</td>\n",
              "      <td>-3.850086e-15</td>\n",
              "      <td>-8.495473e-16</td>\n",
              "      <td>1.961852e-16</td>\n",
              "      <td>4.611981e-16</td>\n",
              "      <td>-3.668499e-15</td>\n",
              "      <td>-2.043745e-15</td>\n",
              "      <td>-3.799582e-16</td>\n",
              "      <td>-9.498248e-16</td>\n",
              "      <td>-2.126721e-15</td>\n",
              "      <td>-2.265016e-15</td>\n",
              "      <td>3.178542e-16</td>\n",
              "      <td>-2.856634e-16</td>\n",
              "      <td>-2.763205e-15</td>\n",
              "      <td>-2.340339e-15</td>\n",
              "      <td>-1.172229e-16</td>\n",
              "      <td>-4.266316e-16</td>\n",
              "      <td>-2.955894e-15</td>\n",
              "      <td>-1.059238e-14</td>\n",
              "      <td>-1.580117e-17</td>\n",
              "      <td>1.102726e-15</td>\n",
              "      <td>-3.271577e-15</td>\n",
              "      <td>-4.298387e-15</td>\n",
              "      <td>-3.336772e-16</td>\n",
              "      <td>-3.642987e-16</td>\n",
              "      <td>-2.799389e-15</td>\n",
              "      <td>-3.258659e-15</td>\n",
              "      <td>-1.997159e-16</td>\n",
              "      <td>-5.199348e-16</td>\n",
              "      <td>-3.341923e-15</td>\n",
              "      <td>-3.707925e-15</td>\n",
              "      <td>3.102478e-17</td>\n",
              "      <td>1.202338e-15</td>\n",
              "      <td>-2.720288e-15</td>\n",
              "      <td>-4.259636e-15</td>\n",
              "      <td>2.427496e-16</td>\n",
              "    </tr>\n",
              "    <tr>\n",
              "      <th>std</th>\n",
              "      <td>1.000025e+00</td>\n",
              "      <td>1.000025e+00</td>\n",
              "      <td>1.000025e+00</td>\n",
              "      <td>1.000025e+00</td>\n",
              "      <td>1.000025e+00</td>\n",
              "      <td>1.000025e+00</td>\n",
              "      <td>1.000025e+00</td>\n",
              "      <td>1.000025e+00</td>\n",
              "      <td>1.000025e+00</td>\n",
              "      <td>1.000025e+00</td>\n",
              "      <td>1.000025e+00</td>\n",
              "      <td>1.000025e+00</td>\n",
              "      <td>1.000025e+00</td>\n",
              "      <td>1.000025e+00</td>\n",
              "      <td>1.000025e+00</td>\n",
              "      <td>1.000025e+00</td>\n",
              "      <td>1.000025e+00</td>\n",
              "      <td>1.000025e+00</td>\n",
              "      <td>1.000025e+00</td>\n",
              "      <td>1.000025e+00</td>\n",
              "      <td>1.000025e+00</td>\n",
              "      <td>1.000025e+00</td>\n",
              "      <td>1.000025e+00</td>\n",
              "      <td>1.000025e+00</td>\n",
              "      <td>1.000025e+00</td>\n",
              "      <td>1.000025e+00</td>\n",
              "      <td>1.000025e+00</td>\n",
              "      <td>1.000025e+00</td>\n",
              "      <td>1.000025e+00</td>\n",
              "      <td>1.000025e+00</td>\n",
              "      <td>1.000025e+00</td>\n",
              "      <td>1.000025e+00</td>\n",
              "      <td>1.000025e+00</td>\n",
              "      <td>1.000025e+00</td>\n",
              "      <td>1.000025e+00</td>\n",
              "      <td>1.000025e+00</td>\n",
              "      <td>1.000025e+00</td>\n",
              "      <td>1.000025e+00</td>\n",
              "      <td>1.000025e+00</td>\n",
              "      <td>1.000025e+00</td>\n",
              "      <td>...</td>\n",
              "      <td>1.000025e+00</td>\n",
              "      <td>1.000025e+00</td>\n",
              "      <td>1.000025e+00</td>\n",
              "      <td>1.000025e+00</td>\n",
              "      <td>1.000025e+00</td>\n",
              "      <td>1.000025e+00</td>\n",
              "      <td>1.000025e+00</td>\n",
              "      <td>1.000025e+00</td>\n",
              "      <td>1.000025e+00</td>\n",
              "      <td>1.000025e+00</td>\n",
              "      <td>1.000025e+00</td>\n",
              "      <td>1.000025e+00</td>\n",
              "      <td>1.000025e+00</td>\n",
              "      <td>1.000025e+00</td>\n",
              "      <td>1.000025e+00</td>\n",
              "      <td>1.000025e+00</td>\n",
              "      <td>1.000025e+00</td>\n",
              "      <td>1.000025e+00</td>\n",
              "      <td>1.000025e+00</td>\n",
              "      <td>1.000025e+00</td>\n",
              "      <td>1.000025e+00</td>\n",
              "      <td>1.000025e+00</td>\n",
              "      <td>1.000025e+00</td>\n",
              "      <td>1.000025e+00</td>\n",
              "      <td>1.000025e+00</td>\n",
              "      <td>1.000025e+00</td>\n",
              "      <td>1.000025e+00</td>\n",
              "      <td>1.000025e+00</td>\n",
              "      <td>1.000025e+00</td>\n",
              "      <td>1.000025e+00</td>\n",
              "      <td>1.000025e+00</td>\n",
              "      <td>1.000025e+00</td>\n",
              "      <td>1.000025e+00</td>\n",
              "      <td>1.000025e+00</td>\n",
              "      <td>1.000025e+00</td>\n",
              "      <td>1.000025e+00</td>\n",
              "      <td>1.000025e+00</td>\n",
              "      <td>1.000025e+00</td>\n",
              "      <td>1.000025e+00</td>\n",
              "      <td>1.000025e+00</td>\n",
              "    </tr>\n",
              "    <tr>\n",
              "      <th>min</th>\n",
              "      <td>-2.355880e+00</td>\n",
              "      <td>-2.958309e+00</td>\n",
              "      <td>-3.153453e+00</td>\n",
              "      <td>-2.385987e+00</td>\n",
              "      <td>-2.355820e+00</td>\n",
              "      <td>-2.958401e+00</td>\n",
              "      <td>-3.153275e+00</td>\n",
              "      <td>-2.386093e+00</td>\n",
              "      <td>-2.355760e+00</td>\n",
              "      <td>-2.958481e+00</td>\n",
              "      <td>-3.153273e+00</td>\n",
              "      <td>-2.386049e+00</td>\n",
              "      <td>-2.355700e+00</td>\n",
              "      <td>-2.958552e+00</td>\n",
              "      <td>-3.153254e+00</td>\n",
              "      <td>-2.386024e+00</td>\n",
              "      <td>-2.355639e+00</td>\n",
              "      <td>-2.958610e+00</td>\n",
              "      <td>-3.153250e+00</td>\n",
              "      <td>-2.386018e+00</td>\n",
              "      <td>-2.355579e+00</td>\n",
              "      <td>-2.958652e+00</td>\n",
              "      <td>-3.153222e+00</td>\n",
              "      <td>-2.386038e+00</td>\n",
              "      <td>-2.355519e+00</td>\n",
              "      <td>-2.958677e+00</td>\n",
              "      <td>-3.153171e+00</td>\n",
              "      <td>-2.386098e+00</td>\n",
              "      <td>-2.355459e+00</td>\n",
              "      <td>-2.958687e+00</td>\n",
              "      <td>-3.153095e+00</td>\n",
              "      <td>-2.386199e+00</td>\n",
              "      <td>-2.355404e+00</td>\n",
              "      <td>-2.958696e+00</td>\n",
              "      <td>-3.152997e+00</td>\n",
              "      <td>-2.386324e+00</td>\n",
              "      <td>-2.355355e+00</td>\n",
              "      <td>-2.958718e+00</td>\n",
              "      <td>-3.152903e+00</td>\n",
              "      <td>-2.386390e+00</td>\n",
              "      <td>...</td>\n",
              "      <td>-2.356443e+00</td>\n",
              "      <td>-2.959137e+00</td>\n",
              "      <td>-3.148845e+00</td>\n",
              "      <td>-2.387750e+00</td>\n",
              "      <td>-2.356557e+00</td>\n",
              "      <td>-2.959132e+00</td>\n",
              "      <td>-3.148718e+00</td>\n",
              "      <td>-2.387746e+00</td>\n",
              "      <td>-2.356666e+00</td>\n",
              "      <td>-2.959137e+00</td>\n",
              "      <td>-3.148610e+00</td>\n",
              "      <td>-2.387746e+00</td>\n",
              "      <td>-2.356770e+00</td>\n",
              "      <td>-2.959156e+00</td>\n",
              "      <td>-3.148515e+00</td>\n",
              "      <td>-2.387738e+00</td>\n",
              "      <td>-2.356873e+00</td>\n",
              "      <td>-2.959193e+00</td>\n",
              "      <td>-3.148411e+00</td>\n",
              "      <td>-2.387679e+00</td>\n",
              "      <td>-2.356976e+00</td>\n",
              "      <td>-2.959250e+00</td>\n",
              "      <td>-3.148273e+00</td>\n",
              "      <td>-2.387548e+00</td>\n",
              "      <td>-2.357080e+00</td>\n",
              "      <td>-2.959323e+00</td>\n",
              "      <td>-3.148092e+00</td>\n",
              "      <td>-2.387430e+00</td>\n",
              "      <td>-2.357183e+00</td>\n",
              "      <td>-2.959413e+00</td>\n",
              "      <td>-3.147893e+00</td>\n",
              "      <td>-2.387341e+00</td>\n",
              "      <td>-2.357287e+00</td>\n",
              "      <td>-2.959521e+00</td>\n",
              "      <td>-3.147675e+00</td>\n",
              "      <td>-2.387288e+00</td>\n",
              "      <td>-2.357430e+00</td>\n",
              "      <td>-2.959641e+00</td>\n",
              "      <td>-3.147327e+00</td>\n",
              "      <td>-2.387307e+00</td>\n",
              "    </tr>\n",
              "    <tr>\n",
              "      <th>25%</th>\n",
              "      <td>-6.224290e-01</td>\n",
              "      <td>-6.242725e-01</td>\n",
              "      <td>-7.685031e-01</td>\n",
              "      <td>-7.777970e-01</td>\n",
              "      <td>-6.223606e-01</td>\n",
              "      <td>-6.242466e-01</td>\n",
              "      <td>-7.683892e-01</td>\n",
              "      <td>-7.778604e-01</td>\n",
              "      <td>-6.222921e-01</td>\n",
              "      <td>-6.242185e-01</td>\n",
              "      <td>-7.683229e-01</td>\n",
              "      <td>-7.778374e-01</td>\n",
              "      <td>-6.222237e-01</td>\n",
              "      <td>-6.241863e-01</td>\n",
              "      <td>-7.682561e-01</td>\n",
              "      <td>-7.778248e-01</td>\n",
              "      <td>-6.221552e-01</td>\n",
              "      <td>-6.241480e-01</td>\n",
              "      <td>-7.681899e-01</td>\n",
              "      <td>-7.778218e-01</td>\n",
              "      <td>-6.225023e-01</td>\n",
              "      <td>-6.241004e-01</td>\n",
              "      <td>-7.681178e-01</td>\n",
              "      <td>-7.778317e-01</td>\n",
              "      <td>-6.236804e-01</td>\n",
              "      <td>-6.240384e-01</td>\n",
              "      <td>-7.680434e-01</td>\n",
              "      <td>-7.778616e-01</td>\n",
              "      <td>-6.236119e-01</td>\n",
              "      <td>-6.240052e-01</td>\n",
              "      <td>-7.679601e-01</td>\n",
              "      <td>-7.779149e-01</td>\n",
              "      <td>-6.235460e-01</td>\n",
              "      <td>-6.239102e-01</td>\n",
              "      <td>-7.678705e-01</td>\n",
              "      <td>-7.779930e-01</td>\n",
              "      <td>-6.234841e-01</td>\n",
              "      <td>-6.238160e-01</td>\n",
              "      <td>-7.677823e-01</td>\n",
              "      <td>-7.780509e-01</td>\n",
              "      <td>...</td>\n",
              "      <td>-6.230298e-01</td>\n",
              "      <td>-6.236917e-01</td>\n",
              "      <td>-7.644306e-01</td>\n",
              "      <td>-7.777457e-01</td>\n",
              "      <td>-6.231334e-01</td>\n",
              "      <td>-6.236875e-01</td>\n",
              "      <td>-7.643078e-01</td>\n",
              "      <td>-7.777816e-01</td>\n",
              "      <td>-6.232413e-01</td>\n",
              "      <td>-6.236912e-01</td>\n",
              "      <td>-7.641899e-01</td>\n",
              "      <td>-7.778205e-01</td>\n",
              "      <td>-6.233520e-01</td>\n",
              "      <td>-6.237042e-01</td>\n",
              "      <td>-7.640736e-01</td>\n",
              "      <td>-7.778613e-01</td>\n",
              "      <td>-6.234626e-01</td>\n",
              "      <td>-6.237285e-01</td>\n",
              "      <td>-7.639509e-01</td>\n",
              "      <td>-7.778977e-01</td>\n",
              "      <td>-6.235733e-01</td>\n",
              "      <td>-6.237641e-01</td>\n",
              "      <td>-7.638178e-01</td>\n",
              "      <td>-7.779217e-01</td>\n",
              "      <td>-6.224375e-01</td>\n",
              "      <td>-6.237015e-01</td>\n",
              "      <td>-7.636742e-01</td>\n",
              "      <td>-7.779483e-01</td>\n",
              "      <td>-6.221327e-01</td>\n",
              "      <td>-6.237096e-01</td>\n",
              "      <td>-7.635315e-01</td>\n",
              "      <td>-7.779760e-01</td>\n",
              "      <td>-6.222434e-01</td>\n",
              "      <td>-6.237019e-01</td>\n",
              "      <td>-7.633885e-01</td>\n",
              "      <td>-7.780103e-01</td>\n",
              "      <td>-6.223742e-01</td>\n",
              "      <td>-6.236980e-01</td>\n",
              "      <td>-7.632052e-01</td>\n",
              "      <td>-7.780655e-01</td>\n",
              "    </tr>\n",
              "    <tr>\n",
              "      <th>50%</th>\n",
              "      <td>-1.288194e-01</td>\n",
              "      <td>-9.989587e-02</td>\n",
              "      <td>3.205064e-02</td>\n",
              "      <td>1.232201e-01</td>\n",
              "      <td>-1.287485e-01</td>\n",
              "      <td>-9.984365e-02</td>\n",
              "      <td>3.214288e-02</td>\n",
              "      <td>1.231807e-01</td>\n",
              "      <td>-1.286777e-01</td>\n",
              "      <td>-9.979099e-02</td>\n",
              "      <td>3.223089e-02</td>\n",
              "      <td>1.231920e-01</td>\n",
              "      <td>-1.294379e-01</td>\n",
              "      <td>-9.973584e-02</td>\n",
              "      <td>3.231354e-02</td>\n",
              "      <td>1.231975e-01</td>\n",
              "      <td>-1.301981e-01</td>\n",
              "      <td>-9.967583e-02</td>\n",
              "      <td>3.240066e-02</td>\n",
              "      <td>1.231987e-01</td>\n",
              "      <td>-1.301272e-01</td>\n",
              "      <td>-9.971314e-02</td>\n",
              "      <td>3.248756e-02</td>\n",
              "      <td>1.231947e-01</td>\n",
              "      <td>-1.300564e-01</td>\n",
              "      <td>-9.969021e-02</td>\n",
              "      <td>3.256989e-02</td>\n",
              "      <td>1.231818e-01</td>\n",
              "      <td>-1.308166e-01</td>\n",
              "      <td>-9.989199e-02</td>\n",
              "      <td>3.265541e-02</td>\n",
              "      <td>1.231551e-01</td>\n",
              "      <td>-1.315788e-01</td>\n",
              "      <td>-1.001690e-01</td>\n",
              "      <td>3.274245e-02</td>\n",
              "      <td>1.231035e-01</td>\n",
              "      <td>-1.315131e-01</td>\n",
              "      <td>-1.002242e-01</td>\n",
              "      <td>3.282867e-02</td>\n",
              "      <td>1.230496e-01</td>\n",
              "      <td>...</td>\n",
              "      <td>-1.294309e-01</td>\n",
              "      <td>-1.006453e-01</td>\n",
              "      <td>3.594325e-02</td>\n",
              "      <td>1.214874e-01</td>\n",
              "      <td>-1.295316e-01</td>\n",
              "      <td>-1.006735e-01</td>\n",
              "      <td>3.606445e-02</td>\n",
              "      <td>1.214294e-01</td>\n",
              "      <td>-1.296390e-01</td>\n",
              "      <td>-1.006769e-01</td>\n",
              "      <td>3.618589e-02</td>\n",
              "      <td>1.222662e-01</td>\n",
              "      <td>-1.289207e-01</td>\n",
              "      <td>-1.006885e-01</td>\n",
              "      <td>3.630920e-02</td>\n",
              "      <td>1.230955e-01</td>\n",
              "      <td>-1.282025e-01</td>\n",
              "      <td>-1.006777e-01</td>\n",
              "      <td>3.643845e-02</td>\n",
              "      <td>1.230054e-01</td>\n",
              "      <td>-1.283153e-01</td>\n",
              "      <td>-1.007025e-01</td>\n",
              "      <td>3.656991e-02</td>\n",
              "      <td>1.228947e-01</td>\n",
              "      <td>-1.284280e-01</td>\n",
              "      <td>-1.006666e-01</td>\n",
              "      <td>3.670085e-02</td>\n",
              "      <td>1.227876e-01</td>\n",
              "      <td>-1.285408e-01</td>\n",
              "      <td>-1.005314e-01</td>\n",
              "      <td>3.682467e-02</td>\n",
              "      <td>1.226942e-01</td>\n",
              "      <td>-1.286535e-01</td>\n",
              "      <td>-1.004424e-01</td>\n",
              "      <td>3.694223e-02</td>\n",
              "      <td>1.226109e-01</td>\n",
              "      <td>-1.287808e-01</td>\n",
              "      <td>-1.004188e-01</td>\n",
              "      <td>3.707034e-02</td>\n",
              "      <td>1.225355e-01</td>\n",
              "    </tr>\n",
              "    <tr>\n",
              "      <th>75%</th>\n",
              "      <td>6.307080e-01</td>\n",
              "      <td>4.340683e-01</td>\n",
              "      <td>7.981382e-01</td>\n",
              "      <td>6.903942e-01</td>\n",
              "      <td>6.307825e-01</td>\n",
              "      <td>4.339395e-01</td>\n",
              "      <td>7.982098e-01</td>\n",
              "      <td>6.903700e-01</td>\n",
              "      <td>6.308570e-01</td>\n",
              "      <td>4.339409e-01</td>\n",
              "      <td>7.983186e-01</td>\n",
              "      <td>6.903738e-01</td>\n",
              "      <td>6.309314e-01</td>\n",
              "      <td>4.339676e-01</td>\n",
              "      <td>7.984164e-01</td>\n",
              "      <td>6.903748e-01</td>\n",
              "      <td>6.310059e-01</td>\n",
              "      <td>4.340227e-01</td>\n",
              "      <td>7.985235e-01</td>\n",
              "      <td>6.903750e-01</td>\n",
              "      <td>6.310804e-01</td>\n",
              "      <td>4.341037e-01</td>\n",
              "      <td>7.986246e-01</td>\n",
              "      <td>6.903746e-01</td>\n",
              "      <td>6.311550e-01</td>\n",
              "      <td>4.340966e-01</td>\n",
              "      <td>7.987145e-01</td>\n",
              "      <td>6.903725e-01</td>\n",
              "      <td>6.312295e-01</td>\n",
              "      <td>4.341526e-01</td>\n",
              "      <td>7.988022e-01</td>\n",
              "      <td>6.903625e-01</td>\n",
              "      <td>6.313029e-01</td>\n",
              "      <td>4.342442e-01</td>\n",
              "      <td>7.988867e-01</td>\n",
              "      <td>6.903275e-01</td>\n",
              "      <td>6.313745e-01</td>\n",
              "      <td>4.343047e-01</td>\n",
              "      <td>7.989711e-01</td>\n",
              "      <td>6.902762e-01</td>\n",
              "      <td>...</td>\n",
              "      <td>6.317418e-01</td>\n",
              "      <td>4.345491e-01</td>\n",
              "      <td>8.018587e-01</td>\n",
              "      <td>6.922581e-01</td>\n",
              "      <td>6.316457e-01</td>\n",
              "      <td>4.345528e-01</td>\n",
              "      <td>8.019784e-01</td>\n",
              "      <td>6.921860e-01</td>\n",
              "      <td>6.315390e-01</td>\n",
              "      <td>4.345498e-01</td>\n",
              "      <td>8.021033e-01</td>\n",
              "      <td>6.921117e-01</td>\n",
              "      <td>6.314231e-01</td>\n",
              "      <td>4.345396e-01</td>\n",
              "      <td>8.022333e-01</td>\n",
              "      <td>6.920264e-01</td>\n",
              "      <td>6.313071e-01</td>\n",
              "      <td>4.345212e-01</td>\n",
              "      <td>8.023687e-01</td>\n",
              "      <td>6.919023e-01</td>\n",
              "      <td>6.311912e-01</td>\n",
              "      <td>4.344951e-01</td>\n",
              "      <td>8.024986e-01</td>\n",
              "      <td>6.917369e-01</td>\n",
              "      <td>6.310752e-01</td>\n",
              "      <td>4.344630e-01</td>\n",
              "      <td>8.026175e-01</td>\n",
              "      <td>6.915789e-01</td>\n",
              "      <td>6.309593e-01</td>\n",
              "      <td>4.344252e-01</td>\n",
              "      <td>8.027232e-01</td>\n",
              "      <td>6.914441e-01</td>\n",
              "      <td>6.308434e-01</td>\n",
              "      <td>4.343817e-01</td>\n",
              "      <td>8.028165e-01</td>\n",
              "      <td>6.913299e-01</td>\n",
              "      <td>6.307215e-01</td>\n",
              "      <td>4.343356e-01</td>\n",
              "      <td>8.028917e-01</td>\n",
              "      <td>6.912417e-01</td>\n",
              "    </tr>\n",
              "    <tr>\n",
              "      <th>max</th>\n",
              "      <td>4.194005e+00</td>\n",
              "      <td>4.584623e+00</td>\n",
              "      <td>2.521444e+00</td>\n",
              "      <td>3.438317e+00</td>\n",
              "      <td>4.194096e+00</td>\n",
              "      <td>4.584911e+00</td>\n",
              "      <td>2.521469e+00</td>\n",
              "      <td>3.438366e+00</td>\n",
              "      <td>4.194188e+00</td>\n",
              "      <td>4.585182e+00</td>\n",
              "      <td>2.521624e+00</td>\n",
              "      <td>3.438334e+00</td>\n",
              "      <td>4.194280e+00</td>\n",
              "      <td>4.585443e+00</td>\n",
              "      <td>2.521756e+00</td>\n",
              "      <td>3.438313e+00</td>\n",
              "      <td>4.194371e+00</td>\n",
              "      <td>4.585696e+00</td>\n",
              "      <td>2.521908e+00</td>\n",
              "      <td>3.438308e+00</td>\n",
              "      <td>4.194463e+00</td>\n",
              "      <td>4.585944e+00</td>\n",
              "      <td>2.522041e+00</td>\n",
              "      <td>3.438325e+00</td>\n",
              "      <td>4.194555e+00</td>\n",
              "      <td>4.586201e+00</td>\n",
              "      <td>2.522148e+00</td>\n",
              "      <td>3.438375e+00</td>\n",
              "      <td>4.194647e+00</td>\n",
              "      <td>4.586489e+00</td>\n",
              "      <td>2.522241e+00</td>\n",
              "      <td>3.438446e+00</td>\n",
              "      <td>4.194741e+00</td>\n",
              "      <td>4.586828e+00</td>\n",
              "      <td>2.522320e+00</td>\n",
              "      <td>3.438492e+00</td>\n",
              "      <td>4.194841e+00</td>\n",
              "      <td>4.587208e+00</td>\n",
              "      <td>2.522400e+00</td>\n",
              "      <td>3.438453e+00</td>\n",
              "      <td>...</td>\n",
              "      <td>4.193299e+00</td>\n",
              "      <td>4.588348e+00</td>\n",
              "      <td>2.524777e+00</td>\n",
              "      <td>3.436624e+00</td>\n",
              "      <td>4.193224e+00</td>\n",
              "      <td>4.588350e+00</td>\n",
              "      <td>2.524893e+00</td>\n",
              "      <td>3.436485e+00</td>\n",
              "      <td>4.193121e+00</td>\n",
              "      <td>4.588349e+00</td>\n",
              "      <td>2.525026e+00</td>\n",
              "      <td>3.436344e+00</td>\n",
              "      <td>4.192990e+00</td>\n",
              "      <td>4.588349e+00</td>\n",
              "      <td>2.525171e+00</td>\n",
              "      <td>3.436176e+00</td>\n",
              "      <td>4.192859e+00</td>\n",
              "      <td>4.588354e+00</td>\n",
              "      <td>2.525320e+00</td>\n",
              "      <td>3.435888e+00</td>\n",
              "      <td>4.192728e+00</td>\n",
              "      <td>4.588366e+00</td>\n",
              "      <td>2.525447e+00</td>\n",
              "      <td>3.435459e+00</td>\n",
              "      <td>4.192597e+00</td>\n",
              "      <td>4.588384e+00</td>\n",
              "      <td>2.525538e+00</td>\n",
              "      <td>3.435055e+00</td>\n",
              "      <td>4.192466e+00</td>\n",
              "      <td>4.588409e+00</td>\n",
              "      <td>2.525603e+00</td>\n",
              "      <td>3.434720e+00</td>\n",
              "      <td>4.192336e+00</td>\n",
              "      <td>4.588446e+00</td>\n",
              "      <td>2.525642e+00</td>\n",
              "      <td>3.434457e+00</td>\n",
              "      <td>4.192239e+00</td>\n",
              "      <td>4.588490e+00</td>\n",
              "      <td>2.525598e+00</td>\n",
              "      <td>3.434307e+00</td>\n",
              "    </tr>\n",
              "  </tbody>\n",
              "</table>\n",
              "<p>8 rows × 192 columns</p>\n",
              "</div>"
            ],
            "text/plain": [
              "         median_t_1       std_t_1  ...        T_t_48     load_t_48\n",
              "count  2.037600e+04  2.037600e+04  ...  2.037600e+04  2.037600e+04\n",
              "mean   1.500872e-15 -2.050306e-15  ... -4.259636e-15  2.427496e-16\n",
              "std    1.000025e+00  1.000025e+00  ...  1.000025e+00  1.000025e+00\n",
              "min   -2.355880e+00 -2.958309e+00  ... -3.147327e+00 -2.387307e+00\n",
              "25%   -6.224290e-01 -6.242725e-01  ... -7.632052e-01 -7.780655e-01\n",
              "50%   -1.288194e-01 -9.989587e-02  ...  3.707034e-02  1.225355e-01\n",
              "75%    6.307080e-01  4.340683e-01  ...  8.028917e-01  6.912417e-01\n",
              "max    4.194005e+00  4.584623e+00  ...  2.525598e+00  3.434307e+00\n",
              "\n",
              "[8 rows x 192 columns]"
            ]
          },
          "metadata": {
            "tags": []
          },
          "execution_count": 3372
        },
        {
          "output_type": "stream",
          "text": [
            "time: 943 ms (started: 2021-01-14 20:56:56 +00:00)\n"
          ],
          "name": "stdout"
        }
      ]
    },
    {
      "cell_type": "code",
      "metadata": {
        "colab": {
          "base_uri": "https://localhost:8080/"
        },
        "id": "UC-RR1QeMrZs",
        "outputId": "4a36edda-4cb3-4dab-f027-38134c408149"
      },
      "source": [
        "#Temperature for weather forecasting (later used in multistep forecasting):\r\n",
        "temp_test = dataX['T_t_1']\r\n",
        "temp_test"
      ],
      "execution_count": null,
      "outputs": [
        {
          "output_type": "execute_result",
          "data": {
            "text/plain": [
              "2012-09-03 00:00:00    0.658707\n",
              "2012-09-03 01:00:00    1.198676\n",
              "2012-09-03 02:00:00    1.076478\n",
              "2012-09-03 03:00:00    1.180921\n",
              "2012-09-03 04:00:00    1.094233\n",
              "                         ...   \n",
              "2014-12-30 19:00:00   -0.246289\n",
              "2014-12-30 20:00:00   -0.281278\n",
              "2014-12-30 21:00:00   -0.385720\n",
              "2014-12-30 22:00:00   -0.472408\n",
              "2014-12-30 23:00:00   -0.507396\n",
              "Name: T_t_1, Length: 20376, dtype: float64"
            ]
          },
          "metadata": {
            "tags": []
          },
          "execution_count": 3373
        },
        {
          "output_type": "stream",
          "text": [
            "time: 8.83 ms (started: 2021-01-14 20:56:57 +00:00)\n"
          ],
          "name": "stdout"
        }
      ]
    },
    {
      "cell_type": "code",
      "metadata": {
        "colab": {
          "base_uri": "https://localhost:8080/"
        },
        "id": "XA1VYQg9LlQ1",
        "outputId": "a502a2a3-14a3-485d-b43e-d4d5abef10b1"
      },
      "source": [
        "# Train-Test Split:\r\n",
        "# We will split the data as training and test. No need for validation here. \r\n",
        "train_start_dt = '2014-10-01'\r\n",
        "test_start_dt = '2014-11-01'\r\n",
        "test_end_dt = '2014-11-04'\r\n",
        "#Lets use the same notation: X_train, X_test, y_train, y_test\r\n",
        "X_train = dataX.copy()[(dataX.index >= train_start_dt)& (dataX.index < test_start_dt)]\r\n",
        "y_train = dataY.copy()[(dataY.index >= train_start_dt)& (dataY.index < test_start_dt)]\r\n",
        "\r\n",
        "X_test =  dataX.copy()[(dataX.index >= test_start_dt) & (dataX.index < test_end_dt)]\r\n",
        "y_test =  dataY.copy()[(dataY.index >= test_start_dt) & (dataY.index < test_end_dt)]\r\n",
        "\r\n",
        "\r\n",
        "print('Train data shape: ', X_train.shape, y_train.shape)\r\n",
        "print('Test data shape: ', X_test.shape, y_test.shape)"
      ],
      "execution_count": null,
      "outputs": [
        {
          "output_type": "stream",
          "text": [
            "Train data shape:  (744, 192) (744,)\n",
            "Test data shape:  (72, 192) (72,)\n",
            "time: 84.8 ms (started: 2021-01-14 20:56:57 +00:00)\n"
          ],
          "name": "stdout"
        }
      ]
    },
    {
      "cell_type": "code",
      "metadata": {
        "colab": {
          "base_uri": "https://localhost:8080/"
        },
        "id": "ufm-Re7y8ft_",
        "outputId": "2797d181-fe89-4298-ef2a-77d502648cfc"
      },
      "source": [
        "# First element passed to SVM:\r\n",
        "X_last = X_test.iloc[0:1]"
      ],
      "execution_count": null,
      "outputs": [
        {
          "output_type": "stream",
          "text": [
            "time: 2.33 ms (started: 2021-01-14 20:56:57 +00:00)\n"
          ],
          "name": "stdout"
        }
      ]
    },
    {
      "cell_type": "code",
      "metadata": {
        "colab": {
          "base_uri": "https://localhost:8080/",
          "height": 148
        },
        "id": "vdslZc40FcPl",
        "outputId": "4f5016b9-8e44-4178-f9d1-48f4da39549d"
      },
      "source": [
        "X_last"
      ],
      "execution_count": null,
      "outputs": [
        {
          "output_type": "execute_result",
          "data": {
            "text/html": [
              "<div>\n",
              "<style scoped>\n",
              "    .dataframe tbody tr th:only-of-type {\n",
              "        vertical-align: middle;\n",
              "    }\n",
              "\n",
              "    .dataframe tbody tr th {\n",
              "        vertical-align: top;\n",
              "    }\n",
              "\n",
              "    .dataframe thead th {\n",
              "        text-align: right;\n",
              "    }\n",
              "</style>\n",
              "<table border=\"1\" class=\"dataframe\">\n",
              "  <thead>\n",
              "    <tr style=\"text-align: right;\">\n",
              "      <th></th>\n",
              "      <th>median_t_1</th>\n",
              "      <th>std_t_1</th>\n",
              "      <th>T_t_1</th>\n",
              "      <th>load_t_1</th>\n",
              "      <th>median_t_2</th>\n",
              "      <th>std_t_2</th>\n",
              "      <th>T_t_2</th>\n",
              "      <th>load_t_2</th>\n",
              "      <th>median_t_3</th>\n",
              "      <th>std_t_3</th>\n",
              "      <th>T_t_3</th>\n",
              "      <th>load_t_3</th>\n",
              "      <th>median_t_4</th>\n",
              "      <th>std_t_4</th>\n",
              "      <th>T_t_4</th>\n",
              "      <th>load_t_4</th>\n",
              "      <th>median_t_5</th>\n",
              "      <th>std_t_5</th>\n",
              "      <th>T_t_5</th>\n",
              "      <th>load_t_5</th>\n",
              "      <th>median_t_6</th>\n",
              "      <th>std_t_6</th>\n",
              "      <th>T_t_6</th>\n",
              "      <th>load_t_6</th>\n",
              "      <th>median_t_7</th>\n",
              "      <th>std_t_7</th>\n",
              "      <th>T_t_7</th>\n",
              "      <th>load_t_7</th>\n",
              "      <th>median_t_8</th>\n",
              "      <th>std_t_8</th>\n",
              "      <th>T_t_8</th>\n",
              "      <th>load_t_8</th>\n",
              "      <th>median_t_9</th>\n",
              "      <th>std_t_9</th>\n",
              "      <th>T_t_9</th>\n",
              "      <th>load_t_9</th>\n",
              "      <th>median_t_10</th>\n",
              "      <th>std_t_10</th>\n",
              "      <th>T_t_10</th>\n",
              "      <th>load_t_10</th>\n",
              "      <th>...</th>\n",
              "      <th>median_t_39</th>\n",
              "      <th>std_t_39</th>\n",
              "      <th>T_t_39</th>\n",
              "      <th>load_t_39</th>\n",
              "      <th>median_t_40</th>\n",
              "      <th>std_t_40</th>\n",
              "      <th>T_t_40</th>\n",
              "      <th>load_t_40</th>\n",
              "      <th>median_t_41</th>\n",
              "      <th>std_t_41</th>\n",
              "      <th>T_t_41</th>\n",
              "      <th>load_t_41</th>\n",
              "      <th>median_t_42</th>\n",
              "      <th>std_t_42</th>\n",
              "      <th>T_t_42</th>\n",
              "      <th>load_t_42</th>\n",
              "      <th>median_t_43</th>\n",
              "      <th>std_t_43</th>\n",
              "      <th>T_t_43</th>\n",
              "      <th>load_t_43</th>\n",
              "      <th>median_t_44</th>\n",
              "      <th>std_t_44</th>\n",
              "      <th>T_t_44</th>\n",
              "      <th>load_t_44</th>\n",
              "      <th>median_t_45</th>\n",
              "      <th>std_t_45</th>\n",
              "      <th>T_t_45</th>\n",
              "      <th>load_t_45</th>\n",
              "      <th>median_t_46</th>\n",
              "      <th>std_t_46</th>\n",
              "      <th>T_t_46</th>\n",
              "      <th>load_t_46</th>\n",
              "      <th>median_t_47</th>\n",
              "      <th>std_t_47</th>\n",
              "      <th>T_t_47</th>\n",
              "      <th>load_t_47</th>\n",
              "      <th>median_t_48</th>\n",
              "      <th>std_t_48</th>\n",
              "      <th>T_t_48</th>\n",
              "      <th>load_t_48</th>\n",
              "    </tr>\n",
              "  </thead>\n",
              "  <tbody>\n",
              "    <tr>\n",
              "      <th>2014-11-01</th>\n",
              "      <td>-0.135467</td>\n",
              "      <td>0.127658</td>\n",
              "      <td>-0.298511</td>\n",
              "      <td>-1.066769</td>\n",
              "      <td>-0.135397</td>\n",
              "      <td>0.121461</td>\n",
              "      <td>0.06713</td>\n",
              "      <td>-1.443769</td>\n",
              "      <td>-0.135326</td>\n",
              "      <td>0.119772</td>\n",
              "      <td>-0.01999</td>\n",
              "      <td>-1.598097</td>\n",
              "      <td>-0.135255</td>\n",
              "      <td>0.114279</td>\n",
              "      <td>-0.124354</td>\n",
              "      <td>-1.673463</td>\n",
              "      <td>-0.135184</td>\n",
              "      <td>0.106094</td>\n",
              "      <td>-0.193728</td>\n",
              "      <td>-1.653714</td>\n",
              "      <td>-0.135113</td>\n",
              "      <td>0.096456</td>\n",
              "      <td>-0.24587</td>\n",
              "      <td>-1.476037</td>\n",
              "      <td>-0.135043</td>\n",
              "      <td>0.087346</td>\n",
              "      <td>-0.31525</td>\n",
              "      <td>-0.991456</td>\n",
              "      <td>-0.134972</td>\n",
              "      <td>0.089903</td>\n",
              "      <td>-0.332922</td>\n",
              "      <td>-0.068906</td>\n",
              "      <td>-0.098338</td>\n",
              "      <td>0.101091</td>\n",
              "      <td>-0.402294</td>\n",
              "      <td>0.377995</td>\n",
              "      <td>-0.098272</td>\n",
              "      <td>0.10371</td>\n",
              "      <td>-0.384972</td>\n",
              "      <td>0.386918</td>\n",
              "      <td>...</td>\n",
              "      <td>-0.515003</td>\n",
              "      <td>-0.48725</td>\n",
              "      <td>0.158114</td>\n",
              "      <td>0.058667</td>\n",
              "      <td>-0.548345</td>\n",
              "      <td>-0.500675</td>\n",
              "      <td>0.175464</td>\n",
              "      <td>-0.040106</td>\n",
              "      <td>-0.60496</td>\n",
              "      <td>-0.511107</td>\n",
              "      <td>0.158357</td>\n",
              "      <td>-0.029393</td>\n",
              "      <td>-0.60507</td>\n",
              "      <td>-0.522927</td>\n",
              "      <td>0.14073</td>\n",
              "      <td>0.087201</td>\n",
              "      <td>-0.605181</td>\n",
              "      <td>-0.57196</td>\n",
              "      <td>0.05419</td>\n",
              "      <td>0.228888</td>\n",
              "      <td>-0.605292</td>\n",
              "      <td>-0.719406</td>\n",
              "      <td>-0.03287</td>\n",
              "      <td>0.280807</td>\n",
              "      <td>-0.605403</td>\n",
              "      <td>-0.869104</td>\n",
              "      <td>-0.137158</td>\n",
              "      <td>0.11561</td>\n",
              "      <td>-0.650385</td>\n",
              "      <td>-0.971314</td>\n",
              "      <td>-0.206467</td>\n",
              "      <td>0.009662</td>\n",
              "      <td>-0.668777</td>\n",
              "      <td>-0.994718</td>\n",
              "      <td>-0.189113</td>\n",
              "      <td>-0.300789</td>\n",
              "      <td>-0.668908</td>\n",
              "      <td>-0.972099</td>\n",
              "      <td>-0.293376</td>\n",
              "      <td>-0.745773</td>\n",
              "    </tr>\n",
              "  </tbody>\n",
              "</table>\n",
              "<p>1 rows × 192 columns</p>\n",
              "</div>"
            ],
            "text/plain": [
              "            median_t_1   std_t_1     T_t_1  ...  std_t_48    T_t_48  load_t_48\n",
              "2014-11-01   -0.135467  0.127658 -0.298511  ... -0.972099 -0.293376  -0.745773\n",
              "\n",
              "[1 rows x 192 columns]"
            ]
          },
          "metadata": {
            "tags": []
          },
          "execution_count": 3376
        },
        {
          "output_type": "stream",
          "text": [
            "time: 160 ms (started: 2021-01-14 20:56:57 +00:00)\n"
          ],
          "name": "stdout"
        }
      ]
    },
    {
      "cell_type": "code",
      "metadata": {
        "colab": {
          "base_uri": "https://localhost:8080/"
        },
        "id": "XJb_EodgBXbf",
        "outputId": "ddefbfa8-fd61-42bc-e21f-cd2ba0bc3586"
      },
      "source": [
        "# Creating a list of last loads:\r\n",
        "last_loads = list ()\r\n",
        "s_window = 24\r\n",
        "for i in range (1,s_window+1):\r\n",
        "  column = 'load_t_'+ str (i)\r\n",
        "  last_loads.append(X_last[column][0])\r\n",
        "last_loads = np.array(last_loads)\r\n",
        "last_loads\r\n"
      ],
      "execution_count": null,
      "outputs": [
        {
          "output_type": "execute_result",
          "data": {
            "text/plain": [
              "array([-1.06676868, -1.44376922, -1.59809716, -1.67346251, -1.65371422,\n",
              "       -1.47603732, -0.99145552, -0.06890565,  0.37799529,  0.38691767,\n",
              "        0.4066172 ,  0.32041933,  0.24858831,  0.15522374,  0.15340716,\n",
              "        0.0959495 ,  0.07618368,  0.17128067,  0.44581801,  0.75796848,\n",
              "        0.66272934,  0.4634543 ,  0.01481442, -0.58630536])"
            ]
          },
          "metadata": {
            "tags": []
          },
          "execution_count": 3377
        },
        {
          "output_type": "stream",
          "text": [
            "time: 12.5 ms (started: 2021-01-14 20:56:57 +00:00)\n"
          ],
          "name": "stdout"
        }
      ]
    },
    {
      "cell_type": "code",
      "metadata": {
        "colab": {
          "base_uri": "https://localhost:8080/"
        },
        "id": "UWC5-UrkA4O8",
        "outputId": "6527321b-eba6-4805-88cf-29c84a39fe6f"
      },
      "source": [
        "#Creating series for predictions:\r\n",
        "y_predicted =pd.Series(index=y_test.index)"
      ],
      "execution_count": null,
      "outputs": [
        {
          "output_type": "stream",
          "text": [
            "time: 3.72 ms (started: 2021-01-14 20:56:57 +00:00)\n"
          ],
          "name": "stdout"
        },
        {
          "output_type": "stream",
          "text": [
            "/usr/local/lib/python3.6/dist-packages/ipykernel_launcher.py:2: DeprecationWarning: The default dtype for empty Series will be 'object' instead of 'float64' in a future version. Specify a dtype explicitly to silence this warning.\n",
            "  \n"
          ],
          "name": "stderr"
        }
      ]
    },
    {
      "cell_type": "code",
      "metadata": {
        "colab": {
          "base_uri": "https://localhost:8080/"
        },
        "id": "wLp7MhPrF2Xr",
        "outputId": "22dcaa97-f55d-488e-b9cd-8c365831597c"
      },
      "source": [
        "#import lib\r\n",
        "from pandas.tseries.offsets import DateOffset"
      ],
      "execution_count": null,
      "outputs": [
        {
          "output_type": "stream",
          "text": [
            "time: 1.38 ms (started: 2021-01-14 20:56:57 +00:00)\n"
          ],
          "name": "stdout"
        }
      ]
    },
    {
      "cell_type": "code",
      "metadata": {
        "colab": {
          "base_uri": "https://localhost:8080/"
        },
        "id": "npsJKqnEIClJ",
        "outputId": "0f231685-3a32-4f7d-f5fb-fe7d6e84aaee"
      },
      "source": [
        "#Conversion:\r\n",
        "X_test_last = X_last.to_numpy()\r\n",
        "X_test_last.shape"
      ],
      "execution_count": null,
      "outputs": [
        {
          "output_type": "execute_result",
          "data": {
            "text/plain": [
              "(1, 192)"
            ]
          },
          "metadata": {
            "tags": []
          },
          "execution_count": 3380
        },
        {
          "output_type": "stream",
          "text": [
            "time: 7.09 ms (started: 2021-01-14 20:56:57 +00:00)\n"
          ],
          "name": "stdout"
        }
      ]
    },
    {
      "cell_type": "code",
      "metadata": {
        "colab": {
          "base_uri": "https://localhost:8080/"
        },
        "id": "NoKmVT3MIK29",
        "outputId": "aa6f6a2c-6e8d-4391-fc5b-0366a8d121b7"
      },
      "source": [
        "X_test_last"
      ],
      "execution_count": null,
      "outputs": [
        {
          "output_type": "execute_result",
          "data": {
            "text/plain": [
              "array([[-0.13546731,  0.12765831, -0.29851068, -1.06676868, -0.13539651,\n",
              "         0.12146142,  0.06713026, -1.44376922, -0.13532571,  0.11977188,\n",
              "        -0.01999049, -1.59809716, -0.13525491,  0.11427877, -0.12435371,\n",
              "        -1.67346251, -0.13518411,  0.10609373, -0.1937283 , -1.65371422,\n",
              "        -0.13511331,  0.09645576, -0.24587036, -1.47603732, -0.13504251,\n",
              "         0.08734555, -0.31525035, -0.99145552, -0.13497171,  0.08990252,\n",
              "        -0.33292245, -0.06890565, -0.09833772,  0.10109127, -0.40229381,\n",
              "         0.37799529, -0.09827176,  0.10370958, -0.38497225,  0.38691767,\n",
              "        -0.09821017,  0.10160344, -0.21044671,  0.4066172 , -0.13308568,\n",
              "         0.07341006, -0.05367567,  0.32041933, -0.18792095,  0.04455861,\n",
              "         0.15533126,  0.24858831, -0.20120424,  0.01180959,  0.24213534,\n",
              "         0.15522374, -0.29925239, -0.02198351,  0.32947277,  0.15340716,\n",
              "        -0.38734412, -0.04560535,  0.32959266,  0.0959495 , -0.44220897,\n",
              "        -0.07167113,  0.38195809,  0.07618368, -0.44223678, -0.12595769,\n",
              "         0.36485454,  0.17128067, -0.44226479, -0.21958317,  0.26050468,\n",
              "         0.44581801, -0.4422928 , -0.24525611,  0.17338833,  0.75796848,\n",
              "        -0.44232367, -0.245302  ,  0.01677839,  0.66272934, -0.44235453,\n",
              "        -0.2251442 , -0.07035445,  0.4634543 , -0.44239635, -0.21576841,\n",
              "        -0.19197226,  0.01481442, -0.44244518, -0.23365649, -0.27911278,\n",
              "        -0.58630536, -0.44250805, -0.20508742, -0.41796726, -1.15692609,\n",
              "        -0.44257092, -0.2564928 , -0.34833885, -1.32211729, -0.44263379,\n",
              "        -0.30469967, -0.40046962, -1.49987197, -0.44269667, -0.35716279,\n",
              "        -0.41759492, -1.57358184, -0.44275954, -0.40586885, -0.40024489,\n",
              "        -1.56117378, -0.44282242, -0.43992379, -0.43511992, -1.40339201,\n",
              "        -0.4428853 , -0.46805868, -0.4000006 , -0.89021219, -0.44294818,\n",
              "        -0.46346522, -0.41710767, -0.00540935, -0.44301106, -0.45668664,\n",
              "        -0.41697582,  0.40557177, -0.44307534, -0.44982856, -0.39960954,\n",
              "         0.41445166, -0.44314158, -0.45650733, -0.24282982,  0.37665989,\n",
              "        -0.44323879, -0.46190911, -0.13827978,  0.29220851, -0.44333839,\n",
              "        -0.46899443,  0.05345511,  0.2059715 , -0.48498639, -0.47533077,\n",
              "         0.12301406,  0.10718517, -0.51500307, -0.48724993,  0.15811382,\n",
              "         0.05866672, -0.54834528, -0.50067542,  0.17546393, -0.04010555,\n",
              "        -0.60495974, -0.51110692,  0.15835676, -0.02939346, -0.60507047,\n",
              "        -0.52292694,  0.14072966,  0.0872008 , -0.60518121, -0.57196009,\n",
              "         0.05419008,  0.22888839, -0.60529196, -0.7194056 , -0.03287012,\n",
              "         0.28080675, -0.60540271, -0.86910441, -0.13715753,  0.11561038,\n",
              "        -0.65038547, -0.97131432, -0.20646691,  0.00966186, -0.66877716,\n",
              "        -0.99471849, -0.18911336, -0.30078873, -0.66890827, -0.97209914,\n",
              "        -0.29337611, -0.745773  ]])"
            ]
          },
          "metadata": {
            "tags": []
          },
          "execution_count": 3381
        },
        {
          "output_type": "stream",
          "text": [
            "time: 16.3 ms (started: 2021-01-14 20:56:57 +00:00)\n"
          ],
          "name": "stdout"
        }
      ]
    },
    {
      "cell_type": "code",
      "metadata": {
        "colab": {
          "base_uri": "https://localhost:8080/"
        },
        "id": "nflkWzBjuAeq",
        "outputId": "b1d4e475-c6fc-4431-db69-faf6d2caa4e5"
      },
      "source": [
        "#Going into loop: we will loop over the y_test indices and update X_test_last at each loop:\r\n",
        "case_indices = y_test.index\r\n",
        "#n_features:\r\n",
        "n_features = 4\r\n",
        "#For scaling the predictions:\r\n",
        "dummy_array = np.zeros((1,X_test_last.shape[1]))\r\n",
        "for case_index in case_indices:\r\n",
        "  #Predicting with fitted SVM and writing the result on y_predicted at the same time:\r\n",
        "  load_prediction = svr.predict(X_test_last).flatten()[0]\r\n",
        "  #print(load_prediction)\r\n",
        "  y_predicted.update(pd.Series(load_prediction,index=[case_index]))\r\n",
        "  #Preparing the next X_test_last:\r\n",
        "  #\r\n",
        "  # We need to scale the load first:\r\n",
        "  dummy_array[0,X_test_last.shape[1]-1] = load_prediction\r\n",
        "  load_scaled = sX.transform(dummy_array)[0,X_test_last.shape[1]-1]\r\n",
        "  #\r\n",
        "  #---updating load list---:\r\n",
        "  last_loads = np.delete(last_loads,0)\r\n",
        "  last_loads = np.append(last_loads,load_scaled)\r\n",
        "  #print(last_loads)\r\n",
        "  #\r\n",
        "  #---finding new values:\r\n",
        "  median_i = np.median(last_loads)\r\n",
        "  std_i = np.std(last_loads)\r\n",
        "  min_i = np.min(last_loads)\r\n",
        "  max_i = np.max(last_loads)\r\n",
        "  #here I assume that T data is available from weatherforecasting etc.\r\n",
        "  time_index = pd.Timestamp(case_index) + DateOffset(hours=1)\r\n",
        "  #temp_i= temp_test.loc[time_index] #already scaled!\r\n",
        "  #\r\n",
        "  #updating X_last:\r\n",
        "  for i in range (X_test_last.shape[1]-n_features):\r\n",
        "    X_test_last[0][i] =X_test_last[0][i+n_features]\r\n",
        "\r\n",
        "  X_test_last[0][X_test_last.shape[1]-n_features+0] =median_i\r\n",
        "  X_test_last[0][X_test_last.shape[1]-n_features+1] =std_i\r\n",
        "#  X_test_last[0][X_test_last.shape[1]-n_features+2] =min_i\r\n",
        "#  X_test_last[0][X_test_last.shape[1]-n_features+3] =max_i\r\n",
        "  X_test_last[0][X_test_last.shape[1]-n_features+2] =temp_i\r\n",
        "  X_test_last[0][X_test_last.shape[1]-n_features+3] =load_scaled\r\n",
        "\r\n",
        "\r\n"
      ],
      "execution_count": null,
      "outputs": [
        {
          "output_type": "stream",
          "text": [
            "time: 179 ms (started: 2021-01-14 20:56:57 +00:00)\n"
          ],
          "name": "stdout"
        }
      ]
    },
    {
      "cell_type": "code",
      "metadata": {
        "colab": {
          "base_uri": "https://localhost:8080/",
          "height": 429
        },
        "id": "y2czx1Q0KsCX",
        "outputId": "5198efcd-cf30-414d-deb6-66737b86ecfa"
      },
      "source": [
        "#Visualization of the accuracy:\r\n",
        "a = plt.axes(aspect='equal')\r\n",
        "plt.scatter(y_test, y_predicted)\r\n",
        "plt.xlabel('True Pressure Values')\r\n",
        "plt.ylabel('Predicted Pressures')\r\n",
        "lims = [2000, 4000]\r\n",
        "plt.xlim(lims), plt.ylim(lims)\r\n",
        "plt.plot(lims, lims)"
      ],
      "execution_count": null,
      "outputs": [
        {
          "output_type": "execute_result",
          "data": {
            "text/plain": [
              "[<matplotlib.lines.Line2D at 0x7f5ce39245c0>]"
            ]
          },
          "metadata": {
            "tags": []
          },
          "execution_count": 3383
        },
        {
          "output_type": "display_data",
          "data": {
            "image/png": "[encoded data removed]",
            "text/plain": [
              "<Figure size 864x432 with 1 Axes>"
            ]
          },
          "metadata": {
            "tags": [],
            "needs_background": "light"
          }
        },
        {
          "output_type": "stream",
          "text": [
            "time: 213 ms (started: 2021-01-14 20:56:57 +00:00)\n"
          ],
          "name": "stdout"
        }
      ]
    },
    {
      "cell_type": "code",
      "metadata": {
        "colab": {
          "base_uri": "https://localhost:8080/",
          "height": 425
        },
        "id": "Bhy3_OFTcx84",
        "outputId": "459f6133-0986-4d44-af3d-9ca29923b2ad"
      },
      "source": [
        "# Calculating the error variations:\r\n",
        "error_nn = (y_predicted - y_test)/y_test*100\r\n",
        "plt.hist(error_nn, bins=20)\r\n",
        "plt.xlabel('Predicted Relative % Error')\r\n",
        "plt.ylabel('Count')"
      ],
      "execution_count": null,
      "outputs": [
        {
          "output_type": "execute_result",
          "data": {
            "text/plain": [
              "Text(0, 0.5, 'Count')"
            ]
          },
          "metadata": {
            "tags": []
          },
          "execution_count": 3384
        },
        {
          "output_type": "display_data",
          "data": {
            "image/png": "[encoded data removed]",
            "text/plain": [
              "<Figure size 864x432 with 1 Axes>"
            ]
          },
          "metadata": {
            "tags": [],
            "needs_background": "light"
          }
        },
        {
          "output_type": "stream",
          "text": [
            "time: 258 ms (started: 2021-01-14 20:56:57 +00:00)\n"
          ],
          "name": "stdout"
        }
      ]
    },
    {
      "cell_type": "code",
      "metadata": {
        "colab": {
          "base_uri": "https://localhost:8080/"
        },
        "id": "_vc-t0oFcx84",
        "outputId": "0769bc50-078c-4e45-ac86-7e92b84b0c1c"
      },
      "source": [
        "#Calculating the mean absolutepercentage error:\r\n",
        "abs_error_nn = abs(y_predicted - y_test)/y_test*100\r\n",
        "np.average(error_nn)"
      ],
      "execution_count": null,
      "outputs": [
        {
          "output_type": "execute_result",
          "data": {
            "text/plain": [
              "0.05025326364506198"
            ]
          },
          "metadata": {
            "tags": []
          },
          "execution_count": 3385
        },
        {
          "output_type": "stream",
          "text": [
            "time: 6.62 ms (started: 2021-01-14 20:56:58 +00:00)\n"
          ],
          "name": "stdout"
        }
      ]
    },
    {
      "cell_type": "code",
      "metadata": {
        "colab": {
          "base_uri": "https://localhost:8080/"
        },
        "id": "VdIzSpeLcx84",
        "outputId": "0b337ab3-9173-4b89-ca84-eca6fd53440b"
      },
      "source": [
        "#Calculating R2 value:\r\n",
        "r2_test = r2_score(y_test, y_predicted)\r\n",
        "print('R^2 score is  %3.2f' %r2_test)"
      ],
      "execution_count": null,
      "outputs": [
        {
          "output_type": "stream",
          "text": [
            "R^2 score is  0.87\n",
            "time: 3.97 ms (started: 2021-01-14 20:56:58 +00:00)\n"
          ],
          "name": "stdout"
        }
      ]
    },
    {
      "cell_type": "code",
      "metadata": {
        "colab": {
          "base_uri": "https://localhost:8080/",
          "height": 423
        },
        "id": "1rb9lQ8Qcx85",
        "outputId": "0c215264-ce20-495b-ea6f-105eb3859b14"
      },
      "source": [
        "#Plotting the Figure: \r\n",
        "plt.figure();\r\n",
        "plt.plot(y_test, 'k.-');\r\n",
        "plt.plot(y_predicted, 'x', alpha=0.70);\r\n",
        "\r\n",
        "plt.legend(['Actual',\r\n",
        "            'Predicted 1 hr ahead'\r\n",
        "            ]);\r\n",
        "plt.ylabel('Load');\r\n",
        "plt.xlabel('Time Index');\r\n",
        "plt.title('SVM');\r\n",
        "mpl.rcParams['figure.figsize'] = [12.0, 6.0]"
      ],
      "execution_count": null,
      "outputs": [
        {
          "output_type": "display_data",
          "data": {
            "image/png": "[encoded data removed]",
            "text/plain": [
              "<Figure size 864x432 with 1 Axes>"
            ]
          },
          "metadata": {
            "tags": [],
            "needs_background": "light"
          }
        },
        {
          "output_type": "stream",
          "text": [
            "time: 256 ms (started: 2021-01-14 20:56:58 +00:00)\n"
          ],
          "name": "stdout"
        }
      ]
    },
    {
      "cell_type": "markdown",
      "metadata": {
        "id": "Rggspi3Rz70J"
      },
      "source": [
        "# Self Study\r\n",
        "\r\n",
        "It would be a good exercise to combine SVM with PCA. \r\n",
        "\r\n",
        "i) Create a feature matrix X with a much larger sliding window. You may also add additional features.\r\n",
        "\r\n",
        "ii) Transform and reduce the dimensionality via PCA (#_components should be high enough to cover >95% variance).\r\n",
        "\r\n",
        "iii) Feed transformed X into SVM. \r\n",
        "\r\n",
        "iV) Try to predict much further points in time.\r\n",
        "\r\n"
      ]
    },
    {
      "cell_type": "markdown",
      "metadata": {
        "id": "My1Vninw9laE"
      },
      "source": [
        "# Reading Material\r\n",
        "\r\n",
        "https://en.wikipedia.org/wiki/Time_series\r\n",
        "\r\n",
        "https://earthobservatory.nasa.gov/features/WxForecasting\r\n",
        "\r\n",
        "https://robjhyndman.com/hyndsight/forecasting-competitions/\r\n",
        "\r\n",
        "https://en.wikipedia.org/wiki/Autocorrelation\r\n",
        "\r\n",
        "https://en.wikipedia.org/wiki/Partial_autocorrelation_function\r\n",
        "\r\n",
        "Dataset source: Tao Hong, Pierre Pinson, Shu Fan, Hamidreza Zareipour, Alberto Troccoli and Rob J. Hyndman, \"Probabilistic energy forecasting: Global Energy Forecasting Competition 2014 and beyond\", International Journal of Forecasting, 2016.\r\n",
        "\r\n",
        "https://www.ge.com/power/future-of-energy\r\n",
        "\r\n",
        "https://www.ge.com/news/reports/part-1-transformation-change-energy-ecosystem"
      ]
    }
  ]
}