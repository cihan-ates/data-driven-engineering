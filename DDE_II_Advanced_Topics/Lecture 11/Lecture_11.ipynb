{
  "nbformat": 4,
  "nbformat_minor": 0,
  "metadata": {
    "colab": {
      "name": "GP_I.ipynb",
      "provenance": [],
      "collapsed_sections": [],
      "toc_visible": true
    },
    "kernelspec": {
      "name": "python3",
      "display_name": "Python 3"
    },
    "language_info": {
      "name": "python"
    }
  },
  "cells": [
    {
      "cell_type": "markdown",
      "metadata": {
        "id": "cQxGOeC7ZmUj"
      },
      "source": [
        "# Genetic Programming - II"
      ]
    },
    {
      "cell_type": "markdown",
      "metadata": {
        "id": "wZv4k88o0TxT"
      },
      "source": [
        "\n",
        "“It is not the strongest of the species that survives,\n",
        "not the most intelligent that survives.\n",
        "It is the one that is the most adaptable to change.”\n",
        "― Charles Darwin "
      ]
    },
    {
      "cell_type": "markdown",
      "metadata": {
        "id": "VpF0Ype1X_L7"
      },
      "source": [
        "# Important Note\n",
        "\n",
        "Lecture notes and notebooks must not be copied and/or distributed without the express permission of ITS.\n",
        "\n",
        "Exercise is based on the deap documentation:\n",
        "+ https://github.com/deap/deap\n",
        "\n",
        "+ https://deap.readthedocs.io/en/master/examples/\n",
        "\n",
        "\n",
        "\n"
      ]
    },
    {
      "cell_type": "code",
      "metadata": {
        "id": "wyWOCIDRdheu",
        "colab": {
          "base_uri": "https://localhost:8080/"
        },
        "outputId": "52e4842a-d15d-4d40-f5da-29e88a3d0ed9"
      },
      "source": [
        "!pip install deap"
      ],
      "execution_count": 1,
      "outputs": [
        {
          "output_type": "stream",
          "text": [
            "Requirement already satisfied: deap in /usr/local/lib/python3.7/dist-packages (1.3.1)\n",
            "Requirement already satisfied: numpy in /usr/local/lib/python3.7/dist-packages (from deap) (1.19.5)\n"
          ],
          "name": "stdout"
        }
      ]
    },
    {
      "cell_type": "code",
      "metadata": {
        "colab": {
          "base_uri": "https://localhost:8080/"
        },
        "id": "fH8Sx4GztyqQ",
        "outputId": "4edb65fd-69cf-4b2b-db98-98c69601dd10"
      },
      "source": [
        "!apt install libgraphviz-dev\n",
        "!pip install pygraphviz"
      ],
      "execution_count": 2,
      "outputs": [
        {
          "output_type": "stream",
          "text": [
            "Reading package lists... Done\n",
            "Building dependency tree       \n",
            "Reading state information... Done\n",
            "libgraphviz-dev is already the newest version (2.40.1-2).\n",
            "0 upgraded, 0 newly installed, 0 to remove and 40 not upgraded.\n",
            "Requirement already satisfied: pygraphviz in /usr/local/lib/python3.7/dist-packages (1.7)\n"
          ],
          "name": "stdout"
        }
      ]
    },
    {
      "cell_type": "code",
      "metadata": {
        "id": "4QOzLHd5CbCI"
      },
      "source": [
        "import random\n",
        "import operator\n",
        "import math\n",
        "import numpy\n",
        "import matplotlib.pyplot as plt\n",
        "\n",
        "#GP\n",
        "from deap import creator, base, gp, tools, algorithms\n",
        "import networkx as nx\n",
        "import pygraphviz as pgv\n",
        "from networkx.drawing.nx_agraph import graphviz_layout"
      ],
      "execution_count": 3,
      "outputs": []
    },
    {
      "cell_type": "markdown",
      "metadata": {
        "id": "J9hfjDlTDC7X"
      },
      "source": [
        "# Symbolic regression problem\n",
        "\n",
        "We are going to explore a classical problem first. In SR, we search the possible expression space to find the model best fits the given dataset. "
      ]
    },
    {
      "cell_type": "code",
      "metadata": {
        "id": "XWZnOhfQIpIW"
      },
      "source": [
        "#https://deap.readthedocs.io/en/master/api/gp.html#deap.gp"
      ],
      "execution_count": 4,
      "outputs": []
    },
    {
      "cell_type": "markdown",
      "metadata": {
        "id": "m-hitpBRGKg_"
      },
      "source": [
        "### Creating primatives"
      ]
    },
    {
      "cell_type": "code",
      "metadata": {
        "id": "Lg1i-PVwDnB3"
      },
      "source": [
        "# Creating the building blocks of the individuals: \"primatives\"\n",
        "#------------------------------------------------------------------------\n",
        "# In this basic example, we limit ourselves with artihmetic operations.\n",
        "#------------------------------------------------------------------------\n",
        "#\n",
        "#Self-defined functions:\n",
        "#------------------------\n",
        "# We should also have a check point for zero divisions...\n",
        "def protectedDiv(left, right):\n",
        "    try:\n",
        "        return left / right\n",
        "    except ZeroDivisionError:\n",
        "        return 1\n",
        "\n",
        "#Basic functions:\n",
        "#-----------------\n",
        "#Number following the function is the number of entries it takes (arity)\n",
        "#https://en.wikipedia.org/wiki/Arity\n",
        "#https://deap.readthedocs.io/en/master/api/gp.html#deap.gp.PrimitiveSet\n",
        "pset = gp.PrimitiveSet(\"MAIN\", 1)\n",
        "pset.addPrimitive(operator.add, 2)\n",
        "pset.addPrimitive(operator.sub, 2)\n",
        "pset.addPrimitive(operator.mul, 2)\n",
        "pset.addPrimitive(operator.neg, 1)\n",
        "pset.addPrimitive(math.cos, 1)\n",
        "pset.addPrimitive(math.sin, 1)\n",
        "#Add custom:\n",
        "pset.addPrimitive(protectedDiv, 2)\n",
        "'''\n",
        "Ephemeral Constants:\n",
        "---------------------\n",
        "Ephemeral constant is a terminal encapsulating a value that is generated from a given function at run time.\n",
        "In our case, those constant terminals can take the values -1, 0 or 1.\n",
        "'''\n",
        "pset.addEphemeralConstant(\"rand101\", lambda: random.randint(-1,1))"
      ],
      "execution_count": 5,
      "outputs": []
    },
    {
      "cell_type": "code",
      "metadata": {
        "id": "eVwy3u0hFsQX"
      },
      "source": [
        "'''\n",
        "The second argument of PrimitiveSet pset is the number of inputs. \n",
        "In this example, we have only a one dimension regression problem, that is, we have only one input.\n",
        "It could have been any number of features. \n",
        "By default, inputs are named “ARGx”, where “x” is a number, but can be renamed:\n",
        "'''\n",
        "pset.renameArguments(ARG0='x')"
      ],
      "execution_count": 6,
      "outputs": []
    },
    {
      "cell_type": "markdown",
      "metadata": {
        "id": "0lwpV1yyGN_f"
      },
      "source": [
        "### Creating individuals\n",
        "\n",
        "We need at least two information to represent an individual, similar to the previous custom examples:\n",
        "\n",
        "+ genotype \n",
        "\n",
        "+ fitness\n",
        "\n",
        "Note that we previously integrate \"generation\" information as well."
      ]
    },
    {
      "cell_type": "code",
      "metadata": {
        "id": "l6SNtyd-GsFX"
      },
      "source": [
        "#Fitness object (this is a minimization problem, so the weight is negative)\n",
        "#The weights argument must be an iterable of weights, even if there is only one fitness measure.\n",
        "creator.create(\"FitnessMin\", base.Fitness, weights=(-1.0,))\n",
        "#\n",
        "# creating the individual object.\n",
        "# it will be based upon a tree, to which we add a fitness. Tree specifically formatted for optimization of genetic programming operations.\n",
        "# Note:\n",
        "# If you want to add any other attributes, you should add these attributes of any type here:\n",
        "creator.create(\"Individual\", gp.PrimitiveTree, fitness=creator.FitnessMin)"
      ],
      "execution_count": 7,
      "outputs": []
    },
    {
      "cell_type": "markdown",
      "metadata": {
        "id": "uqIG7o_gHrV_"
      },
      "source": [
        "### Managing evaluation process\n",
        "\n",
        "In this library, it is done via Toolbox container. The toolbox is manually populated with the desired tools that best apply with the chosen representation and algorithm from the user’s point of view.\n",
        "\n",
        "http://deap.gel.ulaval.ca/doc/0.9/api/core.html#toolbox\n",
        "\n"
      ]
    },
    {
      "cell_type": "code",
      "metadata": {
        "id": "9LfuGLExH5mf"
      },
      "source": [
        "#Step 1: toolbox instance is created\n",
        "toolbox = base.Toolbox()\n",
        "#Step 2: how to create an individual\n",
        "toolbox.register(\"expr\", gp.genHalfAndHalf, pset=pset, min_=1, max_=2)\n",
        "toolbox.register(\"individual\", tools.initIterate, creator.Individual, toolbox.expr)\n",
        "#Step 3: how to create the population\n",
        "toolbox.register(\"population\", tools.initRepeat, list, toolbox.individual)\n",
        "toolbox.register(\"compile\", gp.compile, pset=pset)\n",
        "\n",
        "#Step 4: introduce the evaluation function\n",
        "def evalSymbReg(individual, points):\n",
        "    '''\n",
        "      * receive an individual as input, \n",
        "      * return the corresponding fitness. \n",
        "\n",
        "    It uses the compile function previously defined to transform the individual \n",
        "    into its executable form – that is, a program. \n",
        "    After that, the evaluation is done via the MSE (Mean Squared Error), which is returned as the fitness of the individual.\n",
        "    '''\n",
        "    # Transform the tree expression in a callable function\n",
        "    func = toolbox.compile(expr=individual)\n",
        "    # Evaluate the mean squared error between the expression\n",
        "    # and the real function : x**4 + x**3 + x**2 + x\n",
        "    sqerrors = ((func(x) - x**4 - x**3 - x**2 - x)**2 for x in points)\n",
        "    # Even if the fitness only contains one measure, keep in mind that DEAP stores it as an iterable:\n",
        "    return math.fsum(sqerrors) / len(points),\n",
        "\n",
        "#Step 5: Register the evaluation funtion:\n",
        "toolbox.register(\"evaluate\", evalSymbReg, points=[x/10. for x in range(-10,10)])\n",
        "\n",
        "#Step 6: GP hyperparameters:\n",
        "'''\n",
        "selection method (a tournament of size 3),\n",
        "breeding/mating method (one point crossover with uniform probability over all the nodes), \n",
        "mutation method (a uniform probability mutation which may append a new full sub-tree to a node).\n",
        "'''\n",
        "toolbox.register(\"select\", tools.selTournament, tournsize=3)\n",
        "toolbox.register(\"mate\", gp.cxOnePoint)\n",
        "toolbox.register(\"expr_mut\", gp.genFull, min_=0, max_=2)\n",
        "toolbox.register(\"mutate\", gp.mutUniform, expr=toolbox.expr_mut, pset=pset)\n",
        "\n",
        "#Step 7: Fine tuning to minimize introns/bloat:\n",
        "'''\n",
        "mate and mutate method ==> height of generated individuals (max depth of 17)\n",
        "'''\n",
        "toolbox.decorate(\"mate\", gp.staticLimit(key=operator.attrgetter(\"height\"), max_value=17))\n",
        "toolbox.decorate(\"mutate\", gp.staticLimit(key=operator.attrgetter(\"height\"), max_value=17))"
      ],
      "execution_count": 8,
      "outputs": []
    },
    {
      "cell_type": "markdown",
      "metadata": {
        "id": "xpa6AM4CLGB_"
      },
      "source": [
        "### Helper functions for post-processing\n",
        "\n",
        " DEAP offers a simple class for statistics. \n",
        " \n",
        " Dictionary of `Statistics` object allows to compute statistics on multiple keys using a single call to` compile()`. It takes a set of key-value pairs associating a statistics object to a unique name. This name can then be used to retrieve the statistics object:\n",
        "\n",
        " https://deap.readthedocs.io/en/master/api/tools.html#deap.tools.MultiStatistics\n",
        "\n",
        " For the tools:\n",
        " \n",
        " https://deap.readthedocs.io/en/master/api/tools.html\n",
        "\n"
      ]
    },
    {
      "cell_type": "code",
      "metadata": {
        "id": "TVfdmL6iLiMN"
      },
      "source": [
        "# we want to compute \n",
        "#       the mean, \n",
        "#       standard deviation, \n",
        "#       minimum, and \n",
        "#       maximum \n",
        "# of both the individuals fitness and size.\n",
        "'''\n",
        "compute statistics on different attributes of the population individuals. \n",
        "For instance, it is quite common in genetic programming to have statistics \n",
        "on the height of the trees in addition to their fitness.\n",
        "'''\n",
        "stats_fit = tools.Statistics(lambda ind: ind.fitness.values)\n",
        "stats_size = tools.Statistics(len)\n",
        "mstats = tools.MultiStatistics(fitness=stats_fit, size=stats_size)\n",
        "mstats.register(\"avg\", numpy.mean)\n",
        "mstats.register(\"std\", numpy.std)\n",
        "mstats.register(\"min\", numpy.min)\n",
        "mstats.register(\"max\", numpy.max)"
      ],
      "execution_count": 9,
      "outputs": []
    },
    {
      "cell_type": "markdown",
      "metadata": {
        "id": "M3_1sCJyL74f"
      },
      "source": [
        "### Survival of the fittest!\n",
        "\n",
        "Now DEAP is ready to start competition. We will first create a population and then call the basic EA. \n",
        "\n",
        "In DEAP, `algorithms` module  contains some specific algorithms in order to execute very common evolutionary algorithms. \n",
        "\n",
        "https://deap.readthedocs.io/en/master/api/algo.html#deap.algorithms\n",
        "\n",
        "The algorithms accept, in addition to their arguments, an initialized `Statistics` object to maintain stats of the evolution, an initialized `HallOfFame` to hold the best individual(s) to appear in the population, and a boolean verbose to specify whether to log what is happening during the evolution or not.\n"
      ]
    },
    {
      "cell_type": "code",
      "metadata": {
        "colab": {
          "base_uri": "https://localhost:8080/"
        },
        "id": "-lZBB9HhMvRO",
        "outputId": "afa3de89-1fe5-4ad4-9856-1ea5417af97b"
      },
      "source": [
        "#Simplest evolutionary algorithm:\n",
        "# https://deap.readthedocs.io/en/master/api/algo.html#deap.algorithms.eaSimple\n",
        "'''\n",
        " deap.algorithms.eaSimple(population, toolbox, cxpb, mutpb, ngen[, stats, halloffame, verbose])\n",
        "\n",
        "    population – A list of individuals.\n",
        "    toolbox – A Toolbox that contains the evolution operators.\n",
        "    cxpb – The probability of mating two individuals.\n",
        "    mutpb – The probability of mutating an individual.\n",
        "    ngen – The number of generation.\n",
        "    stats – A Statistics object that is updated inplace, optional.\n",
        "    halloffame – A HallOfFame object that will contain the best individuals, optional.\n",
        "    verbose – Whether or not to log the statistics.\n",
        "\n",
        "'''\n",
        "pop = toolbox.population(n=500)\n",
        "# only 1 solution is asked:\n",
        "hof = tools.HallOfFame(1)\n",
        "pop, log = algorithms.eaSimple(pop, toolbox, 0.5, 0.1, 100, stats=mstats, halloffame=hof, verbose=True)"
      ],
      "execution_count": 16,
      "outputs": [
        {
          "output_type": "stream",
          "text": [
            "   \t      \t                        fitness                        \t                      size                     \n",
            "   \t      \t-------------------------------------------------------\t-----------------------------------------------\n",
            "gen\tnevals\tavg    \tgen\tmax    \tmin     \tnevals\tstd    \tavg  \tgen\tmax\tmin\tnevals\tstd    \n",
            "0  \t500   \t1.94683\t0  \t20.8852\t0.193912\t500   \t2.67724\t3.684\t0  \t7  \t2  \t500   \t1.58371\n",
            "1  \t246   \t1.13745\t1  \t18.9739\t0.165572\t246   \t1.18829\t3.882\t1  \t11 \t1  \t246   \t1.76411\n",
            "2  \t289   \t0.941422\t2  \t14.2339\t0.165572\t289   \t1.05597\t4.052\t2  \t12 \t1  \t289   \t1.81915\n",
            "3  \t278   \t0.861322\t3  \t15.1046\t0.165572\t278   \t0.957214\t4.534\t3  \t13 \t1  \t278   \t2.19017\n",
            "4  \t294   \t0.785838\t4  \t34.2245\t0.101561\t294   \t1.63199 \t4.938\t4  \t12 \t1  \t294   \t2.33027\n",
            "5  \t276   \t0.65401 \t5  \t17.5689\t0.101561\t276   \t1.10671 \t5.5  \t5  \t14 \t1  \t276   \t2.16656\n",
            "6  \t250   \t0.52578 \t6  \t16.4823\t0.101561\t250   \t0.889924\t6.188\t6  \t14 \t1  \t250   \t2.08534\n",
            "7  \t265   \t0.503712\t7  \t18.9739\t0.0253803\t265   \t1.05024 \t6.698\t7  \t16 \t1  \t265   \t2.17688\n",
            "8  \t293   \t0.476759\t8  \t6.5179 \t0.0253803\t293   \t0.718111\t7.05 \t8  \t15 \t1  \t293   \t2.32884\n",
            "9  \t260   \t0.358975\t9  \t9.69798\t0.0253803\t260   \t0.638466\t7.472\t9  \t19 \t1  \t260   \t2.61863\n",
            "10 \t286   \t0.45623 \t10 \t15.0009\t0.0253803\t286   \t0.951584\t8.436\t10 \t17 \t1  \t286   \t2.68364\n",
            "11 \t263   \t0.518912\t11 \t63.4953\t0.0186552\t263   \t2.97128 \t9.142\t11 \t24 \t1  \t263   \t2.72944\n",
            "12 \t275   \t0.422352\t12 \t6.08969\t0.0186552\t275   \t0.713415\t9.99 \t12 \t24 \t1  \t275   \t3.16321\n",
            "13 \t273   \t0.362394\t13 \t16.3144\t4.46816e-33\t273   \t0.896537\t10.88\t13 \t24 \t1  \t273   \t3.36   \n",
            "14 \t259   \t0.307039\t14 \t4.97474\t4.46816e-33\t259   \t0.564188\t11.94\t14 \t27 \t1  \t259   \t3.3461 \n",
            "15 \t257   \t0.276944\t15 \t4.30229\t4.46816e-33\t257   \t0.536432\t12.738\t15 \t25 \t1  \t257   \t3.12176\n",
            "16 \t265   \t0.290573\t16 \t3.78219\t4.46816e-33\t265   \t0.551734\t13.372\t16 \t27 \t2  \t265   \t3.37485\n",
            "17 \t273   \t0.264285\t17 \t13.8426\t4.46816e-33\t273   \t0.749764\t13.75 \t17 \t25 \t1  \t273   \t3.41811\n",
            "18 \t258   \t0.245427\t18 \t5.15912\t4.46816e-33\t258   \t0.544135\t14.886\t18 \t28 \t1  \t258   \t3.95335\n",
            "19 \t276   \t0.197235\t19 \t3.75844\t4.46816e-33\t276   \t0.394578\t15.844\t19 \t35 \t2  \t276   \t3.87449\n",
            "20 \t275   \t0.185282\t20 \t2.94085\t4.46816e-33\t275   \t0.377661\t16.522\t20 \t31 \t1  \t275   \t3.9112 \n",
            "21 \t285   \t0.143483\t21 \t2.76958\t4.46816e-33\t285   \t0.320314\t17.092\t21 \t36 \t1  \t285   \t3.96378\n",
            "22 \t274   \t0.180343\t22 \t3.723  \t4.46816e-33\t274   \t0.421837\t17.248\t22 \t32 \t1  \t274   \t3.5166 \n",
            "23 \t294   \t0.23807 \t23 \t17.7091\t4.46816e-33\t294   \t0.915123\t17.242\t23 \t32 \t1  \t294   \t3.7645 \n",
            "24 \t283   \t0.207872\t24 \t3.05538\t4.46816e-33\t283   \t0.464247\t17.14 \t24 \t32 \t1  \t283   \t3.48259\n",
            "25 \t260   \t0.200137\t25 \t9.71501\t4.46816e-33\t260   \t0.591108\t17.144\t25 \t27 \t3  \t260   \t3.24272\n",
            "26 \t282   \t0.201295\t26 \t6.70506\t4.46816e-33\t282   \t0.553871\t17.14 \t26 \t28 \t1  \t282   \t3.42818\n",
            "27 \t292   \t0.229977\t27 \t16.2332\t4.46816e-33\t292   \t0.818684\t17.03 \t27 \t29 \t2  \t292   \t3.22135\n",
            "28 \t270   \t0.180758\t28 \t2.76958\t4.46816e-33\t270   \t0.387833\t17.216\t28 \t35 \t1  \t270   \t3.46718\n",
            "29 \t245   \t0.165115\t29 \t3.05538\t4.46816e-33\t245   \t0.367202\t17.326\t29 \t33 \t3  \t245   \t3.35078\n",
            "30 \t275   \t0.185605\t30 \t2.46439\t4.46816e-33\t275   \t0.378318\t17.422\t30 \t32 \t1  \t275   \t3.43102\n",
            "31 \t280   \t0.230915\t31 \t18.9739\t4.46816e-33\t280   \t0.940138\t17.294\t31 \t34 \t1  \t280   \t3.80415\n",
            "32 \t293   \t0.211469\t32 \t6.02464\t4.46816e-33\t293   \t0.44578 \t17.312\t32 \t40 \t1  \t293   \t3.99583\n",
            "33 \t279   \t0.256988\t33 \t17.6713\t4.46816e-33\t279   \t0.941969\t17.23 \t33 \t33 \t1  \t279   \t3.83107\n",
            "34 \t310   \t0.188854\t34 \t2.9829 \t4.46816e-33\t310   \t0.352967\t17.294\t34 \t37 \t1  \t310   \t4.12645\n",
            "35 \t281   \t0.23417 \t35 \t16.3144\t4.46816e-33\t281   \t0.835631\t17.424\t35 \t41 \t1  \t281   \t4.27413\n",
            "36 \t257   \t0.196733\t36 \t4.251  \t4.46816e-33\t257   \t0.483674\t17.336\t36 \t33 \t1  \t257   \t3.726  \n",
            "37 \t280   \t0.194023\t37 \t19.4605\t4.46816e-33\t280   \t0.948118\t17.546\t37 \t33 \t4  \t280   \t3.77358\n",
            "38 \t287   \t0.151656\t38 \t2.55647\t4.46816e-33\t287   \t0.32177 \t17.794\t38 \t37 \t2  \t287   \t4.03281\n",
            "39 \t269   \t0.170606\t39 \t1.59859\t4.46816e-33\t269   \t0.311509\t17.78 \t39 \t37 \t1  \t269   \t4.19471\n",
            "40 \t284   \t0.222348\t40 \t14.2339\t4.46816e-33\t284   \t0.740731\t17.888\t40 \t37 \t2  \t284   \t4.28619\n",
            "41 \t259   \t0.136276\t41 \t4.33604\t4.46816e-33\t259   \t0.386362\t18.324\t41 \t43 \t1  \t259   \t4.79698\n",
            "42 \t278   \t0.19283 \t42 \t13.8349\t4.46816e-33\t278   \t0.746924\t18.338\t42 \t43 \t1  \t278   \t5.19805\n",
            "43 \t278   \t0.24361 \t43 \t15.9144\t4.46816e-33\t278   \t0.979593\t18.168\t43 \t43 \t1  \t278   \t5.17646\n",
            "44 \t259   \t2.37019 \t44 \t1081.82\t4.46816e-33\t259   \t48.3272 \t18.572\t44 \t45 \t1  \t259   \t5.69182\n",
            "45 \t284   \t0.197139\t45 \t3.35225\t4.46816e-33\t284   \t0.428309\t18.774\t45 \t41 \t2  \t284   \t5.5088 \n",
            "46 \t289   \t0.193262\t46 \t5.06943\t4.46816e-33\t289   \t0.486366\t18.884\t46 \t43 \t5  \t289   \t5.94832\n",
            "47 \t263   \t0.195924\t47 \t4.64881\t4.46816e-33\t263   \t0.446203\t19.374\t47 \t47 \t1  \t263   \t6.51231\n",
            "48 \t281   \t0.210959\t48 \t23.6622\t4.46816e-33\t281   \t1.10261 \t19.766\t48 \t53 \t3  \t281   \t7.41291\n",
            "49 \t267   \t0.168653\t49 \t13.8172\t4.46816e-33\t267   \t0.706958\t20.252\t49 \t53 \t2  \t267   \t7.54006\n",
            "50 \t286   \t0.190566\t50 \t3.05538\t4.46816e-33\t286   \t0.42382 \t20.478\t50 \t57 \t1  \t286   \t8.03079\n",
            "51 \t273   \t0.166439\t51 \t6.22189\t4.46816e-33\t273   \t0.432896\t20.896\t51 \t53 \t1  \t273   \t7.96952\n",
            "52 \t291   \t0.154261\t52 \t4.09456\t4.46816e-33\t291   \t0.4022  \t21.16 \t52 \t55 \t6  \t291   \t8.41465\n",
            "53 \t271   \t0.16113 \t53 \t3.05538\t4.46816e-33\t271   \t0.352352\t21.412\t53 \t55 \t1  \t271   \t8.9303 \n",
            "54 \t280   \t0.164979\t54 \t2.53356\t4.46816e-33\t280   \t0.378379\t21.882\t54 \t55 \t3  \t280   \t9.32181\n",
            "55 \t294   \t0.21313 \t55 \t17.4655\t4.46816e-33\t294   \t0.879215\t22.05 \t55 \t63 \t2  \t294   \t9.5858 \n",
            "56 \t273   \t0.136201\t56 \t2.6934 \t4.46816e-33\t273   \t0.305101\t22.668\t56 \t57 \t2  \t273   \t9.74873\n",
            "57 \t278   \t0.126027\t57 \t3.05538\t4.46816e-33\t278   \t0.320757\t23.8  \t57 \t55 \t1  \t278   \t10.5191\n",
            "58 \t239   \t0.146869\t58 \t16.3144\t4.46816e-33\t239   \t0.791884\t23.582\t58 \t59 \t3  \t239   \t10.9405\n",
            "59 \t285   \t0.227064\t59 \t17.7327\t4.46816e-33\t285   \t1.13072 \t23.934\t59 \t58 \t1  \t285   \t10.8941\n",
            "60 \t272   \t0.186694\t60 \t14.8827\t4.46816e-33\t272   \t0.763328\t24.516\t60 \t72 \t1  \t272   \t11.8948\n",
            "61 \t277   \t0.12867 \t61 \t2.9829 \t4.46816e-33\t277   \t0.332383\t26.156\t61 \t61 \t1  \t277   \t12.414 \n",
            "62 \t260   \t0.150669\t62 \t1.90624\t4.46816e-33\t260   \t0.337417\t26.386\t62 \t69 \t7  \t260   \t12.7593\n",
            "63 \t292   \t0.158046\t63 \t7.64018\t4.46816e-33\t292   \t0.465897\t27.432\t63 \t81 \t1  \t292   \t13.5263\n",
            "64 \t277   \t0.123927\t64 \t4.39391\t4.46816e-33\t277   \t0.349793\t29.902\t64 \t73 \t9  \t277   \t14.2551\n",
            "65 \t268   \t0.134891\t65 \t3.05538\t4.46816e-33\t268   \t0.338115\t29.714\t65 \t79 \t2  \t268   \t14.7892\n",
            "66 \t270   \t0.155151\t66 \t14.3573\t4.46816e-33\t270   \t0.707341\t30.094\t66 \t73 \t2  \t270   \t14.5227\n",
            "67 \t285   \t0.123142\t67 \t1.90624\t4.46816e-33\t285   \t0.299746\t31.45 \t67 \t73 \t3  \t285   \t14.6427\n",
            "68 \t263   \t0.122146\t68 \t1.90624\t4.46816e-33\t263   \t0.305585\t33.022\t68 \t89 \t1  \t263   \t15.5721\n",
            "69 \t262   \t0.117101\t69 \t4.15647\t4.46816e-33\t262   \t0.361043\t34.604\t69 \t85 \t1  \t262   \t16.3024\n",
            "70 \t279   \t0.15047 \t70 \t4.36811\t4.46816e-33\t279   \t0.431522\t35.04 \t70 \t100\t1  \t279   \t16.188 \n",
            "71 \t270   \t0.111357\t71 \t2.6934 \t4.46816e-33\t270   \t0.304959\t36.03 \t71 \t97 \t1  \t270   \t16.3285\n",
            "72 \t273   \t0.161578\t72 \t16.1269\t4.46816e-33\t273   \t0.798814\t37.538\t72 \t87 \t5  \t273   \t17.0408\n",
            "73 \t273   \t0.13732 \t73 \t4.93061\t4.46816e-33\t273   \t0.408733\t37.816\t73 \t91 \t3  \t273   \t17.0216\n",
            "74 \t261   \t0.107028\t74 \t7.59046\t4.46816e-33\t261   \t0.423065\t40.148\t74 \t99 \t6  \t261   \t17.7627\n",
            "75 \t276   \t0.176668\t75 \t18.9739\t4.46816e-33\t276   \t0.957556\t40.412\t75 \t102\t3  \t276   \t17.8052\n",
            "76 \t281   \t0.121178\t76 \t2.54124\t4.46816e-33\t281   \t0.323928\t40.87 \t76 \t104\t3  \t281   \t18.4674\n",
            "77 \t306   \t0.113481\t77 \t1.95434\t4.46816e-33\t306   \t0.270122\t42.438\t77 \t104\t9  \t306   \t19.1448\n",
            "78 \t255   \t0.136742\t78 \t8.23694\t4.46816e-33\t255   \t0.49884 \t42.664\t78 \t104\t5  \t255   \t18.4498\n",
            "79 \t279   \t0.0984624\t79 \t5.36   \t4.46816e-33\t279   \t0.386373\t43.574\t79 \t104\t5  \t279   \t19.0536\n",
            "80 \t274   \t0.137337 \t80 \t4.97474\t4.46816e-33\t274   \t0.41603 \t44.128\t80 \t108\t1  \t274   \t20.584 \n",
            "81 \t277   \t0.0909672\t81 \t2.25101\t4.46816e-33\t277   \t0.254881\t47.594\t81 \t129\t1  \t277   \t21.6218\n",
            "82 \t277   \t0.0892329\t82 \t3.89986\t4.46816e-33\t277   \t0.292761\t48.304\t82 \t129\t7  \t277   \t21.2611\n",
            "83 \t260   \t0.131908 \t83 \t7.92183\t4.46816e-33\t260   \t0.519719\t49.942\t83 \t137\t3  \t260   \t21.2809\n",
            "84 \t291   \t0.0871408\t84 \t2.75512\t4.46816e-33\t291   \t0.279765\t51.522\t84 \t139\t9  \t291   \t20.8976\n",
            "85 \t261   \t0.0817655\t85 \t2.6934 \t4.46816e-33\t261   \t0.291236\t52.216\t85 \t137\t9  \t261   \t20.9872\n",
            "86 \t281   \t0.109005 \t86 \t16.2885\t4.46816e-33\t281   \t0.779085\t53.332\t86 \t137\t9  \t281   \t20.8293\n",
            "87 \t288   \t0.08896  \t87 \t3.015  \t4.46816e-33\t288   \t0.286448\t56.642\t87 \t133\t3  \t288   \t21.7795\n",
            "88 \t254   \t0.0633131\t88 \t3.46241\t4.46816e-33\t254   \t0.251484\t59.452\t88 \t133\t9  \t254   \t21.7719\n",
            "89 \t267   \t0.0709204\t89 \t1.49919\t4.46816e-33\t267   \t0.22539 \t61.272\t89 \t118\t9  \t267   \t22.0245\n",
            "90 \t260   \t0.0616354\t90 \t3.74942\t4.46816e-33\t260   \t0.264236\t62.258\t90 \t123\t11 \t260   \t22.059 \n",
            "91 \t279   \t0.0882174\t91 \t9.12456\t4.46816e-33\t279   \t0.483377\t61.632\t91 \t123\t1  \t279   \t22.5063\n",
            "92 \t294   \t0.105913 \t92 \t9.31424\t4.46816e-33\t294   \t0.533758\t61.638\t92 \t125\t9  \t294   \t23.2892\n",
            "93 \t262   \t0.0441196\t93 \t1.49919\t4.46816e-33\t262   \t0.162255\t64.084\t93 \t128\t7  \t262   \t23.4709\n",
            "94 \t257   \t0.0723111\t94 \t3.23905\t4.46816e-33\t257   \t0.30539 \t66.08 \t94 \t128\t2  \t257   \t24.3731\n",
            "95 \t288   \t0.164428 \t95 \t14.2339\t4.46816e-33\t288   \t1.06988 \t67.854\t95 \t127\t1  \t288   \t25.0272\n",
            "96 \t299   \t0.0777787\t96 \t2.9829 \t4.46816e-33\t299   \t0.285167\t70.066\t96 \t141\t1  \t299   \t26.6939\n",
            "97 \t295   \t0.0808116\t97 \t4.97474\t4.46816e-33\t295   \t0.368068\t72.07 \t97 \t141\t10 \t295   \t25.4057\n",
            "98 \t269   \t0.0869951\t98 \t10.6118\t4.46816e-33\t269   \t0.557747\t72.742\t98 \t139\t7  \t269   \t23.9137\n",
            "99 \t271   \t0.0540239\t99 \t2.6934 \t4.46816e-33\t271   \t0.217784\t74.48 \t99 \t141\t15 \t271   \t23.6281\n",
            "100\t301   \t0.0917215\t100\t3.05538\t4.46816e-33\t301   \t0.310759\t72.928\t100\t141\t1  \t301   \t25.7949\n"
          ],
          "name": "stdout"
        }
      ]
    },
    {
      "cell_type": "code",
      "metadata": {
        "id": "RSyss1dzPhd0"
      },
      "source": [
        "best = hof[0]\n",
        "nodes, edges, labels = gp.graph(best)"
      ],
      "execution_count": 17,
      "outputs": []
    },
    {
      "cell_type": "code",
      "metadata": {
        "id": "wjHH7EuOPhOQ"
      },
      "source": [
        "g = pgv.AGraph()\n",
        "g.add_nodes_from(nodes)\n",
        "g.add_edges_from(edges)\n",
        "g.layout(prog=\"dot\")\n",
        "\n",
        "for i in nodes:\n",
        "    n = g.get_node(i)\n",
        "    n.attr[\"label\"] = labels[i]\n",
        "\n",
        "g.draw(\"tree.pdf\")"
      ],
      "execution_count": 18,
      "outputs": []
    },
    {
      "cell_type": "code",
      "metadata": {
        "colab": {
          "base_uri": "https://localhost:8080/",
          "height": 248
        },
        "id": "fOIcQaocvuHx",
        "outputId": "68c4ad5b-5b29-43ef-9243-2ba64c1ea1e2"
      },
      "source": [
        "g = nx.Graph()\n",
        "g.add_nodes_from(nodes)\n",
        "g.add_edges_from(edges)\n",
        "pos = graphviz_layout(g, prog=\"dot\")\n",
        "\n",
        "nx.draw_networkx_nodes(g, pos)\n",
        "nx.draw_networkx_edges(g, pos)\n",
        "nx.draw_networkx_labels(g, pos, labels)\n",
        "plt.show()"
      ],
      "execution_count": 19,
      "outputs": [
        {
          "output_type": "display_data",
          "data": {
            "image/png": "[encoded data removed]",
            "text/plain": [
              "<Figure size 432x288 with 1 Axes>"
            ]
          },
          "metadata": {
            "tags": []
          }
        }
      ]
    },
    {
      "cell_type": "code",
      "metadata": {
        "colab": {
          "base_uri": "https://localhost:8080/"
        },
        "id": "jwXnaMpJ1L9b",
        "outputId": "7e0d3e88-2a15-4883-9508-83027e7efce0"
      },
      "source": [
        "print(best)"
      ],
      "execution_count": 20,
      "outputs": [
        {
          "output_type": "stream",
          "text": [
            "add(add(mul(mul(x, x), x), x), mul(x, add(mul(mul(x, x), x), x)))\n"
          ],
          "name": "stdout"
        }
      ]
    },
    {
      "cell_type": "code",
      "metadata": {
        "colab": {
          "base_uri": "https://localhost:8080/"
        },
        "id": "haxGv9zb2uMT",
        "outputId": "c0a5c507-bab8-4410-d4de-53ed689a6a63"
      },
      "source": [
        "gp_func = toolbox.compile(expr=best)\n",
        "def true_fc(x):\n",
        "  return x**4 + x**3 + x**2 + x\n",
        "error = gp_func(0.1) - true_fc(0.1)\n",
        "print(error)"
      ],
      "execution_count": 22,
      "outputs": [
        {
          "output_type": "stream",
          "text": [
            "0.0\n"
          ],
          "name": "stdout"
        }
      ]
    },
    {
      "cell_type": "markdown",
      "metadata": {
        "id": "zFLHmUtU05AE"
      },
      "source": [
        "# Notes\n",
        "\n",
        "DEAP: Evolutionary Algorithms Made Easy\n",
        "\n",
        "https://www.jmlr.org/papers/volume13/fortin12a/fortin12a.pdf\n",
        "\n",
        "\n",
        "TensorGP – Genetic Programming Engine in\n",
        "TensorFlow\n",
        "\n",
        "https://arxiv.org/pdf/2103.07512.pdf"
      ]
    }
  ]
}