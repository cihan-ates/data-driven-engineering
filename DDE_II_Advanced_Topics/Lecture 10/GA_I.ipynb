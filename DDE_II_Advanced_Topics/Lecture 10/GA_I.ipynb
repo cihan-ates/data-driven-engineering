{
  "nbformat": 4,
  "nbformat_minor": 0,
  "metadata": {
    "colab": {
      "name": "GA_examples.ipynb",
      "provenance": [],
      "collapsed_sections": []
    },
    "kernelspec": {
      "name": "python3",
      "display_name": "Python 3"
    },
    "language_info": {
      "name": "python"
    }
  },
  "cells": [
    {
      "cell_type": "markdown",
      "metadata": {
        "id": "cQxGOeC7ZmUj"
      },
      "source": [
        "# Genetic Algortihms - I"
      ]
    },
    {
      "cell_type": "markdown",
      "metadata": {
        "id": "SGDnRis4GSYs"
      },
      "source": [
        "[![Open In Colab](https://colab.research.google.com/assets/colab-badge.svg)](https://colab.research.google.com/github/cihan-ates/data-driven-engineering/blob/master/DDE_II_Advanced_Topics/Lecture%2010/GA_I.ipynb)\n"
      ]
    },
    {
      "cell_type": "markdown",
      "metadata": {
        "id": "sfsD9SajitVV"
      },
      "source": [
        "\n",
        "“It is not the strongest of the species that survives,\n",
        "not the most intelligent that survives.\n",
        "It is the one that is the most adaptable to change.”\n",
        "― Charles Darwin "
      ]
    },
    {
      "cell_type": "markdown",
      "metadata": {
        "id": "VpF0Ype1X_L7"
      },
      "source": [
        "# Important Note\n",
        "\n",
        "Lecture notes and notebooks must not be copied and/or distributed without the express permission of ITS.\n",
        "\n",
        "\n",
        "\n"
      ]
    },
    {
      "cell_type": "markdown",
      "metadata": {
        "id": "yK9Bh5Dv1Eo8"
      },
      "source": [
        "# Example I: Guessing a password\n",
        "\n",
        "In this example, we will code a GA based function with mutations. Our objective is to guess the password, about which we know the number of characters to generate a chromosome. "
      ]
    },
    {
      "cell_type": "code",
      "metadata": {
        "id": "5vK6rddz1hoq"
      },
      "source": [
        "# Libraries:\n",
        "import datetime\n",
        "import random\n",
        "from bisect import bisect_left\n",
        "from math import exp"
      ],
      "execution_count": 29,
      "outputs": []
    },
    {
      "cell_type": "code",
      "metadata": {
        "id": "py5mH-jE1rjh"
      },
      "source": [
        "#Step 0: decide on a fitness criteria:\n",
        "#------------------------------------------\n",
        "'''\n",
        "Feedback score for natural selection:\n",
        "Since we are trying to guess a password, we need to compare our guess with the feedback signal;\n",
        "we need to create a score defining how close our guess is. Since all characters should match the true value, \n",
        "we can assign 1 for each match. \n",
        "*\n",
        "Here we will loop over the characters. Note that our example is simple; our chromosome includes only one 'gene'. \n",
        "'''\n",
        "def get_fitness(genes, target):\n",
        "    return sum(1 for expected, actual in zip(target, genes)\n",
        "               if expected == actual)"
      ],
      "execution_count": 2,
      "outputs": []
    },
    {
      "cell_type": "code",
      "metadata": {
        "colab": {
          "base_uri": "https://localhost:8080/",
          "height": 36
        },
        "id": "suFEhxi91zJj",
        "outputId": "ea6a1bdb-c5cd-4672-b358-88801d01546a"
      },
      "source": [
        "#Step 1: create a population pool:\n",
        "'''\n",
        "* Our guess will be updated so population := 1\n",
        "* We can consider that we have mitosis and we will immediately kill the parent.\n",
        "'''"
      ],
      "execution_count": 4,
      "outputs": [
        {
          "output_type": "execute_result",
          "data": {
            "application/vnd.google.colaboratory.intrinsic+json": {
              "type": "string"
            },
            "text/plain": [
              "'\\n* Our guess will be updated so population := 1\\n* We can consider that we have mitosis and we will immediately kill the parent.\\n'"
            ]
          },
          "metadata": {
            "tags": []
          },
          "execution_count": 4
        }
      ]
    },
    {
      "cell_type": "code",
      "metadata": {
        "id": "BlM7xrCe128y"
      },
      "source": [
        "#Step 2: create a parent pool:\n",
        "'''\n",
        "Creating first parents:\n",
        "We will generate a sequence of random characters from our database, geneSet \n",
        "by using a size limitation length.\n",
        "'''\n",
        "def _generate_parent(length, geneSet):\n",
        "    genes = []\n",
        "    while len(genes) < length:\n",
        "        sampleSize = min(length - len(genes), len(geneSet))\n",
        "        genes.extend(random.sample(geneSet, sampleSize))\n",
        "    return ''.join(genes)"
      ],
      "execution_count": 5,
      "outputs": []
    },
    {
      "cell_type": "code",
      "metadata": {
        "id": "bbIcAmqF16Xi"
      },
      "source": [
        "#Step 3: Breeding & mutations:\n",
        "'''\n",
        "Mutation engine:  randomly selecting newGene \n",
        "\n",
        "* We have only mitosis. \n",
        "* child => parent\n",
        "\n",
        "For the mutation, lets consider a simple case where only one\n",
        "chacter in the gene will be replaced.\n",
        "\n",
        "Note that here we are using a trick: \n",
        "- we will sample two characters randomly,\n",
        "- if the randomly selected gene is identical to the previous gene,\n",
        "  we will use the second one. \n",
        "- by doing so, we eliminated unlucky iterations...\n",
        "'''\n",
        "def _mutate(parent, geneSet):\n",
        "    index = random.randrange(0, len(parent))\n",
        "    childGenes = list(parent)\n",
        "    newGene, alternate = random.sample(geneSet, 2)\n",
        "    childGenes[index] = alternate \\\n",
        "        if newGene == childGenes[index] \\\n",
        "            else newGene\n",
        "    return ''.join(childGenes)"
      ],
      "execution_count": 6,
      "outputs": []
    },
    {
      "cell_type": "code",
      "metadata": {
        "id": "TgOBX6bE1_4S"
      },
      "source": [
        "#Step 4: Survival of the fittest:\n",
        "'''\n",
        "#Starting the algorithm:\n",
        "--------------------------------------------------------------------------\n",
        "i.    generates a guess,\n",
        "ii.   requests the fitness for that guess, then\n",
        "iii.  compares the fitness to that of the previous best guess, and\n",
        "iv.   keeps the guessed gene with the better fitness.\n",
        "--------------------------------------------------------------------------\n",
        "'''    \n",
        "def get_best(get_fitness, targetLen, optimalFitness, geneSet, display):\n",
        "    '''\n",
        "    get_fitness: fitness function to be called\n",
        "    targetLen: length of the password\n",
        "    optimalFitness: best score expected\n",
        "    geneSet: pool to create chromosomes (genes)\n",
        "    display: terminal output for visualization\n",
        "    '''\n",
        "    random.seed(2021)\n",
        "    bestParent = _generate_parent(targetLen, geneSet)\n",
        "    bestFitness = get_fitness(bestParent)\n",
        "    display(bestParent)\n",
        "    if bestFitness >= optimalFitness:\n",
        "        return bestParent\n",
        "    while True:\n",
        "        child = _mutate(bestParent, geneSet)\n",
        "        childFitness = get_fitness(child)\n",
        "        if bestFitness >= childFitness:\n",
        "            continue\n",
        "        display(child)\n",
        "        if childFitness >= optimalFitness:\n",
        "            return child\n",
        "        bestFitness = childFitness\n",
        "        bestParent = child"
      ],
      "execution_count": 7,
      "outputs": []
    },
    {
      "cell_type": "code",
      "metadata": {
        "id": "8V646UOG1eLq"
      },
      "source": [
        "# Visualization & helper functions:\n",
        "'''\n",
        "Given the genes, target and time;\n",
        "calls the fitness funtion & prints out the fitness and the elapsed time.\n",
        "'''\n",
        "def display(genes, target, startTime):\n",
        "    timeDiff = datetime.datetime.now() - startTime\n",
        "    fitness = get_fitness(genes, target)\n",
        "    print(\"{0}\\t{1}\\t{2}\".format(genes, fitness, str(timeDiff)))"
      ],
      "execution_count": 8,
      "outputs": []
    },
    {
      "cell_type": "code",
      "metadata": {
        "colab": {
          "base_uri": "https://localhost:8080/"
        },
        "id": "hW17EGQD1aLa",
        "outputId": "30ca3c13-c9cc-4456-cb8d-7cdb4a75674c"
      },
      "source": [
        "#Main program:\n",
        "#------------------------  \n",
        "def guess_password(target):\n",
        "    geneset = \" abcdefghijklmnopqrstuvwxyzABCDEFGHIJKLMNOPQRSTUVWXYZ!.?_*/#+-\"\n",
        "    startTime = datetime.datetime.now()\n",
        "    \n",
        "    def fnGetFitness(genes): \n",
        "        return get_fitness(genes, target)\n",
        "    \n",
        "    def fnDisplay(genes): \n",
        "        display(genes, target, startTime)\n",
        "\n",
        "    optimalFitness = len(target)\n",
        "    get_best(fnGetFitness, len(target), optimalFitness, geneset, fnDisplay)\n",
        "\n",
        "def test_password(target):\n",
        "    guess_password(target)\n",
        "    \n",
        "target = \"GA is fun!\"\n",
        "test_password(target)"
      ],
      "execution_count": 9,
      "outputs": [
        {
          "output_type": "stream",
          "text": [
            "!y.NHqo/bB\t0\t0:00:00.000172\n",
            "!A.NHqo/bB\t1\t0:00:00.001200\n",
            "!A.NHqf/bB\t2\t0:00:00.002791\n",
            "!A.NHqfubB\t3\t0:00:00.003519\n",
            "!A.iHqfubB\t4\t0:00:00.003846\n",
            "!A.iHqfunB\t5\t0:00:00.004857\n",
            "!A.isqfunB\t6\t0:00:00.006359\n",
            "!A.isqfun!\t7\t0:00:00.009981\n",
            "GA.isqfun!\t8\t0:00:00.013876\n",
            "GA.is fun!\t9\t0:00:00.016180\n",
            "GA is fun!\t10\t0:00:00.024178\n"
          ],
          "name": "stdout"
        }
      ]
    },
    {
      "cell_type": "markdown",
      "metadata": {
        "id": "iLPvvFFk7et6"
      },
      "source": [
        "# Example 2: N Queen problem\n",
        "\n",
        "8 queens are to be placed on a standard chessboard such that none are under attack!\n",
        "\n",
        "Is it a simple task? \n",
        "\n",
        "There are 64 x 63 x 62 x 61 x 60 x 59 x 58 x 57 possible combinations; only 12 of them work... (considering symmetry)\n",
        "\n",
        "https://en.wikipedia.org/wiki/Eight_queens_puzzle\n",
        "\n",
        "We will code it in a way that it can work with imaginary chess boards with a size of N. "
      ]
    },
    {
      "cell_type": "markdown",
      "metadata": {
        "id": "Dcs5uoOh8Qbx"
      },
      "source": [
        "## What are we going to do?\n",
        "    \n",
        "* creating a measure of fitness\n",
        "\n",
        "* creating a genetic code as Chromosome class.\n",
        "\n",
        "* Use random numbers to generate the parents' chromosomes.\n",
        "\n",
        "* Define ways to alter the genetic material:\n",
        "    \n",
        "    - Mutations\n",
        "    \n",
        "\n",
        "* Define helper functions:\n",
        "    \n",
        "    - Displaying the results"
      ]
    },
    {
      "cell_type": "code",
      "metadata": {
        "id": "GPfaHOgH8bqy"
      },
      "source": [
        "#Step 0: decide on a fitness criteria:\n",
        "#------------------------------------------\n",
        "'''\n",
        "Now it is more difficult to solve. We need to think about how queens move around; it can move anywhere horizontally, vertically,\n",
        "and also diagonally. So, there should not be any other queens along these paths: we need to check the lines on + and x along the board.\n",
        "\n",
        "We can think of alternative ways but since the board is square and has symmetric indices, we can scan the rows, columns and diagonals easily.\n",
        "We need to first set the origin: here it is on lower left corner. Then, we need to find a smart way to count the number of hits horizontally, \n",
        "vertically and diagonally.\n",
        "\n",
        "Fitness idea is as follows: \n",
        "- save the indices of rows and columns for '+' scanning.\n",
        "- save the indices of diagonals for 'x' scanning. \n",
        "- For every found 'Q', we will update the lists. \n",
        "\n",
        "Example of a board:\n",
        "\n",
        "- - - Q - - - -\n",
        "- - - - - - Q -\n",
        "- - - - Q - - -\n",
        "- - Q - - - - -\n",
        "Q - - - - - - -\n",
        "- - - - - Q - -\n",
        "- - - - - - - Q\n",
        "- Q - - - - - -\n",
        "\n",
        "In order to do that, we should first code \n",
        "- an object representation of a chess board and\n",
        "- how we can encode the locations of 'Q' on a chromosome.\n",
        "\n",
        "- Additional notes -------------------------------------------------------------\n",
        "\n",
        " Magic methods are special methods describing how a certain objects should behave. \n",
        " They are always surrounded by double underscores (e.g. __init__, __lt__). \n",
        " The double underscores indicate that these are magic methods and shouldn't be called \n",
        " directly by the programmer, they are normally called by the interpreter itself. \n",
        " https://docs.python.org/3/tutorial/classes.html\n",
        " https://docs.python.org/3/reference/datamodel.html#special-method-names\n",
        "\n",
        "--------------------------------------------------------------------------------\n",
        "'''   \n",
        "#Creating Chromosome class for storing genes and the fitness:\n",
        "class Chromosome:\n",
        "    # Chromosome object that has Genes and Fitness attributes.\n",
        "    # Genes will include 2N elements, for the row and column indices.\n",
        "    Genes = None\n",
        "    Fitness = None\n",
        "    def __init__(self, genes, fitness):\n",
        "        self.Genes = genes\n",
        "        self.Fitness = fitness\n",
        "\n",
        "#Creating the chess board as a class:\n",
        "class Board:\n",
        "    #Queens' locations on a board:\n",
        "    def __init__(self, genes, size):\n",
        "        #empty board:\n",
        "        board = [['-'] * size for _ in range(size)]\n",
        "        # placing the queens according to the genes:\n",
        "        # row: even indices, 0, 2, ...\n",
        "        # column: odd indices 1, 3, ...\n",
        "        for index in range(0,len(genes), 2):\n",
        "            row = genes[index]\n",
        "            column = genes[index + 1]\n",
        "            board[column][row] = \"Q\"\n",
        "        self._board = board\n",
        "    # We will call it later with \"get\":\n",
        "    def get(self, row, column):\n",
        "        return self._board[column][row]\n",
        "    # We will print the board later on with \"print\"\n",
        "    def print(self):\n",
        "        # 0,0 is at the bottom left corner...\n",
        "        for i in reversed(range(0, len(self._board))):\n",
        "            print(' '.join(self._board[i]))    \n",
        "\n",
        "# Creating a fitness class:\n",
        "class Fitness:\n",
        "    Total = None\n",
        "    #__init__ method which initialises the object. Here total is the fitness of the chromosome.\n",
        "    def __init__(self, total):\n",
        "        self.Total = total\n",
        "    #__gt__(self, other) Defines the behaviour of the greater-than operator >\n",
        "    # we will use it in the adaptive learning\n",
        "    def __gt__(self, other):\n",
        "        return self.Total < other.Total\n",
        "    #__str__(self) Defines behaviour for when str() is called on \n",
        "    def __str__(self):\n",
        "        return \"{0}\".format(self.Total) "
      ],
      "execution_count": 10,
      "outputs": []
    },
    {
      "cell_type": "code",
      "metadata": {
        "id": "S0eEigvq_H96"
      },
      "source": [
        "def get_fitness(genes, size):\n",
        "  '''\n",
        "  genes: chromosome\n",
        "  size: size of the genetic material. this is added to make function more generalizable.\n",
        "\n",
        "  ***\n",
        "\n",
        "  Now we are ready to create a fitness function.\n",
        "  Similar to Example 1, here we will create a score to drive the algorithm. \n",
        "\n",
        "  We will create a board based on genetic material; \"genotype\" ==> \"phenotype\"\n",
        "  Phenotype is an individual's observable traits, such as height, eye color, and blood type. \n",
        "  Here it refers to the queens on the board.\n",
        "\n",
        "  Then, we will check '+' and 'x' lines over the board. Each hit means +1 in each iterable list.\n",
        "  Ideally;\n",
        "  - N queens should be on N different horzontal (-) lines,\n",
        "  - N queens should be on N different vertical  (|) lines,\n",
        "  - N queens should be on N different diaginal  (/) lines,\n",
        "  - N queens should be on N different diagonal  (\\) lines,\n",
        "  ------------------------------------------------------------\n",
        "  idealScore := 4N\n",
        "  currentScore :=  len(rowsWithQueens) + len(colsWithQueens) + len(northEastDiagonalsWithQueens)  +  len(southEastDiagonalsWithQueens)\n",
        "  Fitness = idealScore - currentScore\n",
        "  ***\n",
        "  '''\n",
        "  board = Board(genes, size)\n",
        "  #set() method is used to convert any of the iterable to sequence of iterable elements with distinct elements.\n",
        "  rowsWithQueens = set()\n",
        "  colsWithQueens = set()\n",
        "  northEastDiagonalsWithQueens = set()\n",
        "  southEastDiagonalsWithQueens = set()\n",
        "  for row in range(size):\n",
        "      for col in range(size):\n",
        "          if board.get(row, col) == \"Q\":\n",
        "              rowsWithQueens.add(row)\n",
        "              colsWithQueens.add(col)\n",
        "              northEastDiagonalsWithQueens.add(row + col)\n",
        "              southEastDiagonalsWithQueens.add(size - 1 - row + col)\n",
        "  total = size - len(rowsWithQueens) \\\n",
        "      + size - len(colsWithQueens) \\\n",
        "          + size - len(northEastDiagonalsWithQueens) \\\n",
        "              + size - len(southEastDiagonalsWithQueens)\n",
        "  return Fitness(total)"
      ],
      "execution_count": 14,
      "outputs": []
    },
    {
      "cell_type": "code",
      "metadata": {
        "id": "X0RAzY2cD3A5"
      },
      "source": [
        "#Step 2: create a parent pool:\n",
        "#---------------------------------\n",
        "def _generate_parent(length, geneSet, get_fitness):\n",
        "  '''\n",
        "  length: indicator of the board dimensions; 2N\n",
        "  geneSet: d\n",
        "  get_fitness: fitness function\n",
        "  '''\n",
        "  genes = []\n",
        "  while len(genes) < length:\n",
        "      sampleSize = min(length - len(genes), len(geneSet))\n",
        "      genes.extend(random.sample(geneSet, sampleSize))\n",
        "  fitness = get_fitness(genes)\n",
        "  return Chromosome(genes, fitness)"
      ],
      "execution_count": 15,
      "outputs": []
    },
    {
      "cell_type": "code",
      "metadata": {
        "id": "yCfj_6FJEcta"
      },
      "source": [
        "#Step 3: Breeding & mutations:\n",
        "# --------------------------\n",
        "# note that  we use an alternate replacement in case the randomly selected \n",
        "# if the newGene is the same as the one it is supposed to replace...\n",
        "def _mutate(parent, geneSet, get_fitness):\n",
        "    mutated = parent.Genes[:]\n",
        "    index = random.randrange(0, len(parent.Genes))\n",
        "    newGene, alternate = random.sample(geneSet, 2)\n",
        "    mutated[index] = alternate \\\n",
        "        if newGene == mutated[index] \\\n",
        "        else newGene\n",
        "    fitness = get_fitness(mutated)\n",
        "    return Chromosome(mutated, fitness)"
      ],
      "execution_count": 16,
      "outputs": []
    },
    {
      "cell_type": "code",
      "metadata": {
        "id": "YGo_qk3s7mPz"
      },
      "source": [
        "#Step 4: Survival of the fittest!\n",
        "\n",
        "'''\n",
        "Improving genes from generation to generation... \n",
        "\n",
        "This will be done in two steps:\n",
        "    \n",
        "    (i)  generating successively better gene sequences ==> we will use an infinite loop;\n",
        "    (ii) displaying improvements and breaking the loop when we reach the desired fitness.\n",
        "\n",
        "'''\n",
        "# Part I:\n",
        "# creating a function for the evolution. we will replace the parent if child is fitter.\n",
        "def _get_improvement(mutated, generate_parent):\n",
        "    bestParent = generate_parent()\n",
        "    # yield is a keyword that is used like return, \n",
        "    #except the function will return a generator:\n",
        "    yield bestParent\n",
        "    while True:\n",
        "        child = mutated(bestParent)\n",
        "        if bestParent.Fitness > child.Fitness:\n",
        "            continue\n",
        "        if not child.Fitness > bestParent.Fitness:\n",
        "            bestParent = child\n",
        "            continue\n",
        "        yield child\n",
        "        bestParent = child \n",
        "\n",
        "# Part II:\n",
        "def get_best(get_fitness, targetLen, optimalFitness, geneSet, display):\n",
        "    random.seed()\n",
        "\n",
        "    '''\n",
        "    get_fitness: fitness function used\n",
        "    targetLen: desired gene length\n",
        "    optimalFitness: coded as zero\n",
        "    geneSet: possible characters for the indices.\n",
        "    display: helper display function to be called during the evolution.\n",
        "    '''\n",
        "    \n",
        "    def fnMutate(parent):\n",
        "        return _mutate(parent, geneSet, get_fitness)\n",
        "    \n",
        "    def fnGenerateParent():\n",
        "        return _generate_parent(targetLen, geneSet, get_fitness)\n",
        "    \n",
        "    # Creating the loop with break: \n",
        "    # optimalFitness will be used as a criteria:\n",
        "    for improvement in _get_improvement(fnMutate, fnGenerateParent):\n",
        "        display(improvement)\n",
        "        if not  optimalFitness > improvement.Fitness:\n",
        "            return improvement"
      ],
      "execution_count": 17,
      "outputs": []
    },
    {
      "cell_type": "code",
      "metadata": {
        "id": "KHkA_4ouJsOy"
      },
      "source": [
        "# Helper functions:   \n",
        "  \n",
        "def display(candidate, startTime, size):\n",
        "    timeDiff = datetime.datetime.now() - startTime\n",
        "    board = Board(candidate.Genes, size)\n",
        "    board.print()\n",
        "    print(\"{0}\\t- {1}\\t{2}\".format(\n",
        "        ' '.join(map(str, candidate.Genes)),\n",
        "        candidate.Fitness,\n",
        "        str(timeDiff)))  "
      ],
      "execution_count": 18,
      "outputs": []
    },
    {
      "cell_type": "code",
      "metadata": {
        "colab": {
          "base_uri": "https://localhost:8080/"
        },
        "id": "QiKDzCwSJDiL",
        "outputId": "8682b765-2968-42a6-ae19-60b77f29f824"
      },
      "source": [
        "# Main program:\n",
        "          \n",
        "def EightQueensTests(size=8):\n",
        "    #creating indices\n",
        "    geneset = [i for i in range(size)]\n",
        "    #for performance evaluation if needed\n",
        "    startTime = datetime.datetime.now()\n",
        "    #callable functions:\n",
        "    def fnDisplay(candidate):\n",
        "        display(candidate, startTime, size)\n",
        "    def fnGetFitness(genes):\n",
        "        return get_fitness(genes, size)\n",
        "    #Setting the goal:\n",
        "    optimalFitness = Fitness(0)\n",
        "    #\"Survuval of the fittest\":\n",
        "    get_best(fnGetFitness, 2 * size, optimalFitness, geneset, fnDisplay)\n",
        "                        \n",
        "EightQueensTests(size=8)  "
      ],
      "execution_count": 19,
      "outputs": [
        {
          "output_type": "stream",
          "text": [
            "Q - - - - - - -\n",
            "- Q - - - - - -\n",
            "- - - - Q - - -\n",
            "- - - - - - - -\n",
            "- - Q - - - - -\n",
            "- - - Q - - - -\n",
            "- - - - - - Q -\n",
            "- - - - - - - Q\n",
            "7 0 4 5 2 3 6 1 0 7 4 5 3 2 1 6\t- 9\t0:00:00.000269\n",
            "Q - - - - - - -\n",
            "- Q - - - - - -\n",
            "- - - - Q - - -\n",
            "- - - - - - - -\n",
            "- - Q - - - - -\n",
            "- - - Q Q - - -\n",
            "- - - - - - Q -\n",
            "- - - - - - - Q\n",
            "7 0 4 5 2 3 6 1 0 7 4 2 3 2 1 6\t- 7\t0:00:00.003093\n",
            "Q - - - Q - - -\n",
            "- - - - - - Q -\n",
            "- - - - Q - - -\n",
            "- - - - - - - -\n",
            "- - Q - - - - -\n",
            "- - - - Q - - -\n",
            "- Q - - - - - -\n",
            "- - - - - - - Q\n",
            "7 0 4 5 2 3 1 1 0 7 4 7 4 2 6 6\t- 6\t0:00:00.005138\n",
            "Q - - Q - - - -\n",
            "- - - - - - Q -\n",
            "- - - - Q - - -\n",
            "- - - - - - - -\n",
            "- - Q - - - - -\n",
            "- - - - Q - - -\n",
            "- Q - - - - - -\n",
            "- - - - - - - Q\n",
            "7 0 4 5 2 3 1 1 0 7 3 7 4 2 6 6\t- 5\t0:00:00.006275\n",
            "- - - Q - - - -\n",
            "- - - - - - Q -\n",
            "Q - - - - - - -\n",
            "- - - - - - - -\n",
            "Q Q - - - - - -\n",
            "- - - - Q - - -\n",
            "- Q - - - - - -\n",
            "- - - - - - - Q\n",
            "7 0 0 5 1 3 1 1 0 3 3 7 4 2 6 6\t- 4\t0:00:00.006762\n",
            "- - - Q - - - -\n",
            "- - - - - - Q -\n",
            "Q - - - - - - -\n",
            "- - - - - - - -\n",
            "Q Q - - - - - -\n",
            "- - - - Q - - -\n",
            "- - - - - Q - -\n",
            "- - - - - - - Q\n",
            "7 0 0 5 1 3 5 1 0 3 3 7 4 2 6 6\t- 3\t0:00:00.008262\n",
            "- - - Q - - - Q\n",
            "- - - - - Q - -\n",
            "Q - - - - - - -\n",
            "- - - - - - - -\n",
            "- Q - - - - - -\n",
            "- - - - Q - - -\n",
            "- - Q - - - - -\n",
            "- - - - - - - Q\n",
            "7 0 0 5 1 3 2 1 7 7 3 7 4 2 5 6\t- 2\t0:00:00.010638\n",
            "- - Q Q - - - -\n",
            "- - - - - Q - -\n",
            "- - - - - - - Q\n",
            "- - - - - - - -\n",
            "- Q - - - - - -\n",
            "- - - - - - Q -\n",
            "- - - - Q - - -\n",
            "Q - - - - - - -\n",
            "4 1 0 0 1 3 2 7 7 5 3 7 6 2 5 6\t- 1\t0:00:00.023153\n",
            "- - - Q - - - -\n",
            "- - - - - Q - -\n",
            "- - - - - - - Q\n",
            "- - Q - - - - -\n",
            "Q - - - - - - -\n",
            "- - - - - - Q -\n",
            "- - - - Q - - -\n",
            "- Q - - - - - -\n",
            "4 1 1 0 0 3 2 4 7 5 3 7 6 2 5 6\t- 0\t0:00:00.049218\n"
          ],
          "name": "stdout"
        }
      ]
    },
    {
      "cell_type": "markdown",
      "metadata": {
        "id": "T3oAP7ZsLgPi"
      },
      "source": [
        "# Example 3: Solving system of linear equations\n",
        "\n",
        "Now we will move to a more difficult problem, in which it is difficult to find the global minimum or maximum point, if we do not regularize the evolutionary path. "
      ]
    },
    {
      "cell_type": "code",
      "metadata": {
        "id": "epKjvY0vLZnx"
      },
      "source": [
        "# Measure of fitness:    \n",
        "'''\n",
        "---------------------------------------------------------------------------\n",
        "x \t+ \t0 \t+ \tz \t= \t6\n",
        "0 \t− \t3y \t+ \tz \t= \t7\n",
        "2x \t+ \ty \t+ \t3z \t= \t15\n",
        "\n",
        "Here the fitness is easier to code, we can force the summation to be zero\n",
        "given the right x,y,z couple, which will also be our genetic code.\n",
        "---------------------------------------------------------------------------\n",
        "'''\n",
        "#Coefficients:\n",
        "#-------------\n",
        "# note that we can make these allocatable and read from the data for \n",
        "# many equation problems.\n",
        "eqs = [[1, 0, 1, -6],[0, -3, 1, -7],[2, 1, 3, -15]]\n",
        "#-------------\n",
        "\n",
        "#We will again keep the fitness and chromosome together. Similar to previous example,\n",
        "# we will create a class for Fitness and the Chromosome:\n",
        "\n",
        "class Fitness:\n",
        "    TotalDifference = None\n",
        "    #__init__ method which initialises the object. Here total is the fitness value.\n",
        "    def __init__(self, TotalDifference):\n",
        "        self.TotalDifference = TotalDifference\n",
        "    #__gt__(self, other) Defines the behaviour of the greater-than operator >\n",
        "    def __gt__(self, other):\n",
        "        return self.TotalDifference < other.TotalDifference\n",
        "    #__str__(self) Defines behaviour for when str() is called on \n",
        "    #an instance of your class\n",
        "    def __str__(self):\n",
        "        return \"diff: {0:0.2f}\".format(float(self.TotalDifference))   \n",
        "\n",
        "class Chromosome:\n",
        "    # Chromosome object that has Genes and Fitness attributes\n",
        "    Genes = None\n",
        "    Fitness = None\n",
        "    def __init__(self, genes, fitness):\n",
        "        self.Genes = genes\n",
        "        self.Fitness = fitness\n",
        "\n",
        "# Fitness function:\n",
        "def get_fitness(genes):\n",
        "    fitness = 0\n",
        "    x,y,z = genes[0:3]\n",
        "    for eq in eqs:\n",
        "        fitness += abs(eq[0]*x+eq[1]*y+eq[2]*z+eq[3])\n",
        "    fitness = Fitness(fitness)\n",
        "    return fitness "
      ],
      "execution_count": 20,
      "outputs": []
    },
    {
      "cell_type": "code",
      "metadata": {
        "id": "5Y5_jqDoNo4M"
      },
      "source": [
        "#Step 2: create a parent pool:\n",
        "def _generate_parent(length, geneSet, get_fitness):\n",
        "    genes = []\n",
        "    while len(genes) < length:\n",
        "        sampleSize = min(length - len(genes), len(geneSet))\n",
        "        genes.extend(random.sample(geneSet, sampleSize))\n",
        "    fitness = get_fitness(genes)\n",
        "    return Chromosome(genes, fitness)"
      ],
      "execution_count": 21,
      "outputs": []
    },
    {
      "cell_type": "code",
      "metadata": {
        "id": "amh6b2erNtVx"
      },
      "source": [
        "#Step 3: Breeding & mutations:\n",
        "# note that  we use an alternate replacement in case the randomly selected \n",
        "# newGene is the same as the one it is supposed to replace...\n",
        "def _mutate(parent, geneSet, get_fitness):\n",
        "    mutated = parent.Genes[:]\n",
        "    index = random.randrange(0, len(parent.Genes))\n",
        "    newGene, alternate = random.sample(geneSet, 2)\n",
        "    mutated[index] = alternate \\\n",
        "        if newGene == mutated[index] \\\n",
        "        else newGene\n",
        "    fitness = get_fitness(mutated)\n",
        "    return Chromosome(mutated, fitness)"
      ],
      "execution_count": 22,
      "outputs": []
    },
    {
      "cell_type": "code",
      "metadata": {
        "id": "iWBqT9k6N2Li"
      },
      "source": [
        "#Step 4: Survival of the fittest!\n",
        "'''\n",
        "Improving genes: \n",
        "-------------------\n",
        "This will be done in two steps:\n",
        "    \n",
        "    (i)  generating successively better gene sequences ==> infinite loop\n",
        "    (ii) displaying improvements and breaking the loop\n",
        "\n",
        "'''\n",
        "\n",
        "# Part I:\n",
        "def _get_improvement(mutated, generate_parent):\n",
        "    bestParent = generate_parent()\n",
        "    # yield is a keyword that is used like return, \n",
        "    #except the function will return a generator:\n",
        "    yield bestParent\n",
        "    while True:\n",
        "        child = mutated(bestParent)\n",
        "        if bestParent.Fitness > child.Fitness:\n",
        "            continue\n",
        "        if not child.Fitness > bestParent.Fitness:\n",
        "            bestParent = child\n",
        "            continue\n",
        "        yield child\n",
        "        bestParent = child \n",
        "\n",
        "# Part II:\n",
        "def get_best(get_fitness, targetLen, optimalFitness, geneSet, display):\n",
        "    random.seed()\n",
        "    \n",
        "    def fnMutate(parent):\n",
        "        return _mutate(parent, geneSet, get_fitness)\n",
        "    \n",
        "    def fnGenerateParent():\n",
        "        return _generate_parent(targetLen, geneSet, get_fitness)\n",
        "    \n",
        "    #Creating the loop: optimalFitness will be used as a criteria:\n",
        "    for improvement in _get_improvement(fnMutate, fnGenerateParent):\n",
        "        display(improvement)\n",
        "        if not  optimalFitness > improvement.Fitness:\n",
        "            return improvement"
      ],
      "execution_count": 23,
      "outputs": []
    },
    {
      "cell_type": "code",
      "metadata": {
        "id": "6wGQYUQ7OAfj"
      },
      "source": [
        "# Helper functions:   \n",
        "def display(candidate, startTime):\n",
        "    timeDiff = datetime.datetime.now() - startTime\n",
        "    x, y, z = candidate.Genes[0:3]\n",
        "    print(\"x = {0}, y = {1}, z={2}\\t{3}\\t{4}\".format(\n",
        "        x,\n",
        "        y,\n",
        "        z,\n",
        "        candidate.Fitness,\n",
        "        str(timeDiff))) "
      ],
      "execution_count": 24,
      "outputs": []
    },
    {
      "cell_type": "code",
      "metadata": {
        "colab": {
          "base_uri": "https://localhost:8080/",
          "height": 545
        },
        "id": "MLKeEUEhOEsp",
        "outputId": "2dfaaa83-ae40-4eb2-bbf3-fa24ce17af54"
      },
      "source": [
        "# Main program:\n",
        "          \n",
        "def LinearEquationGA():\n",
        "    geneset = [i for i in range(-10, 10)]\n",
        "    startTime = datetime.datetime.now()\n",
        "    def fnDisplay(candidate):\n",
        "        display(candidate, startTime)\n",
        "    def fnGetFitness(genes):\n",
        "        return get_fitness(genes)\n",
        "    \n",
        "    optimalFitness = Fitness(0)\n",
        "    \n",
        "    best = get_best(fnGetFitness, 3, optimalFitness, geneset, fnDisplay)\n",
        "        \n",
        "                \n",
        "LinearEquationGA()  "
      ],
      "execution_count": 25,
      "outputs": [
        {
          "output_type": "stream",
          "text": [
            "x = -2, y = -7, z=5\tdiff: 33.00\t0:00:00.000145\n",
            "x = -2, y = -6, z=5\tdiff: 29.00\t0:00:00.000349\n",
            "x = 6, y = -6, z=5\tdiff: 27.00\t0:00:00.000452\n",
            "x = 6, y = -6, z=4\tdiff: 22.00\t0:00:00.000538\n",
            "x = 6, y = -6, z=0\tdiff: 20.00\t0:00:00.000611\n",
            "x = 6, y = 2, z=0\tdiff: 14.00\t0:00:00.000716\n",
            "x = 6, y = -1, z=0\tdiff: 8.00\t0:00:00.000791\n",
            "x = 6, y = -1, z=1\tdiff: 5.00\t0:00:00.001109\n",
            "x = 6, y = -2, z=1\tdiff: 3.00\t0:00:00.002081\n",
            "x = 7, y = -2, z=1\tdiff: 2.00\t0:00:00.002717\n"
          ],
          "name": "stdout"
        },
        {
          "output_type": "error",
          "ename": "KeyboardInterrupt",
          "evalue": "ignored",
          "traceback": [
            "\u001b[0;31m---------------------------------------------------------------------------\u001b[0m",
            "\u001b[0;31mKeyboardInterrupt\u001b[0m                         Traceback (most recent call last)",
            "\u001b[0;32m<ipython-input-25-3afa9467eeea>\u001b[0m in \u001b[0;36m<module>\u001b[0;34m()\u001b[0m\n\u001b[1;32m     14\u001b[0m \u001b[0;34m\u001b[0m\u001b[0m\n\u001b[1;32m     15\u001b[0m \u001b[0;34m\u001b[0m\u001b[0m\n\u001b[0;32m---> 16\u001b[0;31m \u001b[0mLinearEquationGA\u001b[0m\u001b[0;34m(\u001b[0m\u001b[0;34m)\u001b[0m\u001b[0;34m\u001b[0m\u001b[0;34m\u001b[0m\u001b[0m\n\u001b[0m",
            "\u001b[0;32m<ipython-input-25-3afa9467eeea>\u001b[0m in \u001b[0;36mLinearEquationGA\u001b[0;34m()\u001b[0m\n\u001b[1;32m     11\u001b[0m     \u001b[0moptimalFitness\u001b[0m \u001b[0;34m=\u001b[0m \u001b[0mFitness\u001b[0m\u001b[0;34m(\u001b[0m\u001b[0;36m0\u001b[0m\u001b[0;34m)\u001b[0m\u001b[0;34m\u001b[0m\u001b[0;34m\u001b[0m\u001b[0m\n\u001b[1;32m     12\u001b[0m \u001b[0;34m\u001b[0m\u001b[0m\n\u001b[0;32m---> 13\u001b[0;31m     \u001b[0mbest\u001b[0m \u001b[0;34m=\u001b[0m \u001b[0mget_best\u001b[0m\u001b[0;34m(\u001b[0m\u001b[0mfnGetFitness\u001b[0m\u001b[0;34m,\u001b[0m \u001b[0;36m3\u001b[0m\u001b[0;34m,\u001b[0m \u001b[0moptimalFitness\u001b[0m\u001b[0;34m,\u001b[0m \u001b[0mgeneset\u001b[0m\u001b[0;34m,\u001b[0m \u001b[0mfnDisplay\u001b[0m\u001b[0;34m)\u001b[0m\u001b[0;34m\u001b[0m\u001b[0;34m\u001b[0m\u001b[0m\n\u001b[0m\u001b[1;32m     14\u001b[0m \u001b[0;34m\u001b[0m\u001b[0m\n\u001b[1;32m     15\u001b[0m \u001b[0;34m\u001b[0m\u001b[0m\n",
            "\u001b[0;32m<ipython-input-23-03091e1e1514>\u001b[0m in \u001b[0;36mget_best\u001b[0;34m(get_fitness, targetLen, optimalFitness, geneSet, display)\u001b[0m\n\u001b[1;32m     37\u001b[0m \u001b[0;34m\u001b[0m\u001b[0m\n\u001b[1;32m     38\u001b[0m     \u001b[0;31m#Creating the loop: optimalFitness will be used as a criteria:\u001b[0m\u001b[0;34m\u001b[0m\u001b[0;34m\u001b[0m\u001b[0;34m\u001b[0m\u001b[0m\n\u001b[0;32m---> 39\u001b[0;31m     \u001b[0;32mfor\u001b[0m \u001b[0mimprovement\u001b[0m \u001b[0;32min\u001b[0m \u001b[0m_get_improvement\u001b[0m\u001b[0;34m(\u001b[0m\u001b[0mfnMutate\u001b[0m\u001b[0;34m,\u001b[0m \u001b[0mfnGenerateParent\u001b[0m\u001b[0;34m)\u001b[0m\u001b[0;34m:\u001b[0m\u001b[0;34m\u001b[0m\u001b[0;34m\u001b[0m\u001b[0m\n\u001b[0m\u001b[1;32m     40\u001b[0m         \u001b[0mdisplay\u001b[0m\u001b[0;34m(\u001b[0m\u001b[0mimprovement\u001b[0m\u001b[0;34m)\u001b[0m\u001b[0;34m\u001b[0m\u001b[0;34m\u001b[0m\u001b[0m\n\u001b[1;32m     41\u001b[0m         \u001b[0;32mif\u001b[0m \u001b[0;32mnot\u001b[0m  \u001b[0moptimalFitness\u001b[0m \u001b[0;34m>\u001b[0m \u001b[0mimprovement\u001b[0m\u001b[0;34m.\u001b[0m\u001b[0mFitness\u001b[0m\u001b[0;34m:\u001b[0m\u001b[0;34m\u001b[0m\u001b[0;34m\u001b[0m\u001b[0m\n",
            "\u001b[0;32m<ipython-input-23-03091e1e1514>\u001b[0m in \u001b[0;36m_get_improvement\u001b[0;34m(mutated, generate_parent)\u001b[0m\n\u001b[1;32m     17\u001b[0m     \u001b[0;32myield\u001b[0m \u001b[0mbestParent\u001b[0m\u001b[0;34m\u001b[0m\u001b[0;34m\u001b[0m\u001b[0m\n\u001b[1;32m     18\u001b[0m     \u001b[0;32mwhile\u001b[0m \u001b[0;32mTrue\u001b[0m\u001b[0;34m:\u001b[0m\u001b[0;34m\u001b[0m\u001b[0;34m\u001b[0m\u001b[0m\n\u001b[0;32m---> 19\u001b[0;31m         \u001b[0mchild\u001b[0m \u001b[0;34m=\u001b[0m \u001b[0mmutated\u001b[0m\u001b[0;34m(\u001b[0m\u001b[0mbestParent\u001b[0m\u001b[0;34m)\u001b[0m\u001b[0;34m\u001b[0m\u001b[0;34m\u001b[0m\u001b[0m\n\u001b[0m\u001b[1;32m     20\u001b[0m         \u001b[0;32mif\u001b[0m \u001b[0mbestParent\u001b[0m\u001b[0;34m.\u001b[0m\u001b[0mFitness\u001b[0m \u001b[0;34m>\u001b[0m \u001b[0mchild\u001b[0m\u001b[0;34m.\u001b[0m\u001b[0mFitness\u001b[0m\u001b[0;34m:\u001b[0m\u001b[0;34m\u001b[0m\u001b[0;34m\u001b[0m\u001b[0m\n\u001b[1;32m     21\u001b[0m             \u001b[0;32mcontinue\u001b[0m\u001b[0;34m\u001b[0m\u001b[0;34m\u001b[0m\u001b[0m\n",
            "\u001b[0;32m<ipython-input-23-03091e1e1514>\u001b[0m in \u001b[0;36mfnMutate\u001b[0;34m(parent)\u001b[0m\n\u001b[1;32m     31\u001b[0m \u001b[0;34m\u001b[0m\u001b[0m\n\u001b[1;32m     32\u001b[0m     \u001b[0;32mdef\u001b[0m \u001b[0mfnMutate\u001b[0m\u001b[0;34m(\u001b[0m\u001b[0mparent\u001b[0m\u001b[0;34m)\u001b[0m\u001b[0;34m:\u001b[0m\u001b[0;34m\u001b[0m\u001b[0;34m\u001b[0m\u001b[0m\n\u001b[0;32m---> 33\u001b[0;31m         \u001b[0;32mreturn\u001b[0m \u001b[0m_mutate\u001b[0m\u001b[0;34m(\u001b[0m\u001b[0mparent\u001b[0m\u001b[0;34m,\u001b[0m \u001b[0mgeneSet\u001b[0m\u001b[0;34m,\u001b[0m \u001b[0mget_fitness\u001b[0m\u001b[0;34m)\u001b[0m\u001b[0;34m\u001b[0m\u001b[0;34m\u001b[0m\u001b[0m\n\u001b[0m\u001b[1;32m     34\u001b[0m \u001b[0;34m\u001b[0m\u001b[0m\n\u001b[1;32m     35\u001b[0m     \u001b[0;32mdef\u001b[0m \u001b[0mfnGenerateParent\u001b[0m\u001b[0;34m(\u001b[0m\u001b[0;34m)\u001b[0m\u001b[0;34m:\u001b[0m\u001b[0;34m\u001b[0m\u001b[0;34m\u001b[0m\u001b[0m\n",
            "\u001b[0;32m<ipython-input-22-12842a764841>\u001b[0m in \u001b[0;36m_mutate\u001b[0;34m(parent, geneSet, get_fitness)\u001b[0m\n\u001b[1;32m      4\u001b[0m \u001b[0;32mdef\u001b[0m \u001b[0m_mutate\u001b[0m\u001b[0;34m(\u001b[0m\u001b[0mparent\u001b[0m\u001b[0;34m,\u001b[0m \u001b[0mgeneSet\u001b[0m\u001b[0;34m,\u001b[0m \u001b[0mget_fitness\u001b[0m\u001b[0;34m)\u001b[0m\u001b[0;34m:\u001b[0m\u001b[0;34m\u001b[0m\u001b[0;34m\u001b[0m\u001b[0m\n\u001b[1;32m      5\u001b[0m     \u001b[0mmutated\u001b[0m \u001b[0;34m=\u001b[0m \u001b[0mparent\u001b[0m\u001b[0;34m.\u001b[0m\u001b[0mGenes\u001b[0m\u001b[0;34m[\u001b[0m\u001b[0;34m:\u001b[0m\u001b[0;34m]\u001b[0m\u001b[0;34m\u001b[0m\u001b[0;34m\u001b[0m\u001b[0m\n\u001b[0;32m----> 6\u001b[0;31m     \u001b[0mindex\u001b[0m \u001b[0;34m=\u001b[0m \u001b[0mrandom\u001b[0m\u001b[0;34m.\u001b[0m\u001b[0mrandrange\u001b[0m\u001b[0;34m(\u001b[0m\u001b[0;36m0\u001b[0m\u001b[0;34m,\u001b[0m \u001b[0mlen\u001b[0m\u001b[0;34m(\u001b[0m\u001b[0mparent\u001b[0m\u001b[0;34m.\u001b[0m\u001b[0mGenes\u001b[0m\u001b[0;34m)\u001b[0m\u001b[0;34m)\u001b[0m\u001b[0;34m\u001b[0m\u001b[0;34m\u001b[0m\u001b[0m\n\u001b[0m\u001b[1;32m      7\u001b[0m     \u001b[0mnewGene\u001b[0m\u001b[0;34m,\u001b[0m \u001b[0malternate\u001b[0m \u001b[0;34m=\u001b[0m \u001b[0mrandom\u001b[0m\u001b[0;34m.\u001b[0m\u001b[0msample\u001b[0m\u001b[0;34m(\u001b[0m\u001b[0mgeneSet\u001b[0m\u001b[0;34m,\u001b[0m \u001b[0;36m2\u001b[0m\u001b[0;34m)\u001b[0m\u001b[0;34m\u001b[0m\u001b[0;34m\u001b[0m\u001b[0m\n\u001b[1;32m      8\u001b[0m     \u001b[0mmutated\u001b[0m\u001b[0;34m[\u001b[0m\u001b[0mindex\u001b[0m\u001b[0;34m]\u001b[0m \u001b[0;34m=\u001b[0m \u001b[0malternate\u001b[0m         \u001b[0;32mif\u001b[0m \u001b[0mnewGene\u001b[0m \u001b[0;34m==\u001b[0m \u001b[0mmutated\u001b[0m\u001b[0;34m[\u001b[0m\u001b[0mindex\u001b[0m\u001b[0;34m]\u001b[0m         \u001b[0;32melse\u001b[0m \u001b[0mnewGene\u001b[0m\u001b[0;34m\u001b[0m\u001b[0;34m\u001b[0m\u001b[0m\n",
            "\u001b[0;32m/usr/lib/python3.7/random.py\u001b[0m in \u001b[0;36mrandrange\u001b[0;34m(self, start, stop, step, _int)\u001b[0m\n\u001b[1;32m    172\u001b[0m \u001b[0;31m## -------------------- integer methods  -------------------\u001b[0m\u001b[0;34m\u001b[0m\u001b[0;34m\u001b[0m\u001b[0;34m\u001b[0m\u001b[0m\n\u001b[1;32m    173\u001b[0m \u001b[0;34m\u001b[0m\u001b[0m\n\u001b[0;32m--> 174\u001b[0;31m     \u001b[0;32mdef\u001b[0m \u001b[0mrandrange\u001b[0m\u001b[0;34m(\u001b[0m\u001b[0mself\u001b[0m\u001b[0;34m,\u001b[0m \u001b[0mstart\u001b[0m\u001b[0;34m,\u001b[0m \u001b[0mstop\u001b[0m\u001b[0;34m=\u001b[0m\u001b[0;32mNone\u001b[0m\u001b[0;34m,\u001b[0m \u001b[0mstep\u001b[0m\u001b[0;34m=\u001b[0m\u001b[0;36m1\u001b[0m\u001b[0;34m,\u001b[0m \u001b[0m_int\u001b[0m\u001b[0;34m=\u001b[0m\u001b[0mint\u001b[0m\u001b[0;34m)\u001b[0m\u001b[0;34m:\u001b[0m\u001b[0;34m\u001b[0m\u001b[0;34m\u001b[0m\u001b[0m\n\u001b[0m\u001b[1;32m    175\u001b[0m         \"\"\"Choose a random item from range(start, stop[, step]).\n\u001b[1;32m    176\u001b[0m \u001b[0;34m\u001b[0m\u001b[0m\n",
            "\u001b[0;31mKeyboardInterrupt\u001b[0m: "
          ]
        }
      ]
    },
    {
      "cell_type": "markdown",
      "metadata": {
        "id": "6Rns21XQOIX6"
      },
      "source": [
        "Here you will see that the algorthm is stuck! We have hit a local minima and we cannot improve the soulution any further. \n",
        "\n",
        "Here we see the importance of a wider genetic pool and breeding. Since we override the parent with a mutated child and the mutation is limited to one gene at a time; algorithm cannot escape. \n",
        "\n",
        "One simple solution here is to change our criteria: we can put a limit to max number of generations and kill the line if it does not improve further and/or satisfy our criteria. \n",
        "\n",
        "Here we will implement a counter for the generation and track it. "
      ]
    },
    {
      "cell_type": "markdown",
      "metadata": {
        "id": "X5qmk6fwPdr6"
      },
      "source": [
        "## Updating the program..."
      ]
    },
    {
      "cell_type": "code",
      "metadata": {
        "id": "DJUK-GgdO-z0"
      },
      "source": [
        "class Chromosome:\n",
        "    # Chromosome object that has Genes, Fitness and Generation attributes:\n",
        "    Genes = None\n",
        "    Fitness = None\n",
        "    Generation = 0\n",
        "    def __init__(self, genes, fitness):\n",
        "        self.Genes = genes\n",
        "        self.Fitness = fitness\n",
        "  "
      ],
      "execution_count": 30,
      "outputs": []
    },
    {
      "cell_type": "code",
      "metadata": {
        "id": "i0-SrzPhPQEr"
      },
      "source": [
        "\n",
        "# Part I:\n",
        "def _get_improvement(mutated, generate_parent, maxGen):\n",
        "    parent = bestParent = generate_parent()\n",
        "    # yield is a keyword that is used like return, \n",
        "    #except the function will return a generator:\n",
        "    yield bestParent\n",
        "    historicalFitness = [bestParent.Fitness]\n",
        "    while True:\n",
        "        child = mutated(parent)\n",
        "        if parent.Fitness > child.Fitness:\n",
        "            if maxGen is None:\n",
        "                continue\n",
        "            parent.Generation +=1\n",
        "            if maxGen > parent.Generation:\n",
        "                continue\n",
        "            index = bisect_left(historicalFitness, child.Fitness, 0, len(historicalFitness))\n",
        "            difference = len(historicalFitness) - index\n",
        "            proportionSimilar = difference / len(historicalFitness)\n",
        "            if random.random() < exp(-proportionSimilar):\n",
        "                parent = child\n",
        "                continue\n",
        "        if not child.Fitness > parent.Fitness:\n",
        "            child.Generation = parent.Generation + 1\n",
        "            parent = child\n",
        "            continue\n",
        "        parent = child\n",
        "        parent.Generation = 0\n",
        "        if child.Fitness > bestParent.Fitness:\n",
        "            yield child\n",
        "            bestParent = child \n",
        "            historicalFitness.append(child.Fitness)\n",
        "\n",
        "# Part II:\n",
        "def get_best(get_fitness, targetLen, optimalFitness, geneSet, display, \n",
        "             maxGen=None):\n",
        "    random.seed()\n",
        "    \n",
        "    def fnMutate(parent):\n",
        "        return _mutate(parent, geneSet, get_fitness)\n",
        "    \n",
        "    def fnGenerateParent():\n",
        "        return _generate_parent(targetLen, geneSet, get_fitness)\n",
        "    \n",
        "    #Creating the loop: optimalFitness will be used as a criteria:\n",
        "    for improvement in _get_improvement(fnMutate, fnGenerateParent,maxGen):\n",
        "        display(improvement)\n",
        "        if not  optimalFitness > improvement.Fitness:\n",
        "            return improvement\n",
        "  "
      ],
      "execution_count": 38,
      "outputs": []
    },
    {
      "cell_type": "code",
      "metadata": {
        "colab": {
          "base_uri": "https://localhost:8080/"
        },
        "id": "NqsXPIfxPRZp",
        "outputId": "9d787ca1-602d-4a1a-c3eb-e52a179fa25f"
      },
      "source": [
        "# Main program:\n",
        "          \n",
        "def LinearEquationGA():\n",
        "    geneset = [i for i in range(-50, 50)]\n",
        "    startTime = datetime.datetime.now()\n",
        "    def fnDisplay(candidate):\n",
        "        display(candidate, startTime)\n",
        "    def fnGetFitness(genes):\n",
        "        return get_fitness(genes)\n",
        "    \n",
        "    optimalFitness = Fitness(0)\n",
        "    \n",
        "    get_best(fnGetFitness, 3, optimalFitness, geneset, fnDisplay, maxGen=10)\n",
        "        \n",
        "                \n",
        "LinearEquationGA()  "
      ],
      "execution_count": 40,
      "outputs": [
        {
          "output_type": "stream",
          "text": [
            "x = -10, y = -34, z=39\tdiff: 205.00\t0:00:00.000943\n",
            "x = -10, y = 10, z=39\tdiff: 117.00\t0:00:00.001817\n",
            "x = -18, y = 10, z=39\tdiff: 93.00\t0:00:00.002027\n",
            "x = -18, y = 10, z=38\tdiff: 88.00\t0:00:00.002138\n",
            "x = -18, y = 10, z=17\tdiff: 37.00\t0:00:00.002205\n",
            "x = -18, y = 9, z=17\tdiff: 33.00\t0:00:00.002341\n",
            "x = -23, y = 9, z=17\tdiff: 30.00\t0:00:00.002430\n",
            "x = -6, y = 1, z=8\tdiff: 8.00\t0:00:00.002758\n",
            "x = -5, y = 0, z=8\tdiff: 5.00\t0:00:00.006757\n",
            "x = 0, y = -1, z=5\tdiff: 3.00\t0:00:00.051267\n",
            "x = -3, y = 0, z=7\tdiff: 2.00\t0:00:00.204676\n",
            "x = 2, y = -1, z=4\tdiff: 0.00\t0:00:00.353227\n"
          ],
          "name": "stdout"
        }
      ]
    },
    {
      "cell_type": "markdown",
      "metadata": {
        "id": "ovP-SLNoKg96"
      },
      "source": [
        "# References\n",
        "\n",
        "https://machinelearningmastery.com/simple-genetic-algorithm-from-scratch-in-python/\n",
        "\n",
        "https://neptune.ai/blog/adaptive-mutation-in-genetic-algorithm-with-python-examples\n",
        "\n",
        "https://pygad.readthedocs.io/en/latest/\n",
        "\n",
        "https://blog.paperspace.com/genetic-algorithm-applications-using-pygad/\n",
        "\n",
        "https://neptune.ai/blog/train-pytorch-models-using-genetic-algorithm-with-pygad\n",
        "\n",
        "https://github.com/deap/deap\n",
        "\n",
        "https://github.com/rmsolgi/geneticalgorithm\n",
        "\n",
        "http://pyevolve.sourceforge.net/\n",
        "\n",
        "A fun book for more examples: \n",
        "\n",
        "https://leanpub.com/genetic_algorithms_with_python\n"
      ]
    }
  ]
}