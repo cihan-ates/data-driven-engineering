{
  "nbformat": 4,
  "nbformat_minor": 0,
  "metadata": {
    "colab": {
      "name": "State_space_models.ipynb",
      "provenance": [],
      "collapsed_sections": []
    },
    "kernelspec": {
      "name": "python3",
      "display_name": "Python 3"
    },
    "language_info": {
      "name": "python"
    }
  },
  "cells": [
    {
      "cell_type": "markdown",
      "metadata": {
        "id": "cQxGOeC7ZmUj"
      },
      "source": [
        "# Active Session 6: State Space Models - I"
      ]
    },
    {
      "cell_type": "markdown",
      "metadata": {
        "id": "SGDnRis4GSYs"
      },
      "source": [
        "[![Open In Colab](https://colab.research.google.com/assets/colab-badge.svg)](https://colab.research.google.com/github/cihan-ates/data-driven-engineering/blob/master/DDE_II_Advanced_Topics/Lecture%208/Lecture_8.ipynb)\n"
      ]
    },
    {
      "cell_type": "markdown",
      "metadata": {
        "id": "VpF0Ype1X_L7"
      },
      "source": [
        "# Important Note\n",
        "\n",
        "Lecture notes and notebooks must not be copied and/or distributed without the express permission of ITS.\n",
        "\n",
        "The notebook is prepared by using the Chapters 1-6 of the Book \"[Kalman and Bayesian Filters in Python](https://nbviewer.jupyter.org/github/rlabbe/Kalman-and-Bayesian-Filters-in-Python/blob/master/table_of_contents.ipynb)\".\n",
        "\n",
        "\n",
        "\n"
      ]
    },
    {
      "cell_type": "code",
      "metadata": {
        "colab": {
          "base_uri": "https://localhost:8080/"
        },
        "id": "miHGjD1rbKBC",
        "outputId": "3fa29f7b-5f1a-44de-8c71-41da2a2723d8"
      },
      "source": [
        "%pip install filterpy"
      ],
      "execution_count": 1,
      "outputs": [
        {
          "output_type": "stream",
          "text": [
            "Requirement already satisfied: filterpy in /usr/local/lib/python3.7/dist-packages (1.4.5)\n",
            "Requirement already satisfied: numpy in /usr/local/lib/python3.7/dist-packages (from filterpy) (1.19.5)\n",
            "Requirement already satisfied: matplotlib in /usr/local/lib/python3.7/dist-packages (from filterpy) (3.2.2)\n",
            "Requirement already satisfied: scipy in /usr/local/lib/python3.7/dist-packages (from filterpy) (1.4.1)\n",
            "Requirement already satisfied: pyparsing!=2.0.4,!=2.1.2,!=2.1.6,>=2.0.1 in /usr/local/lib/python3.7/dist-packages (from matplotlib->filterpy) (2.4.7)\n",
            "Requirement already satisfied: kiwisolver>=1.0.1 in /usr/local/lib/python3.7/dist-packages (from matplotlib->filterpy) (1.3.1)\n",
            "Requirement already satisfied: python-dateutil>=2.1 in /usr/local/lib/python3.7/dist-packages (from matplotlib->filterpy) (2.8.1)\n",
            "Requirement already satisfied: cycler>=0.10 in /usr/local/lib/python3.7/dist-packages (from matplotlib->filterpy) (0.10.0)\n",
            "Requirement already satisfied: six>=1.5 in /usr/local/lib/python3.7/dist-packages (from python-dateutil>=2.1->matplotlib->filterpy) (1.15.0)\n"
          ],
          "name": "stdout"
        }
      ]
    },
    {
      "cell_type": "code",
      "metadata": {
        "id": "GwnYxmRuXqs0"
      },
      "source": [
        "#Fundamentals\n",
        "import statistics\n",
        "import numpy as np\n",
        "from collections import namedtuple\n",
        "import filterpy.stats as stats\n",
        "from numpy.random import randn\n",
        "from filterpy.stats import plot_gaussian_pdf, gaussian\n",
        "import random\n",
        "\n",
        "#filtering\n",
        "\n",
        "#https://filterpy.readthedocs.io/en/latest/#filterpy-gh\n",
        "from filterpy.gh import GHFilter\n",
        "#https://filterpy.readthedocs.io/en/latest/discrete_bayes/discrete_bayes.html\n",
        "from filterpy.discrete_bayes import predict, normalize\n",
        "from filterpy.discrete_bayes import update\n",
        "#https://filterpy.readthedocs.io/en/latest/#filterpy-kalman\n",
        "import filterpy.kalman as kf\n",
        "from filterpy.kalman import KalmanFilter\n",
        "from filterpy.common import Q_discrete_white_noise\n",
        "\n",
        "#Data generation for Kalman filter:\n",
        "from __future__ import (absolute_import, division, print_function, unicode_literals)\n",
        "import copy\n",
        "import math\n",
        "#Plotting\n",
        "import matplotlib as mpl\n",
        "import plotly.graph_objects as go\n",
        "import matplotlib.pylab as pylab\n",
        "import matplotlib.pyplot as plt"
      ],
      "execution_count": 2,
      "outputs": []
    },
    {
      "cell_type": "code",
      "metadata": {
        "id": "YM9WcevAePV3"
      },
      "source": [
        "import plotting as self_plots"
      ],
      "execution_count": 3,
      "outputs": []
    },
    {
      "cell_type": "markdown",
      "metadata": {
        "id": "kwTU0H4TVFjj"
      },
      "source": [
        "# Alpha beta filter\n",
        "\n",
        "You may have access the state of a given system via alternative sources: these could be different sensors attached on the system, a predictive model or simply your intuition (lets accept this a black box model) or you can measure the state of the system (lets say temperature) may times with one sensor (thermocouple). In a real world scenerio, non of these sources/measurements will be perfectly accurate, hence we need some sort of transformation fucntion correcting the our understanding of the system via available information.\n",
        "\n",
        "Here our motiation is to use the available information fully, so we do not want to pick and rely on a relatively more accurate source, but try to use all our sources so as not to eliminate any insights about the state of the system we are interseted in. \n",
        "\n",
        "Lets try to build our perspective starting with a simple exercise; temperature measurement. \n",
        "\n",
        "Imagine that you are taking repeated measurement within a high pressure, high temperature chamber:"
      ]
    },
    {
      "cell_type": "code",
      "metadata": {
        "colab": {
          "base_uri": "https://localhost:8080/"
        },
        "id": "b3tj8HDEUyzP",
        "outputId": "98ddddf3-1cc4-47ca-cfc4-400fed1e1681"
      },
      "source": [
        "# Creating noisy measurement data:\n",
        "measurements = np.random.uniform(380, 400, size=10000)\n",
        "mean = measurements.mean()\n",
        "print(f'Average of measurements is {mean:.3f}')"
      ],
      "execution_count": 4,
      "outputs": [
        {
          "output_type": "stream",
          "text": [
            "Average of measurements is 389.943\n"
          ],
          "name": "stdout"
        }
      ]
    },
    {
      "cell_type": "markdown",
      "metadata": {
        "id": "EV6zTYIvX_jA"
      },
      "source": [
        "The result seems reasonable at first glance; the expected value falls in the middle of our observations. Yet there is a critical assumption here:\n",
        "\n",
        "Our sensor is assumed to measure the same true temperature (say 390 C) as 380 and 400 with the same likelihood. Well, that is not usually the case, as we expect the sensor to read values closer to the true value most of the time and it should be less likely to print out a value as we get urther away from the true value.  "
      ]
    },
    {
      "cell_type": "code",
      "metadata": {
        "colab": {
          "base_uri": "https://localhost:8080/"
        },
        "id": "lfE6FNphZKEM",
        "outputId": "54f92df2-db7a-492f-c535-85d8757b1e1e"
      },
      "source": [
        "# Lets implement a likelihood:\n",
        "mean_val = np.random.normal(390, 5, size=10000).mean()\n",
        "print(f'Average of measurements is {mean_val:.3f}')"
      ],
      "execution_count": 5,
      "outputs": [
        {
          "output_type": "stream",
          "text": [
            "Average of measurements is 390.055\n"
          ],
          "name": "stdout"
        }
      ]
    },
    {
      "cell_type": "code",
      "metadata": {
        "colab": {
          "base_uri": "https://localhost:8080/"
        },
        "id": "06A7EJReZSmd",
        "outputId": "3fdb9676-5f19-45d5-b5db-15ea325ecb11"
      },
      "source": [
        "#Lets see the measurements:\n",
        "mean_val = np.random.normal(390, 5, size=10)\n",
        "print(mean_val)"
      ],
      "execution_count": 6,
      "outputs": [
        {
          "output_type": "stream",
          "text": [
            "[393.76071419 389.74490525 386.29880507 395.50574243 391.24268202\n",
            " 386.38717826 382.76199889 387.44442706 384.85680646 391.95997472]\n"
          ],
          "name": "stdout"
        }
      ]
    },
    {
      "cell_type": "markdown",
      "metadata": {
        "id": "IfruKaD3Z3t2"
      },
      "source": [
        "Is the temperature increasing, decreasing or are we just seeing a noise? How many times I should measure before deciding a temperature value? It is definitely not practical to make 10k measurements to decide the state of the system! Can we use the trend in the data? Lets continue with temperature example:"
      ]
    },
    {
      "cell_type": "code",
      "metadata": {
        "id": "Lbi5YCq8bWdy"
      },
      "source": [
        "temperature = [358.1, 364.7, 360.9, 359.9, 362.8, 364.8, 369.5, 367.9, 366.2, 371.3]\n",
        "error_1 = np.random.uniform(0, 5, size=len(temperature))\n",
        "error_2 = np.random.uniform(0, 5, len(temperature))"
      ],
      "execution_count": 7,
      "outputs": []
    },
    {
      "cell_type": "code",
      "metadata": {
        "id": "3IbbO-qH7R8X"
      },
      "source": [
        "hypothesis_y = []\n",
        "[hypothesis_y.append(statistics.mean(temperature)) for i in range(len(temperature))];"
      ],
      "execution_count": 8,
      "outputs": []
    },
    {
      "cell_type": "code",
      "metadata": {
        "colab": {
          "base_uri": "https://localhost:8080/",
          "height": 317
        },
        "id": "4QdO4bgf64kI",
        "outputId": "3daa2a71-fc79-47a9-d431-c06f0ae9ef08"
      },
      "source": [
        "self_plots.plotter(temperature,hypothesis_y,error_1,error_2)"
      ],
      "execution_count": 9,
      "outputs": [
        {
          "output_type": "display_data",
          "data": {
            "text/html": [
              "<html>\n",
              "<head><meta charset=\"utf-8\" /></head>\n",
              "<body>\n",
              "    <div>\n",
              "            <script src=\"https://cdnjs.cloudflare.com/ajax/libs/mathjax/2.7.5/MathJax.js?config=TeX-AMS-MML_SVG\"></script><script type=\"text/javascript\">if (window.MathJax) {MathJax.Hub.Config({SVG: {font: \"STIX-Web\"}});}</script>\n",
              "                <script type=\"text/javascript\">window.PlotlyConfig = {MathJaxConfig: 'local'};</script>\n",
              "        <script src=\"https://cdn.plot.ly/plotly-latest.min.js\"></script>    \n",
              "            <div id=\"ced5018a-3c98-440c-bfc4-bbd0831130f9\" class=\"plotly-graph-div\" style=\"height:300px; width:800px;\"></div>\n",
              "            <script type=\"text/javascript\">\n",
              "                \n",
              "                    window.PLOTLYENV=window.PLOTLYENV || {};\n",
              "                    \n",
              "                if (document.getElementById(\"ced5018a-3c98-440c-bfc4-bbd0831130f9\")) {\n",
              "                    Plotly.newPlot(\n",
              "                        'ced5018a-3c98-440c-bfc4-bbd0831130f9',\n",
              "                        [{\"error_y\": {\"array\": [1.4431934385753915, 4.406504197168891, 1.8937128244973256, 4.057956188483609, 0.930504257320871, 3.324193628830625, 3.552852899430379, 2.911472988430863, 2.6467303599947885, 0.40117162290743136], \"arrayminus\": [4.062672258099667, 2.6727236630790134, 2.5388892832975847, 2.4191403272046212, 2.793817230697158, 4.459189584594834, 3.157556646558868, 4.869444472440808, 0.7921623820256674, 1.3984003996516015], \"symmetric\": false, \"type\": \"data\"}, \"mode\": \"markers\", \"name\": \"data\", \"type\": \"scatter\", \"y\": [358.1, 364.7, 360.9, 359.9, 362.8, 364.8, 369.5, 367.9, 366.2, 371.3]}, {\"mode\": \"lines\", \"name\": \"hypothesis\", \"type\": \"scatter\", \"y\": [364.61, 364.61, 364.61, 364.61, 364.61, 364.61, 364.61, 364.61, 364.61, 364.61]}],\n",
              "                        {\"autosize\": false, \"height\": 300, \"margin\": {\"b\": 10, \"l\": 5, \"pad\": 4, \"r\": 5, \"t\": 10}, \"paper_bgcolor\": \"White\", \"template\": {\"data\": {\"bar\": [{\"error_x\": {\"color\": \"#2a3f5f\"}, \"error_y\": {\"color\": \"#2a3f5f\"}, \"marker\": {\"line\": {\"color\": \"#E5ECF6\", \"width\": 0.5}}, \"type\": \"bar\"}], \"barpolar\": [{\"marker\": {\"line\": {\"color\": \"#E5ECF6\", \"width\": 0.5}}, \"type\": \"barpolar\"}], \"carpet\": [{\"aaxis\": {\"endlinecolor\": \"#2a3f5f\", \"gridcolor\": \"white\", \"linecolor\": \"white\", \"minorgridcolor\": \"white\", \"startlinecolor\": \"#2a3f5f\"}, \"baxis\": {\"endlinecolor\": \"#2a3f5f\", \"gridcolor\": \"white\", \"linecolor\": \"white\", \"minorgridcolor\": \"white\", \"startlinecolor\": \"#2a3f5f\"}, \"type\": \"carpet\"}], \"choropleth\": [{\"colorbar\": {\"outlinewidth\": 0, \"ticks\": \"\"}, \"type\": \"choropleth\"}], \"contour\": [{\"colorbar\": {\"outlinewidth\": 0, \"ticks\": \"\"}, \"colorscale\": [[0.0, \"#0d0887\"], [0.1111111111111111, \"#46039f\"], [0.2222222222222222, \"#7201a8\"], [0.3333333333333333, \"#9c179e\"], [0.4444444444444444, \"#bd3786\"], [0.5555555555555556, \"#d8576b\"], [0.6666666666666666, \"#ed7953\"], [0.7777777777777778, \"#fb9f3a\"], [0.8888888888888888, \"#fdca26\"], [1.0, \"#f0f921\"]], \"type\": \"contour\"}], \"contourcarpet\": [{\"colorbar\": {\"outlinewidth\": 0, \"ticks\": \"\"}, \"type\": \"contourcarpet\"}], \"heatmap\": [{\"colorbar\": {\"outlinewidth\": 0, \"ticks\": \"\"}, \"colorscale\": [[0.0, \"#0d0887\"], [0.1111111111111111, \"#46039f\"], [0.2222222222222222, \"#7201a8\"], [0.3333333333333333, \"#9c179e\"], [0.4444444444444444, \"#bd3786\"], [0.5555555555555556, \"#d8576b\"], [0.6666666666666666, \"#ed7953\"], [0.7777777777777778, \"#fb9f3a\"], [0.8888888888888888, \"#fdca26\"], [1.0, \"#f0f921\"]], \"type\": \"heatmap\"}], \"heatmapgl\": [{\"colorbar\": {\"outlinewidth\": 0, \"ticks\": \"\"}, \"colorscale\": [[0.0, \"#0d0887\"], [0.1111111111111111, \"#46039f\"], [0.2222222222222222, \"#7201a8\"], [0.3333333333333333, \"#9c179e\"], [0.4444444444444444, \"#bd3786\"], [0.5555555555555556, \"#d8576b\"], [0.6666666666666666, \"#ed7953\"], [0.7777777777777778, \"#fb9f3a\"], [0.8888888888888888, \"#fdca26\"], [1.0, \"#f0f921\"]], \"type\": \"heatmapgl\"}], \"histogram\": [{\"marker\": {\"colorbar\": {\"outlinewidth\": 0, \"ticks\": \"\"}}, \"type\": \"histogram\"}], \"histogram2d\": [{\"colorbar\": {\"outlinewidth\": 0, \"ticks\": \"\"}, \"colorscale\": [[0.0, \"#0d0887\"], [0.1111111111111111, \"#46039f\"], [0.2222222222222222, \"#7201a8\"], [0.3333333333333333, \"#9c179e\"], [0.4444444444444444, \"#bd3786\"], [0.5555555555555556, \"#d8576b\"], [0.6666666666666666, \"#ed7953\"], [0.7777777777777778, \"#fb9f3a\"], [0.8888888888888888, \"#fdca26\"], [1.0, \"#f0f921\"]], \"type\": \"histogram2d\"}], \"histogram2dcontour\": [{\"colorbar\": {\"outlinewidth\": 0, \"ticks\": \"\"}, \"colorscale\": [[0.0, \"#0d0887\"], [0.1111111111111111, \"#46039f\"], [0.2222222222222222, \"#7201a8\"], [0.3333333333333333, \"#9c179e\"], [0.4444444444444444, \"#bd3786\"], [0.5555555555555556, \"#d8576b\"], [0.6666666666666666, \"#ed7953\"], [0.7777777777777778, \"#fb9f3a\"], [0.8888888888888888, \"#fdca26\"], [1.0, \"#f0f921\"]], \"type\": \"histogram2dcontour\"}], \"mesh3d\": [{\"colorbar\": {\"outlinewidth\": 0, \"ticks\": \"\"}, \"type\": \"mesh3d\"}], \"parcoords\": [{\"line\": {\"colorbar\": {\"outlinewidth\": 0, \"ticks\": \"\"}}, \"type\": \"parcoords\"}], \"pie\": [{\"automargin\": true, \"type\": \"pie\"}], \"scatter\": [{\"marker\": {\"colorbar\": {\"outlinewidth\": 0, \"ticks\": \"\"}}, \"type\": \"scatter\"}], \"scatter3d\": [{\"line\": {\"colorbar\": {\"outlinewidth\": 0, \"ticks\": \"\"}}, \"marker\": {\"colorbar\": {\"outlinewidth\": 0, \"ticks\": \"\"}}, \"type\": \"scatter3d\"}], \"scattercarpet\": [{\"marker\": {\"colorbar\": {\"outlinewidth\": 0, \"ticks\": \"\"}}, \"type\": \"scattercarpet\"}], \"scattergeo\": [{\"marker\": {\"colorbar\": {\"outlinewidth\": 0, \"ticks\": \"\"}}, \"type\": \"scattergeo\"}], \"scattergl\": [{\"marker\": {\"colorbar\": {\"outlinewidth\": 0, \"ticks\": \"\"}}, \"type\": \"scattergl\"}], \"scattermapbox\": [{\"marker\": {\"colorbar\": {\"outlinewidth\": 0, \"ticks\": \"\"}}, \"type\": \"scattermapbox\"}], \"scatterpolar\": [{\"marker\": {\"colorbar\": {\"outlinewidth\": 0, \"ticks\": \"\"}}, \"type\": \"scatterpolar\"}], \"scatterpolargl\": [{\"marker\": {\"colorbar\": {\"outlinewidth\": 0, \"ticks\": \"\"}}, \"type\": \"scatterpolargl\"}], \"scatterternary\": [{\"marker\": {\"colorbar\": {\"outlinewidth\": 0, \"ticks\": \"\"}}, \"type\": \"scatterternary\"}], \"surface\": [{\"colorbar\": {\"outlinewidth\": 0, \"ticks\": \"\"}, \"colorscale\": [[0.0, \"#0d0887\"], [0.1111111111111111, \"#46039f\"], [0.2222222222222222, \"#7201a8\"], [0.3333333333333333, \"#9c179e\"], [0.4444444444444444, \"#bd3786\"], [0.5555555555555556, \"#d8576b\"], [0.6666666666666666, \"#ed7953\"], [0.7777777777777778, \"#fb9f3a\"], [0.8888888888888888, \"#fdca26\"], [1.0, \"#f0f921\"]], \"type\": \"surface\"}], \"table\": [{\"cells\": {\"fill\": {\"color\": \"#EBF0F8\"}, \"line\": {\"color\": \"white\"}}, \"header\": {\"fill\": {\"color\": \"#C8D4E3\"}, \"line\": {\"color\": \"white\"}}, \"type\": \"table\"}]}, \"layout\": {\"annotationdefaults\": {\"arrowcolor\": \"#2a3f5f\", \"arrowhead\": 0, \"arrowwidth\": 1}, \"coloraxis\": {\"colorbar\": {\"outlinewidth\": 0, \"ticks\": \"\"}}, \"colorscale\": {\"diverging\": [[0, \"#8e0152\"], [0.1, \"#c51b7d\"], [0.2, \"#de77ae\"], [0.3, \"#f1b6da\"], [0.4, \"#fde0ef\"], [0.5, \"#f7f7f7\"], [0.6, \"#e6f5d0\"], [0.7, \"#b8e186\"], [0.8, \"#7fbc41\"], [0.9, \"#4d9221\"], [1, \"#276419\"]], \"sequential\": [[0.0, \"#0d0887\"], [0.1111111111111111, \"#46039f\"], [0.2222222222222222, \"#7201a8\"], [0.3333333333333333, \"#9c179e\"], [0.4444444444444444, \"#bd3786\"], [0.5555555555555556, \"#d8576b\"], [0.6666666666666666, \"#ed7953\"], [0.7777777777777778, \"#fb9f3a\"], [0.8888888888888888, \"#fdca26\"], [1.0, \"#f0f921\"]], \"sequentialminus\": [[0.0, \"#0d0887\"], [0.1111111111111111, \"#46039f\"], [0.2222222222222222, \"#7201a8\"], [0.3333333333333333, \"#9c179e\"], [0.4444444444444444, \"#bd3786\"], [0.5555555555555556, \"#d8576b\"], [0.6666666666666666, \"#ed7953\"], [0.7777777777777778, \"#fb9f3a\"], [0.8888888888888888, \"#fdca26\"], [1.0, \"#f0f921\"]]}, \"colorway\": [\"#636efa\", \"#EF553B\", \"#00cc96\", \"#ab63fa\", \"#FFA15A\", \"#19d3f3\", \"#FF6692\", \"#B6E880\", \"#FF97FF\", \"#FECB52\"], \"font\": {\"color\": \"#2a3f5f\"}, \"geo\": {\"bgcolor\": \"white\", \"lakecolor\": \"white\", \"landcolor\": \"#E5ECF6\", \"showlakes\": true, \"showland\": true, \"subunitcolor\": \"white\"}, \"hoverlabel\": {\"align\": \"left\"}, \"hovermode\": \"closest\", \"mapbox\": {\"style\": \"light\"}, \"paper_bgcolor\": \"white\", \"plot_bgcolor\": \"#E5ECF6\", \"polar\": {\"angularaxis\": {\"gridcolor\": \"white\", \"linecolor\": \"white\", \"ticks\": \"\"}, \"bgcolor\": \"#E5ECF6\", \"radialaxis\": {\"gridcolor\": \"white\", \"linecolor\": \"white\", \"ticks\": \"\"}}, \"scene\": {\"xaxis\": {\"backgroundcolor\": \"#E5ECF6\", \"gridcolor\": \"white\", \"gridwidth\": 2, \"linecolor\": \"white\", \"showbackground\": true, \"ticks\": \"\", \"zerolinecolor\": \"white\"}, \"yaxis\": {\"backgroundcolor\": \"#E5ECF6\", \"gridcolor\": \"white\", \"gridwidth\": 2, \"linecolor\": \"white\", \"showbackground\": true, \"ticks\": \"\", \"zerolinecolor\": \"white\"}, \"zaxis\": {\"backgroundcolor\": \"#E5ECF6\", \"gridcolor\": \"white\", \"gridwidth\": 2, \"linecolor\": \"white\", \"showbackground\": true, \"ticks\": \"\", \"zerolinecolor\": \"white\"}}, \"shapedefaults\": {\"line\": {\"color\": \"#2a3f5f\"}}, \"ternary\": {\"aaxis\": {\"gridcolor\": \"white\", \"linecolor\": \"white\", \"ticks\": \"\"}, \"baxis\": {\"gridcolor\": \"white\", \"linecolor\": \"white\", \"ticks\": \"\"}, \"bgcolor\": \"#E5ECF6\", \"caxis\": {\"gridcolor\": \"white\", \"linecolor\": \"white\", \"ticks\": \"\"}}, \"title\": {\"x\": 0.05}, \"xaxis\": {\"automargin\": true, \"gridcolor\": \"white\", \"linecolor\": \"white\", \"ticks\": \"\", \"title\": {\"standoff\": 15}, \"zerolinecolor\": \"white\", \"zerolinewidth\": 2}, \"yaxis\": {\"automargin\": true, \"gridcolor\": \"white\", \"linecolor\": \"white\", \"ticks\": \"\", \"title\": {\"standoff\": 15}, \"zerolinecolor\": \"white\", \"zerolinewidth\": 2}}}, \"width\": 800},\n",
              "                        {\"responsive\": true}\n",
              "                    ).then(function(){\n",
              "                            \n",
              "var gd = document.getElementById('ced5018a-3c98-440c-bfc4-bbd0831130f9');\n",
              "var x = new MutationObserver(function (mutations, observer) {{\n",
              "        var display = window.getComputedStyle(gd).display;\n",
              "        if (!display || display === 'none') {{\n",
              "            console.log([gd, 'removed!']);\n",
              "            Plotly.purge(gd);\n",
              "            observer.disconnect();\n",
              "        }}\n",
              "}});\n",
              "\n",
              "// Listen for the removal of the full notebook cells\n",
              "var notebookContainer = gd.closest('#notebook-container');\n",
              "if (notebookContainer) {{\n",
              "    x.observe(notebookContainer, {childList: true});\n",
              "}}\n",
              "\n",
              "// Listen for the clearing of the current output cell\n",
              "var outputEl = gd.closest('.output');\n",
              "if (outputEl) {{\n",
              "    x.observe(outputEl, {childList: true});\n",
              "}}\n",
              "\n",
              "                        })\n",
              "                };\n",
              "                \n",
              "            </script>\n",
              "        </div>\n",
              "</body>\n",
              "</html>"
            ]
          },
          "metadata": {
            "tags": []
          }
        }
      ]
    },
    {
      "cell_type": "markdown",
      "metadata": {
        "id": "QY9AGf6j40EE"
      },
      "source": [
        "It is clearly seen that mean approximation fails to capture the trend in the data, indicating a dynamical change in the state of the system. Maybe a better option could be some sort of trend fitting? "
      ]
    },
    {
      "cell_type": "code",
      "metadata": {
        "id": "mrpcLxIm5Xg1"
      },
      "source": [
        "poly = np.polyfit(list(range(len(temperature))), temperature, 1)"
      ],
      "execution_count": 10,
      "outputs": []
    },
    {
      "cell_type": "code",
      "metadata": {
        "id": "WMfH7qMu9oO0"
      },
      "source": [
        "new_hypothesis = []\n",
        "[new_hypothesis.append(poly[0]*i + poly[1]) for i in range(len(temperature))];"
      ],
      "execution_count": 11,
      "outputs": []
    },
    {
      "cell_type": "code",
      "metadata": {
        "colab": {
          "base_uri": "https://localhost:8080/",
          "height": 317
        },
        "id": "G9nlVfuR_YBi",
        "outputId": "3f2499b5-0be0-4c61-9e9b-a6abe19ca3b1"
      },
      "source": [
        "self_plots.plotter(temperature,new_hypothesis,error_1,error_2)"
      ],
      "execution_count": 12,
      "outputs": [
        {
          "output_type": "display_data",
          "data": {
            "text/html": [
              "<html>\n",
              "<head><meta charset=\"utf-8\" /></head>\n",
              "<body>\n",
              "    <div>\n",
              "            <script src=\"https://cdnjs.cloudflare.com/ajax/libs/mathjax/2.7.5/MathJax.js?config=TeX-AMS-MML_SVG\"></script><script type=\"text/javascript\">if (window.MathJax) {MathJax.Hub.Config({SVG: {font: \"STIX-Web\"}});}</script>\n",
              "                <script type=\"text/javascript\">window.PlotlyConfig = {MathJaxConfig: 'local'};</script>\n",
              "        <script src=\"https://cdn.plot.ly/plotly-latest.min.js\"></script>    \n",
              "            <div id=\"2a8ea62b-be7a-446f-b6d2-aaa9b3b8d656\" class=\"plotly-graph-div\" style=\"height:300px; width:800px;\"></div>\n",
              "            <script type=\"text/javascript\">\n",
              "                \n",
              "                    window.PLOTLYENV=window.PLOTLYENV || {};\n",
              "                    \n",
              "                if (document.getElementById(\"2a8ea62b-be7a-446f-b6d2-aaa9b3b8d656\")) {\n",
              "                    Plotly.newPlot(\n",
              "                        '2a8ea62b-be7a-446f-b6d2-aaa9b3b8d656',\n",
              "                        [{\"error_y\": {\"array\": [1.4431934385753915, 4.406504197168891, 1.8937128244973256, 4.057956188483609, 0.930504257320871, 3.324193628830625, 3.552852899430379, 2.911472988430863, 2.6467303599947885, 0.40117162290743136], \"arrayminus\": [4.062672258099667, 2.6727236630790134, 2.5388892832975847, 2.4191403272046212, 2.793817230697158, 4.459189584594834, 3.157556646558868, 4.869444472440808, 0.7921623820256674, 1.3984003996516015], \"symmetric\": false, \"type\": \"data\"}, \"mode\": \"markers\", \"name\": \"data\", \"type\": \"scatter\", \"y\": [358.1, 364.7, 360.9, 359.9, 362.8, 364.8, 369.5, 367.9, 366.2, 371.3]}, {\"mode\": \"lines\", \"name\": \"hypothesis\", \"type\": \"scatter\", \"y\": [359.28909090909065, 360.4715151515149, 361.6539393939392, 362.83636363636344, 364.0187878787877, 365.201212121212, 366.38363636363624, 367.56606060606055, 368.7484848484848, 369.93090909090904]}],\n",
              "                        {\"autosize\": false, \"height\": 300, \"margin\": {\"b\": 10, \"l\": 5, \"pad\": 4, \"r\": 5, \"t\": 10}, \"paper_bgcolor\": \"White\", \"template\": {\"data\": {\"bar\": [{\"error_x\": {\"color\": \"#2a3f5f\"}, \"error_y\": {\"color\": \"#2a3f5f\"}, \"marker\": {\"line\": {\"color\": \"#E5ECF6\", \"width\": 0.5}}, \"type\": \"bar\"}], \"barpolar\": [{\"marker\": {\"line\": {\"color\": \"#E5ECF6\", \"width\": 0.5}}, \"type\": \"barpolar\"}], \"carpet\": [{\"aaxis\": {\"endlinecolor\": \"#2a3f5f\", \"gridcolor\": \"white\", \"linecolor\": \"white\", \"minorgridcolor\": \"white\", \"startlinecolor\": \"#2a3f5f\"}, \"baxis\": {\"endlinecolor\": \"#2a3f5f\", \"gridcolor\": \"white\", \"linecolor\": \"white\", \"minorgridcolor\": \"white\", \"startlinecolor\": \"#2a3f5f\"}, \"type\": \"carpet\"}], \"choropleth\": [{\"colorbar\": {\"outlinewidth\": 0, \"ticks\": \"\"}, \"type\": \"choropleth\"}], \"contour\": [{\"colorbar\": {\"outlinewidth\": 0, \"ticks\": \"\"}, \"colorscale\": [[0.0, \"#0d0887\"], [0.1111111111111111, \"#46039f\"], [0.2222222222222222, \"#7201a8\"], [0.3333333333333333, \"#9c179e\"], [0.4444444444444444, \"#bd3786\"], [0.5555555555555556, \"#d8576b\"], [0.6666666666666666, \"#ed7953\"], [0.7777777777777778, \"#fb9f3a\"], [0.8888888888888888, \"#fdca26\"], [1.0, \"#f0f921\"]], \"type\": \"contour\"}], \"contourcarpet\": [{\"colorbar\": {\"outlinewidth\": 0, \"ticks\": \"\"}, \"type\": \"contourcarpet\"}], \"heatmap\": [{\"colorbar\": {\"outlinewidth\": 0, \"ticks\": \"\"}, \"colorscale\": [[0.0, \"#0d0887\"], [0.1111111111111111, \"#46039f\"], [0.2222222222222222, \"#7201a8\"], [0.3333333333333333, \"#9c179e\"], [0.4444444444444444, \"#bd3786\"], [0.5555555555555556, \"#d8576b\"], [0.6666666666666666, \"#ed7953\"], [0.7777777777777778, \"#fb9f3a\"], [0.8888888888888888, \"#fdca26\"], [1.0, \"#f0f921\"]], \"type\": \"heatmap\"}], \"heatmapgl\": [{\"colorbar\": {\"outlinewidth\": 0, \"ticks\": \"\"}, \"colorscale\": [[0.0, \"#0d0887\"], [0.1111111111111111, \"#46039f\"], [0.2222222222222222, \"#7201a8\"], [0.3333333333333333, \"#9c179e\"], [0.4444444444444444, \"#bd3786\"], [0.5555555555555556, \"#d8576b\"], [0.6666666666666666, \"#ed7953\"], [0.7777777777777778, \"#fb9f3a\"], [0.8888888888888888, \"#fdca26\"], [1.0, \"#f0f921\"]], \"type\": \"heatmapgl\"}], \"histogram\": [{\"marker\": {\"colorbar\": {\"outlinewidth\": 0, \"ticks\": \"\"}}, \"type\": \"histogram\"}], \"histogram2d\": [{\"colorbar\": {\"outlinewidth\": 0, \"ticks\": \"\"}, \"colorscale\": [[0.0, \"#0d0887\"], [0.1111111111111111, \"#46039f\"], [0.2222222222222222, \"#7201a8\"], [0.3333333333333333, \"#9c179e\"], [0.4444444444444444, \"#bd3786\"], [0.5555555555555556, \"#d8576b\"], [0.6666666666666666, \"#ed7953\"], [0.7777777777777778, \"#fb9f3a\"], [0.8888888888888888, \"#fdca26\"], [1.0, \"#f0f921\"]], \"type\": \"histogram2d\"}], \"histogram2dcontour\": [{\"colorbar\": {\"outlinewidth\": 0, \"ticks\": \"\"}, \"colorscale\": [[0.0, \"#0d0887\"], [0.1111111111111111, \"#46039f\"], [0.2222222222222222, \"#7201a8\"], [0.3333333333333333, \"#9c179e\"], [0.4444444444444444, \"#bd3786\"], [0.5555555555555556, \"#d8576b\"], [0.6666666666666666, \"#ed7953\"], [0.7777777777777778, \"#fb9f3a\"], [0.8888888888888888, \"#fdca26\"], [1.0, \"#f0f921\"]], \"type\": \"histogram2dcontour\"}], \"mesh3d\": [{\"colorbar\": {\"outlinewidth\": 0, \"ticks\": \"\"}, \"type\": \"mesh3d\"}], \"parcoords\": [{\"line\": {\"colorbar\": {\"outlinewidth\": 0, \"ticks\": \"\"}}, \"type\": \"parcoords\"}], \"pie\": [{\"automargin\": true, \"type\": \"pie\"}], \"scatter\": [{\"marker\": {\"colorbar\": {\"outlinewidth\": 0, \"ticks\": \"\"}}, \"type\": \"scatter\"}], \"scatter3d\": [{\"line\": {\"colorbar\": {\"outlinewidth\": 0, \"ticks\": \"\"}}, \"marker\": {\"colorbar\": {\"outlinewidth\": 0, \"ticks\": \"\"}}, \"type\": \"scatter3d\"}], \"scattercarpet\": [{\"marker\": {\"colorbar\": {\"outlinewidth\": 0, \"ticks\": \"\"}}, \"type\": \"scattercarpet\"}], \"scattergeo\": [{\"marker\": {\"colorbar\": {\"outlinewidth\": 0, \"ticks\": \"\"}}, \"type\": \"scattergeo\"}], \"scattergl\": [{\"marker\": {\"colorbar\": {\"outlinewidth\": 0, \"ticks\": \"\"}}, \"type\": \"scattergl\"}], \"scattermapbox\": [{\"marker\": {\"colorbar\": {\"outlinewidth\": 0, \"ticks\": \"\"}}, \"type\": \"scattermapbox\"}], \"scatterpolar\": [{\"marker\": {\"colorbar\": {\"outlinewidth\": 0, \"ticks\": \"\"}}, \"type\": \"scatterpolar\"}], \"scatterpolargl\": [{\"marker\": {\"colorbar\": {\"outlinewidth\": 0, \"ticks\": \"\"}}, \"type\": \"scatterpolargl\"}], \"scatterternary\": [{\"marker\": {\"colorbar\": {\"outlinewidth\": 0, \"ticks\": \"\"}}, \"type\": \"scatterternary\"}], \"surface\": [{\"colorbar\": {\"outlinewidth\": 0, \"ticks\": \"\"}, \"colorscale\": [[0.0, \"#0d0887\"], [0.1111111111111111, \"#46039f\"], [0.2222222222222222, \"#7201a8\"], [0.3333333333333333, \"#9c179e\"], [0.4444444444444444, \"#bd3786\"], [0.5555555555555556, \"#d8576b\"], [0.6666666666666666, \"#ed7953\"], [0.7777777777777778, \"#fb9f3a\"], [0.8888888888888888, \"#fdca26\"], [1.0, \"#f0f921\"]], \"type\": \"surface\"}], \"table\": [{\"cells\": {\"fill\": {\"color\": \"#EBF0F8\"}, \"line\": {\"color\": \"white\"}}, \"header\": {\"fill\": {\"color\": \"#C8D4E3\"}, \"line\": {\"color\": \"white\"}}, \"type\": \"table\"}]}, \"layout\": {\"annotationdefaults\": {\"arrowcolor\": \"#2a3f5f\", \"arrowhead\": 0, \"arrowwidth\": 1}, \"coloraxis\": {\"colorbar\": {\"outlinewidth\": 0, \"ticks\": \"\"}}, \"colorscale\": {\"diverging\": [[0, \"#8e0152\"], [0.1, \"#c51b7d\"], [0.2, \"#de77ae\"], [0.3, \"#f1b6da\"], [0.4, \"#fde0ef\"], [0.5, \"#f7f7f7\"], [0.6, \"#e6f5d0\"], [0.7, \"#b8e186\"], [0.8, \"#7fbc41\"], [0.9, \"#4d9221\"], [1, \"#276419\"]], \"sequential\": [[0.0, \"#0d0887\"], [0.1111111111111111, \"#46039f\"], [0.2222222222222222, \"#7201a8\"], [0.3333333333333333, \"#9c179e\"], [0.4444444444444444, \"#bd3786\"], [0.5555555555555556, \"#d8576b\"], [0.6666666666666666, \"#ed7953\"], [0.7777777777777778, \"#fb9f3a\"], [0.8888888888888888, \"#fdca26\"], [1.0, \"#f0f921\"]], \"sequentialminus\": [[0.0, \"#0d0887\"], [0.1111111111111111, \"#46039f\"], [0.2222222222222222, \"#7201a8\"], [0.3333333333333333, \"#9c179e\"], [0.4444444444444444, \"#bd3786\"], [0.5555555555555556, \"#d8576b\"], [0.6666666666666666, \"#ed7953\"], [0.7777777777777778, \"#fb9f3a\"], [0.8888888888888888, \"#fdca26\"], [1.0, \"#f0f921\"]]}, \"colorway\": [\"#636efa\", \"#EF553B\", \"#00cc96\", \"#ab63fa\", \"#FFA15A\", \"#19d3f3\", \"#FF6692\", \"#B6E880\", \"#FF97FF\", \"#FECB52\"], \"font\": {\"color\": \"#2a3f5f\"}, \"geo\": {\"bgcolor\": \"white\", \"lakecolor\": \"white\", \"landcolor\": \"#E5ECF6\", \"showlakes\": true, \"showland\": true, \"subunitcolor\": \"white\"}, \"hoverlabel\": {\"align\": \"left\"}, \"hovermode\": \"closest\", \"mapbox\": {\"style\": \"light\"}, \"paper_bgcolor\": \"white\", \"plot_bgcolor\": \"#E5ECF6\", \"polar\": {\"angularaxis\": {\"gridcolor\": \"white\", \"linecolor\": \"white\", \"ticks\": \"\"}, \"bgcolor\": \"#E5ECF6\", \"radialaxis\": {\"gridcolor\": \"white\", \"linecolor\": \"white\", \"ticks\": \"\"}}, \"scene\": {\"xaxis\": {\"backgroundcolor\": \"#E5ECF6\", \"gridcolor\": \"white\", \"gridwidth\": 2, \"linecolor\": \"white\", \"showbackground\": true, \"ticks\": \"\", \"zerolinecolor\": \"white\"}, \"yaxis\": {\"backgroundcolor\": \"#E5ECF6\", \"gridcolor\": \"white\", \"gridwidth\": 2, \"linecolor\": \"white\", \"showbackground\": true, \"ticks\": \"\", \"zerolinecolor\": \"white\"}, \"zaxis\": {\"backgroundcolor\": \"#E5ECF6\", \"gridcolor\": \"white\", \"gridwidth\": 2, \"linecolor\": \"white\", \"showbackground\": true, \"ticks\": \"\", \"zerolinecolor\": \"white\"}}, \"shapedefaults\": {\"line\": {\"color\": \"#2a3f5f\"}}, \"ternary\": {\"aaxis\": {\"gridcolor\": \"white\", \"linecolor\": \"white\", \"ticks\": \"\"}, \"baxis\": {\"gridcolor\": \"white\", \"linecolor\": \"white\", \"ticks\": \"\"}, \"bgcolor\": \"#E5ECF6\", \"caxis\": {\"gridcolor\": \"white\", \"linecolor\": \"white\", \"ticks\": \"\"}}, \"title\": {\"x\": 0.05}, \"xaxis\": {\"automargin\": true, \"gridcolor\": \"white\", \"linecolor\": \"white\", \"ticks\": \"\", \"title\": {\"standoff\": 15}, \"zerolinecolor\": \"white\", \"zerolinewidth\": 2}, \"yaxis\": {\"automargin\": true, \"gridcolor\": \"white\", \"linecolor\": \"white\", \"ticks\": \"\", \"title\": {\"standoff\": 15}, \"zerolinecolor\": \"white\", \"zerolinewidth\": 2}}}, \"width\": 800},\n",
              "                        {\"responsive\": true}\n",
              "                    ).then(function(){\n",
              "                            \n",
              "var gd = document.getElementById('2a8ea62b-be7a-446f-b6d2-aaa9b3b8d656');\n",
              "var x = new MutationObserver(function (mutations, observer) {{\n",
              "        var display = window.getComputedStyle(gd).display;\n",
              "        if (!display || display === 'none') {{\n",
              "            console.log([gd, 'removed!']);\n",
              "            Plotly.purge(gd);\n",
              "            observer.disconnect();\n",
              "        }}\n",
              "}});\n",
              "\n",
              "// Listen for the removal of the full notebook cells\n",
              "var notebookContainer = gd.closest('#notebook-container');\n",
              "if (notebookContainer) {{\n",
              "    x.observe(notebookContainer, {childList: true});\n",
              "}}\n",
              "\n",
              "// Listen for the clearing of the current output cell\n",
              "var outputEl = gd.closest('.output');\n",
              "if (outputEl) {{\n",
              "    x.observe(outputEl, {childList: true});\n",
              "}}\n",
              "\n",
              "                        })\n",
              "                };\n",
              "                \n",
              "            </script>\n",
              "        </div>\n",
              "</body>\n",
              "</html>"
            ]
          },
          "metadata": {
            "tags": []
          }
        }
      ]
    },
    {
      "cell_type": "markdown",
      "metadata": {
        "id": "5vS6VRmIC2D_"
      },
      "source": [
        "Here we have reached a bifurcation point: does my hypothesis reflect the true dynamics of the system? In other words, do I need to make additional measurements to further predict the state of the system or I am fine with the model (hypothesis) I have? \n",
        "\n",
        "What we are interested here is a complex dynamical system, for which the state may evolve different than my current predictions. What we are after is a dynamical model, that can reflect the changes in the states I measure, different than my prior knowledge on the system. Therefore, we are going to use two sources of information (model and measurements) to update our understanding of the system (can you see the recurrent logic here as well?).\n",
        "\n",
        "Lets imagine a case where we have start making new measurements and we have the model we have derived above. Our objective is to find a way to update our understanding of the system.\n",
        "\n",
        "Lets return back to our example. "
      ]
    },
    {
      "cell_type": "code",
      "metadata": {
        "id": "tHZPZNALgO75"
      },
      "source": [
        "# Consider that we have recorded the following degrees with given delta_t:\n",
        "temp_observations = [358.3, 364.8, 360.6, 359.5, 362.8, 364.2, 369.9, 367.7, 366.2, 371.4, 371.4, 372.7]\n",
        "delta_t = 1.0  \n",
        "#\n",
        "#Prior knowledge: assume that we trust our measurement more than our model:\n",
        "scaling_factor = 0.618"
      ],
      "execution_count": 13,
      "outputs": []
    },
    {
      "cell_type": "markdown",
      "metadata": {
        "id": "RO5o8oDLpcqB"
      },
      "source": [
        "We will use our model output and the observation to make new predictions:\n",
        "\n",
        "$\\mathtt{estimation_{t}} = \\mathtt{prediction_{t}} + 0.618(\\mathtt{measurement_{t}} - \\mathtt{prediction_{t}})$\n",
        "\n",
        "Lets write a function accordingly:"
      ]
    },
    {
      "cell_type": "code",
      "metadata": {
        "id": "uM6hv9PupPhi"
      },
      "source": [
        "def state_predict(estimated_temp, gain_rate, isPrint=False):     \n",
        "    # storage for the filtered results\n",
        "    estimations, predictions = [estimated_temp], []\n",
        "\n",
        "    for z in temp_observations: \n",
        "        # predict new position via our model:\n",
        "        predicted_temp = estimated_temp + gain_rate * delta_t\n",
        "\n",
        "        # updating the \"filter\": here we will combine the information\n",
        "        # coming from the model and the measurement:\n",
        "        estimated_temp = predicted_temp + scaling_factor * (z - predicted_temp)\n",
        "\n",
        "        if isPrint:\n",
        "            print(f'prior estimation: {estimations[-1]:.1f}',\n",
        "                  f'model prediction: {predicted_temp:.1f}',\n",
        "                  f'estimation: {estimated_temp:.1f}')\n",
        "        \n",
        "        # Saving the loop state:\n",
        "        estimations.append(estimated_temp)\n",
        "        predictions.append(predicted_temp)\n",
        "\n",
        "    return estimations, predictions"
      ],
      "execution_count": 14,
      "outputs": []
    },
    {
      "cell_type": "code",
      "metadata": {
        "colab": {
          "base_uri": "https://localhost:8080/"
        },
        "id": "FKpTHLATvCFH",
        "outputId": "fafcc8da-8520-482c-c13d-6835d6de8513"
      },
      "source": [
        "#Calling our function:\n",
        "initial_temp = 360.0\n",
        "estimations, predictions = state_predict(estimated_temp=initial_temp, gain_rate=poly[0], isPrint=True)  "
      ],
      "execution_count": 15,
      "outputs": [
        {
          "output_type": "stream",
          "text": [
            "prior estimation: 360.0 model prediction: 361.2 estimation: 359.4\n",
            "prior estimation: 359.4 model prediction: 360.6 estimation: 363.2\n",
            "prior estimation: 363.2 model prediction: 364.4 estimation: 362.0\n",
            "prior estimation: 362.0 model prediction: 363.2 estimation: 360.9\n",
            "prior estimation: 360.9 model prediction: 362.1 estimation: 362.5\n",
            "prior estimation: 362.5 model prediction: 363.7 estimation: 364.0\n",
            "prior estimation: 364.0 model prediction: 365.2 estimation: 368.1\n",
            "prior estimation: 368.1 model prediction: 369.3 estimation: 368.3\n",
            "prior estimation: 368.3 model prediction: 369.5 estimation: 367.5\n",
            "prior estimation: 367.5 model prediction: 368.6 estimation: 370.3\n",
            "prior estimation: 370.3 model prediction: 371.5 estimation: 371.4\n",
            "prior estimation: 371.4 model prediction: 372.6 estimation: 372.7\n"
          ],
          "name": "stdout"
        }
      ]
    },
    {
      "cell_type": "markdown",
      "metadata": {
        "id": "pJMvsJCOxR1d"
      },
      "source": [
        "Lets assume that our model roughly capture the true dynamics of the system (~ over-estimates). Lets see the impact of our filtering on the estimations:"
      ]
    },
    {
      "cell_type": "code",
      "metadata": {
        "id": "jJA3b4o_ytct"
      },
      "source": [
        "true_data = []\n",
        "[true_data.append(poly[0]*i*0.85 + 360.0) for i in range(len(temp_observations)+1)];"
      ],
      "execution_count": 16,
      "outputs": []
    },
    {
      "cell_type": "code",
      "metadata": {
        "colab": {
          "base_uri": "https://localhost:8080/",
          "height": 317
        },
        "id": "SX_RtUGfwBRI",
        "outputId": "124f023f-1176-4ebe-d56e-3b627aa9cf5e"
      },
      "source": [
        "self_plots.plotter_2(temp_observations, predictions, estimations, true_data)"
      ],
      "execution_count": 17,
      "outputs": [
        {
          "output_type": "display_data",
          "data": {
            "text/html": [
              "<html>\n",
              "<head><meta charset=\"utf-8\" /></head>\n",
              "<body>\n",
              "    <div>\n",
              "            <script src=\"https://cdnjs.cloudflare.com/ajax/libs/mathjax/2.7.5/MathJax.js?config=TeX-AMS-MML_SVG\"></script><script type=\"text/javascript\">if (window.MathJax) {MathJax.Hub.Config({SVG: {font: \"STIX-Web\"}});}</script>\n",
              "                <script type=\"text/javascript\">window.PlotlyConfig = {MathJaxConfig: 'local'};</script>\n",
              "        <script src=\"https://cdn.plot.ly/plotly-latest.min.js\"></script>    \n",
              "            <div id=\"a1f1da1b-6561-4939-b4d7-c6dbb190a789\" class=\"plotly-graph-div\" style=\"height:300px; width:800px;\"></div>\n",
              "            <script type=\"text/javascript\">\n",
              "                \n",
              "                    window.PLOTLYENV=window.PLOTLYENV || {};\n",
              "                    \n",
              "                if (document.getElementById(\"a1f1da1b-6561-4939-b4d7-c6dbb190a789\")) {\n",
              "                    Plotly.newPlot(\n",
              "                        'a1f1da1b-6561-4939-b4d7-c6dbb190a789',\n",
              "                        [{\"line\": {\"color\": \"red\", \"width\": 2}, \"mode\": \"markers\", \"name\": \"measurements\", \"type\": \"scatter\", \"x\": [1, 2, 3, 4, 5, 6, 7, 8, 9, 10, 11, 12], \"y\": [358.3, 364.8, 360.6, 359.5, 362.8, 364.2, 369.9, 367.7, 366.2, 371.4, 371.4, 372.7]}, {\"line\": {\"color\": \"rgb(49,130,189)\", \"dash\": \"dash\", \"width\": 2}, \"mode\": \"lines+markers\", \"name\": \"predictions\", \"type\": \"scatter\", \"x\": [1, 2, 3, 4, 5, 6, 7, 8, 9, 10, 11, 12], \"y\": [361.18242424242425, 360.5835103030303, 364.37172517818186, 363.22322326048976, 362.1046955279313, 363.716817934094, 365.19784869324815, 369.28620244324503, 369.4883535757438, 368.6385753083584, 371.52756001021714, 372.6311521663272]}, {\"line\": {\"color\": \"rgb(115,115,115)\", \"dash\": \"dot\", \"width\": 2}, \"mode\": \"lines+markers\", \"name\": \"estimations\", \"type\": \"scatter\", \"x\": [0, 1, 2, 3, 4, 5, 6, 7, 8, 9, 10, 11, 12], \"y\": [360.0, 359.4010860606061, 363.1893009357576, 362.0407990180655, 360.92227128550707, 362.5343936916698, 364.0154244508239, 368.1037782008208, 368.30592933331957, 367.45615106593414, 370.3451357677929, 371.44872792390294, 372.67370012753696]}, {\"line\": {\"color\": \"rgb(67,67,67)\", \"width\": 2}, \"mode\": \"lines\", \"name\": \"Truth\", \"type\": \"scatter\", \"x\": [0, 1, 2, 3, 4, 5, 6, 7, 8, 9, 10, 11, 12], \"y\": [360.0, 361.0050606060606, 362.01012121212125, 363.0151818181819, 364.0202424242425, 365.0253030303031, 366.03036363636375, 367.03542424242437, 368.040484848485, 369.0455454545456, 370.0506060606063, 371.0556666666669, 372.06072727272755]}],\n",
              "                        {\"autosize\": false, \"height\": 300, \"margin\": {\"b\": 10, \"l\": 5, \"pad\": 4, \"r\": 5, \"t\": 10}, \"paper_bgcolor\": \"White\", \"template\": {\"data\": {\"bar\": [{\"error_x\": {\"color\": \"#2a3f5f\"}, \"error_y\": {\"color\": \"#2a3f5f\"}, \"marker\": {\"line\": {\"color\": \"#E5ECF6\", \"width\": 0.5}}, \"type\": \"bar\"}], \"barpolar\": [{\"marker\": {\"line\": {\"color\": \"#E5ECF6\", \"width\": 0.5}}, \"type\": \"barpolar\"}], \"carpet\": [{\"aaxis\": {\"endlinecolor\": \"#2a3f5f\", \"gridcolor\": \"white\", \"linecolor\": \"white\", \"minorgridcolor\": \"white\", \"startlinecolor\": \"#2a3f5f\"}, \"baxis\": {\"endlinecolor\": \"#2a3f5f\", \"gridcolor\": \"white\", \"linecolor\": \"white\", \"minorgridcolor\": \"white\", \"startlinecolor\": \"#2a3f5f\"}, \"type\": \"carpet\"}], \"choropleth\": [{\"colorbar\": {\"outlinewidth\": 0, \"ticks\": \"\"}, \"type\": \"choropleth\"}], \"contour\": [{\"colorbar\": {\"outlinewidth\": 0, \"ticks\": \"\"}, \"colorscale\": [[0.0, \"#0d0887\"], [0.1111111111111111, \"#46039f\"], [0.2222222222222222, \"#7201a8\"], [0.3333333333333333, \"#9c179e\"], [0.4444444444444444, \"#bd3786\"], [0.5555555555555556, \"#d8576b\"], [0.6666666666666666, \"#ed7953\"], [0.7777777777777778, \"#fb9f3a\"], [0.8888888888888888, \"#fdca26\"], [1.0, \"#f0f921\"]], \"type\": \"contour\"}], \"contourcarpet\": [{\"colorbar\": {\"outlinewidth\": 0, \"ticks\": \"\"}, \"type\": \"contourcarpet\"}], \"heatmap\": [{\"colorbar\": {\"outlinewidth\": 0, \"ticks\": \"\"}, \"colorscale\": [[0.0, \"#0d0887\"], [0.1111111111111111, \"#46039f\"], [0.2222222222222222, \"#7201a8\"], [0.3333333333333333, \"#9c179e\"], [0.4444444444444444, \"#bd3786\"], [0.5555555555555556, \"#d8576b\"], [0.6666666666666666, \"#ed7953\"], [0.7777777777777778, \"#fb9f3a\"], [0.8888888888888888, \"#fdca26\"], [1.0, \"#f0f921\"]], \"type\": \"heatmap\"}], \"heatmapgl\": [{\"colorbar\": {\"outlinewidth\": 0, \"ticks\": \"\"}, \"colorscale\": [[0.0, \"#0d0887\"], [0.1111111111111111, \"#46039f\"], [0.2222222222222222, \"#7201a8\"], [0.3333333333333333, \"#9c179e\"], [0.4444444444444444, \"#bd3786\"], [0.5555555555555556, \"#d8576b\"], [0.6666666666666666, \"#ed7953\"], [0.7777777777777778, \"#fb9f3a\"], [0.8888888888888888, \"#fdca26\"], [1.0, \"#f0f921\"]], \"type\": \"heatmapgl\"}], \"histogram\": [{\"marker\": {\"colorbar\": {\"outlinewidth\": 0, \"ticks\": \"\"}}, \"type\": \"histogram\"}], \"histogram2d\": [{\"colorbar\": {\"outlinewidth\": 0, \"ticks\": \"\"}, \"colorscale\": [[0.0, \"#0d0887\"], [0.1111111111111111, \"#46039f\"], [0.2222222222222222, \"#7201a8\"], [0.3333333333333333, \"#9c179e\"], [0.4444444444444444, \"#bd3786\"], [0.5555555555555556, \"#d8576b\"], [0.6666666666666666, \"#ed7953\"], [0.7777777777777778, \"#fb9f3a\"], [0.8888888888888888, \"#fdca26\"], [1.0, \"#f0f921\"]], \"type\": \"histogram2d\"}], \"histogram2dcontour\": [{\"colorbar\": {\"outlinewidth\": 0, \"ticks\": \"\"}, \"colorscale\": [[0.0, \"#0d0887\"], [0.1111111111111111, \"#46039f\"], [0.2222222222222222, \"#7201a8\"], [0.3333333333333333, \"#9c179e\"], [0.4444444444444444, \"#bd3786\"], [0.5555555555555556, \"#d8576b\"], [0.6666666666666666, \"#ed7953\"], [0.7777777777777778, \"#fb9f3a\"], [0.8888888888888888, \"#fdca26\"], [1.0, \"#f0f921\"]], \"type\": \"histogram2dcontour\"}], \"mesh3d\": [{\"colorbar\": {\"outlinewidth\": 0, \"ticks\": \"\"}, \"type\": \"mesh3d\"}], \"parcoords\": [{\"line\": {\"colorbar\": {\"outlinewidth\": 0, \"ticks\": \"\"}}, \"type\": \"parcoords\"}], \"pie\": [{\"automargin\": true, \"type\": \"pie\"}], \"scatter\": [{\"marker\": {\"colorbar\": {\"outlinewidth\": 0, \"ticks\": \"\"}}, \"type\": \"scatter\"}], \"scatter3d\": [{\"line\": {\"colorbar\": {\"outlinewidth\": 0, \"ticks\": \"\"}}, \"marker\": {\"colorbar\": {\"outlinewidth\": 0, \"ticks\": \"\"}}, \"type\": \"scatter3d\"}], \"scattercarpet\": [{\"marker\": {\"colorbar\": {\"outlinewidth\": 0, \"ticks\": \"\"}}, \"type\": \"scattercarpet\"}], \"scattergeo\": [{\"marker\": {\"colorbar\": {\"outlinewidth\": 0, \"ticks\": \"\"}}, \"type\": \"scattergeo\"}], \"scattergl\": [{\"marker\": {\"colorbar\": {\"outlinewidth\": 0, \"ticks\": \"\"}}, \"type\": \"scattergl\"}], \"scattermapbox\": [{\"marker\": {\"colorbar\": {\"outlinewidth\": 0, \"ticks\": \"\"}}, \"type\": \"scattermapbox\"}], \"scatterpolar\": [{\"marker\": {\"colorbar\": {\"outlinewidth\": 0, \"ticks\": \"\"}}, \"type\": \"scatterpolar\"}], \"scatterpolargl\": [{\"marker\": {\"colorbar\": {\"outlinewidth\": 0, \"ticks\": \"\"}}, \"type\": \"scatterpolargl\"}], \"scatterternary\": [{\"marker\": {\"colorbar\": {\"outlinewidth\": 0, \"ticks\": \"\"}}, \"type\": \"scatterternary\"}], \"surface\": [{\"colorbar\": {\"outlinewidth\": 0, \"ticks\": \"\"}, \"colorscale\": [[0.0, \"#0d0887\"], [0.1111111111111111, \"#46039f\"], [0.2222222222222222, \"#7201a8\"], [0.3333333333333333, \"#9c179e\"], [0.4444444444444444, \"#bd3786\"], [0.5555555555555556, \"#d8576b\"], [0.6666666666666666, \"#ed7953\"], [0.7777777777777778, \"#fb9f3a\"], [0.8888888888888888, \"#fdca26\"], [1.0, \"#f0f921\"]], \"type\": \"surface\"}], \"table\": [{\"cells\": {\"fill\": {\"color\": \"#EBF0F8\"}, \"line\": {\"color\": \"white\"}}, \"header\": {\"fill\": {\"color\": \"#C8D4E3\"}, \"line\": {\"color\": \"white\"}}, \"type\": \"table\"}]}, \"layout\": {\"annotationdefaults\": {\"arrowcolor\": \"#2a3f5f\", \"arrowhead\": 0, \"arrowwidth\": 1}, \"coloraxis\": {\"colorbar\": {\"outlinewidth\": 0, \"ticks\": \"\"}}, \"colorscale\": {\"diverging\": [[0, \"#8e0152\"], [0.1, \"#c51b7d\"], [0.2, \"#de77ae\"], [0.3, \"#f1b6da\"], [0.4, \"#fde0ef\"], [0.5, \"#f7f7f7\"], [0.6, \"#e6f5d0\"], [0.7, \"#b8e186\"], [0.8, \"#7fbc41\"], [0.9, \"#4d9221\"], [1, \"#276419\"]], \"sequential\": [[0.0, \"#0d0887\"], [0.1111111111111111, \"#46039f\"], [0.2222222222222222, \"#7201a8\"], [0.3333333333333333, \"#9c179e\"], [0.4444444444444444, \"#bd3786\"], [0.5555555555555556, \"#d8576b\"], [0.6666666666666666, \"#ed7953\"], [0.7777777777777778, \"#fb9f3a\"], [0.8888888888888888, \"#fdca26\"], [1.0, \"#f0f921\"]], \"sequentialminus\": [[0.0, \"#0d0887\"], [0.1111111111111111, \"#46039f\"], [0.2222222222222222, \"#7201a8\"], [0.3333333333333333, \"#9c179e\"], [0.4444444444444444, \"#bd3786\"], [0.5555555555555556, \"#d8576b\"], [0.6666666666666666, \"#ed7953\"], [0.7777777777777778, \"#fb9f3a\"], [0.8888888888888888, \"#fdca26\"], [1.0, \"#f0f921\"]]}, \"colorway\": [\"#636efa\", \"#EF553B\", \"#00cc96\", \"#ab63fa\", \"#FFA15A\", \"#19d3f3\", \"#FF6692\", \"#B6E880\", \"#FF97FF\", \"#FECB52\"], \"font\": {\"color\": \"#2a3f5f\"}, \"geo\": {\"bgcolor\": \"white\", \"lakecolor\": \"white\", \"landcolor\": \"#E5ECF6\", \"showlakes\": true, \"showland\": true, \"subunitcolor\": \"white\"}, \"hoverlabel\": {\"align\": \"left\"}, \"hovermode\": \"closest\", \"mapbox\": {\"style\": \"light\"}, \"paper_bgcolor\": \"white\", \"plot_bgcolor\": \"#E5ECF6\", \"polar\": {\"angularaxis\": {\"gridcolor\": \"white\", \"linecolor\": \"white\", \"ticks\": \"\"}, \"bgcolor\": \"#E5ECF6\", \"radialaxis\": {\"gridcolor\": \"white\", \"linecolor\": \"white\", \"ticks\": \"\"}}, \"scene\": {\"xaxis\": {\"backgroundcolor\": \"#E5ECF6\", \"gridcolor\": \"white\", \"gridwidth\": 2, \"linecolor\": \"white\", \"showbackground\": true, \"ticks\": \"\", \"zerolinecolor\": \"white\"}, \"yaxis\": {\"backgroundcolor\": \"#E5ECF6\", \"gridcolor\": \"white\", \"gridwidth\": 2, \"linecolor\": \"white\", \"showbackground\": true, \"ticks\": \"\", \"zerolinecolor\": \"white\"}, \"zaxis\": {\"backgroundcolor\": \"#E5ECF6\", \"gridcolor\": \"white\", \"gridwidth\": 2, \"linecolor\": \"white\", \"showbackground\": true, \"ticks\": \"\", \"zerolinecolor\": \"white\"}}, \"shapedefaults\": {\"line\": {\"color\": \"#2a3f5f\"}}, \"ternary\": {\"aaxis\": {\"gridcolor\": \"white\", \"linecolor\": \"white\", \"ticks\": \"\"}, \"baxis\": {\"gridcolor\": \"white\", \"linecolor\": \"white\", \"ticks\": \"\"}, \"bgcolor\": \"#E5ECF6\", \"caxis\": {\"gridcolor\": \"white\", \"linecolor\": \"white\", \"ticks\": \"\"}}, \"title\": {\"x\": 0.05}, \"xaxis\": {\"automargin\": true, \"gridcolor\": \"white\", \"linecolor\": \"white\", \"ticks\": \"\", \"title\": {\"standoff\": 15}, \"zerolinecolor\": \"white\", \"zerolinewidth\": 2}, \"yaxis\": {\"automargin\": true, \"gridcolor\": \"white\", \"linecolor\": \"white\", \"ticks\": \"\", \"title\": {\"standoff\": 15}, \"zerolinecolor\": \"white\", \"zerolinewidth\": 2}}}, \"width\": 800},\n",
              "                        {\"responsive\": true}\n",
              "                    ).then(function(){\n",
              "                            \n",
              "var gd = document.getElementById('a1f1da1b-6561-4939-b4d7-c6dbb190a789');\n",
              "var x = new MutationObserver(function (mutations, observer) {{\n",
              "        var display = window.getComputedStyle(gd).display;\n",
              "        if (!display || display === 'none') {{\n",
              "            console.log([gd, 'removed!']);\n",
              "            Plotly.purge(gd);\n",
              "            observer.disconnect();\n",
              "        }}\n",
              "}});\n",
              "\n",
              "// Listen for the removal of the full notebook cells\n",
              "var notebookContainer = gd.closest('#notebook-container');\n",
              "if (notebookContainer) {{\n",
              "    x.observe(notebookContainer, {childList: true});\n",
              "}}\n",
              "\n",
              "// Listen for the clearing of the current output cell\n",
              "var outputEl = gd.closest('.output');\n",
              "if (outputEl) {{\n",
              "    x.observe(outputEl, {childList: true});\n",
              "}}\n",
              "\n",
              "                        })\n",
              "                };\n",
              "                \n",
              "            </script>\n",
              "        </div>\n",
              "</body>\n",
              "</html>"
            ]
          },
          "metadata": {
            "tags": []
          }
        }
      ]
    },
    {
      "cell_type": "markdown",
      "metadata": {
        "id": "Q1AK-QB1eKUt"
      },
      "source": [
        "Our estimations are getting better as we move in time, which lies in between the measurements and the model predictions.\n",
        "\n",
        "Since the current dynamics of the system is not that different than our model insight (in terms of the trends), we do an acceptable job. Question is, what happens when we enter a different regime, or shifting to a different equilibrium state? \n",
        "\n",
        "Lets image that our model states that we are expecting a decrease in the temperature. Can measurements help us to correct this mistake?"
      ]
    },
    {
      "cell_type": "code",
      "metadata": {
        "colab": {
          "base_uri": "https://localhost:8080/"
        },
        "id": "Nla4JQgnhAZV",
        "outputId": "6e743634-a12f-47a3-c1e1-d575aad23fc8"
      },
      "source": [
        "#Calling our function:\n",
        "initial_temp = 360.0\n",
        "# note that we reverse the slope of the model to reflect the insight on decreasing temperatures:\n",
        "estimations, predictions = state_predict(estimated_temp=initial_temp, gain_rate=-poly[0], isPrint=True)  "
      ],
      "execution_count": 18,
      "outputs": [
        {
          "output_type": "stream",
          "text": [
            "prior estimation: 360.0 model prediction: 358.8 estimation: 358.5\n",
            "prior estimation: 358.5 model prediction: 357.3 estimation: 361.9\n",
            "prior estimation: 361.9 model prediction: 360.8 estimation: 360.7\n",
            "prior estimation: 360.7 model prediction: 359.5 estimation: 359.5\n",
            "prior estimation: 359.5 model prediction: 358.3 estimation: 361.1\n",
            "prior estimation: 361.1 model prediction: 359.9 estimation: 362.6\n",
            "prior estimation: 362.6 model prediction: 361.4 estimation: 366.6\n",
            "prior estimation: 366.6 model prediction: 365.5 estimation: 366.8\n",
            "prior estimation: 366.8 model prediction: 365.7 estimation: 366.0\n",
            "prior estimation: 366.0 model prediction: 364.8 estimation: 368.9\n",
            "prior estimation: 368.9 model prediction: 367.7 estimation: 370.0\n",
            "prior estimation: 370.0 model prediction: 368.8 estimation: 371.2\n"
          ],
          "name": "stdout"
        }
      ]
    },
    {
      "cell_type": "code",
      "metadata": {
        "colab": {
          "base_uri": "https://localhost:8080/",
          "height": 317
        },
        "id": "SQtXNbQChOlg",
        "outputId": "f24cc49f-8549-4f2a-f23c-b122b72792c8"
      },
      "source": [
        "self_plots.plotter_2(temp_observations, predictions, estimations, true_data)"
      ],
      "execution_count": 19,
      "outputs": [
        {
          "output_type": "display_data",
          "data": {
            "text/html": [
              "<html>\n",
              "<head><meta charset=\"utf-8\" /></head>\n",
              "<body>\n",
              "    <div>\n",
              "            <script src=\"https://cdnjs.cloudflare.com/ajax/libs/mathjax/2.7.5/MathJax.js?config=TeX-AMS-MML_SVG\"></script><script type=\"text/javascript\">if (window.MathJax) {MathJax.Hub.Config({SVG: {font: \"STIX-Web\"}});}</script>\n",
              "                <script type=\"text/javascript\">window.PlotlyConfig = {MathJaxConfig: 'local'};</script>\n",
              "        <script src=\"https://cdn.plot.ly/plotly-latest.min.js\"></script>    \n",
              "            <div id=\"e94a93c4-0d88-49bf-847f-80a1aeb71f86\" class=\"plotly-graph-div\" style=\"height:300px; width:800px;\"></div>\n",
              "            <script type=\"text/javascript\">\n",
              "                \n",
              "                    window.PLOTLYENV=window.PLOTLYENV || {};\n",
              "                    \n",
              "                if (document.getElementById(\"e94a93c4-0d88-49bf-847f-80a1aeb71f86\")) {\n",
              "                    Plotly.newPlot(\n",
              "                        'e94a93c4-0d88-49bf-847f-80a1aeb71f86',\n",
              "                        [{\"line\": {\"color\": \"red\", \"width\": 2}, \"mode\": \"markers\", \"name\": \"measurements\", \"type\": \"scatter\", \"x\": [1, 2, 3, 4, 5, 6, 7, 8, 9, 10, 11, 12], \"y\": [358.3, 364.8, 360.6, 359.5, 362.8, 364.2, 369.9, 367.7, 366.2, 371.4, 371.4, 372.7]}, {\"line\": {\"color\": \"rgb(49,130,189)\", \"dash\": \"dash\", \"width\": 2}, \"mode\": \"lines+markers\", \"name\": \"predictions\", \"type\": \"scatter\", \"x\": [1, 2, 3, 4, 5, 6, 7, 8, 9, 10, 11, 12], \"y\": [358.81757575757575, 357.31528969696967, 360.7584164218182, 359.4780908307103, 358.3092064549071, 359.90209262335026, 361.3757751396955, 365.46132186093945, 365.66240070845464, 364.8122128282054, 367.7010410579502, 368.8045734417127]}, {\"line\": {\"color\": \"rgb(115,115,115)\", \"dash\": \"dot\", \"width\": 2}, \"mode\": \"lines+markers\", \"name\": \"estimations\", \"type\": \"scatter\", \"x\": [0, 1, 2, 3, 4, 5, 6, 7, 8, 9, 10, 11, 12], \"y\": [360.0, 358.4977139393939, 361.94084066424244, 360.66051507313455, 359.49163069733135, 361.0845168657745, 362.55819938211977, 366.6437461033637, 366.8448249508789, 365.99463707062966, 368.88346530037444, 369.98699768413695, 371.21194705473425]}, {\"line\": {\"color\": \"rgb(67,67,67)\", \"width\": 2}, \"mode\": \"lines\", \"name\": \"Truth\", \"type\": \"scatter\", \"x\": [0, 1, 2, 3, 4, 5, 6, 7, 8, 9, 10, 11, 12], \"y\": [360.0, 361.0050606060606, 362.01012121212125, 363.0151818181819, 364.0202424242425, 365.0253030303031, 366.03036363636375, 367.03542424242437, 368.040484848485, 369.0455454545456, 370.0506060606063, 371.0556666666669, 372.06072727272755]}],\n",
              "                        {\"autosize\": false, \"height\": 300, \"margin\": {\"b\": 10, \"l\": 5, \"pad\": 4, \"r\": 5, \"t\": 10}, \"paper_bgcolor\": \"White\", \"template\": {\"data\": {\"bar\": [{\"error_x\": {\"color\": \"#2a3f5f\"}, \"error_y\": {\"color\": \"#2a3f5f\"}, \"marker\": {\"line\": {\"color\": \"#E5ECF6\", \"width\": 0.5}}, \"type\": \"bar\"}], \"barpolar\": [{\"marker\": {\"line\": {\"color\": \"#E5ECF6\", \"width\": 0.5}}, \"type\": \"barpolar\"}], \"carpet\": [{\"aaxis\": {\"endlinecolor\": \"#2a3f5f\", \"gridcolor\": \"white\", \"linecolor\": \"white\", \"minorgridcolor\": \"white\", \"startlinecolor\": \"#2a3f5f\"}, \"baxis\": {\"endlinecolor\": \"#2a3f5f\", \"gridcolor\": \"white\", \"linecolor\": \"white\", \"minorgridcolor\": \"white\", \"startlinecolor\": \"#2a3f5f\"}, \"type\": \"carpet\"}], \"choropleth\": [{\"colorbar\": {\"outlinewidth\": 0, \"ticks\": \"\"}, \"type\": \"choropleth\"}], \"contour\": [{\"colorbar\": {\"outlinewidth\": 0, \"ticks\": \"\"}, \"colorscale\": [[0.0, \"#0d0887\"], [0.1111111111111111, \"#46039f\"], [0.2222222222222222, \"#7201a8\"], [0.3333333333333333, \"#9c179e\"], [0.4444444444444444, \"#bd3786\"], [0.5555555555555556, \"#d8576b\"], [0.6666666666666666, \"#ed7953\"], [0.7777777777777778, \"#fb9f3a\"], [0.8888888888888888, \"#fdca26\"], [1.0, \"#f0f921\"]], \"type\": \"contour\"}], \"contourcarpet\": [{\"colorbar\": {\"outlinewidth\": 0, \"ticks\": \"\"}, \"type\": \"contourcarpet\"}], \"heatmap\": [{\"colorbar\": {\"outlinewidth\": 0, \"ticks\": \"\"}, \"colorscale\": [[0.0, \"#0d0887\"], [0.1111111111111111, \"#46039f\"], [0.2222222222222222, \"#7201a8\"], [0.3333333333333333, \"#9c179e\"], [0.4444444444444444, \"#bd3786\"], [0.5555555555555556, \"#d8576b\"], [0.6666666666666666, \"#ed7953\"], [0.7777777777777778, \"#fb9f3a\"], [0.8888888888888888, \"#fdca26\"], [1.0, \"#f0f921\"]], \"type\": \"heatmap\"}], \"heatmapgl\": [{\"colorbar\": {\"outlinewidth\": 0, \"ticks\": \"\"}, \"colorscale\": [[0.0, \"#0d0887\"], [0.1111111111111111, \"#46039f\"], [0.2222222222222222, \"#7201a8\"], [0.3333333333333333, \"#9c179e\"], [0.4444444444444444, \"#bd3786\"], [0.5555555555555556, \"#d8576b\"], [0.6666666666666666, \"#ed7953\"], [0.7777777777777778, \"#fb9f3a\"], [0.8888888888888888, \"#fdca26\"], [1.0, \"#f0f921\"]], \"type\": \"heatmapgl\"}], \"histogram\": [{\"marker\": {\"colorbar\": {\"outlinewidth\": 0, \"ticks\": \"\"}}, \"type\": \"histogram\"}], \"histogram2d\": [{\"colorbar\": {\"outlinewidth\": 0, \"ticks\": \"\"}, \"colorscale\": [[0.0, \"#0d0887\"], [0.1111111111111111, \"#46039f\"], [0.2222222222222222, \"#7201a8\"], [0.3333333333333333, \"#9c179e\"], [0.4444444444444444, \"#bd3786\"], [0.5555555555555556, \"#d8576b\"], [0.6666666666666666, \"#ed7953\"], [0.7777777777777778, \"#fb9f3a\"], [0.8888888888888888, \"#fdca26\"], [1.0, \"#f0f921\"]], \"type\": \"histogram2d\"}], \"histogram2dcontour\": [{\"colorbar\": {\"outlinewidth\": 0, \"ticks\": \"\"}, \"colorscale\": [[0.0, \"#0d0887\"], [0.1111111111111111, \"#46039f\"], [0.2222222222222222, \"#7201a8\"], [0.3333333333333333, \"#9c179e\"], [0.4444444444444444, \"#bd3786\"], [0.5555555555555556, \"#d8576b\"], [0.6666666666666666, \"#ed7953\"], [0.7777777777777778, \"#fb9f3a\"], [0.8888888888888888, \"#fdca26\"], [1.0, \"#f0f921\"]], \"type\": \"histogram2dcontour\"}], \"mesh3d\": [{\"colorbar\": {\"outlinewidth\": 0, \"ticks\": \"\"}, \"type\": \"mesh3d\"}], \"parcoords\": [{\"line\": {\"colorbar\": {\"outlinewidth\": 0, \"ticks\": \"\"}}, \"type\": \"parcoords\"}], \"pie\": [{\"automargin\": true, \"type\": \"pie\"}], \"scatter\": [{\"marker\": {\"colorbar\": {\"outlinewidth\": 0, \"ticks\": \"\"}}, \"type\": \"scatter\"}], \"scatter3d\": [{\"line\": {\"colorbar\": {\"outlinewidth\": 0, \"ticks\": \"\"}}, \"marker\": {\"colorbar\": {\"outlinewidth\": 0, \"ticks\": \"\"}}, \"type\": \"scatter3d\"}], \"scattercarpet\": [{\"marker\": {\"colorbar\": {\"outlinewidth\": 0, \"ticks\": \"\"}}, \"type\": \"scattercarpet\"}], \"scattergeo\": [{\"marker\": {\"colorbar\": {\"outlinewidth\": 0, \"ticks\": \"\"}}, \"type\": \"scattergeo\"}], \"scattergl\": [{\"marker\": {\"colorbar\": {\"outlinewidth\": 0, \"ticks\": \"\"}}, \"type\": \"scattergl\"}], \"scattermapbox\": [{\"marker\": {\"colorbar\": {\"outlinewidth\": 0, \"ticks\": \"\"}}, \"type\": \"scattermapbox\"}], \"scatterpolar\": [{\"marker\": {\"colorbar\": {\"outlinewidth\": 0, \"ticks\": \"\"}}, \"type\": \"scatterpolar\"}], \"scatterpolargl\": [{\"marker\": {\"colorbar\": {\"outlinewidth\": 0, \"ticks\": \"\"}}, \"type\": \"scatterpolargl\"}], \"scatterternary\": [{\"marker\": {\"colorbar\": {\"outlinewidth\": 0, \"ticks\": \"\"}}, \"type\": \"scatterternary\"}], \"surface\": [{\"colorbar\": {\"outlinewidth\": 0, \"ticks\": \"\"}, \"colorscale\": [[0.0, \"#0d0887\"], [0.1111111111111111, \"#46039f\"], [0.2222222222222222, \"#7201a8\"], [0.3333333333333333, \"#9c179e\"], [0.4444444444444444, \"#bd3786\"], [0.5555555555555556, \"#d8576b\"], [0.6666666666666666, \"#ed7953\"], [0.7777777777777778, \"#fb9f3a\"], [0.8888888888888888, \"#fdca26\"], [1.0, \"#f0f921\"]], \"type\": \"surface\"}], \"table\": [{\"cells\": {\"fill\": {\"color\": \"#EBF0F8\"}, \"line\": {\"color\": \"white\"}}, \"header\": {\"fill\": {\"color\": \"#C8D4E3\"}, \"line\": {\"color\": \"white\"}}, \"type\": \"table\"}]}, \"layout\": {\"annotationdefaults\": {\"arrowcolor\": \"#2a3f5f\", \"arrowhead\": 0, \"arrowwidth\": 1}, \"coloraxis\": {\"colorbar\": {\"outlinewidth\": 0, \"ticks\": \"\"}}, \"colorscale\": {\"diverging\": [[0, \"#8e0152\"], [0.1, \"#c51b7d\"], [0.2, \"#de77ae\"], [0.3, \"#f1b6da\"], [0.4, \"#fde0ef\"], [0.5, \"#f7f7f7\"], [0.6, \"#e6f5d0\"], [0.7, \"#b8e186\"], [0.8, \"#7fbc41\"], [0.9, \"#4d9221\"], [1, \"#276419\"]], \"sequential\": [[0.0, \"#0d0887\"], [0.1111111111111111, \"#46039f\"], [0.2222222222222222, \"#7201a8\"], [0.3333333333333333, \"#9c179e\"], [0.4444444444444444, \"#bd3786\"], [0.5555555555555556, \"#d8576b\"], [0.6666666666666666, \"#ed7953\"], [0.7777777777777778, \"#fb9f3a\"], [0.8888888888888888, \"#fdca26\"], [1.0, \"#f0f921\"]], \"sequentialminus\": [[0.0, \"#0d0887\"], [0.1111111111111111, \"#46039f\"], [0.2222222222222222, \"#7201a8\"], [0.3333333333333333, \"#9c179e\"], [0.4444444444444444, \"#bd3786\"], [0.5555555555555556, \"#d8576b\"], [0.6666666666666666, \"#ed7953\"], [0.7777777777777778, \"#fb9f3a\"], [0.8888888888888888, \"#fdca26\"], [1.0, \"#f0f921\"]]}, \"colorway\": [\"#636efa\", \"#EF553B\", \"#00cc96\", \"#ab63fa\", \"#FFA15A\", \"#19d3f3\", \"#FF6692\", \"#B6E880\", \"#FF97FF\", \"#FECB52\"], \"font\": {\"color\": \"#2a3f5f\"}, \"geo\": {\"bgcolor\": \"white\", \"lakecolor\": \"white\", \"landcolor\": \"#E5ECF6\", \"showlakes\": true, \"showland\": true, \"subunitcolor\": \"white\"}, \"hoverlabel\": {\"align\": \"left\"}, \"hovermode\": \"closest\", \"mapbox\": {\"style\": \"light\"}, \"paper_bgcolor\": \"white\", \"plot_bgcolor\": \"#E5ECF6\", \"polar\": {\"angularaxis\": {\"gridcolor\": \"white\", \"linecolor\": \"white\", \"ticks\": \"\"}, \"bgcolor\": \"#E5ECF6\", \"radialaxis\": {\"gridcolor\": \"white\", \"linecolor\": \"white\", \"ticks\": \"\"}}, \"scene\": {\"xaxis\": {\"backgroundcolor\": \"#E5ECF6\", \"gridcolor\": \"white\", \"gridwidth\": 2, \"linecolor\": \"white\", \"showbackground\": true, \"ticks\": \"\", \"zerolinecolor\": \"white\"}, \"yaxis\": {\"backgroundcolor\": \"#E5ECF6\", \"gridcolor\": \"white\", \"gridwidth\": 2, \"linecolor\": \"white\", \"showbackground\": true, \"ticks\": \"\", \"zerolinecolor\": \"white\"}, \"zaxis\": {\"backgroundcolor\": \"#E5ECF6\", \"gridcolor\": \"white\", \"gridwidth\": 2, \"linecolor\": \"white\", \"showbackground\": true, \"ticks\": \"\", \"zerolinecolor\": \"white\"}}, \"shapedefaults\": {\"line\": {\"color\": \"#2a3f5f\"}}, \"ternary\": {\"aaxis\": {\"gridcolor\": \"white\", \"linecolor\": \"white\", \"ticks\": \"\"}, \"baxis\": {\"gridcolor\": \"white\", \"linecolor\": \"white\", \"ticks\": \"\"}, \"bgcolor\": \"#E5ECF6\", \"caxis\": {\"gridcolor\": \"white\", \"linecolor\": \"white\", \"ticks\": \"\"}}, \"title\": {\"x\": 0.05}, \"xaxis\": {\"automargin\": true, \"gridcolor\": \"white\", \"linecolor\": \"white\", \"ticks\": \"\", \"title\": {\"standoff\": 15}, \"zerolinecolor\": \"white\", \"zerolinewidth\": 2}, \"yaxis\": {\"automargin\": true, \"gridcolor\": \"white\", \"linecolor\": \"white\", \"ticks\": \"\", \"title\": {\"standoff\": 15}, \"zerolinecolor\": \"white\", \"zerolinewidth\": 2}}}, \"width\": 800},\n",
              "                        {\"responsive\": true}\n",
              "                    ).then(function(){\n",
              "                            \n",
              "var gd = document.getElementById('e94a93c4-0d88-49bf-847f-80a1aeb71f86');\n",
              "var x = new MutationObserver(function (mutations, observer) {{\n",
              "        var display = window.getComputedStyle(gd).display;\n",
              "        if (!display || display === 'none') {{\n",
              "            console.log([gd, 'removed!']);\n",
              "            Plotly.purge(gd);\n",
              "            observer.disconnect();\n",
              "        }}\n",
              "}});\n",
              "\n",
              "// Listen for the removal of the full notebook cells\n",
              "var notebookContainer = gd.closest('#notebook-container');\n",
              "if (notebookContainer) {{\n",
              "    x.observe(notebookContainer, {childList: true});\n",
              "}}\n",
              "\n",
              "// Listen for the clearing of the current output cell\n",
              "var outputEl = gd.closest('.output');\n",
              "if (outputEl) {{\n",
              "    x.observe(outputEl, {childList: true});\n",
              "}}\n",
              "\n",
              "                        })\n",
              "                };\n",
              "                \n",
              "            </script>\n",
              "        </div>\n",
              "</body>\n",
              "</html>"
            ]
          },
          "metadata": {
            "tags": []
          }
        }
      ]
    },
    {
      "cell_type": "markdown",
      "metadata": {
        "id": "qc36fbjBhYp0"
      },
      "source": [
        "This does not look so good. We can still make estimations that yield an increasing trend but the difference between the truth gets larger. In other words, if we just simple combine our prior understanding on the dynamics of the system with the measurements without updating our \"view of the world\", the filter will fail when there is change in the system behavior. \n",
        "\n",
        "What could be the solution? Remember that we pass our prior knowledge in the form of a \"gain\", which was fixed based on our previous knowledge. \n",
        "\n",
        "Here the trick is convert the gain parameter into a variable that is learning from our measurements and estimations."
      ]
    },
    {
      "cell_type": "code",
      "metadata": {
        "id": "hciA2a_rilZu"
      },
      "source": [
        "# Lets rewrite our function:\n",
        "#We need to define a learning rate for the gain update:\n",
        "learning_rate = 1.0-0.618\n",
        "\n",
        "def state_predict_2(estimated_temp, gain_rate, isPrint=False):     \n",
        "    # storage for the filtered results\n",
        "    estimations, predictions = [estimated_temp], []\n",
        "\n",
        "    for z in temp_observations: \n",
        "        # predict new position via our model:\n",
        "        predicted_temp = estimated_temp + gain_rate * delta_t\n",
        "\n",
        "        #Updating our understanding of the \"world\":\n",
        "        #we will use the difference btw. the prediction and the measurement as a scaling factor\n",
        "        #we will add temporal information by dividing to delta_t => residual/time\n",
        "        #this will be multiplied with learning rate to update previous gain.\n",
        "        residual = z - predicted_temp\n",
        "        gain_rate = gain_rate + learning_rate * (residual/delta_t)\n",
        "        \n",
        "        # updating the \"filter\": here we will combine the information\n",
        "        # coming from the model and the measurement:\n",
        "        estimated_temp = predicted_temp + scaling_factor * (z - predicted_temp)\n",
        "\n",
        "        if isPrint:\n",
        "            print(f'prior estimation: {estimations[-1]:.1f}',\n",
        "                  f'model prediction: {predicted_temp:.1f}',\n",
        "                  f'estimation: {estimated_temp:.1f}')\n",
        "        \n",
        "        # Saving the loop state:\n",
        "        estimations.append(estimated_temp)\n",
        "        predictions.append(predicted_temp)\n",
        "\n",
        "    return estimations, predictions"
      ],
      "execution_count": 20,
      "outputs": []
    },
    {
      "cell_type": "code",
      "metadata": {
        "colab": {
          "base_uri": "https://localhost:8080/"
        },
        "id": "poa198HI0Hye",
        "outputId": "991b83d4-e53e-4470-8f1e-545c19fbe15c"
      },
      "source": [
        "#Calling our function:\n",
        "initial_temp = 360.0\n",
        "# note that we reverse the slope of the model to reflect the insight on decreasing temperatures:\n",
        "estimations, predictions = state_predict_2(estimated_temp=initial_temp, gain_rate=-poly[0], isPrint=True)  "
      ],
      "execution_count": 21,
      "outputs": [
        {
          "output_type": "stream",
          "text": [
            "prior estimation: 360.0 model prediction: 358.8 estimation: 358.5\n",
            "prior estimation: 358.5 model prediction: 357.1 estimation: 361.9\n",
            "prior estimation: 361.9 model prediction: 363.4 estimation: 361.7\n",
            "prior estimation: 361.7 model prediction: 362.2 estimation: 360.5\n",
            "prior estimation: 360.5 model prediction: 360.0 estimation: 361.7\n",
            "prior estimation: 361.7 model prediction: 362.3 estimation: 363.5\n",
            "prior estimation: 363.5 model prediction: 364.7 estimation: 367.9\n",
            "prior estimation: 367.9 model prediction: 371.2 estimation: 369.0\n",
            "prior estimation: 369.0 model prediction: 371.0 estimation: 368.0\n",
            "prior estimation: 368.0 model prediction: 368.1 estimation: 370.1\n",
            "prior estimation: 370.1 model prediction: 371.5 estimation: 371.4\n",
            "prior estimation: 371.4 model prediction: 372.8 estimation: 372.7\n"
          ],
          "name": "stdout"
        }
      ]
    },
    {
      "cell_type": "code",
      "metadata": {
        "colab": {
          "base_uri": "https://localhost:8080/",
          "height": 317
        },
        "id": "ULCG-bE7z_cc",
        "outputId": "a523a90a-b017-49c8-b449-5c8db2dfea54"
      },
      "source": [
        "self_plots.plotter_2(temp_observations, predictions, estimations, true_data)"
      ],
      "execution_count": 22,
      "outputs": [
        {
          "output_type": "display_data",
          "data": {
            "text/html": [
              "<html>\n",
              "<head><meta charset=\"utf-8\" /></head>\n",
              "<body>\n",
              "    <div>\n",
              "            <script src=\"https://cdnjs.cloudflare.com/ajax/libs/mathjax/2.7.5/MathJax.js?config=TeX-AMS-MML_SVG\"></script><script type=\"text/javascript\">if (window.MathJax) {MathJax.Hub.Config({SVG: {font: \"STIX-Web\"}});}</script>\n",
              "                <script type=\"text/javascript\">window.PlotlyConfig = {MathJaxConfig: 'local'};</script>\n",
              "        <script src=\"https://cdn.plot.ly/plotly-latest.min.js\"></script>    \n",
              "            <div id=\"855672cd-8394-4809-932b-a25d71575de3\" class=\"plotly-graph-div\" style=\"height:300px; width:800px;\"></div>\n",
              "            <script type=\"text/javascript\">\n",
              "                \n",
              "                    window.PLOTLYENV=window.PLOTLYENV || {};\n",
              "                    \n",
              "                if (document.getElementById(\"855672cd-8394-4809-932b-a25d71575de3\")) {\n",
              "                    Plotly.newPlot(\n",
              "                        '855672cd-8394-4809-932b-a25d71575de3',\n",
              "                        [{\"line\": {\"color\": \"red\", \"width\": 2}, \"mode\": \"markers\", \"name\": \"measurements\", \"type\": \"scatter\", \"x\": [1, 2, 3, 4, 5, 6, 7, 8, 9, 10, 11, 12], \"y\": [358.3, 364.8, 360.6, 359.5, 362.8, 364.2, 369.9, 367.7, 366.2, 371.4, 371.4, 372.7]}, {\"line\": {\"color\": \"rgb(49,130,189)\", \"dash\": \"dash\", \"width\": 2}, \"mode\": \"lines+markers\", \"name\": \"predictions\", \"type\": \"scatter\", \"x\": [1, 2, 3, 4, 5, 6, 7, 8, 9, 10, 11, 12], \"y\": [358.81757575757575, 357.1175757575757, 363.4198618181818, 362.1545478787879, 359.97736066424244, 362.26332337454545, 364.74157160080483, 371.1813820717285, 370.95190172022103, 368.1220137688207, 371.5067873116963, 372.75897805200674]}, {\"line\": {\"color\": \"rgb(115,115,115)\", \"dash\": \"dot\", \"width\": 2}, \"mode\": \"lines+markers\", \"name\": \"estimations\", \"type\": \"scatter\", \"x\": [0, 1, 2, 3, 4, 5, 6, 7, 8, 9, 10, 11, 12], \"y\": [360.0, 358.4977139393939, 361.8653139393939, 361.6771872145455, 360.514037289697, 361.7217517737406, 363.46018952907633, 367.92948035150744, 369.02988795140027, 368.0152264571244, 370.1478092596895, 371.44079275306797, 372.72252961586656]}, {\"line\": {\"color\": \"rgb(67,67,67)\", \"width\": 2}, \"mode\": \"lines\", \"name\": \"Truth\", \"type\": \"scatter\", \"x\": [0, 1, 2, 3, 4, 5, 6, 7, 8, 9, 10, 11, 12], \"y\": [360.0, 361.0050606060606, 362.01012121212125, 363.0151818181819, 364.0202424242425, 365.0253030303031, 366.03036363636375, 367.03542424242437, 368.040484848485, 369.0455454545456, 370.0506060606063, 371.0556666666669, 372.06072727272755]}],\n",
              "                        {\"autosize\": false, \"height\": 300, \"margin\": {\"b\": 10, \"l\": 5, \"pad\": 4, \"r\": 5, \"t\": 10}, \"paper_bgcolor\": \"White\", \"template\": {\"data\": {\"bar\": [{\"error_x\": {\"color\": \"#2a3f5f\"}, \"error_y\": {\"color\": \"#2a3f5f\"}, \"marker\": {\"line\": {\"color\": \"#E5ECF6\", \"width\": 0.5}}, \"type\": \"bar\"}], \"barpolar\": [{\"marker\": {\"line\": {\"color\": \"#E5ECF6\", \"width\": 0.5}}, \"type\": \"barpolar\"}], \"carpet\": [{\"aaxis\": {\"endlinecolor\": \"#2a3f5f\", \"gridcolor\": \"white\", \"linecolor\": \"white\", \"minorgridcolor\": \"white\", \"startlinecolor\": \"#2a3f5f\"}, \"baxis\": {\"endlinecolor\": \"#2a3f5f\", \"gridcolor\": \"white\", \"linecolor\": \"white\", \"minorgridcolor\": \"white\", \"startlinecolor\": \"#2a3f5f\"}, \"type\": \"carpet\"}], \"choropleth\": [{\"colorbar\": {\"outlinewidth\": 0, \"ticks\": \"\"}, \"type\": \"choropleth\"}], \"contour\": [{\"colorbar\": {\"outlinewidth\": 0, \"ticks\": \"\"}, \"colorscale\": [[0.0, \"#0d0887\"], [0.1111111111111111, \"#46039f\"], [0.2222222222222222, \"#7201a8\"], [0.3333333333333333, \"#9c179e\"], [0.4444444444444444, \"#bd3786\"], [0.5555555555555556, \"#d8576b\"], [0.6666666666666666, \"#ed7953\"], [0.7777777777777778, \"#fb9f3a\"], [0.8888888888888888, \"#fdca26\"], [1.0, \"#f0f921\"]], \"type\": \"contour\"}], \"contourcarpet\": [{\"colorbar\": {\"outlinewidth\": 0, \"ticks\": \"\"}, \"type\": \"contourcarpet\"}], \"heatmap\": [{\"colorbar\": {\"outlinewidth\": 0, \"ticks\": \"\"}, \"colorscale\": [[0.0, \"#0d0887\"], [0.1111111111111111, \"#46039f\"], [0.2222222222222222, \"#7201a8\"], [0.3333333333333333, \"#9c179e\"], [0.4444444444444444, \"#bd3786\"], [0.5555555555555556, \"#d8576b\"], [0.6666666666666666, \"#ed7953\"], [0.7777777777777778, \"#fb9f3a\"], [0.8888888888888888, \"#fdca26\"], [1.0, \"#f0f921\"]], \"type\": \"heatmap\"}], \"heatmapgl\": [{\"colorbar\": {\"outlinewidth\": 0, \"ticks\": \"\"}, \"colorscale\": [[0.0, \"#0d0887\"], [0.1111111111111111, \"#46039f\"], [0.2222222222222222, \"#7201a8\"], [0.3333333333333333, \"#9c179e\"], [0.4444444444444444, \"#bd3786\"], [0.5555555555555556, \"#d8576b\"], [0.6666666666666666, \"#ed7953\"], [0.7777777777777778, \"#fb9f3a\"], [0.8888888888888888, \"#fdca26\"], [1.0, \"#f0f921\"]], \"type\": \"heatmapgl\"}], \"histogram\": [{\"marker\": {\"colorbar\": {\"outlinewidth\": 0, \"ticks\": \"\"}}, \"type\": \"histogram\"}], \"histogram2d\": [{\"colorbar\": {\"outlinewidth\": 0, \"ticks\": \"\"}, \"colorscale\": [[0.0, \"#0d0887\"], [0.1111111111111111, \"#46039f\"], [0.2222222222222222, \"#7201a8\"], [0.3333333333333333, \"#9c179e\"], [0.4444444444444444, \"#bd3786\"], [0.5555555555555556, \"#d8576b\"], [0.6666666666666666, \"#ed7953\"], [0.7777777777777778, \"#fb9f3a\"], [0.8888888888888888, \"#fdca26\"], [1.0, \"#f0f921\"]], \"type\": \"histogram2d\"}], \"histogram2dcontour\": [{\"colorbar\": {\"outlinewidth\": 0, \"ticks\": \"\"}, \"colorscale\": [[0.0, \"#0d0887\"], [0.1111111111111111, \"#46039f\"], [0.2222222222222222, \"#7201a8\"], [0.3333333333333333, \"#9c179e\"], [0.4444444444444444, \"#bd3786\"], [0.5555555555555556, \"#d8576b\"], [0.6666666666666666, \"#ed7953\"], [0.7777777777777778, \"#fb9f3a\"], [0.8888888888888888, \"#fdca26\"], [1.0, \"#f0f921\"]], \"type\": \"histogram2dcontour\"}], \"mesh3d\": [{\"colorbar\": {\"outlinewidth\": 0, \"ticks\": \"\"}, \"type\": \"mesh3d\"}], \"parcoords\": [{\"line\": {\"colorbar\": {\"outlinewidth\": 0, \"ticks\": \"\"}}, \"type\": \"parcoords\"}], \"pie\": [{\"automargin\": true, \"type\": \"pie\"}], \"scatter\": [{\"marker\": {\"colorbar\": {\"outlinewidth\": 0, \"ticks\": \"\"}}, \"type\": \"scatter\"}], \"scatter3d\": [{\"line\": {\"colorbar\": {\"outlinewidth\": 0, \"ticks\": \"\"}}, \"marker\": {\"colorbar\": {\"outlinewidth\": 0, \"ticks\": \"\"}}, \"type\": \"scatter3d\"}], \"scattercarpet\": [{\"marker\": {\"colorbar\": {\"outlinewidth\": 0, \"ticks\": \"\"}}, \"type\": \"scattercarpet\"}], \"scattergeo\": [{\"marker\": {\"colorbar\": {\"outlinewidth\": 0, \"ticks\": \"\"}}, \"type\": \"scattergeo\"}], \"scattergl\": [{\"marker\": {\"colorbar\": {\"outlinewidth\": 0, \"ticks\": \"\"}}, \"type\": \"scattergl\"}], \"scattermapbox\": [{\"marker\": {\"colorbar\": {\"outlinewidth\": 0, \"ticks\": \"\"}}, \"type\": \"scattermapbox\"}], \"scatterpolar\": [{\"marker\": {\"colorbar\": {\"outlinewidth\": 0, \"ticks\": \"\"}}, \"type\": \"scatterpolar\"}], \"scatterpolargl\": [{\"marker\": {\"colorbar\": {\"outlinewidth\": 0, \"ticks\": \"\"}}, \"type\": \"scatterpolargl\"}], \"scatterternary\": [{\"marker\": {\"colorbar\": {\"outlinewidth\": 0, \"ticks\": \"\"}}, \"type\": \"scatterternary\"}], \"surface\": [{\"colorbar\": {\"outlinewidth\": 0, \"ticks\": \"\"}, \"colorscale\": [[0.0, \"#0d0887\"], [0.1111111111111111, \"#46039f\"], [0.2222222222222222, \"#7201a8\"], [0.3333333333333333, \"#9c179e\"], [0.4444444444444444, \"#bd3786\"], [0.5555555555555556, \"#d8576b\"], [0.6666666666666666, \"#ed7953\"], [0.7777777777777778, \"#fb9f3a\"], [0.8888888888888888, \"#fdca26\"], [1.0, \"#f0f921\"]], \"type\": \"surface\"}], \"table\": [{\"cells\": {\"fill\": {\"color\": \"#EBF0F8\"}, \"line\": {\"color\": \"white\"}}, \"header\": {\"fill\": {\"color\": \"#C8D4E3\"}, \"line\": {\"color\": \"white\"}}, \"type\": \"table\"}]}, \"layout\": {\"annotationdefaults\": {\"arrowcolor\": \"#2a3f5f\", \"arrowhead\": 0, \"arrowwidth\": 1}, \"coloraxis\": {\"colorbar\": {\"outlinewidth\": 0, \"ticks\": \"\"}}, \"colorscale\": {\"diverging\": [[0, \"#8e0152\"], [0.1, \"#c51b7d\"], [0.2, \"#de77ae\"], [0.3, \"#f1b6da\"], [0.4, \"#fde0ef\"], [0.5, \"#f7f7f7\"], [0.6, \"#e6f5d0\"], [0.7, \"#b8e186\"], [0.8, \"#7fbc41\"], [0.9, \"#4d9221\"], [1, \"#276419\"]], \"sequential\": [[0.0, \"#0d0887\"], [0.1111111111111111, \"#46039f\"], [0.2222222222222222, \"#7201a8\"], [0.3333333333333333, \"#9c179e\"], [0.4444444444444444, \"#bd3786\"], [0.5555555555555556, \"#d8576b\"], [0.6666666666666666, \"#ed7953\"], [0.7777777777777778, \"#fb9f3a\"], [0.8888888888888888, \"#fdca26\"], [1.0, \"#f0f921\"]], \"sequentialminus\": [[0.0, \"#0d0887\"], [0.1111111111111111, \"#46039f\"], [0.2222222222222222, \"#7201a8\"], [0.3333333333333333, \"#9c179e\"], [0.4444444444444444, \"#bd3786\"], [0.5555555555555556, \"#d8576b\"], [0.6666666666666666, \"#ed7953\"], [0.7777777777777778, \"#fb9f3a\"], [0.8888888888888888, \"#fdca26\"], [1.0, \"#f0f921\"]]}, \"colorway\": [\"#636efa\", \"#EF553B\", \"#00cc96\", \"#ab63fa\", \"#FFA15A\", \"#19d3f3\", \"#FF6692\", \"#B6E880\", \"#FF97FF\", \"#FECB52\"], \"font\": {\"color\": \"#2a3f5f\"}, \"geo\": {\"bgcolor\": \"white\", \"lakecolor\": \"white\", \"landcolor\": \"#E5ECF6\", \"showlakes\": true, \"showland\": true, \"subunitcolor\": \"white\"}, \"hoverlabel\": {\"align\": \"left\"}, \"hovermode\": \"closest\", \"mapbox\": {\"style\": \"light\"}, \"paper_bgcolor\": \"white\", \"plot_bgcolor\": \"#E5ECF6\", \"polar\": {\"angularaxis\": {\"gridcolor\": \"white\", \"linecolor\": \"white\", \"ticks\": \"\"}, \"bgcolor\": \"#E5ECF6\", \"radialaxis\": {\"gridcolor\": \"white\", \"linecolor\": \"white\", \"ticks\": \"\"}}, \"scene\": {\"xaxis\": {\"backgroundcolor\": \"#E5ECF6\", \"gridcolor\": \"white\", \"gridwidth\": 2, \"linecolor\": \"white\", \"showbackground\": true, \"ticks\": \"\", \"zerolinecolor\": \"white\"}, \"yaxis\": {\"backgroundcolor\": \"#E5ECF6\", \"gridcolor\": \"white\", \"gridwidth\": 2, \"linecolor\": \"white\", \"showbackground\": true, \"ticks\": \"\", \"zerolinecolor\": \"white\"}, \"zaxis\": {\"backgroundcolor\": \"#E5ECF6\", \"gridcolor\": \"white\", \"gridwidth\": 2, \"linecolor\": \"white\", \"showbackground\": true, \"ticks\": \"\", \"zerolinecolor\": \"white\"}}, \"shapedefaults\": {\"line\": {\"color\": \"#2a3f5f\"}}, \"ternary\": {\"aaxis\": {\"gridcolor\": \"white\", \"linecolor\": \"white\", \"ticks\": \"\"}, \"baxis\": {\"gridcolor\": \"white\", \"linecolor\": \"white\", \"ticks\": \"\"}, \"bgcolor\": \"#E5ECF6\", \"caxis\": {\"gridcolor\": \"white\", \"linecolor\": \"white\", \"ticks\": \"\"}}, \"title\": {\"x\": 0.05}, \"xaxis\": {\"automargin\": true, \"gridcolor\": \"white\", \"linecolor\": \"white\", \"ticks\": \"\", \"title\": {\"standoff\": 15}, \"zerolinecolor\": \"white\", \"zerolinewidth\": 2}, \"yaxis\": {\"automargin\": true, \"gridcolor\": \"white\", \"linecolor\": \"white\", \"ticks\": \"\", \"title\": {\"standoff\": 15}, \"zerolinecolor\": \"white\", \"zerolinewidth\": 2}}}, \"width\": 800},\n",
              "                        {\"responsive\": true}\n",
              "                    ).then(function(){\n",
              "                            \n",
              "var gd = document.getElementById('855672cd-8394-4809-932b-a25d71575de3');\n",
              "var x = new MutationObserver(function (mutations, observer) {{\n",
              "        var display = window.getComputedStyle(gd).display;\n",
              "        if (!display || display === 'none') {{\n",
              "            console.log([gd, 'removed!']);\n",
              "            Plotly.purge(gd);\n",
              "            observer.disconnect();\n",
              "        }}\n",
              "}});\n",
              "\n",
              "// Listen for the removal of the full notebook cells\n",
              "var notebookContainer = gd.closest('#notebook-container');\n",
              "if (notebookContainer) {{\n",
              "    x.observe(notebookContainer, {childList: true});\n",
              "}}\n",
              "\n",
              "// Listen for the clearing of the current output cell\n",
              "var outputEl = gd.closest('.output');\n",
              "if (outputEl) {{\n",
              "    x.observe(outputEl, {childList: true});\n",
              "}}\n",
              "\n",
              "                        })\n",
              "                };\n",
              "                \n",
              "            </script>\n",
              "        </div>\n",
              "</body>\n",
              "</html>"
            ]
          },
          "metadata": {
            "tags": []
          }
        }
      ]
    },
    {
      "cell_type": "markdown",
      "metadata": {
        "id": "gpJrCLlJ0jpu"
      },
      "source": [
        "By comparing the measurements and our model predictions, we created a feedback information, which is then used to update our understanding of the system; that is the gain variable. Here we see that our estimations are much better than pure model predictions and learn the new dynamics in a few steps.\n",
        "\n",
        "Note that we have some parameters here: learning_rate & scaling factor, which are chosen arbitrarily here. We could also use update the gain; take another model prediction; maybe avarage them and so on. The key idea here is to keep update our understanding of the system as new information becomes available."
      ]
    },
    {
      "cell_type": "markdown",
      "metadata": {
        "id": "SShfxIyP2QoZ"
      },
      "source": [
        "##  $\\alpha$-$\\beta$ filter\n",
        "\n",
        "Above discussions and the algoithm we worked on id formally called  $\\alpha$-$\\beta$ filter or g-h filter in the literature. There are many filter applications in the literature and they are, in one way or the other, interpretations of these two hyperparameters:\n",
        "\n",
        "+ $\\alpha$ is the scaling factor between the measurement and the prediction. If $\\alpha$ is very small; we ignore the information coming from the measurements. If it is too large; we rely on the measurements too much hence reject very little of the noise (errors) in the measured values.\n",
        "\n",
        "+ $\\beta$ is the scaling factor between the measured residual and the model prediction, hence can be considered as a form of learning rate. A small $\\beta$ value means we react to the changes in the landscape rather slowly.\n",
        "\n",
        "\n",
        "For instance, in Kalman filter, $\\alpha$-$\\beta$ are varried dynamically at each time step, which we will see later."
      ]
    },
    {
      "cell_type": "markdown",
      "metadata": {
        "id": "RQ3_fKHKbBm_"
      },
      "source": [
        "### Using filterpy"
      ]
    },
    {
      "cell_type": "code",
      "metadata": {
        "id": "EpDwOyeNbPta"
      },
      "source": [
        "# Creating a sensor readings for our simple filter:\n",
        "def new_position(pos, vel, dt=1.):\n",
        "    return pos + (vel * dt)\n",
        "def measured_position(pos):\n",
        "    return pos + randn()*300\n",
        "def gen_data(pos, vel, count):\n",
        "    z = []\n",
        "    for t in range(count):\n",
        "        pos = new_position(pos, vel)\n",
        "        vel += 0.2\n",
        "        z.append(measured_position(pos))\n",
        "    return np.asarray(z)\n",
        "  \n",
        "pos, vel = 30000., 15.\n",
        "z = gen_data(pos, vel, 100)"
      ],
      "execution_count": 23,
      "outputs": []
    },
    {
      "cell_type": "code",
      "metadata": {
        "colab": {
          "base_uri": "https://localhost:8080/"
        },
        "id": "QeDAgdNVW4X5",
        "outputId": "c64b946f-2673-47ce-d980-8c42a470c909"
      },
      "source": [
        "z[:10]"
      ],
      "execution_count": 24,
      "outputs": [
        {
          "output_type": "execute_result",
          "data": {
            "text/plain": [
              "array([29839.77543369, 29806.72659737, 30256.68074508, 30261.85269332,\n",
              "       30396.97753924, 29966.68070575, 29909.48209862, 30334.45624217,\n",
              "       30195.61219447, 30468.89539274])"
            ]
          },
          "metadata": {
            "tags": []
          },
          "execution_count": 24
        }
      ]
    },
    {
      "cell_type": "code",
      "metadata": {
        "colab": {
          "base_uri": "https://localhost:8080/"
        },
        "id": "lLNnAvdaf9bb",
        "outputId": "231a683b-5f77-4338-b45b-c89fabb26edf"
      },
      "source": [
        "x = pos\n",
        "dx = vel\n",
        "#Creating filter:\n",
        "#https://filterpy.readthedocs.io/en/latest/gh/GHFilter.html\n",
        "f_object = GHFilter(x,dx,dt=1,g=0.01,h=0.01)\n",
        "print('x:',f_object.x)\n",
        "print('dx:',f_object.dx)"
      ],
      "execution_count": 25,
      "outputs": [
        {
          "output_type": "stream",
          "text": [
            "x: 30000.0\n",
            "dx: 15.0\n"
          ],
          "name": "stdout"
        }
      ]
    },
    {
      "cell_type": "code",
      "metadata": {
        "id": "pD2_8_dOg0mY"
      },
      "source": [
        "#Applying the filter with measurements z:\n",
        "x_estimates = []\n",
        "for measurement in z:\n",
        "  x_estimates.append(f_object.update(z = measurement)[0])\n",
        "x_estimates = np.array(x_estimates)\n"
      ],
      "execution_count": 26,
      "outputs": []
    },
    {
      "cell_type": "code",
      "metadata": {
        "colab": {
          "base_uri": "https://localhost:8080/"
        },
        "id": "tCyKWnC7XOgQ",
        "outputId": "1a7d56f5-417e-4f4a-c586-f586b348d950"
      },
      "source": [
        "#lets see the output of .update on f_object\n",
        "f_object"
      ],
      "execution_count": 27,
      "outputs": [
        {
          "output_type": "execute_result",
          "data": {
            "text/plain": [
              "GHFilter object\n",
              "dt = 1\n",
              "g = 0.01\n",
              "h = 0.01\n",
              "x = 32337.904706776262\n",
              "dx = 26.79157904065614\n",
              "x_prediction = 32338.54292730415\n",
              "dx_prediction = 27.429799568544656\n",
              "y = -63.82205278885158\n",
              "z = 0.0"
            ]
          },
          "metadata": {
            "tags": []
          },
          "execution_count": 27
        }
      ]
    },
    {
      "cell_type": "code",
      "metadata": {
        "colab": {
          "base_uri": "https://localhost:8080/",
          "height": 317
        },
        "id": "yFLvff7uhpHm",
        "outputId": "7e655918-a17a-4437-acdb-489c62503716"
      },
      "source": [
        "self_plots.plotter_2(z/1000,[],x_estimates/1000,[])"
      ],
      "execution_count": 28,
      "outputs": [
        {
          "output_type": "display_data",
          "data": {
            "text/html": [
              "<html>\n",
              "<head><meta charset=\"utf-8\" /></head>\n",
              "<body>\n",
              "    <div>\n",
              "            <script src=\"https://cdnjs.cloudflare.com/ajax/libs/mathjax/2.7.5/MathJax.js?config=TeX-AMS-MML_SVG\"></script><script type=\"text/javascript\">if (window.MathJax) {MathJax.Hub.Config({SVG: {font: \"STIX-Web\"}});}</script>\n",
              "                <script type=\"text/javascript\">window.PlotlyConfig = {MathJaxConfig: 'local'};</script>\n",
              "        <script src=\"https://cdn.plot.ly/plotly-latest.min.js\"></script>    \n",
              "            <div id=\"2e015ac7-6737-4469-b480-f47060901fec\" class=\"plotly-graph-div\" style=\"height:300px; width:800px;\"></div>\n",
              "            <script type=\"text/javascript\">\n",
              "                \n",
              "                    window.PLOTLYENV=window.PLOTLYENV || {};\n",
              "                    \n",
              "                if (document.getElementById(\"2e015ac7-6737-4469-b480-f47060901fec\")) {\n",
              "                    Plotly.newPlot(\n",
              "                        '2e015ac7-6737-4469-b480-f47060901fec',\n",
              "                        [{\"line\": {\"color\": \"red\", \"width\": 2}, \"mode\": \"markers\", \"name\": \"measurements\", \"type\": \"scatter\", \"x\": [1, 2, 3, 4, 5, 6, 7, 8, 9, 10, 11, 12, 13, 14, 15, 16, 17, 18, 19, 20, 21, 22, 23, 24, 25, 26, 27, 28, 29, 30, 31, 32, 33, 34, 35, 36, 37, 38, 39, 40, 41, 42, 43, 44, 45, 46, 47, 48, 49, 50, 51, 52, 53, 54, 55, 56, 57, 58, 59, 60, 61, 62, 63, 64, 65, 66, 67, 68, 69, 70, 71, 72, 73, 74, 75, 76, 77, 78, 79, 80, 81, 82, 83, 84, 85, 86, 87, 88, 89, 90, 91, 92, 93, 94, 95, 96, 97, 98, 99], \"y\": [29.83977543368752, 29.806726597374002, 30.25668074508099, 30.26185269332013, 30.396977539239657, 29.966680705752026, 29.909482098615996, 30.334456242172894, 30.195612194471906, 30.468895392741295, 29.905214347669755, 30.404038619916854, 30.118007184656605, 29.938697656679874, 30.112577000991624, 30.05721161861133, 29.811655713325045, 30.134683870013813, 30.028880433359202, 30.5604510632396, 30.53773987104788, 30.56246835562777, 30.144730051867622, 30.560138195455558, 30.751733832113036, 30.584518798243426, 29.814452123692302, 30.479893879040894, 30.516175216194565, 30.35337904546914, 30.33118859124697, 30.68207581019637, 30.336948885552747, 30.508681824631385, 30.19312472056031, 30.618605191184233, 30.93139533677822, 30.316500628993683, 30.572128014533032, 30.456990572279512, 30.887493829773135, 30.669144512177592, 31.005248968955954, 31.278402233545304, 30.39739862177723, 30.694175002704444, 30.786059306668644, 31.553994177926157, 31.542436831029555, 30.655583846268673, 31.819002181635593, 31.054716062568477, 31.10761085336548, 30.976377752525867, 31.70446262111651, 31.287584944258885, 30.602786184613603, 30.932605747884665, 31.59965842939978, 31.28656344944444, 30.884636945113755, 31.214807597245628, 31.727596240806374, 31.470731099547223, 31.521406452415828, 31.868352827519157, 31.624068894060528, 31.249570994856025, 31.812579811520422, 31.28125105544631, 31.7240829241907, 31.443255014664874, 31.966801938077246, 31.367142976958892, 31.367587942166367, 31.61036183033932, 31.826559454376866, 31.031086054485325, 32.19076747427465, 32.03308424809732, 32.125569971733945, 32.49773918570031, 32.368643830520746, 31.936977358500304, 32.60470394350408, 31.719796504094575, 31.981536007635526, 31.9303948945096, 31.84484089803416, 31.93926354019506, 32.38318976337892, 31.682390388716925, 32.47893482452289, 32.55128442910299, 32.59677459104829, 32.64860096073919, 32.6878920765408, 32.04837312229068, 32.72782880064004, 32.2747208745153]}, {\"line\": {\"color\": \"rgb(49,130,189)\", \"dash\": \"dash\", \"width\": 2}, \"mode\": \"lines+markers\", \"name\": \"predictions\", \"type\": \"scatter\", \"x\": [1, 2, 3, 4, 5, 6, 7, 8, 9, 10, 11, 12, 13, 14, 15, 16, 17, 18, 19, 20, 21, 22, 23, 24, 25, 26, 27, 28, 29, 30, 31, 32, 33, 34, 35, 36, 37, 38, 39, 40, 41, 42, 43, 44, 45, 46, 47, 48, 49, 50, 51, 52, 53, 54, 55, 56, 57, 58, 59, 60, 61, 62, 63, 64, 65, 66, 67, 68, 69, 70, 71, 72, 73, 74, 75, 76, 77, 78, 79, 80, 81, 82, 83, 84, 85, 86, 87, 88, 89, 90, 91, 92, 93, 94, 95, 96, 97, 98, 99], \"y\": []}, {\"line\": {\"color\": \"rgb(115,115,115)\", \"dash\": \"dot\", \"width\": 2}, \"mode\": \"lines+markers\", \"name\": \"estimations\", \"type\": \"scatter\", \"x\": [0, 1, 2, 3, 4, 5, 6, 7, 8, 9, 10, 11, 12, 13, 14, 15, 16, 17, 18, 19, 20, 21, 22, 23, 24, 25, 26, 27, 28, 29, 30, 31, 32, 33, 34, 35, 36, 37, 38, 39, 40, 41, 42, 43, 44, 45, 46, 47, 48, 49, 50, 51, 52, 53, 54, 55, 56, 57, 58, 59, 60, 61, 62, 63, 64, 65, 66, 67, 68, 69, 70, 71, 72, 73, 74, 75, 76, 77, 78, 79, 80, 81, 82, 83, 84, 85, 86, 87, 88, 89, 90, 91, 92, 93, 94, 95, 96, 97, 98, 99], \"y\": [30.013247754336877, 30.024297819560758, 30.037561213387598, 30.052934888075495, 30.071595252528155, 30.089019867868526, 30.10447485936297, 30.122075114770567, 30.140234738421107, 30.161499372378337, 30.17998850974891, 30.200533256847457, 30.220047295753112, 30.236552697878977, 30.251653289014715, 30.264658457535052, 30.27300354692809, 30.279881988658058, 30.284181630417734, 30.291200970088035, 30.30061550537123, 30.312554423804155, 30.322695709333388, 30.335110006868547, 30.351566399680806, 30.370187752550567, 30.383065535603045, 30.396782824259375, 30.411556863948498, 30.425601385055934, 30.438561333014206, 30.453826826264716, 30.467770885175604, 30.48198461289194, 30.493167604407795, 30.505493141876258, 30.521954445919054, 30.53619659875217, 30.55065564421476, 30.564033448503373, 30.580512078561803, 30.597712246655803, 30.618815780291865, 30.6463041431241, 30.671028567114544, 30.69573721122098, 30.72110198984083, 30.754542042555336, 30.795526642627436, 30.834701968735228, 30.88332854371095, 30.933182728125484, 30.984282651948277, 31.03479252753862, 31.091494005308835, 31.14958937769085, 31.20163576441827, 31.250471387113084, 31.30231052400382, 31.353473798780044, 31.399437072271848, 31.443094418278474, 31.48916020905031, 31.5345810508194, 31.579415938186763, 31.626691845573774, 31.67346876437178, 31.715538936286652, 31.75815881523471, 31.795583417795406, 31.83191876939445, 31.8640041299302, 31.896796614942073, 31.92396463872399, 31.94529721530251, 31.963067112265616, 31.979294233680204, 31.9858770020887, 31.994442847534962, 32.00330944853239, 32.01330998875186, 32.02805481553861, 32.046058084207324, 32.06279051293228, 32.0847747516757, 32.10288936555588, 32.11960929971805, 32.134269890486514, 32.14588958542277, 32.155326822957385, 32.16694831752088, 32.17360801785068, 32.18325438924392, 32.19648459732181, 32.2135854032562, 32.23486535670606, 32.260462777819775, 32.283683328167065, 32.31111312773561, 32.337904706776264]}, {\"line\": {\"color\": \"rgb(67,67,67)\", \"width\": 2}, \"mode\": \"lines\", \"name\": \"Truth\", \"type\": \"scatter\", \"x\": [0, 1, 2, 3, 4, 5, 6, 7, 8, 9, 10, 11, 12, 13, 14, 15, 16, 17, 18, 19, 20, 21, 22, 23, 24, 25, 26, 27, 28, 29, 30, 31, 32, 33, 34, 35, 36, 37, 38, 39, 40, 41, 42, 43, 44, 45, 46, 47, 48, 49, 50, 51, 52, 53, 54, 55, 56, 57, 58, 59, 60, 61, 62, 63, 64, 65, 66, 67, 68, 69, 70, 71, 72, 73, 74, 75, 76, 77, 78, 79, 80, 81, 82, 83, 84, 85, 86, 87, 88, 89, 90, 91, 92, 93, 94, 95, 96, 97, 98, 99], \"y\": []}],\n",
              "                        {\"autosize\": false, \"height\": 300, \"margin\": {\"b\": 10, \"l\": 5, \"pad\": 4, \"r\": 5, \"t\": 10}, \"paper_bgcolor\": \"White\", \"template\": {\"data\": {\"bar\": [{\"error_x\": {\"color\": \"#2a3f5f\"}, \"error_y\": {\"color\": \"#2a3f5f\"}, \"marker\": {\"line\": {\"color\": \"#E5ECF6\", \"width\": 0.5}}, \"type\": \"bar\"}], \"barpolar\": [{\"marker\": {\"line\": {\"color\": \"#E5ECF6\", \"width\": 0.5}}, \"type\": \"barpolar\"}], \"carpet\": [{\"aaxis\": {\"endlinecolor\": \"#2a3f5f\", \"gridcolor\": \"white\", \"linecolor\": \"white\", \"minorgridcolor\": \"white\", \"startlinecolor\": \"#2a3f5f\"}, \"baxis\": {\"endlinecolor\": \"#2a3f5f\", \"gridcolor\": \"white\", \"linecolor\": \"white\", \"minorgridcolor\": \"white\", \"startlinecolor\": \"#2a3f5f\"}, \"type\": \"carpet\"}], \"choropleth\": [{\"colorbar\": {\"outlinewidth\": 0, \"ticks\": \"\"}, \"type\": \"choropleth\"}], \"contour\": [{\"colorbar\": {\"outlinewidth\": 0, \"ticks\": \"\"}, \"colorscale\": [[0.0, \"#0d0887\"], [0.1111111111111111, \"#46039f\"], [0.2222222222222222, \"#7201a8\"], [0.3333333333333333, \"#9c179e\"], [0.4444444444444444, \"#bd3786\"], [0.5555555555555556, \"#d8576b\"], [0.6666666666666666, \"#ed7953\"], [0.7777777777777778, \"#fb9f3a\"], [0.8888888888888888, \"#fdca26\"], [1.0, \"#f0f921\"]], \"type\": \"contour\"}], \"contourcarpet\": [{\"colorbar\": {\"outlinewidth\": 0, \"ticks\": \"\"}, \"type\": \"contourcarpet\"}], \"heatmap\": [{\"colorbar\": {\"outlinewidth\": 0, \"ticks\": \"\"}, \"colorscale\": [[0.0, \"#0d0887\"], [0.1111111111111111, \"#46039f\"], [0.2222222222222222, \"#7201a8\"], [0.3333333333333333, \"#9c179e\"], [0.4444444444444444, \"#bd3786\"], [0.5555555555555556, \"#d8576b\"], [0.6666666666666666, \"#ed7953\"], [0.7777777777777778, \"#fb9f3a\"], [0.8888888888888888, \"#fdca26\"], [1.0, \"#f0f921\"]], \"type\": \"heatmap\"}], \"heatmapgl\": [{\"colorbar\": {\"outlinewidth\": 0, \"ticks\": \"\"}, \"colorscale\": [[0.0, \"#0d0887\"], [0.1111111111111111, \"#46039f\"], [0.2222222222222222, \"#7201a8\"], [0.3333333333333333, \"#9c179e\"], [0.4444444444444444, \"#bd3786\"], [0.5555555555555556, \"#d8576b\"], [0.6666666666666666, \"#ed7953\"], [0.7777777777777778, \"#fb9f3a\"], [0.8888888888888888, \"#fdca26\"], [1.0, \"#f0f921\"]], \"type\": \"heatmapgl\"}], \"histogram\": [{\"marker\": {\"colorbar\": {\"outlinewidth\": 0, \"ticks\": \"\"}}, \"type\": \"histogram\"}], \"histogram2d\": [{\"colorbar\": {\"outlinewidth\": 0, \"ticks\": \"\"}, \"colorscale\": [[0.0, \"#0d0887\"], [0.1111111111111111, \"#46039f\"], [0.2222222222222222, \"#7201a8\"], [0.3333333333333333, \"#9c179e\"], [0.4444444444444444, \"#bd3786\"], [0.5555555555555556, \"#d8576b\"], [0.6666666666666666, \"#ed7953\"], [0.7777777777777778, \"#fb9f3a\"], [0.8888888888888888, \"#fdca26\"], [1.0, \"#f0f921\"]], \"type\": \"histogram2d\"}], \"histogram2dcontour\": [{\"colorbar\": {\"outlinewidth\": 0, \"ticks\": \"\"}, \"colorscale\": [[0.0, \"#0d0887\"], [0.1111111111111111, \"#46039f\"], [0.2222222222222222, \"#7201a8\"], [0.3333333333333333, \"#9c179e\"], [0.4444444444444444, \"#bd3786\"], [0.5555555555555556, \"#d8576b\"], [0.6666666666666666, \"#ed7953\"], [0.7777777777777778, \"#fb9f3a\"], [0.8888888888888888, \"#fdca26\"], [1.0, \"#f0f921\"]], \"type\": \"histogram2dcontour\"}], \"mesh3d\": [{\"colorbar\": {\"outlinewidth\": 0, \"ticks\": \"\"}, \"type\": \"mesh3d\"}], \"parcoords\": [{\"line\": {\"colorbar\": {\"outlinewidth\": 0, \"ticks\": \"\"}}, \"type\": \"parcoords\"}], \"pie\": [{\"automargin\": true, \"type\": \"pie\"}], \"scatter\": [{\"marker\": {\"colorbar\": {\"outlinewidth\": 0, \"ticks\": \"\"}}, \"type\": \"scatter\"}], \"scatter3d\": [{\"line\": {\"colorbar\": {\"outlinewidth\": 0, \"ticks\": \"\"}}, \"marker\": {\"colorbar\": {\"outlinewidth\": 0, \"ticks\": \"\"}}, \"type\": \"scatter3d\"}], \"scattercarpet\": [{\"marker\": {\"colorbar\": {\"outlinewidth\": 0, \"ticks\": \"\"}}, \"type\": \"scattercarpet\"}], \"scattergeo\": [{\"marker\": {\"colorbar\": {\"outlinewidth\": 0, \"ticks\": \"\"}}, \"type\": \"scattergeo\"}], \"scattergl\": [{\"marker\": {\"colorbar\": {\"outlinewidth\": 0, \"ticks\": \"\"}}, \"type\": \"scattergl\"}], \"scattermapbox\": [{\"marker\": {\"colorbar\": {\"outlinewidth\": 0, \"ticks\": \"\"}}, \"type\": \"scattermapbox\"}], \"scatterpolar\": [{\"marker\": {\"colorbar\": {\"outlinewidth\": 0, \"ticks\": \"\"}}, \"type\": \"scatterpolar\"}], \"scatterpolargl\": [{\"marker\": {\"colorbar\": {\"outlinewidth\": 0, \"ticks\": \"\"}}, \"type\": \"scatterpolargl\"}], \"scatterternary\": [{\"marker\": {\"colorbar\": {\"outlinewidth\": 0, \"ticks\": \"\"}}, \"type\": \"scatterternary\"}], \"surface\": [{\"colorbar\": {\"outlinewidth\": 0, \"ticks\": \"\"}, \"colorscale\": [[0.0, \"#0d0887\"], [0.1111111111111111, \"#46039f\"], [0.2222222222222222, \"#7201a8\"], [0.3333333333333333, \"#9c179e\"], [0.4444444444444444, \"#bd3786\"], [0.5555555555555556, \"#d8576b\"], [0.6666666666666666, \"#ed7953\"], [0.7777777777777778, \"#fb9f3a\"], [0.8888888888888888, \"#fdca26\"], [1.0, \"#f0f921\"]], \"type\": \"surface\"}], \"table\": [{\"cells\": {\"fill\": {\"color\": \"#EBF0F8\"}, \"line\": {\"color\": \"white\"}}, \"header\": {\"fill\": {\"color\": \"#C8D4E3\"}, \"line\": {\"color\": \"white\"}}, \"type\": \"table\"}]}, \"layout\": {\"annotationdefaults\": {\"arrowcolor\": \"#2a3f5f\", \"arrowhead\": 0, \"arrowwidth\": 1}, \"coloraxis\": {\"colorbar\": {\"outlinewidth\": 0, \"ticks\": \"\"}}, \"colorscale\": {\"diverging\": [[0, \"#8e0152\"], [0.1, \"#c51b7d\"], [0.2, \"#de77ae\"], [0.3, \"#f1b6da\"], [0.4, \"#fde0ef\"], [0.5, \"#f7f7f7\"], [0.6, \"#e6f5d0\"], [0.7, \"#b8e186\"], [0.8, \"#7fbc41\"], [0.9, \"#4d9221\"], [1, \"#276419\"]], \"sequential\": [[0.0, \"#0d0887\"], [0.1111111111111111, \"#46039f\"], [0.2222222222222222, \"#7201a8\"], [0.3333333333333333, \"#9c179e\"], [0.4444444444444444, \"#bd3786\"], [0.5555555555555556, \"#d8576b\"], [0.6666666666666666, \"#ed7953\"], [0.7777777777777778, \"#fb9f3a\"], [0.8888888888888888, \"#fdca26\"], [1.0, \"#f0f921\"]], \"sequentialminus\": [[0.0, \"#0d0887\"], [0.1111111111111111, \"#46039f\"], [0.2222222222222222, \"#7201a8\"], [0.3333333333333333, \"#9c179e\"], [0.4444444444444444, \"#bd3786\"], [0.5555555555555556, \"#d8576b\"], [0.6666666666666666, \"#ed7953\"], [0.7777777777777778, \"#fb9f3a\"], [0.8888888888888888, \"#fdca26\"], [1.0, \"#f0f921\"]]}, \"colorway\": [\"#636efa\", \"#EF553B\", \"#00cc96\", \"#ab63fa\", \"#FFA15A\", \"#19d3f3\", \"#FF6692\", \"#B6E880\", \"#FF97FF\", \"#FECB52\"], \"font\": {\"color\": \"#2a3f5f\"}, \"geo\": {\"bgcolor\": \"white\", \"lakecolor\": \"white\", \"landcolor\": \"#E5ECF6\", \"showlakes\": true, \"showland\": true, \"subunitcolor\": \"white\"}, \"hoverlabel\": {\"align\": \"left\"}, \"hovermode\": \"closest\", \"mapbox\": {\"style\": \"light\"}, \"paper_bgcolor\": \"white\", \"plot_bgcolor\": \"#E5ECF6\", \"polar\": {\"angularaxis\": {\"gridcolor\": \"white\", \"linecolor\": \"white\", \"ticks\": \"\"}, \"bgcolor\": \"#E5ECF6\", \"radialaxis\": {\"gridcolor\": \"white\", \"linecolor\": \"white\", \"ticks\": \"\"}}, \"scene\": {\"xaxis\": {\"backgroundcolor\": \"#E5ECF6\", \"gridcolor\": \"white\", \"gridwidth\": 2, \"linecolor\": \"white\", \"showbackground\": true, \"ticks\": \"\", \"zerolinecolor\": \"white\"}, \"yaxis\": {\"backgroundcolor\": \"#E5ECF6\", \"gridcolor\": \"white\", \"gridwidth\": 2, \"linecolor\": \"white\", \"showbackground\": true, \"ticks\": \"\", \"zerolinecolor\": \"white\"}, \"zaxis\": {\"backgroundcolor\": \"#E5ECF6\", \"gridcolor\": \"white\", \"gridwidth\": 2, \"linecolor\": \"white\", \"showbackground\": true, \"ticks\": \"\", \"zerolinecolor\": \"white\"}}, \"shapedefaults\": {\"line\": {\"color\": \"#2a3f5f\"}}, \"ternary\": {\"aaxis\": {\"gridcolor\": \"white\", \"linecolor\": \"white\", \"ticks\": \"\"}, \"baxis\": {\"gridcolor\": \"white\", \"linecolor\": \"white\", \"ticks\": \"\"}, \"bgcolor\": \"#E5ECF6\", \"caxis\": {\"gridcolor\": \"white\", \"linecolor\": \"white\", \"ticks\": \"\"}}, \"title\": {\"x\": 0.05}, \"xaxis\": {\"automargin\": true, \"gridcolor\": \"white\", \"linecolor\": \"white\", \"ticks\": \"\", \"title\": {\"standoff\": 15}, \"zerolinecolor\": \"white\", \"zerolinewidth\": 2}, \"yaxis\": {\"automargin\": true, \"gridcolor\": \"white\", \"linecolor\": \"white\", \"ticks\": \"\", \"title\": {\"standoff\": 15}, \"zerolinecolor\": \"white\", \"zerolinewidth\": 2}}}, \"width\": 800},\n",
              "                        {\"responsive\": true}\n",
              "                    ).then(function(){\n",
              "                            \n",
              "var gd = document.getElementById('2e015ac7-6737-4469-b480-f47060901fec');\n",
              "var x = new MutationObserver(function (mutations, observer) {{\n",
              "        var display = window.getComputedStyle(gd).display;\n",
              "        if (!display || display === 'none') {{\n",
              "            console.log([gd, 'removed!']);\n",
              "            Plotly.purge(gd);\n",
              "            observer.disconnect();\n",
              "        }}\n",
              "}});\n",
              "\n",
              "// Listen for the removal of the full notebook cells\n",
              "var notebookContainer = gd.closest('#notebook-container');\n",
              "if (notebookContainer) {{\n",
              "    x.observe(notebookContainer, {childList: true});\n",
              "}}\n",
              "\n",
              "// Listen for the clearing of the current output cell\n",
              "var outputEl = gd.closest('.output');\n",
              "if (outputEl) {{\n",
              "    x.observe(outputEl, {childList: true});\n",
              "}}\n",
              "\n",
              "                        })\n",
              "                };\n",
              "                \n",
              "            </script>\n",
              "        </div>\n",
              "</body>\n",
              "</html>"
            ]
          },
          "metadata": {
            "tags": []
          }
        }
      ]
    },
    {
      "cell_type": "markdown",
      "metadata": {
        "id": "lB4fz-UtY67a"
      },
      "source": [
        "### Impact of filter parameters"
      ]
    },
    {
      "cell_type": "code",
      "metadata": {
        "id": "K_eS2ZF0ZJR3"
      },
      "source": [
        "x = pos\n",
        "dx = vel\n",
        "#Creating filter:\n",
        "#https://filterpy.readthedocs.io/en/latest/gh/GHFilter.html\n",
        "f_object = GHFilter(x,dx,dt=1,g=0.3,h=0.01)"
      ],
      "execution_count": 29,
      "outputs": []
    },
    {
      "cell_type": "code",
      "metadata": {
        "id": "QHJpLEKEZJR7"
      },
      "source": [
        "#Applying the filter with measurements z:\n",
        "x_estimates = []\n",
        "for measurement in z:\n",
        "  x_estimates.append(f_object.update(z = measurement)[0])\n",
        "x_estimates = np.array(x_estimates)\n"
      ],
      "execution_count": 30,
      "outputs": []
    },
    {
      "cell_type": "code",
      "metadata": {
        "colab": {
          "base_uri": "https://localhost:8080/",
          "height": 317
        },
        "id": "6h-zyQXiZJR9",
        "outputId": "e18f8706-2bab-4370-a359-40794608ced0"
      },
      "source": [
        "self_plots.plotter_2(z/1000,[],x_estimates/1000,[])"
      ],
      "execution_count": 31,
      "outputs": [
        {
          "output_type": "display_data",
          "data": {
            "text/html": [
              "<html>\n",
              "<head><meta charset=\"utf-8\" /></head>\n",
              "<body>\n",
              "    <div>\n",
              "            <script src=\"https://cdnjs.cloudflare.com/ajax/libs/mathjax/2.7.5/MathJax.js?config=TeX-AMS-MML_SVG\"></script><script type=\"text/javascript\">if (window.MathJax) {MathJax.Hub.Config({SVG: {font: \"STIX-Web\"}});}</script>\n",
              "                <script type=\"text/javascript\">window.PlotlyConfig = {MathJaxConfig: 'local'};</script>\n",
              "        <script src=\"https://cdn.plot.ly/plotly-latest.min.js\"></script>    \n",
              "            <div id=\"cbc2fe4c-68b8-4f90-aa7b-628694e8e41c\" class=\"plotly-graph-div\" style=\"height:300px; width:800px;\"></div>\n",
              "            <script type=\"text/javascript\">\n",
              "                \n",
              "                    window.PLOTLYENV=window.PLOTLYENV || {};\n",
              "                    \n",
              "                if (document.getElementById(\"cbc2fe4c-68b8-4f90-aa7b-628694e8e41c\")) {\n",
              "                    Plotly.newPlot(\n",
              "                        'cbc2fe4c-68b8-4f90-aa7b-628694e8e41c',\n",
              "                        [{\"line\": {\"color\": \"red\", \"width\": 2}, \"mode\": \"markers\", \"name\": \"measurements\", \"type\": \"scatter\", \"x\": [1, 2, 3, 4, 5, 6, 7, 8, 9, 10, 11, 12, 13, 14, 15, 16, 17, 18, 19, 20, 21, 22, 23, 24, 25, 26, 27, 28, 29, 30, 31, 32, 33, 34, 35, 36, 37, 38, 39, 40, 41, 42, 43, 44, 45, 46, 47, 48, 49, 50, 51, 52, 53, 54, 55, 56, 57, 58, 59, 60, 61, 62, 63, 64, 65, 66, 67, 68, 69, 70, 71, 72, 73, 74, 75, 76, 77, 78, 79, 80, 81, 82, 83, 84, 85, 86, 87, 88, 89, 90, 91, 92, 93, 94, 95, 96, 97, 98, 99], \"y\": [29.83977543368752, 29.806726597374002, 30.25668074508099, 30.26185269332013, 30.396977539239657, 29.966680705752026, 29.909482098615996, 30.334456242172894, 30.195612194471906, 30.468895392741295, 29.905214347669755, 30.404038619916854, 30.118007184656605, 29.938697656679874, 30.112577000991624, 30.05721161861133, 29.811655713325045, 30.134683870013813, 30.028880433359202, 30.5604510632396, 30.53773987104788, 30.56246835562777, 30.144730051867622, 30.560138195455558, 30.751733832113036, 30.584518798243426, 29.814452123692302, 30.479893879040894, 30.516175216194565, 30.35337904546914, 30.33118859124697, 30.68207581019637, 30.336948885552747, 30.508681824631385, 30.19312472056031, 30.618605191184233, 30.93139533677822, 30.316500628993683, 30.572128014533032, 30.456990572279512, 30.887493829773135, 30.669144512177592, 31.005248968955954, 31.278402233545304, 30.39739862177723, 30.694175002704444, 30.786059306668644, 31.553994177926157, 31.542436831029555, 30.655583846268673, 31.819002181635593, 31.054716062568477, 31.10761085336548, 30.976377752525867, 31.70446262111651, 31.287584944258885, 30.602786184613603, 30.932605747884665, 31.59965842939978, 31.28656344944444, 30.884636945113755, 31.214807597245628, 31.727596240806374, 31.470731099547223, 31.521406452415828, 31.868352827519157, 31.624068894060528, 31.249570994856025, 31.812579811520422, 31.28125105544631, 31.7240829241907, 31.443255014664874, 31.966801938077246, 31.367142976958892, 31.367587942166367, 31.61036183033932, 31.826559454376866, 31.031086054485325, 32.19076747427465, 32.03308424809732, 32.125569971733945, 32.49773918570031, 32.368643830520746, 31.936977358500304, 32.60470394350408, 31.719796504094575, 31.981536007635526, 31.9303948945096, 31.84484089803416, 31.93926354019506, 32.38318976337892, 31.682390388716925, 32.47893482452289, 32.55128442910299, 32.59677459104829, 32.64860096073919, 32.6878920765408, 32.04837312229068, 32.72782880064004, 32.2747208745153]}, {\"line\": {\"color\": \"rgb(49,130,189)\", \"dash\": \"dash\", \"width\": 2}, \"mode\": \"lines+markers\", \"name\": \"predictions\", \"type\": \"scatter\", \"x\": [1, 2, 3, 4, 5, 6, 7, 8, 9, 10, 11, 12, 13, 14, 15, 16, 17, 18, 19, 20, 21, 22, 23, 24, 25, 26, 27, 28, 29, 30, 31, 32, 33, 34, 35, 36, 37, 38, 39, 40, 41, 42, 43, 44, 45, 46, 47, 48, 49, 50, 51, 52, 53, 54, 55, 56, 57, 58, 59, 60, 61, 62, 63, 64, 65, 66, 67, 68, 69, 70, 71, 72, 73, 74, 75, 76, 77, 78, 79, 80, 81, 82, 83, 84, 85, 86, 87, 88, 89, 90, 91, 92, 93, 94, 95, 96, 97, 98, 99], \"y\": []}, {\"line\": {\"color\": \"rgb(115,115,115)\", \"dash\": \"dot\", \"width\": 2}, \"mode\": \"lines+markers\", \"name\": \"estimations\", \"type\": \"scatter\", \"x\": [0, 1, 2, 3, 4, 5, 6, 7, 8, 9, 10, 11, 12, 13, 14, 15, 16, 17, 18, 19, 20, 21, 22, 23, 24, 25, 26, 27, 28, 29, 30, 31, 32, 33, 34, 35, 36, 37, 38, 39, 40, 41, 42, 43, 44, 45, 46, 47, 48, 49, 50, 51, 52, 53, 54, 55, 56, 57, 58, 59, 60, 61, 62, 63, 64, 65, 66, 67, 68, 69, 70, 71, 72, 73, 74, 75, 76, 77, 78, 79, 80, 81, 82, 83, 84, 85, 86, 87, 88, 89, 90, 91, 92, 93, 94, 95, 96, 97, 98, 99], \"y\": [29.962432630106257, 29.924994248322392, 30.032590948876297, 30.111701121697823, 30.209117212164973, 30.150098028716435, 30.089790844932004, 30.173264971886812, 30.19165555914774, 30.28655349606445, 30.185701157351453, 30.26194693382967, 30.230930463647216, 30.15429684333657, 30.150661120546083, 30.131125658683107, 30.043044923392422, 30.0759829635949, 30.06788556980444, 30.22129853175078, 30.325265772770592, 30.407586127841203, 30.341437707540447, 30.417789179849578, 30.530137391619267, 30.560832594102106, 30.35153609551617, 30.399290233392353, 30.44440856750827, 30.427870216658643, 30.408891323085356, 30.500095235950496, 30.462219703305465, 30.485974004000006, 30.40816196147118, 30.479187300479065, 30.624136260369838, 30.5442047107221, 30.5626638008132, 30.541138573338113, 30.654380411343055, 30.670476036852154, 30.78256099649528, 30.945193327346885, 30.79806696447457, 30.780104741315142, 30.79423717890669, 31.034428567875654, 31.20429099218545, 31.060520252162483, 31.30485687069754, 31.251748121061333, 31.228470112970157, 31.171596984458404, 31.348259062758043, 31.35042125009409, 31.14586679027738, 31.096193731330366, 31.259902514687536, 31.28396772819807, 31.18026138356871, 31.203761893583167, 31.374159300698135, 31.41991231270195, 31.467650214833654, 31.605688221232672, 31.631656291737258, 31.537408697352348, 31.63745964925727, 31.549847890391113, 31.61868325145867, 31.583673628075537, 31.714826782596944, 31.629256053981226, 31.566868902742243, 31.594037253721083, 31.678077632383715, 31.499748695700028, 31.7181362395461, 31.82842886473243, 31.935425973287504, 32.123876153450425, 32.220801303333104, 32.16062739191672, 32.31658712909222, 32.16316788143634, 32.12986254536609, 32.089723210801836, 32.034366194501295, 32.022047822774525, 32.145774986695145, 32.024518336807816, 32.17518073314756, 32.305386832873175, 32.412637127226986, 32.50510161882014, 32.58304909109502, 32.44680506526686, 32.551286631262194, 32.49025677131529]}, {\"line\": {\"color\": \"rgb(67,67,67)\", \"width\": 2}, \"mode\": \"lines\", \"name\": \"Truth\", \"type\": \"scatter\", \"x\": [0, 1, 2, 3, 4, 5, 6, 7, 8, 9, 10, 11, 12, 13, 14, 15, 16, 17, 18, 19, 20, 21, 22, 23, 24, 25, 26, 27, 28, 29, 30, 31, 32, 33, 34, 35, 36, 37, 38, 39, 40, 41, 42, 43, 44, 45, 46, 47, 48, 49, 50, 51, 52, 53, 54, 55, 56, 57, 58, 59, 60, 61, 62, 63, 64, 65, 66, 67, 68, 69, 70, 71, 72, 73, 74, 75, 76, 77, 78, 79, 80, 81, 82, 83, 84, 85, 86, 87, 88, 89, 90, 91, 92, 93, 94, 95, 96, 97, 98, 99], \"y\": []}],\n",
              "                        {\"autosize\": false, \"height\": 300, \"margin\": {\"b\": 10, \"l\": 5, \"pad\": 4, \"r\": 5, \"t\": 10}, \"paper_bgcolor\": \"White\", \"template\": {\"data\": {\"bar\": [{\"error_x\": {\"color\": \"#2a3f5f\"}, \"error_y\": {\"color\": \"#2a3f5f\"}, \"marker\": {\"line\": {\"color\": \"#E5ECF6\", \"width\": 0.5}}, \"type\": \"bar\"}], \"barpolar\": [{\"marker\": {\"line\": {\"color\": \"#E5ECF6\", \"width\": 0.5}}, \"type\": \"barpolar\"}], \"carpet\": [{\"aaxis\": {\"endlinecolor\": \"#2a3f5f\", \"gridcolor\": \"white\", \"linecolor\": \"white\", \"minorgridcolor\": \"white\", \"startlinecolor\": \"#2a3f5f\"}, \"baxis\": {\"endlinecolor\": \"#2a3f5f\", \"gridcolor\": \"white\", \"linecolor\": \"white\", \"minorgridcolor\": \"white\", \"startlinecolor\": \"#2a3f5f\"}, \"type\": \"carpet\"}], \"choropleth\": [{\"colorbar\": {\"outlinewidth\": 0, \"ticks\": \"\"}, \"type\": \"choropleth\"}], \"contour\": [{\"colorbar\": {\"outlinewidth\": 0, \"ticks\": \"\"}, \"colorscale\": [[0.0, \"#0d0887\"], [0.1111111111111111, \"#46039f\"], [0.2222222222222222, \"#7201a8\"], [0.3333333333333333, \"#9c179e\"], [0.4444444444444444, \"#bd3786\"], [0.5555555555555556, \"#d8576b\"], [0.6666666666666666, \"#ed7953\"], [0.7777777777777778, \"#fb9f3a\"], [0.8888888888888888, \"#fdca26\"], [1.0, \"#f0f921\"]], \"type\": \"contour\"}], \"contourcarpet\": [{\"colorbar\": {\"outlinewidth\": 0, \"ticks\": \"\"}, \"type\": \"contourcarpet\"}], \"heatmap\": [{\"colorbar\": {\"outlinewidth\": 0, \"ticks\": \"\"}, \"colorscale\": [[0.0, \"#0d0887\"], [0.1111111111111111, \"#46039f\"], [0.2222222222222222, \"#7201a8\"], [0.3333333333333333, \"#9c179e\"], [0.4444444444444444, \"#bd3786\"], [0.5555555555555556, \"#d8576b\"], [0.6666666666666666, \"#ed7953\"], [0.7777777777777778, \"#fb9f3a\"], [0.8888888888888888, \"#fdca26\"], [1.0, \"#f0f921\"]], \"type\": \"heatmap\"}], \"heatmapgl\": [{\"colorbar\": {\"outlinewidth\": 0, \"ticks\": \"\"}, \"colorscale\": [[0.0, \"#0d0887\"], [0.1111111111111111, \"#46039f\"], [0.2222222222222222, \"#7201a8\"], [0.3333333333333333, \"#9c179e\"], [0.4444444444444444, \"#bd3786\"], [0.5555555555555556, \"#d8576b\"], [0.6666666666666666, \"#ed7953\"], [0.7777777777777778, \"#fb9f3a\"], [0.8888888888888888, \"#fdca26\"], [1.0, \"#f0f921\"]], \"type\": \"heatmapgl\"}], \"histogram\": [{\"marker\": {\"colorbar\": {\"outlinewidth\": 0, \"ticks\": \"\"}}, \"type\": \"histogram\"}], \"histogram2d\": [{\"colorbar\": {\"outlinewidth\": 0, \"ticks\": \"\"}, \"colorscale\": [[0.0, \"#0d0887\"], [0.1111111111111111, \"#46039f\"], [0.2222222222222222, \"#7201a8\"], [0.3333333333333333, \"#9c179e\"], [0.4444444444444444, \"#bd3786\"], [0.5555555555555556, \"#d8576b\"], [0.6666666666666666, \"#ed7953\"], [0.7777777777777778, \"#fb9f3a\"], [0.8888888888888888, \"#fdca26\"], [1.0, \"#f0f921\"]], \"type\": \"histogram2d\"}], \"histogram2dcontour\": [{\"colorbar\": {\"outlinewidth\": 0, \"ticks\": \"\"}, \"colorscale\": [[0.0, \"#0d0887\"], [0.1111111111111111, \"#46039f\"], [0.2222222222222222, \"#7201a8\"], [0.3333333333333333, \"#9c179e\"], [0.4444444444444444, \"#bd3786\"], [0.5555555555555556, \"#d8576b\"], [0.6666666666666666, \"#ed7953\"], [0.7777777777777778, \"#fb9f3a\"], [0.8888888888888888, \"#fdca26\"], [1.0, \"#f0f921\"]], \"type\": \"histogram2dcontour\"}], \"mesh3d\": [{\"colorbar\": {\"outlinewidth\": 0, \"ticks\": \"\"}, \"type\": \"mesh3d\"}], \"parcoords\": [{\"line\": {\"colorbar\": {\"outlinewidth\": 0, \"ticks\": \"\"}}, \"type\": \"parcoords\"}], \"pie\": [{\"automargin\": true, \"type\": \"pie\"}], \"scatter\": [{\"marker\": {\"colorbar\": {\"outlinewidth\": 0, \"ticks\": \"\"}}, \"type\": \"scatter\"}], \"scatter3d\": [{\"line\": {\"colorbar\": {\"outlinewidth\": 0, \"ticks\": \"\"}}, \"marker\": {\"colorbar\": {\"outlinewidth\": 0, \"ticks\": \"\"}}, \"type\": \"scatter3d\"}], \"scattercarpet\": [{\"marker\": {\"colorbar\": {\"outlinewidth\": 0, \"ticks\": \"\"}}, \"type\": \"scattercarpet\"}], \"scattergeo\": [{\"marker\": {\"colorbar\": {\"outlinewidth\": 0, \"ticks\": \"\"}}, \"type\": \"scattergeo\"}], \"scattergl\": [{\"marker\": {\"colorbar\": {\"outlinewidth\": 0, \"ticks\": \"\"}}, \"type\": \"scattergl\"}], \"scattermapbox\": [{\"marker\": {\"colorbar\": {\"outlinewidth\": 0, \"ticks\": \"\"}}, \"type\": \"scattermapbox\"}], \"scatterpolar\": [{\"marker\": {\"colorbar\": {\"outlinewidth\": 0, \"ticks\": \"\"}}, \"type\": \"scatterpolar\"}], \"scatterpolargl\": [{\"marker\": {\"colorbar\": {\"outlinewidth\": 0, \"ticks\": \"\"}}, \"type\": \"scatterpolargl\"}], \"scatterternary\": [{\"marker\": {\"colorbar\": {\"outlinewidth\": 0, \"ticks\": \"\"}}, \"type\": \"scatterternary\"}], \"surface\": [{\"colorbar\": {\"outlinewidth\": 0, \"ticks\": \"\"}, \"colorscale\": [[0.0, \"#0d0887\"], [0.1111111111111111, \"#46039f\"], [0.2222222222222222, \"#7201a8\"], [0.3333333333333333, \"#9c179e\"], [0.4444444444444444, \"#bd3786\"], [0.5555555555555556, \"#d8576b\"], [0.6666666666666666, \"#ed7953\"], [0.7777777777777778, \"#fb9f3a\"], [0.8888888888888888, \"#fdca26\"], [1.0, \"#f0f921\"]], \"type\": \"surface\"}], \"table\": [{\"cells\": {\"fill\": {\"color\": \"#EBF0F8\"}, \"line\": {\"color\": \"white\"}}, \"header\": {\"fill\": {\"color\": \"#C8D4E3\"}, \"line\": {\"color\": \"white\"}}, \"type\": \"table\"}]}, \"layout\": {\"annotationdefaults\": {\"arrowcolor\": \"#2a3f5f\", \"arrowhead\": 0, \"arrowwidth\": 1}, \"coloraxis\": {\"colorbar\": {\"outlinewidth\": 0, \"ticks\": \"\"}}, \"colorscale\": {\"diverging\": [[0, \"#8e0152\"], [0.1, \"#c51b7d\"], [0.2, \"#de77ae\"], [0.3, \"#f1b6da\"], [0.4, \"#fde0ef\"], [0.5, \"#f7f7f7\"], [0.6, \"#e6f5d0\"], [0.7, \"#b8e186\"], [0.8, \"#7fbc41\"], [0.9, \"#4d9221\"], [1, \"#276419\"]], \"sequential\": [[0.0, \"#0d0887\"], [0.1111111111111111, \"#46039f\"], [0.2222222222222222, \"#7201a8\"], [0.3333333333333333, \"#9c179e\"], [0.4444444444444444, \"#bd3786\"], [0.5555555555555556, \"#d8576b\"], [0.6666666666666666, \"#ed7953\"], [0.7777777777777778, \"#fb9f3a\"], [0.8888888888888888, \"#fdca26\"], [1.0, \"#f0f921\"]], \"sequentialminus\": [[0.0, \"#0d0887\"], [0.1111111111111111, \"#46039f\"], [0.2222222222222222, \"#7201a8\"], [0.3333333333333333, \"#9c179e\"], [0.4444444444444444, \"#bd3786\"], [0.5555555555555556, \"#d8576b\"], [0.6666666666666666, \"#ed7953\"], [0.7777777777777778, \"#fb9f3a\"], [0.8888888888888888, \"#fdca26\"], [1.0, \"#f0f921\"]]}, \"colorway\": [\"#636efa\", \"#EF553B\", \"#00cc96\", \"#ab63fa\", \"#FFA15A\", \"#19d3f3\", \"#FF6692\", \"#B6E880\", \"#FF97FF\", \"#FECB52\"], \"font\": {\"color\": \"#2a3f5f\"}, \"geo\": {\"bgcolor\": \"white\", \"lakecolor\": \"white\", \"landcolor\": \"#E5ECF6\", \"showlakes\": true, \"showland\": true, \"subunitcolor\": \"white\"}, \"hoverlabel\": {\"align\": \"left\"}, \"hovermode\": \"closest\", \"mapbox\": {\"style\": \"light\"}, \"paper_bgcolor\": \"white\", \"plot_bgcolor\": \"#E5ECF6\", \"polar\": {\"angularaxis\": {\"gridcolor\": \"white\", \"linecolor\": \"white\", \"ticks\": \"\"}, \"bgcolor\": \"#E5ECF6\", \"radialaxis\": {\"gridcolor\": \"white\", \"linecolor\": \"white\", \"ticks\": \"\"}}, \"scene\": {\"xaxis\": {\"backgroundcolor\": \"#E5ECF6\", \"gridcolor\": \"white\", \"gridwidth\": 2, \"linecolor\": \"white\", \"showbackground\": true, \"ticks\": \"\", \"zerolinecolor\": \"white\"}, \"yaxis\": {\"backgroundcolor\": \"#E5ECF6\", \"gridcolor\": \"white\", \"gridwidth\": 2, \"linecolor\": \"white\", \"showbackground\": true, \"ticks\": \"\", \"zerolinecolor\": \"white\"}, \"zaxis\": {\"backgroundcolor\": \"#E5ECF6\", \"gridcolor\": \"white\", \"gridwidth\": 2, \"linecolor\": \"white\", \"showbackground\": true, \"ticks\": \"\", \"zerolinecolor\": \"white\"}}, \"shapedefaults\": {\"line\": {\"color\": \"#2a3f5f\"}}, \"ternary\": {\"aaxis\": {\"gridcolor\": \"white\", \"linecolor\": \"white\", \"ticks\": \"\"}, \"baxis\": {\"gridcolor\": \"white\", \"linecolor\": \"white\", \"ticks\": \"\"}, \"bgcolor\": \"#E5ECF6\", \"caxis\": {\"gridcolor\": \"white\", \"linecolor\": \"white\", \"ticks\": \"\"}}, \"title\": {\"x\": 0.05}, \"xaxis\": {\"automargin\": true, \"gridcolor\": \"white\", \"linecolor\": \"white\", \"ticks\": \"\", \"title\": {\"standoff\": 15}, \"zerolinecolor\": \"white\", \"zerolinewidth\": 2}, \"yaxis\": {\"automargin\": true, \"gridcolor\": \"white\", \"linecolor\": \"white\", \"ticks\": \"\", \"title\": {\"standoff\": 15}, \"zerolinecolor\": \"white\", \"zerolinewidth\": 2}}}, \"width\": 800},\n",
              "                        {\"responsive\": true}\n",
              "                    ).then(function(){\n",
              "                            \n",
              "var gd = document.getElementById('cbc2fe4c-68b8-4f90-aa7b-628694e8e41c');\n",
              "var x = new MutationObserver(function (mutations, observer) {{\n",
              "        var display = window.getComputedStyle(gd).display;\n",
              "        if (!display || display === 'none') {{\n",
              "            console.log([gd, 'removed!']);\n",
              "            Plotly.purge(gd);\n",
              "            observer.disconnect();\n",
              "        }}\n",
              "}});\n",
              "\n",
              "// Listen for the removal of the full notebook cells\n",
              "var notebookContainer = gd.closest('#notebook-container');\n",
              "if (notebookContainer) {{\n",
              "    x.observe(notebookContainer, {childList: true});\n",
              "}}\n",
              "\n",
              "// Listen for the clearing of the current output cell\n",
              "var outputEl = gd.closest('.output');\n",
              "if (outputEl) {{\n",
              "    x.observe(outputEl, {childList: true});\n",
              "}}\n",
              "\n",
              "                        })\n",
              "                };\n",
              "                \n",
              "            </script>\n",
              "        </div>\n",
              "</body>\n",
              "</html>"
            ]
          },
          "metadata": {
            "tags": []
          }
        }
      ]
    },
    {
      "cell_type": "markdown",
      "metadata": {
        "id": "9l43pJCQaLrK"
      },
      "source": [
        "When we increase $\\alpha$ value, our estimates relies more on the measurement. If we look at the data, however, there are lots of noise so we should limit the influence of measurements. "
      ]
    },
    {
      "cell_type": "code",
      "metadata": {
        "id": "pX695R2GZbaM"
      },
      "source": [
        "x = pos\n",
        "dx = vel\n",
        "#Creating filter:\n",
        "#https://filterpy.readthedocs.io/en/latest/gh/GHFilter.html\n",
        "f_object = GHFilter(x,dx,dt=1,g=0.001,h=0.1)"
      ],
      "execution_count": 32,
      "outputs": []
    },
    {
      "cell_type": "code",
      "metadata": {
        "id": "E_AxdQ1yZbaP"
      },
      "source": [
        "#Applying the filter with measurements z:\n",
        "x_estimates = []\n",
        "for measurement in z:\n",
        "  x_estimates.append(f_object.update(z = measurement)[0])\n",
        "x_estimates = np.array(x_estimates)\n"
      ],
      "execution_count": 33,
      "outputs": []
    },
    {
      "cell_type": "code",
      "metadata": {
        "colab": {
          "base_uri": "https://localhost:8080/",
          "height": 317
        },
        "id": "XV8la6DkZbaR",
        "outputId": "5a8f115a-efd8-435d-f839-3012de4f479f"
      },
      "source": [
        "self_plots.plotter_2(z/1000,[],x_estimates/1000,[])"
      ],
      "execution_count": 34,
      "outputs": [
        {
          "output_type": "display_data",
          "data": {
            "text/html": [
              "<html>\n",
              "<head><meta charset=\"utf-8\" /></head>\n",
              "<body>\n",
              "    <div>\n",
              "            <script src=\"https://cdnjs.cloudflare.com/ajax/libs/mathjax/2.7.5/MathJax.js?config=TeX-AMS-MML_SVG\"></script><script type=\"text/javascript\">if (window.MathJax) {MathJax.Hub.Config({SVG: {font: \"STIX-Web\"}});}</script>\n",
              "                <script type=\"text/javascript\">window.PlotlyConfig = {MathJaxConfig: 'local'};</script>\n",
              "        <script src=\"https://cdn.plot.ly/plotly-latest.min.js\"></script>    \n",
              "            <div id=\"38af49d5-42d5-4cbc-a428-880ff56c1d59\" class=\"plotly-graph-div\" style=\"height:300px; width:800px;\"></div>\n",
              "            <script type=\"text/javascript\">\n",
              "                \n",
              "                    window.PLOTLYENV=window.PLOTLYENV || {};\n",
              "                    \n",
              "                if (document.getElementById(\"38af49d5-42d5-4cbc-a428-880ff56c1d59\")) {\n",
              "                    Plotly.newPlot(\n",
              "                        '38af49d5-42d5-4cbc-a428-880ff56c1d59',\n",
              "                        [{\"line\": {\"color\": \"red\", \"width\": 2}, \"mode\": \"markers\", \"name\": \"measurements\", \"type\": \"scatter\", \"x\": [1, 2, 3, 4, 5, 6, 7, 8, 9, 10, 11, 12, 13, 14, 15, 16, 17, 18, 19, 20, 21, 22, 23, 24, 25, 26, 27, 28, 29, 30, 31, 32, 33, 34, 35, 36, 37, 38, 39, 40, 41, 42, 43, 44, 45, 46, 47, 48, 49, 50, 51, 52, 53, 54, 55, 56, 57, 58, 59, 60, 61, 62, 63, 64, 65, 66, 67, 68, 69, 70, 71, 72, 73, 74, 75, 76, 77, 78, 79, 80, 81, 82, 83, 84, 85, 86, 87, 88, 89, 90, 91, 92, 93, 94, 95, 96, 97, 98, 99], \"y\": [29.83977543368752, 29.806726597374002, 30.25668074508099, 30.26185269332013, 30.396977539239657, 29.966680705752026, 29.909482098615996, 30.334456242172894, 30.195612194471906, 30.468895392741295, 29.905214347669755, 30.404038619916854, 30.118007184656605, 29.938697656679874, 30.112577000991624, 30.05721161861133, 29.811655713325045, 30.134683870013813, 30.028880433359202, 30.5604510632396, 30.53773987104788, 30.56246835562777, 30.144730051867622, 30.560138195455558, 30.751733832113036, 30.584518798243426, 29.814452123692302, 30.479893879040894, 30.516175216194565, 30.35337904546914, 30.33118859124697, 30.68207581019637, 30.336948885552747, 30.508681824631385, 30.19312472056031, 30.618605191184233, 30.93139533677822, 30.316500628993683, 30.572128014533032, 30.456990572279512, 30.887493829773135, 30.669144512177592, 31.005248968955954, 31.278402233545304, 30.39739862177723, 30.694175002704444, 30.786059306668644, 31.553994177926157, 31.542436831029555, 30.655583846268673, 31.819002181635593, 31.054716062568477, 31.10761085336548, 30.976377752525867, 31.70446262111651, 31.287584944258885, 30.602786184613603, 30.932605747884665, 31.59965842939978, 31.28656344944444, 30.884636945113755, 31.214807597245628, 31.727596240806374, 31.470731099547223, 31.521406452415828, 31.868352827519157, 31.624068894060528, 31.249570994856025, 31.812579811520422, 31.28125105544631, 31.7240829241907, 31.443255014664874, 31.966801938077246, 31.367142976958892, 31.367587942166367, 31.61036183033932, 31.826559454376866, 31.031086054485325, 32.19076747427465, 32.03308424809732, 32.125569971733945, 32.49773918570031, 32.368643830520746, 31.936977358500304, 32.60470394350408, 31.719796504094575, 31.981536007635526, 31.9303948945096, 31.84484089803416, 31.93926354019506, 32.38318976337892, 31.682390388716925, 32.47893482452289, 32.55128442910299, 32.59677459104829, 32.64860096073919, 32.6878920765408, 32.04837312229068, 32.72782880064004, 32.2747208745153]}, {\"line\": {\"color\": \"rgb(49,130,189)\", \"dash\": \"dash\", \"width\": 2}, \"mode\": \"lines+markers\", \"name\": \"predictions\", \"type\": \"scatter\", \"x\": [1, 2, 3, 4, 5, 6, 7, 8, 9, 10, 11, 12, 13, 14, 15, 16, 17, 18, 19, 20, 21, 22, 23, 24, 25, 26, 27, 28, 29, 30, 31, 32, 33, 34, 35, 36, 37, 38, 39, 40, 41, 42, 43, 44, 45, 46, 47, 48, 49, 50, 51, 52, 53, 54, 55, 56, 57, 58, 59, 60, 61, 62, 63, 64, 65, 66, 67, 68, 69, 70, 71, 72, 73, 74, 75, 76, 77, 78, 79, 80, 81, 82, 83, 84, 85, 86, 87, 88, 89, 90, 91, 92, 93, 94, 95, 96, 97, 98, 99], \"y\": []}, {\"line\": {\"color\": \"rgb(115,115,115)\", \"dash\": \"dot\", \"width\": 2}, \"mode\": \"lines+markers\", \"name\": \"estimations\", \"type\": \"scatter\", \"x\": [0, 1, 2, 3, 4, 5, 6, 7, 8, 9, 10, 11, 12, 13, 14, 15, 16, 17, 18, 19, 20, 21, 22, 23, 24, 25, 26, 27, 28, 29, 30, 31, 32, 33, 34, 35, 36, 37, 38, 39, 40, 41, 42, 43, 44, 45, 46, 47, 48, 49, 50, 51, 52, 53, 54, 55, 56, 57, 58, 59, 60, 61, 62, 63, 64, 65, 66, 67, 68, 69, 70, 71, 72, 73, 74, 75, 76, 77, 78, 79, 80, 81, 82, 83, 84, 85, 86, 87, 88, 89, 90, 91, 92, 93, 94, 95, 96, 97, 98, 99], \"y\": [30.014824775433688, 30.012096743081013, 29.989284378337693, 29.993239634581684, 30.0241873662892, 30.091952870726562, 30.1470661945549, 30.178790969609075, 30.225911703096877, 30.270228648186965, 30.333804269742323, 30.35495614774112, 30.380709089644228, 30.379986778578697, 30.335310156978657, 30.268349531019133, 30.180096518539504, 30.055410706707598, 29.93867109358149, 29.83160072467616, 29.79749974880389, 29.837481614616472, 29.949504434360605, 30.08135320117929, 30.261140214295434, 30.489639587146357, 30.726628315059582, 30.872827876863514, 30.97962412066054, 31.03980588159644, 31.031262586704454, 30.95307132278056, 30.84751357193753, 30.69117664314594, 30.51643101232762, 30.30995497843401, 30.13486323199491, 30.038984893072797, 29.971209633467232, 29.9634788497856, 30.005537472394533, 30.135531322801118, 30.319092602751724, 30.571359111307395, 30.89319666196653, 31.16542934743701, 31.390356250052722, 31.55539646629867, 31.720119856144223, 31.866023367103697, 31.891900440804083, 31.90969752539485, 31.842031561409186, 31.700859959482294, 31.488109393330284, 31.29679002284619, 31.1040566651142, 30.861718812253155, 30.627379043489636, 30.490188458105937, 30.432370635937147, 30.420167433160316, 30.487953238638354, 30.679378693386457, 30.94979863864876, 31.277455891717608, 31.663630897180084, 32.04508902942594, 32.34717690889922, 32.594971661999075, 32.71158939155929, 32.72905902874357, 32.618454341806206, 32.44219536022177, 32.15860784425783, 31.796444699488884, 31.416251628573782, 31.07667405991002, 30.734036949692236, 30.537257845816733, 30.490350646996806, 30.607384457063375, 30.91320761082839, 31.36383689693686, 31.87199732650057, 32.45203534989565, 32.958531190190776, 33.36676987527695, 33.63087726960483, 33.716211342023485, 33.62420922641005, 33.40749636723446, 33.019286167502095, 32.57750139327612, 32.133582197569005, 31.736477986775217, 31.43102246870442, 31.25091984798108, 31.151422112987774, 31.209211436568562]}, {\"line\": {\"color\": \"rgb(67,67,67)\", \"width\": 2}, \"mode\": \"lines\", \"name\": \"Truth\", \"type\": \"scatter\", \"x\": [0, 1, 2, 3, 4, 5, 6, 7, 8, 9, 10, 11, 12, 13, 14, 15, 16, 17, 18, 19, 20, 21, 22, 23, 24, 25, 26, 27, 28, 29, 30, 31, 32, 33, 34, 35, 36, 37, 38, 39, 40, 41, 42, 43, 44, 45, 46, 47, 48, 49, 50, 51, 52, 53, 54, 55, 56, 57, 58, 59, 60, 61, 62, 63, 64, 65, 66, 67, 68, 69, 70, 71, 72, 73, 74, 75, 76, 77, 78, 79, 80, 81, 82, 83, 84, 85, 86, 87, 88, 89, 90, 91, 92, 93, 94, 95, 96, 97, 98, 99], \"y\": []}],\n",
              "                        {\"autosize\": false, \"height\": 300, \"margin\": {\"b\": 10, \"l\": 5, \"pad\": 4, \"r\": 5, \"t\": 10}, \"paper_bgcolor\": \"White\", \"template\": {\"data\": {\"bar\": [{\"error_x\": {\"color\": \"#2a3f5f\"}, \"error_y\": {\"color\": \"#2a3f5f\"}, \"marker\": {\"line\": {\"color\": \"#E5ECF6\", \"width\": 0.5}}, \"type\": \"bar\"}], \"barpolar\": [{\"marker\": {\"line\": {\"color\": \"#E5ECF6\", \"width\": 0.5}}, \"type\": \"barpolar\"}], \"carpet\": [{\"aaxis\": {\"endlinecolor\": \"#2a3f5f\", \"gridcolor\": \"white\", \"linecolor\": \"white\", \"minorgridcolor\": \"white\", \"startlinecolor\": \"#2a3f5f\"}, \"baxis\": {\"endlinecolor\": \"#2a3f5f\", \"gridcolor\": \"white\", \"linecolor\": \"white\", \"minorgridcolor\": \"white\", \"startlinecolor\": \"#2a3f5f\"}, \"type\": \"carpet\"}], \"choropleth\": [{\"colorbar\": {\"outlinewidth\": 0, \"ticks\": \"\"}, \"type\": \"choropleth\"}], \"contour\": [{\"colorbar\": {\"outlinewidth\": 0, \"ticks\": \"\"}, \"colorscale\": [[0.0, \"#0d0887\"], [0.1111111111111111, \"#46039f\"], [0.2222222222222222, \"#7201a8\"], [0.3333333333333333, \"#9c179e\"], [0.4444444444444444, \"#bd3786\"], [0.5555555555555556, \"#d8576b\"], [0.6666666666666666, \"#ed7953\"], [0.7777777777777778, \"#fb9f3a\"], [0.8888888888888888, \"#fdca26\"], [1.0, \"#f0f921\"]], \"type\": \"contour\"}], \"contourcarpet\": [{\"colorbar\": {\"outlinewidth\": 0, \"ticks\": \"\"}, \"type\": \"contourcarpet\"}], \"heatmap\": [{\"colorbar\": {\"outlinewidth\": 0, \"ticks\": \"\"}, \"colorscale\": [[0.0, \"#0d0887\"], [0.1111111111111111, \"#46039f\"], [0.2222222222222222, \"#7201a8\"], [0.3333333333333333, \"#9c179e\"], [0.4444444444444444, \"#bd3786\"], [0.5555555555555556, \"#d8576b\"], [0.6666666666666666, \"#ed7953\"], [0.7777777777777778, \"#fb9f3a\"], [0.8888888888888888, \"#fdca26\"], [1.0, \"#f0f921\"]], \"type\": \"heatmap\"}], \"heatmapgl\": [{\"colorbar\": {\"outlinewidth\": 0, \"ticks\": \"\"}, \"colorscale\": [[0.0, \"#0d0887\"], [0.1111111111111111, \"#46039f\"], [0.2222222222222222, \"#7201a8\"], [0.3333333333333333, \"#9c179e\"], [0.4444444444444444, \"#bd3786\"], [0.5555555555555556, \"#d8576b\"], [0.6666666666666666, \"#ed7953\"], [0.7777777777777778, \"#fb9f3a\"], [0.8888888888888888, \"#fdca26\"], [1.0, \"#f0f921\"]], \"type\": \"heatmapgl\"}], \"histogram\": [{\"marker\": {\"colorbar\": {\"outlinewidth\": 0, \"ticks\": \"\"}}, \"type\": \"histogram\"}], \"histogram2d\": [{\"colorbar\": {\"outlinewidth\": 0, \"ticks\": \"\"}, \"colorscale\": [[0.0, \"#0d0887\"], [0.1111111111111111, \"#46039f\"], [0.2222222222222222, \"#7201a8\"], [0.3333333333333333, \"#9c179e\"], [0.4444444444444444, \"#bd3786\"], [0.5555555555555556, \"#d8576b\"], [0.6666666666666666, \"#ed7953\"], [0.7777777777777778, \"#fb9f3a\"], [0.8888888888888888, \"#fdca26\"], [1.0, \"#f0f921\"]], \"type\": \"histogram2d\"}], \"histogram2dcontour\": [{\"colorbar\": {\"outlinewidth\": 0, \"ticks\": \"\"}, \"colorscale\": [[0.0, \"#0d0887\"], [0.1111111111111111, \"#46039f\"], [0.2222222222222222, \"#7201a8\"], [0.3333333333333333, \"#9c179e\"], [0.4444444444444444, \"#bd3786\"], [0.5555555555555556, \"#d8576b\"], [0.6666666666666666, \"#ed7953\"], [0.7777777777777778, \"#fb9f3a\"], [0.8888888888888888, \"#fdca26\"], [1.0, \"#f0f921\"]], \"type\": \"histogram2dcontour\"}], \"mesh3d\": [{\"colorbar\": {\"outlinewidth\": 0, \"ticks\": \"\"}, \"type\": \"mesh3d\"}], \"parcoords\": [{\"line\": {\"colorbar\": {\"outlinewidth\": 0, \"ticks\": \"\"}}, \"type\": \"parcoords\"}], \"pie\": [{\"automargin\": true, \"type\": \"pie\"}], \"scatter\": [{\"marker\": {\"colorbar\": {\"outlinewidth\": 0, \"ticks\": \"\"}}, \"type\": \"scatter\"}], \"scatter3d\": [{\"line\": {\"colorbar\": {\"outlinewidth\": 0, \"ticks\": \"\"}}, \"marker\": {\"colorbar\": {\"outlinewidth\": 0, \"ticks\": \"\"}}, \"type\": \"scatter3d\"}], \"scattercarpet\": [{\"marker\": {\"colorbar\": {\"outlinewidth\": 0, \"ticks\": \"\"}}, \"type\": \"scattercarpet\"}], \"scattergeo\": [{\"marker\": {\"colorbar\": {\"outlinewidth\": 0, \"ticks\": \"\"}}, \"type\": \"scattergeo\"}], \"scattergl\": [{\"marker\": {\"colorbar\": {\"outlinewidth\": 0, \"ticks\": \"\"}}, \"type\": \"scattergl\"}], \"scattermapbox\": [{\"marker\": {\"colorbar\": {\"outlinewidth\": 0, \"ticks\": \"\"}}, \"type\": \"scattermapbox\"}], \"scatterpolar\": [{\"marker\": {\"colorbar\": {\"outlinewidth\": 0, \"ticks\": \"\"}}, \"type\": \"scatterpolar\"}], \"scatterpolargl\": [{\"marker\": {\"colorbar\": {\"outlinewidth\": 0, \"ticks\": \"\"}}, \"type\": \"scatterpolargl\"}], \"scatterternary\": [{\"marker\": {\"colorbar\": {\"outlinewidth\": 0, \"ticks\": \"\"}}, \"type\": \"scatterternary\"}], \"surface\": [{\"colorbar\": {\"outlinewidth\": 0, \"ticks\": \"\"}, \"colorscale\": [[0.0, \"#0d0887\"], [0.1111111111111111, \"#46039f\"], [0.2222222222222222, \"#7201a8\"], [0.3333333333333333, \"#9c179e\"], [0.4444444444444444, \"#bd3786\"], [0.5555555555555556, \"#d8576b\"], [0.6666666666666666, \"#ed7953\"], [0.7777777777777778, \"#fb9f3a\"], [0.8888888888888888, \"#fdca26\"], [1.0, \"#f0f921\"]], \"type\": \"surface\"}], \"table\": [{\"cells\": {\"fill\": {\"color\": \"#EBF0F8\"}, \"line\": {\"color\": \"white\"}}, \"header\": {\"fill\": {\"color\": \"#C8D4E3\"}, \"line\": {\"color\": \"white\"}}, \"type\": \"table\"}]}, \"layout\": {\"annotationdefaults\": {\"arrowcolor\": \"#2a3f5f\", \"arrowhead\": 0, \"arrowwidth\": 1}, \"coloraxis\": {\"colorbar\": {\"outlinewidth\": 0, \"ticks\": \"\"}}, \"colorscale\": {\"diverging\": [[0, \"#8e0152\"], [0.1, \"#c51b7d\"], [0.2, \"#de77ae\"], [0.3, \"#f1b6da\"], [0.4, \"#fde0ef\"], [0.5, \"#f7f7f7\"], [0.6, \"#e6f5d0\"], [0.7, \"#b8e186\"], [0.8, \"#7fbc41\"], [0.9, \"#4d9221\"], [1, \"#276419\"]], \"sequential\": [[0.0, \"#0d0887\"], [0.1111111111111111, \"#46039f\"], [0.2222222222222222, \"#7201a8\"], [0.3333333333333333, \"#9c179e\"], [0.4444444444444444, \"#bd3786\"], [0.5555555555555556, \"#d8576b\"], [0.6666666666666666, \"#ed7953\"], [0.7777777777777778, \"#fb9f3a\"], [0.8888888888888888, \"#fdca26\"], [1.0, \"#f0f921\"]], \"sequentialminus\": [[0.0, \"#0d0887\"], [0.1111111111111111, \"#46039f\"], [0.2222222222222222, \"#7201a8\"], [0.3333333333333333, \"#9c179e\"], [0.4444444444444444, \"#bd3786\"], [0.5555555555555556, \"#d8576b\"], [0.6666666666666666, \"#ed7953\"], [0.7777777777777778, \"#fb9f3a\"], [0.8888888888888888, \"#fdca26\"], [1.0, \"#f0f921\"]]}, \"colorway\": [\"#636efa\", \"#EF553B\", \"#00cc96\", \"#ab63fa\", \"#FFA15A\", \"#19d3f3\", \"#FF6692\", \"#B6E880\", \"#FF97FF\", \"#FECB52\"], \"font\": {\"color\": \"#2a3f5f\"}, \"geo\": {\"bgcolor\": \"white\", \"lakecolor\": \"white\", \"landcolor\": \"#E5ECF6\", \"showlakes\": true, \"showland\": true, \"subunitcolor\": \"white\"}, \"hoverlabel\": {\"align\": \"left\"}, \"hovermode\": \"closest\", \"mapbox\": {\"style\": \"light\"}, \"paper_bgcolor\": \"white\", \"plot_bgcolor\": \"#E5ECF6\", \"polar\": {\"angularaxis\": {\"gridcolor\": \"white\", \"linecolor\": \"white\", \"ticks\": \"\"}, \"bgcolor\": \"#E5ECF6\", \"radialaxis\": {\"gridcolor\": \"white\", \"linecolor\": \"white\", \"ticks\": \"\"}}, \"scene\": {\"xaxis\": {\"backgroundcolor\": \"#E5ECF6\", \"gridcolor\": \"white\", \"gridwidth\": 2, \"linecolor\": \"white\", \"showbackground\": true, \"ticks\": \"\", \"zerolinecolor\": \"white\"}, \"yaxis\": {\"backgroundcolor\": \"#E5ECF6\", \"gridcolor\": \"white\", \"gridwidth\": 2, \"linecolor\": \"white\", \"showbackground\": true, \"ticks\": \"\", \"zerolinecolor\": \"white\"}, \"zaxis\": {\"backgroundcolor\": \"#E5ECF6\", \"gridcolor\": \"white\", \"gridwidth\": 2, \"linecolor\": \"white\", \"showbackground\": true, \"ticks\": \"\", \"zerolinecolor\": \"white\"}}, \"shapedefaults\": {\"line\": {\"color\": \"#2a3f5f\"}}, \"ternary\": {\"aaxis\": {\"gridcolor\": \"white\", \"linecolor\": \"white\", \"ticks\": \"\"}, \"baxis\": {\"gridcolor\": \"white\", \"linecolor\": \"white\", \"ticks\": \"\"}, \"bgcolor\": \"#E5ECF6\", \"caxis\": {\"gridcolor\": \"white\", \"linecolor\": \"white\", \"ticks\": \"\"}}, \"title\": {\"x\": 0.05}, \"xaxis\": {\"automargin\": true, \"gridcolor\": \"white\", \"linecolor\": \"white\", \"ticks\": \"\", \"title\": {\"standoff\": 15}, \"zerolinecolor\": \"white\", \"zerolinewidth\": 2}, \"yaxis\": {\"automargin\": true, \"gridcolor\": \"white\", \"linecolor\": \"white\", \"ticks\": \"\", \"title\": {\"standoff\": 15}, \"zerolinecolor\": \"white\", \"zerolinewidth\": 2}}}, \"width\": 800},\n",
              "                        {\"responsive\": true}\n",
              "                    ).then(function(){\n",
              "                            \n",
              "var gd = document.getElementById('38af49d5-42d5-4cbc-a428-880ff56c1d59');\n",
              "var x = new MutationObserver(function (mutations, observer) {{\n",
              "        var display = window.getComputedStyle(gd).display;\n",
              "        if (!display || display === 'none') {{\n",
              "            console.log([gd, 'removed!']);\n",
              "            Plotly.purge(gd);\n",
              "            observer.disconnect();\n",
              "        }}\n",
              "}});\n",
              "\n",
              "// Listen for the removal of the full notebook cells\n",
              "var notebookContainer = gd.closest('#notebook-container');\n",
              "if (notebookContainer) {{\n",
              "    x.observe(notebookContainer, {childList: true});\n",
              "}}\n",
              "\n",
              "// Listen for the clearing of the current output cell\n",
              "var outputEl = gd.closest('.output');\n",
              "if (outputEl) {{\n",
              "    x.observe(outputEl, {childList: true});\n",
              "}}\n",
              "\n",
              "                        })\n",
              "                };\n",
              "                \n",
              "            </script>\n",
              "        </div>\n",
              "</body>\n",
              "</html>"
            ]
          },
          "metadata": {
            "tags": []
          }
        }
      ]
    },
    {
      "cell_type": "markdown",
      "metadata": {
        "id": "IfdRDw2lZzn5"
      },
      "source": [
        "Here we have increased the $\\beta$ value. It means that our filter become more sensitive to changes in dx; it even reacts to the noise in the data. "
      ]
    },
    {
      "cell_type": "code",
      "metadata": {
        "id": "LvpopLCha2fi"
      },
      "source": [
        "x = pos\n",
        "dx = vel\n",
        "#Creating filter:\n",
        "#https://filterpy.readthedocs.io/en/latest/gh/GHFilter.html\n",
        "f_object = GHFilter(x,dx,dt=1,g=0.0001,h=0.003)"
      ],
      "execution_count": 35,
      "outputs": []
    },
    {
      "cell_type": "code",
      "metadata": {
        "id": "eRFvx8s3a2fk"
      },
      "source": [
        "#Applying the filter with measurements z:\n",
        "x_estimates = []\n",
        "for measurement in z:\n",
        "  x_estimates.append(f_object.update(z = measurement)[0])\n",
        "x_estimates = np.array(x_estimates)\n"
      ],
      "execution_count": 36,
      "outputs": []
    },
    {
      "cell_type": "code",
      "metadata": {
        "colab": {
          "base_uri": "https://localhost:8080/",
          "height": 317
        },
        "id": "dY030LOpa2fl",
        "outputId": "eed1997b-9aa5-4099-ddc8-ad9a9453fca9"
      },
      "source": [
        "self_plots.plotter_2(z/1000,[],x_estimates/1000,[])"
      ],
      "execution_count": 37,
      "outputs": [
        {
          "output_type": "display_data",
          "data": {
            "text/html": [
              "<html>\n",
              "<head><meta charset=\"utf-8\" /></head>\n",
              "<body>\n",
              "    <div>\n",
              "            <script src=\"https://cdnjs.cloudflare.com/ajax/libs/mathjax/2.7.5/MathJax.js?config=TeX-AMS-MML_SVG\"></script><script type=\"text/javascript\">if (window.MathJax) {MathJax.Hub.Config({SVG: {font: \"STIX-Web\"}});}</script>\n",
              "                <script type=\"text/javascript\">window.PlotlyConfig = {MathJaxConfig: 'local'};</script>\n",
              "        <script src=\"https://cdn.plot.ly/plotly-latest.min.js\"></script>    \n",
              "            <div id=\"76af7ed8-8489-41d9-8509-053608c7a8ff\" class=\"plotly-graph-div\" style=\"height:300px; width:800px;\"></div>\n",
              "            <script type=\"text/javascript\">\n",
              "                \n",
              "                    window.PLOTLYENV=window.PLOTLYENV || {};\n",
              "                    \n",
              "                if (document.getElementById(\"76af7ed8-8489-41d9-8509-053608c7a8ff\")) {\n",
              "                    Plotly.newPlot(\n",
              "                        '76af7ed8-8489-41d9-8509-053608c7a8ff',\n",
              "                        [{\"line\": {\"color\": \"red\", \"width\": 2}, \"mode\": \"markers\", \"name\": \"measurements\", \"type\": \"scatter\", \"x\": [1, 2, 3, 4, 5, 6, 7, 8, 9, 10, 11, 12, 13, 14, 15, 16, 17, 18, 19, 20, 21, 22, 23, 24, 25, 26, 27, 28, 29, 30, 31, 32, 33, 34, 35, 36, 37, 38, 39, 40, 41, 42, 43, 44, 45, 46, 47, 48, 49, 50, 51, 52, 53, 54, 55, 56, 57, 58, 59, 60, 61, 62, 63, 64, 65, 66, 67, 68, 69, 70, 71, 72, 73, 74, 75, 76, 77, 78, 79, 80, 81, 82, 83, 84, 85, 86, 87, 88, 89, 90, 91, 92, 93, 94, 95, 96, 97, 98, 99], \"y\": [29.83977543368752, 29.806726597374002, 30.25668074508099, 30.26185269332013, 30.396977539239657, 29.966680705752026, 29.909482098615996, 30.334456242172894, 30.195612194471906, 30.468895392741295, 29.905214347669755, 30.404038619916854, 30.118007184656605, 29.938697656679874, 30.112577000991624, 30.05721161861133, 29.811655713325045, 30.134683870013813, 30.028880433359202, 30.5604510632396, 30.53773987104788, 30.56246835562777, 30.144730051867622, 30.560138195455558, 30.751733832113036, 30.584518798243426, 29.814452123692302, 30.479893879040894, 30.516175216194565, 30.35337904546914, 30.33118859124697, 30.68207581019637, 30.336948885552747, 30.508681824631385, 30.19312472056031, 30.618605191184233, 30.93139533677822, 30.316500628993683, 30.572128014533032, 30.456990572279512, 30.887493829773135, 30.669144512177592, 31.005248968955954, 31.278402233545304, 30.39739862177723, 30.694175002704444, 30.786059306668644, 31.553994177926157, 31.542436831029555, 30.655583846268673, 31.819002181635593, 31.054716062568477, 31.10761085336548, 30.976377752525867, 31.70446262111651, 31.287584944258885, 30.602786184613603, 30.932605747884665, 31.59965842939978, 31.28656344944444, 30.884636945113755, 31.214807597245628, 31.727596240806374, 31.470731099547223, 31.521406452415828, 31.868352827519157, 31.624068894060528, 31.249570994856025, 31.812579811520422, 31.28125105544631, 31.7240829241907, 31.443255014664874, 31.966801938077246, 31.367142976958892, 31.367587942166367, 31.61036183033932, 31.826559454376866, 31.031086054485325, 32.19076747427465, 32.03308424809732, 32.125569971733945, 32.49773918570031, 32.368643830520746, 31.936977358500304, 32.60470394350408, 31.719796504094575, 31.981536007635526, 31.9303948945096, 31.84484089803416, 31.93926354019506, 32.38318976337892, 31.682390388716925, 32.47893482452289, 32.55128442910299, 32.59677459104829, 32.64860096073919, 32.6878920765408, 32.04837312229068, 32.72782880064004, 32.2747208745153]}, {\"line\": {\"color\": \"rgb(49,130,189)\", \"dash\": \"dash\", \"width\": 2}, \"mode\": \"lines+markers\", \"name\": \"predictions\", \"type\": \"scatter\", \"x\": [1, 2, 3, 4, 5, 6, 7, 8, 9, 10, 11, 12, 13, 14, 15, 16, 17, 18, 19, 20, 21, 22, 23, 24, 25, 26, 27, 28, 29, 30, 31, 32, 33, 34, 35, 36, 37, 38, 39, 40, 41, 42, 43, 44, 45, 46, 47, 48, 49, 50, 51, 52, 53, 54, 55, 56, 57, 58, 59, 60, 61, 62, 63, 64, 65, 66, 67, 68, 69, 70, 71, 72, 73, 74, 75, 76, 77, 78, 79, 80, 81, 82, 83, 84, 85, 86, 87, 88, 89, 90, 91, 92, 93, 94, 95, 96, 97, 98, 99], \"y\": []}, {\"line\": {\"color\": \"rgb(115,115,115)\", \"dash\": \"dot\", \"width\": 2}, \"mode\": \"lines+markers\", \"name\": \"estimations\", \"type\": \"scatter\", \"x\": [0, 1, 2, 3, 4, 5, 6, 7, 8, 9, 10, 11, 12, 13, 14, 15, 16, 17, 18, 19, 20, 21, 22, 23, 24, 25, 26, 27, 28, 29, 30, 31, 32, 33, 34, 35, 36, 37, 38, 39, 40, 41, 42, 43, 44, 45, 46, 47, 48, 49, 50, 51, 52, 53, 54, 55, 56, 57, 58, 59, 60, 61, 62, 63, 64, 65, 66, 67, 68, 69, 70, 71, 72, 73, 74, 75, 76, 77, 78, 79, 80, 81, 82, 83, 84, 85, 86, 87, 88, 89, 90, 91, 92, 93, 94, 95, 96, 97, 98, 99], \"y\": [30.01498247754337, 30.029434530823785, 30.043262010513295, 30.057728880853364, 30.072820188428388, 30.08883942924174, 30.104484872099828, 30.119586239507534, 30.135316822381725, 30.15125404663373, 30.168086233097124, 30.184178003112812, 30.200899142658386, 30.2173520032632, 30.232984643476637, 30.24824896096036, 30.262914084394758, 30.27625626901927, 30.28916182188464, 30.301338397092135, 30.31428882152133, 30.32791077690512, 30.34219326899917, 30.35592348400697, 30.370284129691278, 30.385770966914897, 30.401775492281327, 30.41608299126499, 30.430584120295798, 30.445324292884322, 30.459784936667923, 30.473893434072775, 30.488590555063794, 30.50284845462809, 30.51709087280203, 30.530402516324493, 30.544008715721738, 30.558714224891435, 30.572717185461077, 30.58670546447765, 30.600346250315482, 30.61482527988134, 30.62949942968681, 30.645326676021565, 30.662963465943086, 30.679831475291202, 30.696750016851023, 30.71401158791327, 30.73379022485375, 30.755904138450592, 30.777831221613063, 30.80280319633538, 30.828533701938003, 30.855085742634266, 30.882071812642995, 30.911480668702453, 30.94194641682701, 30.971424619636448, 31.0008501232785, 31.03203779979055, 31.063945741833486, 31.095345583757265, 31.12715195060168, 31.160730783165892, 31.195241326331278, 31.230761608458113, 31.26816668382057, 31.306598275516293, 31.344911243092533, 31.384570252201694, 31.42395962100655, 31.464217337993123, 31.504460496930356, 31.546026689979023, 31.587052119765847, 31.627439331865705, 31.667792892502185, 31.708539170128237, 31.747364981921574, 31.787501350288174, 31.828379702283726, 31.87018275417383, 31.913851385517802, 31.958836860686446, 32.00381903145952, 32.050510868007706, 32.09623206623085, 32.14159949004707, 32.186320207934656, 32.23002145808496, 32.27289045697891, 32.316015986954696, 32.35731598202636, 32.398983938586454, 32.44110917883864, 32.483702385440395, 32.52678995755897, 32.570292575381856, 32.61229303015151, 32.65459058139455]}, {\"line\": {\"color\": \"rgb(67,67,67)\", \"width\": 2}, \"mode\": \"lines\", \"name\": \"Truth\", \"type\": \"scatter\", \"x\": [0, 1, 2, 3, 4, 5, 6, 7, 8, 9, 10, 11, 12, 13, 14, 15, 16, 17, 18, 19, 20, 21, 22, 23, 24, 25, 26, 27, 28, 29, 30, 31, 32, 33, 34, 35, 36, 37, 38, 39, 40, 41, 42, 43, 44, 45, 46, 47, 48, 49, 50, 51, 52, 53, 54, 55, 56, 57, 58, 59, 60, 61, 62, 63, 64, 65, 66, 67, 68, 69, 70, 71, 72, 73, 74, 75, 76, 77, 78, 79, 80, 81, 82, 83, 84, 85, 86, 87, 88, 89, 90, 91, 92, 93, 94, 95, 96, 97, 98, 99], \"y\": []}],\n",
              "                        {\"autosize\": false, \"height\": 300, \"margin\": {\"b\": 10, \"l\": 5, \"pad\": 4, \"r\": 5, \"t\": 10}, \"paper_bgcolor\": \"White\", \"template\": {\"data\": {\"bar\": [{\"error_x\": {\"color\": \"#2a3f5f\"}, \"error_y\": {\"color\": \"#2a3f5f\"}, \"marker\": {\"line\": {\"color\": \"#E5ECF6\", \"width\": 0.5}}, \"type\": \"bar\"}], \"barpolar\": [{\"marker\": {\"line\": {\"color\": \"#E5ECF6\", \"width\": 0.5}}, \"type\": \"barpolar\"}], \"carpet\": [{\"aaxis\": {\"endlinecolor\": \"#2a3f5f\", \"gridcolor\": \"white\", \"linecolor\": \"white\", \"minorgridcolor\": \"white\", \"startlinecolor\": \"#2a3f5f\"}, \"baxis\": {\"endlinecolor\": \"#2a3f5f\", \"gridcolor\": \"white\", \"linecolor\": \"white\", \"minorgridcolor\": \"white\", \"startlinecolor\": \"#2a3f5f\"}, \"type\": \"carpet\"}], \"choropleth\": [{\"colorbar\": {\"outlinewidth\": 0, \"ticks\": \"\"}, \"type\": \"choropleth\"}], \"contour\": [{\"colorbar\": {\"outlinewidth\": 0, \"ticks\": \"\"}, \"colorscale\": [[0.0, \"#0d0887\"], [0.1111111111111111, \"#46039f\"], [0.2222222222222222, \"#7201a8\"], [0.3333333333333333, \"#9c179e\"], [0.4444444444444444, \"#bd3786\"], [0.5555555555555556, \"#d8576b\"], [0.6666666666666666, \"#ed7953\"], [0.7777777777777778, \"#fb9f3a\"], [0.8888888888888888, \"#fdca26\"], [1.0, \"#f0f921\"]], \"type\": \"contour\"}], \"contourcarpet\": [{\"colorbar\": {\"outlinewidth\": 0, \"ticks\": \"\"}, \"type\": \"contourcarpet\"}], \"heatmap\": [{\"colorbar\": {\"outlinewidth\": 0, \"ticks\": \"\"}, \"colorscale\": [[0.0, \"#0d0887\"], [0.1111111111111111, \"#46039f\"], [0.2222222222222222, \"#7201a8\"], [0.3333333333333333, \"#9c179e\"], [0.4444444444444444, \"#bd3786\"], [0.5555555555555556, \"#d8576b\"], [0.6666666666666666, \"#ed7953\"], [0.7777777777777778, \"#fb9f3a\"], [0.8888888888888888, \"#fdca26\"], [1.0, \"#f0f921\"]], \"type\": \"heatmap\"}], \"heatmapgl\": [{\"colorbar\": {\"outlinewidth\": 0, \"ticks\": \"\"}, \"colorscale\": [[0.0, \"#0d0887\"], [0.1111111111111111, \"#46039f\"], [0.2222222222222222, \"#7201a8\"], [0.3333333333333333, \"#9c179e\"], [0.4444444444444444, \"#bd3786\"], [0.5555555555555556, \"#d8576b\"], [0.6666666666666666, \"#ed7953\"], [0.7777777777777778, \"#fb9f3a\"], [0.8888888888888888, \"#fdca26\"], [1.0, \"#f0f921\"]], \"type\": \"heatmapgl\"}], \"histogram\": [{\"marker\": {\"colorbar\": {\"outlinewidth\": 0, \"ticks\": \"\"}}, \"type\": \"histogram\"}], \"histogram2d\": [{\"colorbar\": {\"outlinewidth\": 0, \"ticks\": \"\"}, \"colorscale\": [[0.0, \"#0d0887\"], [0.1111111111111111, \"#46039f\"], [0.2222222222222222, \"#7201a8\"], [0.3333333333333333, \"#9c179e\"], [0.4444444444444444, \"#bd3786\"], [0.5555555555555556, \"#d8576b\"], [0.6666666666666666, \"#ed7953\"], [0.7777777777777778, \"#fb9f3a\"], [0.8888888888888888, \"#fdca26\"], [1.0, \"#f0f921\"]], \"type\": \"histogram2d\"}], \"histogram2dcontour\": [{\"colorbar\": {\"outlinewidth\": 0, \"ticks\": \"\"}, \"colorscale\": [[0.0, \"#0d0887\"], [0.1111111111111111, \"#46039f\"], [0.2222222222222222, \"#7201a8\"], [0.3333333333333333, \"#9c179e\"], [0.4444444444444444, \"#bd3786\"], [0.5555555555555556, \"#d8576b\"], [0.6666666666666666, \"#ed7953\"], [0.7777777777777778, \"#fb9f3a\"], [0.8888888888888888, \"#fdca26\"], [1.0, \"#f0f921\"]], \"type\": \"histogram2dcontour\"}], \"mesh3d\": [{\"colorbar\": {\"outlinewidth\": 0, \"ticks\": \"\"}, \"type\": \"mesh3d\"}], \"parcoords\": [{\"line\": {\"colorbar\": {\"outlinewidth\": 0, \"ticks\": \"\"}}, \"type\": \"parcoords\"}], \"pie\": [{\"automargin\": true, \"type\": \"pie\"}], \"scatter\": [{\"marker\": {\"colorbar\": {\"outlinewidth\": 0, \"ticks\": \"\"}}, \"type\": \"scatter\"}], \"scatter3d\": [{\"line\": {\"colorbar\": {\"outlinewidth\": 0, \"ticks\": \"\"}}, \"marker\": {\"colorbar\": {\"outlinewidth\": 0, \"ticks\": \"\"}}, \"type\": \"scatter3d\"}], \"scattercarpet\": [{\"marker\": {\"colorbar\": {\"outlinewidth\": 0, \"ticks\": \"\"}}, \"type\": \"scattercarpet\"}], \"scattergeo\": [{\"marker\": {\"colorbar\": {\"outlinewidth\": 0, \"ticks\": \"\"}}, \"type\": \"scattergeo\"}], \"scattergl\": [{\"marker\": {\"colorbar\": {\"outlinewidth\": 0, \"ticks\": \"\"}}, \"type\": \"scattergl\"}], \"scattermapbox\": [{\"marker\": {\"colorbar\": {\"outlinewidth\": 0, \"ticks\": \"\"}}, \"type\": \"scattermapbox\"}], \"scatterpolar\": [{\"marker\": {\"colorbar\": {\"outlinewidth\": 0, \"ticks\": \"\"}}, \"type\": \"scatterpolar\"}], \"scatterpolargl\": [{\"marker\": {\"colorbar\": {\"outlinewidth\": 0, \"ticks\": \"\"}}, \"type\": \"scatterpolargl\"}], \"scatterternary\": [{\"marker\": {\"colorbar\": {\"outlinewidth\": 0, \"ticks\": \"\"}}, \"type\": \"scatterternary\"}], \"surface\": [{\"colorbar\": {\"outlinewidth\": 0, \"ticks\": \"\"}, \"colorscale\": [[0.0, \"#0d0887\"], [0.1111111111111111, \"#46039f\"], [0.2222222222222222, \"#7201a8\"], [0.3333333333333333, \"#9c179e\"], [0.4444444444444444, \"#bd3786\"], [0.5555555555555556, \"#d8576b\"], [0.6666666666666666, \"#ed7953\"], [0.7777777777777778, \"#fb9f3a\"], [0.8888888888888888, \"#fdca26\"], [1.0, \"#f0f921\"]], \"type\": \"surface\"}], \"table\": [{\"cells\": {\"fill\": {\"color\": \"#EBF0F8\"}, \"line\": {\"color\": \"white\"}}, \"header\": {\"fill\": {\"color\": \"#C8D4E3\"}, \"line\": {\"color\": \"white\"}}, \"type\": \"table\"}]}, \"layout\": {\"annotationdefaults\": {\"arrowcolor\": \"#2a3f5f\", \"arrowhead\": 0, \"arrowwidth\": 1}, \"coloraxis\": {\"colorbar\": {\"outlinewidth\": 0, \"ticks\": \"\"}}, \"colorscale\": {\"diverging\": [[0, \"#8e0152\"], [0.1, \"#c51b7d\"], [0.2, \"#de77ae\"], [0.3, \"#f1b6da\"], [0.4, \"#fde0ef\"], [0.5, \"#f7f7f7\"], [0.6, \"#e6f5d0\"], [0.7, \"#b8e186\"], [0.8, \"#7fbc41\"], [0.9, \"#4d9221\"], [1, \"#276419\"]], \"sequential\": [[0.0, \"#0d0887\"], [0.1111111111111111, \"#46039f\"], [0.2222222222222222, \"#7201a8\"], [0.3333333333333333, \"#9c179e\"], [0.4444444444444444, \"#bd3786\"], [0.5555555555555556, \"#d8576b\"], [0.6666666666666666, \"#ed7953\"], [0.7777777777777778, \"#fb9f3a\"], [0.8888888888888888, \"#fdca26\"], [1.0, \"#f0f921\"]], \"sequentialminus\": [[0.0, \"#0d0887\"], [0.1111111111111111, \"#46039f\"], [0.2222222222222222, \"#7201a8\"], [0.3333333333333333, \"#9c179e\"], [0.4444444444444444, \"#bd3786\"], [0.5555555555555556, \"#d8576b\"], [0.6666666666666666, \"#ed7953\"], [0.7777777777777778, \"#fb9f3a\"], [0.8888888888888888, \"#fdca26\"], [1.0, \"#f0f921\"]]}, \"colorway\": [\"#636efa\", \"#EF553B\", \"#00cc96\", \"#ab63fa\", \"#FFA15A\", \"#19d3f3\", \"#FF6692\", \"#B6E880\", \"#FF97FF\", \"#FECB52\"], \"font\": {\"color\": \"#2a3f5f\"}, \"geo\": {\"bgcolor\": \"white\", \"lakecolor\": \"white\", \"landcolor\": \"#E5ECF6\", \"showlakes\": true, \"showland\": true, \"subunitcolor\": \"white\"}, \"hoverlabel\": {\"align\": \"left\"}, \"hovermode\": \"closest\", \"mapbox\": {\"style\": \"light\"}, \"paper_bgcolor\": \"white\", \"plot_bgcolor\": \"#E5ECF6\", \"polar\": {\"angularaxis\": {\"gridcolor\": \"white\", \"linecolor\": \"white\", \"ticks\": \"\"}, \"bgcolor\": \"#E5ECF6\", \"radialaxis\": {\"gridcolor\": \"white\", \"linecolor\": \"white\", \"ticks\": \"\"}}, \"scene\": {\"xaxis\": {\"backgroundcolor\": \"#E5ECF6\", \"gridcolor\": \"white\", \"gridwidth\": 2, \"linecolor\": \"white\", \"showbackground\": true, \"ticks\": \"\", \"zerolinecolor\": \"white\"}, \"yaxis\": {\"backgroundcolor\": \"#E5ECF6\", \"gridcolor\": \"white\", \"gridwidth\": 2, \"linecolor\": \"white\", \"showbackground\": true, \"ticks\": \"\", \"zerolinecolor\": \"white\"}, \"zaxis\": {\"backgroundcolor\": \"#E5ECF6\", \"gridcolor\": \"white\", \"gridwidth\": 2, \"linecolor\": \"white\", \"showbackground\": true, \"ticks\": \"\", \"zerolinecolor\": \"white\"}}, \"shapedefaults\": {\"line\": {\"color\": \"#2a3f5f\"}}, \"ternary\": {\"aaxis\": {\"gridcolor\": \"white\", \"linecolor\": \"white\", \"ticks\": \"\"}, \"baxis\": {\"gridcolor\": \"white\", \"linecolor\": \"white\", \"ticks\": \"\"}, \"bgcolor\": \"#E5ECF6\", \"caxis\": {\"gridcolor\": \"white\", \"linecolor\": \"white\", \"ticks\": \"\"}}, \"title\": {\"x\": 0.05}, \"xaxis\": {\"automargin\": true, \"gridcolor\": \"white\", \"linecolor\": \"white\", \"ticks\": \"\", \"title\": {\"standoff\": 15}, \"zerolinecolor\": \"white\", \"zerolinewidth\": 2}, \"yaxis\": {\"automargin\": true, \"gridcolor\": \"white\", \"linecolor\": \"white\", \"ticks\": \"\", \"title\": {\"standoff\": 15}, \"zerolinecolor\": \"white\", \"zerolinewidth\": 2}}}, \"width\": 800},\n",
              "                        {\"responsive\": true}\n",
              "                    ).then(function(){\n",
              "                            \n",
              "var gd = document.getElementById('76af7ed8-8489-41d9-8509-053608c7a8ff');\n",
              "var x = new MutationObserver(function (mutations, observer) {{\n",
              "        var display = window.getComputedStyle(gd).display;\n",
              "        if (!display || display === 'none') {{\n",
              "            console.log([gd, 'removed!']);\n",
              "            Plotly.purge(gd);\n",
              "            observer.disconnect();\n",
              "        }}\n",
              "}});\n",
              "\n",
              "// Listen for the removal of the full notebook cells\n",
              "var notebookContainer = gd.closest('#notebook-container');\n",
              "if (notebookContainer) {{\n",
              "    x.observe(notebookContainer, {childList: true});\n",
              "}}\n",
              "\n",
              "// Listen for the clearing of the current output cell\n",
              "var outputEl = gd.closest('.output');\n",
              "if (outputEl) {{\n",
              "    x.observe(outputEl, {childList: true});\n",
              "}}\n",
              "\n",
              "                        })\n",
              "                };\n",
              "                \n",
              "            </script>\n",
              "        </div>\n",
              "</body>\n",
              "</html>"
            ]
          },
          "metadata": {
            "tags": []
          }
        }
      ]
    },
    {
      "cell_type": "markdown",
      "metadata": {
        "id": "X016BrHAbeEe"
      },
      "source": [
        "# [Bayesian](https://en.wikipedia.org/wiki/Bayesian_probability) Filtering\n",
        "\n",
        "We have seen that our understanding of the system and how we update this knowledge has a significant impact on the predictive accuracy of our filtering operation. \n",
        "\n",
        "While building our knowledge towards Kalman filters, we will make a quick stop in Bayesian learning (If you would like to revise the concept, you may check Lecture 4 of DDE-I) and how we can use this strategy to update our understanding of the \"world\".\n"
      ]
    },
    {
      "cell_type": "markdown",
      "metadata": {
        "id": "GOjjaaeGeAgI"
      },
      "source": [
        "The beauty of the Bayesian approach is the way it interprets and updates the past knowledge (i.e. prior):\n",
        "\n",
        "$\\mathtt{posterior} = \\frac{\\mathtt{likelihood}\\times \\mathtt{prior}}{\\mathtt{evidence}}$\n",
        "\n",
        "which can be translated into the following algorithm for our problem:"
      ]
    },
    {
      "cell_type": "markdown",
      "metadata": {
        "id": "g5P8_KgN0kdh"
      },
      "source": [
        "1. initialize the prior knowledge,\n",
        "\n",
        "2. predict the state for the next time step,\n",
        "\n",
        "3. measure the state, \n",
        "\n",
        "4. set a belief about the measurement accuracy,\n",
        "\n",
        "5. compute how likely the measurement matches the state,\n",
        "\n",
        "6. update our knowledge with this likelihood (posterior)"
      ]
    },
    {
      "cell_type": "markdown",
      "metadata": {
        "id": "GuGig_qm2M6N"
      },
      "source": [
        "We will dicuss the idea behind Bayesian learning over a traditional example."
      ]
    },
    {
      "cell_type": "markdown",
      "metadata": {
        "id": "twj6W4M6cpsQ"
      },
      "source": [
        "### Problem definition: A classic case\n",
        "\n",
        "Imagine that we are trying to predict the position of a robot along a 1D path (along its railway) given an order to move a set position:\n",
        "\n",
        "+ We may not have infromation about the initial state, that is where the robot is. \n",
        "\n",
        "+ We may know how it moves between discrete positions.  \n",
        "\n",
        "+ We may also know how it moves: it goes through states following one another: 1=>2; 4=>5 etc.\n",
        "\n",
        "+ We should consider the error in order execution (due to rail slipping, motor errors etc.)\n",
        "\n",
        "+ We should consider the error from the sensory data (imagine that we have an array of magnets and we can count how many checkpoints we have passed along the movement)."
      ]
    },
    {
      "cell_type": "code",
      "metadata": {
        "id": "2l8Rcd_D2Yei"
      },
      "source": [
        "class Sensor_measurements(object):\n",
        "\n",
        "    def __init__(self, track_len, kernel=[1.], sensor_accuracy=.9):\n",
        "        self.track_len = track_len\n",
        "        self.pos = 0\n",
        "        self.kernel = kernel\n",
        "        self.sensor_accuracy = sensor_accuracy\n",
        "\n",
        "    def move(self, distance=1):\n",
        "        \"\"\" moves in the specified direction\n",
        "        with some small chance of error\"\"\"\n",
        "        self.pos += distance\n",
        "        # adding randomness\n",
        "        r = random.random()\n",
        "        s = 0\n",
        "        offset = -(len(self.kernel) - 1) / 2\n",
        "        for k in self.kernel:\n",
        "            s += k\n",
        "            if r <= s:\n",
        "                break\n",
        "            offset += 1\n",
        "        self.pos = int((self.pos + offset) % self.track_len)\n",
        "        return self.pos\n",
        "\n",
        "    def sense(self):\n",
        "        pos = self.pos\n",
        "         # insert random sensor error.\n",
        "         #Is there an error?\n",
        "        if random.random() > self.sensor_accuracy:\n",
        "            #is it positive or negative?\n",
        "            if random.random() > 0.5:\n",
        "                pos += 1\n",
        "            else:\n",
        "                pos -= 1\n",
        "        return pos"
      ],
      "execution_count": 38,
      "outputs": []
    },
    {
      "cell_type": "code",
      "metadata": {
        "id": "9M9Zznxg5sPT"
      },
      "source": [
        "def f_likelilood(path, z, accuracy_sensor):\n",
        "    \"\"\" Made up function. Computes likelihood that a measurement matches positions.\"\"\"   \n",
        "    try:\n",
        "        scale = accuracy_sensor / (1. - accuracy_sensor)\n",
        "    except ZeroDivisionError:\n",
        "        scale = 1e8\n",
        "    likelihood = np.ones(len(path))\n",
        "    likelihood[path==z] *= scale\n",
        "    return likelihood"
      ],
      "execution_count": 39,
      "outputs": []
    },
    {
      "cell_type": "code",
      "metadata": {
        "id": "--2Qk7yD9hht"
      },
      "source": [
        "def bar_plot(pos, x=None, ylim=(0,1), title=None,color='#30a2da'):\n",
        "    ax = plt.gca()\n",
        "    if x is None:\n",
        "        x = np.arange(len(pos))\n",
        "    ax.bar(x, pos,color=color)\n",
        "    if ylim:\n",
        "        plt.ylim(ylim)\n",
        "    plt.xticks(np.asarray(x), x)\n",
        "    if title is not None:\n",
        "        plt.title(title)"
      ],
      "execution_count": 40,
      "outputs": []
    },
    {
      "cell_type": "code",
      "metadata": {
        "id": "BZfAgIMN3Eg4"
      },
      "source": [
        "#Creating the filter\n",
        "def DBF(iterations, kernel, sensor_accuracy, \n",
        "             move_distance, do_print=True):\n",
        "    #Positions on the robot's track:\n",
        "    track = np.array([0, 1, 2, 3, 4, 5, 6, 7, 8, 9])\n",
        "    #Our estimate on the location of the robot:\n",
        "    prior = np.array([.9] + [0.01]*9)\n",
        "    #initialize:\n",
        "    posterior = prior[:]\n",
        "    # create pdf:\n",
        "    normalize(prior)\n",
        "    #Calling the sensor object:\n",
        "    robot = Sensor_measurements(len(track), kernel, sensor_accuracy)\n",
        "    \n",
        "    #Simulating...\n",
        "    for i in range(iterations):\n",
        "\n",
        "        #moving the robot:\n",
        "        robot.move(distance=move_distance)\n",
        "\n",
        "        #peforming prediction step:\"predict\"\n",
        "        #Performs the discrete Bayes filter prediction step, generating the prior\n",
        "        prior = predict(posterior, move_distance, kernel)       \n",
        "\n",
        "        # updating the filter: \n",
        "        # getting the noisy sensor data\n",
        "        m = robot.sense()\n",
        "        # calculating likelihood from a made-up function:\n",
        "        likelihood = f_likelilood(track, m, sensor_accuracy)\n",
        "        # calcuating the posterior:\n",
        "        posterior = update(likelihood, prior)\n",
        "        index = np.argmax(posterior)\n",
        "        \n",
        "\n",
        "        if do_print:\n",
        "            print(f'time {i}: pos {robot.pos}, sensed {m}, at position {track[robot.pos]}')\n",
        "            conf = posterior[index] * 100\n",
        "            print(f'        estimated position is {index} with confidence {conf:.4f}%:')            \n",
        "\n",
        "    if do_print:\n",
        "        print()\n",
        "        print('final position is', robot.pos)\n",
        "        index = np.argmax(posterior)\n",
        "        print('''Estimated position is {} with '''\n",
        "              '''confidence {:.4f}%:'''.format(\n",
        "                index, posterior[index]*100))\n",
        "    bar_plot(posterior)"
      ],
      "execution_count": 41,
      "outputs": []
    },
    {
      "cell_type": "code",
      "metadata": {
        "colab": {
          "base_uri": "https://localhost:8080/",
          "height": 475
        },
        "id": "BEtKNvra6wUW",
        "outputId": "cfb030f3-e82d-471a-86f3-f246ab54186a"
      },
      "source": [
        "# Using the filter:\n",
        "#Random number:\n",
        "random.seed(7)\n",
        "np.set_printoptions(precision=2, suppress=True, linewidth=80)\n",
        "DBF(4, kernel=[1.], sensor_accuracy=.999, move_distance=1, do_print=True)\n",
        "\n"
      ],
      "execution_count": 42,
      "outputs": [
        {
          "output_type": "stream",
          "text": [
            "time 0: pos 1, sensed 1, at position 1\n",
            "        estimated position is 1 with confidence 99.9900%:\n",
            "time 1: pos 2, sensed 2, at position 2\n",
            "        estimated position is 2 with confidence 100.0000%:\n",
            "time 2: pos 3, sensed 3, at position 3\n",
            "        estimated position is 3 with confidence 100.0000%:\n",
            "time 3: pos 4, sensed 4, at position 4\n",
            "        estimated position is 4 with confidence 100.0000%:\n",
            "\n",
            "final position is 4\n",
            "Estimated position is 4 with confidence 100.0000%:\n"
          ],
          "name": "stdout"
        },
        {
          "output_type": "display_data",
          "data": {
            "image/png": "[encoded data removed]",
            "text/plain": [
              "<Figure size 432x288 with 1 Axes>"
            ]
          },
          "metadata": {
            "tags": [],
            "needs_background": "light"
          }
        }
      ]
    },
    {
      "cell_type": "code",
      "metadata": {
        "colab": {
          "base_uri": "https://localhost:8080/",
          "height": 475
        },
        "id": "loQd-FYj8KLE",
        "outputId": "615ef2de-0241-4f46-8478-d258e75a54b3"
      },
      "source": [
        "#Now lets introduce some noise:\n",
        "random.seed(77)\n",
        "DBF(4, kernel=[.2, .6, .2], sensor_accuracy=.77,move_distance=2, do_print=True)"
      ],
      "execution_count": 43,
      "outputs": [
        {
          "output_type": "stream",
          "text": [
            "time 0: pos 2, sensed 2, at position 2\n",
            "        estimated position is 2 with confidence 80.3283%:\n",
            "time 1: pos 4, sensed 3, at position 4\n",
            "        estimated position is 3 with confidence 47.2815%:\n",
            "time 2: pos 6, sensed 6, at position 6\n",
            "        estimated position is 6 with confidence 62.1856%:\n",
            "time 3: pos 8, sensed 8, at position 8\n",
            "        estimated position is 8 with confidence 71.7022%:\n",
            "\n",
            "final position is 8\n",
            "Estimated position is 8 with confidence 71.7022%:\n"
          ],
          "name": "stdout"
        },
        {
          "output_type": "display_data",
          "data": {
            "image/png": "[encoded data removed]",
            "text/plain": [
              "<Figure size 432x288 with 1 Axes>"
            ]
          },
          "metadata": {
            "tags": [],
            "needs_background": "light"
          }
        }
      ]
    },
    {
      "cell_type": "code",
      "metadata": {
        "colab": {
          "base_uri": "https://localhost:8080/",
          "height": 687
        },
        "id": "zS3vXfNp8ox2",
        "outputId": "eeaa09df-e400-4f0e-d8a5-f767206e5ad6"
      },
      "source": [
        "plt.figure(figsize=(8,8), dpi=100)\n",
        "for i in range (4):\n",
        "    random.seed(11)\n",
        "    plt.subplot(221+i)\n",
        "    DBF(33+i, kernel=[.15, .7, .15], \n",
        "                  sensor_accuracy=.66,\n",
        "                  move_distance=2, do_print=False)\n",
        "    plt.title (f'iteration {33 + i}')\n",
        "    \n",
        "\n"
      ],
      "execution_count": 44,
      "outputs": [
        {
          "output_type": "display_data",
          "data": {
            "image/png": "[encoded data removed]",
            "text/plain": [
              "<Figure size 800x800 with 4 Axes>"
            ]
          },
          "metadata": {
            "tags": [],
            "needs_background": "light"
          }
        }
      ]
    },
    {
      "cell_type": "markdown",
      "metadata": {
        "id": "IVmLLeP2CmMZ"
      },
      "source": [
        "## Shifting from discrete data to continuous data\n",
        "\n",
        "Although instructive, the previous approach is not very useful in real-life scenerios as we would like to have a continuous view of the world. Therefore, we need a continuous way to represent probabilities and we need to do it in a computationally efficient way. "
      ]
    },
    {
      "cell_type": "markdown",
      "metadata": {
        "id": "8v7Prgo5Gmsn"
      },
      "source": [
        "## Gaussian distributions\n",
        "\n",
        "Lets remember how one of the most famous equations in the world looks like when plotted:"
      ]
    },
    {
      "cell_type": "code",
      "metadata": {
        "colab": {
          "base_uri": "https://localhost:8080/",
          "height": 279
        },
        "id": "P2lWbPIUHEc9",
        "outputId": "6f2225df-a55c-4444-8854-6e9f2c47befa"
      },
      "source": [
        "plot_gaussian_pdf(mean=35, variance=1.618**2, xlabel='Temperature', ylabel='pdf');"
      ],
      "execution_count": 45,
      "outputs": [
        {
          "output_type": "display_data",
          "data": {
            "image/png": "[encoded data removed]",
            "text/plain": [
              "<Figure size 432x288 with 1 Axes>"
            ]
          },
          "metadata": {
            "tags": [],
            "needs_background": "light"
          }
        }
      ]
    },
    {
      "cell_type": "markdown",
      "metadata": {
        "id": "dvc5A-uyHD95"
      },
      "source": [
        "Assume that we have a thermocouple and are measuring the ambient temperature. At a certain instance, we read it as 34.2. We know that no tool is perfect so it is very unlikely that the exact temperature is 34.2 (it is funny to think that temperature itself is a statistics and telling us how fast molecules move in average). \n",
        "\n",
        "Here we assume based on the central limit theorem that we make enough number of measurements, these points will be **normally distributed**. In the plot, we see that 35 is the more likely option. \n",
        "\n"
      ]
    },
    {
      "cell_type": "markdown",
      "metadata": {
        "id": "_ZBWDirDI9gN"
      },
      "source": [
        "In a probability density function, the area under the curve yields \"1\". \n",
        "\n",
        "What happens if we have several cases with the same mean but different variances:"
      ]
    },
    {
      "cell_type": "code",
      "metadata": {
        "colab": {
          "base_uri": "https://localhost:8080/",
          "height": 287
        },
        "id": "kFe23es3JysK",
        "outputId": "8f1b8452-19f7-47dd-cae4-9669d7f0dce6"
      },
      "source": [
        "plt.figure(figsize=(7,3), dpi=100)\n",
        "xs = np.arange(20, 40, 0.05)\n",
        "plt.plot(xs, gaussian(xs, 30, 0.2**2), label='$\\sigma^2=0.2^2$')\n",
        "plt.plot(xs, gaussian(xs, 30, .5**2), label='$\\sigma^2=0.5^2$', ls=':')\n",
        "plt.plot(xs, gaussian(xs, 30, 1**2), label='$\\sigma^2=1^2$', ls='--')\n",
        "plt.legend();"
      ],
      "execution_count": 46,
      "outputs": [
        {
          "output_type": "display_data",
          "data": {
            "image/png": "[encoded data removed]",
            "text/plain": [
              "<Figure size 700x300 with 1 Axes>"
            ]
          },
          "metadata": {
            "tags": [],
            "needs_background": "light"
          }
        }
      ]
    },
    {
      "cell_type": "markdown",
      "metadata": {
        "id": "5HtfF3aWKYHz"
      },
      "source": [
        "They all tell us that the expected value is 30, but their confidences in this decision is not the same! This is a very critical interpretation for our objective.\n",
        "\n",
        "Lets continue to play with Gaussians. \n",
        "\n",
        "If we consider the mathematical details of the above calculations, we did add and multiply arbitrary probability distributions. In other words, if we rely on a continuous function, we will need to add and multply them. In the case of Gaussian, we see that the sum of two normal variables is also normally distributed. The multiplication, on the other hand, gives a Gaussian function (output is proportional to Gaussian distribution). "
      ]
    },
    {
      "cell_type": "code",
      "metadata": {
        "colab": {
          "base_uri": "https://localhost:8080/",
          "height": 287
        },
        "id": "UsxNyC3TMC9o",
        "outputId": "e91c56ae-ff98-423e-d24e-6caa5e90367d"
      },
      "source": [
        "x = np.arange(6, 12, 0.01)\n",
        "g1 = gaussian(x, mean=7, var=.1)\n",
        "g2 = gaussian(x, mean=8, var=.2)\n",
        "plt.figure(figsize=(7,3), dpi=100)\n",
        "plt.plot(x, g1, x, g2)\n",
        "# element-wise multiplication:\n",
        "g = g1 * g2  \n",
        "# Converting into Gaussian:\n",
        "g = g / sum(g)  \n",
        "plt.plot(x, g, ls='-.');\n",
        "plt.show()"
      ],
      "execution_count": 47,
      "outputs": [
        {
          "output_type": "display_data",
          "data": {
            "image/png": "[encoded data removed]",
            "text/plain": [
              "<Figure size 700x300 with 1 Axes>"
            ]
          },
          "metadata": {
            "tags": [],
            "needs_background": "light"
          }
        }
      ]
    },
    {
      "cell_type": "markdown",
      "metadata": {
        "id": "DldkJ59HMlgx"
      },
      "source": [
        "This property is what makes Gaussians a suitable candidate to represent uncertainity in filtering."
      ]
    },
    {
      "cell_type": "markdown",
      "metadata": {
        "id": "6Eni83UiMznu"
      },
      "source": [
        "# Combining Gaussians with Bayesian Statistics: 1D Kalman Filters\n",
        "\n",
        "Now we are ready to combine what we have gone over so far: \"discrete Bayesian + Gaussian\".\n",
        "\n",
        "In short, Kalman filters are Bayesian filters using Gaussians in the probability representations. Herein, the first step is the representation of our initial belief (previously it was a discrete list). \n",
        "\n",
        "You can consider the transformation changing from the discrete list representations (via convolution) to **cont. embedding** with a predefined function: many data points is mapped via two parameters: mean and the variance."
      ]
    },
    {
      "cell_type": "markdown",
      "metadata": {
        "id": "H4aQnMYMchyI"
      },
      "source": [
        "## Finding prior"
      ]
    },
    {
      "cell_type": "markdown",
      "metadata": {
        "id": "1stORdaFdNPb"
      },
      "source": [
        "We will perform our calculations with Gaussians having two elements. Hence it is a good idea to use tuple structure. Below we define a special file format via `namedtuple`:"
      ]
    },
    {
      "cell_type": "code",
      "metadata": {
        "colab": {
          "base_uri": "https://localhost:8080/"
        },
        "id": "ceNVkO21aLEk",
        "outputId": "b1b4f2ca-05cb-472d-fc07-588641a8d50b"
      },
      "source": [
        "gaussian = namedtuple('Gaussian', ['mean', 'var'])\n",
        "gaussian.__repr__ = lambda s: '𝒩(μ={:.3f}, 𝜎²={:.3f})'.format(s[0], s[1])\n",
        "g1 = gaussian(1.618, 0.314)\n",
        "g2 = gaussian(mean=0.618, var=0.0271)\n",
        "print(g1)\n",
        "print(g2)"
      ],
      "execution_count": 48,
      "outputs": [
        {
          "output_type": "stream",
          "text": [
            "𝒩(μ=1.618, 𝜎²=0.314)\n",
            "𝒩(μ=0.618, 𝜎²=0.027)\n"
          ],
          "name": "stdout"
        }
      ]
    },
    {
      "cell_type": "markdown",
      "metadata": {
        "id": "Clo6QlbFdLy8"
      },
      "source": [
        "Lets return to our basic problem of object tracking and define the prior from the current velocity and the previous position:\n",
        "\n",
        "\\begin{equation}\n",
        "\\begin{split}\n",
        "\\bar{x}_k &= x_{k-1} + v_k \\Delta t \\\\\n",
        " &= x_{k-1} + f_x\n",
        " \\end{split}\n",
        "\\end{equation}\n"
      ]
    },
    {
      "cell_type": "code",
      "metadata": {
        "colab": {
          "base_uri": "https://localhost:8080/"
        },
        "id": "Jz5krqCDeZpc",
        "outputId": "0b7c226b-c19a-492c-f7dc-0866e582511f"
      },
      "source": [
        "#Calculating prior:\n",
        "pos = gaussian(11., .3**2)\n",
        "move = gaussian(12., .6**2)\n",
        "\n",
        "def predict(pos, movement):\n",
        "    return gaussian(pos.mean + movement.mean, pos.var + movement.var)\n",
        "\n",
        "predict(pos, move)"
      ],
      "execution_count": 49,
      "outputs": [
        {
          "output_type": "execute_result",
          "data": {
            "text/plain": [
              "𝒩(μ=23.000, 𝜎²=0.450)"
            ]
          },
          "metadata": {
            "tags": []
          },
          "execution_count": 49
        }
      ]
    },
    {
      "cell_type": "markdown",
      "metadata": {
        "id": "ulMLxTQnDvE5"
      },
      "source": [
        "## Calculating posterior\n",
        "\n",
        "Similarly, we will  replace the discrete update function with a Gaussian. \n",
        "\n",
        "We previously multiple prior with the likelihood and then returned the normalized value (this actually corresponds to the division by the evidence):\n",
        "```\n",
        "def update(likelihood, prior):\n",
        "    posterior = likelihood * prior\n",
        "    return normalize(posterior)\n",
        "```\n",
        "\n",
        "If we do the same multiplication with Gaussians, we first need to define `likelihood`. As a matter of fact, likelihood is the probability of the measurement given the current state and we can define it as a Gaussian:\n",
        "\n",
        "\\begin{equation}\n",
        "\\mathcal{N}(\\mu_z, \\sigma_z^2)\n",
        "\\end{equation}\n",
        "\n",
        "Note that multiplication of two Gaussian distribution is not a distribution but a function, which can be converted to a Gaussian distribution via normalization:\n",
        "\n",
        "\n",
        "\n",
        "\\begin{equation}\n",
        "\\begin{split}\n",
        "\\mathcal N(\\mu, \\sigma^2) &= \\| prior \\cdot likelihood \\|\\\\\n",
        "&= \\| \\mathcal{N}(\\bar\\mu, \\bar\\sigma^2)\\cdot \\mathcal{N}(\\mu_z, \\sigma_z^2) \\|\\\\\n",
        "&= \\mathcal N(\\frac{\\bar\\sigma^2 \\mu_z + \\sigma_z^2 \\bar\\mu}{\\bar\\sigma^2 + \\sigma_z^2},\\frac{\\bar\\sigma^2\\sigma_z^2}{\\bar\\sigma^2 + \\sigma_z^2})\n",
        "\\end{split}\n",
        "\\end{equation}\n",
        "\n",
        "\n",
        "For the update, we need to code the above equation:"
      ]
    },
    {
      "cell_type": "code",
      "metadata": {
        "id": "n28cS8wcEoH5"
      },
      "source": [
        "def gaussian_multiply(g1, g2):\n",
        "    #Note that we are using tuples:\n",
        "    mean = (g1.var * g2.mean + g2.var * g1.mean) / (g1.var + g2.var)\n",
        "    variance = (g1.var * g2.var) / (g1.var + g2.var)\n",
        "    return gaussian(mean, variance)\n",
        "\n",
        "def update(prior, likelihood):\n",
        "    posterior = gaussian_multiply(likelihood, prior)\n",
        "    return posterior"
      ],
      "execution_count": 50,
      "outputs": []
    },
    {
      "cell_type": "code",
      "metadata": {
        "colab": {
          "base_uri": "https://localhost:8080/"
        },
        "id": "1vYknUs4GpVf",
        "outputId": "73e320a1-a9c9-47e2-a8ef-d272c7b38fb9"
      },
      "source": [
        "# test the update function\n",
        "predicted_position = gaussian(10., .21**2)\n",
        "measured_position = gaussian(12., .23**2)\n",
        "estimated_position = update(predicted_position, measured_position)\n",
        "estimated_position"
      ],
      "execution_count": 51,
      "outputs": [
        {
          "output_type": "execute_result",
          "data": {
            "text/plain": [
              "𝒩(μ=10.909, 𝜎²=0.024)"
            ]
          },
          "metadata": {
            "tags": []
          },
          "execution_count": 51
        }
      ]
    },
    {
      "cell_type": "markdown",
      "metadata": {
        "id": "SYgcEQVgIBhs"
      },
      "source": [
        "### How does it help?\n",
        "\n",
        "In Bayesian approach, we learn via combining our prior knowledge with our current observation. But how does Gaussian multiplication work in this frame? Lets see over a simple exercise.\n"
      ]
    },
    {
      "cell_type": "code",
      "metadata": {
        "colab": {
          "base_uri": "https://localhost:8080/",
          "height": 287
        },
        "id": "3hIaHm6NMDYd",
        "outputId": "5be12231-c3e1-4f69-910a-226141e8bb29"
      },
      "source": [
        "# Imagine that we take two measurements, which are identical.\n",
        "# Our sensor is not perfect we are expecting a variance:\n",
        "z = gaussian(10., 1.)  \n",
        "# Lets multiply the Gaussians as we do in the update:\n",
        "product = gaussian_multiply(z, z)\n",
        "# Getting a range for plotting:\n",
        "xs = np.arange(5, 15, 0.1)\n",
        "#\n",
        "# Using filterpy stats to create data points for the Gaussian:\n",
        "ys = [stats.gaussian(x, z.mean, z.var) for x in xs]\n",
        "plt.figure(figsize=(7,3), dpi=100)\n",
        "plt.plot(xs, ys, label='$\\mathcal{N}(10,1)$')\n",
        "# Using filterpy stats to create data points for the multiplication:\n",
        "ys = [stats.gaussian(x, product.mean, product.var) for x in xs]\n",
        "plt.plot(xs, ys, label='$\\mathcal{N}(10,1) \\\\times \\mathcal{N}(10,1)$', ls='--');\n",
        "plt.legend()\n",
        "plt.show()"
      ],
      "execution_count": 52,
      "outputs": [
        {
          "output_type": "display_data",
          "data": {
            "image/png": "[encoded data removed]",
            "text/plain": [
              "<Figure size 700x300 with 1 Axes>"
            ]
          },
          "metadata": {
            "tags": [],
            "needs_background": "light"
          }
        }
      ]
    },
    {
      "cell_type": "code",
      "metadata": {
        "colab": {
          "base_uri": "https://localhost:8080/"
        },
        "id": "TcLivuB-NlXI",
        "outputId": "75454576-4852-4018-a0cf-39f64aa544fa"
      },
      "source": [
        "print(product)"
      ],
      "execution_count": 53,
      "outputs": [
        {
          "output_type": "stream",
          "text": [
            "𝒩(μ=10.000, 𝜎²=0.500)\n"
          ],
          "name": "stdout"
        }
      ]
    },
    {
      "cell_type": "markdown",
      "metadata": {
        "id": "jx2a0B1-NxqP"
      },
      "source": [
        "This is a very important illustration, as shows us how our confidence in the predictions increase as we make similar measurements.\n",
        "\n",
        "Now we will look at another example; where we have two different measurements with the same sensitivies: "
      ]
    },
    {
      "cell_type": "code",
      "metadata": {
        "colab": {
          "base_uri": "https://localhost:8080/",
          "height": 287
        },
        "id": "-siNkEm7OZw3",
        "outputId": "9681b644-ce35-4a00-98eb-33e1deac5e01"
      },
      "source": [
        "# Note that the variances are the same:\n",
        "z1 = gaussian(10.2, 1)\n",
        "z2 = gaussian(9.8, 1)\n",
        "self_plots.plot_products(z1, z2)"
      ],
      "execution_count": 54,
      "outputs": [
        {
          "output_type": "display_data",
          "data": {
            "image/png": "[encoded data removed]",
            "text/plain": [
              "<Figure size 700x300 with 1 Axes>"
            ]
          },
          "metadata": {
            "tags": [],
            "needs_background": "light"
          }
        }
      ]
    },
    {
      "cell_type": "markdown",
      "metadata": {
        "id": "zkG_fz6nOh_k"
      },
      "source": [
        "We again see that our confidence increases with increasing number of measurements. Moreover, for the measurements with the same reliability, they meet in the middle. "
      ]
    },
    {
      "cell_type": "code",
      "metadata": {
        "colab": {
          "base_uri": "https://localhost:8080/",
          "height": 287
        },
        "id": "l_XjFTUROwoV",
        "outputId": "a6233356-9c2f-457c-8b52-772fc714ebba"
      },
      "source": [
        "# Note that the variances are the different:\n",
        "z1 = gaussian(10.4, .5)\n",
        "z2 = gaussian(9.6, 1.5)\n",
        "self_plots.plot_products(z1, z2)"
      ],
      "execution_count": 55,
      "outputs": [
        {
          "output_type": "display_data",
          "data": {
            "image/png": "[encoded data removed]",
            "text/plain": [
              "<Figure size 700x300 with 1 Axes>"
            ]
          },
          "metadata": {
            "tags": [],
            "needs_background": "light"
          }
        }
      ]
    },
    {
      "cell_type": "code",
      "metadata": {
        "colab": {
          "base_uri": "https://localhost:8080/",
          "height": 287
        },
        "id": "9rDWd57JPE4Z",
        "outputId": "af237dd9-664f-4312-8515-6122fada3081"
      },
      "source": [
        "# Note that the variances are the different:\n",
        "z1 = gaussian(10.4, 1.5)\n",
        "z2 = gaussian(9.6, 0.5)\n",
        "self_plots.plot_products(z1, z2)"
      ],
      "execution_count": 56,
      "outputs": [
        {
          "output_type": "display_data",
          "data": {
            "image/png": "[encoded data removed]",
            "text/plain": [
              "<Figure size 700x300 with 1 Axes>"
            ]
          },
          "metadata": {
            "tags": [],
            "needs_background": "light"
          }
        }
      ]
    },
    {
      "cell_type": "markdown",
      "metadata": {
        "id": "U7U1Tia9PO3a"
      },
      "source": [
        "## Kalman Filtering: putting all together\n",
        "\n",
        "We are ready to combine all the tools we discussed so for to test the Kalman filter.\n",
        "\n",
        "We will use artificially generated data for a wandering robot in 1D space. "
      ]
    },
    {
      "cell_type": "code",
      "metadata": {
        "id": "SKDSWnaV9Fl-"
      },
      "source": [
        "# The class RobotSimulator is here to generate data to be used in \n",
        "# Kalman filter. It is modified from the textbook \"Kalman and Bayesian Filters in Python\".\n",
        "\n",
        "class RobotSimulator(object):\n",
        "\n",
        "    def __init__(self, x0=0, velocity=1,\n",
        "                 measurement_var=0.0, process_var=0.0):\n",
        "        \"\"\" x0 - initial position\n",
        "            velocity - (+=right, -=left)\n",
        "            measurement_variance - variance in measurement m^2\n",
        "            process_variance - variance in process (m/s)^2\n",
        "        \"\"\"\n",
        "        self.x = x0\n",
        "        self.velocity = velocity\n",
        "        self.measurement_noise = math.sqrt(measurement_var)\n",
        "        self.process_noise = math.sqrt(process_var)\n",
        "\n",
        "    def move(self, dt=1.0):\n",
        "        '''Compute new position of the robot assuming `dt` seconds have\n",
        "        passed since the last update.'''\n",
        "        # compute new position based on velocity with some process noise\n",
        "        velocity = self.velocity + randn() * self.process_noise * dt\n",
        "        self.x += velocity * dt\n",
        "\n",
        "    def sense_position(self):\n",
        "        # measuring the position with noise\n",
        "        return self.x + randn() * self.measurement_noise\n",
        "\n",
        "    def move_and_sense(self, dt=1.0):\n",
        "        self.move(dt)\n",
        "        x = copy.deepcopy(self.x)\n",
        "        return x, self.sense_position()\n",
        "\n",
        "    def run_simulation(self, dt=1, count=1):\n",
        "        \"\"\" simulate the robot moving over a period of time.\n",
        "        **Returns**\n",
        "        data : np.array[float, float]\n",
        "            2D array, first column contains actual position of the robot,\n",
        "            second column contains the measurement of that position\n",
        "        \"\"\"\n",
        "        return np.array([self.move_and_sense(dt) for i in range(count)])"
      ],
      "execution_count": 57,
      "outputs": []
    },
    {
      "cell_type": "markdown",
      "metadata": {
        "id": "n5Lc-nGx-moK"
      },
      "source": [
        "Lets run the simulation for preset variances in the process (robot moving given an order) and the sensor."
      ]
    },
    {
      "cell_type": "code",
      "metadata": {
        "colab": {
          "base_uri": "https://localhost:8080/"
        },
        "id": "ldjO945X-kRQ",
        "outputId": "08c81a6e-c862-46a7-c11c-e60e79692705"
      },
      "source": [
        "# Random seeding:\n",
        "np.random.seed(11)\n",
        "\n",
        "#Setting the variances:\n",
        "process_variance = 0.0618 # variance for the movement of the robot\n",
        "sensor_variance = 0.333  # variance in the sensory measurements\n",
        "\n",
        "# Initial position: imagine that we are not confident in this information.\n",
        "x = gaussian(0., 23.**2)  \n",
        "velocity = 1\n",
        "dt = 1. # time step in seconds\n",
        "\n",
        "print(x, x.mean, x.var)"
      ],
      "execution_count": 58,
      "outputs": [
        {
          "output_type": "stream",
          "text": [
            "𝒩(μ=0.000, 𝜎²=529.000) 0.0 529.0\n"
          ],
          "name": "stdout"
        }
      ]
    },
    {
      "cell_type": "code",
      "metadata": {
        "colab": {
          "base_uri": "https://localhost:8080/"
        },
        "id": "v-8Od5qoEEnn",
        "outputId": "be4ea70c-6f11-4a9d-a119-0006a180c8f2"
      },
      "source": [
        "#Defining our process model: how robot moves. We will ignore accelaration effects.\n",
        "process_model = gaussian(velocity, process_variance) \n",
        "print(process_model)"
      ],
      "execution_count": 59,
      "outputs": [
        {
          "output_type": "stream",
          "text": [
            "𝒩(μ=1.000, 𝜎²=0.062)\n"
          ],
          "name": "stdout"
        }
      ]
    },
    {
      "cell_type": "code",
      "metadata": {
        "id": "AK6sWMdVAZZd"
      },
      "source": [
        "# We have an initial position and a model telling us how the robot moves.\n",
        "# Lets use the simulator to generate data:\n",
        "robo_x = RobotSimulator(\n",
        "    x0=x.mean, \n",
        "    velocity=process_model.mean, \n",
        "    measurement_var=sensor_variance, \n",
        "    process_var=process_model.var)"
      ],
      "execution_count": 60,
      "outputs": []
    },
    {
      "cell_type": "code",
      "metadata": {
        "colab": {
          "base_uri": "https://localhost:8080/"
        },
        "id": "4IQFq4qTFASH",
        "outputId": "0c50cf14-dac6-4097-df9f-76c783cfaca8"
      },
      "source": [
        "# creating the data...\n",
        "data = robo_x.run_simulation(dt=1, count=10)\n",
        "print(data)"
      ],
      "execution_count": 61,
      "outputs": [
        {
          "output_type": "stream",
          "text": [
            "[[ 1.43  1.27]\n",
            " [ 2.31  0.78]\n",
            " [ 3.31  3.13]\n",
            " [ 4.18  4.36]\n",
            " [ 5.28  4.67]\n",
            " [ 6.06  5.79]\n",
            " [ 7.23  7.56]\n",
            " [ 7.91  7.26]\n",
            " [ 9.09 10.  ]\n",
            " [10.09  9.69]]\n"
          ],
          "name": "stdout"
        }
      ]
    },
    {
      "cell_type": "code",
      "metadata": {
        "colab": {
          "base_uri": "https://localhost:8080/"
        },
        "id": "D9E7Gz4WFzJ4",
        "outputId": "eb0e0227-a9d3-425f-8b02-cd6e0ff67c14"
      },
      "source": [
        "# perform Kalman filter on measurements:\n",
        "#-------------------------------------------------------\n",
        "# printout formatting...\n",
        "print('PREDICT\\t\\t\\tUPDATE')\n",
        "print('     x      var\\t\\t  z\\t    x      var')\n",
        "predict_template = '{: 7.3f} {: 8.3f}'\n",
        "update_template = '{:.3f}\\t{: 7.3f} {: 7.3f}'\n",
        "#-------------------------------------------------------\n",
        "for z in data:    \n",
        "    prior = predict(x, process_model)\n",
        "    likelihood = gaussian(z[1], sensor_variance)\n",
        "    x = update(prior, likelihood)\n",
        "    print(predict_template.format(prior[0], prior[1]),end='\\t')\n",
        "    print(update_template.format(z[1], x[0], x[1]))\n",
        "\n",
        "print()\n",
        "print('final estimate:        {:10.3f}'.format(x.mean))\n",
        "print('actual final position: {:10.3f}'.format(robo_x.x))\n",
        "\n"
      ],
      "execution_count": 62,
      "outputs": [
        {
          "output_type": "stream",
          "text": [
            "PREDICT\t\t\tUPDATE\n",
            "     x      var\t\t  z\t    x      var\n",
            "  1.000  529.062\t1.270\t  1.270   0.333\n",
            "  2.270    0.395\t0.783\t  1.464   0.181\n",
            "  2.464    0.242\t3.128\t  2.743   0.140\n",
            "  3.743    0.202\t4.361\t  3.977   0.126\n",
            "  4.977    0.188\t4.669\t  4.866   0.120\n",
            "  5.866    0.182\t5.789\t  5.839   0.118\n",
            "  6.839    0.179\t7.559\t  7.091   0.117\n",
            "  8.091    0.178\t7.264\t  7.802   0.116\n",
            "  8.802    0.178\t10.002\t  9.220   0.116\n",
            " 10.220    0.178\t9.691\t 10.036   0.116\n",
            "\n",
            "final estimate:            10.036\n",
            "actual final position:     10.086\n"
          ],
          "name": "stdout"
        }
      ]
    },
    {
      "cell_type": "markdown",
      "metadata": {
        "id": "eTjyGfIVJwKl"
      },
      "source": [
        "### Plotting the results\n",
        "\n",
        "Lets run the simulation and the filter for a longer period of time and plot the results:"
      ]
    },
    {
      "cell_type": "code",
      "metadata": {
        "id": "pdiKrxrXJ3qb"
      },
      "source": [
        "#Input data:\n",
        "#-------------------------\n",
        "process_variance = 1.618 \n",
        "sensor_variance = 1.618**3\n",
        "x = gaussian(0., 23.**2)  \n",
        "velocity = 1\n",
        "dt = 1. \n",
        "process_model = gaussian(velocity, process_variance) \n",
        "N = 20\n",
        "#Calling simulator to generate data:\n",
        "robo_x = RobotSimulator(x.mean, process_model.mean, sensor_variance, process_variance)\n",
        "data = robo_x.run_simulation(dt=dt, count=N)"
      ],
      "execution_count": 63,
      "outputs": []
    },
    {
      "cell_type": "code",
      "metadata": {
        "id": "D2aw0ZTANGPp"
      },
      "source": [
        "#Arrays for plotting:\n",
        "x_data, priors = np.zeros((N, 2)), np.zeros((N, 2))\n",
        "\n",
        "for i, z in enumerate(data):    \n",
        "    prior = predict(x, process_model)\n",
        "    likelihood = gaussian(z[1], sensor_variance)\n",
        "    x = update(prior, likelihood)\n",
        "    priors[i] = prior\n",
        "    x_data[i] = x"
      ],
      "execution_count": 64,
      "outputs": []
    },
    {
      "cell_type": "code",
      "metadata": {
        "colab": {
          "base_uri": "https://localhost:8080/",
          "height": 287
        },
        "id": "35ynzGmsL6Br",
        "outputId": "6497d830-eaa5-4fdb-9102-efdab85f752f"
      },
      "source": [
        "plt.figure(figsize=(7,3), dpi=100)\n",
        "self_plots.plot_measurements(data[:,1])\n",
        "self_plots.plot_filter(x_data[:, 0], var=priors[:, 1])\n",
        "self_plots.plot_predictions(priors[:, 0])\n",
        "self_plots.show_legend()"
      ],
      "execution_count": 65,
      "outputs": [
        {
          "output_type": "display_data",
          "data": {
            "image/png": "[encoded data removed]",
            "text/plain": [
              "<Figure size 700x300 with 1 Axes>"
            ]
          },
          "metadata": {
            "tags": [],
            "needs_background": "light"
          }
        }
      ]
    },
    {
      "cell_type": "markdown",
      "metadata": {
        "id": "WwOAx_yLRhSO"
      },
      "source": [
        "## Using filterpy\n",
        "\n",
        "We have gone over the underlying reasoning behind Kalman filters. Now we will learn simply call it from filterpy library.\n",
        "\n",
        "https://filterpy.readthedocs.io/en/latest/#filterpy-kalman\n",
        "\n",
        "The classes in this submodule implement the various Kalman filters. There is also support for smoother functions.\n",
        "\n",
        "In order to use these variants properly we need to visit the nomenclature of filtering community. Unfortunately, the symbols show variety from book to book, paper to paper but filterpy uses mainstream symbols, which may help you to use other sources as well. "
      ]
    },
    {
      "cell_type": "markdown",
      "metadata": {
        "id": "AH0zRx_ASW_4"
      },
      "source": [
        "+ P := variance of the state\n",
        "\n",
        "+ Q := process noise \n",
        "\n",
        "+ R := measurement noise\n",
        "\n",
        "+ z:= measurement\n",
        "\n",
        "+ K:= Kalman gain\n",
        "\n",
        "K is a concept we are already familiar with from our previous discussions on DMD. If we revisit the Bayesian learning formulation for the posterior, the mean is given by:\n",
        "\n",
        "$\\mu=\\frac{\\bar\\sigma^2\\, \\mu_z + \\sigma_z^2 \\, \\bar\\mu} {\\bar\\sigma^2 + \\sigma_z^2}$\n",
        "\n",
        "which can be rewritten as:\n",
        "\n",
        "$\\mu = \\left( \\frac{\\bar\\sigma^2}{\\bar\\sigma^2 + \\sigma_z^2}\\right) \\mu_z + \\left(\\frac{\\sigma_z^2}{\\bar\\sigma^2 + \\sigma_z^2}\\right)\\bar\\mu$\n",
        "\n",
        "note that $\\bar i$ indicates the prior. \n",
        "\n",
        "Therefore, we can consider, the variance terms like weighing factors:\n",
        "\n",
        "$\\mu = W_1 \\mu_z + W_2 \\bar\\mu$\n",
        "\n",
        "If we substitute one of the weights with K;\n",
        "\n",
        "$K = \\frac {\\bar\\sigma^2}{\\bar\\sigma^2 + \\sigma_z^2}$\n",
        "\n",
        "the equation becomes:\n",
        "\n",
        "$\\mu = K \\mu_z + (1-K) \\bar\\mu$\n",
        "\n",
        "$\\mu = \\bar\\mu + K(\\mu_z - \\bar\\mu)$\n",
        "\n",
        "We can also express the variance as a function of the Kalman gain:\n",
        "\n",
        "$\\sigma^2 = \\frac{\\bar\\sigma^2 \\sigma_z^2 } {\\bar\\sigma^2 + \\sigma_z^2}$\n",
        "\n",
        "$\\sigma^2 = K\\sigma_z^2$\n",
        "\n",
        "$\\sigma^2 = (1-K)\\bar\\sigma^2$\n",
        "\n",
        "If we rewrite our filter code with these variables, we need the following substitutions:\n",
        "\n",
        "```\n",
        "def update(prior, measurement):\n",
        "    x, P = prior        # mean and variance of prior\n",
        "    z, R = measurement  # mean and variance of measurement\n",
        "    \n",
        "    y = z - x        # residual\n",
        "    K = P / (P + R)  # Kalman gain\n",
        "\n",
        "    x = x + K*y      # posterior\n",
        "    P = (1 - K) * P  # posterior variance\n",
        "    return gaussian(x, P)\n",
        "\n",
        "def predict(posterior, movement):\n",
        "    x, P = posterior # mean and variance of posterior\n",
        "    dx, Q = movement # mean and variance of movement\n",
        "    x = x + dx\n",
        "    P = P + Q\n",
        "    return gaussian(x, P)\n",
        "```"
      ]
    },
    {
      "cell_type": "markdown",
      "metadata": {
        "id": "JFy63UhxWg3K"
      },
      "source": [
        "This was the way we worked with the g-h filter. It emphasizes taking the residual $y = \\mu_z - \\bar\\mu$, finding the Kalman gain as a ratio of our uncertainty in the prior and measurement $K=P/(P+R)$, and computing the posterior by adding $K_y$ to the prior.\n",
        "\n",
        "Note that The Bayesian aspect is not visible in this form, as is the fact that we are multiplying the likelihood by the prior. "
      ]
    },
    {
      "cell_type": "markdown",
      "metadata": {
        "id": "o_IUjl9ZWQgU"
      },
      "source": [
        "This is also the case in `filterpy`:\n",
        "\n",
        "https://filterpy.readthedocs.io/en/latest/kalman/KalmanFilter.html\n",
        "\n"
      ]
    },
    {
      "cell_type": "markdown",
      "metadata": {
        "id": "-WySIEemXzOw"
      },
      "source": [
        "### Using filterpy in our example"
      ]
    },
    {
      "cell_type": "code",
      "metadata": {
        "id": "h1lYNfptX_dv"
      },
      "source": [
        "# Random seeding:\n",
        "np.random.seed(11)\n",
        "\n",
        "#Input data:\n",
        "#-------------------------\n",
        "#Setting the variances:\n",
        "Q = 1.618 # variance for the movement of the robot\n",
        "R = 1.618**3  # variance in the sensory measurements\n",
        "\n",
        "# Initial position: imagine that we are not confident in this information.\n",
        "x = 0.\n",
        "P = 23.**2\n",
        "\n",
        "u = 1\n",
        "dt = 1. # time step in seconds"
      ],
      "execution_count": 66,
      "outputs": []
    },
    {
      "cell_type": "code",
      "metadata": {
        "id": "eA46PubPX_dx"
      },
      "source": [
        "# We have an initial position and a model telling us how the robot moves.\n",
        "# Lets use the simulator to generate data:\n",
        "robo_x = RobotSimulator(\n",
        "    x0=x, \n",
        "    velocity=u, \n",
        "    measurement_var=R, \n",
        "    process_var=Q)"
      ],
      "execution_count": 67,
      "outputs": []
    },
    {
      "cell_type": "code",
      "metadata": {
        "colab": {
          "base_uri": "https://localhost:8080/"
        },
        "id": "1RoFBPncX_dy",
        "outputId": "902db97a-a587-4d82-ad45-60dfdbd2d1f7"
      },
      "source": [
        "# creating the data...\n",
        "data = robo_x.run_simulation(dt=1, count=20)\n",
        "print(data)"
      ],
      "execution_count": 68,
      "outputs": [
        {
          "output_type": "stream",
          "text": [
            "[[ 3.23  2.64]\n",
            " [ 3.61 -1.85]\n",
            " [ 4.6   3.94]\n",
            " [ 4.92  5.56]\n",
            " [ 6.45  4.26]\n",
            " [ 6.32  5.34]\n",
            " [ 8.2   9.36]\n",
            " [ 7.54  5.24]\n",
            " [ 9.48 12.72]\n",
            " [10.44  9.03]\n",
            " [12.83 12.19]\n",
            " [14.76 17.94]\n",
            " [16.56 16.71]\n",
            " [18.49 17.17]\n",
            " [19.26 18.08]\n",
            " [20.   19.  ]\n",
            " [20.77 19.98]\n",
            " [21.88 22.01]\n",
            " [23.26 26.14]\n",
            " [22.29 24.95]]\n"
          ],
          "name": "stdout"
        }
      ]
    },
    {
      "cell_type": "code",
      "metadata": {
        "id": "dub5jhQvaBT2"
      },
      "source": [
        "#Arrays for plotting:\n",
        "x_data, priors = np.zeros((N, 2)), np.zeros((N, 2))\n",
        "\n",
        "for i, z in enumerate(data):\n",
        "  x,P = kf.predict(x=x, P=P, u=u, Q=Q)\n",
        "  priors[i] = x,P\n",
        "  x, P = kf.update(x=x, P=P, z=z[1], R=R)\n",
        "  x_data[i] = x, P"
      ],
      "execution_count": 69,
      "outputs": []
    },
    {
      "cell_type": "code",
      "metadata": {
        "colab": {
          "base_uri": "https://localhost:8080/",
          "height": 287
        },
        "id": "Y0QNwi3NaBT2",
        "outputId": "aef4974a-9061-41a4-d5d1-f82ae3745857"
      },
      "source": [
        "plt.figure(figsize=(7,3), dpi=100)\n",
        "self_plots.plot_measurements(data[:,1])\n",
        "self_plots.plot_filter(x_data[:, 0], var=priors[:, 1])\n",
        "self_plots.plot_predictions(priors[:, 0])\n",
        "self_plots.show_legend()"
      ],
      "execution_count": 70,
      "outputs": [
        {
          "output_type": "display_data",
          "data": {
            "image/png": "[encoded data removed]",
            "text/plain": [
              "<Figure size 700x300 with 1 Axes>"
            ]
          },
          "metadata": {
            "tags": [],
            "needs_background": "light"
          }
        }
      ]
    },
    {
      "cell_type": "markdown",
      "metadata": {
        "id": "MEUSzr55B3Gn"
      },
      "source": [
        "# Multivariate Kalman filter\n",
        "\n",
        "The filterpy implementation of the Kalman filter was already in multidimensional form. We will use it for a multi-dimensional particle tracking problem.\n",
        "\n",
        "This increase in the number of dimensions necessitaetes the use of a multivariate Gaussian represented with the state vector x and its corresponding covariance matrix P, rather than single values:\n",
        "\n",
        "$\\mathbf x =\\begin{bmatrix}x \\\\ y \\\\ \\dot x \\\\ \\dot y\\end{bmatrix}$\n",
        "\n",
        "This will be now our initial state."
      ]
    },
    {
      "cell_type": "code",
      "metadata": {
        "id": "LXrdy5rPDDyC"
      },
      "source": [
        "x = np.array([10.0, 10.0, 3., 4.])"
      ],
      "execution_count": 71,
      "outputs": []
    },
    {
      "cell_type": "markdown",
      "metadata": {
        "id": "9NJNygAPEQ2R"
      },
      "source": [
        "In the univariate Kalman filter we specified an initial value for $σ^2$, and then the filter took care of updating its value as measurements were added to the filter. The same thing happens in the multidimensional Kalman filter. We specify an initial value for **P** and the filter updates it during each epoch.\n",
        "\n",
        "Note that this time P is matrix of uncertainty for all states; a covariance matrix. Since it will be updated at each step in the filtering, we can enter zero for the covariances, unless there is a reason to enter a certain value (an additionall information).\n"
      ]
    },
    {
      "cell_type": "code",
      "metadata": {
        "colab": {
          "base_uri": "https://localhost:8080/"
        },
        "id": "mUlOi66GFUNk",
        "outputId": "9514f2c4-0eff-43da-d98c-98debda44c55"
      },
      "source": [
        "P = np.diag([100., 100., 30., 40.])\n",
        "print(P)"
      ],
      "execution_count": 72,
      "outputs": [
        {
          "output_type": "stream",
          "text": [
            "[[100.   0.   0.   0.]\n",
            " [  0. 100.   0.   0.]\n",
            " [  0.   0.  30.   0.]\n",
            " [  0.   0.   0.  40.]]\n"
          ],
          "name": "stdout"
        }
      ]
    },
    {
      "cell_type": "markdown",
      "metadata": {
        "id": "mehCjPazFh7v"
      },
      "source": [
        "The next step is designing the process model. In the 1D case, we used a simple relationship for that purpose:\n",
        "\n",
        "$x = v \\Delta t + x_i$\n",
        "\n",
        "In multidimensional case, we will use matrix notations to define the governing equations:\n",
        "\n",
        "$\n",
        "\\begin{bmatrix}x \\\\ y \\\\ \\dot x \\\\ \\dot y\\end{bmatrix}_{t+1}=\n",
        "\\begin{bmatrix}1&0&dt&0 \\\\ 0&1&0&dt\\\\ 0&0&1&0\\\\ 0&0&0&1\\end{bmatrix}\n",
        "\\begin{bmatrix}x \\\\ y \\\\ \\dot x \\\\ \\dot y\\end{bmatrix}_{t}\n",
        "$ \n",
        "\n",
        "This matrix is called the state transition function or the state transition matrix,denoted with **F**. It is called function as the matrix is typically replaced by function representations."
      ]
    },
    {
      "cell_type": "markdown",
      "metadata": {
        "id": "M9rduPHrIBkF"
      },
      "source": [
        "The next step is the process noise co-variance matrix **Q** (the noise is assumed to be white). It  gives information about the errors caused during the process. Instead of a single value, here we have a matrix:\n",
        "\n",
        "\n",
        "\n",
        "$\n",
        "\\begin{bmatrix}σ_{x}^2&σ_{xy}&σ_{x\\dot x} &σ_{x\\dot y} \\\\ σ_{yx}&σ_{y}^2&σ_{\\dot y x}&σ_{y\\dot y}\\\\ σ_{\\dot x x}&σ_{\\dot x y}&σ_{\\dot x}^2&σ_{\\dot x \\dot y}\\\\ σ_{\\dot y x}&σ_{\\dot y y}&σ_{\\dot y \\dot x}&σ_{\\dot y}^2\\end{bmatrix}\n",
        "$\n",
        "\n",
        "It is needed to derived from the expected value of the white noise w. For kinematic problems, `filterpy` includes helpe functions for that purpose:"
      ]
    },
    {
      "cell_type": "code",
      "metadata": {
        "colab": {
          "base_uri": "https://localhost:8080/"
        },
        "id": "2vneLgvNJuLa",
        "outputId": "48290a4c-3ec1-427e-81f8-bac894ad9ff9"
      },
      "source": [
        "#dim: specifies the dimension of the matrix\n",
        "# dt: time step in seconds\n",
        "#var: the variance in the noise \n",
        "Q = Q_discrete_white_noise(dim=4, dt=1., var=1.618)\n",
        "print(Q)"
      ],
      "execution_count": 73,
      "outputs": [
        {
          "output_type": "stream",
          "text": [
            "[[0.04 0.13 0.27 0.27]\n",
            " [0.13 0.4  0.81 0.81]\n",
            " [0.27 0.81 1.62 1.62]\n",
            " [0.27 0.81 1.62 1.62]]\n"
          ],
          "name": "stdout"
        }
      ]
    },
    {
      "cell_type": "markdown",
      "metadata": {
        "id": "VSyNnUhzL2_I"
      },
      "source": [
        "Impact of external control variables (like steering, braking, acceleration, etc.) is possible via integrating the control matrix into Kalman filter.\n",
        "\n",
        "In other words, Kalman filter equations incorporate that knowledge into the filter equations, creating a predicted position based both on current velocity and control inputs to the drive motors. \n",
        "\n",
        "In the case of controlled system, prior is determined via:\n",
        "\n",
        "$\\mathbf{\\bar x} = \\mathbf{Fx} + \\mathbf{Bu}$\n",
        "\n",
        "where u is the control input and B is the control function (analogous to F). "
      ]
    },
    {
      "cell_type": "markdown",
      "metadata": {
        "id": "7PRxfL3NMU5f"
      },
      "source": [
        "When creating a filter, we need to set:\n",
        "\n",
        "+ x, P: the state and covariance,\n",
        "+ F, Q: the process model and  process noise co-variance matrix\n",
        "+ B,u: Optional; the control input and function.\n",
        "\n",
        "\n",
        "The next step is the information coming from the sensors. Both the measurement **z** and state **x** are vectors so we need to use a matrices to perform the conversion while calculating the posterior. \n",
        "\n",
        "The Kalman filter equation that performs this step is:\n",
        "\n",
        "$\n",
        "\\mathbf y = \\mathbf z - \\mathbf{H \\bar x}\n",
        "$\n",
        "\n",
        "where **H** is the measuring matrix or the measurement function. Similarly, noise is represented in an array, that is the measurement noise covariance matrix **R**. The matrix will have dimension m×m, where m is the number of sensors.\n"
      ]
    },
    {
      "cell_type": "markdown",
      "metadata": {
        "id": "I7ItxCrvPKSB"
      },
      "source": [
        "## Example: particle tracking in 2D"
      ]
    },
    {
      "cell_type": "code",
      "metadata": {
        "colab": {
          "base_uri": "https://localhost:8080/"
        },
        "id": "YJLoWGJTPMYC",
        "outputId": "8495e194-d8ef-432a-9641-788ec4ccb1f3"
      },
      "source": [
        "#creating an object with default values for all the Kalman filter matrices:\n",
        "#we will see that it initializes F, P, R and Q to the identity matrix. Unknowns are\n",
        "#taken as zero:\n",
        "particle_filter = KalmanFilter(dim_x=4, dim_z=2)\n",
        "particle_filter"
      ],
      "execution_count": 74,
      "outputs": [
        {
          "output_type": "execute_result",
          "data": {
            "text/plain": [
              "KalmanFilter object\n",
              "dim_x = 4\n",
              "dim_z = 2\n",
              "dim_u = 0\n",
              "x = [[0. 0. 0. 0.]].T\n",
              "P = [[1. 0. 0. 0.]\n",
              "     [0. 1. 0. 0.]\n",
              "     [0. 0. 1. 0.]\n",
              "     [0. 0. 0. 1.]]\n",
              "x_prior = [[0. 0. 0. 0.]].T\n",
              "P_prior = [[1. 0. 0. 0.]\n",
              "           [0. 1. 0. 0.]\n",
              "           [0. 0. 1. 0.]\n",
              "           [0. 0. 0. 1.]]\n",
              "x_post = [[0. 0. 0. 0.]].T\n",
              "P_post = [[1. 0. 0. 0.]\n",
              "          [0. 1. 0. 0.]\n",
              "          [0. 0. 1. 0.]\n",
              "          [0. 0. 0. 1.]]\n",
              "F = [[1. 0. 0. 0.]\n",
              "     [0. 1. 0. 0.]\n",
              "     [0. 0. 1. 0.]\n",
              "     [0. 0. 0. 1.]]\n",
              "Q = [[1. 0. 0. 0.]\n",
              "     [0. 1. 0. 0.]\n",
              "     [0. 0. 1. 0.]\n",
              "     [0. 0. 0. 1.]]\n",
              "R = [[1. 0.]\n",
              "     [0. 1.]]\n",
              "H = [[0. 0. 0. 0.]\n",
              "     [0. 0. 0. 0.]]\n",
              "K = [[0. 0.]\n",
              "     [0. 0.]\n",
              "     [0. 0.]\n",
              "     [0. 0.]]\n",
              "y = [[0. 0.]].T\n",
              "S = [[0. 0.]\n",
              "     [0. 0.]]\n",
              "SI = [[0. 0.]\n",
              "      [0. 0.]]\n",
              "M = [[0. 0.]\n",
              "     [0. 0.]]\n",
              "B = None\n",
              "z = [[None None]].T\n",
              "log-likelihood = -708.3964185322641\n",
              "likelihood = 2.2250738585072014e-308\n",
              "mahalanobis = 0.0\n",
              "alpha = 1.0\n",
              "inv = <function inv at 0x7f4fe2b5d4d0>"
            ]
          },
          "metadata": {
            "tags": []
          },
          "execution_count": 74
        }
      ]
    },
    {
      "cell_type": "code",
      "metadata": {
        "id": "mrtME88-QSsm"
      },
      "source": [
        "# Aux. function to create case-specific filter object:\n",
        "# no control over the system here...\n",
        "def pos_vel_filter(x, P, R, Q=0., dim_x = 4, dim_z = 2, dt=1.0):\n",
        "    \"\"\" Returns a KalmanFilter which implements a\n",
        "    constant velocity model for a state [x dx].T\n",
        "    \"\"\"\n",
        "    kf = KalmanFilter(dim_x=dim_x, dim_z=dim_z)\n",
        "    kf.x = np.array([x[0],x[1],x[2],x[3]]) # locations and velocities\n",
        "    #kinematic equations:\n",
        "    kf.F = np.array([[1., 0., dt, 0.],\n",
        "                     [0., 1., 0., dt],\n",
        "                     [0., 0., 1., 0.],\n",
        "                     [0., 0., 0., 1.]])  # state transition matrix\n",
        "    kf.H = np.array([[0., 0., 1., 0.],\n",
        "                     [0., 0., 0., 1.]])    # Measurement function\n",
        "    kf.R *= R                     # measurement uncertainty\n",
        "    if np.isscalar(P):\n",
        "        kf.P *= P                 # covariance matrix \n",
        "    else:\n",
        "        kf.P[:] = P               # [:] makes deep copy\n",
        "    if np.isscalar(Q):\n",
        "        kf.Q = Q_discrete_white_noise(dim=dim_x, dt=dt, var=Q)\n",
        "    else:\n",
        "        kf.Q[:] = Q\n",
        "    return kf"
      ],
      "execution_count": 75,
      "outputs": []
    },
    {
      "cell_type": "code",
      "metadata": {
        "id": "aXUq48YrR-9Y"
      },
      "source": [
        "# We need to pass x,P,Q,R\n",
        "dt = .1\n",
        "x = np.array([0., 0., 30., 10.]) \n",
        "# calling filter function:\n",
        "kf = pos_vel_filter(x, P=12, R=6, Q=1, dt=dt)"
      ],
      "execution_count": 76,
      "outputs": []
    },
    {
      "cell_type": "code",
      "metadata": {
        "colab": {
          "base_uri": "https://localhost:8080/"
        },
        "id": "LpDkXUmTTHyG",
        "outputId": "4e012d30-c889-4c5d-fdc4-7438d3c4628c"
      },
      "source": [
        "#Lets see...\n",
        "kf"
      ],
      "execution_count": 77,
      "outputs": [
        {
          "output_type": "execute_result",
          "data": {
            "text/plain": [
              "KalmanFilter object\n",
              "dim_x = 4\n",
              "dim_z = 2\n",
              "dim_u = 0\n",
              "x = [ 0.  0. 30. 10.]\n",
              "P = [[12.  0.  0.  0.]\n",
              "     [ 0. 12.  0.  0.]\n",
              "     [ 0.  0. 12.  0.]\n",
              "     [ 0.  0.  0. 12.]]\n",
              "x_prior = [[0. 0. 0. 0.]].T\n",
              "P_prior = [[1. 0. 0. 0.]\n",
              "           [0. 1. 0. 0.]\n",
              "           [0. 0. 1. 0.]\n",
              "           [0. 0. 0. 1.]]\n",
              "x_post = [[0. 0. 0. 0.]].T\n",
              "P_post = [[1. 0. 0. 0.]\n",
              "          [0. 1. 0. 0.]\n",
              "          [0. 0. 1. 0.]\n",
              "          [0. 0. 0. 1.]]\n",
              "F = [[1.  0.  0.1 0. ]\n",
              "     [0.  1.  0.  0.1]\n",
              "     [0.  0.  1.  0. ]\n",
              "     [0.  0.  0.  1. ]]\n",
              "Q = [[0.   0.   0.   0.  ]\n",
              "     [0.   0.   0.   0.01]\n",
              "     [0.   0.   0.01 0.1 ]\n",
              "     [0.   0.01 0.1  1.  ]]\n",
              "R = [[6. 0.]\n",
              "     [0. 6.]]\n",
              "H = [[0. 0. 1. 0.]\n",
              "     [0. 0. 0. 1.]]\n",
              "K = [[0. 0.]\n",
              "     [0. 0.]\n",
              "     [0. 0.]\n",
              "     [0. 0.]]\n",
              "y = [[0. 0.]].T\n",
              "S = [[0. 0.]\n",
              "     [0. 0.]]\n",
              "SI = [[0. 0.]\n",
              "      [0. 0.]]\n",
              "M = [[0. 0.]\n",
              "     [0. 0.]]\n",
              "B = None\n",
              "z = [[None None]].T\n",
              "log-likelihood = -708.3964185322641\n",
              "likelihood = 2.2250738585072014e-308\n",
              "mahalanobis = 0.0\n",
              "alpha = 1.0\n",
              "inv = <function inv at 0x7f4fe2b5d4d0>"
            ]
          },
          "metadata": {
            "tags": []
          },
          "execution_count": 77
        }
      ]
    },
    {
      "cell_type": "code",
      "metadata": {
        "id": "TD6ZoAs-UWeh"
      },
      "source": [
        "# Data generation:\n",
        "def compute_data(x, z_var, process_var, count=1, dt=1.):\n",
        "    \"returns track, measurements 1D ndarrays\"\n",
        "    x,y, vel_x, vel_y = x[0],x[1],x[2],x[3]\n",
        "    \n",
        "    if np.isscalar(z_var):\n",
        "      z_std_u = math.sqrt(z_var) \n",
        "      z_std_v = math.sqrt(z_var)     \n",
        "    else:\n",
        "      z_std_u = math.sqrt(z_var[0][0])\n",
        "      z_std_v = math.sqrt(z_var[1][1])               \n",
        "\n",
        "    p_std = math.sqrt(process_var)\n",
        "    xs, zs = [], []\n",
        "    for _ in range(count):\n",
        "        u = vel_x + (randn() * p_std)\n",
        "        v = vel_y + (randn() * p_std)\n",
        "        x += u*dt\n",
        "        y += v*dt         \n",
        "        xs.append([x,y])\n",
        "        zs.append([u + randn() * z_std_u, y + randn() * z_std_v ])        \n",
        "    return np.array(xs), np.array(zs)"
      ],
      "execution_count": 128,
      "outputs": []
    },
    {
      "cell_type": "code",
      "metadata": {
        "id": "1uwW6G-MUFBj"
      },
      "source": [
        "def run(x0=(0.,0.,0.,0.), P=12, R=6, Q=1, dt=1.0, \n",
        "        track=None, zs=None, do_plot=True,\n",
        "        count=0, **kwargs):\n",
        "    \"\"\"\n",
        "    track is the actual position, \n",
        "    zs are the corresponding measurements. \n",
        "    \"\"\"\n",
        "\n",
        "    # Simulate process if no data provided:\n",
        "    if zs is None:\n",
        "        track, zs = compute_data(x0, R, Q, count)\n",
        "\n",
        "    # create the Kalman filter:\n",
        "    kf = pos_vel_filter(x0, R=R, P=P, Q=Q, dt=dt)  \n",
        "\n",
        "    # run the kalman filter and store the results:\n",
        "    xs, cov = [], []\n",
        "    for z in zs:\n",
        "        kf.predict()\n",
        "        kf.update(z)\n",
        "        xs.append(kf.x)\n",
        "        cov.append(kf.P)\n",
        "\n",
        "    xs, cov = np.array(xs), np.array(cov)\n",
        "    if do_plot:\n",
        "      #x_position:\n",
        "      self_plots.plot_tracks_2(xs[:, 0], track[:, 0],count=count)\n",
        "\n",
        "    return xs, cov"
      ],
      "execution_count": 129,
      "outputs": []
    },
    {
      "cell_type": "code",
      "metadata": {
        "colab": {
          "base_uri": "https://localhost:8080/",
          "height": 295
        },
        "id": "x3DYC4gnXeo8",
        "outputId": "ca06a3e9-3839-4bc3-cd05-1c3b8269395f"
      },
      "source": [
        "# We need to pass x,P,Q,R\n",
        "dt = 1\n",
        "x = np.array([0., 0., 1, 1]) \n",
        "R = np.array([[0.1, 0.],\n",
        "              [0.,1.]]) \n",
        "Ms, Ps = run(x0=x, count=50, P=2, R=R, Q=1, dt=dt)"
      ],
      "execution_count": 132,
      "outputs": [
        {
          "output_type": "display_data",
          "data": {
            "image/png": "[encoded data removed]",
            "text/plain": [
              "<Figure size 432x288 with 1 Axes>"
            ]
          },
          "metadata": {
            "tags": [],
            "needs_background": "light"
          }
        }
      ]
    },
    {
      "cell_type": "code",
      "metadata": {
        "colab": {
          "base_uri": "https://localhost:8080/"
        },
        "id": "m8VxchA2YU-G",
        "outputId": "016a6b41-e2bb-4e96-cd8c-223c30b03575"
      },
      "source": [
        "Ms[-1]"
      ],
      "execution_count": 133,
      "outputs": [
        {
          "output_type": "execute_result",
          "data": {
            "text/plain": [
              "array([  42.74, 1212.66,    1.73,   25.08])"
            ]
          },
          "metadata": {
            "tags": []
          },
          "execution_count": 133
        }
      ]
    },
    {
      "cell_type": "code",
      "metadata": {
        "colab": {
          "base_uri": "https://localhost:8080/"
        },
        "id": "Azbfk1KKYbHW",
        "outputId": "c2b63837-eeac-41d0-a028-41433ca86b87"
      },
      "source": [
        "Ps[-1]"
      ],
      "execution_count": 134,
      "outputs": [
        {
          "output_type": "execute_result",
          "data": {
            "text/plain": [
              "array([[ 7.37,  0.04,  0.03, -0.07],\n",
              "       [ 0.04, 51.53, -0.04,  0.95],\n",
              "       [ 0.03, -0.04,  0.08,  0.08],\n",
              "       [-0.07,  0.95,  0.08,  0.1 ]])"
            ]
          },
          "metadata": {
            "tags": []
          },
          "execution_count": 134
        }
      ]
    },
    {
      "cell_type": "code",
      "metadata": {
        "id": "Anq2um4Fkb5i"
      },
      "source": [
        "x0=x\n",
        "count=50\n",
        "R=2\n",
        "Q=1\n",
        "track, zs = compute_data(x0, R, Q, count)\n"
      ],
      "execution_count": 135,
      "outputs": []
    },
    {
      "cell_type": "code",
      "metadata": {
        "colab": {
          "base_uri": "https://localhost:8080/"
        },
        "id": "2YBezbtVlTnA",
        "outputId": "be515ed1-e4ff-4076-af6d-478019e53397"
      },
      "source": [
        "zs[:3]"
      ],
      "execution_count": 136,
      "outputs": [
        {
          "output_type": "execute_result",
          "data": {
            "text/plain": [
              "array([[ 1.2 ,  0.87],\n",
              "       [-0.24,  0.52],\n",
              "       [-0.07,  0.41]])"
            ]
          },
          "metadata": {
            "tags": []
          },
          "execution_count": 136
        }
      ]
    },
    {
      "cell_type": "code",
      "metadata": {
        "colab": {
          "base_uri": "https://localhost:8080/",
          "height": 306
        },
        "id": "MnxtJK9vkJ_j",
        "outputId": "135fa500-2013-4462-f49c-f234bdd7d6c3"
      },
      "source": [
        "# velocity measurements: u\n",
        "plt.figure(figsize=(7,3), dpi=100)\n",
        "self_plots.plot_measurements(zs[:,0])"
      ],
      "execution_count": 137,
      "outputs": [
        {
          "output_type": "execute_result",
          "data": {
            "text/plain": [
              "(<matplotlib.collections.PathCollection at 0x7f4fb23069d0>,)"
            ]
          },
          "metadata": {
            "tags": []
          },
          "execution_count": 137
        },
        {
          "output_type": "display_data",
          "data": {
            "image/png": "[encoded data removed]",
            "text/plain": [
              "<Figure size 700x300 with 1 Axes>"
            ]
          },
          "metadata": {
            "tags": [],
            "needs_background": "light"
          }
        }
      ]
    },
    {
      "cell_type": "code",
      "metadata": {
        "colab": {
          "base_uri": "https://localhost:8080/",
          "height": 310
        },
        "id": "-9PtS-FZlmUk",
        "outputId": "c282fc22-1607-46a0-f0ec-047d7145993a"
      },
      "source": [
        "# velocity measurements: v\n",
        "plt.figure(figsize=(7,3), dpi=100)\n",
        "self_plots.plot_measurements(zs[:,1])"
      ],
      "execution_count": 138,
      "outputs": [
        {
          "output_type": "execute_result",
          "data": {
            "text/plain": [
              "(<matplotlib.collections.PathCollection at 0x7f4fb2421910>,)"
            ]
          },
          "metadata": {
            "tags": []
          },
          "execution_count": 138
        },
        {
          "output_type": "display_data",
          "data": {
            "image/png": "[encoded data removed]",
            "text/plain": [
              "<Figure size 700x300 with 1 Axes>"
            ]
          },
          "metadata": {
            "tags": [],
            "needs_background": "light"
          }
        }
      ]
    },
    {
      "cell_type": "markdown",
      "metadata": {
        "id": "ENQIzsRJZKHQ"
      },
      "source": [
        "# References to explore\n",
        "\n",
        "https://www.youtube.com/watch?v=s_9InuQAx-g\n",
        "\n",
        "https://www.youtube.com/watch?v=Lgq4R-F8SX8\n",
        "\n",
        "https://www.youtube.com/watch?v=GmSXhmbv5Zg\n",
        "\n",
        "https://arxiv.org/ftp/arxiv/papers/1204/1204.0375.pdf\n",
        "\n",
        "http://www.bzarg.com/p/how-a-kalman-filter-works-in-pictures/\n",
        "\n",
        "https://towardsdatascience.com/kalman-filter-intuition-and-discrete-case-derivation-2188f789ec3a\n",
        "\n",
        "https://medium.com/self-driving-cars/all-about-kalman-filters-8924abe3aa88\n",
        "\n",
        "https://github.com/oseiskar/simdkalman\n",
        "\n",
        "https://en.wikipedia.org/wiki/Probability_density_function\n",
        "\n",
        "https://en.wikipedia.org/wiki/Central_limit_theorem\n",
        "\n",
        "https://en.wikipedia.org/wiki/68%E2%80%9395%E2%80%9399.7_rule\n",
        "\n",
        "https://en.wikipedia.org/wiki/Cumulative_distribution_function\n",
        "\n",
        "http://docs.scipy.org/doc/scipy/reference/tutorial/stats.html\n"
      ]
    }
  ]
}
